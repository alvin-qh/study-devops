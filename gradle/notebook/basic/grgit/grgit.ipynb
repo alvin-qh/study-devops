{
 "cells": [
  {
   "cell_type": "markdown",
   "metadata": {},
   "source": [
    "# Use grgit plugin\n",
    "\n",
    "> [Project home](http://ajoberstar.org/grgit/index.html)"
   ]
  },
  {
   "cell_type": "markdown",
   "metadata": {},
   "source": [
    "## 1. Initalize gradle"
   ]
  },
  {
   "cell_type": "code",
   "execution_count": null,
   "metadata": {},
   "outputs": [],
   "source": [
    "gradle wrapper"
   ]
  },
  {
   "cell_type": "markdown",
   "metadata": {},
   "source": [
    "## 2. Run tasks"
   ]
  },
  {
   "cell_type": "markdown",
   "metadata": {},
   "source": [
    "### 2.1. Two ways to use gradle plugin:\n",
    "\n",
    "1. Use `apply plugin` keywords (the old approach)\n",
    "\n",
    "    ```groovy\n",
    "    buildscript {\n",
    "        repositories {\n",
    "            jcenter()\n",
    "        /*\n",
    "            maven {\n",
    "                url 'https://plugins.gradle.org/m2/'  // for official plugins\n",
    "            }\n",
    "        */\n",
    "        }\n",
    "\n",
    "        dependencies {\n",
    "            classpath \"org.ajoberstar.grgit:grgit-gradle:4.0.1\"\n",
    "        }\n",
    "    }\n",
    "\n",
    "    apply plugin: 'org.ajoberstar.grgit'\n",
    "    ```\n",
    "    \n",
    "\n",
    "2. Use `plugins { ... }` structure (recommend)\n",
    "\n",
    "    ```groovy\n",
    "    plugins {\n",
    "        id 'org.ajoberstar.grgit' version '4.0.1'\n",
    "    }\n",
    "    ```"
   ]
  },
  {
   "cell_type": "markdown",
   "metadata": {},
   "source": [
    "### 2.2. Show git version and revision"
   ]
  },
  {
   "cell_type": "code",
   "execution_count": null,
   "metadata": {},
   "outputs": [],
   "source": [
    "./gradlew showGitVersion -q"
   ]
  }
 ],
 "metadata": {
  "kernelspec": {
   "display_name": "Bash",
   "language": "bash",
   "name": "bash"
  },
  "language_info": {
   "codemirror_mode": "shell",
   "file_extension": ".sh",
   "mimetype": "text/x-sh",
   "name": "bash"
  }
 },
 "nbformat": 4,
 "nbformat_minor": 4
}
