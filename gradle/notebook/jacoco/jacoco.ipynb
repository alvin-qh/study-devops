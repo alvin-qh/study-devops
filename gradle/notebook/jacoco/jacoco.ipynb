{
 "cells": [
  {
   "cell_type": "markdown",
   "metadata": {},
   "source": [
    "# Jacoco Plugin"
   ]
  },
  {
   "cell_type": "markdown",
   "metadata": {},
   "source": [
    "## 1. Initalize gradle"
   ]
  },
  {
   "cell_type": "code",
   "execution_count": null,
   "metadata": {},
   "outputs": [],
   "source": [
    "gradle wrapper"
   ]
  },
  {
   "cell_type": "markdown",
   "metadata": {},
   "source": [
    "## 2. Use jacoco plugin"
   ]
  },
  {
   "cell_type": "markdown",
   "metadata": {},
   "source": [
    "### 2.1. Install jacoco\n",
    "\n",
    "1. Accept gradle plugin\n",
    "\n",
    "    ```groovy\n",
    "    plugins {\n",
    "        id 'java'\n",
    "        id 'jacoco'\n",
    "    }\n",
    "\n",
    "    repositories {\n",
    "        maven {\n",
    "            url 'http://maven.aliyun.com/nexus/content/groups/public/'\n",
    "        }\n",
    "        jcenter()\n",
    "    }\n",
    "    ```\n",
    "    \n",
    "    \n",
    "2. Config jacoco\n",
    "\n",
    "    ```groovy\n",
    "    jacoco {\n",
    "        toolVersion = \"0.8.5\"\n",
    "        reportsDir = file(\"$buildDir/reports/jacoco\")\n",
    "    }\n",
    "    \n",
    "    jacocoTestReport {\n",
    "        reports {\n",
    "            xml.enabled true\n",
    "            html.enabled true\n",
    "            csv.enabled false\n",
    "            // html.destination file(\"${buildDir}/test-report\")\n",
    "        }\n",
    "        afterEvaluate {\n",
    "            classDirectories.from = files(classDirectories.files.collect {\n",
    "                fileTree(dir: it, exclude: ['resources/**'])\n",
    "            })\n",
    "        }\n",
    "    }\n",
    "    ```\n",
    "    \n",
    "    \n",
    "3. Calculate coverage thresholds\n",
    "    1. Read (jacoco test report).xml from `${buildDir}/reports/jacoco/test/jacocoTestReport.xml`\n",
    "    2. Read thresholds limit from `thresholds.xml`\n",
    "    3. Compare \"line converage\" and \"branch converage\" with limit"
   ]
  },
  {
   "cell_type": "markdown",
   "metadata": {},
   "source": [
    "### 2.2. Run task"
   ]
  },
  {
   "cell_type": "code",
   "execution_count": null,
   "metadata": {},
   "outputs": [],
   "source": [
    "./gradlew prebuild -q"
   ]
  },
  {
   "cell_type": "markdown",
   "metadata": {},
   "source": [
    "### 2.3. Check jacoco report\n",
    "\n",
    "Check [jacoco report](./build/reports/jacoco/test/html/index.html)"
   ]
  }
 ],
 "metadata": {
  "kernelspec": {
   "display_name": "Bash",
   "language": "bash",
   "name": "bash"
  },
  "language_info": {
   "codemirror_mode": "shell",
   "file_extension": ".sh",
   "mimetype": "text/x-sh",
   "name": "bash"
  }
 },
 "nbformat": 4,
 "nbformat_minor": 4
}
