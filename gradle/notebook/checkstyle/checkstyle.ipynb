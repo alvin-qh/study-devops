{
 "cells": [
  {
   "cell_type": "markdown",
   "metadata": {},
   "source": [
    "# Checkstyle"
   ]
  },
  {
   "cell_type": "markdown",
   "metadata": {},
   "source": [
    "## 1. Initialize gradle"
   ]
  },
  {
   "cell_type": "code",
   "execution_count": null,
   "metadata": {},
   "outputs": [],
   "source": [
    "gradle wrapper"
   ]
  },
  {
   "cell_type": "markdown",
   "metadata": {},
   "source": [
    "## 2. Use checkstyle plugin"
   ]
  },
  {
   "cell_type": "markdown",
   "metadata": {},
   "source": [
    "### 2.1. Setup plugin\n",
    "\n",
    "1. Define plugin ids\n",
    "\n",
    "    ```groovy\n",
    "    plugins {\n",
    "        id 'java'\n",
    "        id 'checkstyle'\n",
    "    }\n",
    "    ```\n",
    "    \n",
    "    \n",
    "2. Define checkstyle plugin repositories\n",
    "    \n",
    "    ```groovy\n",
    "    repositories {\n",
    "        maven {\n",
    "            url 'http://maven.aliyun.com/nexus/content/groups/public/'\n",
    "        }\n",
    "        jcenter()\n",
    "    }\n",
    "    ```\n",
    "   \n",
    "   \n",
    "3. Define checkstyle configure\n",
    "\n",
    "    ```groovy\n",
    "    checkstyle {\n",
    "        toolVersion = '8.29'\n",
    "        showViolations true\n",
    "    }\n",
    "\n",
    "    checkstyleMain {\n",
    "        outputs.upToDateWhen { false }\n",
    "        configFile = file(\"${project.projectDir}/config/checkstyle.xml\")\n",
    "    }\n",
    "\n",
    "    checkstyleTest {\n",
    "        outputs.upToDateWhen { false }\n",
    "        configFile = file(\"${project.projectDir}/config/checkstyle-test.xml\")\n",
    "    }\n",
    "    ```"
   ]
  },
  {
   "cell_type": "markdown",
   "metadata": {},
   "source": [
    "### 2.2. Define checkstyle task\n",
    "\n",
    "```groovy\n",
    "task checkstyle(dependsOn: [checkstyleMain, checkstyleTest]) {\n",
    "}\n",
    "```"
   ]
  },
  {
   "cell_type": "markdown",
   "metadata": {},
   "source": [
    "### 2.3. Run checkstyle tasks"
   ]
  },
  {
   "cell_type": "code",
   "execution_count": null,
   "metadata": {},
   "outputs": [],
   "source": [
    "./gradlew checkstyle -q"
   ]
  },
  {
   "cell_type": "code",
   "execution_count": null,
   "metadata": {},
   "outputs": [],
   "source": [
    "./gradlew checkstylemain -q"
   ]
  },
  {
   "cell_type": "code",
   "execution_count": null,
   "metadata": {},
   "outputs": [],
   "source": [
    "./gradlew checkstyletest -q"
   ]
  },
  {
   "cell_type": "markdown",
   "metadata": {},
   "source": [
    "### 2.4. If Checkstyle rule violations were found, find error result \n",
    "\n",
    "The checkstyle error result can be found here [Checkstyle report](build/reports/checkstyle/main.html)"
   ]
  }
 ],
 "metadata": {
  "kernelspec": {
   "display_name": "Bash",
   "language": "bash",
   "name": "bash"
  },
  "language_info": {
   "codemirror_mode": "shell",
   "file_extension": ".sh",
   "mimetype": "text/x-sh",
   "name": "bash"
  }
 },
 "nbformat": 4,
 "nbformat_minor": 4
}
