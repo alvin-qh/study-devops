{
 "cells": [
  {
   "cell_type": "code",
   "execution_count": null,
   "metadata": {},
   "outputs": [],
   "source": [
    "ansible vm -m ping"
   ]
  },
  {
   "cell_type": "code",
   "execution_count": null,
   "metadata": {},
   "outputs": [],
   "source": [
    "ansible vm -m ping --user=alvin --ask-become-pass"
   ]
  },
  {
   "cell_type": "code",
   "execution_count": null,
   "metadata": {},
   "outputs": [],
   "source": [
    "ansible vm -m ping -b --ask-become-pass"
   ]
  },
  {
   "cell_type": "code",
   "execution_count": null,
   "metadata": {},
   "outputs": [],
   "source": [
    "ansible vm -m ping -b --extra-vars \"ansible_become_pass=kkmouse\""
   ]
  },
  {
   "cell_type": "code",
   "execution_count": null,
   "metadata": {},
   "outputs": [],
   "source": [
    "ansible vm -m ping -b --become-method=su --extra-vars \"ansible_become_pass=root\""
   ]
  },
  {
   "cell_type": "code",
   "execution_count": null,
   "metadata": {},
   "outputs": [],
   "source": [
    "# 利用sudo方式执行ping命令\n",
    "expect -c \"\n",
    "set timeout -1;\n",
    "spawn ansible vm -m ping -b --ask-become-pass\n",
    "expect {\n",
    "    \"BECOME*password*\" {send \"kkmouse\"\\r}\n",
    "}\n",
    "expect eof;\""
   ]
  },
  {
   "cell_type": "code",
   "execution_count": null,
   "metadata": {},
   "outputs": [],
   "source": [
    "ansible vm -a \"echo Hello World\""
   ]
  },
  {
   "cell_type": "code",
   "execution_count": null,
   "metadata": {},
   "outputs": [],
   "source": [
    "ansible vm -b --extra-vars \"ansible_become_pass=kkmouse\" -a \"ifconfig\" "
   ]
  },
  {
   "cell_type": "code",
   "execution_count": null,
   "metadata": {},
   "outputs": [],
   "source": [
    "ansible vm -b --extra-vars \"ansible_become_pass=kkmouse\" -a \"touch /aaa warn=no\"\n",
    "ansible vm -a \"ls -alh /aaa\"\n",
    "\n",
    "ansible vm -b --extra-vars \"ansible_become_pass=kkmouse\" -a \"rm /aaa warn=no\"\n",
    "ansible vm -a \"ls -alh /aaa warn=no\""
   ]
  }
 ],
 "metadata": {
  "kernelspec": {
   "display_name": "Bash",
   "language": "bash",
   "name": "bash"
  },
  "language_info": {
   "codemirror_mode": "shell",
   "file_extension": ".sh",
   "mimetype": "text/x-sh",
   "name": "bash"
  }
 },
 "nbformat": 4,
 "nbformat_minor": 4
}
