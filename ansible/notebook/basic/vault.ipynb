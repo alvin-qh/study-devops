{
 "cells": [
  {
   "cell_type": "markdown",
   "metadata": {},
   "source": [
    "# Ansible Vault\n",
    "\n",
    "Use `ansible-vault` to manage become password"
   ]
  },
  {
   "cell_type": "markdown",
   "metadata": {},
   "source": [
    "## 1. Manage vault file"
   ]
  },
  {
   "cell_type": "markdown",
   "metadata": {},
   "source": [
    "### 1.1. Input password manually"
   ]
  },
  {
   "cell_type": "markdown",
   "metadata": {},
   "source": [
    "#### 1.1.1. Create encrypt file\n",
    "\n",
    "This command will do 3 things\n",
    "- Create encrypt file\n",
    "- Ask to input password to protect this encrypted file\n",
    "- Open editor to edit the secret content"
   ]
  },
  {
   "cell_type": "code",
   "execution_count": null,
   "metadata": {},
   "outputs": [],
   "source": [
    "ansible-vault create password.yml"
   ]
  },
  {
   "cell_type": "markdown",
   "metadata": {},
   "source": [
    "#### 1.1.2. Edit encrypt file\n",
    "\n",
    "This command will do 2 things\n",
    "- Ask to input password to protect this encrypted file\n",
    "- Open editor to input encrypt content"
   ]
  },
  {
   "cell_type": "code",
   "execution_count": null,
   "metadata": {},
   "outputs": [],
   "source": [
    "ansible-vault edit password.yml"
   ]
  },
  {
   "cell_type": "markdown",
   "metadata": {},
   "source": [
    "#### 1.1.3. Reset password of encrypt file\n",
    "\n",
    "This command will do 1 thing\n",
    "- Ask to input new password to protect this encrypted file"
   ]
  },
  {
   "cell_type": "code",
   "execution_count": null,
   "metadata": {},
   "outputs": [],
   "source": [
    "ansible-vault rekey password.yml"
   ]
  },
  {
   "cell_type": "markdown",
   "metadata": {},
   "source": [
    "#### 1.1.4. Encrypt exist file\n",
    "\n",
    "This command will do 2 things\n",
    "- Ask to input password to protect this encrypted file\n",
    "- Encrypt this file"
   ]
  },
  {
   "cell_type": "code",
   "execution_count": null,
   "metadata": {},
   "outputs": [],
   "source": [
    "ansible-vault encrypt password.yml"
   ]
  },
  {
   "cell_type": "markdown",
   "metadata": {},
   "source": [
    "#### 1.1.5. Decrypt the encrypted file\n",
    "\n",
    "This command will do 2 things\n",
    "- Ask to input password to protect this encrypted file\n",
    "- Decrypt this file"
   ]
  },
  {
   "cell_type": "code",
   "execution_count": null,
   "metadata": {},
   "outputs": [],
   "source": [
    "ansible-vault decrypt password.yml"
   ]
  },
  {
   "cell_type": "markdown",
   "metadata": {},
   "source": [
    "#### 1.1.6. View the encrypted file\n",
    "\n",
    "This command will do 2 things\n",
    "- Ask to input password to protect this encrypted file\n",
    "- Show the content of this encrypted file"
   ]
  },
  {
   "cell_type": "code",
   "execution_count": null,
   "metadata": {},
   "outputs": [],
   "source": [
    "ansible-vault view password.yml"
   ]
  },
  {
   "cell_type": "markdown",
   "metadata": {},
   "source": [
    "#### 1.1.7. Encrypt string\n",
    "\n",
    "This command will do 2 things\n",
    "- Ask to input password to protect this encrypted file\n",
    "- Show the encrypted content of source string "
   ]
  },
  {
   "cell_type": "code",
   "execution_count": null,
   "metadata": {},
   "outputs": [],
   "source": [
    "ansible-vault encrypt_string \"Hello\""
   ]
  },
  {
   "cell_type": "markdown",
   "metadata": {},
   "source": [
    "### 1.2. Use password in file\n",
    "\n",
    "- `--vault-id`: a text file that content is a password to protect encrypted file"
   ]
  },
  {
   "cell_type": "markdown",
   "metadata": {},
   "source": [
    "#### 1.2.1. Create encrypted file"
   ]
  },
  {
   "cell_type": "code",
   "execution_count": null,
   "metadata": {},
   "outputs": [],
   "source": [
    "ansible-vault create --vault-id=vault-id password.yml"
   ]
  },
  {
   "cell_type": "markdown",
   "metadata": {},
   "source": [
    "#### 1.2.2. Edit encrypted file"
   ]
  },
  {
   "cell_type": "code",
   "execution_count": null,
   "metadata": {},
   "outputs": [],
   "source": [
    "ansible-vault edit --vault-id=vault-id password.yml"
   ]
  },
  {
   "cell_type": "markdown",
   "metadata": {},
   "source": [
    "#### 1.2.3. Encrypt exist file"
   ]
  },
  {
   "cell_type": "code",
   "execution_count": null,
   "metadata": {},
   "outputs": [],
   "source": [
    "ansible-vault encrypt --vault-id=vault-id password.yml"
   ]
  },
  {
   "cell_type": "markdown",
   "metadata": {},
   "source": [
    "#### 1.2.4. Decrypt the encrypted file"
   ]
  },
  {
   "cell_type": "code",
   "execution_count": null,
   "metadata": {},
   "outputs": [],
   "source": [
    "ansible-vault decrypt --vault-id=vault-id password.yml"
   ]
  },
  {
   "cell_type": "markdown",
   "metadata": {},
   "source": [
    "#### 1.2.5. View the encrypted file"
   ]
  },
  {
   "cell_type": "code",
   "execution_count": null,
   "metadata": {},
   "outputs": [],
   "source": [
    "ansible-vault view --vault-id=vault-id password.yml"
   ]
  },
  {
   "cell_type": "markdown",
   "metadata": {},
   "source": [
    "#### 1.2.6. Encrypt string"
   ]
  },
  {
   "cell_type": "code",
   "execution_count": null,
   "metadata": {},
   "outputs": [],
   "source": [
    "ansible-vault encrypt_string --vault-id=vault-id \"Hello\""
   ]
  },
  {
   "cell_type": "markdown",
   "metadata": {},
   "source": [
    "### 1.3. More about `--vault-id` argument"
   ]
  },
  {
   "cell_type": "markdown",
   "metadata": {},
   "source": [
    "#### 1.3.1. Ask password manually\n",
    "\n",
    "- `--vault-id prompt`: ask to input password"
   ]
  },
  {
   "cell_type": "code",
   "execution_count": null,
   "metadata": {},
   "outputs": [],
   "source": [
    "ansible-vault view --vault-id=prompt password.yml"
   ]
  },
  {
   "cell_type": "markdown",
   "metadata": {},
   "source": [
    "#### 1.3.2. Add label to encrypted content"
   ]
  },
  {
   "cell_type": "code",
   "execution_count": null,
   "metadata": {},
   "outputs": [],
   "source": [
    "ansible-vault encrypt_string --vault-id=alvin@vault-id \"Hello\""
   ]
  },
  {
   "cell_type": "markdown",
   "metadata": {},
   "source": [
    "## 2. Use encrypted file"
   ]
  },
  {
   "cell_type": "markdown",
   "metadata": {},
   "source": [
    "### 2.1. As become password\n",
    "\n",
    "- Create `yml` file to save become password (sudo password), the content is:\n",
    "    ```yml\n",
    "    sudo_pass: \"kkmouse\"\n",
    "    ```\n",
    "    \n",
    "-  Encrypt the password file\n",
    "    ```bash\n",
    "    $ ansible-vault encrypt -vault-id=vault-id password.yml\n",
    "    ```\n",
    "    \n",
    "- Or create password file directly\n",
    "    ```bash\n",
    "    $ ansible-vault create --vault-id=vault-id password.yml\n",
    "    ```\n",
    "    \n",
    "- In `hosts/inventory` file, set remote server vars:\n",
    "    ```ini\n",
    "    [group_debian1_vault:vars]\n",
    "    ansible_become=yes\n",
    "    ansible_become_method=sudo \n",
    "    ansible_become_pass='{{ sudo_pass }}'\n",
    "    ```"
   ]
  },
  {
   "cell_type": "markdown",
   "metadata": {},
   "source": [
    "#### 2.1.1. Input encrpyted file password manually"
   ]
  },
  {
   "cell_type": "code",
   "execution_count": null,
   "metadata": {},
   "outputs": [],
   "source": [
    "ansible group_debian1_vault -b --ask-vault-pass --extra-vars \"@password.yml\" -a \"ifconfig\""
   ]
  },
  {
   "cell_type": "markdown",
   "metadata": {},
   "source": [
    "#### 2.1.2. Use vault-id"
   ]
  },
  {
   "cell_type": "code",
   "execution_count": 5,
   "metadata": {},
   "outputs": [
    {
     "name": "stdout",
     "output_type": "stream",
     "text": [
      "\u001b[0;33mdebian1_1 | CHANGED | rc=0 >>\u001b[0m\n",
      "\u001b[0;33mdocker0: flags=4099<UP,BROADCAST,MULTICAST>  mtu 1500\u001b[0m\n",
      "\u001b[0;33m        inet 172.17.0.1  netmask 255.255.0.0  broadcast 172.17.255.255\u001b[0m\n",
      "\u001b[0;33m        ether 02:42:58:43:86:84  txqueuelen 0  (Ethernet)\u001b[0m\n",
      "\u001b[0;33m        RX packets 0  bytes 0 (0.0 B)\u001b[0m\n",
      "\u001b[0;33m        RX errors 0  dropped 0  overruns 0  frame 0\u001b[0m\n",
      "\u001b[0;33m        TX packets 0  bytes 0 (0.0 B)\u001b[0m\n",
      "\u001b[0;33m        TX errors 0  dropped 0 overruns 0  carrier 0  collisions 0\u001b[0m\n",
      "\u001b[0;33m\u001b[0m\n",
      "\u001b[0;33meth0: flags=4163<UP,BROADCAST,RUNNING,MULTICAST>  mtu 1500\u001b[0m\n",
      "\u001b[0;33m        inet 172.22.163.173  netmask 255.255.240.0  broadcast 172.22.175.255\u001b[0m\n",
      "\u001b[0;33m        inet6 fe80::215:5dff:fe83:1f06  prefixlen 64  scopeid 0x20<link>\u001b[0m\n",
      "\u001b[0;33m        ether 00:15:5d:83:1f:06  txqueuelen 1000  (Ethernet)\u001b[0m\n",
      "\u001b[0;33m        RX packets 27  bytes 2884 (2.8 KiB)\u001b[0m\n",
      "\u001b[0;33m        RX errors 0  dropped 0  overruns 0  frame 0\u001b[0m\n",
      "\u001b[0;33m        TX packets 48  bytes 5606 (5.4 KiB)\u001b[0m\n",
      "\u001b[0;33m        TX errors 0  dropped 0 overruns 0  carrier 0  collisions 0\u001b[0m\n",
      "\u001b[0;33m\u001b[0m\n",
      "\u001b[0;33meth1: flags=4163<UP,BROADCAST,RUNNING,MULTICAST>  mtu 1500\u001b[0m\n",
      "\u001b[0;33m        inet 192.168.100.2  netmask 255.255.255.0  broadcast 192.168.100.255\u001b[0m\n",
      "\u001b[0;33m        inet6 fe80::215:5dff:fe83:1f0a  prefixlen 64  scopeid 0x20<link>\u001b[0m\n",
      "\u001b[0;33m        ether 00:15:5d:83:1f:0a  txqueuelen 1000  (Ethernet)\u001b[0m\n",
      "\u001b[0;33m        RX packets 710  bytes 606234 (592.0 KiB)\u001b[0m\n",
      "\u001b[0;33m        RX errors 0  dropped 0  overruns 0  frame 0\u001b[0m\n",
      "\u001b[0;33m        TX packets 277  bytes 40710 (39.7 KiB)\u001b[0m\n",
      "\u001b[0;33m        TX errors 0  dropped 0 overruns 0  carrier 0  collisions 0\u001b[0m\n",
      "\u001b[0;33m\u001b[0m\n",
      "\u001b[0;33mlo: flags=73<UP,LOOPBACK,RUNNING>  mtu 65536\u001b[0m\n",
      "\u001b[0;33m        inet 127.0.0.1  netmask 255.0.0.0\u001b[0m\n",
      "\u001b[0;33m        inet6 ::1  prefixlen 128  scopeid 0x10<host>\u001b[0m\n",
      "\u001b[0;33m        loop  txqueuelen 1000  (Local Loopback)\u001b[0m\n",
      "\u001b[0;33m        RX packets 2  bytes 78 (78.0 B)\u001b[0m\n",
      "\u001b[0;33m        RX errors 0  dropped 0  overruns 0  frame 0\u001b[0m\n",
      "\u001b[0;33m        TX packets 2  bytes 78 (78.0 B)\u001b[0m\n",
      "\u001b[0;33m        TX errors 0  dropped 0 overruns 0  carrier 0  collisions 0\u001b[0m\n"
     ]
    }
   ],
   "source": [
    "ansible group_debian1_vault -b --vault-id=vault-id --extra-vars \"@password.yml\" -a \"ifconfig\""
   ]
  }
 ],
 "metadata": {
  "kernelspec": {
   "display_name": "Bash",
   "language": "bash",
   "name": "bash"
  },
  "language_info": {
   "codemirror_mode": "shell",
   "file_extension": ".sh",
   "mimetype": "text/x-sh",
   "name": "bash"
  }
 },
 "nbformat": 4,
 "nbformat_minor": 4
}
