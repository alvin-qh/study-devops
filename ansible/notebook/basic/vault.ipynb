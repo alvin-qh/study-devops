{
 "cells": [
  {
   "cell_type": "markdown",
   "metadata": {},
   "source": [
    "# Ansible Vault\n",
    "\n",
    "Use `ansible-vault` to manage become password"
   ]
  },
  {
   "cell_type": "markdown",
   "metadata": {},
   "source": [
    "## 1. Manage vault file"
   ]
  },
  {
   "cell_type": "markdown",
   "metadata": {},
   "source": [
    "### 1.1. Input password manually"
   ]
  },
  {
   "cell_type": "markdown",
   "metadata": {},
   "source": [
    "#### 1.1.1. Create encrypt file\n",
    "\n",
    "This command will do 3 things\n",
    "- Create encrypt file\n",
    "- Ask to input password to protect this encrypted file\n",
    "- Open editor to edit the secret content"
   ]
  },
  {
   "cell_type": "code",
   "execution_count": null,
   "metadata": {},
   "outputs": [],
   "source": [
    "ansible-vault create password.yml"
   ]
  },
  {
   "cell_type": "markdown",
   "metadata": {},
   "source": [
    "#### 1.1.2. Edit encrypt file\n",
    "\n",
    "This command will do 2 things\n",
    "- Ask to input password to protect this encrypted file\n",
    "- Open editor to input encrypt content"
   ]
  },
  {
   "cell_type": "code",
   "execution_count": null,
   "metadata": {},
   "outputs": [],
   "source": [
    "ansible-vault edit password.yml"
   ]
  },
  {
   "cell_type": "markdown",
   "metadata": {},
   "source": [
    "#### 1.1.3. Reset password of encrypt file\n",
    "\n",
    "This command will do 1 thing\n",
    "- Ask to input new password to protect this encrypted file"
   ]
  },
  {
   "cell_type": "code",
   "execution_count": null,
   "metadata": {},
   "outputs": [],
   "source": [
    "ansible-vault rekey password.yml"
   ]
  },
  {
   "cell_type": "markdown",
   "metadata": {},
   "source": [
    "#### 1.1.4. Encrypt exist file\n",
    "\n",
    "This command will do 2 things\n",
    "- Ask to input password to protect this encrypted file\n",
    "- Encrypt this file"
   ]
  },
  {
   "cell_type": "code",
   "execution_count": null,
   "metadata": {},
   "outputs": [],
   "source": [
    "ansible-vault encrypt password.yml"
   ]
  },
  {
   "cell_type": "markdown",
   "metadata": {},
   "source": [
    "#### 1.1.5. Decrypt the encrypted file\n",
    "\n",
    "This command will do 2 things\n",
    "- Ask to input password to protect this encrypted file\n",
    "- Decrypt this file"
   ]
  },
  {
   "cell_type": "code",
   "execution_count": null,
   "metadata": {},
   "outputs": [],
   "source": [
    "ansible-vault decrypt password.yml"
   ]
  },
  {
   "cell_type": "markdown",
   "metadata": {},
   "source": [
    "#### 1.1.6. View the encrypted file\n",
    "\n",
    "This command will do 2 things\n",
    "- Ask to input password to protect this encrypted file\n",
    "- Show the content of this encrypted file"
   ]
  },
  {
   "cell_type": "code",
   "execution_count": null,
   "metadata": {},
   "outputs": [],
   "source": [
    "ansible-vault view password.yml"
   ]
  },
  {
   "cell_type": "markdown",
   "metadata": {},
   "source": [
    "#### 1.1.7. Encrypt string\n",
    "\n",
    "This command will do 2 things\n",
    "- Ask to input password to protect this encrypted file\n",
    "- Show the encrypted content of source string "
   ]
  },
  {
   "cell_type": "code",
   "execution_count": null,
   "metadata": {},
   "outputs": [],
   "source": [
    "ansible-vault encrypt_string \"Hello\""
   ]
  },
  {
   "cell_type": "markdown",
   "metadata": {},
   "source": [
    "### 1.2. Use password in file\n",
    "\n",
    "- `--vault-id`: a text file that content is a password to protect encrypted file"
   ]
  },
  {
   "cell_type": "markdown",
   "metadata": {},
   "source": [
    "#### 1.2.1. Create encrypted file"
   ]
  },
  {
   "cell_type": "code",
   "execution_count": null,
   "metadata": {},
   "outputs": [],
   "source": [
    "ansible-vault create --vault-id=vault-id password.yml"
   ]
  },
  {
   "cell_type": "markdown",
   "metadata": {},
   "source": [
    "#### 1.2.2. Edit encrypted file"
   ]
  },
  {
   "cell_type": "code",
   "execution_count": null,
   "metadata": {},
   "outputs": [],
   "source": [
    "ansible-vault edit --vault-id=vault-id password.yml"
   ]
  },
  {
   "cell_type": "markdown",
   "metadata": {},
   "source": [
    "#### 1.2.3. Encrypt exist file"
   ]
  },
  {
   "cell_type": "code",
   "execution_count": null,
   "metadata": {},
   "outputs": [],
   "source": [
    "ansible-vault encrypt --vault-id=vault-id password.yml"
   ]
  },
  {
   "cell_type": "markdown",
   "metadata": {},
   "source": [
    "#### 1.2.4. Decrypt the encrypted file"
   ]
  },
  {
   "cell_type": "code",
   "execution_count": null,
   "metadata": {},
   "outputs": [],
   "source": [
    "ansible-vault decrypt --vault-id=vault-id password.yml"
   ]
  },
  {
   "cell_type": "markdown",
   "metadata": {},
   "source": [
    "#### 1.2.5. View the encrypted file"
   ]
  },
  {
   "cell_type": "code",
   "execution_count": null,
   "metadata": {},
   "outputs": [],
   "source": [
    "ansible-vault view --vault-id=vault-id password.yml"
   ]
  },
  {
   "cell_type": "markdown",
   "metadata": {},
   "source": [
    "#### 1.2.6. Encrypt string"
   ]
  },
  {
   "cell_type": "code",
   "execution_count": null,
   "metadata": {},
   "outputs": [],
   "source": [
    "ansible-vault encrypt_string --vault-id vault-id \"Hello\""
   ]
  },
  {
   "cell_type": "markdown",
   "metadata": {},
   "source": [
    "### 1.3. More about `--vault-id` argument"
   ]
  },
  {
   "cell_type": "markdown",
   "metadata": {},
   "source": [
    "#### 1.3.1. Ask password manually\n",
    "\n",
    "- `--vault-id prompt`: ask to input password"
   ]
  },
  {
   "cell_type": "code",
   "execution_count": null,
   "metadata": {},
   "outputs": [],
   "source": [
    "ansible-vault view --vault-id prompt password.yml"
   ]
  },
  {
   "cell_type": "markdown",
   "metadata": {},
   "source": [
    "#### 1.3.2. Add label to encrypted content"
   ]
  },
  {
   "cell_type": "code",
   "execution_count": null,
   "metadata": {},
   "outputs": [],
   "source": [
    "ansible-vault encrypt_string --vault-id alvin@vault-id \"Hello\""
   ]
  },
  {
   "cell_type": "markdown",
   "metadata": {},
   "source": [
    "## 2. Use encrypted file"
   ]
  },
  {
   "cell_type": "markdown",
   "metadata": {},
   "source": [
    "### 2.1. As become password\n",
    "\n",
    "- Create `yml` file to save become password (sudo password), the content is:\n",
    "    ```yml\n",
    "    sudo_pass: \"kkmouse\"\n",
    "    ```\n",
    "    \n",
    "-  Encrypt the password file\n",
    "    ```bash\n",
    "    $ ansible-vault encrypt -vault-id=vault-id password.yml\n",
    "    ```\n",
    "    \n",
    "- Or create password file directly\n",
    "    ```bash\n",
    "    $ ansible-vault create --vault-id=vault-id password.yml\n",
    "    ```\n",
    "    \n",
    "- In `hosts/inventory` file, set remote server vars:\n",
    "    ```ini\n",
    "    [vm_vault:vars]\n",
    "    ansible_become=yes\n",
    "    ansible_become_method=sudo \n",
    "    ansible_become_pass='{{ sudo_pass }}'\n",
    "    ```"
   ]
  },
  {
   "cell_type": "markdown",
   "metadata": {},
   "source": [
    "#### 2.1.1. Input encrpyted file password manually"
   ]
  },
  {
   "cell_type": "code",
   "execution_count": null,
   "metadata": {},
   "outputs": [],
   "source": [
    "ansible vm_vault -b --ask-vault-pass --extra-vars \"@password.yml\" -a \"ifconfig\""
   ]
  },
  {
   "cell_type": "markdown",
   "metadata": {},
   "source": [
    "#### 2.1.2. Use vault-id"
   ]
  },
  {
   "cell_type": "code",
   "execution_count": null,
   "metadata": {},
   "outputs": [],
   "source": [
    "ansible vm_vault -b --vault-id=vault-id --extra-vars \"@password.yml\" -a \"ifconfig\""
   ]
  }
 ],
 "metadata": {
  "kernelspec": {
   "display_name": "Bash",
   "language": "bash",
   "name": "bash"
  },
  "language_info": {
   "codemirror_mode": "shell",
   "file_extension": ".sh",
   "mimetype": "text/x-sh",
   "name": "bash"
  }
 },
 "nbformat": 4,
 "nbformat_minor": 4
}
