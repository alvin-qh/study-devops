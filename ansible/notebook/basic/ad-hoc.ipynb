{
 "cells": [
  {
   "cell_type": "markdown",
   "metadata": {},
   "source": [
    "# Ad-Hoc"
   ]
  },
  {
   "cell_type": "markdown",
   "metadata": {},
   "source": [
    "## 1. Run Ad-Hoc"
   ]
  },
  {
   "cell_type": "markdown",
   "metadata": {},
   "source": [
    "### 1.1. List servers in group"
   ]
  },
  {
   "cell_type": "code",
   "execution_count": null,
   "metadata": {},
   "outputs": [],
   "source": [
    "ansible group_debian --list"
   ]
  },
  {
   "cell_type": "markdown",
   "metadata": {},
   "source": [
    "### 1.2. Work with module\n",
    "\n",
    "```bash\n",
    "$ ansible <group1, group2, ..., groupn | all> -m <module> -a \"command string\"\n",
    "```\n",
    "\n",
    "For example:\n",
    "```bash\n",
    "$ ansible all -m shell -a \"ps aux\"\n",
    "```"
   ]
  },
  {
   "cell_type": "markdown",
   "metadata": {},
   "source": [
    "## 2. Modules"
   ]
  },
  {
   "cell_type": "markdown",
   "metadata": {},
   "source": [
    "### 2.1. Ping"
   ]
  },
  {
   "cell_type": "code",
   "execution_count": null,
   "metadata": {},
   "outputs": [],
   "source": [
    "ansible group_debian1 -m ping"
   ]
  },
  {
   "cell_type": "markdown",
   "metadata": {},
   "source": [
    "### 1.2. Raw "
   ]
  },
  {
   "cell_type": "code",
   "execution_count": null,
   "metadata": {},
   "outputs": [],
   "source": [
    "ansible group_debian1 -m raw -a \"ps aux\""
   ]
  },
  {
   "cell_type": "markdown",
   "metadata": {},
   "source": [
    "### 1.3. Software repository"
   ]
  },
  {
   "cell_type": "markdown",
   "metadata": {},
   "source": [
    "#### 1.3.1. Yum"
   ]
  },
  {
   "cell_type": "markdown",
   "metadata": {},
   "source": [
    "#### 1.3.2. Apt "
   ]
  },
  {
   "cell_type": "markdown",
   "metadata": {},
   "source": [
    "### 1.4. Template\n",
    "\n",
    "- Arguments\n",
    "    - `src`: template file in current machine\n",
    "    - `dest`: target file in remote server\n",
    "    - `owner`: owner of target file\n",
    "    - `mode`: mode of target file, canbe numbers (like `0644`) or letters (like `u=rw,g=r,o=r`), see also `chmod` command\n",
    "    - `backup`: `ture` if create backup file if file content is changed"
   ]
  },
  {
   "cell_type": "code",
   "execution_count": null,
   "metadata": {},
   "outputs": [],
   "source": [
    "# Run template module\n",
    "ansible group_debian1 -m template \\\n",
    "    -a \"src='./test_template.txt' \\\n",
    "        dest='~/test_template.txt' \\\n",
    "        owner='alvin' \\\n",
    "        mode='u=rw,g=r,o=r' \\\n",
    "        backup='yes'\" \\\n",
    "    --extra-vars \"dynamic_name=Alvin\";\n",
    "\n",
    "# Show generated files on remote server\n",
    "ansible group_debian1 -m raw -a \"ls -al ~/test_template*\";\n",
    "\n",
    "# Show content of lastest generated file\n",
    "ansible group_debian1 -a \"cat ~/test_template.txt\";\n",
    "\n",
    "# remove all generated files on remote server\n",
    "ansible group_debian1 -m raw -a \"rm ~/test_template*\";"
   ]
  },
  {
   "cell_type": "markdown",
   "metadata": {},
   "source": [
    "### 1.5. Copy\n",
    "\n",
    "- `src`: The source file on local machine, can be file or directory\n",
    "- `content`: The content will be copied\n",
    "- `dest`: The remote server to copied file\n",
    "- `directory_mode`: The permission mode of remote directory\n",
    "- `force`: Always copy file to target even file exist when value is 'yes'\n",
    "- other arguments: all arguments for `file` module can use for this module, see `file` module"
   ]
  },
  {
   "cell_type": "markdown",
   "metadata": {},
   "source": [
    "#### 1.5.1. Copy file"
   ]
  },
  {
   "cell_type": "code",
   "execution_count": null,
   "metadata": {},
   "outputs": [],
   "source": [
    "# Use copy module\n",
    "ansible group_debian1 -m copy -a \"src='./ansible.cfg' dest='~/' force='yes'\";\n",
    "\n",
    "# Show copied file on remote server\n",
    "ansible group_debian1 -m raw -a \"ls -al ~/ansible.*\";\n",
    "\n",
    "# Remove copied files\n",
    "ansible group_debian1 -m raw -a \"rm ~/ansible.*\";"
   ]
  },
  {
   "cell_type": "markdown",
   "metadata": {},
   "source": [
    "#### 1.5.2. Copy files in folder"
   ]
  },
  {
   "cell_type": "code",
   "execution_count": null,
   "metadata": {},
   "outputs": [],
   "source": [
    "# Use copy module\n",
    "ansible group_debian1 -m copy -a \"src='./hosts/' dest='~/target' force='yes'\";\n",
    "\n",
    "# Show copied folders\n",
    "ansible group_debian1 -m raw -a \"ls -al ~/target\";\n",
    "\n",
    "# Remove copied files\n",
    "ansible group_debian1 -m raw -a \"rm -rf ~/target*\";"
   ]
  },
  {
   "cell_type": "markdown",
   "metadata": {},
   "source": [
    "#### 1.5.3. Copy folder"
   ]
  },
  {
   "cell_type": "code",
   "execution_count": null,
   "metadata": {},
   "outputs": [],
   "source": [
    "# Use copy module\n",
    "ansible group_debian1 -m copy -a \"src='./hosts' dest='~/target' force='yes'\";\n",
    "\n",
    "# Show copied folders\n",
    "ansible group_debian1 -m raw -a \"ls -al ~/target\";\n",
    "ansible group_debian1 -m raw -a \"ls -al ~/target/hosts\";\n",
    "\n",
    "# Remove copied files\n",
    "ansible group_debian1 -m raw -a \"rm -rf ~/target*\";"
   ]
  },
  {
   "cell_type": "markdown",
   "metadata": {},
   "source": [
    "#### 1.5.4. Copy content"
   ]
  },
  {
   "cell_type": "code",
   "execution_count": null,
   "metadata": {},
   "outputs": [],
   "source": [
    "# Use copy module\n",
    "ansible group_debian1 -m copy -a \"content='Hello World' dest='~/target.txt' force='yes'\";\n",
    "\n",
    "# Show copied folders\n",
    "ansible group_debian1 -m raw -a \"cat ~/target.txt\";\n",
    "\n",
    "# Remove copied files\n",
    "ansible group_debian1 -m raw -a \"rm target.txt\";"
   ]
  },
  {
   "cell_type": "markdown",
   "metadata": {},
   "source": [
    "### 1.6. User and Group"
   ]
  },
  {
   "cell_type": "markdown",
   "metadata": {},
   "source": [
    "#### 1.6.1. User\n",
    "\n",
    "- `home`: Home folder of user\n",
    "- `groups`: Groups of user\n",
    "- `uid`: Id of user\n",
    "- `password`: Password of user, password cannot be plaintext, it need hashed by sha512\n",
    "- `name`: User name\n",
    "- `createhome`：`yes` if create home directory\n",
    "- `system`: `yes` if a system user\n",
    "- `remove`: `yes` if delete user home directory when `state = absent`\n",
    "- `state`: Create (`statue=present`) or remove (`state=absent`) user\n",
    "- `shell`: Which shell for this user\n",
    "- `generate_ssh_key`: `yes` if create ssh key for this user\n",
    "- `ssh_key_bits`: Length (bits) of ssh key\n",
    "- `ssh_key_passphrase`: Phrase password of ssh key\n",
    "- `ssh_key_file`: File name to save ssh key\n",
    "- `ssh_key_type`: Type of ssh key"
   ]
  },
  {
   "cell_type": "code",
   "execution_count": null,
   "metadata": {},
   "outputs": [],
   "source": [
    "# Add and modify user: if user exist, then modify this user by new arguments\n",
    "ansible group_debian1_vault -m user \\\n",
    "    -b --vault-id=vault-id --extra-vars \"@password.yml\"  \\\n",
    "    -a \"name='test' \\\n",
    "        password='{{ 'test'|password_hash('sha512') }}' \\\n",
    "        append='yes' \\\n",
    "        createhome='yes' \\\n",
    "        shell='/bin/bash' \\\n",
    "        generate_ssh_key='yes' \\\n",
    "        groups='sudo,root' \\\n",
    "        state='present'\";\n",
    "        \n",
    "# Show user and password (hashed) on remote server\n",
    "ansible group_debian1_vault -m raw \\\n",
    "    -b --vault-id=vault-id --extra-vars \"@password.yml\"  \\\n",
    "    -a \"cat /etc/shadow\" | grep 'test';\n",
    "    \n",
    "# Allow sudo for new user\n",
    "ansible group_debian1_vault -m copy \\\n",
    "    -b --vault-id=vault-id --extra-vars \"@password.yml\"  \\\n",
    "    -a \"content='alvin ALL=(ALL:ALL) ALL\\n' \\\n",
    "        dest='/etc/sudoers.d/alvin' \\\n",
    "        force='yes' \\\n",
    "        mode='u=r,g=r'\";\n",
    "        \n",
    "# Copy ssh public key from current machine to remove server\n",
    "ansible group_debian1_vault -m authorized_key \\\n",
    "    -b --vault-id=vault-id --extra-vars \"@password.yml\"  \\\n",
    "    -a \"user='test' \\\n",
    "        key='{{ lookup('file', '~/.ssh/id_rsa.pub') }}' \\\n",
    "        state='present'\";\n",
    "        \n",
    "# Delete user\n",
    "ansible group_debian1_vault -m user \\\n",
    "    -b --vault-id=vault-id --extra-vars \"@password.yml\"  \\\n",
    "    -a \"user='test' \\\n",
    "        remove='yes' \\\n",
    "        state='absent'\";"
   ]
  },
  {
   "cell_type": "markdown",
   "metadata": {},
   "source": [
    "#### 1.6.2. Group\n",
    "\n",
    "- `gid`：Id of group\n",
    "- `name`: Name of group\n",
    "- `state`: State of group, `present` or `absent`\n",
    "- `system`: `yes` if a system group"
   ]
  },
  {
   "cell_type": "code",
   "execution_count": null,
   "metadata": {},
   "outputs": [],
   "source": [
    "# Create a group\n",
    "ansible group_debian1_vault -m group \\\n",
    "    -b --vault-id=vault-id --extra-vars \"@password.yml\"  \\\n",
    "    -a \"name='test' \\\n",
    "        state='present'\";\n",
    "        \n",
    "# Remove a group\n",
    "ansible group_debian1_vault -m group \\\n",
    "    -b --vault-id=vault-id --extra-vars \"@password.yml\"  \\\n",
    "    -a \"name='test' \\\n",
    "        state='absent'\";"
   ]
  },
  {
   "cell_type": "markdown",
   "metadata": {},
   "source": [
    "### 1.7. Service\n",
    "\n",
    "- `arguments`: Arguments for commandline\n",
    "- `enabled`: `yes` if start server when user login\n",
    "- `name`: Name of service\n",
    "- `runlevel`: Level of service\n",
    "- `sleep`: If `state` is `restarted`, the delay seconds between `stop` and `start`\n",
    "- `state`: State of service, value can be: `started`, `stopped`, `restarted`, `reloaded`"
   ]
  },
  {
   "cell_type": "code",
   "execution_count": null,
   "metadata": {},
   "outputs": [],
   "source": [
    "# Stop service\n",
    "ansible group_debian1_vault -m service \\\n",
    "    -b --vault-id=vault-id --extra-vars \"@password.yml\"  \\\n",
    "    -a \"name='sshd' state='stopped'\";\n",
    "    \n",
    "# Start service\n",
    "ansible group_debian1_vault -m service \\\n",
    "    -b --vault-id=vault-id --extra-vars \"@password.yml\"  \\\n",
    "    -a \"name='sshd' state='started'\";"
   ]
  },
  {
   "cell_type": "markdown",
   "metadata": {},
   "source": [
    "### 1.8. Get url\n",
    "\n",
    "- `sha256sum`: sha256 checksum\n",
    "- `timeout`: Timeout second of download\n",
    "- `url`: Url of download file\n",
    "- `url_password`, `url_username`: Password and username of download request\n",
    "- `dest`: Filename to save download file, if just path name, use default filename\n",
    "- `headers`: Headers of download request, use `key1: value1, key2: value2` form"
   ]
  },
  {
   "cell_type": "code",
   "execution_count": null,
   "metadata": {},
   "outputs": [],
   "source": [
    "# Download file\n",
    "ansible group_debian1_vault -m get_url \\\n",
    "    -b --vault-id=vault-id --extra-vars \"@password.yml\"  \\\n",
    "    -a \"url='https://www.learningcontainer.com/download/sample-text-file/?wpdmdl=1669&refresh=5f918bb1200901603374001' \\\n",
    "        dest='~/test.txt' \\\n",
    "        timeout=20\";\n",
    "        \n",
    "# Validate download file\n",
    "ansible group_debian1_vault -m raw \\\n",
    "    -b --vault-id=vault-id --extra-vars \"@password.yml\"  \\\n",
    "    -a \"cat ~/test.txt\";\n",
    "    \n",
    "# Delete downloaded file\n",
    "ansible group_debian1_vault -m raw \\\n",
    "    -b --vault-id=vault-id --extra-vars \"@password.yml\"  \\\n",
    "    -a \"rm ~/test.txt\";"
   ]
  },
  {
   "cell_type": "markdown",
   "metadata": {},
   "source": [
    "### 1.9. Fetch\n",
    "\n",
    "- `src`: Source file on remote service\n",
    "- `dest`: Backup folder on local machine\n",
    "- `flat`: `yes` if do not create full pathname like `<machine>/<full path>/<file>`, only transfer file to dest folder"
   ]
  },
  {
   "cell_type": "code",
   "execution_count": null,
   "metadata": {},
   "outputs": [],
   "source": [
    "# Fetch remote file\n",
    "ansible group_debian1_vault -m fetch \\\n",
    "    -b --vault-id=vault-id --extra-vars \"@password.yml\"  \\\n",
    "    -a \"src='/home/alvin/.bashrc' dest='~/ansible_backup/' flat='yes'\";\n",
    "    \n",
    "# Show backup file content\n",
    "cat ~/ansible_backup/.bashrc;\n",
    "\n",
    "# Delete fetched file\n",
    "rm -rf ~/ansible_backup;"
   ]
  },
  {
   "cell_type": "markdown",
   "metadata": {},
   "source": [
    "### 1.10. File\n",
    "\n",
    "- `force`: `yes` means whatever file link exist, if symbol is exist, delete old symbol and create new one\n",
    "- `group`: Define the group of file or directory\n",
    "- `mode`: Define permissions of file or directory\n",
    "- `owner`: Define the owner of file or directory\n",
    "- `path`: Fullpath of file or directory to operate\n",
    "- `recurse`: Properties of recursive Settings files, valid only for directories\n",
    "- `src`: Source file to linked, only if `state=link`\n",
    "- `dest`: Target symbol of linked file, only if `state=link`\n",
    "- `state`: \n",
    "    - `directory`: Create if directory not exist\n",
    "    - `file`: Default value, do operate to file, but never create new file\n",
    "    - `link`: Create soft file link\n",
    "    - `hard`: Create hard file link\n",
    "    - `touch`: Create new empty file, if file exist, update create time\n",
    "    - `absent`: Delete file, unlink file or delete directory"
   ]
  },
  {
   "cell_type": "markdown",
   "metadata": {},
   "source": [
    "#### 1.10.1. Create file"
   ]
  },
  {
   "cell_type": "code",
   "execution_count": null,
   "metadata": {},
   "outputs": [],
   "source": [
    "# Create empty file (use touch)\n",
    "ansible group_debian1_vault -m file \\\n",
    "    -b --vault-id=vault-id --extra-vars \"@password.yml\"  \\\n",
    "    -a \"path='/home/alvin/test.txt' \\\n",
    "        mode='0644' \\\n",
    "        state='touch'\";\n",
    "        \n",
    "# Check created file\n",
    "ansible group_debian1_vault -m raw \\\n",
    "    -b --vault-id=vault-id --extra-vars \"@password.yml\"  \\\n",
    "    -a \"ls -al /home/alvin/test.*\";\n",
    "    \n",
    "# Touch file again, and modify file mode\n",
    "ansible group_debian1_vault -m file \\\n",
    "    -b --vault-id=vault-id --extra-vars \"@password.yml\"  \\\n",
    "    -a \"path='/home/alvin/test.txt' \\\n",
    "        mode='u+rw,g-gw,o-gw' \\\n",
    "        state='touch'\";\n",
    "        \n",
    "# Check created file again\n",
    "ansible group_debian1_vault -m raw \\\n",
    "    -b --vault-id=vault-id --extra-vars \"@password.yml\"  \\\n",
    "    -a \"ls -al /home/alvin/test.*\";     \n",
    "\n",
    "# Modify access time and modification time\n",
    "ansible group_debian1_vault -m file \\\n",
    "    -b --vault-id=vault-id --extra-vars \"@password.yml\"  \\\n",
    "    -a \"path='/home/alvin/test.txt' \\\n",
    "        modification_time='now' \\\n",
    "        access_time='202010010000.0'\";\n",
    "\n",
    "# Check created file again\n",
    "ansible group_debian1_vault -m raw \\\n",
    "    -b --vault-id=vault-id --extra-vars \"@password.yml\"  \\\n",
    "    -a \"ls -al /home/alvin/test.*\";"
   ]
  },
  {
   "cell_type": "markdown",
   "metadata": {},
   "source": [
    "#### 1.10.2. Change file mode"
   ]
  },
  {
   "cell_type": "code",
   "execution_count": null,
   "metadata": {},
   "outputs": [],
   "source": [
    "# Change file owner, group and permission\n",
    "ansible group_debian1_vault -m file \\\n",
    "    -b --vault-id=vault-id --extra-vars \"@password.yml\"  \\\n",
    "    -a \"path='/home/alvin/test.txt' \\\n",
    "        owner='alvin' \\\n",
    "        group='alvin' \\\n",
    "        mode='0644'\";\n",
    "        \n",
    "# Check file\n",
    "ansible group_debian1_vault -m raw \\\n",
    "    -b --vault-id=vault-id --extra-vars \"@password.yml\"  \\\n",
    "    -a \"ls -al /home/alvin/test.*\";"
   ]
  },
  {
   "cell_type": "markdown",
   "metadata": {},
   "source": [
    "#### 1.10.3. Make file link"
   ]
  },
  {
   "cell_type": "code",
   "execution_count": null,
   "metadata": {},
   "outputs": [],
   "source": [
    "# Create soft file link\n",
    "ansible group_debian1_vault -m file \\\n",
    "    -b --vault-id=vault-id --extra-vars \"@password.yml\"  \\\n",
    "    -a \"src='/home/alvin/test.txt' \\\n",
    "        dest='/home/alvin/test-slink.txt' \\\n",
    "        owner='alvin' \\\n",
    "        group='alvin' \\\n",
    "        state='link'\";\n",
    "\n",
    "# Create hard file link\n",
    "ansible group_debian1_vault -m file \\\n",
    "    -b --vault-id=vault-id --extra-vars \"@password.yml\"  \\\n",
    "    -a \"src='/home/alvin/test.txt' \\\n",
    "        dest='/home/alvin/test-hlink.txt' \\\n",
    "        owner='alvin' \\\n",
    "        group='alvin' \\\n",
    "        state='link'\";\n",
    "\n",
    "# Set source file content\n",
    "ansible group_debian1_vault -m copy \\\n",
    "    -b --vault-id=vault-id --extra-vars \"@password.yml\"  \\\n",
    "    -a \"content='Hello World' \\\n",
    "        dest='/home/alvin/test.txt' \\\n",
    "        force='yes'\";\n",
    "\n",
    "# Check file link\n",
    "ansible group_debian1_vault -m raw \\\n",
    "    -b --vault-id=vault-id --extra-vars \"@password.yml\"  \\\n",
    "    -a \"cat /home/alvin/test-slink.txt\";\n",
    "    \n",
    "# Check file link\n",
    "ansible group_debian1_vault -m raw \\\n",
    "    -b --vault-id=vault-id --extra-vars \"@password.yml\"  \\\n",
    "    -a \"cat /home/alvin/test-hlink.txt\";"
   ]
  },
  {
   "cell_type": "markdown",
   "metadata": {},
   "source": [
    "#### 1.10.4. Create and delete directory"
   ]
  },
  {
   "cell_type": "code",
   "execution_count": null,
   "metadata": {},
   "outputs": [],
   "source": [
    "# Create directory\n",
    "ansible group_debian1_vault -m file \\\n",
    "    -b --vault-id=vault-id --extra-vars \"@password.yml\"  \\\n",
    "    -a \"path='/home/alvin/test_dir' \\\n",
    "        mode='0755' \\\n",
    "        state='directory'\";\n",
    "        \n",
    "# Delete directory\n",
    "ansible group_debian1_vault -m file \\\n",
    "    -b --vault-id=vault-id --extra-vars \"@password.yml\"  \\\n",
    "    -a \"path='/home/alvin/test_dir' \\\n",
    "        state='absent'\";"
   ]
  },
  {
   "cell_type": "markdown",
   "metadata": {},
   "source": [
    "#### 1.10.5. Delete file"
   ]
  },
  {
   "cell_type": "code",
   "execution_count": null,
   "metadata": {},
   "outputs": [],
   "source": [
    "ansible group_debian1_vault -m file \\\n",
    "    -b --vault-id=vault-id --extra-vars \"@password.yml\"  \\\n",
    "    -a \"path='/home/alvin/test.txt' \\\n",
    "        state='absent'\";\n",
    "\n",
    "ansible group_debian1_vault -m file \\\n",
    "    -b --vault-id=vault-id --extra-vars \"@password.yml\"  \\\n",
    "    -a \"path='/home/alvin/test-slink.txt' \\\n",
    "        state='absent'\"\n",
    "\n",
    "ansible group_debian1_vault -m file \\\n",
    "    -b --vault-id=vault-id --extra-vars \"@password.yml\"  \\\n",
    "    -a \"path='/home/alvin/test-hlink.txt' \\\n",
    "        state='absent'\""
   ]
  }
 ],
 "metadata": {
  "kernelspec": {
   "display_name": "Bash",
   "language": "bash",
   "name": "bash"
  },
  "language_info": {
   "codemirror_mode": "shell",
   "file_extension": ".sh",
   "mimetype": "text/x-sh",
   "name": "bash"
  }
 },
 "nbformat": 4,
 "nbformat_minor": 4
}
