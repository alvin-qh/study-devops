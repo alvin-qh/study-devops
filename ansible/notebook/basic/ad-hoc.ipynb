{
 "cells": [
  {
   "cell_type": "markdown",
   "metadata": {},
   "source": [
    "# Ad-Hoc"
   ]
  },
  {
   "cell_type": "markdown",
   "metadata": {},
   "source": [
    "## 1. Run Ad-Hoc"
   ]
  },
  {
   "cell_type": "markdown",
   "metadata": {},
   "source": [
    "### 1.1. List servers in group"
   ]
  },
  {
   "cell_type": "code",
   "execution_count": null,
   "metadata": {},
   "outputs": [],
   "source": [
    "ansible group_debian --list"
   ]
  },
  {
   "cell_type": "markdown",
   "metadata": {},
   "source": [
    "### 1.2. Work with module\n",
    "\n",
    "```bash\n",
    "$ ansible <group1, group2, ..., groupn | all> -m <module> -a \"command string\"\n",
    "```\n",
    "\n",
    "For example:\n",
    "```bash\n",
    "$ ansible all -m shell -a \"ps aux\"\n",
    "```"
   ]
  },
  {
   "cell_type": "markdown",
   "metadata": {},
   "source": [
    "## 2. Modules"
   ]
  },
  {
   "cell_type": "markdown",
   "metadata": {},
   "source": [
    "### 2.1. Ping\n",
    "\n",
    "> https://docs.ansible.com/ansible/latest/collections/ansible/builtin/ping_module.html"
   ]
  },
  {
   "cell_type": "code",
   "execution_count": null,
   "metadata": {},
   "outputs": [],
   "source": [
    "ansible group_debian1 -m ping"
   ]
  },
  {
   "cell_type": "markdown",
   "metadata": {},
   "source": [
    "### 1.2. Run remote command"
   ]
  },
  {
   "cell_type": "markdown",
   "metadata": {},
   "source": [
    "#### 1.2.1. Raw\n",
    "\n",
    "> https://docs.ansible.com/ansible/latest/collections/ansible/builtin/raw_module.html"
   ]
  },
  {
   "cell_type": "code",
   "execution_count": null,
   "metadata": {},
   "outputs": [],
   "source": [
    "ansible group_debian1 -m raw -a \"ps aux\""
   ]
  },
  {
   "cell_type": "markdown",
   "metadata": {},
   "source": [
    "### 1.3. Software repository"
   ]
  },
  {
   "cell_type": "markdown",
   "metadata": {},
   "source": [
    "#### 1.3.1. Yum\n",
    "\n",
    "> https://docs.ansible.com/ansible/latest/collections/ansible/builtin/yum_module.html\n",
    "> https://docs.ansible.com/ansible/latest/collections/ansible/builtin/yum_repository_module.html\n",
    "\n",
    "- **`yum` module**\n",
    "    - `allow_downgrade`: `no`(default) or `yes`. Specify if the named package and version is allowed to downgrade a maybe already installed higher version of that package. Note that setting allow_downgrade=True can make this module behave in a non-idempotent way. The task could end up with a set of packages that does not match the complete list of specified packages to install (because dependencies between the downgraded package and others can cause changes to the packages which were in the earlier transaction)\n",
    "    - `autoremove`: `no`(default) or `yes`. If `yes`, removes all \"leaf\" packages from the system that were originally installed as dependencies of user-installed packages but which are no longer required by any such package. Should be used alone or when state is absent\n",
    "    - `bugfix`：Default: \"no\". If set to yes, and `state=latest` then only installs updates that have been marked bugfix related.\n",
    "    - `conf_file`: The remote yum configuration file to use for the transaction\n",
    "    - `disable_excludes`: Disable the excludes defined in YUM config files. If set to `all`, disables all excludes. If set to `main`, disable excludes defined in `[main]` in yum.conf. If set to `repoid`, disable excludes defined for given repo id\n",
    "    - `disable_gpg_check`: `no`(default) or `yes`. Whether to disable the GPG checking of signatures of packages being installed. Has an effect only if state is present or latest\n",
    "    - `disable_plugin`: Plugin name to disable for the install/update operation. The disabled plugins will not persist beyond the transaction\n",
    "    - `disablerepo`: Repoid of repositories to disable for the install/update operation. These repos will not persist beyond the transaction. When specifying multiple repos, separate them with a \",\"\n",
    "    - `download_dir`: Specifies an alternate directory to store packages. Has an effect only if download_only is specified\n",
    "    - `download_only`: `no`(default) or `yes`. Only download the packages, do not install them\n",
    "    - `enable_plugin`: Plugin name to enable for the install/update operation. The enabled plugin will not persist beyond the transaction\n",
    "    - `enablerepo`: Repoid of repositories to enable for the install/update operation. These repos will not persist beyond the transaction. When specifying multiple repos, separate them with a \",\"\n",
    "    - `exclude`: Package name(s) to exclude when `state=present`, or `latest`\n",
    "    - `install_repoquery`: `no` or `yes`(default). If repoquery is not available, install `yum-utils`. If the system is registered to RHN or an RHN Satellite, repoquery allows for querying all channels assigned to the system. It is also required to use the 'list' parameter. \n",
    "    > - NOTE: This will run and be logged as a separate yum transation which takes place before any other installation or removal\n",
    "    > - NOTE: This will use the system's default enabled repositories without regard for disablerepo/enablerepo given to the module\n",
    "    - `install_weak_deps`: `no` or `yes`(default). Will also install all packages linked by a weak dependency relation\n",
    "    > - NOTE: This feature requires yum >= 4 (RHEL/CentOS 8+)\n",
    "    - `installroot`: Default: \"/\". Specifies an alternative installroot, relative to which all packages will be installed\n",
    "    - `list`: Package name to run the equivalent of yum list `--show-duplicates <package>` against. In addition to listing packages, use can also list the following: installed, updates, available and repos. This parameter is mutually exclusive with name\n",
    "    - `lock_timeout`: Default: 30. Amount of time to wait for the yum lockfile to be freed\n",
    "    - `name`: A package name or package specifier with version, like `name-1.0`. If a previous version is specified, the task also needs to turn allow_downgrade on. See the allow_downgrade documentation for caveats with downgrading packages. When using `state=latest`, this can be '*' which means `run yum -y update`. You can also pass a url or a local path to a rpm file (using state=present). To operate on several packages this can accept a comma separated string of packages or (as of 2.0) a list of packages.\n",
    "    > - aliases: `pkg`\n",
    "    - `releasever`: Specifies an alternative release from which all packages will be installed\n",
    "    - `security`: `no`(default) or `yes`. If set to yes, and state=latest then only installs updates that have been marked security related\n",
    "    - `skip_broken`: `no`(default) or `yes`. Skip packages with broken dependencies(devsolve) and are causing problems\n",
    "    - `state`: `absent`, `installed`, `latest`, `present` or `removed`. Whether to install (`present` or `installed`, `latest`), or remove (`absent` or `removed`) a package. `present` and `installed` will simply ensure that a desired package is installed. `latest` will update the specified package if it's not of the latest available version. `absent` and `removed `will remove the specified package. Default is `None`, however in effect the default action is present unless the `autoremove` option is enabled for this module, then `absent` is inferred.\n",
    "    - `update_cache`: `no`(default) or `yes`. Force yum to check if cache is out of date and redownload if needed. Has an effect only if state is present or latest\n",
    "    > - aliases: `expire-cache`\n",
    "    - `update_only`: `no`(default) or `yes`. When using latest, only update installed packages. Do not install packages. Has an effect only if state is latest\n",
    "    - `use_backend`: `auto`(default), `yum`, `yum4` or `dnf`. This module supports yum (as it always has), this is known as yum3/YUM3/yum-deprecated by upstream yum developers. As of Ansible 2.7+, this module also supports YUM4, which is the \"new yum\" and it has an dnf backend. By default, this module will select the backend based on the `ansible_pkg_mgr` fact.\n",
    "    - `validate_certs`: `no` or `yes`(default). This only applies if using a https url as the source of the rpm. e.g. for localinstall. If set to no, the SSL certificates will not be validated. This should only set to no used on personally controlled sites using self-signed certificates as it avoids verifying the source site. Prior to 2.1 the code worked as if this was set to yes.\n",
    "\n",
    "\n",
    "- **`yum_repository` module**\n",
    "    - `async`: `no` or `yes`(default). If set to `yes` Yum will download packages and metadata from this repo in parallel, if possible.\n",
    "    - `attributes`: The attributes the resulting file or directory should have. To get supported flags look at the man page for `chattr` on the target system. This string should contain the attributes in the same order as the one displayed by `lsattr`. The `=` operator is assumed as default, otherwise `+` or `-` operators need to be included in the string\n",
    "    > - aliases: `attr`\n",
    "    - `bandwidth`: Default: `0`. Maximum available network bandwidth in bytes/second. Used with the `throttle` option. If `throttle` is a percentage and bandwidth is `0` then bandwidth throttling will be disabled. If `throttle` is expressed as a data rate (bytes/sec) then this option is ignored. Default is `0` (no bandwidth throttling)\n",
    "    - `baseurl`: URL to the directory where the yum repository's 'repodata' directory lives. It can also be a list of multiple URLs. This, the metalink or mirrorlist parameters are required if state is set to `present`\n",
    "    - `cost`: Default: `1000`. Relative cost of accessing this repository. Useful for weighing one repo's packages as greater/less than any other\n",
    "    - `deltarpm_metadata_percentage`: Default: `100`. When the relative size of deltarpm metadata vs pkgs is larger than this, deltarpm metadata is not downloaded from the repo. Note that you can give values over `100`, so `200` means that the metadata is required to be half the size of the packages. Use `0` to turn off this check, and always download metadata.\n",
    "    - `deltarpm_percentage`: Default: `75`. When the relative size of delta vs pkg is larger than this, delta is not used. Use 0 to turn off delta rpm processing. Local repositories (with `file://baseurl`) have delta rpms turned off by default.\n",
    "    - `description`: A human readable string describing the repository. This option corresponds to the \"name\" property in the repo file. This parameter is only required if state is set to `present`\n",
    "    - `enabled`: `no` or `yes`(default). This tells yum whether or not use this repository\n",
    "    - `enablegroups`: `no` or `yes`(default). Determines whether yum will allow the use of package groups for this repository\n",
    "    - `exclude`: List of packages to exclude from updates or installs. This should be a space separated list. Shell globs using wildcards (eg. `*` and `?`) are allowed. The list can also be a regular YAML array\n",
    "    - `failovermethod`: `roundrobin`(default) or `priority`. `roundrobin` randomly selects a URL out of the list of URLs to start with and proceeds through each of them as it encounters a failure contacting the host. `priority` starts from the first baseurl listed and reads through them sequentially\n",
    "    - `file`: File name without the `.repo` extension to save the repo in. Defaults to the value of `name`\n",
    "    - `gpgcakey`: A URL pointing to the ASCII-armored CA key file for the repository\n",
    "    - `gpgcheck`: `no` or `yes`. Tells yum whether or not it should perform a GPG signature check on packages. No default setting. If the value is not set, the system setting from `/etc/yum.conf` or system default of `no` will be used\n",
    "    - `gpgkey`: A URL pointing to the ASCII-armored GPG key file for the repository. It can also be a list of multiple URLs.\n",
    "    - `group`: Name of the group that should own the file/directory, as would be fed to chown\n",
    "    - `http_caching`: `all`(default), `packages` or `none`. Determines how upstream HTTP caches are instructed to handle any HTTP downloads that Yum does. `all` means that all HTTP downloads should be cached. `packages` means that only RPM package downloads should be cached (but not repository metadata downloads). `none` means that no HTTP downloads should be cached\n",
    "    - `include`: Include external configuration file. Both, local path and URL is supported. Configuration file will be inserted at the position of the `include=line`. Included files may contain further include lines. Yum will abort with an error if an inclusion loop is detected\n",
    "    - `includepkgs`: List of packages you want to only use from a repository. This should be a space separated list. Shell globs using wildcards (eg. `*` and `?`) are allowed. Substitution variables (e.g. `$releasever`) are honored here. The list can also be a regular YAML array\n",
    "    - `ip_resolve`: `4`, `6`, `IPv4`, `IPv6` or `whatever`(default). Determines how yum resolves host names\n",
    "        - `4` or `IPv4`: resolve to IPv4 addresses only\n",
    "        - `6` or `IPv6`: resolve to IPv6 addresses only\n",
    "    - `keepalive`: `no`(default) or `yes`. This tells yum whether or not HTTP/1.1 keepalive should be used with this repository. This can improve transfer speeds by using one connection when downloading multiple files from a repository\n",
    "    - `keepcache`: `0` or `1`(default). Either `1` or `0`. Determines whether or not yum keeps the cache of headers and packages after successful installation\n",
    "    - `metadata_expire`: Default: `21600`. Time (in seconds) after which the metadata will expire. Default value is 6 hours\n",
    "    - `metadata_expire_filter`: `never`, `read-only:past`, `read-only:present`(default) or `read-only:future`. Filter the metadata_expire time, allowing a trade of speed for accuracy if a command doesn't require it. Each yum command can specify that it requires a certain level of timeliness quality from the remote repos. from \"I'm about to install/upgrade, so this better be current\" to \"Anything that's available is good enough\"\n",
    "        - `never`: Nothing is filtered, always obey metadata_expire\n",
    "        - `read-only:past`: Commands that only care about past information are filtered from metadata expiring. Eg. `yum history info` (if history needs to lookup anything about a previous transaction, then by definition the remote package was available in the past)\n",
    "        - `read-only:present`: Commands that are balanced between past and future. Eg. `yum list yum`\n",
    "        - `read-only:future`: Commands that are likely to result in running other commands which will require the latest metadata. Eg.` yum check-update`\n",
    "        > - Note that this option does not override \"yum clean expire-cache\".\n",
    "    - `metalink`: Specifies a URL to a metalink file for the `repomd.xml`, a list of mirrors for the entire repository are generated by converting the mirrors for the repomd.xml file to a baseurl. This, the `baseurl` or `mirrorlist` parameters are required if state is set to present\n",
    "    - `mirrorlist`: Specifies a URL to a file containing a list of baseurls. This, the `baseurl` or `metalink` parameters are required if state is set to `present`\n",
    "    - `mirrorlist_expire`: Default: `21600`. Time (in seconds) after which the mirrorlist locally cached will expire. Default value is 6 hours\n",
    "    - `mode`: The permissions the resulting file or directory should have. For those used to `/usr/bin/chmod` remember that modes are actually octal numbers. You must either add a leading zero so that Ansible's YAML parser knows it is an octal number (like `0644` or `01777`) or quote it (like `'644'` or `'1777'`) so Ansible receives a string and can do its own conversion from string into number. Giving Ansible a number without following one of these rules will end up with a decimal number which will have unexpected results. As of Ansible 1.8, the mode may be specified as a symbolic mode (for example, `u+rwx` or `u=rw,g=r,o=r`) \n",
    "    - `name`: Unique repository ID. This option builds the section name of the repository in the repo file. This parameter is only required if state is set to present or absent\n",
    "    - `owner`: Name of the user that should own the file/directory, as would be fed to chown\n",
    "    - `password`: Password to use with the username for basic authentication\n",
    "    - `priority`: Default: `99`. Enforce ordered protection of repositories. The value is an integer from `1` to `99`. This option only works if the YUM Priorities plugin is installed\n",
    "    - `protect`: `no`(default) or `yes`. Protect packages from updates from other repositories\n",
    "    - `proxy`: URL to the proxy server that yum should use. Set to `_none_` to disable the global proxy setting\n",
    "    - `proxy_password`: Password for this proxy\n",
    "    - `proxy_username`: Username to use for proxy\n",
    "    - `repo_gpgcheck`: `no`(default) or `yes`. This tells yum whether or not it should perform a GPG signature check on the repodata from this repository\n",
    "    - `reposdir`: Default: `\"/etc/yum.repos.d\"`. Directory where the `.repo` files will be stored\n",
    "    - `retries`: Default: 10. Set the number of times any attempt to retrieve a file should retry before returning an error. Setting this to 0 makes yum try forever\n",
    "    - `s3_enabled`: `no`(default) or `yes`. Enables support for S3 repositories. This option only works if the YUM S3 plugin is installed\n",
    "    - `selevel`: The level part of the SELinux file context. This is the MLS/MCS attribute, sometimes known as the range. When set to `_default`, it will use the level portion of the policy if available\n",
    "    - `serole`: The role part of the SELinux file context. When set to `_default`, it will use the role portion of the policy if available\n",
    "    - `setype`: The type part of the SELinux file context. When set to `_default`, it will use the type portion of the policy if available\n",
    "    - `seuser`: The user part of the SELinux file context. By default it uses the system policy, where applicable. When set to `_default`, it will use the user portion of the policy if available.\n",
    "    - `skip_if_unavailable`: no(default) or `yes`. If set to `yes` yum will continue running if this repository cannot be contacted for any reason. This should be set carefully as all repos are consulted for any given command\n",
    "    - `ssl_check_cert_permissions`: `no`(default) or `yes`. Whether yum should check the permissions on the paths for the certificates on the repository (both remote and local). If we can't read any of the files then yum will force `skip_if_unavailable` to be yes. This is most useful for non-root processes which use yum on repos that have client cert files which are readable only by root\n",
    "    - `sslcacert`: Path to the directory containing the databases of the certificate authorities yum should use to verify SSL certificates\n",
    "    > - aliases: `ca_cert`\n",
    "    - `sslclientcert`: Path to the SSL client certificate yum should use to connect to `repos/remote` sites\n",
    "    > - aliases: `client_cert`\n",
    "    - `sslclientkey`: Path to the SSL client key yum should use to connect to `repos/remote` sites\n",
    "    > - aliases: `client_key`\n",
    "    - `sslverify`: `no` or `yes`(default). Defines whether yum should verify SSL `certificates/hosts` at all\n",
    "    > - aliases: `validate_certs`\n",
    "    - `state`: `absent` or `present`(default). State of the repo file\n",
    "    - `throttle`: Enable bandwidth throttling for downloads. This option can be expressed as a absolute data rate in bytes/sec. An SI prefix (k, M or G) may be appended to the bandwidth value\n",
    "    - `timeout`: Default: `30`. Number of seconds to wait for a connection before timing out\n",
    "    - `ui_repoid_vars`: Default: `\"releasever basearch\"`. When a repository id is displayed, append these yum variables to the string if they are used in the baseurl/etc. Variables are appended in the order listed (and found)\n",
    "    - `unsafe_writes`: `no`(default) or `yes`. Influence when to use atomic operation to prevent data corruption or inconsistent reads from the target file. By default this module uses atomic operations to prevent data corruption or inconsistent reads from the target files, but sometimes systems are configured or just broken in ways that prevent this. One example is docker mounted files, which cannot be updated atomically from inside the container and can only be written in an unsafe manner.\n",
    "This option allows Ansible to fall back to unsafe methods of updating files when atomic operations fail (however, it doesn't force Ansible to perform unsafe writes).\n",
    "    > - **IMPORTANT!** Unsafe writes are subject to race conditions and can lead to data corruption\n",
    "    - `username`: Username to use for basic authentication to a repo or really any url"
   ]
  },
  {
   "cell_type": "markdown",
   "metadata": {},
   "source": [
    "##### 1.2.1.1. Install software"
   ]
  },
  {
   "cell_type": "code",
   "execution_count": null,
   "metadata": {},
   "outputs": [],
   "source": [
    "# do apt update and install 'htop' package\n",
    "ansible group_centos1_vault -m yum \\\n",
    "    -b --vault-id=vault-id --extra-vars \"@password.yml\"  \\\n",
    "    -a \"name='epel-release' \\\n",
    "        state='present' \\\n",
    "        use_backend='dnf'\";\n",
    "        \n",
    "ansible group_centos1_vault -m yum \\\n",
    "    -b --vault-id=vault-id --extra-vars \"@password.yml\"  \\\n",
    "    -a \"name='htop' \\\n",
    "        state='present' \\\n",
    "        update_cache='yes' \\\n",
    "        use_backend='dnf'\";\n",
    "\n",
    "# Remove htop\n",
    "ansible group_centos1_vault -m yum \\\n",
    "    -b --vault-id=vault-id --extra-vars \"@password.yml\"  \\\n",
    "    -a \"name='htop' \\\n",
    "        state='absent' \\\n",
    "        use_backend='dnf'\";"
   ]
  },
  {
   "cell_type": "markdown",
   "metadata": {},
   "source": [
    "##### 1.3.1.2. Set yum repository and install software"
   ]
  },
  {
   "cell_type": "code",
   "execution_count": null,
   "metadata": {},
   "outputs": [],
   "source": [
    "# uninstall legacy docker package\n",
    "ansible group_centos1_vault -m yum \\\n",
    "    -b --vault-id=vault-id --extra-vars \"@password.yml\"  \\\n",
    "    -e \"{ names: ['docker', 'docker-engine', 'docker.io'] }\" \\\n",
    "    -a \"name={{ names }} \\\n",
    "        autoremove='yes' \\\n",
    "        state='absent' \\\n",
    "        use_backend='dnf'\";\n",
    "        \n",
    "# Install dependencies\n",
    "ansible group_centos1_vault -m yum \\\n",
    "    -b --vault-id=vault-id --extra-vars \"@password.yml\"  \\\n",
    "    -e \"{ names: ['yum-utils', 'device-mapper-persistent-data', 'lvm2'] }\" \\\n",
    "    -a \"name={{ names }} \\\n",
    "        state='present' \\\n",
    "        use_backend='dnf'\";\n",
    "        \n",
    "# Download 'repo' file from source site\n",
    "ansible group_centos1_vault -m get_url \\\n",
    "    -b --vault-id=vault-id --extra-vars \"@password.yml\"  \\\n",
    "    -a \"url='https://download.docker.com/linux/centos/docker-ce.repo' \\\n",
    "        dest='/etc/yum.repos.d/docker-ce.repo' \\\n",
    "        timeout=20\";\n",
    "        \n",
    "# Replace source site to mirror site\n",
    "ansible group_centos1_vault -m raw \\\n",
    "    -b --vault-id=vault-id --extra-vars \"@password.yml\"  \\\n",
    "    -a \"sed -i 's+download.docker.com+mirrors.tuna.tsinghua.edu.cn/docker-ce+' /etc/yum.repos.d/docker-ce.repo\";\n",
    "    \n",
    "# do yum makecache and install docker-ce package\n",
    "ansible group_centos1_vault -m yum \\\n",
    "    -b --vault-id=vault-id --extra-vars \"@password.yml\"  \\\n",
    "    -a \"name='docker-ce' \\\n",
    "        update_cache='yes' \\\n",
    "        state='present' \\\n",
    "        use_backend='dnf'\";"
   ]
  },
  {
   "cell_type": "markdown",
   "metadata": {},
   "source": [
    "#### 1.3.2. Apt\n",
    "\n",
    "> https://docs.ansible.com/ansible/latest/collections/ansible/builtin/apt_module.html\n",
    "> https://docs.ansible.com/ansible/latest/collections/ansible/builtin/apt_key_module.html\n",
    "> https://docs.ansible.com/ansible/latest/collections/ansible/builtin/apt_repository_module.html\n",
    "\n",
    "\n",
    "- **`apt` module:**\n",
    "    - `allow_unauthenticated`: `no`(default) or `yes`. Ignore if packages cannot be authenticated. This is useful for bootstrapping environments that manage their own `apt-key` setup. allow_unauthenticated is only supported with `state`: `install`/`present`\n",
    "    - `autoclean`: `no`(default) or `yes`. If yes, cleans the local repository of retrieved package files that can no longer be downloaded\n",
    "    - `autoremove`: `no`(default) or `yes`. If yes, remove unused dependency packages for all module states except build-dep. It can also be used as the only option. Previous to version 2.4, autoclean was also an alias for autoremove, now it is its own separate command. See documentation for further information\n",
    "    - `cache_valid_time`: Default: 0. Update the apt cache if its older than the cache_valid_time. This option is set in seconds. As of Ansible 2.4, if explicitly set, this sets `update_cache=yes`\n",
    "    - `deb`: Path to a `.deb` package on the remote machine. If :// in the path, ansible will attempt to download deb before installing. Requires the xz-utils package to extract the control file of the deb package to install\n",
    "    - `default_release`: Corresponds to the `-t` option for `apt` and sets pin priorities\n",
    "    - `dpkg_options`: Default: \"force-confdef,force-confold\". Add dpkg options to apt command. Defaults to `-o \"Dpkg::Options::=--force-confdef\" -o \"Dpkg::Options::=--force-confold\"`. Options should be supplied as comma separated list\n",
    "    - `force`: `no`(default) or  `yes`. Corresponds to the `--force-yes` to `apt-get` and implies `allow_unauthenticated: yes`. This option will disable checking both the packages' signatures and the certificates of the web servers they are downloaded from. This option *is not* the equivalent of passing the -f flag to apt-get on the command line. **This is a destructive operation with the potential to destroy your system, and it should almost never be used.** Please also see man apt-get for more information\n",
    "    - `force_apt_get`: `no`(default) or `yes`. Force usage of `apt-get` instead of aptitude\n",
    "    - `install_recommends`: `no` or `yes`. Corresponds to the --no-install-recommends option for apt. yes installs recommended packages. no does not install recommended packages. By default, Ansible will use the same defaults as the operating system. Suggested packages are never installed. *aliases: `install-recommends`*\n",
    "    - `name`: A list of package names, like foo, or package specifier with version, like `foo=1.0`. Name wildcards (fnmatch) like apt  and version wildcards like foo=1.0 are also supported. *aliases: `package`, `pkg`*\n",
    "    - `only_upgrade`: `no`(default) or `yes`. Only upgrade a package if it is already installed\n",
    "    - `policy_rc_d`: Force the exit code of `/usr/sbin/policy-rc.d`. For example, if `policy_rc_d=101` the installed package will not trigger a service start. If `/usr/sbin/policy-rc.d` already exist, it is backed up and restored after the package installation. If `null`, the `/usr/sbin/policy-rc.d` isn't created/changed\n",
    "    - `purge`: `no`(default) or `yes`. Will force purging of configuration files if the module state is set to absent\n",
    "    - `state`: `absent`, `build-dep`, `latest`, `present`(default) or `fixed`. Indicates the desired package state. `latest` ensures that the latest version is installed. `build-dep` ensures the package build dependencies are installed. `fixed` attempt to correct a system with broken dependencies in place\n",
    "    - `update_cache`: `no`(default) or `yes`. Run the equivalent of `apt-get` update before the operation. Can be run as part of the package installation or as a separate step\n",
    "    - `update_cache_retries`: Default: 5. Amount of retries if the cache update fails. Also see `update_cache_retry_max_delay`\n",
    "    - `update_cache_retry_max_delay`: Default: 12. Use an exponential backoff delay for each retry (see `update_cache_retries`) up to this max delay in seconds.\n",
    "    - `upgrade`: `dist`, `full`, `no`(default), `safe` or `yes`. If `yes` or `safe`, performs an aptitude safe-upgrade. If `full`, performs an aptitude full-upgrade. If `dist`, performs an `apt-get dist-upgrade`. Note: This does not upgrade a specific package, use `state=latest` for that\n",
    "\n",
    "\n",
    "- **`apt_key` module:**\n",
    "    - `data`: The keyfile contents to add to the keyring\n",
    "    - `file`: The path to a keyfile on the remote server to add to the keyring\n",
    "    - `id`: The identifier of the key. Including this allows check mode to correctly report the changed state. If specifying a subkey's id be aware that apt-key does not understand how to remove keys via a subkey id. Specify the primary key's id instead. This parameter is required when state is set to absent.\n",
    "    - `keyring`: The full path to specific keyring file in `/etc/apt/trusted.gpg.d/`\n",
    "    - `keyserver`: The keyserver to retrieve key from\n",
    "    - `state`: `absent` or `present`(default), Ensures that the key is present (added) or absent (revoked)\n",
    "    - `url`: The URL to retrieve key from\n",
    "    - `validate_certs`: `no` or `yes`. If no, SSL certificates for the target url will not be validated. This should only be used on personally controlled sites using self-signed certificates\n",
    "\n",
    "\n",
    "- **`apt_repository` module:**\n",
    "    - `codename`: Override the distribution codename to use for PPA repositories. Should usually only be set when working with a PPA on a non-Ubuntu target (e.g. Debian or Mint)\n",
    "    - `filename`: Sets the name of the source list file in `sources.list.d`. Defaults to a file name based on the repository source url. The `.list` extension will be automatically added.\n",
    "    - `mode`: Default: \"0644\". The octal mode for newly created files in `sources.list.d`\n",
    "    - `repo`: A source string for the repository\n",
    "    - `state`: `absent`(remove) or `present`(default, add), A source string state\n",
    "    - `update_cache`: `no` or `yes`(default), Run the equivalent of apt-get update when a change occurs. Cache updates are run after making changes\n",
    "    - `update_cache_retries`: Default: 5, Amount of retries if the cache update fails. Also see `update_cache_retry_max_delay`\n",
    "    - `update_cache_retry_max_delay`: Default: 12, Use an exponential backoff delay for each retry (see `update_cache_retries`) up to this max delay in seconds\n",
    "    - `validate_certs`: `no` or `yes`(default), If `no`, SSL certificates for the target repo will not be validated. This should only be used on personally controlled sites using self-signed certificates."
   ]
  },
  {
   "cell_type": "markdown",
   "metadata": {},
   "source": [
    "##### 1.3.2.1. Install software"
   ]
  },
  {
   "cell_type": "code",
   "execution_count": null,
   "metadata": {},
   "outputs": [],
   "source": [
    "# do apt update and install 'htop' package\n",
    "ansible group_debian1_vault -m apt \\\n",
    "    -b --vault-id=vault-id --extra-vars \"@password.yml\"  \\\n",
    "    -a \"name='htop' \\\n",
    "        install_recommends=true \\\n",
    "        state='present' \\\n",
    "        update_cache='yes'\";\n",
    "        \n",
    "# uninstall 'htop' package\n",
    "ansible group_debian1_vault -m apt \\\n",
    "    -b --vault-id=vault-id --extra-vars \"@password.yml\"  \\\n",
    "    -a \"name='htop' \\\n",
    "        purge='yes' \\\n",
    "        state='absent'\";"
   ]
  },
  {
   "cell_type": "markdown",
   "metadata": {},
   "source": [
    "##### 1.3.2.2. Set apt repository and install software"
   ]
  },
  {
   "cell_type": "code",
   "execution_count": null,
   "metadata": {},
   "outputs": [],
   "source": [
    "# uninstall legacy docker package\n",
    "ansible group_debian1_vault -m apt \\\n",
    "    -b --vault-id=vault-id --extra-vars \"@password.yml\"  \\\n",
    "    -e \"{ names: ['docker', 'docker-engine', 'docker.io'] }\" \\\n",
    "    -a \"name={{ names }} \\\n",
    "        purge='yes' \\\n",
    "        autoremove='yes' \\\n",
    "        autoclean='yes' \\\n",
    "        state='absent'\";\n",
    "\n",
    "# Add GPG public-key\n",
    "ansible group_debian1_vault -m apt_key \\\n",
    "    -b --vault-id=vault-id --extra-vars \"@password.yml\"  \\\n",
    "    -a \"url='https://download.docker.com/linux/debian/gpg' \\\n",
    "        state='present'\";\n",
    "\n",
    "# Add apt repository\n",
    "ansible group_debian1_vault -m apt_repository \\\n",
    "    -b --vault-id=vault-id --extra-vars \"@password.yml\"  \\\n",
    "    -a \"repo='deb [arch=amd64] https://mirrors.tuna.tsinghua.edu.cn/docker-ce/linux/debian buster stable' \\\n",
    "        state='present'\";\n",
    "        \n",
    "# do apt update and install 'docker' package\n",
    "ansible group_debian1_vault -m apt \\\n",
    "    -b --vault-id=vault-id --extra-vars \"@password.yml\"  \\\n",
    "    -a \"name='docker-ce' \\\n",
    "        install_recommends=true \\\n",
    "        state='present' \\\n",
    "        update_cache='yes'\";"
   ]
  },
  {
   "cell_type": "markdown",
   "metadata": {},
   "source": [
    "##### 1.3.2.3. Misc"
   ]
  },
  {
   "cell_type": "code",
   "execution_count": null,
   "metadata": {},
   "outputs": [],
   "source": [
    "# apt update\n",
    "ansible group_debian1_vault -m apt \\\n",
    "    -b --vault-id=vault-id --extra-vars \"@password.yml\"  \\\n",
    "    -a \"update_cache='yes'\";\n",
    "\n",
    "# apt upgrade\n",
    "ansible group_debian1_vault -m apt \\\n",
    "    -b --vault-id=vault-id --extra-vars \"@password.yml\"  \\\n",
    "    -a \"name='*' \\\n",
    "        state='latest'\";\n",
    "\n",
    "# apt autoremove \n",
    "ansible group_debian1_vault -m apt \\\n",
    "    -b --vault-id=vault-id --extra-vars \"@password.yml\"  \\\n",
    "    -a \"autoremove='yes' \\\n",
    "        purge='yes'\";"
   ]
  },
  {
   "cell_type": "markdown",
   "metadata": {},
   "source": [
    "### 1.4. Template\n",
    "\n",
    "- Arguments\n",
    "    - `src`: template file in current machine\n",
    "    - `dest`: target file in remote server\n",
    "    - `owner`: owner of target file\n",
    "    - `mode`: mode of target file, canbe numbers (like `0644`) or letters (like `u=rw,g=r,o=r`), see also `chmod` command\n",
    "    - `backup`: `ture` if create backup file if file content is changed"
   ]
  },
  {
   "cell_type": "code",
   "execution_count": null,
   "metadata": {},
   "outputs": [],
   "source": [
    "# Run template module\n",
    "ansible group_debian1 -m template \\\n",
    "    -a \"src='./test_template.txt' \\\n",
    "        dest='~/test_template.txt' \\\n",
    "        owner='alvin' \\\n",
    "        mode='u=rw,g=r,o=r' \\\n",
    "        backup='yes'\" \\\n",
    "    --extra-vars \"dynamic_name=Alvin\";\n",
    "\n",
    "# Show generated files on remote server\n",
    "ansible group_debian1 -m raw -a \"ls -al ~/test_template*\";\n",
    "\n",
    "# Show content of lastest generated file\n",
    "ansible group_debian1 -a \"cat ~/test_template.txt\";\n",
    "\n",
    "# remove all generated files on remote server\n",
    "ansible group_debian1 -m raw -a \"rm ~/test_template*\";"
   ]
  },
  {
   "cell_type": "markdown",
   "metadata": {},
   "source": [
    "### 1.5. Copy\n",
    "\n",
    "- `src`: The source file on local machine, can be file or directory\n",
    "- `content`: The content will be copied\n",
    "- `dest`: The remote server to copied file\n",
    "- `directory_mode`: The permission mode of remote directory\n",
    "- `force`: Always copy file to target even file exist when value is 'yes'\n",
    "- other arguments: all arguments for `file` module can use for this module, see `file` module"
   ]
  },
  {
   "cell_type": "markdown",
   "metadata": {},
   "source": [
    "#### 1.5.1. Copy file"
   ]
  },
  {
   "cell_type": "code",
   "execution_count": null,
   "metadata": {},
   "outputs": [],
   "source": [
    "# Use copy module\n",
    "ansible group_debian1 -m copy -a \"src='./ansible.cfg' dest='~/' force='yes'\";\n",
    "\n",
    "# Show copied file on remote server\n",
    "ansible group_debian1 -m raw -a \"ls -al ~/ansible.*\";\n",
    "\n",
    "# Remove copied files\n",
    "ansible group_debian1 -m raw -a \"rm ~/ansible.*\";"
   ]
  },
  {
   "cell_type": "markdown",
   "metadata": {},
   "source": [
    "#### 1.5.2. Copy files in folder"
   ]
  },
  {
   "cell_type": "code",
   "execution_count": null,
   "metadata": {},
   "outputs": [],
   "source": [
    "# Use copy module\n",
    "ansible group_debian1 -m copy -a \"src='./hosts/' dest='~/target' force='yes'\";\n",
    "\n",
    "# Show copied folders\n",
    "ansible group_debian1 -m raw -a \"ls -al ~/target\";\n",
    "\n",
    "# Remove copied files\n",
    "ansible group_debian1 -m raw -a \"rm -rf ~/target*\";"
   ]
  },
  {
   "cell_type": "markdown",
   "metadata": {},
   "source": [
    "#### 1.5.3. Copy folder"
   ]
  },
  {
   "cell_type": "code",
   "execution_count": null,
   "metadata": {},
   "outputs": [],
   "source": [
    "# Use copy module\n",
    "ansible group_debian1 -m copy -a \"src='./hosts' dest='~/target' force='yes'\";\n",
    "\n",
    "# Show copied folders\n",
    "ansible group_debian1 -m raw -a \"ls -al ~/target\";\n",
    "ansible group_debian1 -m raw -a \"ls -al ~/target/hosts\";\n",
    "\n",
    "# Remove copied files\n",
    "ansible group_debian1 -m raw -a \"rm -rf ~/target*\";"
   ]
  },
  {
   "cell_type": "markdown",
   "metadata": {},
   "source": [
    "#### 1.5.4. Copy content"
   ]
  },
  {
   "cell_type": "code",
   "execution_count": null,
   "metadata": {},
   "outputs": [],
   "source": [
    "# Use copy module\n",
    "ansible group_debian1 -m copy -a \"content='Hello World' dest='~/target.txt' force='yes'\";\n",
    "\n",
    "# Show copied folders\n",
    "ansible group_debian1 -m raw -a \"cat ~/target.txt\";\n",
    "\n",
    "# Remove copied files\n",
    "ansible group_debian1 -m raw -a \"rm target.txt\";"
   ]
  },
  {
   "cell_type": "markdown",
   "metadata": {},
   "source": [
    "### 1.6. User and Group"
   ]
  },
  {
   "cell_type": "markdown",
   "metadata": {},
   "source": [
    "#### 1.6.1. User\n",
    "\n",
    "- `home`: Home folder of user\n",
    "- `groups`: Groups of user\n",
    "- `uid`: Id of user\n",
    "- `password`: Password of user, password cannot be plaintext, it need hashed by sha512\n",
    "- `name`: User name\n",
    "- `createhome`：`yes` if create home directory\n",
    "- `system`: `yes` if a system user\n",
    "- `remove`: `yes` if delete user home directory when `state = absent`\n",
    "- `state`: Create (`statue=present`) or remove (`state=absent`) user\n",
    "- `shell`: Which shell for this user\n",
    "- `generate_ssh_key`: `yes` if create ssh key for this user\n",
    "- `ssh_key_bits`: Length (bits) of ssh key\n",
    "- `ssh_key_passphrase`: Phrase password of ssh key\n",
    "- `ssh_key_file`: File name to save ssh key\n",
    "- `ssh_key_type`: Type of ssh key"
   ]
  },
  {
   "cell_type": "code",
   "execution_count": null,
   "metadata": {},
   "outputs": [],
   "source": [
    "# Add and modify user: if user exist, then modify this user by new arguments\n",
    "ansible group_debian1_vault -m user \\\n",
    "    -b --vault-id=vault-id --extra-vars \"@password.yml\"  \\\n",
    "    -a \"name='test' \\\n",
    "        password='{{ 'test'|password_hash('sha512') }}' \\\n",
    "        append='yes' \\\n",
    "        createhome='yes' \\\n",
    "        shell='/bin/bash' \\\n",
    "        generate_ssh_key='yes' \\\n",
    "        groups='sudo,root' \\\n",
    "        state='present'\";\n",
    "        \n",
    "# Show user and password (hashed) on remote server\n",
    "ansible group_debian1_vault -m raw \\\n",
    "    -b --vault-id=vault-id --extra-vars \"@password.yml\"  \\\n",
    "    -a \"cat /etc/shadow\" | grep 'test';\n",
    "    \n",
    "# Allow sudo for new user\n",
    "ansible group_debian1_vault -m copy \\\n",
    "    -b --vault-id=vault-id --extra-vars \"@password.yml\"  \\\n",
    "    -a \"content='alvin ALL=(ALL:ALL) ALL\\n' \\\n",
    "        dest='/etc/sudoers.d/alvin' \\\n",
    "        force='yes' \\\n",
    "        mode='u=r,g=r'\";\n",
    "        \n",
    "# Copy ssh public key from current machine to remove server\n",
    "ansible group_debian1_vault -m authorized_key \\\n",
    "    -b --vault-id=vault-id --extra-vars \"@password.yml\"  \\\n",
    "    -a \"user='test' \\\n",
    "        key='{{ lookup('file', '~/.ssh/id_rsa.pub') }}' \\\n",
    "        state='present'\";\n",
    "        \n",
    "# Delete user\n",
    "ansible group_debian1_vault -m user \\\n",
    "    -b --vault-id=vault-id --extra-vars \"@password.yml\"  \\\n",
    "    -a \"user='test' \\\n",
    "        remove='yes' \\\n",
    "        state='absent'\";"
   ]
  },
  {
   "cell_type": "markdown",
   "metadata": {},
   "source": [
    "#### 1.6.2. Group\n",
    "\n",
    "- `gid`：Id of group\n",
    "- `name`: Name of group\n",
    "- `state`: State of group, `present` or `absent`\n",
    "- `system`: `yes` if a system group"
   ]
  },
  {
   "cell_type": "code",
   "execution_count": null,
   "metadata": {},
   "outputs": [],
   "source": [
    "# Create a group\n",
    "ansible group_debian1_vault -m group \\\n",
    "    -b --vault-id=vault-id --extra-vars \"@password.yml\"  \\\n",
    "    -a \"name='test' \\\n",
    "        state='present'\";\n",
    "        \n",
    "# Remove a group\n",
    "ansible group_debian1_vault -m group \\\n",
    "    -b --vault-id=vault-id --extra-vars \"@password.yml\"  \\\n",
    "    -a \"name='test' \\\n",
    "        state='absent'\";"
   ]
  },
  {
   "cell_type": "markdown",
   "metadata": {},
   "source": [
    "### 1.7. Service\n",
    "\n",
    "- `arguments`: Arguments for commandline\n",
    "- `enabled`: `yes` if start server when user login\n",
    "- `name`: Name of service\n",
    "- `runlevel`: Level of service\n",
    "- `sleep`: If `state` is `restarted`, the delay seconds between `stop` and `start`\n",
    "- `state`: State of service, value can be: `started`, `stopped`, `restarted`, `reloaded`"
   ]
  },
  {
   "cell_type": "code",
   "execution_count": null,
   "metadata": {},
   "outputs": [],
   "source": [
    "# Stop service\n",
    "ansible group_debian1_vault -m service \\\n",
    "    -b --vault-id=vault-id --extra-vars \"@password.yml\"  \\\n",
    "    -a \"name='sshd' state='stopped'\";\n",
    "    \n",
    "# Start service\n",
    "ansible group_debian1_vault -m service \\\n",
    "    -b --vault-id=vault-id --extra-vars \"@password.yml\"  \\\n",
    "    -a \"name='sshd' state='started'\";"
   ]
  },
  {
   "cell_type": "markdown",
   "metadata": {},
   "source": [
    "### 1.8. Get url\n",
    "\n",
    "- `sha256sum`: sha256 checksum\n",
    "- `timeout`: Timeout second of download\n",
    "- `url`: Url of download file\n",
    "- `url_password`, `url_username`: Password and username of download request\n",
    "- `dest`: Filename to save download file, if just path name, use default filename\n",
    "- `headers`: Headers of download request, use `key1: value1, key2: value2` form"
   ]
  },
  {
   "cell_type": "code",
   "execution_count": null,
   "metadata": {},
   "outputs": [],
   "source": [
    "# Download file\n",
    "ansible group_debian1 -m get_url \\\n",
    "    -a \"url='https://www.learningcontainer.com/download/sample-text-file/?wpdmdl=1669&refresh=5f918bb1200901603374001' \\\n",
    "        dest='~/test.txt' \\\n",
    "        timeout=20\";\n",
    "        \n",
    "# Validate download file\n",
    "ansible group_debian1 -m raw -a \"cat ~/test.txt\";\n",
    "    \n",
    "# Delete downloaded file\n",
    "ansible group_debian1 -m raw -a \"rm ~/test.txt\";"
   ]
  },
  {
   "cell_type": "markdown",
   "metadata": {},
   "source": [
    "### 1.9. Fetch\n",
    "\n",
    "- `src`: Source file on remote service\n",
    "- `dest`: Backup folder on local machine\n",
    "- `flat`: `yes` if do not create full pathname like `<machine>/<full path>/<file>`, only transfer file to dest folder"
   ]
  },
  {
   "cell_type": "code",
   "execution_count": null,
   "metadata": {},
   "outputs": [],
   "source": [
    "# Fetch remote file\n",
    "ansible group_debian1 -m fetch \\\n",
    "    -a \"src='/home/alvin/.bashrc' \\\n",
    "        dest='~/ansible_backup/' \\\n",
    "        flat='yes'\";\n",
    "    \n",
    "# Show backup file content\n",
    "cat ~/ansible_backup/.bashrc;\n",
    "\n",
    "# Delete fetched file\n",
    "rm -rf ~/ansible_backup;"
   ]
  },
  {
   "cell_type": "markdown",
   "metadata": {},
   "source": [
    "### 1.10. File\n",
    "\n",
    "- `force`: `yes` means whatever file link exist, if symbol is exist, delete old symbol and create new one\n",
    "- `group`: Define the group of file or directory\n",
    "- `mode`: Define permissions of file or directory\n",
    "- `owner`: Define the owner of file or directory\n",
    "- `path`: Fullpath of file or directory to operate\n",
    "- `recurse`: Properties of recursive Settings files, valid only for directories\n",
    "- `src`: Source file to linked, only if `state=link`\n",
    "- `dest`: Target symbol of linked file, only if `state=link`\n",
    "- `state`: \n",
    "    - `directory`: Create if directory not exist\n",
    "    - `file`: Default value, do operate to file, but never create new file\n",
    "    - `link`: Create soft file link\n",
    "    - `hard`: Create hard file link\n",
    "    - `touch`: Create new empty file, if file exist, update create time\n",
    "    - `absent`: Delete file, unlink file or delete directory"
   ]
  },
  {
   "cell_type": "markdown",
   "metadata": {},
   "source": [
    "#### 1.10.1. Create file"
   ]
  },
  {
   "cell_type": "code",
   "execution_count": null,
   "metadata": {},
   "outputs": [],
   "source": [
    "# Create empty file (use touch)\n",
    "ansible group_debian1 -m file \\\n",
    "    -a \"path='/home/alvin/test.txt' \\\n",
    "        mode='0644' \\\n",
    "        state='touch'\";\n",
    "        \n",
    "# Check created file\n",
    "ansible group_debian1 -m raw -a \"ls -al /home/alvin/test.*\";\n",
    "    \n",
    "# Touch file again, and modify file mode\n",
    "ansible group_debian1 -m file \\\n",
    "    -a \"path='/home/alvin/test.txt' \\\n",
    "        mode='u+rw,g-gw,o-gw' \\\n",
    "        state='touch'\";\n",
    "        \n",
    "# Check created file again\n",
    "ansible group_debian1 -m raw -a \"ls -al /home/alvin/test.*\";     \n",
    "\n",
    "# Modify access time and modification time\n",
    "ansible group_debian1 -m file \\\n",
    "    -a \"path='/home/alvin/test.txt' \\\n",
    "        modification_time='now' \\\n",
    "        access_time='202010010000.0'\";\n",
    "\n",
    "# Check created file again\n",
    "ansible group_debian1 -m raw -a \"ls -al /home/alvin/test.*\";"
   ]
  },
  {
   "cell_type": "markdown",
   "metadata": {},
   "source": [
    "#### 1.10.2. Change file mode"
   ]
  },
  {
   "cell_type": "code",
   "execution_count": null,
   "metadata": {},
   "outputs": [],
   "source": [
    "# Change file owner, group and permission\n",
    "ansible group_debian1_vault -m file \\\n",
    "    -b --vault-id=vault-id --extra-vars \"@password.yml\"  \\\n",
    "    -a \"path='/home/alvin/test.txt' \\\n",
    "        owner='root' \\\n",
    "        group='root' \\\n",
    "        mode='0644'\";\n",
    "        \n",
    "# Check file\n",
    "ansible group_debian1 -m raw -a \"ls -al /home/alvin/test.*\";"
   ]
  },
  {
   "cell_type": "markdown",
   "metadata": {},
   "source": [
    "#### 1.10.3. Make file link"
   ]
  },
  {
   "cell_type": "code",
   "execution_count": null,
   "metadata": {},
   "outputs": [],
   "source": [
    "# Create soft file link\n",
    "ansible group_debian1 -m file \\\n",
    "    -a \"src='/home/alvin/test.txt' \\\n",
    "        dest='/home/alvin/test-slink.txt' \\\n",
    "        owner='alvin' \\\n",
    "        group='alvin' \\\n",
    "        state='link'\";\n",
    "\n",
    "# Create hard file link\n",
    "ansible group_debian1 -m file \\\n",
    "    -a \"src='/home/alvin/test.txt' \\\n",
    "        dest='/home/alvin/test-hlink.txt' \\\n",
    "        owner='alvin' \\\n",
    "        group='alvin' \\\n",
    "        state='link'\";\n",
    "\n",
    "# Set source file content\n",
    "ansible group_debian1 -m copy \\\n",
    "    -a \"content='Hello World' \\\n",
    "        dest='/home/alvin/test.txt' \\\n",
    "        force='yes'\";\n",
    "\n",
    "# Check file link\n",
    "ansible group_debian1 -m raw -a \"cat /home/alvin/test-slink.txt\";\n",
    "    \n",
    "# Check file link\n",
    "ansible group_debian1 -m raw -a \"cat /home/alvin/test-hlink.txt\";"
   ]
  },
  {
   "cell_type": "markdown",
   "metadata": {},
   "source": [
    "#### 1.10.4. Create and delete directory"
   ]
  },
  {
   "cell_type": "code",
   "execution_count": null,
   "metadata": {},
   "outputs": [],
   "source": [
    "# Create directory\n",
    "ansible group_debian1 -m file \\\n",
    "    -a \"path='/home/alvin/test_dir' \\\n",
    "        mode='0755' \\\n",
    "        state='directory'\";\n",
    "        \n",
    "# Delete directory\n",
    "ansible group_debian1 -m file \\\n",
    "    -a \"path='/home/alvin/test_dir' \\\n",
    "        state='absent'\";"
   ]
  },
  {
   "cell_type": "markdown",
   "metadata": {},
   "source": [
    "#### 1.10.5. Delete file"
   ]
  },
  {
   "cell_type": "code",
   "execution_count": null,
   "metadata": {},
   "outputs": [],
   "source": [
    "# Delete file\n",
    "ansible group_debian1 -m file \\\n",
    "    -a \"path='/home/alvin/test.txt' \\\n",
    "        state='absent'\";\n",
    "\n",
    "# Delete soft link\n",
    "ansible group_debian1 -m file \\\n",
    "    -a \"path='/home/alvin/test-slink.txt' \\\n",
    "        state='absent'\";\n",
    "\n",
    "# Delete hard link\n",
    "ansible group_debian1 -m file \\\n",
    "    -a \"path='/home/alvin/test-hlink.txt' \\\n",
    "        state='absent'\";"
   ]
  },
  {
   "cell_type": "markdown",
   "metadata": {},
   "source": [
    "### 1.11. Pip\n",
    "\n",
    "- `chdir`: The folder to run pip\n",
    "- `name`: The python package name to be installed\n",
    "- `requirements`: The `requirement.txt` file on remote server\n",
    "- `version`: Version of python package to be installed\n",
    "- `extra_args`: Extra arguents for pip command\n",
    "- `executable`: Path of the executable `pip` command\n",
    "- `virtualenv`: Path to create virtualenv\n",
    "- `virtualenv_command`: Command to create virtualenv\n",
    "- `virtualenv_python`：Which python to create virtualenv\n",
    "- `state`：\n",
    "    - `present`: Default value, install package\n",
    "    - `lastest`: Install the lastest version of package\n",
    "    - `absent`: Uninstall package\n",
    "    - `forcereinstall`: force to reinstall, delete exist package and install new one"
   ]
  },
  {
   "cell_type": "markdown",
   "metadata": {},
   "source": [
    "#### 1.11.1. Install pip and pip config"
   ]
  },
  {
   "cell_type": "code",
   "execution_count": null,
   "metadata": {},
   "outputs": [],
   "source": [
    "# Install dependency of python3 pip\n",
    "ansible group_debian1_vault -m apt \\\n",
    "    -b --vault-id=vault-id --extra-vars \"@password.yml\"  \\\n",
    "    -e \"{ names: ['python3-venv', 'python3-pip'] }\" \\\n",
    "    -a \"name={{ names }} \\\n",
    "        state='present' \\\n",
    "        update_cache='yes' \\\n",
    "        autoclean='yes' \\\n",
    "        autoremove='yes'\";\n",
    "\n",
    "# Create .pip directory at user home\n",
    "ansible group_debian1 -m file \\\n",
    "    -a \"path='~/.pip' \\\n",
    "        state='directory'\";\n",
    "\n",
    "# Copy pip.conf to remote server\n",
    "ansible group_debian1 -m template \\\n",
    "    -a \"src='./pip/pip.conf' \\\n",
    "        dest='~/.pip/pip.conf'\";\n",
    "\n",
    "# Install virtualenv package to python\n",
    "ansible group_debian1 -m pip \\\n",
    "    -a \"name='virtualenv' \\\n",
    "        state='present'\";"
   ]
  },
  {
   "cell_type": "markdown",
   "metadata": {},
   "source": [
    "#### 1.11.2. Create virtualenv and install package"
   ]
  },
  {
   "cell_type": "code",
   "execution_count": null,
   "metadata": {},
   "outputs": [],
   "source": [
    "# Create python project folder\n",
    "ansible group_debian1 -m file \\\n",
    "    -a \"path='~/test_pip' \\\n",
    "        state='directory'\";\n",
    "\n",
    "# Create virtualenv py 'venv' python module and install 'wheel' package\n",
    "ansible group_debian1 -m pip \\\n",
    "    -a \"chdir='~/test_pip' \\\n",
    "        name='wheel' \\\n",
    "        virtualenv='.venv' \\\n",
    "        virtualenv_command='python3 -m venv' \\\n",
    "        state='present'\";\n",
    "\n",
    "# Remove 'wheel' package from virtualenv\n",
    "ansible group_debian1 -m pip \\\n",
    "    -a \"chdir='~/test_pip' \\\n",
    "        name='wheel' \\\n",
    "        virtualenv='.venv' \\\n",
    "        state='absent'\";"
   ]
  },
  {
   "cell_type": "markdown",
   "metadata": {},
   "source": [
    "#### 1.11.3. Create virtualenv and install package by requirements.txt"
   ]
  },
  {
   "cell_type": "code",
   "execution_count": null,
   "metadata": {},
   "outputs": [],
   "source": [
    "# Copy 'requirements.txt' to remote server\n",
    "ansible group_debian1 -m template \\\n",
    "    -a \"src='./pip/requirements.txt' \\\n",
    "        dest='~/test_pip/requirements.txt'\";\n",
    "\n",
    "# Install packages from 'requirements.txt'\n",
    "ansible group_debian1 -m pip \\\n",
    "    -a \"chdir='~/test_pip' \\\n",
    "        requirements='requirements.txt' \\\n",
    "        virtualenv='.venv' \\\n",
    "        virtualenv_command='python3 -m venv' \\\n",
    "        state='present'\";"
   ]
  }
 ],
 "metadata": {
  "kernelspec": {
   "display_name": "Bash",
   "language": "bash",
   "name": "bash"
  },
  "language_info": {
   "codemirror_mode": "shell",
   "file_extension": ".sh",
   "mimetype": "text/x-sh",
   "name": "bash"
  }
 },
 "nbformat": 4,
 "nbformat_minor": 4
}
