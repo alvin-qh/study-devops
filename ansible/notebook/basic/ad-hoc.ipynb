{
 "cells": [
  {
   "cell_type": "markdown",
   "metadata": {},
   "source": [
    "# Ad-Hoc"
   ]
  },
  {
   "cell_type": "markdown",
   "metadata": {},
   "source": [
    "## 1. Run Ad-Hoc"
   ]
  },
  {
   "cell_type": "markdown",
   "metadata": {},
   "source": [
    "### 1.1. List servers in group"
   ]
  },
  {
   "cell_type": "code",
   "execution_count": null,
   "metadata": {},
   "outputs": [],
   "source": [
    "ansible group_debian --list"
   ]
  },
  {
   "cell_type": "markdown",
   "metadata": {},
   "source": [
    "### 1.2. Work with module\n",
    "\n",
    "```bash\n",
    "$ ansible <group1, group2, ..., groupn | all> -m <module> -a \"command string\"\n",
    "```\n",
    "\n",
    "For example:\n",
    "```bash\n",
    "$ ansible all -m shell -a \"ps aux\"\n",
    "```"
   ]
  },
  {
   "cell_type": "markdown",
   "metadata": {},
   "source": [
    "## 2. Modules"
   ]
  },
  {
   "cell_type": "markdown",
   "metadata": {},
   "source": [
    "### 2.1. Ping"
   ]
  },
  {
   "cell_type": "code",
   "execution_count": null,
   "metadata": {},
   "outputs": [],
   "source": [
    "ansible group_debian1 -m ping"
   ]
  },
  {
   "cell_type": "markdown",
   "metadata": {},
   "source": [
    "### 1.2. Raw "
   ]
  },
  {
   "cell_type": "code",
   "execution_count": null,
   "metadata": {},
   "outputs": [],
   "source": [
    "ansible group_debian1 -m raw -a \"ps aux\""
   ]
  },
  {
   "cell_type": "markdown",
   "metadata": {},
   "source": [
    "### 1.3. Software repository"
   ]
  },
  {
   "cell_type": "markdown",
   "metadata": {},
   "source": [
    "#### 1.3.1. Yum"
   ]
  },
  {
   "cell_type": "markdown",
   "metadata": {},
   "source": [
    "#### 1.3.2. Apt "
   ]
  },
  {
   "cell_type": "markdown",
   "metadata": {},
   "source": [
    "### 1.4. Template\n",
    "\n",
    "- Arguments\n",
    "    - `src`: template file in current machine\n",
    "    - `dest`: target file in remote server\n",
    "    - `owner`: owner of target file\n",
    "    - `mode`: mode of target file, canbe numbers (like `0644`) or letters (like `u=rw,g=r,o=r`), see also `chmod` command\n",
    "    - `backup`: `ture` if create backup file if file content is changed"
   ]
  },
  {
   "cell_type": "markdown",
   "metadata": {},
   "source": [
    "- Run template module"
   ]
  },
  {
   "cell_type": "code",
   "execution_count": null,
   "metadata": {},
   "outputs": [],
   "source": [
    "ansible group_debian1 -m template \\\n",
    "    -a \"src='./test_template.txt' dest='~/test_template.txt' owner='alvin' mode='u=rw,g=r,o=r' backup='yes'\" \\\n",
    "    --extra-vars \"dynamic_name=Alvin\""
   ]
  },
  {
   "cell_type": "markdown",
   "metadata": {},
   "source": [
    "- Show generated files on remote server"
   ]
  },
  {
   "cell_type": "code",
   "execution_count": null,
   "metadata": {},
   "outputs": [],
   "source": [
    "ansible group_debian1 -m raw -a \"ls -al ~/test_template*\""
   ]
  },
  {
   "cell_type": "markdown",
   "metadata": {},
   "source": [
    "- Show content of lastest generated file"
   ]
  },
  {
   "cell_type": "code",
   "execution_count": null,
   "metadata": {},
   "outputs": [],
   "source": [
    "ansible group_debian1 -a \"cat ~/test_template.txt\""
   ]
  },
  {
   "cell_type": "markdown",
   "metadata": {},
   "source": [
    "- remove all generated files on remote server"
   ]
  },
  {
   "cell_type": "code",
   "execution_count": null,
   "metadata": {},
   "outputs": [],
   "source": [
    "ansible group_debian1 -m raw -a \"rm ~/test_template*\""
   ]
  },
  {
   "cell_type": "markdown",
   "metadata": {},
   "source": [
    "### 1.5. Copy\n",
    "\n",
    "- `src`: The source file on local machine, can be file or directory\n",
    "- `content`: The content will be copied\n",
    "- `dest`: The remote server to copied file\n",
    "- `directory_mode`: The permission mode of remote directory\n",
    "- `force`: Always copy file to target even file exist when value is 'yes'\n",
    "- other arguments: all arguments for `file` module can use for this module, see `file` module"
   ]
  },
  {
   "cell_type": "markdown",
   "metadata": {},
   "source": [
    "#### 1.5.1. Copy file\n",
    "\n",
    "- Use copy module"
   ]
  },
  {
   "cell_type": "code",
   "execution_count": null,
   "metadata": {},
   "outputs": [],
   "source": [
    "ansible group_debian1 -m copy -a \"src='./ansible.cfg' dest='~/' force='yes'\""
   ]
  },
  {
   "cell_type": "markdown",
   "metadata": {},
   "source": [
    "- Show copied file on remote server"
   ]
  },
  {
   "cell_type": "code",
   "execution_count": null,
   "metadata": {},
   "outputs": [],
   "source": [
    "ansible group_debian1 -m raw -a \"ls -al ~/ansible.*\""
   ]
  },
  {
   "cell_type": "markdown",
   "metadata": {},
   "source": [
    "- Remove copied files"
   ]
  },
  {
   "cell_type": "code",
   "execution_count": null,
   "metadata": {},
   "outputs": [],
   "source": [
    "ansible group_debian1 -m raw -a \"rm ~/ansible.*\""
   ]
  },
  {
   "cell_type": "markdown",
   "metadata": {},
   "source": [
    "#### 1.5.2. Copy files in folder\n",
    "\n",
    "- Use copy module"
   ]
  },
  {
   "cell_type": "code",
   "execution_count": null,
   "metadata": {},
   "outputs": [],
   "source": [
    "ansible group_debian1 -m copy -a \"src='./hosts/' dest='~/target' force='yes'\""
   ]
  },
  {
   "cell_type": "markdown",
   "metadata": {},
   "source": [
    "- Show copied folders"
   ]
  },
  {
   "cell_type": "code",
   "execution_count": null,
   "metadata": {},
   "outputs": [],
   "source": [
    "ansible group_debian1 -m raw -a \"ls -al ~/target\""
   ]
  },
  {
   "cell_type": "markdown",
   "metadata": {},
   "source": [
    "- Remove copied files"
   ]
  },
  {
   "cell_type": "code",
   "execution_count": null,
   "metadata": {},
   "outputs": [],
   "source": [
    "ansible group_debian1 -m raw -a \"rm -rf ~/target*\""
   ]
  },
  {
   "cell_type": "markdown",
   "metadata": {},
   "source": [
    "#### 1.5.3. Copy folder\n",
    "\n",
    "- Use copy module"
   ]
  },
  {
   "cell_type": "code",
   "execution_count": null,
   "metadata": {},
   "outputs": [],
   "source": [
    "ansible group_debian1 -m copy -a \"src='./hosts' dest='~/target' force='yes'\""
   ]
  },
  {
   "cell_type": "markdown",
   "metadata": {},
   "source": [
    "- Show copied folders"
   ]
  },
  {
   "cell_type": "code",
   "execution_count": null,
   "metadata": {},
   "outputs": [],
   "source": [
    "ansible group_debian1 -m raw -a \"ls -al ~/target\"\n",
    "ansible group_debian1 -m raw -a \"ls -al ~/target/hosts\""
   ]
  },
  {
   "cell_type": "markdown",
   "metadata": {},
   "source": [
    "- Remove copied files"
   ]
  },
  {
   "cell_type": "code",
   "execution_count": null,
   "metadata": {},
   "outputs": [],
   "source": [
    "ansible group_debian1 -m raw -a \"rm -rf ~/target*\""
   ]
  },
  {
   "cell_type": "markdown",
   "metadata": {},
   "source": [
    "#### 1.5.4. Copy content\n",
    "\n",
    "- Use copy module"
   ]
  },
  {
   "cell_type": "code",
   "execution_count": null,
   "metadata": {},
   "outputs": [],
   "source": [
    "ansible group_debian1 -m copy -a \"content='Hello World' dest='~/target.txt' force='yes'\""
   ]
  },
  {
   "cell_type": "markdown",
   "metadata": {},
   "source": [
    "- Show copied folders"
   ]
  },
  {
   "cell_type": "code",
   "execution_count": null,
   "metadata": {},
   "outputs": [],
   "source": [
    "ansible group_debian1 -m raw -a \"cat ~/target.txt\""
   ]
  },
  {
   "cell_type": "markdown",
   "metadata": {},
   "source": [
    "- Remove copied files"
   ]
  },
  {
   "cell_type": "code",
   "execution_count": null,
   "metadata": {},
   "outputs": [],
   "source": [
    "ansible group_debian1 -m raw -a \"rm target.txt\""
   ]
  },
  {
   "cell_type": "markdown",
   "metadata": {},
   "source": [
    "### 1.6. User and Group"
   ]
  },
  {
   "cell_type": "markdown",
   "metadata": {},
   "source": [
    "#### 1.6.1. User\n",
    "\n",
    "- `home`: Home folder of user\n",
    "- `groups`: Groups of user\n",
    "- `uid`: Id of user\n",
    "- `password`: Password of user, password cannot be plaintext, it need hashed by sha512\n",
    "- `name`: User name\n",
    "- `createhome`：`yes` if create home directory\n",
    "- `system`: `yes` if a system user\n",
    "- `remove`: `yes` if delete user home directory when `state = absent`\n",
    "- `state`: Create (`statue=present`) or remove (`state=absent`) user\n",
    "- `shell`: Which shell for this user\n",
    "- `generate_ssh_key`: `yes` if create ssh key for this user\n",
    "- `ssh_key_bits`: Length (bits) of ssh key\n",
    "- `ssh_key_passphrase`: Phrase password of ssh key\n",
    "- `ssh_key_file`: File name to save ssh key\n",
    "- `ssh_key_type`: Type of ssh key"
   ]
  },
  {
   "cell_type": "markdown",
   "metadata": {},
   "source": [
    "- Add and modify user: if user exist, then modify this user by new arguments"
   ]
  },
  {
   "cell_type": "code",
   "execution_count": null,
   "metadata": {},
   "outputs": [],
   "source": [
    "ansible group_debian1_vault -m user \\\n",
    "    -b --vault-id=vault-id --extra-vars \"@password.yml\"  \\\n",
    "    -a \"name=test \\\n",
    "        password={{ 'test'|password_hash('sha512') }} \\\n",
    "        append=yes \\\n",
    "        createhome=yes \\\n",
    "        shell=/bin/bash \\\n",
    "        generate_ssh_key=yes \\\n",
    "        groups=sudo,root \\\n",
    "        state=present\""
   ]
  },
  {
   "cell_type": "markdown",
   "metadata": {},
   "source": [
    "- Show user and password (hashed) on remote server"
   ]
  },
  {
   "cell_type": "code",
   "execution_count": null,
   "metadata": {},
   "outputs": [],
   "source": [
    "ansible group_debian1_vault -m raw \\\n",
    "    -b --vault-id=vault-id --extra-vars \"@password.yml\"  \\\n",
    "    -a \"cat /etc/shadow\" | grep 'test'"
   ]
  },
  {
   "cell_type": "markdown",
   "metadata": {},
   "source": [
    "- Allow sudo for new user"
   ]
  },
  {
   "cell_type": "code",
   "execution_count": null,
   "metadata": {},
   "outputs": [],
   "source": [
    "ansible group_debian1_vault -m copy \\\n",
    "    -b --vault-id=vault-id --extra-vars \"@password.yml\"  \\\n",
    "    -a \"content='alvin ALL=(ALL:ALL) ALL\\n' \\\n",
    "        dest='/etc/sudoers.d/alvin' \\\n",
    "        force='yes' \\\n",
    "        mode='u=r,g=r'\""
   ]
  },
  {
   "cell_type": "markdown",
   "metadata": {},
   "source": [
    "- Copy ssh public key from current machine to remove server"
   ]
  },
  {
   "cell_type": "code",
   "execution_count": null,
   "metadata": {},
   "outputs": [],
   "source": [
    "ansible group_debian1_vault -m authorized_key \\\n",
    "    -b --vault-id=vault-id --extra-vars \"@password.yml\"  \\\n",
    "    -a \"user=test \\\n",
    "        key={{ lookup('file', '~/.ssh/id_rsa.pub') }} \\\n",
    "        state=present\""
   ]
  },
  {
   "cell_type": "markdown",
   "metadata": {},
   "source": [
    "- Delete user"
   ]
  },
  {
   "cell_type": "code",
   "execution_count": null,
   "metadata": {},
   "outputs": [],
   "source": [
    "ansible group_debian1_vault -m user \\\n",
    "    -b --vault-id=vault-id --extra-vars \"@password.yml\"  \\\n",
    "    -a \"user=test \\\n",
    "        remove=yes \\\n",
    "        state=absent\""
   ]
  },
  {
   "cell_type": "markdown",
   "metadata": {},
   "source": [
    "#### 1.6.2. Group\n",
    "\n",
    "- `gid`：Id of group\n",
    "- `name`: Name of group\n",
    "- `state`: State of group, `present` or `absent`\n",
    "- `system`: `yes` if a system group"
   ]
  },
  {
   "cell_type": "markdown",
   "metadata": {},
   "source": [
    "- Create a group"
   ]
  },
  {
   "cell_type": "code",
   "execution_count": null,
   "metadata": {},
   "outputs": [],
   "source": [
    "ansible group_debian1_vault -m group \\\n",
    "    -b --vault-id=vault-id --extra-vars \"@password.yml\"  \\\n",
    "    -a \"name=test \\\n",
    "        state=present\""
   ]
  },
  {
   "cell_type": "markdown",
   "metadata": {},
   "source": [
    "- Remove a group"
   ]
  },
  {
   "cell_type": "code",
   "execution_count": null,
   "metadata": {},
   "outputs": [],
   "source": [
    "ansible group_debian1_vault -m group \\\n",
    "    -b --vault-id=vault-id --extra-vars \"@password.yml\"  \\\n",
    "    -a \"name=test \\\n",
    "        state=absent\""
   ]
  },
  {
   "cell_type": "markdown",
   "metadata": {},
   "source": [
    "### 1.7. Service\n",
    "\n",
    "- `arguments`: Arguments for commandline\n",
    "- `enabled`: `yes` if start server when user login\n",
    "- `name`: Name of service\n",
    "- `runlevel`: Level of service\n",
    "- `sleep`: If `state` is `restarted`, the delay seconds between `stop` and `start`\n",
    "- `state`: State of service, value can be: `started`, `stopped`, `restarted`, `reloaded`"
   ]
  },
  {
   "cell_type": "markdown",
   "metadata": {},
   "source": [
    "- Stop service"
   ]
  },
  {
   "cell_type": "code",
   "execution_count": null,
   "metadata": {},
   "outputs": [],
   "source": [
    "ansible group_debian1_vault -m service \\\n",
    "    -b --vault-id=vault-id --extra-vars \"@password.yml\"  \\\n",
    "    -a \"name=sshd state=stopped\""
   ]
  },
  {
   "cell_type": "markdown",
   "metadata": {},
   "source": [
    "- Start service"
   ]
  },
  {
   "cell_type": "code",
   "execution_count": null,
   "metadata": {},
   "outputs": [],
   "source": [
    "ansible group_debian1_vault -m service \\\n",
    "    -b --vault-id=vault-id --extra-vars \"@password.yml\"  \\\n",
    "    -a \"name=sshd state=started\""
   ]
  }
 ],
 "metadata": {
  "kernelspec": {
   "display_name": "Bash",
   "language": "bash",
   "name": "bash"
  },
  "language_info": {
   "codemirror_mode": "shell",
   "file_extension": ".sh",
   "mimetype": "text/x-sh",
   "name": "bash"
  }
 },
 "nbformat": 4,
 "nbformat_minor": 4
}
