{
 "cells": [
  {
   "cell_type": "markdown",
   "metadata": {},
   "source": [
    "# Ansbile playbook"
   ]
  },
  {
   "cell_type": "markdown",
   "metadata": {},
   "source": [
    "## 1. Simple playbook"
   ]
  },
  {
   "cell_type": "markdown",
   "metadata": {},
   "source": [
    "### 1.1. Run playbook with current user"
   ]
  },
  {
   "cell_type": "code",
   "execution_count": null,
   "metadata": {},
   "outputs": [],
   "source": [
    "ansible-playbook ping.yml"
   ]
  },
  {
   "cell_type": "markdown",
   "metadata": {},
   "source": [
    "### 1.2. Run playbook with become user"
   ]
  },
  {
   "cell_type": "code",
   "execution_count": 77,
   "metadata": {},
   "outputs": [
    {
     "name": "stdout",
     "output_type": "stream",
     "text": [
      "\n",
      "PLAY [Test availability of remote server] **************************************\n",
      "\n",
      "TASK [Gathering Facts] *********************************************************\n",
      "\u001b[0;32mok: [debian1]\u001b[0m\n",
      "\n",
      "TASK [Ping remote server] ******************************************************\n",
      "\u001b[0;32mok: [debian1]\u001b[0m\n",
      "\n",
      "TASK [Show ping result] ********************************************************\n",
      "\u001b[0;32mok: [debian1] => {\u001b[0m\n",
      "\u001b[0;32m    \"msg\": \"pong\"\u001b[0m\n",
      "\u001b[0;32m}\u001b[0m\n",
      "\n",
      "PLAY RECAP *********************************************************************\n",
      "\u001b[0;32mdebian1\u001b[0m                    : \u001b[0;32mok=3   \u001b[0m changed=0    unreachable=0    failed=0    skipped=0    rescued=0    ignored=0   \n",
      "\n"
     ]
    }
   ],
   "source": [
    "ansible-playbook ping_root.yml --vault-id vault-id -e \"@password.yml\""
   ]
  },
  {
   "cell_type": "markdown",
   "metadata": {},
   "source": [
    "### 1.3. Show ansible variables"
   ]
  },
  {
   "cell_type": "markdown",
   "metadata": {},
   "source": [
    "#### 1.3.1. Show simple variables"
   ]
  },
  {
   "cell_type": "code",
   "execution_count": 78,
   "metadata": {},
   "outputs": [
    {
     "name": "stdout",
     "output_type": "stream",
     "text": [
      "\n",
      "PLAY [Test ansible variables] **************************************************\n",
      "\n",
      "TASK [Gathering Facts] *********************************************************\n",
      "\u001b[0;32mok: [debian1]\u001b[0m\n",
      "\n",
      "TASK [Show some ansible variables] *********************************************\n",
      "\u001b[0;32mok: [debian1] => {\u001b[0m\n",
      "\u001b[0;32m    \"msg\": [\u001b[0m\n",
      "\u001b[0;32m        \"Default IPV4: {'gateway': '10.0.2.2', 'interface': 'eth0', 'address': '10.0.2.15', 'broadcast': '10.0.2.255', 'netmask': '255.255.255.0', 'network': '10.0.2.0', 'macaddress': '08:00:27:8d:c0:4d', 'mtu': 1500, 'type': 'ether', 'alias': 'eth0'}\",\u001b[0m\n",
      "\u001b[0;32m        \"Architecture: x86_64\",\u001b[0m\n",
      "\u001b[0;32m        \"Distribution: Debian\"\u001b[0m\n",
      "\u001b[0;32m    ]\u001b[0m\n",
      "\u001b[0;32m}\u001b[0m\n",
      "\n",
      "TASK [Show user define variables] **********************************************\n",
      "\u001b[0;32mok: [debian1] => {\u001b[0m\n",
      "\u001b[0;32m    \"msg\": [\u001b[0m\n",
      "\u001b[0;32m        \"User name: Alvin\",\u001b[0m\n",
      "\u001b[0;32m        \"Home page: https://www.alvin.edu/ansible/playbook\",\u001b[0m\n",
      "\u001b[0;32m        \"Variable A: Unknown\",\u001b[0m\n",
      "\u001b[0;32m        \"Variable B: Unknown\"\u001b[0m\n",
      "\u001b[0;32m    ]\u001b[0m\n",
      "\u001b[0;32m}\u001b[0m\n",
      "\n",
      "TASK [Include vars from file] **************************************************\n",
      "\u001b[0;32mok: [debian1]\u001b[0m\n",
      "\n",
      "TASK [Show user define variables again] ****************************************\n",
      "\u001b[0;32mok: [debian1] => {\u001b[0m\n",
      "\u001b[0;32m    \"msg\": [\u001b[0m\n",
      "\u001b[0;32m        \"User name: Alvin\",\u001b[0m\n",
      "\u001b[0;32m        \"Home page: https://www.alvin.edu/ansible/playbook\",\u001b[0m\n",
      "\u001b[0;32m        \"Variable A: Variable a\",\u001b[0m\n",
      "\u001b[0;32m        \"Variable B: Variable b\"\u001b[0m\n",
      "\u001b[0;32m    ]\u001b[0m\n",
      "\u001b[0;32m}\u001b[0m\n",
      "\n",
      "TASK [Show environment variables] **********************************************\n",
      "\u001b[0;32mok: [debian1] => {\u001b[0m\n",
      "\u001b[0;32m    \"msg\": [\u001b[0m\n",
      "\u001b[0;32m        \"Environment ENV_VAR: HELLO WORLD\"\u001b[0m\n",
      "\u001b[0;32m    ]\u001b[0m\n",
      "\u001b[0;32m}\u001b[0m\n",
      "\n",
      "TASK [Run setup module] ********************************************************\n",
      "\u001b[0;36mskipping: [debian1]\u001b[0m\n",
      "\n",
      "TASK [Show all nest ansible variables] *****************************************\n",
      "\u001b[0;36mskipping: [debian1]\u001b[0m\n",
      "\n",
      "TASK [Show ansible facts variables] ********************************************\n",
      "\u001b[0;36mskipping: [debian1]\u001b[0m\n",
      "\n",
      "PLAY RECAP *********************************************************************\n",
      "\u001b[0;32mdebian1\u001b[0m                    : \u001b[0;32mok=6   \u001b[0m changed=0    unreachable=0    failed=0    \u001b[0;36mskipped=3   \u001b[0m rescued=0    ignored=0   \n",
      "\n"
     ]
    }
   ],
   "source": [
    "ENV_VAR=\"HELLO WORLD\" ansible-playbook vars.yml"
   ]
  },
  {
   "cell_type": "markdown",
   "metadata": {},
   "source": [
    "#### 1.3.2. Show all variables"
   ]
  },
  {
   "cell_type": "code",
   "execution_count": null,
   "metadata": {},
   "outputs": [],
   "source": [
    "SHOW_ALL=true ENV_VAR=\"HELLO WORLD\" ansible-playbook vars.yml"
   ]
  },
  {
   "cell_type": "markdown",
   "metadata": {},
   "source": [
    "### 1.3. Conditions"
   ]
  },
  {
   "cell_type": "markdown",
   "metadata": {},
   "source": [
    "#### 1.3.1. Basic conditionals with `when`"
   ]
  },
  {
   "cell_type": "code",
   "execution_count": null,
   "metadata": {},
   "outputs": [],
   "source": [
    "ansible-playbook conditions.yml --tags T1"
   ]
  },
  {
   "cell_type": "markdown",
   "metadata": {},
   "source": [
    "#### 1.3.2. Conditionals based on `ansible_facts`"
   ]
  },
  {
   "cell_type": "code",
   "execution_count": null,
   "metadata": {},
   "outputs": [],
   "source": [
    "ansible-playbook conditions.yml --tags T2"
   ]
  },
  {
   "cell_type": "code",
   "execution_count": null,
   "metadata": {},
   "outputs": [],
   "source": []
  },
  {
   "cell_type": "code",
   "execution_count": null,
   "metadata": {},
   "outputs": [],
   "source": []
  },
  {
   "cell_type": "code",
   "execution_count": null,
   "metadata": {},
   "outputs": [],
   "source": []
  },
  {
   "cell_type": "code",
   "execution_count": null,
   "metadata": {},
   "outputs": [],
   "source": []
  },
  {
   "cell_type": "code",
   "execution_count": null,
   "metadata": {},
   "outputs": [],
   "source": []
  }
 ],
 "metadata": {
  "kernelspec": {
   "display_name": "Bash",
   "language": "bash",
   "name": "bash"
  },
  "language_info": {
   "codemirror_mode": "shell",
   "file_extension": ".sh",
   "mimetype": "text/x-sh",
   "name": "bash"
  }
 },
 "nbformat": 4,
 "nbformat_minor": 4
}
