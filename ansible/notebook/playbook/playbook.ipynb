{
 "cells": [
  {
   "cell_type": "markdown",
   "metadata": {},
   "source": [
    "# Ansbile playbook"
   ]
  },
  {
   "cell_type": "markdown",
   "metadata": {},
   "source": [
    "## 1. Simple playbook"
   ]
  },
  {
   "cell_type": "markdown",
   "metadata": {},
   "source": [
    "### 1.1. Ping test\n",
    "\n",
    "See [ping.yml](./ping.yml)"
   ]
  },
  {
   "cell_type": "markdown",
   "metadata": {},
   "source": [
    "#### 1.1.1. Ping remote server as current user\n",
    "\n",
    "- Single server"
   ]
  },
  {
   "cell_type": "code",
   "execution_count": null,
   "metadata": {},
   "outputs": [],
   "source": [
    "ansible-playbook ping.yml --tags \"G1\""
   ]
  },
  {
   "cell_type": "markdown",
   "metadata": {},
   "source": [
    "- Multi-servers"
   ]
  },
  {
   "cell_type": "code",
   "execution_count": null,
   "metadata": {},
   "outputs": [],
   "source": [
    "ansible-playbook ping.yml --tags \"G2\""
   ]
  },
  {
   "cell_type": "markdown",
   "metadata": {},
   "source": [
    "#### 1.1.2. Ping remote server as become user\n",
    "\n",
    "- `become`: Run as root user\n",
    "```yml\n",
    "tasks:\n",
    "    - name: Run as root user\n",
    "      become: True\n",
    "```\n",
    "- `-e \"@password.yml\"`: Read external arguments from encrypted file `password.yml`\n",
    "- `--vault-id vault-id`: Read password from `vault-id` file for encrypted file"
   ]
  },
  {
   "cell_type": "code",
   "execution_count": null,
   "metadata": {},
   "outputs": [],
   "source": [
    "ansible-playbook ping.yml --tags \"G3\" --vault-id vault-id -e \"@password.yml\""
   ]
  },
  {
   "cell_type": "markdown",
   "metadata": {},
   "source": [
    "### 1.2. Ansible variables\n",
    "\n",
    "See [vars.yml](./vars.yml)"
   ]
  },
  {
   "cell_type": "markdown",
   "metadata": {},
   "source": [
    "#### 1.2.1. Ansible builtin variables\n",
    "\n",
    "- Built in variable prefix by `ansible_`\n",
    "- `gather_facts`: `True` if need gather the ansible variables from remote server"
   ]
  },
  {
   "cell_type": "code",
   "execution_count": null,
   "metadata": {},
   "outputs": [],
   "source": [
    "ansible-playbook vars.yml --tags \"G1\""
   ]
  },
  {
   "cell_type": "markdown",
   "metadata": {},
   "source": [
    "#### 1.2.2. User define variables\n",
    "\n",
    "- `vars`: define variables\n",
    "```yml\n",
    "vars:\n",
    "    var1: value1\n",
    "    var2: value2\n",
    "```\n",
    "- Without external args"
   ]
  },
  {
   "cell_type": "code",
   "execution_count": null,
   "metadata": {},
   "outputs": [],
   "source": [
    "ansible-playbook vars.yml --tags \"G2\""
   ]
  },
  {
   "cell_type": "markdown",
   "metadata": {},
   "source": [
    "- With external args\n",
    "    - `-e`: external arguments, if will override the same argument defined in playbook"
   ]
  },
  {
   "cell_type": "code",
   "execution_count": null,
   "metadata": {},
   "outputs": [],
   "source": [
    "ansible-playbook vars.yml -e \"user_name=Emma user_age=32\" --tags \"G2\""
   ]
  },
  {
   "cell_type": "markdown",
   "metadata": {},
   "source": [
    "#### 1.2.3. Include variables file\n",
    "\n",
    "\n",
    "- `include_vars`: Load variables from given file, the file format can be `json` or `ymal`\n",
    "\n",
    "```yml\n",
    "tasks:\n",
    "  - name: Include vars from file\n",
    "    include_vars: variables_file.yml\n",
    "```"
   ]
  },
  {
   "cell_type": "code",
   "execution_count": null,
   "metadata": {},
   "outputs": [],
   "source": [
    "ansible-playbook vars.yml --tags \"G3\""
   ]
  },
  {
   "cell_type": "markdown",
   "metadata": {},
   "source": [
    "#### 1.2.4. Environment variables\n",
    "\n",
    "- `environment`: Set environment variables on remote server for current process\n",
    "\n",
    "```yml\n",
    "  environment:\n",
    "    env_var1: value1\n",
    "    env_var2: value2\n",
    "```\n",
    "\n",
    "- `ansible_env`: The ansible facts variable, an dictionary that include global environment variables\n",
    "\n",
    "```yml\n",
    "  tasks:\n",
    "    - name: Run when value of remote environment vairable \"RUNNING_STATUS\" is \"OK\"\n",
    "      when: ansible_env.RUNNING_STATUS == \"OK\"\n",
    "      # or ansible_env[\"RUNNING_STATUS\"] == \"OK\"\n",
    "      \n",
    "    - name: Show value of remote environment variable \"NAME\"\n",
    "      debug: \n",
    "        msg: \"The value is: {{ ansible_env.NAME }}\"\n",
    "```\n",
    "\n",
    "- `lookup('env', <name>)`: Get special environment variables by name on local machine\n",
    "\n",
    "```yml\n",
    "  tasks:\n",
    "    - name: Show value of local environment variable \"HOST\"\n",
    "      debug: \n",
    "        msg: \"The value is: {{ lookup('env', 'HOST') }}\"\n",
    "      when: (lookup('env', 'HOST') is defined)\n",
    "```"
   ]
  },
  {
   "cell_type": "code",
   "execution_count": null,
   "metadata": {},
   "outputs": [],
   "source": [
    "VAR_MSG=\"HELLO WORLD\" ansible-playbook vars.yml --tags \"G4\""
   ]
  },
  {
   "cell_type": "markdown",
   "metadata": {},
   "source": [
    "#### 1.2.5. Show ansible variables and facts variables\n",
    "\n",
    "- `ansible_facts`: A dictionary that include all facts variables fetched from remote server, the `gather_facts` field must be `True`\n",
    "\n",
    "```yml\n",
    "tasks:\n",
    "  - name: Show ansible facts variables\n",
    "    debug:\n",
    "      msg: \n",
    "        - \"Architecture: {{ ansible_facts.architecture }}\"\n",
    "```"
   ]
  },
  {
   "cell_type": "code",
   "execution_count": null,
   "metadata": {},
   "outputs": [],
   "source": [
    "ansible-playbook vars.yml --tags \"G5\""
   ]
  },
  {
   "cell_type": "markdown",
   "metadata": {},
   "source": [
    "#### 1.2.6. Set variable by task\n",
    "\n",
    "- `set_fact`: `set_fact` module can set variable in task\n",
    "\n",
    "```yml\n",
    "tasks:\n",
    "  - name: Set variables \"a\" and \"b\"\n",
    "    set_fact:\n",
    "      a: 100\n",
    "      b: 200\n",
    "```"
   ]
  },
  {
   "cell_type": "code",
   "execution_count": null,
   "metadata": {},
   "outputs": [],
   "source": [
    "ansible-playbook vars.yml --tags \"G6\""
   ]
  },
  {
   "cell_type": "markdown",
   "metadata": {},
   "source": [
    "### 1.3. Conditionals\n",
    "\n",
    "See [conditional.yml](./conditional.yml)"
   ]
  },
  {
   "cell_type": "markdown",
   "metadata": {},
   "source": [
    "#### 1.3.1. Basic conditionals with `when`\n",
    "\n",
    "- `when <conditional>`: Task execute when value of conditional statement is `True`\n",
    "\n",
    "```yml\n",
    "tasks:\n",
    "  - name: Run shell command if target distribution is \"Debian\"\n",
    "    shell: uname -sa\n",
    "    when: ansible_distribution == \"Debian\"\n",
    "```"
   ]
  },
  {
   "cell_type": "code",
   "execution_count": null,
   "metadata": {},
   "outputs": [],
   "source": [
    "ansible-playbook conditional.yml --tags \"G1\""
   ]
  },
  {
   "cell_type": "markdown",
   "metadata": {},
   "source": [
    "#### 1.3.2. Conditionals based on `ansible_facts`\n",
    "\n",
    "```yml\n",
    "tasks:\n",
    "  - name: Run shell command if target distribution is \"Debian\" and version ge than 10\n",
    "    shell: uname -sa\n",
    "    when: >\n",
    "      ansible_facts.distribution == \"Debian\" and \n",
    "      (ansible_facts.distribution_major_version | int) >= 10\n",
    "```"
   ]
  },
  {
   "cell_type": "code",
   "execution_count": null,
   "metadata": {},
   "outputs": [],
   "source": [
    "ansible-playbook conditional.yml --tags \"G2\""
   ]
  },
  {
   "cell_type": "markdown",
   "metadata": {},
   "source": [
    "#### 1.3.3. Conditions based on registered variables\n",
    "\n",
    "- `register`: Register a variable to save result of task\n",
    "\n",
    "```yaml\n",
    "tasks:\n",
    "  - name: Get \"uname -sa\" result as register variable\n",
    "    shell: uname -sa\n",
    "    register: uname_result\n",
    "\n",
    "  - name: Show \"stdout\" propertiy of register variable\n",
    "    debug:\n",
    "      msg: \"{{ uname_result.stdout }}\"\n",
    "    when: (uname_result.stdout | length) > 0\n",
    "```"
   ]
  },
  {
   "cell_type": "code",
   "execution_count": null,
   "metadata": {},
   "outputs": [],
   "source": [
    "ansible-playbook conditional.yml --tags \"G3\""
   ]
  },
  {
   "cell_type": "markdown",
   "metadata": {},
   "source": [
    "#### 1.3.4. Conditions based on operation result\n",
    "\n",
    "- `skipped`: Registered variable is marked as 'skipped', the task was skipped\n",
    "\n",
    "```yaml\n",
    "tasks:\n",
    "  - name: \"Skipping\" task\n",
    "    command: /usr/bin/true\n",
    "    register: cmd_result\n",
    "    when: False\n",
    "  \n",
    "  - name: Execute if lastest task is skipped\n",
    "    debug: \n",
    "      msg: \"command {{ cmd }} is skipped\"\n",
    "    when: (cmd_result is skipped)\n",
    "```"
   ]
  },
  {
   "cell_type": "code",
   "execution_count": null,
   "metadata": {},
   "outputs": [],
   "source": [
    "ansible-playbook conditional.yml --tags \"G4\""
   ]
  },
  {
   "cell_type": "markdown",
   "metadata": {},
   "source": [
    "- `succeeded`: Registered variable is marked as 'succeeded', the task worked succsessful\n",
    "\n",
    "```yaml\n",
    "tasks:\n",
    "  - name: \"Skipping\" task\n",
    "    command: /usr/bin/false\n",
    "    register: cmd_result\n",
    "\n",
    "  - name: Show \"{{ cmd }}\" result if it succeeded\n",
    "    debug: \n",
    "      msg: \"{{ cmd_result.msg }}\"\n",
    "    when: (cmd_result is succeeded)\n",
    "```"
   ]
  },
  {
   "cell_type": "code",
   "execution_count": null,
   "metadata": {},
   "outputs": [],
   "source": [
    "CMD=\"ls -al\" ansible-playbook conditional.yml --tags \"G4\""
   ]
  },
  {
   "cell_type": "markdown",
   "metadata": {},
   "source": [
    "- `failed`: Registered variable is marked as 'failed', the task finish with error\n",
    "\n",
    "```yaml\n",
    "tasks:\n",
    "  - name: \"Skipping\" task\n",
    "    command: /usr/bin/false\n",
    "    register: cmd_result\n",
    "\n",
    "  - name: Show \"{{ cmd }}\" result if it failed\n",
    "    debug: \n",
    "      msg: \"{{ cmd_result.msg }}\"\n",
    "    when: (cmd_result is failed)\n",
    "```"
   ]
  },
  {
   "cell_type": "code",
   "execution_count": null,
   "metadata": {},
   "outputs": [],
   "source": [
    "CMD=\"bad_command\" ansible-playbook conditional.yml --tags \"G4\""
   ]
  },
  {
   "cell_type": "markdown",
   "metadata": {},
   "source": [
    "### 1.4. Loop\n",
    "\n",
    "See [loop.yml](./loop.yml)"
   ]
  },
  {
   "cell_type": "markdown",
   "metadata": {},
   "source": [
    "#### 1.4.1. Simple loop\n",
    "\n",
    "- `with_items <collection>`\n",
    "\n",
    "```yml\n",
    "tasks:\n",
    "  - name: Loop by \"with_items\"\n",
    "    debug:\n",
    "      msg: \"item is: {{ item }}\"\n",
    "    with_items:\n",
    "      - a\n",
    "      - b\n",
    "      - c\n",
    "      - d\n",
    "```\n",
    "    Or \n",
    "```yml\n",
    "vars:\n",
    "  items: ['a', 'b', 'c']\n",
    "tasks:\n",
    "  - name: Loop by \"with_items\"\n",
    "    debug:\n",
    "      msg: \"item is: {{ item }}\"\n",
    "    with_items: \"{{ items }}\"\n",
    "```"
   ]
  },
  {
   "cell_type": "code",
   "execution_count": null,
   "metadata": {},
   "outputs": [],
   "source": [
    "ansible-playbook loop.yml --tags \"G1\""
   ]
  },
  {
   "cell_type": "markdown",
   "metadata": {},
   "source": [
    "#### 1.4.2. Nested loop\n",
    "\n",
    "- `with_nested: [<collection1>, <collection2>, ...]`\n",
    "\n",
    "```yml\n",
    "tasks:\n",
    "  - name: Loop by \"with_nested\"\n",
    "    debug:\n",
    "      msg: \"item[0] is: {{ item[0] }} and item[1] is: {{ item[1] }}\"\n",
    "    with_nested:\n",
    "      - ['a', 'b', 'c']\n",
    "      - ['x', 'y']\n",
    "```\n",
    "    Or\n",
    "```yml\n",
    "vars:\n",
    "  list1: ['a', 'b', 'c']\n",
    "  list2: ['x', 'y']\n",
    "tasks:\n",
    "  - name: Loop by \"with_nested\"\n",
    "    debug:\n",
    "      msg: \"item[0] is: {{ item[0] }} and item[1] is: {{ item[1] }}\"\n",
    "    with_nested:\n",
    "      - \"{{ list1 }}\"\n",
    "      - \"{{ list2 }}\"\n",
    "```"
   ]
  },
  {
   "cell_type": "code",
   "execution_count": null,
   "metadata": {},
   "outputs": [],
   "source": [
    "ansible-playbook loop.yml --tags \"G2\""
   ]
  },
  {
   "cell_type": "markdown",
   "metadata": {},
   "source": [
    "#### 1.4.3. Loop with task results\n",
    "\n",
    "- `with_items <register>.stdout_lines`\n",
    "\n",
    "```yml\n",
    "tasks:\n",
    "  - name: List files in root\n",
    "    shell:\n",
    "      cmd: ls -al\n",
    "      chdir: /\n",
    "    register: ls_result\n",
    "      \n",
    "  - name: Loop by task result\n",
    "    debug:\n",
    "      msg: \"Item is: {{ item }}\"\n",
    "    with_items: \"{{ ls_result.stdout_lines }}\"\n",
    "```"
   ]
  },
  {
   "cell_type": "code",
   "execution_count": null,
   "metadata": {},
   "outputs": [],
   "source": [
    "ansible-playbook loop.yml --tags \"G3\""
   ]
  },
  {
   "cell_type": "markdown",
   "metadata": {},
   "source": [
    "#### 1.4.4. Loop in dictionary\n",
    "\n",
    "- `with_dict <dictionary>`\n",
    "\n",
    "```yml\n",
    "vars:\n",
    "  map:\n",
    "    a: 100\n",
    "    b: 200\n",
    "tasks:\n",
    "  - name: Loop in dictionary with key and value\n",
    "    debug:\n",
    "      msg: \"{{ item.key }}: {{ item.value }}\"\n",
    "    with_dict: \"{{ map }}\"\n",
    "```"
   ]
  },
  {
   "cell_type": "code",
   "execution_count": null,
   "metadata": {},
   "outputs": [],
   "source": [
    "ansible-playbook loop.yml --tags \"G4\""
   ]
  },
  {
   "cell_type": "markdown",
   "metadata": {},
   "source": [
    "#### 1.4.5. Loop in file list\n",
    "\n",
    "- `with_fileglob [<glob1>, <glob2>, ...]`\n",
    "\n",
    "```yml\n",
    "tasks:\n",
    "  - name: Loop in file list\n",
    "    debug:\n",
    "      msg: \"{{ item }}\"\n",
    "    with_fileglob: \n",
    "      - ./*.yml\n",
    "```"
   ]
  },
  {
   "cell_type": "code",
   "execution_count": null,
   "metadata": {},
   "outputs": [],
   "source": [
    "ansible-playbook loop.yml --tags \"G5\""
   ]
  },
  {
   "cell_type": "markdown",
   "metadata": {},
   "source": [
    "### 1.5. Block\n",
    "\n",
    "See [block.yml](./block.yml)"
   ]
  },
  {
   "cell_type": "markdown",
   "metadata": {},
   "source": [
    "#### 1.5.1. Run task group by blocks"
   ]
  },
  {
   "cell_type": "code",
   "execution_count": null,
   "metadata": {},
   "outputs": [],
   "source": [
    "ansible-playbook block.yml --tags \"G1\""
   ]
  },
  {
   "cell_type": "markdown",
   "metadata": {},
   "source": [
    "#### 1.5.2. Error handle by blocks"
   ]
  },
  {
   "cell_type": "code",
   "execution_count": null,
   "metadata": {},
   "outputs": [],
   "source": [
    "ansible-playbook block.yml --tags \"G2\""
   ]
  },
  {
   "cell_type": "markdown",
   "metadata": {},
   "source": [
    "#### 1.5.3. Error aborting\n",
    "\n",
    "- When each remote server raise error, the whole play abort on all servers"
   ]
  },
  {
   "cell_type": "code",
   "execution_count": null,
   "metadata": {},
   "outputs": [],
   "source": [
    "ansible-playbook block.yml --tags \"G3\""
   ]
  },
  {
   "cell_type": "markdown",
   "metadata": {},
   "source": [
    "### 1.6. Error handle\n",
    "\n",
    "See [error_handle.yml](./error_handle.yml)"
   ]
  },
  {
   "cell_type": "markdown",
   "metadata": {},
   "source": [
    "#### 1.6.1. Ignoring failed tasks\n",
    "\n",
    "- `ignore_errors`\n",
    "```yml\n",
    "tasks:\n",
    "    - name: Ignoring failed tasks\n",
    "      command: /bin/false\n",
    "      ignore_errors: True\n",
    "```"
   ]
  },
  {
   "cell_type": "code",
   "execution_count": null,
   "metadata": {},
   "outputs": [],
   "source": [
    "ansible-playbook error_handle.yml --tags \"G1\""
   ]
  },
  {
   "cell_type": "markdown",
   "metadata": {},
   "source": [
    "#### 1.6.2. Ignoring unreachable host errors"
   ]
  },
  {
   "cell_type": "code",
   "execution_count": null,
   "metadata": {},
   "outputs": [],
   "source": [
    "ansible-playbook error_handle.yml --tags \"G2\""
   ]
  },
  {
   "cell_type": "markdown",
   "metadata": {},
   "source": [
    "#### 1.6.3. Defining failure"
   ]
  },
  {
   "cell_type": "code",
   "execution_count": null,
   "metadata": {},
   "outputs": [],
   "source": [
    "ansible-playbook error_handle.yml --tags \"G3\""
   ]
  },
  {
   "cell_type": "markdown",
   "metadata": {},
   "source": [
    "#### 1.6.4. Defining “changed”"
   ]
  },
  {
   "cell_type": "code",
   "execution_count": null,
   "metadata": {},
   "outputs": [],
   "source": [
    "ansible-playbook error_handle.yml --tags \"G4\""
   ]
  },
  {
   "cell_type": "markdown",
   "metadata": {},
   "source": [
    "#### 1.6.5. Ensuring success for shell command"
   ]
  },
  {
   "cell_type": "code",
   "execution_count": null,
   "metadata": {},
   "outputs": [],
   "source": [
    "ansible-playbook error_handle.yml --tags \"G5\""
   ]
  },
  {
   "cell_type": "markdown",
   "metadata": {},
   "source": [
    "#### 1.6.6. Aborting a play on all hosts\n",
    "\n",
    "- `any_errors_fatal`"
   ]
  },
  {
   "cell_type": "code",
   "execution_count": null,
   "metadata": {},
   "outputs": [],
   "source": [
    "ansible-playbook error_handle.yml --tags \"G6-1\""
   ]
  },
  {
   "cell_type": "markdown",
   "metadata": {},
   "source": [
    "- Setting a maximum failure percentage"
   ]
  },
  {
   "cell_type": "code",
   "execution_count": null,
   "metadata": {},
   "outputs": [],
   "source": [
    "ansible-playbook error_handle.yml --tags \"G6-2\""
   ]
  }
 ],
 "metadata": {
  "kernelspec": {
   "display_name": "Bash",
   "language": "bash",
   "name": "bash"
  },
  "language_info": {
   "codemirror_mode": "shell",
   "file_extension": ".sh",
   "mimetype": "text/x-sh",
   "name": "bash"
  }
 },
 "nbformat": 4,
 "nbformat_minor": 4
}
