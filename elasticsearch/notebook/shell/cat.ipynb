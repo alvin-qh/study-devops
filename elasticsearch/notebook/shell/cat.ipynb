{
 "cells": [
  {
   "cell_type": "markdown",
   "metadata": {},
   "source": [
    "# Cat 命令"
   ]
  },
  {
   "cell_type": "markdown",
   "metadata": {},
   "source": [
    "## 0. 公共参数"
   ]
  },
  {
   "cell_type": "markdown",
   "metadata": {},
   "source": [
    "### 0.1. 结果显示为表格时参数设置\n",
    "\n",
    "- `h`: 要显示的列，例如: `h=a,b,c,d`\n",
    "- `bytes`: 字节大小的单位\n",
    "- `s`: 排序选项，例如: `s=xxx` or `s=xxx:desc`\n",
    "- `v`: 显示表头"
   ]
  },
  {
   "cell_type": "markdown",
   "metadata": {},
   "source": [
    "### 0.2. 结果显示为 JSON 时参数设置\n",
    "\n",
    "- `format`: `format=json`，显示为 JSON\n",
    "- `pretty`: 显示优化的格式"
   ]
  },
  {
   "cell_type": "markdown",
   "metadata": {},
   "source": [
    "## 1. 索引状态"
   ]
  },
  {
   "cell_type": "markdown",
   "metadata": {},
   "source": [
    "### 1.1. 显示索引状态"
   ]
  },
  {
   "cell_type": "code",
   "execution_count": null,
   "metadata": {},
   "outputs": [],
   "source": [
    "echo -e \"* show indices as table cells: \";\n",
    "curl -H 'Cache-Control: no-cache' -H 'Content-Type: application/json' \\\n",
    "     -X GET 'http://localhost:9200/_cat/indices?v&h=index,health,docs.count,store.size&bytes=mb&pretty&s=docs.count:desc';\n",
    "    \n",
    "echo -e \"\\n* show indices as json format: \";\n",
    "curl -H 'Cache-Control: no-cache' -H 'Content-Type: application/json' \\\n",
    "     -X GET 'http://localhost:9200/_cat/indices?format=json&pretty&s=docs.count:desc';"
   ]
  },
  {
   "cell_type": "markdown",
   "metadata": {},
   "source": [
    "## 2. 显示分片状态"
   ]
  },
  {
   "cell_type": "markdown",
   "metadata": {},
   "source": [
    "### 2.1. 显示所有分片状态"
   ]
  },
  {
   "cell_type": "code",
   "execution_count": null,
   "metadata": {},
   "outputs": [],
   "source": [
    "echo -e \"* show shards info as table cells: \";\n",
    "curl -H 'Cache-Control: no-cache' -H 'Content-Type: application/json' \\\n",
    "     -X GET 'http://localhost:9200/_cat/shards?v&h=index,shard,prirep,state,store,unassigned.reason';\n",
    "     \n",
    "echo -e \"\\n* show shards info as json format: \";\n",
    "curl -H 'Cache-Control: no-cache' -H 'Content-Type: application/json' \\\n",
    "     -X GET 'http://localhost:9200/_cat/shards?format=json&pretty';"
   ]
  },
  {
   "cell_type": "markdown",
   "metadata": {},
   "source": [
    "## 3. 健康检查"
   ]
  },
  {
   "cell_type": "markdown",
   "metadata": {},
   "source": [
    "### 3.1. 集群健康检查"
   ]
  },
  {
   "cell_type": "code",
   "execution_count": null,
   "metadata": {},
   "outputs": [],
   "source": [
    "echo -e \"* show healthcheck info as table cells: \";\n",
    "curl -H 'Cache-Control: no-cache' -H 'Content-Type: application/json' \\\n",
    "     -X GET 'http://localhost:9200/_cat/health?v';\n",
    "\n",
    "echo -e \"\\n* show healthcheck info as json format: \";\n",
    "curl -H 'Cache-Control: no-cache' -H 'Content-Type: application/json' \\\n",
    "     -X GET 'http://localhost:9200/_cat/health?format=json&pretty';"
   ]
  },
  {
   "cell_type": "markdown",
   "metadata": {},
   "source": [
    "## 4. 节点状态"
   ]
  },
  {
   "cell_type": "markdown",
   "metadata": {},
   "source": [
    "### 4.1. 主节点状态"
   ]
  },
  {
   "cell_type": "code",
   "execution_count": null,
   "metadata": {},
   "outputs": [],
   "source": [
    "echo -e \"* show master node info as table cells: \";\n",
    "curl -H 'Cache-Control: no-cache' -H 'Content-Type: application/json' \\\n",
    "     -X GET 'http://localhost:9200/_cat/master?v';\n",
    "     \n",
    "echo -e \"\\n* show master node info as json format: \";\n",
    "curl -H 'Cache-Control: no-cache' -H 'Content-Type: application/json' \\\n",
    "     -X GET 'http://localhost:9200/_cat/master?format=json&pretty';"
   ]
  },
  {
   "cell_type": "markdown",
   "metadata": {},
   "source": [
    "### 4.2. 所有节点状态"
   ]
  },
  {
   "cell_type": "code",
   "execution_count": null,
   "metadata": {},
   "outputs": [],
   "source": [
    "echo -e \"* show all nodes info as table cells: \";\n",
    "curl -H 'Cache-Control: no-cache' -H 'Content-Type: application/json' \\\n",
    "     -X GET 'http://localhost:9200/_cat/nodes?v';\n",
    "     \n",
    "echo -e \"\\n* show all nodes info as json format: \";\n",
    "curl -H 'Cache-Control: no-cache' -H 'Content-Type: application/json' \\\n",
    "     -X GET 'http://localhost:9200/_cat/nodes?format=json&pretty';"
   ]
  },
  {
   "cell_type": "markdown",
   "metadata": {},
   "source": [
    "### 4.3. 节点属性"
   ]
  },
  {
   "cell_type": "code",
   "execution_count": null,
   "metadata": {},
   "outputs": [],
   "source": [
    "echo -e \"* show attributes of each node as table cells: \";\n",
    "curl -H 'Cache-Control: no-cache' -H 'Content-Type: application/json' \\\n",
    "     -X GET 'http://localhost:9200/_cat/nodeattrs?v';\n",
    "     \n",
    "echo -e \"\\n* show attributes of each node as json format: \";\n",
    "curl -H 'Cache-Control: no-cache' -H 'Content-Type: application/json' \\\n",
    "     -X GET 'http://localhost:9200/_cat/nodeattrs?format=json&pretty';"
   ]
  },
  {
   "cell_type": "markdown",
   "metadata": {},
   "source": [
    "### 4.4. 节点恢复状态"
   ]
  },
  {
   "cell_type": "code",
   "execution_count": null,
   "metadata": {},
   "outputs": [],
   "source": [
    "echo -e \"* show recovery of each node as table cells: \";\n",
    "curl -H 'Cache-Control: no-cache' -H 'Content-Type: application/json' \\\n",
    "     -X GET 'http://localhost:9200/_cat/recovery?v';\n",
    "     \n",
    "echo -e \"\\n* show recovery of each node as json format: \";\n",
    "curl -H 'Cache-Control: no-cache' -H 'Content-Type: application/json' \\\n",
    "     -X GET 'http://localhost:9200/_cat/recovery?format=json&pretty';"
   ]
  },
  {
   "cell_type": "markdown",
   "metadata": {},
   "source": [
    "### 4.5. 节点线程池状态"
   ]
  },
  {
   "cell_type": "code",
   "execution_count": null,
   "metadata": {},
   "outputs": [],
   "source": [
    "echo -e \"* show thread pool info of each node as table cells: \";\n",
    "curl -H 'Cache-Control: no-cache' -H 'Content-Type: application/json' \\\n",
    "     -X GET 'http://localhost:9200/_cat/thread_pool/search?v';\n",
    "     \n",
    "     \n",
    "echo -e \"\\n* show thread pool info of each node as json format: \";\n",
    "curl -H 'Cache-Control: no-cache' -H 'Content-Type: application/json' \\\n",
    "     -X GET 'http://localhost:9200/_cat/thread_pool/search?format=json&pretty';"
   ]
  },
  {
   "cell_type": "markdown",
   "metadata": {},
   "source": [
    "## 5. 插件"
   ]
  },
  {
   "cell_type": "markdown",
   "metadata": {},
   "source": [
    "### 5.1. 显示所有插件状态"
   ]
  },
  {
   "cell_type": "code",
   "execution_count": null,
   "metadata": {},
   "outputs": [],
   "source": [
    "echo -e \"* show plugin info of each node as table cells: \";\n",
    "curl -H 'Cache-Control: no-cache' -H 'Content-Type: application/json' \\\n",
    "     -X GET 'http://localhost:9200/_cat/plugins?v';\n",
    "     \n",
    "echo -e \"\\n* show plugin info of each node as json format: \";\n",
    "curl -H 'Cache-Control: no-cache' -H 'Content-Type: application/json' \\\n",
    "     -X GET 'http://localhost:9200/_cat/plugins?format=json&pretty';"
   ]
  },
  {
   "cell_type": "markdown",
   "metadata": {},
   "source": [
    "## 6. 快照信息"
   ]
  },
  {
   "cell_type": "markdown",
   "metadata": {},
   "source": [
    "### 6.1. 显示指定快照信息"
   ]
  },
  {
   "cell_type": "code",
   "execution_count": null,
   "metadata": {},
   "outputs": [],
   "source": [
    "echo -e \"* show snapshots info with name:\";\n",
    "\n",
    "curl -H 'Cache-Control: no-cache' -H 'Content-Type: application/json' \\\n",
    "     -X GET 'http://localhost:9200/_cat/snapshots/my_backup?pretty';"
   ]
  },
  {
   "cell_type": "markdown",
   "metadata": {},
   "source": [
    "## 7. 仓储信息"
   ]
  },
  {
   "cell_type": "markdown",
   "metadata": {},
   "source": [
    "### 7.1. 获取仓储信息"
   ]
  },
  {
   "cell_type": "code",
   "execution_count": null,
   "metadata": {},
   "outputs": [],
   "source": [
    "echo -e \"* show repositories info:\";\n",
    "\n",
    "curl -H 'Cache-Control: no-cache' -H 'Content-Type: application/json' \\\n",
    "     -X GET 'http://localhost:9200/_cat/repositories?v'"
   ]
  }
 ],
 "metadata": {
  "kernelspec": {
   "display_name": "Bash",
   "language": "bash",
   "name": "bash"
  },
  "language_info": {
   "codemirror_mode": "shell",
   "file_extension": ".sh",
   "mimetype": "text/x-sh",
   "name": "bash"
  }
 },
 "nbformat": 4,
 "nbformat_minor": 4
}
