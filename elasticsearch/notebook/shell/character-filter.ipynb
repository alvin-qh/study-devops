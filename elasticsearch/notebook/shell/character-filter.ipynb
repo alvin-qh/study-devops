{
 "cells": [
  {
   "cell_type": "markdown",
   "metadata": {},
   "source": [
    "# 字符过滤器"
   ]
  },
  {
   "cell_type": "markdown",
   "metadata": {},
   "source": [
    "字符筛选器用于在字符流传递给分词器 ([Tokenizer](https://www.elastic.co/guide/en/elasticsearch/reference/current/analysis-tokenizers.html)) 之前对其进行预处理。\n",
    "\n",
    "字符筛选器作为字符流接收原始文本，并且可以通过添加、删除或更改字符来转换流。例如，字符筛选器可用于将“印度-阿拉伯数字” `(٠‎١٢٣٤٥٦٧٨‎٩‎)` 转换为“阿拉伯语-拉丁”等效项`(0123456789)`，或从流中剥离像`<b>`这样的 HTML 元素。\n",
    "\n",
    "Elasticsearch 具有许多内置字符筛选器，可用于构建自定义文本分析器 ([Custom analyzers](https://www.elastic.co/guide/en/elasticsearch/reference/current/analysis-custom-analyzer.html))。\n"
   ]
  },
  {
   "cell_type": "markdown",
   "metadata": {},
   "source": [
    "## 1. 内置字符过滤器"
   ]
  },
  {
   "cell_type": "markdown",
   "metadata": {},
   "source": [
    "### 1.1. HTML 标记字符筛选器 (HTML Strip Char Filter)\n",
    "\n",
    "`html_strip`筛选器从文本中剥离 HTML 元素，并将 HTML 实体替换为其解码的值（例如，用`&`替换`&amp`）\n",
    "\n",
    "- 过滤器"
   ]
  },
  {
   "cell_type": "code",
   "execution_count": null,
   "metadata": {},
   "outputs": [],
   "source": [
    "text='{\n",
    "    \"tokenizer\": \"keyword\",\n",
    "    \"char_filter\": [\n",
    "        \"html_strip\"\n",
    "    ],\n",
    "    \"text\": \"<p>I&apos;m so <b>happy</b>!</p>\"\n",
    "}';\n",
    "\n",
    "curl -H 'Cache-Control: no-cache' -H 'Content-Type: application/json' \\\n",
    "     -X POST 'http://localhost:9200/_analyze?pretty' -d \"$(echo $text)\";"
   ]
  },
  {
   "cell_type": "markdown",
   "metadata": {},
   "source": [
    "- 设置到索引"
   ]
  },
  {
   "cell_type": "code",
   "execution_count": null,
   "metadata": {},
   "outputs": [],
   "source": [
    "# create index\n",
    "echo -e \"* create index as: \";\n",
    "settings='{\n",
    "    \"settings\": {\n",
    "        \"number_of_replicas\": 0,\n",
    "        \"number_of_shards\": 1,\n",
    "        \"analysis\": {\n",
    "            \"analyzer\": {\n",
    "                \"html_strip_analyzer\": {\n",
    "                    \"tokenizer\": \"keyword\",\n",
    "                    \"char_filter\": [\n",
    "                        \"html_strip\"\n",
    "                    ]\n",
    "                }\n",
    "            }\n",
    "        }\n",
    "    }\n",
    "}';\n",
    "curl -H 'Cache-Control: no-cache' -H 'Content-Type: application/json' \\\n",
    "     -X PUT 'http://localhost:9200/analyzer?pretty' -d \"$(echo $settings)\";\n",
    "\n",
    "# test index analyzer\n",
    "echo -e \"\\n* analyzed with index as: \";\n",
    "text='{\n",
    "    \"analyzer\": \"html_strip_analyzer\",\n",
    "    \"text\": \"<p>I&apos;m so <b>happy</b>!</p>\"\n",
    "}';\n",
    "curl -H 'Cache-Control: no-cache' -H 'Content-Type: application/json' \\\n",
    "     -X POST 'http://localhost:9200/analyzer/_analyze?pretty' -d \"$(echo $text)\";\n",
    "\n",
    "# delete index\n",
    "echo -e \"\\n* delete index as:\";\n",
    "curl -H 'Cache-Control: no-cache' -H 'Content-Type: application/json' \\\n",
    "     -X DELETE 'http://localhost:9200/analyzer?pretty';"
   ]
  },
  {
   "cell_type": "markdown",
   "metadata": {},
   "source": [
    "### 1.2. 映射字符过滤器 (Mapping Char Filter)\n",
    "\n",
    "映射字符过滤器接受键和值的映射。每当遇到与键相同的字符串时，它就用与该键关联的值替换它们。\n",
    "\n",
    "匹配是贪婪方式的，在给定词汇上以最长的模式匹配。也可以替换为空字符串。\n",
    "\n",
    "- 过滤器"
   ]
  },
  {
   "cell_type": "code",
   "execution_count": null,
   "metadata": {},
   "outputs": [],
   "source": [
    "text='{\n",
    "    \"tokenizer\": \"keyword\",\n",
    "    \"char_filter\": [\n",
    "        {\n",
    "            \"type\": \"mapping\",\n",
    "            \"mappings\": [\n",
    "                \"٠ => 0\",\n",
    "                \"١ => 1\",\n",
    "                \"٢ => 2\",\n",
    "                \"٣ => 3\",\n",
    "                \"٤ => 4\",\n",
    "                \"٥ => 5\",\n",
    "                \"٦ => 6\",\n",
    "                \"٧ => 7\",\n",
    "                \"٨ => 8\",\n",
    "                \"٩ => 9\"\n",
    "            ]\n",
    "        }\n",
    "    ],\n",
    "    \"text\": \"My license plate is ٢٥٠١٥\"\n",
    "}';\n",
    "\n",
    "curl -H 'Cache-Control: no-cache' -H 'Content-Type: application/json' \\\n",
    "     -X POST 'http://localhost:9200/_analyze?pretty' -d \"$(echo $text)\";"
   ]
  },
  {
   "cell_type": "markdown",
   "metadata": {},
   "source": [
    "- 参数:\n",
    "    - `mappings`: 一个映射数组，每个元素的形式为: `键 => 值`;\n",
    "    - `mappings_path`: 文本映射文件的路径(UTF-8编码)，其中每一行包含一个`键 => 值`映射，该路径可以是配置目录的绝对路径，也可以是相对于配置目录的路径\n",
    "\n",
    "> `mappings`或`mappings_path`参数二者必须提供一个\n",
    "\n",
    "- 设置到索引"
   ]
  },
  {
   "cell_type": "code",
   "execution_count": null,
   "metadata": {},
   "outputs": [],
   "source": [
    "# create index\n",
    "echo -e \"* create index as: \";\n",
    "settings='{\n",
    "    \"settings\": {\n",
    "        \"number_of_replicas\": 0,\n",
    "        \"number_of_shards\": 1,\n",
    "        \"analysis\": {\n",
    "            \"analyzer\": {\n",
    "                \"mapping_filter_analyzer\": {\n",
    "                    \"tokenizer\": \"keyword\",\n",
    "                    \"char_filter\": [\n",
    "                        \"mapping_filter\"\n",
    "                    ]\n",
    "                }\n",
    "            },\n",
    "            \"char_filter\": {\n",
    "                \"mapping_filter\": {\n",
    "                    \"type\": \"mapping\",\n",
    "                    \"mappings\": [\n",
    "                        \"٠ => 0\",\n",
    "                        \"١ => 1\",\n",
    "                        \"٢ => 2\",\n",
    "                        \"٣ => 3\",\n",
    "                        \"٤ => 4\",\n",
    "                        \"٥ => 5\",\n",
    "                        \"٦ => 6\",\n",
    "                        \"٧ => 7\",\n",
    "                        \"٨ => 8\",\n",
    "                        \"٩ => 9\"\n",
    "                    ]\n",
    "                }\n",
    "            }\n",
    "        }\n",
    "    }\n",
    "}';\n",
    "curl -H 'Cache-Control: no-cache' -H 'Content-Type: application/json' \\\n",
    "     -X PUT 'http://localhost:9200/analyzer?pretty' -d \"$(echo $settings)\";\n",
    "\n",
    "# test index analyzer\n",
    "echo -e \"\\n* analyzed with index as: \";\n",
    "text='{\n",
    "    \"analyzer\": \"mapping_filter_analyzer\",\n",
    "    \"text\": \"My license plate is ٢٥٠١٥\"\n",
    "}';\n",
    "curl -H 'Cache-Control: no-cache' -H 'Content-Type: application/json' \\\n",
    "     -X POST 'http://localhost:9200/analyzer/_analyze?pretty' -d \"$(echo $text)\";\n",
    "\n",
    "# delete index\n",
    "echo -e \"\\n* delete index as:\";\n",
    "curl -H 'Cache-Control: no-cache' -H 'Content-Type: application/json' \\\n",
    "     -X DELETE 'http://localhost:9200/analyzer?pretty';"
   ]
  },
  {
   "cell_type": "markdown",
   "metadata": {},
   "source": [
    "### 1.3. 正则表达式替换字符过滤器 (Pattern Replace Char Filter)\n",
    "\n",
    "`pattern_replace`字符过滤器使用一个正则表达式来匹配替换字符串替换的字符。替换字符串可以引用正则表达式中的组。\n",
    "\n",
    "匹配是贪婪方式的，在给定词汇上以最长的模式匹配。也可以替换为空字符串。\n",
    "\n",
    "- 过滤器"
   ]
  },
  {
   "cell_type": "code",
   "execution_count": null,
   "metadata": {},
   "outputs": [],
   "source": [
    "text='{\n",
    "    \"tokenizer\": \"keyword\",\n",
    "    \"char_filter\": [\n",
    "        {\n",
    "            \"type\": \"pattern_replace\",\n",
    "            \"pattern\": \"(\\\\d+)-(?=\\\\d)\",\n",
    "            \"replacement\": \"$1_\"\n",
    "        }\n",
    "    ],\n",
    "    \"text\": \"My credit card is 123-456-789\"\n",
    "}';\n",
    "\n",
    "curl -H 'Cache-Control: no-cache' -H 'Content-Type: application/json' \\\n",
    "     -X POST 'http://localhost:9200/_analyze?pretty' -d \"$(echo $text)\";"
   ]
  },
  {
   "cell_type": "markdown",
   "metadata": {},
   "source": [
    "- 参数:\n",
    "    - `pattern`: (Required) Java风格的正则表达式;\n",
    "    - `replacement`: 被替换字符串，它可以使用`$1`..`$9`的占位符，[如下所示](http://docs.oracle.com/javase/8/docs/api/java/util/regex/Matcher.html#appendReplacement-java.lang.StringBuffer-java.lang.String-);\n",
    "    - `flags`: Java正则表达式标志。标志应该用`|`分隔，例如`“CASE_INSENSITIVE|COMMENTS”`。\n",
    "\n",
    "> 使用更改原始文本长度的替换字符串可以用于搜索，但是会导致不正确的高亮显示。\n",
    "\n",
    "- 设置到索引"
   ]
  },
  {
   "cell_type": "code",
   "execution_count": null,
   "metadata": {},
   "outputs": [],
   "source": [
    "# create index\n",
    "echo -e \"* create index as: \";\n",
    "settings='{\n",
    "    \"settings\": {\n",
    "        \"number_of_replicas\": 0,\n",
    "        \"number_of_shards\": 1,\n",
    "        \"analysis\": {\n",
    "            \"analyzer\": {\n",
    "                \"pattern_replace_filter_analyzer\": {\n",
    "                    \"tokenizer\": \"keyword\",\n",
    "                    \"char_filter\": [\n",
    "                        \"pattern_replace_filter\"\n",
    "                    ]\n",
    "                }\n",
    "            },\n",
    "            \"char_filter\": {\n",
    "                \"pattern_replace_filter\": {\n",
    "                    \"type\": \"pattern_replace\",\n",
    "                    \"pattern\": \"(\\\\d+)-(?=\\\\d)\",\n",
    "                    \"replacement\": \"$1_\"\n",
    "                }\n",
    "            }\n",
    "        }\n",
    "    }\n",
    "}';\n",
    "curl -H 'Cache-Control: no-cache' -H 'Content-Type: application/json' \\\n",
    "     -X PUT 'http://localhost:9200/analyzer?pretty' -d \"$(echo $settings)\";\n",
    "\n",
    "# test index analyzer\n",
    "echo -e \"\\n* analyzed with index as: \";\n",
    "text='{\n",
    "    \"analyzer\": \"pattern_replace_filter_analyzer\",\n",
    "    \"text\": \"My credit card is 123-456-789\"\n",
    "}';\n",
    "curl -H 'Cache-Control: no-cache' -H 'Content-Type: application/json' \\\n",
    "     -X POST 'http://localhost:9200/analyzer/_analyze?pretty' -d \"$(echo $text)\";\n",
    "\n",
    "# delete index\n",
    "echo -e \"\\n* delete index as:\";\n",
    "curl -H 'Cache-Control: no-cache' -H 'Content-Type: application/json' \\\n",
    "     -X DELETE 'http://localhost:9200/analyzer?pretty';"
   ]
  }
 ],
 "metadata": {
  "kernelspec": {
   "display_name": "Bash",
   "language": "bash",
   "name": "bash"
  },
  "language_info": {
   "codemirror_mode": "shell",
   "file_extension": ".sh",
   "mimetype": "text/x-sh",
   "name": "bash"
  }
 },
 "nbformat": 4,
 "nbformat_minor": 4
}
