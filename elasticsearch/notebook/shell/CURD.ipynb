{
 "cells": [
  {
   "cell_type": "markdown",
   "metadata": {},
   "source": [
    "# Elasticsearch CURD"
   ]
  },
  {
   "cell_type": "markdown",
   "metadata": {},
   "source": [
    "## 1. Create"
   ]
  },
  {
   "cell_type": "markdown",
   "metadata": {},
   "source": [
    "### 1.1. Create index"
   ]
  },
  {
   "cell_type": "code",
   "execution_count": null,
   "metadata": {},
   "outputs": [],
   "source": [
    "# create an index\n",
    "echo -e \"* create index as: \";\n",
    "\n",
    "curl -H 'Cache-Control: no-cache' -H 'Content-Type: application/json' \\\n",
    "     -X PUT 'http://localhost:9200/person?pretty' -d '{\n",
    "         \"settings\": {\n",
    "            \"number_of_replicas\": 0,\n",
    "            \"number_of_shards\": 1\n",
    "        },\n",
    "        \"mappings\": {\n",
    "            \"properties\": {\n",
    "                \"name\": {\n",
    "                    \"type\": \"keyword\"\n",
    "                },\n",
    "                \"gender\": {\n",
    "                    \"type\": \"keyword\"\n",
    "                },\n",
    "                \"birthday\": {\n",
    "                    \"type\": \"date\"\n",
    "                },\n",
    "                \"role\": {\n",
    "                    \"type\": \"keyword\"\n",
    "                },\n",
    "                \"department\": {\n",
    "                    \"properties\": {\n",
    "                        \"college\": {\n",
    "                            \"type\": \"keyword\"\n",
    "                        },\n",
    "                        \"program\": {\n",
    "                            \"type\": \"keyword\"\n",
    "                        }\n",
    "                    }\n",
    "                }\n",
    "            }\n",
    "        }\n",
    "     }';"
   ]
  },
  {
   "cell_type": "markdown",
   "metadata": {},
   "source": [
    "### 1.2. Create entities"
   ]
  },
  {
   "cell_type": "code",
   "execution_count": null,
   "metadata": {},
   "outputs": [],
   "source": [
    "# create person 'alvin'\n",
    "echo -e \"* create person 'Alvin':\";\n",
    "person='{\n",
    "    \"name\": \"Alvin\",\n",
    "    \"gender\": \"M\",\n",
    "    \"birthday\": \"1981-03-17\",\n",
    "    \"role\": \"STUDENT\",\n",
    "    \"department\": {\n",
    "        \"college\": \"Computer science\",\n",
    "        \"program\": \"Software engineering\"\n",
    "    }\n",
    "}';\n",
    "curl -H 'Cache-Control: no-cache' -H 'Content-Type: application/json' \\\n",
    "     -X POST 'http://localhost:9200/person/_doc/001?pretty' -d \"$(echo $person)\";\n",
    "     \n",
    "     \n",
    "# create person 'Emma'\n",
    "echo -e \"\\n* create person 'Emma':\";\n",
    "person='{\n",
    "    \"name\": \"Emma\",\n",
    "    \"gender\": \"F\",\n",
    "    \"birthday\": \"1985-03-29\",\n",
    "    \"role\": \"STUDENT\",\n",
    "    \"department\": {\n",
    "        \"college\": \"Computer science\",\n",
    "        \"program\": \"Network engineering\"\n",
    "    }\n",
    "}';\n",
    "curl -H 'Cache-Control: no-cache' -H 'Content-Type: application/json' \\\n",
    "     -X POST 'http://localhost:9200/person/_doc/002?pretty' -d \"$(echo $person)\";\n",
    "     \n",
    "     \n",
    "# create teacher 'Lucy'\n",
    "echo -e \"\\n* create teacher 'Lucy':\";\n",
    "person='{\n",
    "    \"name\": \"Lucy\",\n",
    "    \"gender\": \"F\",\n",
    "    \"birthday\": \"1956-09-06\",\n",
    "    \"role\": \"TEACHER\",\n",
    "    \"department\": {\n",
    "        \"college\": \"Computer science\",\n",
    "        \"program\": \"Software engineering\"\n",
    "    }\n",
    "}';\n",
    "curl -H 'Cache-Control: no-cache' -H 'Content-Type: application/json' \\\n",
    "     -X POST 'http://localhost:9200/person/_doc/003?pretty' -d \"$(echo $person)\";\n",
    "\n",
    "     \n",
    "# create teacher 'Arthur'\n",
    "echo -e \"\\n* create teacher 'Arthur':\";\n",
    "person='{\n",
    "    \"name\": \"Arthur\",\n",
    "    \"gender\": \"M\",\n",
    "    \"birthday\": \"1972-08-13\",\n",
    "    \"role\": \"TEACHER\",\n",
    "    \"department\": {\n",
    "        \"college\": \"Computer science\",\n",
    "        \"program\": \"Network engineering\"\n",
    "    }\n",
    "}';\n",
    "curl -H 'Cache-Control: no-cache' -H 'Content-Type: application/json' \\\n",
    "     -X POST 'http://localhost:9200/person/_doc/004?pretty' -d \"$(echo $person)\";"
   ]
  },
  {
   "cell_type": "markdown",
   "metadata": {},
   "source": [
    "## 2. Update"
   ]
  },
  {
   "cell_type": "markdown",
   "metadata": {},
   "source": [
    "### 2.1. Update by id"
   ]
  },
  {
   "cell_type": "code",
   "execution_count": null,
   "metadata": {},
   "outputs": [],
   "source": [
    "# update by id\n",
    "echo -e \"* update by id:\";\n",
    "person='{\n",
    "    \"name\": \"Arthur Li\",\n",
    "    \"gender\": \"M\",\n",
    "    \"birthday\": \"1972-08-13\",\n",
    "    \"role\": \"TEACHER\",\n",
    "    \"department\": {\n",
    "        \"college\": \"Computer science\",\n",
    "        \"program\": \"Network engineering\"\n",
    "    }\n",
    "}';\n",
    "curl -H 'Cache-Control: no-cache' -H 'Content-Type: application/json' \\\n",
    "     -X PUT 'http://localhost:9200/person/_doc/004?pretty' -d \"$(echo $person)\";\n",
    "\n",
    "# query by id after updated\n",
    "echo -e \"\\n* query after update:\";\n",
    "curl -H 'Cache-Control: no-cache' -H 'Content-Type: application/json' \\\n",
    "     -X GET 'http://localhost:9200/person/_doc/004?pretty';"
   ]
  },
  {
   "cell_type": "markdown",
   "metadata": {},
   "source": [
    "### 2.2. Update by query condition\n",
    "\n",
    "- Arguments:\n",
    "    - `conflicts`: `conflicts=proceed`, make sure simply count version conflicts, and not cause the `_update_by_query` to abort;"
   ]
  },
  {
   "cell_type": "code",
   "execution_count": null,
   "metadata": {},
   "outputs": [],
   "source": [
    "# update by query condtion\n",
    "echo -e \"* update by query condition:\";\n",
    "update='{\n",
    "    \"script\": {\n",
    "        \"source\": \"ctx._source[\\\"gender\\\"] = \\\"F\\\"; ctx._source[\\\"department\\\"][\\\"program\\\"] = params.program;\",\n",
    "        \"params\": {\n",
    "            \"program\": \"Software engineering\"\n",
    "        },\n",
    "        \"lang\":\"painless\"\n",
    "    },\n",
    "    \"query\": {\n",
    "        \"term\": {\n",
    "            \"role\": \"TEACHER\"\n",
    "        }\n",
    "    }\n",
    "}';\n",
    "curl -H 'Cache-Control: no-cache' -H 'Content-Type: application/json' \\\n",
    "     -X POST 'http://localhost:9200/person/_update_by_query?pretty&conflicts=proceed' -d \"$(echo $update)\";\n",
    "\n",
    "# query by id after updated\n",
    "echo -e \"\\n* query after update:\";\n",
    "curl -H 'Cache-Control: no-cache' -H 'Content-Type: application/json' \\\n",
    "     -X GET 'http://localhost:9200/person/_doc/_search?pretty&q=role:TEACHER';"
   ]
  },
  {
   "cell_type": "markdown",
   "metadata": {},
   "source": [
    "## 3. Delete"
   ]
  },
  {
   "cell_type": "markdown",
   "metadata": {},
   "source": [
    "### 3.1. Delete by id"
   ]
  },
  {
   "cell_type": "code",
   "execution_count": null,
   "metadata": {},
   "outputs": [],
   "source": [
    "# delete entity by id\n",
    "echo -e \"* delete entity by id:\";\n",
    "curl -H 'Cache-Control: no-cache' -H 'Content-Type: application/json' \\\n",
    "     -X DELETE 'http://localhost:9200/person/_doc/002?pretty';\n",
    "\n",
    "# query all after delete\n",
    "echo -e \"\\n* after delete, entites are:\";\n",
    "curl -H 'Cache-Control: no-cache' -H 'Content-Type: application/json' \\\n",
    "     -X GET 'http://localhost:9200/person/_search?pretty';"
   ]
  },
  {
   "cell_type": "markdown",
   "metadata": {},
   "source": [
    "### 3.2. Delete by query condtion\n",
    "\n",
    "- Arguments:\n",
    "    - `conflicts`: `conflicts=proceed`, make sure simply count version conflicts, and not cause the `_update_by_query` to abort;"
   ]
  },
  {
   "cell_type": "code",
   "execution_count": null,
   "metadata": {},
   "outputs": [],
   "source": [
    "# delete by query condition\n",
    "echo -e \"* delete entity by id:\";\n",
    "condition='{\n",
    "    \"query\": {\n",
    "        \"term\": {\n",
    "            \"role\": \"STUDENT\"\n",
    "        }\n",
    "    }\n",
    "}';\n",
    "curl -H 'Cache-Control: no-cache' -H 'Content-Type: application/json' \\\n",
    "     -X POST 'http://localhost:9200/person/_delete_by_query?pretty&conflicts=proceed' -d \"$(echo $condition)\";\n",
    "\n",
    "\n",
    "# query all after delete\n",
    "echo -e \"\\n* after delete, entites are:\";\n",
    "curl -H 'Cache-Control: no-cache' -H 'Content-Type: application/json' \\\n",
    "     -X GET 'http://localhost:9200/person/_search?pretty';"
   ]
  },
  {
   "cell_type": "markdown",
   "metadata": {},
   "source": [
    "## 4. Query"
   ]
  },
  {
   "cell_type": "markdown",
   "metadata": {},
   "source": [
    "### 4.1. Basic query"
   ]
  },
  {
   "cell_type": "markdown",
   "metadata": {},
   "source": [
    "#### 4.1.1. Query all"
   ]
  },
  {
   "cell_type": "code",
   "execution_count": null,
   "metadata": {},
   "outputs": [],
   "source": [
    "echo -e \"* query all entities are: \";\n",
    "\n",
    "curl -H 'Cache-Control: no-cache' -H 'Content-Type: application/json' \\\n",
    "     -X GET 'http://localhost:9200/person/_search?pretty';"
   ]
  },
  {
   "cell_type": "markdown",
   "metadata": {},
   "source": [
    "#### 4.1.2. Query by id"
   ]
  },
  {
   "cell_type": "code",
   "execution_count": null,
   "metadata": {},
   "outputs": [],
   "source": [
    "echo -e \"* query entity by id '001' is: \";\n",
    "\n",
    "curl -H 'Cache-Control: no-cache' -H 'Content-Type: application/json' \\\n",
    "     -X GET 'http://localhost:9200/person/_doc/001?pretty';"
   ]
  },
  {
   "cell_type": "markdown",
   "metadata": {},
   "source": [
    "### 4.2. Query string query\n",
    "\n",
    "- Parameters:\n",
    "    - `q`: Lucene query string, see also [LuceneTutorial](http://www.lucenetutorial.com/lucene-query-syntax.html)\n",
    "    - `other parameters`: see also [ES doc](https://www.elastic.co/guide/en/elasticsearch/reference/current/search-uri-request.html)"
   ]
  },
  {
   "cell_type": "markdown",
   "metadata": {},
   "source": [
    "#### 4.2.1. Query by `attr=value`"
   ]
  },
  {
   "cell_type": "code",
   "execution_count": null,
   "metadata": {},
   "outputs": [],
   "source": [
    "echo -e \"* query all 'role is STUDENT' entites are: \";\n",
    "curl -H 'Cache-Control: no-cache' -H 'Content-Type: application/json' \\\n",
    "     -X GET 'http://localhost:9200/person/_doc/_search?pretty&q=role:STUDENT';"
   ]
  },
  {
   "cell_type": "markdown",
   "metadata": {},
   "source": [
    "#### 4.2.2. Query by `attr.subattr like value`"
   ]
  },
  {
   "cell_type": "code",
   "execution_count": null,
   "metadata": {},
   "outputs": [],
   "source": [
    "echo -e \"* query all 'department.program like Software' entites are: \";\n",
    "curl -H 'Cache-Control: no-cache' -H 'Content-Type: application/json' \\\n",
    "     -X GET 'http://localhost:9200/person/_doc/_search?pretty&q=department.program:Software*';"
   ]
  },
  {
   "cell_type": "markdown",
   "metadata": {},
   "source": [
    "#### 4.2.3. Query by `attr1=value1 AND attr2=value2`\n",
    "\n",
    "- notice:\n",
    "    - URL must be encoded. eg: blank space must be replaced by `%20`"
   ]
  },
  {
   "cell_type": "code",
   "execution_count": null,
   "metadata": {},
   "outputs": [],
   "source": [
    "echo -e \"* query all 'role is STUDENT AND department.program like Software' entites are: \";\n",
    "curl -H 'Cache-Control: no-cache' -H 'Content-Type: application/json' \\\n",
    "     -X GET 'http://localhost:9200/person/_doc/_search?pretty&q=role:STUDENT%20AND%20department.program:Software*';"
   ]
  },
  {
   "cell_type": "markdown",
   "metadata": {},
   "source": [
    "#### 4.2.4. Query by `attr1=value1 OR attr2=value2`"
   ]
  },
  {
   "cell_type": "code",
   "execution_count": null,
   "metadata": {},
   "outputs": [],
   "source": [
    "echo -e \"* query all 'role is STUDENT OR department.program like Software' entites are: \";\n",
    "curl -H 'Cache-Control: no-cache' -H 'Content-Type: application/json' \\\n",
    "     -X GET 'http://localhost:9200/person/_doc/_search?pretty&q=role:STUDENT%20OR%20department.program:Software*';"
   ]
  },
  {
   "cell_type": "markdown",
   "metadata": {},
   "source": [
    "#### 4.2.5. Query by `attr1=value1 AND attr2!=value2`"
   ]
  },
  {
   "cell_type": "code",
   "execution_count": null,
   "metadata": {},
   "outputs": [],
   "source": [
    "echo -e \"* query all 'role is STUDENT AND department.program NOT like Software' entites are: \";\n",
    "curl -H 'Cache-Control: no-cache' -H 'Content-Type: application/json' \\\n",
    "     -X GET 'http://localhost:9200/person/_doc/_search?pretty&q=role:STUDENT%20-(department.program:Software*)';"
   ]
  },
  {
   "cell_type": "markdown",
   "metadata": {},
   "source": [
    "### 4.2. Query DSL"
   ]
  },
  {
   "cell_type": "markdown",
   "metadata": {},
   "source": [
    "### "
   ]
  },
  {
   "cell_type": "markdown",
   "metadata": {},
   "source": [
    "### "
   ]
  },
  {
   "cell_type": "markdown",
   "metadata": {},
   "source": [
    "### "
   ]
  },
  {
   "cell_type": "markdown",
   "metadata": {},
   "source": [
    "### "
   ]
  },
  {
   "cell_type": "markdown",
   "metadata": {},
   "source": [
    "### "
   ]
  },
  {
   "cell_type": "markdown",
   "metadata": {},
   "source": [
    "### "
   ]
  },
  {
   "cell_type": "code",
   "execution_count": null,
   "metadata": {},
   "outputs": [],
   "source": [
    "echo -e \"* delete index as:\";\n",
    "\n",
    "curl -H 'Cache-Control: no-cache' -H 'Content-Type: application/json' \\\n",
    "     -X DELETE 'http://localhost:9200/person?pretty';"
   ]
  }
 ],
 "metadata": {
  "kernelspec": {
   "display_name": "Bash",
   "language": "bash",
   "name": "bash"
  },
  "language_info": {
   "codemirror_mode": "shell",
   "file_extension": ".sh",
   "mimetype": "text/x-sh",
   "name": "bash"
  }
 },
 "nbformat": 4,
 "nbformat_minor": 4
}
