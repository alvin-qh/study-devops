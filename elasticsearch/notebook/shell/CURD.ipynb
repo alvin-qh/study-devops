{
 "cells": [
  {
   "cell_type": "markdown",
   "metadata": {},
   "source": [
    "# Elasticsearch CURD"
   ]
  },
  {
   "cell_type": "markdown",
   "metadata": {},
   "source": [
    "## 1. Create"
   ]
  },
  {
   "cell_type": "markdown",
   "metadata": {},
   "source": [
    "### 1.1. Create index"
   ]
  },
  {
   "cell_type": "code",
   "execution_count": null,
   "metadata": {},
   "outputs": [],
   "source": [
    "# create an index\n",
    "echo -e \"* create index as: \";\n",
    "\n",
    "curl -H 'Cache-Control: no-cache' -H 'Content-Type: application/json' \\\n",
    "     -X PUT 'http://localhost:9200/person?pretty' -d '{\n",
    "         \"settings\": {\n",
    "            \"number_of_replicas\": 0,\n",
    "            \"number_of_shards\": 1\n",
    "        },\n",
    "        \"mappings\": {\n",
    "            \"properties\": {\n",
    "                \"name\": {\n",
    "                    \"type\": \"keyword\"\n",
    "                },\n",
    "                \"gender\": {\n",
    "                    \"type\": \"keyword\"\n",
    "                },\n",
    "                \"birthday\": {\n",
    "                    \"type\": \"date\"\n",
    "                },\n",
    "                \"role\": {\n",
    "                    \"type\": \"keyword\"\n",
    "                },\n",
    "                \"department\": {\n",
    "                    \"properties\": {\n",
    "                        \"college\": {\n",
    "                            \"type\": \"keyword\"\n",
    "                        },\n",
    "                        \"program\": {\n",
    "                            \"type\": \"keyword\"\n",
    "                        }\n",
    "                    }\n",
    "                },\n",
    "                \"note\": {\n",
    "                    \"type\": \"text\"\n",
    "                }\n",
    "            }\n",
    "        }\n",
    "     }';"
   ]
  },
  {
   "cell_type": "markdown",
   "metadata": {},
   "source": [
    "### 1.2. Create entities"
   ]
  },
  {
   "cell_type": "code",
   "execution_count": null,
   "metadata": {},
   "outputs": [],
   "source": [
    "# create person 'alvin'\n",
    "echo -e \"* create person 'Alvin':\";\n",
    "person='{\n",
    "    \"name\": \"Alvin\",\n",
    "    \"gender\": \"M\",\n",
    "    \"birthday\": \"1981-03-17\",\n",
    "    \"role\": \"STUDENT\",\n",
    "    \"department\": {\n",
    "        \"college\": \"Computer science\",\n",
    "        \"program\": \"Software engineering\"\n",
    "    },\n",
    "    \"note\": \"Top Outstanding student\"\n",
    "}';\n",
    "curl -H 'Cache-Control: no-cache' -H 'Content-Type: application/json' \\\n",
    "     -X POST 'http://localhost:9200/person/_doc/001?pretty' -d \"$(echo $person)\";\n",
    "     \n",
    "     \n",
    "# create person 'Emma'\n",
    "echo -e \"\\n* create person 'Emma':\";\n",
    "person='{\n",
    "    \"name\": \"Emma\",\n",
    "    \"gender\": \"F\",\n",
    "    \"birthday\": \"1985-03-29\",\n",
    "    \"role\": \"STUDENT\",\n",
    "    \"department\": {\n",
    "        \"college\": \"Computer science\",\n",
    "        \"program\": \"Network engineering\"\n",
    "    },\n",
    "    \"note\": \"Normal Outstanding student\"\n",
    "}';\n",
    "curl -H 'Cache-Control: no-cache' -H 'Content-Type: application/json' \\\n",
    "     -X POST 'http://localhost:9200/person/_doc/002?pretty' -d \"$(echo $person)\";\n",
    "     \n",
    "     \n",
    "# create teacher 'Lucy'\n",
    "echo -e \"\\n* create teacher 'Lucy':\";\n",
    "person='{\n",
    "    \"name\": \"Lucy\",\n",
    "    \"gender\": \"F\",\n",
    "    \"birthday\": \"1956-09-06\",\n",
    "    \"role\": \"TEACHER\",\n",
    "    \"department\": {\n",
    "        \"college\": \"Computer science\",\n",
    "        \"program\": \"Software engineering\"\n",
    "    },\n",
    "    \"note\": \"Normal Outstanding teacher\"\n",
    "}';\n",
    "curl -H 'Cache-Control: no-cache' -H 'Content-Type: application/json' \\\n",
    "     -X POST 'http://localhost:9200/person/_doc/003?pretty' -d \"$(echo $person)\";\n",
    "\n",
    "     \n",
    "# create teacher 'Arthur'\n",
    "echo -e \"\\n* create teacher 'Arthur':\";\n",
    "person='{\n",
    "    \"name\": \"Arthur\",\n",
    "    \"gender\": \"M\",\n",
    "    \"birthday\": \"1972-08-13\",\n",
    "    \"role\": \"TEACHER\",\n",
    "    \"department\": {\n",
    "        \"college\": \"Computer science\",\n",
    "        \"program\": \"Network engineering\"\n",
    "    },\n",
    "    \"note\": \"Top Outstanding teacher\"\n",
    "}';\n",
    "curl -H 'Cache-Control: no-cache' -H 'Content-Type: application/json' \\\n",
    "     -X POST 'http://localhost:9200/person/_doc/004?pretty' -d \"$(echo $person)\";"
   ]
  },
  {
   "cell_type": "markdown",
   "metadata": {},
   "source": [
    "## 2. Update"
   ]
  },
  {
   "cell_type": "markdown",
   "metadata": {},
   "source": [
    "### 2.1. Update by id"
   ]
  },
  {
   "cell_type": "code",
   "execution_count": null,
   "metadata": {},
   "outputs": [],
   "source": [
    "# update by id\n",
    "echo -e \"* update by id:\";\n",
    "person='{\n",
    "    \"name\": \"Arthur Li\",\n",
    "    \"gender\": \"M\",\n",
    "    \"birthday\": \"1972-08-13\",\n",
    "    \"role\": \"TEACHER\",\n",
    "    \"department\": {\n",
    "        \"college\": \"Computer science\",\n",
    "        \"program\": \"Network engineering\"\n",
    "    }\n",
    "}';\n",
    "curl -H 'Cache-Control: no-cache' -H 'Content-Type: application/json' \\\n",
    "     -X PUT 'http://localhost:9200/person/_doc/004?pretty' -d \"$(echo $person)\";\n",
    "\n",
    "# query by id after updated\n",
    "echo -e \"\\n* query after update:\";\n",
    "curl -H 'Cache-Control: no-cache' -H 'Content-Type: application/json' \\\n",
    "     -X GET 'http://localhost:9200/person/_doc/004?pretty';"
   ]
  },
  {
   "cell_type": "markdown",
   "metadata": {},
   "source": [
    "### 2.2. Update by query condition\n",
    "\n",
    "- Arguments:\n",
    "    - `conflicts`: `conflicts=proceed`, make sure simply count version conflicts, and not cause the `_update_by_query` to abort;"
   ]
  },
  {
   "cell_type": "code",
   "execution_count": null,
   "metadata": {},
   "outputs": [],
   "source": [
    "# update by query condtion\n",
    "echo -e \"* update by query condition:\";\n",
    "update='{\n",
    "    \"script\": {\n",
    "        \"source\": \"ctx._source[\\\"gender\\\"] = \\\"F\\\"; ctx._source[\\\"department\\\"][\\\"program\\\"] = params.program;\",\n",
    "        \"params\": {\n",
    "            \"program\": \"Software engineering\"\n",
    "        },\n",
    "        \"lang\":\"painless\"\n",
    "    },\n",
    "    \"query\": {\n",
    "        \"term\": {\n",
    "            \"role\": \"TEACHER\"\n",
    "        }\n",
    "    }\n",
    "}';\n",
    "curl -H 'Cache-Control: no-cache' -H 'Content-Type: application/json' \\\n",
    "     -X POST 'http://localhost:9200/person/_update_by_query?pretty&conflicts=proceed' -d \"$(echo $update)\";\n",
    "\n",
    "# query by id after updated\n",
    "echo -e \"\\n* query after update:\";\n",
    "curl -H 'Cache-Control: no-cache' -H 'Content-Type: application/json' \\\n",
    "     -X GET 'http://localhost:9200/person/_search?pretty&q=role:TEACHER';"
   ]
  },
  {
   "cell_type": "markdown",
   "metadata": {},
   "source": [
    "## 3. Delete"
   ]
  },
  {
   "cell_type": "markdown",
   "metadata": {},
   "source": [
    "### 3.1. Delete by id"
   ]
  },
  {
   "cell_type": "code",
   "execution_count": null,
   "metadata": {},
   "outputs": [],
   "source": [
    "# delete entity by id\n",
    "echo -e \"* delete entity by id:\";\n",
    "curl -H 'Cache-Control: no-cache' -H 'Content-Type: application/json' \\\n",
    "     -X DELETE 'http://localhost:9200/person/_doc/002?pretty';\n",
    "\n",
    "# query all after delete\n",
    "echo -e \"\\n* after delete, entites are:\";\n",
    "curl -H 'Cache-Control: no-cache' -H 'Content-Type: application/json' \\\n",
    "     -X GET 'http://localhost:9200/person/_search?pretty';"
   ]
  },
  {
   "cell_type": "markdown",
   "metadata": {},
   "source": [
    "### 3.2. Delete by query condtion\n",
    "\n",
    "- Arguments:\n",
    "    - `conflicts`: `conflicts=proceed`, make sure simply count version conflicts, and not cause the `_update_by_query` to abort;"
   ]
  },
  {
   "cell_type": "code",
   "execution_count": null,
   "metadata": {},
   "outputs": [],
   "source": [
    "# delete by query condition\n",
    "echo -e \"* delete entity by id:\";\n",
    "condition='{\n",
    "    \"query\": {\n",
    "        \"term\": {\n",
    "            \"role\": \"STUDENT\"\n",
    "        }\n",
    "    }\n",
    "}';\n",
    "curl -H 'Cache-Control: no-cache' -H 'Content-Type: application/json' \\\n",
    "     -X POST 'http://localhost:9200/person/_delete_by_query?pretty&conflicts=proceed' -d \"$(echo $condition)\";\n",
    "\n",
    "\n",
    "# query all after delete\n",
    "echo -e \"\\n* after delete, entites are:\";\n",
    "curl -H 'Cache-Control: no-cache' -H 'Content-Type: application/json' \\\n",
    "     -X GET 'http://localhost:9200/person/_search?pretty';"
   ]
  },
  {
   "cell_type": "markdown",
   "metadata": {},
   "source": [
    "## 4. Query"
   ]
  },
  {
   "cell_type": "markdown",
   "metadata": {},
   "source": [
    "### 4.1. Basic query"
   ]
  },
  {
   "cell_type": "markdown",
   "metadata": {},
   "source": [
    "#### 4.1.1. Query all"
   ]
  },
  {
   "cell_type": "code",
   "execution_count": null,
   "metadata": {},
   "outputs": [],
   "source": [
    "echo -e \"* query all entities are: \";\n",
    "\n",
    "curl -H 'Cache-Control: no-cache' -H 'Content-Type: application/json' \\\n",
    "     -X GET 'http://localhost:9200/person/_search?pretty';"
   ]
  },
  {
   "cell_type": "markdown",
   "metadata": {},
   "source": [
    "#### 4.1.2. Query by id"
   ]
  },
  {
   "cell_type": "code",
   "execution_count": null,
   "metadata": {},
   "outputs": [],
   "source": [
    "echo -e \"* query entity by id '001' is: \";\n",
    "\n",
    "curl -H 'Cache-Control: no-cache' -H 'Content-Type: application/json' \\\n",
    "     -X GET 'http://localhost:9200/person/_doc/001?pretty';"
   ]
  },
  {
   "cell_type": "markdown",
   "metadata": {},
   "source": [
    "### 4.2. Query string query\n",
    "\n",
    "- Parameters:\n",
    "    - `q`: Lucene query string, see also [LuceneTutorial](http://www.lucenetutorial.com/lucene-query-syntax.html)\n",
    "    - `other parameters`: see also [ES doc](https://www.elastic.co/guide/en/elasticsearch/reference/current/search-uri-request.html)"
   ]
  },
  {
   "cell_type": "markdown",
   "metadata": {},
   "source": [
    "#### 4.2.1. Query by `attr=value`"
   ]
  },
  {
   "cell_type": "code",
   "execution_count": null,
   "metadata": {},
   "outputs": [],
   "source": [
    "echo -e \"* query all 'role is STUDENT' entites are: \";\n",
    "\n",
    "curl -H 'Cache-Control: no-cache' -H 'Content-Type: application/json' \\\n",
    "     -X GET 'http://localhost:9200/person/_search?pretty&q=role:STUDENT';"
   ]
  },
  {
   "cell_type": "markdown",
   "metadata": {},
   "source": [
    "#### 4.2.2. Query by `attr.subattr like value`"
   ]
  },
  {
   "cell_type": "code",
   "execution_count": null,
   "metadata": {},
   "outputs": [],
   "source": [
    "echo -e \"* query all 'department.program like Software' entites are: \";\n",
    "\n",
    "curl -H 'Cache-Control: no-cache' -H 'Content-Type: application/json' \\\n",
    "     -X GET 'http://localhost:9200/person/_search?pretty&q=department.program:Software*';"
   ]
  },
  {
   "cell_type": "markdown",
   "metadata": {},
   "source": [
    "#### 4.2.3. Query by `attr1=value1 AND attr2=value2`\n",
    "\n",
    "- notice:\n",
    "    - URL must be encoded. eg: blank space must be replaced by `%20`"
   ]
  },
  {
   "cell_type": "code",
   "execution_count": null,
   "metadata": {},
   "outputs": [],
   "source": [
    "echo -e \"* query all 'role is STUDENT AND department.program like Software' entites are: \";\n",
    "\n",
    "curl -H 'Cache-Control: no-cache' -H 'Content-Type: application/json' \\\n",
    "     -X GET 'http://localhost:9200/person/_search?pretty&q=role:STUDENT%20AND%20department.program:Software*';"
   ]
  },
  {
   "cell_type": "markdown",
   "metadata": {},
   "source": [
    "#### 4.2.4. Query by `attr1=value1 OR attr2=value2`"
   ]
  },
  {
   "cell_type": "code",
   "execution_count": null,
   "metadata": {},
   "outputs": [],
   "source": [
    "echo -e \"* query all 'role is STUDENT OR department.program like Software' entites are: \";\n",
    "\n",
    "curl -H 'Cache-Control: no-cache' -H 'Content-Type: application/json' \\\n",
    "     -X GET 'http://localhost:9200/person/_search?pretty&q=role:STUDENT%20OR%20department.program:Software*';"
   ]
  },
  {
   "cell_type": "markdown",
   "metadata": {},
   "source": [
    "#### 4.2.5. Query by `attr1=value1 AND attr2!=value2`"
   ]
  },
  {
   "cell_type": "code",
   "execution_count": null,
   "metadata": {},
   "outputs": [],
   "source": [
    "echo -e \"* query all 'role is STUDENT AND department.program NOT like Software' entites are: \";\n",
    "\n",
    "curl -H 'Cache-Control: no-cache' -H 'Content-Type: application/json' \\\n",
    "     -X GET 'http://localhost:9200/person/_search?pretty&q=role:STUDENT%20-(department.program:Software*)';"
   ]
  },
  {
   "cell_type": "markdown",
   "metadata": {},
   "source": [
    "### 4.2. Query DSL"
   ]
  },
  {
   "cell_type": "markdown",
   "metadata": {},
   "source": [
    "#### 4.2.1. match"
   ]
  },
  {
   "cell_type": "markdown",
   "metadata": {},
   "source": [
    "- `query`: (Required) Text, number, boolean value or date you wish to find in the provided \\<field\\>. <br>\n",
    "             The match query analyzes any provided text before performing a search. This means the match query can search text fields for analyzed tokens rather than an exact term."
   ]
  },
  {
   "cell_type": "code",
   "execution_count": null,
   "metadata": {},
   "outputs": [],
   "source": [
    "echo -e \"* math with 'query' attribute: \";\n",
    "\n",
    "dsl='{\n",
    "    \"query\": {\n",
    "        \"match\": {\n",
    "            \"note\": \"Top teacher\"\n",
    "        }\n",
    "    }\n",
    "}';\n",
    "curl -H 'Cache-Control: no-cache' -H 'Content-Type: application/json' \\\n",
    "     -X GET 'http://localhost:9200/person/_search?pretty' -d \"$(echo $dsl)\";"
   ]
  },
  {
   "cell_type": "markdown",
   "metadata": {},
   "source": [
    "- `fuzziness`: (Optional, string) Maximum edit distance allowed for matching. "
   ]
  },
  {
   "cell_type": "code",
   "execution_count": null,
   "metadata": {},
   "outputs": [],
   "source": [
    "echo -e \"* match with 'fuzziness' attribute: \";\n",
    "\n",
    "dls='{\n",
    "    \"query\": {\n",
    "        \"match\": {\n",
    "            \"note\" : {\n",
    "                \"query\": \"Top Outstanding\",\n",
    "                \"fuzziness\": \"AUTO\"\n",
    "            }\n",
    "        }\n",
    "    }\n",
    "}';\n",
    "curl -H 'Cache-Control: no-cache' -H 'Content-Type: application/json' \\\n",
    "     -X GET 'http://localhost:9200/person/_search?pretty' -d \"$(echo $dsl)\";"
   ]
  },
  {
   "cell_type": "markdown",
   "metadata": {},
   "source": [
    "- `max_expansions`: (Optional, integer) Maximum number of terms to which the query will expand. Defaults to `50`."
   ]
  },
  {
   "cell_type": "code",
   "execution_count": null,
   "metadata": {},
   "outputs": [],
   "source": [
    "echo -e \"* match with 'max_expansions' attribute: \";\n",
    "\n",
    "dls='{\n",
    "    \"query\": {\n",
    "        \"match\": {\n",
    "            \"note\" : {\n",
    "                \"query\": \"Top Outstanding\",\n",
    "                \"max_expansions\": 50\n",
    "            }\n",
    "        }\n",
    "    }\n",
    "}';\n",
    "curl -H 'Cache-Control: no-cache' -H 'Content-Type: application/json' \\\n",
    "     -X GET 'http://localhost:9200/person/_search?pretty' -d \"$(echo $dsl)\";"
   ]
  },
  {
   "cell_type": "markdown",
   "metadata": {},
   "source": [
    "- `prefix_length`: (Optional, integer) Number of beginning characters left unchanged for fuzzy matching. Defaults to `0`."
   ]
  },
  {
   "cell_type": "code",
   "execution_count": null,
   "metadata": {},
   "outputs": [],
   "source": [
    "echo -e \"* match with 'prefix_length' attribute: \";\n",
    "\n",
    "dls='{\n",
    "    \"query\": {\n",
    "        \"match\": {\n",
    "            \"note\" : {\n",
    "                \"query\": \"Top Outstanding\",\n",
    "                \"prefix_length\": 0\n",
    "            }\n",
    "        }\n",
    "    }\n",
    "}';\n",
    "curl -H 'Cache-Control: no-cache' -H 'Content-Type: application/json' \\\n",
    "     -X GET 'http://localhost:9200/person/_search?pretty' -d \"$(echo $dsl)\";"
   ]
  },
  {
   "cell_type": "markdown",
   "metadata": {},
   "source": [
    "- `transpositions`: (Optional, boolean) If true, edits for fuzzy matching include transpositions of two adjacent characters (ab → ba). Defaults to `true`."
   ]
  },
  {
   "cell_type": "code",
   "execution_count": null,
   "metadata": {},
   "outputs": [],
   "source": [
    "echo -e \"* match with 'transpositions' attribute: \";\n",
    "\n",
    "dls='{\n",
    "    \"query\": {\n",
    "        \"match\": {\n",
    "            \"note\" : {\n",
    "                \"query\": \"Top Outstanding\",\n",
    "                \"fuzziness\": \"AUTO\",\n",
    "                \"transpositions\": true\n",
    "            }\n",
    "        }\n",
    "    }\n",
    "}';\n",
    "curl -H 'Cache-Control: no-cache' -H 'Content-Type: application/json' \\\n",
    "     -X GET 'http://localhost:9200/person/_search?pretty' -d \"$(echo $dsl)\";"
   ]
  },
  {
   "cell_type": "markdown",
   "metadata": {},
   "source": [
    "- `lenient`: (Optional, boolean) If true, format-based errors, such as providing a text query value for a numeric field, are ignored. Defaults to `false`."
   ]
  },
  {
   "cell_type": "code",
   "execution_count": null,
   "metadata": {},
   "outputs": [],
   "source": [
    "echo -e \"* match with 'lenient' attribute: \";\n",
    "\n",
    "dls='{\n",
    "    \"query\": {\n",
    "        \"match\": {\n",
    "            \"note\" : {\n",
    "                \"query\": \"Top Outstanding\",\n",
    "                \"lenient\": true\n",
    "            }\n",
    "        }\n",
    "    }\n",
    "}';\n",
    "curl -H 'Cache-Control: no-cache' -H 'Content-Type: application/json' \\\n",
    "     -X GET 'http://localhost:9200/person/_search?pretty' -d \"$(echo $dsl)\";"
   ]
  },
  {
   "cell_type": "markdown",
   "metadata": {},
   "source": [
    "- `operator`: (Optional, string) Boolean logic used to interpret text in the query value. Valid values are:\n",
    "    - **`OR` (Default)**: For example, a query value of capital of Hungary is interpreted as capital OR of OR Hungary.\n",
    "    - **`AND`**: For example, a query value of capital of Hungary is interpreted as capital AND of AND Hungary."
   ]
  },
  {
   "cell_type": "code",
   "execution_count": null,
   "metadata": {},
   "outputs": [],
   "source": [
    "echo -e \"* match with 'operator' attribute: \";\n",
    "\n",
    "dls='{\n",
    "    \"query\": {\n",
    "        \"match\": {\n",
    "            \"note\" : {\n",
    "                \"query\": \"Top Outstanding\",\n",
    "                \"operator\": \"and\"\n",
    "            }\n",
    "        }\n",
    "    }\n",
    "}';\n",
    "curl -H 'Cache-Control: no-cache' -H 'Content-Type: application/json' \\\n",
    "     -X GET 'http://localhost:9200/person/_search?pretty' -d \"$(echo $dsl)\";"
   ]
  },
  {
   "cell_type": "markdown",
   "metadata": {},
   "source": [
    "- `zero_terms_query`: (Optional, string) Indicates whether no documents are returned if the analyzer removes all tokens, such as when using a `stop` filter. Valid values are:\n",
    "\n",
    "    - **`none (Default)`**: No documents are returned if the analyzer removes all tokens.\n",
    "    - **`all`**: Returns all documents, similar to a `match_all` query."
   ]
  },
  {
   "cell_type": "code",
   "execution_count": null,
   "metadata": {},
   "outputs": [],
   "source": [
    "echo -e \"* match with 'zero_terms_query' attribute: \";\n",
    "\n",
    "dls='{\n",
    "    \"query\": {\n",
    "        \"match\": {\n",
    "            \"note\" : {\n",
    "                \"query\": \"Top Outstanding\",\n",
    "                \"operator\": \"and\",\n",
    "                \"zero_terms_query\": \"all\"\n",
    "            }\n",
    "        }\n",
    "    }\n",
    "}';\n",
    "curl -H 'Cache-Control: no-cache' -H 'Content-Type: application/json' \\\n",
    "     -X GET 'http://localhost:9200/person/_search?pretty' -d \"$(echo $dsl)\";"
   ]
  },
  {
   "cell_type": "markdown",
   "metadata": {},
   "source": [
    "##### 4.2.1.3. multi_match filter\n",
    "\n",
    "- Match more than one ffields"
   ]
  },
  {
   "cell_type": "code",
   "execution_count": null,
   "metadata": {},
   "outputs": [],
   "source": [
    "echo -e \"* query all '' entites are: \";\n",
    "\n",
    "dsl='{\n",
    "    \"query\": {\n",
    "        \"multi_match\": {\n",
    "            \"query\" : \"student\",\n",
    "            \"fields\" : [\n",
    "                \"role\", \n",
    "                \"note\"\n",
    "            ]\n",
    "        }\n",
    "    }\n",
    "}';\n",
    "curl -H 'Cache-Control: no-cache' -H 'Content-Type: application/json' \\\n",
    "     -X GET 'http://localhost:9200/person/_search?pretty' -d \"$(echo $dsl)\";"
   ]
  },
  {
   "cell_type": "markdown",
   "metadata": {},
   "source": [
    "- `best_fields` type: The score depends on what matches"
   ]
  },
  {
   "cell_type": "code",
   "execution_count": null,
   "metadata": {},
   "outputs": [],
   "source": [
    "dsl='{\n",
    "    \"query\": {\n",
    "        \"multi_match\": {\n",
    "            \"query\": \"STUDENT Top\",\n",
    "            \"type\": \"best_fields\",\n",
    "            \"fields\": [\n",
    "                \"role\",\n",
    "                \"note\"\n",
    "            ]\n",
    "        }\n",
    "    }\n",
    "}';\n",
    "curl -H 'Cache-Control: no-cache' -H 'Content-Type: application/json' \\\n",
    "     -X GET 'http://localhost:9200/person/_search?pretty' -d \"$(echo $dsl)\";"
   ]
  },
  {
   "cell_type": "code",
   "execution_count": null,
   "metadata": {},
   "outputs": [],
   "source": [
    "dsl='{\n",
    "    \"query\": {\n",
    "        \"multi_match\": {\n",
    "            \"query\": \"STUDENT Top\",\n",
    "            \"type\": \"most_fields\",\n",
    "            \"fields\": [\n",
    "                \"role\",\n",
    "                \"note\"\n",
    "            ]\n",
    "        }\n",
    "    }\n",
    "}';\n",
    "curl -H 'Cache-Control: no-cache' -H 'Content-Type: application/json' \\\n",
    "     -X GET 'http://localhost:9200/person/_search?pretty' -d \"$(echo $dsl)\";"
   ]
  },
  {
   "cell_type": "code",
   "execution_count": null,
   "metadata": {},
   "outputs": [],
   "source": [
    "dsl='{\n",
    "    \"query\": {\n",
    "        \"multi_match\": {\n",
    "            \"query\": \"STUDENT Top\",\n",
    "            \"type\": \"cross_fields\",\n",
    "            \"fields\": [\n",
    "                \"role\",\n",
    "                \"note\"\n",
    "            ]\n",
    "        }\n",
    "    }\n",
    "}';\n",
    "curl -H 'Cache-Control: no-cache' -H 'Content-Type: application/json' \\\n",
    "     -X GET 'http://localhost:9200/person/_search?pretty' -d \"$(echo $dsl)\";"
   ]
  },
  {
   "cell_type": "code",
   "execution_count": null,
   "metadata": {},
   "outputs": [],
   "source": [
    "echo -e \"* delete index as:\";\n",
    "\n",
    "curl -H 'Cache-Control: no-cache' -H 'Content-Type: application/json' \\\n",
    "     -X DELETE 'http://localhost:9200/person?pretty';"
   ]
  }
 ],
 "metadata": {
  "kernelspec": {
   "display_name": "Bash",
   "language": "bash",
   "name": "bash"
  },
  "language_info": {
   "codemirror_mode": "shell",
   "file_extension": ".sh",
   "mimetype": "text/x-sh",
   "name": "bash"
  }
 },
 "nbformat": 4,
 "nbformat_minor": 4
}
