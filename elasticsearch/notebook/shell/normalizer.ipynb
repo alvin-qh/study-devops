{
 "cells": [
  {
   "cell_type": "markdown",
   "metadata": {},
   "source": [
    "# 正则化器\n",
    "\n",
    "正则化器与文本分析器类似，除了它们只能发出单个词汇。因此，它们没有分词器，仅接受可用的字符过滤器和令牌过滤器的子集。仅允许按字符运行的过滤器。例如，将允许使用小写过滤器，但不允许使用词干过滤器，词干过滤器需要从整体上考虑关键字。目前可化在正则化使用的滤镜列表如下：\n",
    "`arabic_normalization`, `asciifolding`, `bengali_normalization`, `cjk_width`, `decimal_digit`, `elision`, `german_normalization`, `hindi_normalization`, `indic_normalization`, `lowercase`, `persian_normalization`, `scandinavian_folding`, `serbian_normalization`, `sorani_normalization`, `uppercase`"
   ]
  },
  {
   "cell_type": "markdown",
   "metadata": {},
   "source": [
    "## 1. 内置正则化器\n",
    "\n",
    "到目前为止，Elasticsearch 尚未提供内置的规范化器，因此，唯一的方法就是构建自定义规范器。"
   ]
  },
  {
   "cell_type": "markdown",
   "metadata": {},
   "source": [
    "## 2. 自定义正则化器\n",
    "\n",
    "自定义规范化器可包含[字符过滤器](https://www.elastic.co/guide/en/elasticsearch/reference/current/analysis-charfilters.html)列表和[词汇过滤器](https://www.elastic.co/guide/en/elasticsearch/reference/current/analysis-tokenfilters.html)列表"
   ]
  },
  {
   "cell_type": "code",
   "execution_count": null,
   "metadata": {},
   "outputs": [],
   "source": [
    "# create index\n",
    "echo -e \"* create index as: \";\n",
    "settings='{\n",
    "    \"settings\": {\n",
    "        \"number_of_replicas\": 0,\n",
    "        \"number_of_shards\": 1,\n",
    "        \"analysis\": {\n",
    "            \"char_filter\": {\n",
    "                \"quote_filter\": {\n",
    "                    \"type\": \"mapping\",\n",
    "                    \"mappings\": [\n",
    "                        \"« => \\\"\",\n",
    "                        \"» => \\\"\"\n",
    "                    ]\n",
    "                }\n",
    "            },\n",
    "            \"normalizer\": {\n",
    "                \"quote_normalizer\": {\n",
    "                    \"type\": \"custom\",\n",
    "                    \"char_filter\": [\n",
    "                        \"quote_filter\"\n",
    "                    ],\n",
    "                    \"filter\": [\n",
    "                        \"lowercase\",\n",
    "                        \"asciifolding\"\n",
    "                    ]\n",
    "                }\n",
    "            }\n",
    "        }\n",
    "    },\n",
    "    \"mappings\": {\n",
    "        \"properties\": {\n",
    "            \"text\": {\n",
    "                \"type\": \"text\",\n",
    "                \"normalizer\": \"quote_normalizer\",\n",
    "                \"copy_to\": \"_all\"\n",
    "            }\n",
    "        }\n",
    "    }\n",
    "}';\n",
    "curl -H 'Cache-Control: no-cache' -H 'Content-Type: application/json' \\\n",
    "     -X PUT 'http://localhost:9200/analyzer?pretty' -d \"$(echo $settings)\";\n",
    "\n",
    "# create document\n",
    "echo -e \"\\n* create document:\";\n",
    "doc='{\n",
    "    \"text\": \"Hello, this is Elasticsearch\"\n",
    "}';\n",
    "curl -H 'Cache-Control: no-cache' -H 'Content-Type: application/json' \\\n",
    "     -X POST 'http://localhost:9200/analyzer/_doc/001?pretty' -d \"$(echo $doc)\";\n",
    "     \n",
    "echo -e \"\\n* query after create:\";\n",
    "curl -H 'Cache-Control: no-cache' -H 'Content-Type: application/json' \\\n",
    "     -X GET 'http://localhost:9200/analyzer/_search?pretty&';\n",
    "\n",
    "# delete index\n",
    "echo -e \"\\n* delete index as:\";\n",
    "curl -H 'Cache-Control: no-cache' -H 'Content-Type: application/json' \\\n",
    "     -X DELETE 'http://localhost:9200/analyzer?pretty';"
   ]
  },
  {
   "cell_type": "code",
   "execution_count": null,
   "metadata": {},
   "outputs": [],
   "source": []
  }
 ],
 "metadata": {
  "kernelspec": {
   "display_name": "Bash",
   "language": "bash",
   "name": "bash"
  },
  "language_info": {
   "codemirror_mode": "shell",
   "file_extension": ".sh",
   "mimetype": "text/x-sh",
   "name": "bash"
  }
 },
 "nbformat": 4,
 "nbformat_minor": 4
}
