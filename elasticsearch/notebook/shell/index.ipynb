{
 "cells": [
  {
   "cell_type": "markdown",
   "metadata": {},
   "source": [
    "# Eleasticsearch index"
   ]
  },
  {
   "cell_type": "markdown",
   "metadata": {},
   "source": [
    "## 1. Index"
   ]
  },
  {
   "cell_type": "markdown",
   "metadata": {},
   "source": [
    "### 1.1. Simple index"
   ]
  },
  {
   "cell_type": "markdown",
   "metadata": {},
   "source": [
    "#### 1.1.1. Create index"
   ]
  },
  {
   "cell_type": "code",
   "execution_count": null,
   "metadata": {},
   "outputs": [],
   "source": [
    "# create an index\n",
    "echo -e \"* create index as: \";\n",
    "\n",
    "curl -H 'Cache-Control: no-cache' -H 'Content-Type: application/json' \\\n",
    "     -X PUT 'http://localhost:9200/person?pretty';"
   ]
  },
  {
   "cell_type": "markdown",
   "metadata": {},
   "source": [
    "#### 1.1.2. Create entity"
   ]
  },
  {
   "cell_type": "code",
   "execution_count": null,
   "metadata": {},
   "outputs": [],
   "source": [
    "# create person 'alvin'\n",
    "echo -e \"* create person 'Alvin':\";\n",
    "\n",
    "person='{\n",
    "    \"name\": \"Alvin\",\n",
    "    \"gender\": \"M\",\n",
    "    \"birthday\": \"1981-03-17\",\n",
    "    \"role\": \"STUDENT\"\n",
    "}';\n",
    "curl -H 'Cache-Control: no-cache' -H 'Content-Type: application/json' \\\n",
    "     -X POST 'http://localhost:9200/person/_doc/001?pretty' -d \"$(echo $person)\";\n",
    "     \n",
    "     \n",
    "# create person 'Emma'\n",
    "echo -e \"\\n* create person 'Emma':\";\n",
    "\n",
    "person='{\n",
    "    \"name\": \"Emma\",\n",
    "    \"gender\": \"F\",\n",
    "    \"birthday\": \"1985-03-29\",\n",
    "    \"role\": \"STUDENT\"\n",
    "}';\n",
    "curl -H 'Cache-Control: no-cache' -H 'Content-Type: application/json' \\\n",
    "     -X POST 'http://localhost:9200/person/_doc/002?pretty' -d \"$(echo $person)\";\n",
    "     \n",
    "     \n",
    "# create teacher 'Lucy'\n",
    "echo -e \"\\n* create teacher 'Lucy':\";\n",
    "\n",
    "person='{\n",
    "    \"name\": \"Lucy\",\n",
    "    \"gender\": \"F\",\n",
    "    \"birthday\": \"1956-09-06\",\n",
    "    \"role\": \"TEACHER\"\n",
    "}';\n",
    "curl -H 'Cache-Control: no-cache' -H 'Content-Type: application/json' \\\n",
    "     -X POST 'http://localhost:9200/person/_doc/003?pretty' -d \"$(echo $person)\";\n",
    "\n",
    "     \n",
    "# create teacher 'Arthur'\n",
    "echo -e \"\\n* create teacher 'Arthur':\";\n",
    "\n",
    "person='{\n",
    "    \"name\": \"Arthur\",\n",
    "    \"gender\": \"M\",\n",
    "    \"birthday\": \"1972-08-13\",\n",
    "    \"role\": \"TEACHER\"\n",
    "}';\n",
    "curl -H 'Cache-Control: no-cache' -H 'Content-Type: application/json' \\\n",
    "     -X POST 'http://localhost:9200/person/_doc/004?pretty' -d \"$(echo $person)\";"
   ]
  },
  {
   "cell_type": "markdown",
   "metadata": {},
   "source": [
    "#### 1.1.3. Get all entities"
   ]
  },
  {
   "cell_type": "code",
   "execution_count": null,
   "metadata": {},
   "outputs": [],
   "source": [
    "echo -e \"* query all entities are: \";\n",
    "curl -H 'Cache-Control: no-cache' -H 'Content-Type: application/json' \\\n",
    "     -X GET 'http://localhost:9200/person/_search?pretty';"
   ]
  },
  {
   "cell_type": "markdown",
   "metadata": {},
   "source": [
    "#### 1.1.4. Get entity by ID"
   ]
  },
  {
   "cell_type": "code",
   "execution_count": null,
   "metadata": {},
   "outputs": [],
   "source": [
    "echo -e \"* query entity by id '001' is: \";\n",
    "curl -H 'Cache-Control: no-cache' -H 'Content-Type: application/json' \\\n",
    "     -X GET 'http://localhost:9200/person/_doc/001?pretty';"
   ]
  },
  {
   "cell_type": "markdown",
   "metadata": {},
   "source": [
    "#### 1.1.5. Query entity"
   ]
  },
  {
   "cell_type": "code",
   "execution_count": null,
   "metadata": {
    "scrolled": true
   },
   "outputs": [],
   "source": [
    "# query person by attribute with simple condtion\n",
    "echo -e \"* query by 'gender=M' as: \";\n",
    "curl -H 'Cache-Control: no-cache' -H 'Content-Type: application/json' \\\n",
    "     -X GET 'http://localhost:9200/person/_search?pretty&q=gender:M';\n",
    "     \n",
    "echo -e \"\\n* query by 'role=STUDENT' as: \";\n",
    "curl -H 'Cache-Control: no-cache' -H 'Content-Type: application/json' \\\n",
    "     -X GET 'http://localhost:9200/person/_search?pretty&q=role:STUDENT';\n",
    "\n",
    "\n",
    "# query person by json condtion\n",
    "echo -e \"\\n* query by json condition as:\";\n",
    "condition='{\n",
    "    \"query\": {\n",
    "        \"term\": {\n",
    "            \"role\": \"STUDENT\"\n",
    "        }\n",
    "    }\n",
    "}';\n",
    "curl -H 'Cache-Control: no-cache' -H 'Content-Type: application/json' \\\n",
    "     -X GET 'http://localhost:9200/person/_search?pretty' -d \"$(echo $condition)\";"
   ]
  },
  {
   "cell_type": "markdown",
   "metadata": {},
   "source": [
    "#### 1.1.6. Drop index"
   ]
  },
  {
   "cell_type": "code",
   "execution_count": null,
   "metadata": {},
   "outputs": [],
   "source": [
    "curl -H 'Cache-Control: no-cache' -H 'Content-Type: application/json' \\\n",
    "     -X DELETE 'http://localhost:9200/person?pretty';"
   ]
  },
  {
   "cell_type": "markdown",
   "metadata": {},
   "source": [
    "### 1.2. Complex index"
   ]
  },
  {
   "cell_type": "markdown",
   "metadata": {},
   "source": [
    "#### 1.2.1. Create index"
   ]
  },
  {
   "cell_type": "code",
   "execution_count": null,
   "metadata": {},
   "outputs": [],
   "source": [
    "echo -e \"* create index as: \";\n",
    "\n",
    "index='{\n",
    "    \"settings\": {\n",
    "        \"number_of_replicas\": 0,\n",
    "        \"number_of_shards\": 1\n",
    "    },\n",
    "    \"mappings\": {\n",
    "        \"properties\": {\n",
    "            \"name\": {\n",
    "                \"type\": \"keyword\",\n",
    "                \"copy_to\": \"_all\"\n",
    "            },\n",
    "            \"gender\": {\n",
    "                \"type\": \"keyword\",\n",
    "                \"copy_to\": \"_all\"\n",
    "            },\n",
    "            \"birthday\": {\n",
    "                \"type\": \"date\",\n",
    "                \"copy_to\": \"_all\"\n",
    "            },\n",
    "            \"role\": {\n",
    "                \"type\": \"keyword\",\n",
    "                \"copy_to\": \"_all\"\n",
    "            },\n",
    "            \"gradeYear\": {\n",
    "                \"type\": \"integer\",\n",
    "                \"copy_to\": \"_all\"\n",
    "            },\n",
    "            \"department\": {\n",
    "                \"properties\": {\n",
    "                    \"college\": {\n",
    "                        \"type\": \"keyword\",\n",
    "                        \"copy_to\": \"_all\"\n",
    "                    },\n",
    "                    \"program\": {\n",
    "                        \"type\": \"keyword\",\n",
    "                        \"copy_to\": \"_all\"\n",
    "                    }\n",
    "                }\n",
    "            },\n",
    "            \"intro\": {\n",
    "                \"type\": \"text\",\n",
    "                \"copy_to\": \"_all\"\n",
    "            },\n",
    "            \"_all\": {\n",
    "                \"type\": \"text\"\n",
    "            }\n",
    "        }\n",
    "    }\n",
    "}';\n",
    "\n",
    "curl -H 'Cache-Control: no-cache' -H 'Content-Type: application/json' \\\n",
    "     -X PUT 'http://localhost:9200/person?pretty' -d \"$(echo $index)\";"
   ]
  },
  {
   "cell_type": "markdown",
   "metadata": {},
   "source": [
    "#### 1.2.3. Create entity"
   ]
  },
  {
   "cell_type": "code",
   "execution_count": null,
   "metadata": {},
   "outputs": [],
   "source": [
    "# create person\n",
    "echo -e \"* create person 'Alvin':\";\n",
    "\n",
    "person='{\n",
    "    \"name\": \"Alvin\",\n",
    "    \"gender\": \"M\",\n",
    "    \"birthday\": \"1981-03-17\",\n",
    "    \"role\": \"STUDENT\",\n",
    "    \"gradeYear\": 2020,\n",
    "    \"department\": {\n",
    "        \"college\": \"Math\",\n",
    "        \"program\": \"Software\"\n",
    "    },\n",
    "    \"intro\": \"This is a student\"\n",
    "}';\n",
    "\n",
    "curl -H 'Cache-Control: no-cache' -H 'Content-Type: application/json' \\\n",
    "     -X POST 'http://localhost:9200/person/_doc/001?pretty' -d \"$(echo $person)\";\n",
    "     \n",
    "     \n",
    "# create person with unmatched attributes\n",
    "echo -e \"\\n* create person 'Alvin' with unmatched 'gradeYear' attribute:\";\n",
    "\n",
    "# invalid 'gradeYear'\n",
    "person='{\n",
    "    \"name\": \"Alvin\",\n",
    "    \"gender\": \"M\",\n",
    "    \"birthday\": \"1981-03-17\",\n",
    "    \"role\": \"STUDENT\",\n",
    "    \"gradeYear\": 2020a,\n",
    "    \"department\": {\n",
    "        \"college\": \"Math\",\n",
    "        \"program\": \"Software\"\n",
    "    },\n",
    "    \"intro\": \"This is a student\"\n",
    "}';\n",
    "\n",
    "curl -H 'Cache-Control: no-cache' -H 'Content-Type: application/json' \\\n",
    "     -X POST 'http://localhost:9200/person/_doc/001?pretty' -d \"$(echo $person)\";"
   ]
  },
  {
   "cell_type": "markdown",
   "metadata": {},
   "source": [
    "#### 1.2.4. Get all entities"
   ]
  },
  {
   "cell_type": "code",
   "execution_count": null,
   "metadata": {},
   "outputs": [],
   "source": [
    "echo -e \"* query all entities are: \";\n",
    "curl -H 'Cache-Control: no-cache' -H 'Content-Type: application/json' \\\n",
    "     -X GET 'http://localhost:9200/person/_search?pretty'"
   ]
  },
  {
   "cell_type": "markdown",
   "metadata": {},
   "source": [
    "#### 1.2.5. Get entity by ID"
   ]
  },
  {
   "cell_type": "code",
   "execution_count": null,
   "metadata": {},
   "outputs": [],
   "source": [
    "echo -e \"* query entity by id '001' is: \";\n",
    "curl -H 'Cache-Control: no-cache' -H 'Content-Type: application/json' \\\n",
    "     -X GET 'http://localhost:9200/person/_doc/001?pretty'"
   ]
  },
  {
   "cell_type": "markdown",
   "metadata": {},
   "source": [
    "#### 1.2.6. Query entity"
   ]
  },
  {
   "cell_type": "code",
   "execution_count": null,
   "metadata": {},
   "outputs": [],
   "source": [
    "# query person by attribute with simple condtion\n",
    "echo -e \"* query by 'gender=M' as: \";\n",
    "curl -H 'Cache-Control: no-cache' -H 'Content-Type: application/json' \\\n",
    "     -X GET 'http://localhost:9200/person/_doc/_search?pretty&q=gender:M';\n",
    "     \n",
    "echo -e \"\\n* query by 'role=STUDENT' as: \";\n",
    "curl -H 'Cache-Control: no-cache' -H 'Content-Type: application/json' \\\n",
    "     -X GET 'http://localhost:9200/person/_doc/_search?pretty&q=role:STUDENT';\n",
    "\n",
    "\n",
    "# query person by json condtion\n",
    "echo -e \"\\n* query by json condition as:\";\n",
    "condition='{\n",
    "    \"query\": {\n",
    "        \"term\": {\n",
    "            \"role\": \"STUDENT\"\n",
    "        }\n",
    "    }\n",
    "}';\n",
    "curl -H 'Cache-Control: no-cache' -H 'Content-Type: application/json' \\\n",
    "     -X GET 'http://localhost:9200/person/_doc/_search?pretty' -d \"$(echo $condition)\";\n",
    "     \n",
    "# query person by json condtion with '_all' attribute\n",
    "echo -e \"\\n* query by json condition as:\";\n",
    "condition='{\n",
    "    \"query\": {\n",
    "        \"match\": {\n",
    "            \"_all\": {\n",
    "                \"query\": \"2020 Software\"\n",
    "            }\n",
    "        }\n",
    "    }\n",
    "}';\n",
    "curl -H 'Cache-Control: no-cache' -H 'Content-Type: application/json' \\\n",
    "     -X GET 'http://localhost:9200/person/_doc/_search?pretty' -d \"$(echo $condition)\";"
   ]
  },
  {
   "cell_type": "markdown",
   "metadata": {},
   "source": [
    "#### 1.2.7. Delete index"
   ]
  },
  {
   "cell_type": "code",
   "execution_count": null,
   "metadata": {},
   "outputs": [],
   "source": [
    "curl -H 'Cache-Control: no-cache' -H 'Content-Type: application/json' \\\n",
    "     -X DELETE 'http://localhost:9200/person?pretty';"
   ]
  },
  {
   "cell_type": "markdown",
   "metadata": {},
   "source": [
    "## 2. Index attributes"
   ]
  },
  {
   "cell_type": "markdown",
   "metadata": {},
   "source": [
    "### 2.1. Create index"
   ]
  },
  {
   "cell_type": "markdown",
   "metadata": {},
   "source": [
    "#### 2.1.1. Create simple index"
   ]
  },
  {
   "cell_type": "code",
   "execution_count": null,
   "metadata": {},
   "outputs": [],
   "source": [
    "# create an index\n",
    "echo -e \"* create index as: \";\n",
    "curl -H 'Cache-Control: no-cache' -H 'Content-Type: application/json' \\\n",
    "     -X PUT 'http://localhost:9200/person?pretty';"
   ]
  },
  {
   "cell_type": "markdown",
   "metadata": {},
   "source": [
    "#### 2.1.2. Get all indices"
   ]
  },
  {
   "cell_type": "code",
   "execution_count": null,
   "metadata": {},
   "outputs": [],
   "source": [
    "# get all indices\n",
    "echo -e \"* get all indices as: \";\n",
    "curl -H 'Cache-Control: no-cache' -H 'Content-Type: application/json' \\\n",
    "     -X GET 'http://localhost:9200/_cat/indices?format=json&pretty';"
   ]
  },
  {
   "cell_type": "markdown",
   "metadata": {},
   "source": [
    "### 2.2. Index settings"
   ]
  },
  {
   "cell_type": "markdown",
   "metadata": {},
   "source": [
    "#### 2.2.1. Get index settings"
   ]
  },
  {
   "cell_type": "code",
   "execution_count": null,
   "metadata": {},
   "outputs": [],
   "source": [
    "# get index settings\n",
    "echo -e \"* get index settings as: \";\n",
    "curl -H 'Cache-Control: no-cache' -H 'Content-Type: application/json' \\\n",
    "     -X GET 'http://localhost:9200/person/_settings?pretty';"
   ]
  },
  {
   "cell_type": "markdown",
   "metadata": {},
   "source": [
    "#### 2.2.2. Change index settings"
   ]
  },
  {
   "cell_type": "code",
   "execution_count": null,
   "metadata": {},
   "outputs": [],
   "source": [
    "# change index settings\n",
    "echo -e \"* change index settings as: \";\n",
    "\n",
    "settings='{\n",
    "    \"number_of_replicas\": 0\n",
    "}';\n",
    "curl -H 'Cache-Control: no-cache' -H 'Content-Type: application/json' \\\n",
    "     -X PUT 'http://localhost:9200/person/_settings?pretty' -d \"$(echo $settings)\";"
   ]
  },
  {
   "cell_type": "markdown",
   "metadata": {},
   "source": [
    "### 2.3. Index mappings"
   ]
  },
  {
   "cell_type": "markdown",
   "metadata": {},
   "source": [
    "#### 2.3.1. Get index mappings"
   ]
  },
  {
   "cell_type": "code",
   "execution_count": null,
   "metadata": {},
   "outputs": [],
   "source": [
    "echo -e \"* get index mappings as: \";\n",
    "curl -H 'Cache-Control: no-cache' -H 'Content-Type: application/json' \\\n",
    "     -X GET 'http://localhost:9200/person/_mappings?pretty';"
   ]
  },
  {
   "cell_type": "markdown",
   "metadata": {},
   "source": [
    "#### 2.3.2. Change index mappings\n",
    "\n",
    "- Change index mappings"
   ]
  },
  {
   "cell_type": "code",
   "execution_count": null,
   "metadata": {},
   "outputs": [],
   "source": [
    "# change index mappings\n",
    "echo -e \"* change index mappings as: \";\n",
    "\n",
    "mappings='{\n",
    "    \"properties\": {\n",
    "        \"name\": {\n",
    "            \"type\": \"keyword\",\n",
    "            \"copy_to\": \"_all\"\n",
    "        },\n",
    "        \"gender\": {\n",
    "            \"type\": \"keyword\",\n",
    "            \"copy_to\": \"_all\"\n",
    "        },\n",
    "        \"birthday\": {\n",
    "            \"type\": \"date\",\n",
    "            \"copy_to\": \"_all\"\n",
    "        },\n",
    "        \"role\": {\n",
    "            \"type\": \"keyword\",\n",
    "            \"copy_to\": \"_all\"\n",
    "        },\n",
    "        \"gradeYear\": {\n",
    "            \"type\": \"integer\",\n",
    "            \"copy_to\": \"_all\"\n",
    "        },\n",
    "        \"department\": {\n",
    "            \"properties\": {\n",
    "                \"college\": {\n",
    "                    \"type\": \"keyword\",\n",
    "                    \"copy_to\": \"_all\"\n",
    "                },\n",
    "                \"program\": {\n",
    "                    \"type\": \"keyword\",\n",
    "                    \"copy_to\": \"_all\"\n",
    "                }\n",
    "            }\n",
    "        },\n",
    "        \"intro\": {\n",
    "            \"type\": \"text\",\n",
    "            \"copy_to\": \"_all\"\n",
    "        },\n",
    "        \"_all\": {\n",
    "            \"type\": \"text\"\n",
    "        }\n",
    "    }\n",
    "}';\n",
    "curl -H 'Cache-Control: no-cache' -H 'Content-Type: application/json' \\\n",
    "     -X PUT 'http://localhost:9200/person/_mappings?pretty' -d \"$(echo $mappings)\";"
   ]
  },
  {
   "cell_type": "markdown",
   "metadata": {},
   "source": [
    "- Test if index mapping was changed"
   ]
  },
  {
   "cell_type": "code",
   "execution_count": null,
   "metadata": {},
   "outputs": [],
   "source": [
    "echo -e \"* create person 'Alvin':\";\n",
    "\n",
    "person='{\n",
    "    \"name\": \"Alvin\",\n",
    "    \"gender\": \"M\",\n",
    "    \"birthday\": \"1981-03-17\",\n",
    "    \"role\": \"STUDENT\",\n",
    "    \"gradeYear\": 2020,\n",
    "    \"department\": {\n",
    "        \"college\": \"Math\",\n",
    "        \"program\": \"Software\"\n",
    "    },\n",
    "    \"intro\": \"This is a student\"\n",
    "}';\n",
    "\n",
    "curl -H 'Cache-Control: no-cache' -H 'Content-Type: application/json' \\\n",
    "     -X POST 'http://localhost:9200/person/_doc/001?pretty' -d \"$(echo $person)\";\n",
    "     \n",
    "     \n",
    "echo -e \"\\n* create person 'Alvin' with unmatched 'gradeYear' attribute:\";\n",
    "\n",
    "person='{\n",
    "    \"name\": \"Alvin\",\n",
    "    \"gender\": \"M\",\n",
    "    \"birthday\": \"1981-03-17\",\n",
    "    \"role\": \"STUDENT\",\n",
    "    \"gradeYear\": 2020a,\n",
    "    \"department\": {\n",
    "        \"college\": \"Math\",\n",
    "        \"program\": \"Software\"\n",
    "    },\n",
    "    \"intro\": \"This is a student\"\n",
    "}';\n",
    "\n",
    "curl -H 'Cache-Control: no-cache' -H 'Content-Type: application/json' \\\n",
    "     -X POST 'http://localhost:9200/person/_doc/001?pretty' -d \"$(echo $person)\";"
   ]
  },
  {
   "cell_type": "markdown",
   "metadata": {},
   "source": [
    "### 2.4. Drop index"
   ]
  },
  {
   "cell_type": "code",
   "execution_count": null,
   "metadata": {},
   "outputs": [],
   "source": [
    "curl -H 'Cache-Control: no-cache' -H 'Content-Type: application/json' \\\n",
    "     -X DELETE 'http://localhost:9200/person?pretty';"
   ]
  }
 ],
 "metadata": {
  "kernelspec": {
   "display_name": "Bash",
   "language": "bash",
   "name": "bash"
  },
  "language_info": {
   "codemirror_mode": "shell",
   "file_extension": ".sh",
   "mimetype": "text/x-sh",
   "name": "bash"
  }
 },
 "nbformat": 4,
 "nbformat_minor": 4
}
