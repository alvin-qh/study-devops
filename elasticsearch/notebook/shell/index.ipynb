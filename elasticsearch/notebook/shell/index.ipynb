{
 "cells": [
  {
   "cell_type": "markdown",
   "metadata": {},
   "source": [
    "# Eleasticsearch index"
   ]
  },
  {
   "cell_type": "markdown",
   "metadata": {},
   "source": [
    "## 1. Index"
   ]
  },
  {
   "cell_type": "markdown",
   "metadata": {},
   "source": [
    "### 1.1. Simple index"
   ]
  },
  {
   "cell_type": "markdown",
   "metadata": {},
   "source": [
    "#### 1.1.1. Create index"
   ]
  },
  {
   "cell_type": "code",
   "execution_count": null,
   "metadata": {},
   "outputs": [],
   "source": [
    "# create an index\n",
    "echo -e \"* create index as: \";\n",
    "\n",
    "curl -H 'Cache-Control: no-cache' -H 'Content-Type: application/json' \\\n",
    "     -X PUT 'http://localhost:9200/person?pretty';"
   ]
  },
  {
   "cell_type": "markdown",
   "metadata": {},
   "source": [
    "#### 1.1.2. Create entity"
   ]
  },
  {
   "cell_type": "code",
   "execution_count": null,
   "metadata": {},
   "outputs": [],
   "source": [
    "# create person\n",
    "echo -e \"* create person 'Alvin':\";\n",
    "\n",
    "person='{\n",
    "    \"name\": \"Alvin\",\n",
    "    \"gender\": \"M\",\n",
    "    \"birthday\": \"1981-03-17\",\n",
    "    \"role\": \"STUDENT\"\n",
    "}';\n",
    "curl -H 'Cache-Control: no-cache' -H 'Content-Type: application/json' \\\n",
    "     -X POST 'http://localhost:9200/person/_doc/001?pretty' -d \"$(echo $person)\";"
   ]
  },
  {
   "cell_type": "markdown",
   "metadata": {},
   "source": [
    "#### 1.1.3. Drop index"
   ]
  },
  {
   "cell_type": "code",
   "execution_count": null,
   "metadata": {},
   "outputs": [],
   "source": [
    "echo -e \"* delete index as:\";\n",
    "\n",
    "curl -H 'Cache-Control: no-cache' -H 'Content-Type: application/json' \\\n",
    "     -X DELETE 'http://localhost:9200/person?pretty';"
   ]
  },
  {
   "cell_type": "markdown",
   "metadata": {},
   "source": [
    "### 1.2. Complex index"
   ]
  },
  {
   "cell_type": "markdown",
   "metadata": {},
   "source": [
    "#### 1.2.1. Create index"
   ]
  },
  {
   "cell_type": "code",
   "execution_count": null,
   "metadata": {},
   "outputs": [],
   "source": [
    "echo -e \"* create index as: \";\n",
    "\n",
    "index='{\n",
    "    \"settings\": {\n",
    "        \"number_of_replicas\": 0,\n",
    "        \"number_of_shards\": 1\n",
    "    },\n",
    "    \"mappings\": {\n",
    "        \"properties\": {\n",
    "            \"name\": {\n",
    "                \"type\": \"keyword\",\n",
    "                \"copy_to\": \"_all\"\n",
    "            },\n",
    "            \"gender\": {\n",
    "                \"type\": \"keyword\",\n",
    "                \"copy_to\": \"_all\"\n",
    "            },\n",
    "            \"birthday\": {\n",
    "                \"type\": \"date\",\n",
    "                \"copy_to\": \"_all\"\n",
    "            },\n",
    "            \"role\": {\n",
    "                \"type\": \"keyword\",\n",
    "                \"copy_to\": \"_all\"\n",
    "            },\n",
    "            \"gradeYear\": {\n",
    "                \"type\": \"integer\",\n",
    "                \"copy_to\": \"_all\"\n",
    "            },\n",
    "            \"department\": {\n",
    "                \"properties\": {\n",
    "                    \"college\": {\n",
    "                        \"type\": \"keyword\",\n",
    "                        \"copy_to\": \"_all\"\n",
    "                    },\n",
    "                    \"program\": {\n",
    "                        \"type\": \"keyword\",\n",
    "                        \"copy_to\": \"_all\"\n",
    "                    }\n",
    "                }\n",
    "            },\n",
    "            \"intro\": {\n",
    "                \"type\": \"text\",\n",
    "                \"copy_to\": \"_all\"\n",
    "            },\n",
    "            \"_all\": {\n",
    "                \"type\": \"text\"\n",
    "            }\n",
    "        }\n",
    "    }\n",
    "}';\n",
    "\n",
    "curl -H 'Cache-Control: no-cache' -H 'Content-Type: application/json' \\\n",
    "     -X PUT 'http://localhost:9200/person?pretty' -d \"$(echo $index)\";"
   ]
  },
  {
   "cell_type": "markdown",
   "metadata": {},
   "source": [
    "#### 1.2.2. Create entity\n",
    "\n",
    "- Match mappings"
   ]
  },
  {
   "cell_type": "code",
   "execution_count": null,
   "metadata": {},
   "outputs": [],
   "source": [
    "# create person\n",
    "echo -e \"* create person 'Alvin':\";\n",
    "\n",
    "person='{\n",
    "    \"name\": \"Alvin\",\n",
    "    \"gender\": \"M\",\n",
    "    \"birthday\": \"1981-03-17\",\n",
    "    \"role\": \"STUDENT\",\n",
    "    \"gradeYear\": 2020,\n",
    "    \"department\": {\n",
    "        \"college\": \"Math\",\n",
    "        \"program\": \"Software\"\n",
    "    },\n",
    "    \"intro\": \"This is a student\"\n",
    "}';\n",
    "\n",
    "curl -H 'Cache-Control: no-cache' -H 'Content-Type: application/json' \\\n",
    "     -X POST 'http://localhost:9200/person/_doc/001?pretty' -d \"$(echo $person)\";"
   ]
  },
  {
   "cell_type": "markdown",
   "metadata": {},
   "source": [
    "- unmatch mappings"
   ]
  },
  {
   "cell_type": "code",
   "execution_count": null,
   "metadata": {},
   "outputs": [],
   "source": [
    "# create person with unmatched attributes\n",
    "echo -e \"* create person 'Alvin' with unmatched 'gradeYear' attribute:\";\n",
    "\n",
    "# invalid 'gradeYear'\n",
    "person='{\n",
    "    \"name\": \"Alvin\",\n",
    "    \"gender\": \"M\",\n",
    "    \"birthday\": \"1981-03-17\",\n",
    "    \"role\": \"STUDENT\",\n",
    "    \"gradeYear\": 2020a,\n",
    "    \"department\": {\n",
    "        \"college\": \"Math\",\n",
    "        \"program\": \"Software\"\n",
    "    },\n",
    "    \"intro\": \"This is a student\"\n",
    "}';\n",
    "\n",
    "curl -H 'Cache-Control: no-cache' -H 'Content-Type: application/json' \\\n",
    "     -X POST 'http://localhost:9200/person/_doc/001?pretty' -d \"$(echo $person)\";"
   ]
  },
  {
   "cell_type": "markdown",
   "metadata": {},
   "source": [
    "#### 1.2.3. Drop index"
   ]
  },
  {
   "cell_type": "code",
   "execution_count": null,
   "metadata": {},
   "outputs": [],
   "source": [
    "curl -H 'Cache-Control: no-cache' -H 'Content-Type: application/json' \\\n",
    "     -X DELETE 'http://localhost:9200/person?pretty';"
   ]
  },
  {
   "cell_type": "markdown",
   "metadata": {},
   "source": [
    "## 2. Index attributes"
   ]
  },
  {
   "cell_type": "markdown",
   "metadata": {},
   "source": [
    "### 2.1. Create index"
   ]
  },
  {
   "cell_type": "code",
   "execution_count": null,
   "metadata": {},
   "outputs": [],
   "source": [
    "# create an index\n",
    "echo -e \"* create index as: \";\n",
    "\n",
    "curl -H 'Cache-Control: no-cache' -H 'Content-Type: application/json' \\\n",
    "     -X PUT 'http://localhost:9200/person?pretty';"
   ]
  },
  {
   "cell_type": "markdown",
   "metadata": {},
   "source": [
    "### 2.2. Index settings"
   ]
  },
  {
   "cell_type": "markdown",
   "metadata": {},
   "source": [
    "#### 2.2.1. Get index settings"
   ]
  },
  {
   "cell_type": "code",
   "execution_count": null,
   "metadata": {},
   "outputs": [],
   "source": [
    "# get index settings\n",
    "echo -e \"* get index settings as: \";\n",
    "\n",
    "curl -H 'Cache-Control: no-cache' -H 'Content-Type: application/json' \\\n",
    "     -X GET 'http://localhost:9200/person/_settings?pretty';"
   ]
  },
  {
   "cell_type": "markdown",
   "metadata": {},
   "source": [
    "#### 2.2.2. Change index settings"
   ]
  },
  {
   "cell_type": "code",
   "execution_count": null,
   "metadata": {},
   "outputs": [],
   "source": [
    "# change index settings\n",
    "echo -e \"* change index settings as: \";\n",
    "\n",
    "settings='{\n",
    "    \"number_of_replicas\": 0\n",
    "}';\n",
    "\n",
    "# close opened index\n",
    "curl -H 'Cache-Control: no-cache' -H 'Content-Type: application/json' \\\n",
    "     -X POST 'http://localhost:9200/person/_close?pretty';\n",
    "\n",
    "# change index settings\n",
    "curl -H 'Cache-Control: no-cache' -H 'Content-Type: application/json' \\\n",
    "     -X PUT 'http://localhost:9200/person/_settings?pretty' -d \"$(echo $settings)\";\n",
    "\n",
    "# reopen index\n",
    "curl -H 'Cache-Control: no-cache' -H 'Content-Type: application/json' \\\n",
    "     -X POST 'http://localhost:9200/person/_open?pretty';"
   ]
  },
  {
   "cell_type": "markdown",
   "metadata": {},
   "source": [
    "### 2.3. Index mappings"
   ]
  },
  {
   "cell_type": "markdown",
   "metadata": {},
   "source": [
    "#### 2.3.1. Get index mappings"
   ]
  },
  {
   "cell_type": "code",
   "execution_count": null,
   "metadata": {},
   "outputs": [],
   "source": [
    "echo -e \"* get index mappings as: \";\n",
    "\n",
    "curl -H 'Cache-Control: no-cache' -H 'Content-Type: application/json' \\\n",
    "     -X GET 'http://localhost:9200/person/_mappings?pretty';"
   ]
  },
  {
   "cell_type": "markdown",
   "metadata": {},
   "source": [
    "#### 2.3.2. Change index mappings\n",
    "\n",
    "- Change index mappings"
   ]
  },
  {
   "cell_type": "code",
   "execution_count": null,
   "metadata": {},
   "outputs": [],
   "source": [
    "# change index mappings\n",
    "echo -e \"* change index mappings as: \";\n",
    "\n",
    "mappings='{\n",
    "    \"properties\": {\n",
    "        \"name\": {\n",
    "            \"type\": \"keyword\",\n",
    "            \"copy_to\": \"_all\"\n",
    "        },\n",
    "        \"gender\": {\n",
    "            \"type\": \"keyword\",\n",
    "            \"copy_to\": \"_all\"\n",
    "        },\n",
    "        \"birthday\": {\n",
    "            \"type\": \"date\",\n",
    "            \"copy_to\": \"_all\"\n",
    "        },\n",
    "        \"role\": {\n",
    "            \"type\": \"keyword\",\n",
    "            \"copy_to\": \"_all\"\n",
    "        },\n",
    "        \"gradeYear\": {\n",
    "            \"type\": \"integer\",\n",
    "            \"copy_to\": \"_all\"\n",
    "        },\n",
    "        \"department\": {\n",
    "            \"properties\": {\n",
    "                \"college\": {\n",
    "                    \"type\": \"keyword\",\n",
    "                    \"copy_to\": \"_all\"\n",
    "                },\n",
    "                \"program\": {\n",
    "                    \"type\": \"keyword\",\n",
    "                    \"copy_to\": \"_all\"\n",
    "                }\n",
    "            }\n",
    "        },\n",
    "        \"intro\": {\n",
    "            \"type\": \"text\",\n",
    "            \"copy_to\": \"_all\"\n",
    "        },\n",
    "        \"_all\": {\n",
    "            \"type\": \"text\"\n",
    "        }\n",
    "    }\n",
    "}';\n",
    "\n",
    "# close opened index\n",
    "curl -H 'Cache-Control: no-cache' -H 'Content-Type: application/json' \\\n",
    "     -X POST 'http://localhost:9200/person/_close?pretty';\n",
    "\n",
    "# change index mappings\n",
    "curl -H 'Cache-Control: no-cache' -H 'Content-Type: application/json' \\\n",
    "     -X PUT 'http://localhost:9200/person/_mappings?pretty' -d \"$(echo $mappings)\";\n",
    "\n",
    "# reopen index\n",
    "curl -H 'Cache-Control: no-cache' -H 'Content-Type: application/json' \\\n",
    "     -X POST 'http://localhost:9200/person/_open?pretty';"
   ]
  },
  {
   "cell_type": "markdown",
   "metadata": {},
   "source": [
    "### 2.4. Drop index"
   ]
  },
  {
   "cell_type": "code",
   "execution_count": null,
   "metadata": {},
   "outputs": [],
   "source": [
    "echo -e \"* drop index as: \";\n",
    "\n",
    "curl -H 'Cache-Control: no-cache' -H 'Content-Type: application/json' \\\n",
    "     -X DELETE 'http://localhost:9200/person?pretty';"
   ]
  }
 ],
 "metadata": {
  "kernelspec": {
   "display_name": "Bash",
   "language": "bash",
   "name": "bash"
  },
  "language_info": {
   "codemirror_mode": "shell",
   "file_extension": ".sh",
   "mimetype": "text/x-sh",
   "name": "bash"
  }
 },
 "nbformat": 4,
 "nbformat_minor": 4
}
