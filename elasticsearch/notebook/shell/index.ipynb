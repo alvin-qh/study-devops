{
 "cells": [
  {
   "cell_type": "markdown",
   "metadata": {},
   "source": [
    "# Eleasticsearch"
   ]
  },
  {
   "cell_type": "markdown",
   "metadata": {},
   "source": [
    "## 1. Index"
   ]
  },
  {
   "cell_type": "markdown",
   "metadata": {},
   "source": [
    "### 1.1. Simple index"
   ]
  },
  {
   "cell_type": "markdown",
   "metadata": {},
   "source": [
    "#### 1.1.1. Create index"
   ]
  },
  {
   "cell_type": "code",
   "execution_count": null,
   "metadata": {},
   "outputs": [],
   "source": [
    "# create an index\n",
    "echo -e \"* create index as: \";\n",
    "curl -H 'Cache-Control: no-cache' -H 'Content-Type: application/json' \\\n",
    "     -X PUT 'http://localhost:9200/person?pretty'\n",
    "\n",
    "# get all indices\n",
    "echo -e \"\\n* get all index as: \";\n",
    "curl -H 'Cache-Control: no-cache' -H 'Content-Type: application/json' \\\n",
    "     -X GET 'http://localhost:9200/_cat/indices?pretty'"
   ]
  },
  {
   "cell_type": "markdown",
   "metadata": {},
   "source": [
    "#### 1.1.2. Create entity"
   ]
  },
  {
   "cell_type": "code",
   "execution_count": null,
   "metadata": {},
   "outputs": [],
   "source": [
    "# create student 'alvin'\n",
    "echo -e \"* create student 'Alvin':\";\n",
    "\n",
    "json='{\n",
    "    \"name\": \"Alvin\",\n",
    "    \"gender\": \"M\",\n",
    "    \"birthday\": \"1981-03-17\",\n",
    "    \"role\": \"STUDENT\"\n",
    "}';\n",
    "curl -H 'Cache-Control: no-cache' -H 'Content-Type: application/json' \\\n",
    "     -X POST 'http://localhost:9200/person/_doc/001?pretty' -d \"$(echo $json)\";\n",
    "     \n",
    "     \n",
    "# create student 'Emma'\n",
    "echo -e \"\\n* create student 'Emma':\";\n",
    "\n",
    "json='{\n",
    "    \"name\": \"Emma\",\n",
    "    \"gender\": \"F\",\n",
    "    \"birthday\": \"1985-03-29\",\n",
    "    \"role\": \"STUDENT\"\n",
    "}';\n",
    "curl -H 'Cache-Control: no-cache' -H 'Content-Type: application/json' \\\n",
    "     -X POST 'http://localhost:9200/person/_doc/002?pretty' -d \"$(echo $json)\";\n",
    "     \n",
    "     \n",
    "# create teacher 'Lucy'\n",
    "echo -e \"\\n* create teacher 'Lucy':\";\n",
    "\n",
    "json='{\n",
    "    \"name\": \"Lucy\",\n",
    "    \"gender\": \"F\",\n",
    "    \"birthday\": \"1956-09-06\",\n",
    "    \"role\": \"TEACHER\"\n",
    "}';\n",
    "curl -H 'Cache-Control: no-cache' -H 'Content-Type: application/json' \\\n",
    "     -X POST 'http://localhost:9200/person/_doc/003?pretty' -d \"$(echo $json)\";\n",
    "\n",
    "     \n",
    "# create teacher 'Arthur'\n",
    "echo -e \"\\n* create teacher 'Arthur':\";\n",
    "\n",
    "json='{\n",
    "    \"name\": \"Arthur\",\n",
    "    \"gender\": \"M\",\n",
    "    \"birthday\": \"1972-08-13\",\n",
    "    \"role\": \"TEACHER\"\n",
    "}';\n",
    "curl -H 'Cache-Control: no-cache' -H 'Content-Type: application/json' \\\n",
    "     -X POST 'http://localhost:9200/person/_doc/004?pretty' -d \"$(echo $json)\";"
   ]
  },
  {
   "cell_type": "markdown",
   "metadata": {},
   "source": [
    "#### 1.1.3. Get all entities"
   ]
  },
  {
   "cell_type": "code",
   "execution_count": null,
   "metadata": {},
   "outputs": [],
   "source": [
    "echo -e \"* query all entities are: \";\n",
    "curl -H 'Cache-Control: no-cache' -H 'Content-Type: application/json' \\\n",
    "     -X GET 'http://localhost:9200/person/_search?pretty'"
   ]
  },
  {
   "cell_type": "markdown",
   "metadata": {},
   "source": [
    "#### 1.1.4. Get entity by ID"
   ]
  },
  {
   "cell_type": "code",
   "execution_count": null,
   "metadata": {},
   "outputs": [],
   "source": [
    "echo -e \"* query entity by id '001' is: \";\n",
    "curl -H 'Cache-Control: no-cache' -H 'Content-Type: application/json' \\\n",
    "     -X GET 'http://localhost:9200/person/_doc/001?pretty'"
   ]
  },
  {
   "cell_type": "markdown",
   "metadata": {},
   "source": [
    "#### 1.1.5. Query entity"
   ]
  },
  {
   "cell_type": "code",
   "execution_count": null,
   "metadata": {
    "scrolled": true
   },
   "outputs": [],
   "source": [
    "echo -e \"* query by 'gender=M' as: \";\n",
    "curl -H 'Cache-Control: no-cache' -H 'Content-Type: application/json' \\\n",
    "     -X GET 'http://localhost:9200/person/_doc/_search?pretty&q=gender:M';\n",
    "     \n",
    "     \n",
    "echo -e \"\\n* query by 'role=STUDENT' as: \";\n",
    "curl -H 'Cache-Control: no-cache' -H 'Content-Type: application/json' \\\n",
    "     -X GET 'http://localhost:9200/person/_doc/_search?pretty&q=role:STUDENT';\n",
    "\n",
    "echo -e \"\\n* query by json condition as:\";\n",
    "cond='{\n",
    "    \"query\": {\n",
    "        \"match\": {\n",
    "            \"role\": {\n",
    "                \"query\": \"STUDENT\"\n",
    "            }\n",
    "        }\n",
    "    }\n",
    "}';\n",
    "curl -H 'Cache-Control: no-cache' -H 'Content-Type: application/json' \\\n",
    "     -X GET 'http://localhost:9200/person/_doc/_search?pretty' -d \"$(echo $cond)\";"
   ]
  },
  {
   "cell_type": "markdown",
   "metadata": {},
   "source": [
    "#### 1.1.6. Delete index"
   ]
  },
  {
   "cell_type": "code",
   "execution_count": null,
   "metadata": {},
   "outputs": [],
   "source": [
    "curl -H 'Cache-Control: no-cache' -H 'Content-Type: application/json' \\\n",
    "     -X DELETE 'http://localhost:9200/person?pretty';"
   ]
  },
  {
   "cell_type": "markdown",
   "metadata": {},
   "source": [
    "### 1.2. Complex index"
   ]
  },
  {
   "cell_type": "markdown",
   "metadata": {},
   "source": [
    "#### 1.2.1. Create index"
   ]
  },
  {
   "cell_type": "code",
   "execution_count": null,
   "metadata": {},
   "outputs": [],
   "source": [
    "json='{\n",
    "    \"settings\": {\n",
    "        \"number_of_replicas\": 0,\n",
    "        \"number_of_shards\": 1\n",
    "    },\n",
    "    \"mappings\": {\n",
    "        \"properties\": {\n",
    "            \"name\": {\n",
    "                \"type\": \"keyword\",\n",
    "                \"copy_to\": \"_all\"\n",
    "            },\n",
    "            \"gender\": {\n",
    "                \"type\": \"keyword\",\n",
    "                \"copy_to\": \"_all\"\n",
    "            },\n",
    "            \"birthday\": {\n",
    "                \"type\": \"date\",\n",
    "                \"copy_to\": \"_all\"\n",
    "            },\n",
    "            \"role\": {\n",
    "                \"type\": \"keyword\",\n",
    "                \"copy_to\": \"_all\"\n",
    "            },\n",
    "            \"gradeYear\": {\n",
    "                \"type\": \"integer\",\n",
    "                \"copy_to\": \"_all\"\n",
    "            },\n",
    "            \"department\": {\n",
    "                \"properties\": {\n",
    "                    \"college\": {\n",
    "                        \"type\": \"keyword\",\n",
    "                        \"copy_to\": \"_all\"\n",
    "                    },\n",
    "                    \"program\": {\n",
    "                        \"type\": \"keyword\",\n",
    "                        \"copy_to\": \"_all\"\n",
    "                    }\n",
    "                }\n",
    "            },\n",
    "            \"intro\": {\n",
    "                \"type\": \"text\",\n",
    "                \"copy_to\": \"_all\"\n",
    "            },\n",
    "            \"_all\": {\n",
    "                \"type\": \"text\"\n",
    "            }\n",
    "        }\n",
    "    }\n",
    "}';\n",
    "\n",
    "curl -H 'Cache-Control: no-cache' -H 'Content-Type: application/json' \\\n",
    "     -X PUT 'http://localhost:9200/school?pretty' -d \"$(echo $json)\";"
   ]
  },
  {
   "cell_type": "markdown",
   "metadata": {},
   "source": [
    "#### 1.2.2. Change index settings"
   ]
  },
  {
   "cell_type": "code",
   "execution_count": null,
   "metadata": {},
   "outputs": [],
   "source": [
    "# change number of replicas\n",
    "json='{\n",
    "  \"index\": {\n",
    "    \"number_of_replicas\": 0\n",
    "  }\n",
    "}';\n",
    "\n",
    "curl -H 'Cache-Control: no-cache' -H 'Content-Type: application/json' \\\n",
    "     -X PUT 'http://localhost:9200/school/_settings?pretty' -d \"$(echo $json)\";"
   ]
  },
  {
   "cell_type": "markdown",
   "metadata": {},
   "source": [
    "#### 1.2.3. Create entity"
   ]
  },
  {
   "cell_type": "code",
   "execution_count": null,
   "metadata": {},
   "outputs": [],
   "source": [
    "# create student 'alvin'\n",
    "echo -e \"* create student 'Alvin':\";\n",
    "\n",
    "json='{\n",
    "    \"name\": \"Alvin\",\n",
    "    \"gender\": \"M\",\n",
    "    \"birthday\": \"1981-03-17\",\n",
    "    \"role\": \"STUDENT\"\n",
    "}';\n",
    "\n",
    "curl -H 'Cache-Control: no-cache' -H 'Content-Type: application/json' \\\n",
    "     -X POST 'http://localhost:9200/school/_doc/001?pretty' -d \"$(echo $json)\";\n",
    "     \n",
    "     \n",
    "# # create student 'Emma'\n",
    "# echo -e \"\\n* create student 'Emma':\";\n",
    "\n",
    "# json='{\n",
    "#     \"name\": \"Emma\",\n",
    "#     \"gender\": \"F\",\n",
    "#     \"birthday\": \"1985-03-29\",\n",
    "#     \"role\": \"STUDENT\"\n",
    "# }';\n",
    "\n",
    "# curl -H 'Cache-Control: no-cache' -H 'Content-Type: application/json' \\\n",
    "#      -X POST 'http://localhost:9200/school/person/002?pretty' -d \"$(echo $json)\";\n",
    "     \n",
    "     \n",
    "# # create teacher 'Lucy'\n",
    "# echo -e \"\\n* create teacher 'Lucy':\";\n",
    "\n",
    "# json='{\n",
    "#     \"name\": \"Lucy\",\n",
    "#     \"gender\": \"F\",\n",
    "#     \"birthday\": \"1956-09-06\",\n",
    "#     \"role\": \"TEACHER\"\n",
    "# }';\n",
    "\n",
    "# curl -H 'Cache-Control: no-cache' -H 'Content-Type: application/json' \\\n",
    "#      -X POST 'http://localhost:9200/school/person/003?pretty' -d \"$(echo $json)\";\n",
    "\n",
    "     \n",
    "# # create teacher 'Arthur'\n",
    "# echo -e \"\\n* create teacher 'Arthur':\";\n",
    "\n",
    "# json='{\n",
    "#     \"name\": \"Arthur\",\n",
    "#     \"gender\": \"M\",\n",
    "#     \"birthday\": \"1972-08-13\",\n",
    "#     \"role\": \"TEACHER\"\n",
    "# }';\n",
    "\n",
    "# curl -H 'Cache-Control: no-cache' -H 'Content-Type: application/json' \\\n",
    "#      -X POST 'http://localhost:9200/school/person/004?pretty' -d \"$(echo $json)\";"
   ]
  }
 ],
 "metadata": {
  "kernelspec": {
   "display_name": "Bash",
   "language": "bash",
   "name": "bash"
  },
  "language_info": {
   "codemirror_mode": "shell",
   "file_extension": ".sh",
   "mimetype": "text/x-sh",
   "name": "bash"
  }
 },
 "nbformat": 4,
 "nbformat_minor": 4
}
