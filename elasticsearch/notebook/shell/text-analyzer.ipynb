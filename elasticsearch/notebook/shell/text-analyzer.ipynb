{
 "cells": [
  {
   "cell_type": "markdown",
   "metadata": {},
   "source": [
    "# 文本分析器"
   ]
  },
  {
   "cell_type": "markdown",
   "metadata": {},
   "source": [
    "## 1. 内置文本分析器"
   ]
  },
  {
   "cell_type": "markdown",
   "metadata": {},
   "source": [
    "### 1.1. 标准分析器 (`standard`)\n",
    "\n",
    "- 文本分析"
   ]
  },
  {
   "cell_type": "code",
   "execution_count": null,
   "metadata": {},
   "outputs": [],
   "source": [
    "text=$'{\n",
    "    \"analyzer\": \"standard\",\n",
    "    \"text\": \"The 2 QUICK Brown-Foxes jumped over the lazy dog\\'s bone.\"\n",
    "}';\n",
    "\n",
    "curl -H 'Cache-Control: no-cache' -H 'Content-Type: application/json' \\\n",
    "     -X POST 'http://localhost:9200/_analyze?pretty' -d \"$(echo $text)\";"
   ]
  },
  {
   "cell_type": "markdown",
   "metadata": {},
   "source": [
    "- 设置到索引"
   ]
  },
  {
   "cell_type": "code",
   "execution_count": null,
   "metadata": {},
   "outputs": [],
   "source": [
    "# create index\n",
    "echo -e \"* create index as: \";\n",
    "settings='{\n",
    "    \"settings\": {\n",
    "        \"number_of_replicas\": 0,\n",
    "        \"number_of_shards\": 1,\n",
    "        \"analysis\": {\n",
    "            \"analyzer\": {\n",
    "                \"standard_analyzer\": {\n",
    "                    \"type\": \"standard\",\n",
    "                    \"max_token_length\": 5,\n",
    "                    \"stopwords\": \"_english_\"\n",
    "                }\n",
    "            }\n",
    "        }\n",
    "    }\n",
    "}';\n",
    "curl -H 'Cache-Control: no-cache' -H 'Content-Type: application/json' \\\n",
    "     -X PUT 'http://localhost:9200/analyzer?pretty' -d \"$(echo $settings)\";\n",
    "\n",
    "# test index analyzer\n",
    "echo -e \"\\n* analyzed with index as: \";\n",
    "text=$'{\n",
    "    \"analyzer\": \"standard_analyzer\",\n",
    "    \"text\": \"The 2 QUICK Brown-Foxes jumped over the lazy dog\\'s bone.\"\n",
    "}';\n",
    "curl -H 'Cache-Control: no-cache' -H 'Content-Type: application/json' \\\n",
    "     -X POST 'http://localhost:9200/analyzer/_analyze?pretty' -d \"$(echo $text)\";\n",
    "\n",
    "# delete index\n",
    "echo -e \"\\n* delete index as:\";\n",
    "curl -H 'Cache-Control: no-cache' -H 'Content-Type: application/json' \\\n",
    "     -X DELETE 'http://localhost:9200/analyzer?pretty';"
   ]
  },
  {
   "cell_type": "markdown",
   "metadata": {},
   "source": [
    "### 1.2. 简单分析器 (`simple`)\n",
    "\n",
    "将非字母的词汇切分，并转化为小写\n",
    "\n",
    "- 文本分析"
   ]
  },
  {
   "cell_type": "code",
   "execution_count": null,
   "metadata": {},
   "outputs": [],
   "source": [
    "text=$'{\n",
    "    \"analyzer\": \"simple\",\n",
    "    \"text\": \"The 2 QUICK Brown-Foxes jumped over the lazy dog\\'s bone.\"\n",
    "}';\n",
    "\n",
    "curl -H 'Cache-Control: no-cache' -H 'Content-Type: application/json' \\\n",
    "     -X POST 'http://localhost:9200/_analyze?pretty' -d \"$(echo $text)\";"
   ]
  },
  {
   "cell_type": "markdown",
   "metadata": {},
   "source": [
    "- 设置到索引"
   ]
  },
  {
   "cell_type": "code",
   "execution_count": null,
   "metadata": {},
   "outputs": [],
   "source": [
    "# create index\n",
    "echo -e \"* create index as: \";\n",
    "settings='{\n",
    "    \"settings\": {\n",
    "        \"number_of_replicas\": 0,\n",
    "        \"number_of_shards\": 1,\n",
    "        \"analysis\": {\n",
    "            \"analyzer\": {\n",
    "                \"simple_analyzer\": {\n",
    "                    \"type\": \"simple\"\n",
    "                }\n",
    "            }\n",
    "        }\n",
    "    }\n",
    "}';\n",
    "curl -H 'Cache-Control: no-cache' -H 'Content-Type: application/json' \\\n",
    "     -X PUT 'http://localhost:9200/analyzer?pretty' -d \"$(echo $settings)\";\n",
    "\n",
    "# test index analyzer\n",
    "echo -e \"\\n* analyzed with index as: \";\n",
    "text=$'{\n",
    "    \"analyzer\": \"simple_analyzer\",\n",
    "    \"text\": \"The 2 QUICK Brown-Foxes jumped over the lazy dog\\'s bone.\"\n",
    "}';\n",
    "curl -H 'Cache-Control: no-cache' -H 'Content-Type: application/json' \\\n",
    "     -X POST 'http://localhost:9200/analyzer/_analyze?pretty' -d \"$(echo $text)\";\n",
    "\n",
    "# delete index\n",
    "echo -e \"\\n* delete index as:\";\n",
    "curl -H 'Cache-Control: no-cache' -H 'Content-Type: application/json' \\\n",
    "     -X DELETE 'http://localhost:9200/analyzer?pretty';"
   ]
  },
  {
   "cell_type": "markdown",
   "metadata": {},
   "source": [
    "### 1.3. 空白文本分析器 (`whitespace`)\n",
    "\n",
    "根据空格字符，将句子切分为词汇\n",
    "\n",
    "- 文本分析"
   ]
  },
  {
   "cell_type": "code",
   "execution_count": null,
   "metadata": {},
   "outputs": [],
   "source": [
    "text=$'{\n",
    "    \"analyzer\": \"whitespace\",\n",
    "    \"text\": \"The 2 QUICK Brown-Foxes jumped over the lazy dog\\'s bone.\"\n",
    "}';\n",
    "\n",
    "curl -H 'Cache-Control: no-cache' -H 'Content-Type: application/json' \\\n",
    "     -X POST 'http://localhost:9200/_analyze?pretty' -d \"$(echo $text)\";"
   ]
  },
  {
   "cell_type": "markdown",
   "metadata": {},
   "source": [
    "- 设置到索引"
   ]
  },
  {
   "cell_type": "code",
   "execution_count": null,
   "metadata": {},
   "outputs": [],
   "source": [
    "# create index\n",
    "echo -e \"* create index as: \";\n",
    "settings='{\n",
    "    \"settings\": {\n",
    "        \"number_of_replicas\": 0,\n",
    "        \"number_of_shards\": 1,\n",
    "        \"analysis\": {\n",
    "            \"analyzer\": {\n",
    "                \"whitespace_analyzer\": {\n",
    "                    \"type\": \"whitespace\"\n",
    "                }\n",
    "            }\n",
    "        }\n",
    "    }\n",
    "}';\n",
    "curl -H 'Cache-Control: no-cache' -H 'Content-Type: application/json' \\\n",
    "     -X PUT 'http://localhost:9200/analyzer?pretty' -d \"$(echo $settings)\";\n",
    "\n",
    "# test index analyzer\n",
    "echo -e \"\\n* analyzed with index as: \";\n",
    "text=$'{\n",
    "    \"analyzer\": \"whitespace_analyzer\",\n",
    "    \"text\": \"The 2 QUICK Brown-Foxes jumped over the lazy dog\\'s bone.\"\n",
    "}';\n",
    "curl -H 'Cache-Control: no-cache' -H 'Content-Type: application/json' \\\n",
    "     -X POST 'http://localhost:9200/analyzer/_analyze?pretty' -d \"$(echo $text)\";\n",
    "\n",
    "# delete index\n",
    "echo -e \"\\n* delete index as:\";\n",
    "curl -H 'Cache-Control: no-cache' -H 'Content-Type: application/json' \\\n",
    "     -X DELETE 'http://localhost:9200/analyzer?pretty';"
   ]
  },
  {
   "cell_type": "markdown",
   "metadata": {},
   "source": [
    "### 1.4. 停止词文本分析器 (`stop`)\n",
    "\n",
    "根据停止词列表，将句子切分为词汇\n",
    "\n",
    "- 文本分析"
   ]
  },
  {
   "cell_type": "code",
   "execution_count": null,
   "metadata": {},
   "outputs": [],
   "source": [
    "text=$'{\n",
    "    \"analyzer\": \"stop\",\n",
    "    \"text\": \"The 2 QUICK Brown-Foxes jumped over the lazy dog\\'s bone.\"\n",
    "}';\n",
    "\n",
    "curl -H 'Cache-Control: no-cache' -H 'Content-Type: application/json' \\\n",
    "     -X POST 'http://localhost:9200/_analyze?pretty' -d \"$(echo $text)\";"
   ]
  },
  {
   "cell_type": "markdown",
   "metadata": {},
   "source": [
    "- 设置到索引"
   ]
  },
  {
   "cell_type": "code",
   "execution_count": null,
   "metadata": {},
   "outputs": [],
   "source": [
    "# create index\n",
    "echo -e \"* create index as: \";\n",
    "settings='{\n",
    "    \"settings\": {\n",
    "        \"number_of_replicas\": 0,\n",
    "        \"number_of_shards\": 1,\n",
    "        \"analysis\": {\n",
    "            \"analyzer\": {\n",
    "                \"stop_analyzer\": {\n",
    "                    \"type\": \"stop\",\n",
    "                    \"stopwords\": [\n",
    "                        \"the\", \"over\"\n",
    "                    ]\n",
    "                }\n",
    "            }\n",
    "        }\n",
    "    }\n",
    "}';\n",
    "curl -H 'Cache-Control: no-cache' -H 'Content-Type: application/json' \\\n",
    "     -X PUT 'http://localhost:9200/analyzer?pretty' -d \"$(echo $settings)\";\n",
    "\n",
    "# test index analyzer\n",
    "echo -e \"\\n* analyzed with index as: \";\n",
    "text=$'{\n",
    "    \"analyzer\": \"stop_analyzer\",\n",
    "    \"text\": \"The 2 QUICK Brown-Foxes jumped over the lazy dog\\'s bone.\"\n",
    "}';\n",
    "curl -H 'Cache-Control: no-cache' -H 'Content-Type: application/json' \\\n",
    "     -X POST 'http://localhost:9200/analyzer/_analyze?pretty' -d \"$(echo $text)\";\n",
    "\n",
    "# delete index\n",
    "echo -e \"\\n* delete index as:\";\n",
    "curl -H 'Cache-Control: no-cache' -H 'Content-Type: application/json' \\\n",
    "     -X DELETE 'http://localhost:9200/analyzer?pretty';"
   ]
  },
  {
   "cell_type": "markdown",
   "metadata": {},
   "source": [
    "### 1.5. 关键词文本分析器 (`keyword`)\n",
    "\n",
    "不切分词汇\n",
    "\n",
    "- 文本分析"
   ]
  },
  {
   "cell_type": "code",
   "execution_count": null,
   "metadata": {},
   "outputs": [],
   "source": [
    "text=$'{\n",
    "    \"analyzer\": \"keyword\",\n",
    "    \"text\": \"The 2 QUICK Brown-Foxes jumped over the lazy dog\\'s bone.\"\n",
    "}';\n",
    "\n",
    "curl -H 'Cache-Control: no-cache' -H 'Content-Type: application/json' \\\n",
    "     -X POST 'http://localhost:9200/_analyze?pretty' -d \"$(echo $text)\";"
   ]
  },
  {
   "cell_type": "markdown",
   "metadata": {},
   "source": [
    "- 设置到索引"
   ]
  },
  {
   "cell_type": "code",
   "execution_count": null,
   "metadata": {},
   "outputs": [],
   "source": [
    "# create index\n",
    "echo -e \"* create index as: \";\n",
    "settings='{\n",
    "    \"settings\": {\n",
    "        \"number_of_replicas\": 0,\n",
    "        \"number_of_shards\": 1,\n",
    "        \"analysis\": {\n",
    "            \"analyzer\": {\n",
    "                \"keyword_analyzer\": {\n",
    "                    \"type\": \"keyword\"\n",
    "                }\n",
    "            }\n",
    "        }\n",
    "    }\n",
    "}';\n",
    "curl -H 'Cache-Control: no-cache' -H 'Content-Type: application/json' \\\n",
    "     -X PUT 'http://localhost:9200/analyzer?pretty' -d \"$(echo $settings)\";\n",
    "\n",
    "# test index analyzer\n",
    "echo -e \"\\n* analyzed with index as: \";\n",
    "text=$'{\n",
    "    \"analyzer\": \"keyword_analyzer\",\n",
    "    \"text\": \"The 2 QUICK Brown-Foxes jumped over the lazy dog\\'s bone.\"\n",
    "}';\n",
    "curl -H 'Cache-Control: no-cache' -H 'Content-Type: application/json' \\\n",
    "     -X POST 'http://localhost:9200/analyzer/_analyze?pretty' -d \"$(echo $text)\";\n",
    "\n",
    "# delete index\n",
    "echo -e \"\\n* delete index as:\";\n",
    "curl -H 'Cache-Control: no-cache' -H 'Content-Type: application/json' \\\n",
    "     -X DELETE 'http://localhost:9200/analyzer?pretty';"
   ]
  },
  {
   "cell_type": "markdown",
   "metadata": {},
   "source": [
    "### 1.6. 正则表达式文本分析器 (`pattern`)\n",
    "\n",
    "根据正则表达式切分文本，支持小写和停止词列表\n",
    "\n",
    "- 文本分析"
   ]
  },
  {
   "cell_type": "code",
   "execution_count": null,
   "metadata": {},
   "outputs": [],
   "source": [
    "text=$'{\n",
    "    \"analyzer\": \"pattern\",\n",
    "    \"text\": \"The 2 QUICK Brown-Foxes jumped over the lazy dog\\'s bone.\"\n",
    "}';\n",
    "\n",
    "curl -H 'Cache-Control: no-cache' -H 'Content-Type: application/json' \\\n",
    "     -X POST 'http://localhost:9200/_analyze?pretty' -d \"$(echo $text)\";"
   ]
  },
  {
   "cell_type": "markdown",
   "metadata": {},
   "source": [
    "- 设置到索引"
   ]
  },
  {
   "cell_type": "code",
   "execution_count": null,
   "metadata": {},
   "outputs": [],
   "source": [
    "# create index\n",
    "echo -e \"* change index analyzer as: \";\n",
    "settings='{\n",
    "    \"settings\": {\n",
    "        \"number_of_replicas\": 0,\n",
    "        \"number_of_shards\": 1,\n",
    "        \"analysis\": {\n",
    "            \"analyzer\": {\n",
    "                \"pattern_analyzer\": {\n",
    "                    \"type\": \"pattern\",\n",
    "                    \"pattern\": \"\\\\W|_\",\n",
    "                    \"lowercase\": true,\n",
    "                    \"stopwords\": [\n",
    "                        \"the\",\n",
    "                        \"over\"\n",
    "                    ]\n",
    "                }\n",
    "            }\n",
    "        }\n",
    "    }\n",
    "}';\n",
    "curl -H 'Cache-Control: no-cache' -H 'Content-Type: application/json' \\\n",
    "     -X PUT 'http://localhost:9200/analyzer?pretty' -d \"$(echo $settings)\";\n",
    "\n",
    "# test index analyzer\n",
    "echo -e \"\\n* analyzed with index as: \";\n",
    "text=$'{\n",
    "    \"analyzer\": \"pattern_analyzer\",\n",
    "    \"text\": \"The 2 QUICK Brown-Foxes jumped over the lazy dog\\'s bone.\"\n",
    "}';\n",
    "curl -H 'Cache-Control: no-cache' -H 'Content-Type: application/json' \\\n",
    "     -X POST 'http://localhost:9200/analyzer/_analyze?pretty' -d \"$(echo $text)\";\n",
    "\n",
    "# delete index\n",
    "echo -e \"\\n* delete index as:\";\n",
    "curl -H 'Cache-Control: no-cache' -H 'Content-Type: application/json' \\\n",
    "     -X DELETE 'http://localhost:9200/analyzer?pretty';"
   ]
  },
  {
   "cell_type": "markdown",
   "metadata": {},
   "source": [
    "### 1.7. 语言相关文本分析器 (参见 [说明文档](https://www.elastic.co/guide/en/elasticsearch/reference/current/analysis-lang-analyzer.html))\n",
    "\n",
    "利用语言相关分析器进行文本分析\n",
    "\n",
    "- 文本分析"
   ]
  },
  {
   "cell_type": "code",
   "execution_count": null,
   "metadata": {},
   "outputs": [],
   "source": [
    "text='{\n",
    "    \"analyzer\": \"cjk\",\n",
    "    \"text\": \"阿美首脑会议将讨论巴以和平等问题\"\n",
    "}';\n",
    "\n",
    "curl -H 'Cache-Control: no-cache' -H 'Content-Type: application/json' \\\n",
    "     -X POST 'http://localhost:9200/_analyze?pretty' -d \"$(echo $text)\";"
   ]
  },
  {
   "cell_type": "markdown",
   "metadata": {},
   "source": [
    "- 设置到索引"
   ]
  },
  {
   "cell_type": "code",
   "execution_count": null,
   "metadata": {},
   "outputs": [],
   "source": [
    "# create index\n",
    "echo -e \"* create index as: \";\n",
    "settings='{\n",
    "    \"settings\": {\n",
    "        \"number_of_replicas\": 0,\n",
    "        \"number_of_shards\": 1,\n",
    "        \"analysis\": {\n",
    "            \"analyzer\": {\n",
    "                \"cjk_analyzer\": {\n",
    "                    \"type\": \"cjk\",\n",
    "                    \"stopwords\": \"_cjk_\"\n",
    "                }\n",
    "            }\n",
    "        }\n",
    "    }\n",
    "}';\n",
    "curl -H 'Cache-Control: no-cache' -H 'Content-Type: application/json' \\\n",
    "     -X PUT 'http://localhost:9200/analyzer?pretty' -d \"$(echo $settings)\";\n",
    "\n",
    "# test index analyzer\n",
    "echo -e \"\\n* analyzed with index as: \";\n",
    "text='{\n",
    "    \"analyzer\": \"cjk_analyzer\",\n",
    "    \"text\": \"阿美首脑会议将讨论巴以和平等问题\"\n",
    "}';\n",
    "curl -H 'Cache-Control: no-cache' -H 'Content-Type: application/json' \\\n",
    "     -X POST 'http://localhost:9200/analyzer/_analyze?pretty' -d \"$(echo $text)\";\n",
    "\n",
    "# delete index\n",
    "echo -e \"\\n* delete index as:\";\n",
    "curl -H 'Cache-Control: no-cache' -H 'Content-Type: application/json' \\\n",
    "     -X DELETE 'http://localhost:9200/analyzer?pretty';"
   ]
  },
  {
   "cell_type": "markdown",
   "metadata": {},
   "source": [
    "### 1.8. 文本指纹分析器 (`fingerprint`)\n",
    "\n",
    "根据文本计算文本指纹\n",
    "\n",
    "- 文本分析"
   ]
  },
  {
   "cell_type": "code",
   "execution_count": null,
   "metadata": {},
   "outputs": [],
   "source": [
    "text='{\n",
    "    \"analyzer\": \"fingerprint\",\n",
    "    \"text\": \"阿美首脑会议将讨论巴以和平等问题\"\n",
    "}';\n",
    "\n",
    "curl -H 'Cache-Control: no-cache' -H 'Content-Type: application/json' \\\n",
    "     -X POST 'http://localhost:9200/_analyze?pretty' -d \"$(echo $text)\";"
   ]
  },
  {
   "cell_type": "markdown",
   "metadata": {},
   "source": [
    "- 设置到索引"
   ]
  },
  {
   "cell_type": "code",
   "execution_count": null,
   "metadata": {},
   "outputs": [],
   "source": [
    "# create index\n",
    "echo -e \"* create index as: \";\n",
    "settings='{\n",
    "    \"settings\": {\n",
    "        \"number_of_replicas\": 0,\n",
    "        \"number_of_shards\": 1,\n",
    "        \"analysis\": {\n",
    "            \"analyzer\": {\n",
    "                \"fingerprint_analyzer\": {\n",
    "                    \"type\": \"fingerprint\",\n",
    "                    \"max_output_size\": 50,\n",
    "                    \"separator\": \",\",\n",
    "                    \"stopwords\": \"_cjk_\"\n",
    "                }\n",
    "            }\n",
    "        }\n",
    "    }\n",
    "}';\n",
    "curl -H 'Cache-Control: no-cache' -H 'Content-Type: application/json' \\\n",
    "     -X PUT 'http://localhost:9200/analyzer?pretty' -d \"$(echo $settings)\";\n",
    "\n",
    "# test index analyzer\n",
    "echo -e \"\\n* analyzed with index as: \";\n",
    "text='{\n",
    "    \"analyzer\": \"fingerprint_analyzer\",\n",
    "    \"text\": \"阿美首脑会议将讨论巴以和平等问题\"\n",
    "}';\n",
    "curl -H 'Cache-Control: no-cache' -H 'Content-Type: application/json' \\\n",
    "     -X POST 'http://localhost:9200/analyzer/_analyze?pretty' -d \"$(echo $text)\";\n",
    "\n",
    "# delete index\n",
    "echo -e \"\\n* delete index as:\";\n",
    "curl -H 'Cache-Control: no-cache' -H 'Content-Type: application/json' \\\n",
    "     -X DELETE 'http://localhost:9200/analyzer?pretty';"
   ]
  },
  {
   "cell_type": "markdown",
   "metadata": {},
   "source": [
    "## 2. 自定义分析器\n",
    "\n",
    "自定义的分析器包含如下参数：\n",
    "- `tokenizer`: 指定分词器\n",
    "- `char_filter`: 字符过滤器（筛选器）\n",
    "- `filter`: 词汇过滤器（筛选器）\n",
    "- `position_increment_gap`: 词汇间插入的间隙（参见[文档](https://www.elastic.co/guide/en/elasticsearch/reference/current/position-increment-gap.html)）"
   ]
  },
  {
   "cell_type": "code",
   "execution_count": null,
   "metadata": {},
   "outputs": [],
   "source": [
    "# create index\n",
    "echo -e \"* create index as: \";\n",
    "settings='{\n",
    "    \"settings\": {\n",
    "        \"number_of_replicas\": 0,\n",
    "        \"number_of_shards\": 1,\n",
    "        \"analysis\": {\n",
    "            \"analyzer\": {\n",
    "                \"custom_analyzer\": {\n",
    "                    \"type\": \"custom\",\n",
    "                    \"tokenizer\": \"standard\",\n",
    "                    \"char_filter\": [\n",
    "                        \"html_strip\"\n",
    "                    ],\n",
    "                    \"filter\": [\n",
    "                        \"lowercase\",\n",
    "                        \"asciifolding\"\n",
    "                    ]\n",
    "                }\n",
    "            }\n",
    "        }\n",
    "    }\n",
    "}';\n",
    "curl -H 'Cache-Control: no-cache' -H 'Content-Type: application/json' \\\n",
    "     -X PUT 'http://localhost:9200/analyzer?pretty' -d \"$(echo $settings)\";\n",
    "\n",
    "# test index analyzer\n",
    "echo -e \"\\n* analyzed with index as: \";\n",
    "text='{\n",
    "    \"analyzer\": \"custom_analyzer\",\n",
    "    \"text\": \"Is this <b>déjà vu</b>?\"\n",
    "}';\n",
    "curl -H 'Cache-Control: no-cache' -H 'Content-Type: application/json' \\\n",
    "     -X POST 'http://localhost:9200/analyzer/_analyze?pretty' -d \"$(echo $text)\";\n",
    "\n",
    "# delete index\n",
    "echo -e \"\\n* delete index as:\";\n",
    "curl -H 'Cache-Control: no-cache' -H 'Content-Type: application/json' \\\n",
    "     -X DELETE 'http://localhost:9200/analyzer?pretty';"
   ]
  },
  {
   "cell_type": "markdown",
   "metadata": {},
   "source": [
    "## 3. 更新索引的文本分析器"
   ]
  },
  {
   "cell_type": "markdown",
   "metadata": {},
   "source": [
    "### 3.1. 创建索引"
   ]
  },
  {
   "cell_type": "code",
   "execution_count": null,
   "metadata": {},
   "outputs": [],
   "source": [
    "echo -e \"* create index as: \";\n",
    "\n",
    "settings='{\n",
    "    \"settings\": {\n",
    "        \"number_of_replicas\": 0,\n",
    "        \"number_of_shards\": 1\n",
    "    }\n",
    "}';\n",
    "\n",
    "curl -H 'Cache-Control: no-cache' -H 'Content-Type: application/json' \\\n",
    "     -X PUT 'http://localhost:9200/analyzer?pretty' -d \"$(echo $settings)\";"
   ]
  },
  {
   "cell_type": "markdown",
   "metadata": {},
   "source": [
    "### 3.2. 更新索引文本分析器"
   ]
  },
  {
   "cell_type": "code",
   "execution_count": null,
   "metadata": {},
   "outputs": [],
   "source": [
    "echo -e \"* change index analyzer as: \";\n",
    "\n",
    "settings='{\n",
    "    \"analysis\": {\n",
    "        \"analyzer\": {\n",
    "            \"standard_analyzer\": {\n",
    "                \"type\": \"standard\",\n",
    "                \"max_token_length\": 5,\n",
    "                \"stopwords\": \"_english_\"\n",
    "            }\n",
    "        }\n",
    "    }\n",
    "}';\n",
    "\n",
    "curl -H 'Cache-Control: no-cache' -H 'Content-Type: application/json' \\\n",
    "     -X POST 'http://localhost:9200/analyzer/_close?pretty';\n",
    "\n",
    "curl -H 'Cache-Control: no-cache' -H 'Content-Type: application/json' \\\n",
    "     -X PUT 'http://localhost:9200/analyzer/_settings?pretty' -d \"$(echo $settings)\";\n",
    "\n",
    "curl -H 'Cache-Control: no-cache' -H 'Content-Type: application/json' \\\n",
    "     -X POST 'http://localhost:9200/analyzer/_open?pretty';"
   ]
  },
  {
   "cell_type": "markdown",
   "metadata": {},
   "source": [
    "### 3.3. 测试索引文本分析器"
   ]
  },
  {
   "cell_type": "code",
   "execution_count": null,
   "metadata": {},
   "outputs": [],
   "source": [
    "echo -e \"* analyzed with index as: \";\n",
    "\n",
    "text=$'{\n",
    "    \"analyzer\": \"standard_analyzer\",\n",
    "    \"text\": \"The 2 QUICK Brown-Foxes jumped over the lazy dog\\'s bone.\"\n",
    "}';\n",
    "\n",
    "curl -H 'Cache-Control: no-cache' -H 'Content-Type: application/json' \\\n",
    "     -X POST 'http://localhost:9200/analyzer/_analyze?pretty' -d \"$(echo $text)\";"
   ]
  },
  {
   "cell_type": "markdown",
   "metadata": {},
   "source": [
    "### 3.4. 删除索引"
   ]
  },
  {
   "cell_type": "code",
   "execution_count": null,
   "metadata": {},
   "outputs": [],
   "source": [
    "echo -e \"* delete index as:\";\n",
    "\n",
    "curl -H 'Cache-Control: no-cache' -H 'Content-Type: application/json' \\\n",
    "     -X DELETE 'http://localhost:9200/analyzer?pretty';"
   ]
  },
  {
   "cell_type": "markdown",
   "metadata": {},
   "source": [
    "## 4. 第三方语法分析器"
   ]
  },
  {
   "cell_type": "markdown",
   "metadata": {},
   "source": [
    "### 4.1. 安装插件"
   ]
  },
  {
   "cell_type": "markdown",
   "metadata": {},
   "source": [
    "#### 4.1.1. 在线安装\n",
    "\n",
    "- 直接安装"
   ]
  },
  {
   "cell_type": "code",
   "execution_count": null,
   "metadata": {},
   "outputs": [],
   "source": [
    "sudo bin/elasticsearch-plugin install analysis-icu\n",
    "sudo bin/elasticsearch-plugin install analysis-smartcn"
   ]
  },
  {
   "cell_type": "markdown",
   "metadata": {},
   "source": [
    "- docker 安装"
   ]
  },
  {
   "cell_type": "code",
   "execution_count": null,
   "metadata": {},
   "outputs": [],
   "source": [
    "docker exec elastic bin/elasticsearch-plugin install analysis-icu\n",
    "docker exec elastic bin/elasticsearch-plugin install analysis-smartcn"
   ]
  },
  {
   "cell_type": "markdown",
   "metadata": {},
   "source": [
    "#### 4.1.2. 离线安装\n",
    "\n",
    "1. 下载插件：[smartcn](https://artifacts.elastic.co/downloads/elasticsearch-plugins/analysis-smartcn/analysis-smartcn-7.6.2.zip), [icu](https://artifacts.elastic.co/downloads/elasticsearch-plugins/analysis-icu/analysis-icu-7.6.2.zip);\n",
    "2. 复制下载的文件到 docker 容器可访问的路径（例如 logs 目录）;\n",
    "3. 执行下述命令安装插件\n",
    "\n",
    "- 直接安装"
   ]
  },
  {
   "cell_type": "code",
   "execution_count": null,
   "metadata": {},
   "outputs": [],
   "source": [
    "sudo bin/elasticsearch-plugin install file:///usr/share/elasticsearch/logs/analysis-smartcn-7.6.2.zip\n",
    "sudo bin/elasticsearch-plugin install file:///usr/share/elasticsearch/logs/analysis-icu-7.6.2.zip"
   ]
  },
  {
   "cell_type": "markdown",
   "metadata": {},
   "source": [
    "- docker 安装"
   ]
  },
  {
   "cell_type": "code",
   "execution_count": null,
   "metadata": {},
   "outputs": [],
   "source": [
    "docker exec elastic bin/elasticsearch-plugin install file:///usr/share/elasticsearch/logs/analysis-smartcn-7.6.2.zip\n",
    "docker exec elastic bin/elasticsearch-plugin install file:///usr/share/elasticsearch/logs/analysis-icu-7.6.2.zip"
   ]
  },
  {
   "cell_type": "markdown",
   "metadata": {},
   "source": [
    "#### 4.1.3. 删除插件\n",
    "\n",
    "- 直接删除"
   ]
  },
  {
   "cell_type": "code",
   "execution_count": null,
   "metadata": {},
   "outputs": [],
   "source": [
    "sudo bin/elasticsearch-plugin remove analysis-icu\n",
    "sudo bin/elasticsearch-plugin remove analysis-smartcn"
   ]
  },
  {
   "cell_type": "markdown",
   "metadata": {},
   "source": [
    "- docker 删除"
   ]
  },
  {
   "cell_type": "code",
   "execution_count": null,
   "metadata": {},
   "outputs": [],
   "source": [
    "docker exec elastic bin/elasticsearch-plugin remove analysis-icu\n",
    "docker exec elastic bin/elasticsearch-plugin remove analysis-smartcn"
   ]
  },
  {
   "cell_type": "markdown",
   "metadata": {},
   "source": [
    "### 4.2. SmartCN 分析插件"
   ]
  },
  {
   "cell_type": "markdown",
   "metadata": {},
   "source": [
    "#### 4.2.1. 创建索引"
   ]
  },
  {
   "cell_type": "code",
   "execution_count": null,
   "metadata": {},
   "outputs": [],
   "source": [
    "echo -e \"* create index as: \";\n",
    "\n",
    "settings='{\n",
    "    \"settings\": {\n",
    "        \"number_of_replicas\": 0,\n",
    "        \"number_of_shards\": 1,\n",
    "        \"analysis\": {\n",
    "            \"analyzer\": {\n",
    "                \"smartcn_with_stop_analyzer\": {\n",
    "                    \"tokenizer\": \"smartcn_tokenizer\",\n",
    "                    \"filter\": [\n",
    "                        \"porter_stem\",\n",
    "                        \"smartcn_stop_filter\"\n",
    "                    ]\n",
    "                }\n",
    "            },\n",
    "            \"filter\": {\n",
    "                \"smartcn_stop_filter\": {\n",
    "                    \"type\": \"smartcn_stop\",\n",
    "                    \"stopwords\": [\n",
    "                        \"_smartcn_\",\n",
    "                        \"stack\",\n",
    "                        \"的\"\n",
    "                    ]\n",
    "                }\n",
    "            }\n",
    "        }\n",
    "    }\n",
    "}';\n",
    "\n",
    "curl -H 'Cache-Control: no-cache' -H 'Content-Type: application/json' \\\n",
    "     -X PUT 'http://localhost:9200/analyzer?pretty' -d \"$(echo $settings)\";"
   ]
  },
  {
   "cell_type": "markdown",
   "metadata": {},
   "source": [
    "#### 4.2.2. 测试索引文本分析器"
   ]
  },
  {
   "cell_type": "code",
   "execution_count": null,
   "metadata": {},
   "outputs": [],
   "source": [
    "echo -e \"* analyzed with index as: \";\n",
    "\n",
    "text='{\n",
    "    \"analyzer\": \"smartcn_with_stop_analyzer\",\n",
    "    \"text\": \"阿美首脑会议将讨论巴以和平等问题\"\n",
    "}';\n",
    "\n",
    "curl -H 'Cache-Control: no-cache' -H 'Content-Type: application/json' \\\n",
    "     -X POST 'http://localhost:9200/analyzer/_analyze?pretty' -d \"$(echo $text)\";"
   ]
  },
  {
   "cell_type": "markdown",
   "metadata": {},
   "source": [
    "#### 4.2.3. 删除索引"
   ]
  },
  {
   "cell_type": "code",
   "execution_count": null,
   "metadata": {},
   "outputs": [],
   "source": [
    "echo -e \"* delete index as:\";\n",
    "\n",
    "curl -H 'Cache-Control: no-cache' -H 'Content-Type: application/json' \\\n",
    "     -X DELETE 'http://localhost:9200/analyzer?pretty';"
   ]
  },
  {
   "cell_type": "markdown",
   "metadata": {},
   "source": [
    "### 4.3. ICU 分析插件"
   ]
  },
  {
   "cell_type": "markdown",
   "metadata": {},
   "source": [
    "#### 4.3.1. 根据`icu_analyzer`内置分析器创建索引"
   ]
  },
  {
   "cell_type": "code",
   "execution_count": null,
   "metadata": {},
   "outputs": [],
   "source": [
    "# create index\n",
    "echo -e \"* create index as: \";\n",
    "settings='{\n",
    "    \"settings\": {\n",
    "        \"number_of_replicas\": 0,\n",
    "        \"number_of_shards\": 1,\n",
    "        \"analysis\": {\n",
    "            \"analyzer\": {\n",
    "                \"default_icu_analyzer\": {\n",
    "                    \"type\": \"icu_analyzer\",\n",
    "                    \"method\": \"nfkc_cf\",\n",
    "                    \"mode\": \"compose\"\n",
    "                }\n",
    "            }\n",
    "        }\n",
    "    }\n",
    "}';\n",
    "curl -H 'Cache-Control: no-cache' -H 'Content-Type: application/json' \\\n",
    "     -X PUT 'http://localhost:9200/analyzer?pretty' -d \"$(echo $settings)\";\n",
    "\n",
    "# test index analyzer\n",
    "echo -e \"\\n* analyzed with index as: \";\n",
    "text='{\n",
    "    \"analyzer\": \"default_icu_analyzer\",\n",
    "    \"text\": \"阿美首脑会议将讨论巴以和平等问题\"\n",
    "}';\n",
    "curl -H 'Cache-Control: no-cache' -H 'Content-Type: application/json' \\\n",
    "     -X POST 'http://localhost:9200/analyzer/_analyze?pretty' -d \"$(echo $text)\";\n",
    "\n",
    "# delete index\n",
    "echo -e \"\\n* delete index as:\";\n",
    "curl -H 'Cache-Control: no-cache' -H 'Content-Type: application/json' \\\n",
    "     -X DELETE 'http://localhost:9200/analyzer?pretty';"
   ]
  },
  {
   "cell_type": "markdown",
   "metadata": {},
   "source": [
    "#### 4.3.2. 使用 ICU Normalization 字符过滤器"
   ]
  },
  {
   "cell_type": "code",
   "execution_count": null,
   "metadata": {},
   "outputs": [],
   "source": [
    "# create index\n",
    "echo -e \"* create index as: \";\n",
    "settings='{\n",
    "    \"settings\": {\n",
    "        \"number_of_replicas\": 0,\n",
    "        \"number_of_shards\": 1,\n",
    "        \"analysis\": {\n",
    "            \"analyzer\": {\n",
    "                \"nfkc_cf_normalized\": { \n",
    "                    \"tokenizer\": \"icu_tokenizer\",\n",
    "                    \"char_filter\": [\n",
    "                    \"icu_normalizer\"\n",
    "                    ]\n",
    "                },\n",
    "                \"nfd_normalized\": { \n",
    "                    \"tokenizer\": \"icu_tokenizer\",\n",
    "                    \"char_filter\": [\n",
    "                        \"nfd_normalizer\"\n",
    "                    ]\n",
    "                }\n",
    "            },\n",
    "            \"char_filter\": {\n",
    "                \"nfd_normalizer\": {\n",
    "                    \"type\": \"icu_normalizer\",\n",
    "                    \"name\": \"nfc\",\n",
    "                    \"mode\": \"decompose\"\n",
    "                }\n",
    "            }\n",
    "        }\n",
    "    }\n",
    "}';\n",
    "curl -H 'Cache-Control: no-cache' -H 'Content-Type: application/json' \\\n",
    "     -X PUT 'http://localhost:9200/analyzer?pretty' -d \"$(echo $settings)\";\n",
    "\n",
    "# test index analyzer\n",
    "echo -e \"\\n* analyzed with index as: \";\n",
    "text='{\n",
    "    \"analyzer\": \"nfkc_cf_normalized\",\n",
    "    \"text\": \"阿美首脑会议将讨论巴以和平等问题\"\n",
    "}';\n",
    "curl -H 'Cache-Control: no-cache' -H 'Content-Type: application/json' \\\n",
    "     -X POST 'http://localhost:9200/analyzer/_analyze?pretty' -d \"$(echo $text)\";\n",
    "\n",
    "# delete index\n",
    "echo -e \"\\n* delete index as:\";\n",
    "curl -H 'Cache-Control: no-cache' -H 'Content-Type: application/json' \\\n",
    "     -X DELETE 'http://localhost:9200/analyzer?pretty';"
   ]
  }
 ],
 "metadata": {
  "kernelspec": {
   "display_name": "Bash",
   "language": "bash",
   "name": "bash"
  },
  "language_info": {
   "codemirror_mode": "shell",
   "file_extension": ".sh",
   "mimetype": "text/x-sh",
   "name": "bash"
  }
 },
 "nbformat": 4,
 "nbformat_minor": 4
}
