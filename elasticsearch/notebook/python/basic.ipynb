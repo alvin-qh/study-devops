{
 "cells": [
  {
   "cell_type": "markdown",
   "metadata": {},
   "source": [
    "# Elasticsearch with python"
   ]
  },
  {
   "cell_type": "markdown",
   "metadata": {},
   "source": [
    "## 1. Prepare"
   ]
  },
  {
   "cell_type": "markdown",
   "metadata": {},
   "source": [
    "### 1.1. Utils functions"
   ]
  },
  {
   "cell_type": "code",
   "execution_count": null,
   "metadata": {},
   "outputs": [],
   "source": [
    "import json\n",
    "\n",
    "def format_json_object(obj, splitter='   '):\n",
    "    s = '\\n{}'.format(json.dumps(obj, indent=2))\n",
    "    s = s.replace('\\n', '\\n{}'.format(splitter))\n",
    "    return '{}'.format(s)"
   ]
  },
  {
   "cell_type": "markdown",
   "metadata": {},
   "source": [
    "### 1.2. Connect to server"
   ]
  },
  {
   "cell_type": "code",
   "execution_count": null,
   "metadata": {},
   "outputs": [],
   "source": [
    "from elasticsearch import Elasticsearch\n",
    "\n",
    "servers = [{\n",
    "    'host': 'localhost',\n",
    "    'port': '9200'\n",
    "}]\n",
    "\n",
    "es = Elasticsearch(servers)\n",
    "\n",
    "try:\n",
    "    ping = es.ping()\n",
    "    if ping:\n",
    "        print('* Elasticsearch connect successed')\n",
    "    else:\n",
    "        print('* Elasticsearch connect failed')\n",
    "except Exception as err:\n",
    "    print('* Error caused when connect elasticsearch, reason {}'.format(err))"
   ]
  },
  {
   "cell_type": "markdown",
   "metadata": {},
   "source": [
    "## 2. Basic usage"
   ]
  },
  {
   "cell_type": "markdown",
   "metadata": {},
   "source": [
    "### 2.1. Create index"
   ]
  },
  {
   "cell_type": "code",
   "execution_count": null,
   "metadata": {},
   "outputs": [],
   "source": [
    "index_name = 'person'\n",
    "\n",
    "settings = {\n",
    "    'settings': {\n",
    "        'number_of_shards': 1,\n",
    "        'number_of_replicas': 0\n",
    "    },\n",
    "    'mappings': {\n",
    "        \n",
    "    }\n",
    "}\n",
    "\n",
    "exists = es.indices.exists(index_name)\n",
    "if exists:\n",
    "    r = es.indices.delete(index_name)\n",
    "    print('* deleted exists index, result is: {}\\n'.format(format_json_object(r)))\n",
    "\n",
    "r = es.indices.create(index=index_name, body=settings, ignore=400)\n",
    "print('* create index, result is: {}'.format(format_json_object(r)))"
   ]
  },
  {
   "cell_type": "markdown",
   "metadata": {},
   "source": [
    "### 2.2. Create document"
   ]
  },
  {
   "cell_type": "code",
   "execution_count": null,
   "metadata": {},
   "outputs": [],
   "source": [
    "from datetime import date\n",
    "\n",
    "index_name = 'person'\n",
    "\n",
    "doc = {\n",
    "    'name': 'Alvin',\n",
    "    'birthday': date(1981, 3, 17),\n",
    "    'role': 'STUDENT'\n",
    "}\n",
    "\n",
    "r = es.index(id='001', index=index_name, body=doc)\n",
    "print('* create document success, result is: {}'.format(format_json_object(r)))\n",
    "\n",
    "r = es.get(index=index_name, id='001')\n",
    "print('\\n * get document by id is: {}'.format(format_json_object(r)))"
   ]
  }
 ],
 "metadata": {
  "kernelspec": {
   "display_name": "Python 3",
   "language": "python",
   "name": "python3"
  },
  "language_info": {
   "codemirror_mode": {
    "name": "ipython",
    "version": 3
   },
   "file_extension": ".py",
   "mimetype": "text/x-python",
   "name": "python",
   "nbconvert_exporter": "python",
   "pygments_lexer": "ipython3",
   "version": "3.7.5"
  }
 },
 "nbformat": 4,
 "nbformat_minor": 4
}
