{
 "cells": [
  {
   "cell_type": "markdown",
   "metadata": {},
   "source": [
    "# MySQL Config"
   ]
  },
  {
   "cell_type": "markdown",
   "metadata": {},
   "source": [
    "## 1. File location of config file\n",
    "\n",
    "- `~/.my.ini` or `~/.my.cnf'\n",
    "- `/etc/my.ini` or `/etc/my.cnf`\n",
    "- `/etc/mysql/conf.d/my.cnf` (percona server)"
   ]
  },
  {
   "cell_type": "markdown",
   "metadata": {},
   "source": [
    "## 2. Config 'my.ini' (or 'my.cnf') "
   ]
  },
  {
   "cell_type": "markdown",
   "metadata": {},
   "source": [
    "### 2.1. Charset config\n",
    "\n",
    "```ini\n",
    "[client]\n",
    "default-character-set = utf8mb4\n",
    "\n",
    "[mysql]\n",
    "default-character-set = utf8mb4\n",
    "\n",
    "[mysqld]\n",
    "character-set-client-handshake = FALSE\n",
    "character-set-server = utf8mb4\n",
    "collation-server = utf8mb4_unicode_ci\n",
    "init_connect = 'SET NAMES utf8mb4'\n",
    "```"
   ]
  },
  {
   "cell_type": "markdown",
   "metadata": {},
   "source": [
    "### 2.2. Logs config\n",
    "\n",
    "```ini\n",
    "[mysqld]\n",
    "general_log = ON\n",
    "general_log_file = /var/log/mysql/mysqld.log\n",
    "\n",
    "slow_query_log = OFF\n",
    "slow_query_log_file = /var/log/mysql/slow_query.log\n",
    "long_query_time = 10.000000\n",
    "```"
   ]
  },
  {
   "cell_type": "markdown",
   "metadata": {},
   "source": [
    "### 2.3. Network config\n",
    "\n",
    "```ini\n",
    "[mysqld]\n",
    "bind-address = 127.0.0.1\n",
    "port = 3306\n",
    "socket = /tmp/mysql.sock\n",
    "\n",
    "connect_timeout = 10\n",
    "net_write_timeout = 28800\n",
    "net_read_timeout = 28800\n",
    "interactive_timeout = 100\n",
    "wait_timeout = 100\n",
    "\n",
    "max_allowed_packet = 16M\n",
    "```"
   ]
  },
  {
   "cell_type": "markdown",
   "metadata": {},
   "source": [
    "- Get max connection\n",
    "\n",
    "```mysql\n",
    "mysql> SHOW VARIABLES LIKE 'max_connections';\n",
    "```\n",
    "\n",
    "```\n",
    "+-----------------+-------+\n",
    "| Variable_name   | Value |\n",
    "+-----------------+-------+\n",
    "| max_connections | 151   |\n",
    "+-----------------+-------+\n",
    "1 row in set (0.00 sec)\n",
    "```\n",
    "\n",
    "- Get used connections\n",
    "\n",
    "```mysql\n",
    "mysql> SHOW GLOBAL STATUS LIKE 'max_used_connections';\n",
    "```\n",
    "\n",
    "```\n",
    "+----------------------+-------+\n",
    "| Variable_name        | Value |\n",
    "+----------------------+-------+\n",
    "| Max_used_connections | 1     |\n",
    "+----------------------+-------+\n",
    "1 row in set (0.00 sec)\n",
    "```\n",
    "\n",
    "The apposite max connection numbers is:\n",
    "`max_used_connections / max_connections * 100% >= 0.1%`\n",
    "\n",
    "- Set max connection (provisional)\n",
    "\n",
    "```mysql\n",
    "mysql> SET GLOBAL max_connections = 1024;\n",
    "```\n",
    "\n",
    "- Set max connection (permanent)\n",
    "\n",
    "```ini\n",
    "[mysqld]\n",
    "max_connections = 1024\n",
    "```"
   ]
  },
  {
   "cell_type": "markdown",
   "metadata": {},
   "source": [
    "### 2.4. Memory config\n",
    "\n",
    "```ini\n",
    "[mysqld]\n",
    "table_cache = 1024                    # 512 ~ 1024\n",
    "query_cache_size = 64M\n",
    "query_cache_type = 1\n",
    "query_cache_limit = 1M\n",
    "\n",
    "innodb_additional_mem_pool_size = 4M  # 2M by default\n",
    "innodb_flush_log_at_trx_commit = 0\n",
    "innodb_log_buffer_size = 2M           # 1M by default\n",
    "tmp_table_size = 64M                  # 16M by default, 64 ~ 256 is OK\n",
    "\n",
    "key_buffer = 256M                     # 218M by default\n",
    "join_buffer = 16M                     # 1M by default\n",
    "record_buffer = 1M\n",
    "\n",
    "read_buffer_size = 4M                 # 64K by default\n",
    "sort_buffer_size = 32M                # 256K by default\n",
    "myisam_sort_buffer_size = 64M\n",
    "read_rnd_buffer_size = 16M            # 256K by default\n",
    "```"
   ]
  },
  {
   "cell_type": "markdown",
   "metadata": {},
   "source": [
    "### 2.5. Authentication plugin config\n",
    "\n",
    "```ini\n",
    "[mysqld]\n",
    "default_authentication_plugin = mysql_native_password\n",
    "```"
   ]
  },
  {
   "cell_type": "markdown",
   "metadata": {},
   "source": [
    "### 2.6. SQL mode config\n",
    "\n",
    "```ini\n",
    "[mysqld]\n",
    "sql_mode = STRICT_TRANS_TABLES,ONLY_FULL_GROUP_BY,ERROR_FOR_DIVISION_BY_ZERO,NO_ENGINE_SUBSTITUTION\n",
    "```"
   ]
  },
  {
   "cell_type": "markdown",
   "metadata": {},
   "source": [
    "### 2.7. Threads pool config\n",
    "\n",
    "- Show thread pool size\n",
    "\n",
    "```mysql\n",
    "mysql> SHOW VARIABLES LIKE 'thread_pool_size';\n",
    "```\n",
    "\n",
    "- Set thread pool config\n",
    "\n",
    "```ini\n",
    "[mysqld]\n",
    "skip-locking\n",
    "thread_handling = one-thread-per-connection | pool-of-threads\n",
    "thread_pool_size = 100\n",
    "thread_pool_stall_limit = 20      # 200ms\n",
    "thread_cache_size = 120           # 60 by default\n",
    "thread_concurrency = 8            # as total cpu count\n",
    "```"
   ]
  },
  {
   "cell_type": "markdown",
   "metadata": {},
   "source": [
    "### 2.8. Other config\n",
    "\n",
    "```ini\n",
    "[safe_mysqld]\n",
    "err-log = /var/log/mysqld.log\n",
    "open_files_limit = 8192\n",
    "\n",
    "[mysqldump]\n",
    "quick\n",
    "max_allowed_packet = 16M\n",
    "\n",
    "[mysql]\n",
    "no-auto-rehash\n",
    "#safe-updates\n",
    "\n",
    "[isamchk]\n",
    "key_buffer = 64M\n",
    "sort_buffer = 64M\n",
    "read_buffer = 16M\n",
    "write_buffer = 16M\n",
    "\n",
    "[myisamchk]\n",
    "key_buffer = 64M\n",
    "sort_buffer = 64M\n",
    "read_buffer = 16M\n",
    "write_buffer = 16M\n",
    "\n",
    "[mysqlhotcopy]\n",
    "interactive-timeout\n",
    "```"
   ]
  }
 ],
 "metadata": {
  "kernelspec": {
   "display_name": "Bash",
   "language": "bash",
   "name": "bash"
  },
  "language_info": {
   "codemirror_mode": "shell",
   "file_extension": ".sh",
   "mimetype": "text/x-sh",
   "name": "bash"
  }
 },
 "nbformat": 4,
 "nbformat_minor": 4
}
