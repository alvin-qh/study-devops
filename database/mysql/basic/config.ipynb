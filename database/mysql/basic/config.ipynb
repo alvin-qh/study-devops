{
 "cells": [
  {
   "cell_type": "markdown",
   "metadata": {},
   "source": [
    "# MySQL Config"
   ]
  },
  {
   "cell_type": "markdown",
   "metadata": {},
   "source": [
    "## 1. File location of config file\n",
    "\n",
    "- `~/.my.ini` or `~/.my.cnf'\n",
    "- `/etc/my.ini` or `/etc/my.cnf`\n",
    "- `/etc/mysql/conf.d/my.cnf` (percona server)"
   ]
  },
  {
   "cell_type": "markdown",
   "metadata": {},
   "source": [
    "## 2. Config 'my.ini' (or 'my.cnf') "
   ]
  },
  {
   "cell_type": "markdown",
   "metadata": {},
   "source": [
    "### 2.1. Charset config\n",
    "\n",
    "```ini\n",
    "[client]\n",
    "default-character-set = utf8mb4\n",
    "\n",
    "[mysql]\n",
    "default-character-set = utf8mb4\n",
    "\n",
    "[mysqld]\n",
    "character-set-client-handshake = FALSE\n",
    "character-set-server = utf8mb4\n",
    "collation-server = utf8mb4_unicode_ci\n",
    "init_connect = 'SET NAMES utf8mb4'\n",
    "```"
   ]
  },
  {
   "cell_type": "markdown",
   "metadata": {},
   "source": [
    "### 2.2. Logs config\n",
    "\n",
    "```ini\n",
    "[mysqld]\n",
    "general_log = ON\n",
    "general_log_file = /var/log/mysql/mysqld.log\n",
    "\n",
    "slow_query_log = OFF\n",
    "slow_query_log_file = /var/log/mysql/slow_query.log\n",
    "long_query_time = 10.000000\n",
    "```"
   ]
  },
  {
   "cell_type": "markdown",
   "metadata": {},
   "source": [
    "### 2.3. Network config\n",
    "\n",
    "```ini\n",
    "bind-address = 127.0.0.1\n",
    "port = 3306\n",
    "socket = /tmp/mysql.sock\n",
    "\n",
    "net_write_timeout = 28800\n",
    "net_read_timeout = 28800\n",
    "```"
   ]
  },
  {
   "cell_type": "markdown",
   "metadata": {},
   "source": [
    "### 2.4. Memory config\n",
    "\n",
    "```ini\n",
    "key_buffer_size = 16K\n",
    "max_allowed_packet = 1M\n",
    "table_open_cache = 4\n",
    "sort_buffer_size = 64K\n",
    "read_buffer_size = 256K\n",
    "read_rnd_buffer_size = 256K\n",
    "net_buffer_length = 2K\n",
    "thread_stack = 240K\n",
    "```"
   ]
  },
  {
   "cell_type": "markdown",
   "metadata": {},
   "source": [
    "### 2.5. Authentication plugin config\n",
    "\n",
    "```ini\n",
    "default_authentication_plugin=mysql_native_password\n",
    "```"
   ]
  },
  {
   "cell_type": "markdown",
   "metadata": {},
   "source": [
    "### 2.6. SQL mode config\n",
    "\n",
    "```ini\n",
    "sql_mode=STRICT_TRANS_TABLES,ONLY_FULL_GROUP_BY,ERROR_FOR_DIVISION_BY_ZERO,NO_ENGINE_SUBSTITUTION\n",
    "```"
   ]
  }
 ],
 "metadata": {
  "kernelspec": {
   "display_name": "Bash",
   "language": "bash",
   "name": "bash"
  },
  "language_info": {
   "codemirror_mode": "shell",
   "file_extension": ".sh",
   "mimetype": "text/x-sh",
   "name": "bash"
  }
 },
 "nbformat": 4,
 "nbformat_minor": 4
}
