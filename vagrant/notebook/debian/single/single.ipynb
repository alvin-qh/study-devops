{
 "cells": [
  {
   "cell_type": "markdown",
   "metadata": {},
   "source": [
    "# Single machine"
   ]
  },
  {
   "cell_type": "markdown",
   "metadata": {},
   "source": [
    "## 1. Vagrant box"
   ]
  },
  {
   "cell_type": "markdown",
   "metadata": {},
   "source": [
    "### 1.1. Add vagrant box"
   ]
  },
  {
   "cell_type": "markdown",
   "metadata": {},
   "source": [
    "#### 1.1.1. Add from offical repository"
   ]
  },
  {
   "cell_type": "code",
   "execution_count": null,
   "metadata": {},
   "outputs": [],
   "source": [
    "vagrant box add debian/buster64 --name debian_buster"
   ]
  },
  {
   "cell_type": "markdown",
   "metadata": {},
   "source": [
    "**Output:**\n",
    "\n",
    "```plain\n",
    "==> box: Loading metadata for box 'debian/buster64'\n",
    "    box: URL: https://vagrantcloud.com/debian/buster64\n",
    "This box can work with multiple providers! The providers that it\n",
    "can work with are listed below. Please review the list and choose\n",
    "the provider you will be working with.\n",
    "\n",
    "1) libvirt\n",
    "2) virtualbox\n",
    "```\n",
    "\n",
    "Chose `2` (Virtualbox)\n",
    "\n",
    "```plain\n",
    "Enter your choice: 2\n",
    "==> box: Adding box 'debian/buster64' (v10.4.0) for provider: virtualbox\n",
    "    box: Downloading: https://vagrantcloud.com/debian/boxes/buster64/versions/10.4.0/providers/virtualbox.box\n",
    "==> box: Box download is resuming from prior download progress\n",
    "...\n",
    "```"
   ]
  },
  {
   "cell_type": "markdown",
   "metadata": {},
   "source": [
    "#### 1.1.2. Add from downloaded file\n",
    "\n",
    "- Download box file from: https://vagrantcloud.com/debian/boxes/buster64/versions/10.4.0/providers/virtualbox.box\n",
    "- Add box from downloaded file"
   ]
  },
  {
   "cell_type": "code",
   "execution_count": null,
   "metadata": {},
   "outputs": [],
   "source": [
    "vagrant box add ./virtualbox.box --name debian_buster"
   ]
  },
  {
   "cell_type": "markdown",
   "metadata": {},
   "source": [
    "### 1.2. Show vagrant boxes"
   ]
  },
  {
   "cell_type": "code",
   "execution_count": null,
   "metadata": {},
   "outputs": [],
   "source": [
    "vagrant box list -i"
   ]
  },
  {
   "cell_type": "code",
   "execution_count": null,
   "metadata": {},
   "outputs": [],
   "source": []
  }
 ],
 "metadata": {
  "kernelspec": {
   "display_name": "Bash",
   "language": "bash",
   "name": "bash"
  },
  "language_info": {
   "codemirror_mode": "shell",
   "file_extension": ".sh",
   "mimetype": "text/x-sh",
   "name": "bash"
  }
 },
 "nbformat": 4,
 "nbformat_minor": 4
}
