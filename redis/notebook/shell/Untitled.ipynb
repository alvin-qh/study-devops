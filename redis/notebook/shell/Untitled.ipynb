{
 "cells": [
  {
   "cell_type": "code",
   "execution_count": null,
   "metadata": {},
   "outputs": [],
   "source": []
  }
 ],
 "metadata": {
  "kernelspec": {
   "display_name": "Redis",
   "language": "redis",
   "name": "redis"
  },
  "language_info": {
   "file_extension": ".txt",
   "mimetype": "text",
   "name": "redis_kernel",
   "version": "0.5.2"
  }
 },
 "nbformat": 4,
 "nbformat_minor": 4
}
