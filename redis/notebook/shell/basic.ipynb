{
 "cells": [
  {
   "cell_type": "markdown",
   "metadata": {},
   "source": [
    "# Redis basic command"
   ]
  },
  {
   "cell_type": "markdown",
   "metadata": {},
   "source": [
    "## 1. Use redis-cli\n",
    "\n",
    "- `-h`: host\n",
    "- `-p`: port\n",
    "- `-a`: password\n",
    "\n",
    "If redis command followed, then run this command once, otherwise enter the redis cli environment"
   ]
  },
  {
   "cell_type": "code",
   "execution_count": null,
   "metadata": {},
   "outputs": [],
   "source": [
    "docker exec -it 'redis' redis-cli -h 127.0.0.1 -p 6379 -a '' CONFIG GET databases"
   ]
  },
  {
   "cell_type": "markdown",
   "metadata": {},
   "source": [
    "## 2. INFO Command"
   ]
  },
  {
   "cell_type": "markdown",
   "metadata": {},
   "source": [
    "### 2.1. SERVER: Get redis server information\n",
    "\n",
    "- `redis_version`: Redis version\n",
    "- `redis_git_sha1`: Git SHA1\n",
    "- `redis_git_dirty`: Git dirty flag\n",
    "- `os`: The host operating system\n",
    "- `arch_bits`: Architecture (32 bits or 64 bits)\n",
    "- `multiplexing_api`: The multiplexing mechanism used by Redis\n",
    "- `gcc_version`: GCC version to compile redis\n",
    "- `process_id`: Process id\n",
    "- `run_id`: Random identifiers for Redis servers (for Sentinel and clustering)\n",
    "- `tcp_port`: TCP/IP listening port\n",
    "- `uptime_in_seconds`: The number of seconds elapsed since the Redis server was started\n",
    "- `uptime_in_days`: Number of days since Redis server was started\n",
    "- `lru_clock`: Self-incrementing clock in minutes for LRU management"
   ]
  },
  {
   "cell_type": "code",
   "execution_count": null,
   "metadata": {},
   "outputs": [],
   "source": [
    "docker exec -it 'redis' redis-cli INFO server"
   ]
  },
  {
   "cell_type": "markdown",
   "metadata": {},
   "source": [
    "### 2.2. CLIENTS: Client infomation who was connected server\n",
    "\n",
    "- `connected_clients`: How many clients connected\n",
    "- `client_longest_output_list`: Max input buffer size of connected clients\n",
    "- `client_longest_input_buf`: Max output buffer size of connected clients\n",
    "- `blocked_clients`: How many clients was blocked by `BLPOP`、`BRPOP`、`BRPOPLPUSH`"
   ]
  },
  {
   "cell_type": "code",
   "execution_count": null,
   "metadata": {},
   "outputs": [],
   "source": [
    "docker exec -it 'redis' redis-cli INFO clients"
   ]
  }
 ],
 "metadata": {
  "kernelspec": {
   "display_name": "Bash",
   "language": "bash",
   "name": "bash"
  },
  "language_info": {
   "codemirror_mode": "shell",
   "file_extension": ".sh",
   "mimetype": "text/x-sh",
   "name": "bash"
  }
 },
 "nbformat": 4,
 "nbformat_minor": 4
}
