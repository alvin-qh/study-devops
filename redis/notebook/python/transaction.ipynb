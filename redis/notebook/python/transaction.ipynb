{
 "cells": [
  {
   "cell_type": "markdown",
   "metadata": {},
   "source": [
    "# Transaction"
   ]
  },
  {
   "cell_type": "code",
   "execution_count": null,
   "metadata": {},
   "outputs": [],
   "source": [
    "import redis\n",
    "from threading import Thread\n",
    "\n",
    "rd = redis.Redis(host='localhost', port=6379, db=0, decode_responses=True)"
   ]
  },
  {
   "cell_type": "markdown",
   "metadata": {},
   "source": [
    "## 1. Pipeline"
   ]
  },
  {
   "cell_type": "markdown",
   "metadata": {},
   "source": [
    "### 1.1. Batch commands"
   ]
  },
  {
   "cell_type": "code",
   "execution_count": null,
   "metadata": {},
   "outputs": [],
   "source": [
    "try:\n",
    "    with rd.pipeline(transaction=False) as pipe:\n",
    "        r = pipe.set(name='a', value=100) \\\n",
    "            .incr(name='a') \\\n",
    "            .incr(name='a', amount=10) \\\n",
    "            .execute()\n",
    "        print('* the result of batch execute is: {}'.format(r))\n",
    "\n",
    "    r = rd.get(name='a')\n",
    "    print('* the result of batch commands is: {}'.format(r))\n",
    "finally:\n",
    "    rd.delete('a')"
   ]
  },
  {
   "cell_type": "markdown",
   "metadata": {},
   "source": [
    "### 1.2. Transaction operate"
   ]
  },
  {
   "cell_type": "markdown",
   "metadata": {},
   "source": [
    "#### 1.2.1. Pipeline with transaction\n",
    "\n",
    "- `MULTI`: start transaction\n",
    "- `EXEC`: execute batch commands\n",
    "- `DISCARD`: discard all batch command in a transaction"
   ]
  },
  {
   "cell_type": "code",
   "execution_count": null,
   "metadata": {},
   "outputs": [],
   "source": [
    "try:\n",
    "    with rd.pipeline() as pipe:\n",
    "        try:\n",
    "            pipe.multi()  # start transaction\n",
    "            \n",
    "            r = pipe.set(name='a', value=100) \\\n",
    "                .incr(name='a') \\\n",
    "                .incr(name='a', amount=10) \\\n",
    "                .execute()  # run batch command\n",
    "\n",
    "            print('* the result of batch command is: {}'.format(r))\n",
    "        except Exception as err:\n",
    "            print('* error caused is: {}'.format(err))\n",
    "\n",
    "    # validate batch command\n",
    "    r = rd.get(name='a')\n",
    "    print('* the result of batch command is: {}'.format(r))\n",
    "finally:\n",
    "    rd.delete('a')"
   ]
  },
  {
   "cell_type": "markdown",
   "metadata": {},
   "source": [
    "#### 1.2.2. Transaction with watch\n",
    "\n",
    "- `WATCH key [key …]`: watch the specific keys\n",
    "- `UNWATCH`: unwatch all keys"
   ]
  },
  {
   "cell_type": "markdown",
   "metadata": {},
   "source": [
    "##### 1.2.2.1. Change key value in other process"
   ]
  },
  {
   "cell_type": "code",
   "execution_count": null,
   "metadata": {},
   "outputs": [],
   "source": [
    "def set_a_in_other_process(name=None, value=None):\n",
    "    def runner():\n",
    "        rd = redis.Redis(host='localhost', port=6379, db=0, decode_responses=True)\n",
    "        try:\n",
    "            if name is not None:\n",
    "                rd.set(name=name, value=value)\n",
    "        finally:\n",
    "            rd.connection_pool.disconnect()\n",
    "\n",
    "    t = Thread(target=runner)\n",
    "    t.start()\n",
    "    t.join()"
   ]
  },
  {
   "cell_type": "markdown",
   "metadata": {},
   "source": [
    "##### 1.2.2.2. Watch the kay but no change"
   ]
  },
  {
   "cell_type": "code",
   "execution_count": null,
   "metadata": {},
   "outputs": [],
   "source": [
    "try:\n",
    "    with rd.pipeline() as pipe:\n",
    "        try:\n",
    "            pipe.watch('a')\n",
    "            pipe.multi()\n",
    "            pipe.set('a', 100)\n",
    "\n",
    "            set_a_in_other_process(name=None, value=None)\n",
    "\n",
    "            r = pipe.execute()\n",
    "            print('* the result of batch command is: {}'.format(r))\n",
    "        except Exception as err:\n",
    "            print('* error caused is: {}'.format(err))\n",
    "\n",
    "    r = rd.get('a')\n",
    "    print('* the result of batch command is: {}'.format(r))\n",
    "finally:\n",
    "    rd.delete('a')"
   ]
  },
  {
   "cell_type": "markdown",
   "metadata": {},
   "source": [
    "##### 1.2.2.3. Watch the kay and key changed in other process"
   ]
  },
  {
   "cell_type": "code",
   "execution_count": null,
   "metadata": {},
   "outputs": [],
   "source": [
    "try:\n",
    "    with rd.pipeline() as pipe:\n",
    "        try:\n",
    "            pipe.watch('a')\n",
    "            pipe.multi()\n",
    "            pipe.set('a', 100)\n",
    "\n",
    "            set_a_in_other_process(name='a', value=100)\n",
    "\n",
    "            r = pipe.execute()\n",
    "            print('* the result of batch command is: {}'.format(r))\n",
    "        except Exception as err:\n",
    "            print('* error caused is: {}'.format(err))\n",
    "\n",
    "    r = rd.get('a')\n",
    "    print('* the result of batch command is: {}'.format(r))\n",
    "finally:\n",
    "    rd.delete('a')"
   ]
  },
  {
   "cell_type": "markdown",
   "metadata": {},
   "source": [
    "##### 1.2.2.4. Watch and unwatch"
   ]
  },
  {
   "cell_type": "code",
   "execution_count": null,
   "metadata": {},
   "outputs": [],
   "source": [
    "try:\n",
    "    with rd.pipeline() as pipe:\n",
    "        try:\n",
    "            pipe.watch('a')\n",
    "            pipe.unwatch()\n",
    "            \n",
    "            pipe.multi()\n",
    "            pipe.set('a', 100)\n",
    "\n",
    "            set_a_in_other_process(name='a', value=200)\n",
    "\n",
    "            r = pipe.execute()\n",
    "            print('* the result of batch command is: {}'.format(r))\n",
    "        except Exception as err:\n",
    "            print('* error caused is: {}'.format(err))\n",
    "\n",
    "    r = rd.get('a')\n",
    "    print('* the result of batch command is: {}'.format(r))\n",
    "finally:\n",
    "    rd.delete('a')"
   ]
  }
 ],
 "metadata": {
  "kernelspec": {
   "display_name": "Python 3",
   "language": "python",
   "name": "python3"
  },
  "language_info": {
   "codemirror_mode": {
    "name": "ipython",
    "version": 3
   },
   "file_extension": ".py",
   "mimetype": "text/x-python",
   "name": "python",
   "nbconvert_exporter": "python",
   "pygments_lexer": "ipython3",
   "version": "3.8.5"
  }
 },
 "nbformat": 4,
 "nbformat_minor": 4
}
