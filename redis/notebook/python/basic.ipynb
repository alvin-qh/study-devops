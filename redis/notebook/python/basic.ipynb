{
 "cells": [
  {
   "cell_type": "markdown",
   "metadata": {},
   "source": [
    "# Redis basic"
   ]
  },
  {
   "cell_type": "code",
   "execution_count": null,
   "metadata": {},
   "outputs": [],
   "source": [
    "import redis\n",
    "from redis.exceptions import ResponseError\n",
    "from time import perf_counter as clock, sleep\n",
    "from threading import Thread"
   ]
  },
  {
   "cell_type": "markdown",
   "metadata": {},
   "source": [
    "## 1. Make connection"
   ]
  },
  {
   "cell_type": "markdown",
   "metadata": {},
   "source": [
    "### 1.1. Connect with default connection pool"
   ]
  },
  {
   "cell_type": "code",
   "execution_count": null,
   "metadata": {},
   "outputs": [],
   "source": [
    "rd = redis.Redis(host='localhost', port=6379, db=0, decode_responses=True)"
   ]
  },
  {
   "cell_type": "markdown",
   "metadata": {},
   "source": [
    "### 1.2. Create connection pool and make connection"
   ]
  },
  {
   "cell_type": "code",
   "execution_count": null,
   "metadata": {},
   "outputs": [],
   "source": [
    "pool = redis.ConnectionPool(host='localhost', port=6379, decode_responses=True)\n",
    "rd = redis.Redis(host='localhost', port=6379, connection_pool=pool, decode_responses=True)"
   ]
  },
  {
   "cell_type": "markdown",
   "metadata": {},
   "source": [
    "## 2. String"
   ]
  },
  {
   "cell_type": "markdown",
   "metadata": {},
   "source": [
    "### 2.1. Set, get and delete key\n",
    "\n",
    "- `SET key value`\n",
    "- `GET key` -> `value`\n",
    "- `DEL key`"
   ]
  },
  {
   "cell_type": "code",
   "execution_count": null,
   "metadata": {},
   "outputs": [],
   "source": [
    "r = rd.set(name='a', value='ok')\n",
    "print('* the result of [set a ok] is: {}'.format(r))\n",
    "\n",
    "r = rd.get(name='a')\n",
    "print('* the value of key \"a\" is: \"{}\"'.format(r))\n",
    "\n",
    "r = rd.delete('a')\n",
    "print('* the result of [delete a] is: {}'.format(r))\n",
    "\n",
    "r = rd.get(name='a')\n",
    "print('* after delete key \"a\", the value of key \"a\" is: {}'.format(r))"
   ]
  },
  {
   "cell_type": "markdown",
   "metadata": {},
   "source": [
    "### 2.2. Set if exist or not exist"
   ]
  },
  {
   "cell_type": "markdown",
   "metadata": {},
   "source": [
    "#### 2.2.1. Set key if exist\n",
    "\n",
    "- `SET key value XX`"
   ]
  },
  {
   "cell_type": "code",
   "execution_count": null,
   "metadata": {},
   "outputs": [],
   "source": [
    "try:\n",
    "    r = rd.set(name='a', value='ok', xx=True)\n",
    "    print('* when key \"a\" not exist, the result of [set a ok xx] is: {}'.format(r))\n",
    "\n",
    "    r = rd.set(name='a', value='yes')\n",
    "    print('* the result of [set a yes] is: {}'.format(r))\n",
    "\n",
    "    r = rd.set(name='a', value='ok', xx=True)\n",
    "    print('* when key \"a\" exist, the result of [set a ok xx] is: {}'.format(r))\n",
    "\n",
    "    r = rd.get(name='a')\n",
    "    print('* the value of key \"a\" is: \"{}\"'.format(r))\n",
    "finally:\n",
    "    rd.delete('a')"
   ]
  },
  {
   "cell_type": "markdown",
   "metadata": {},
   "source": [
    "#### 2.2.1. Set key if not exist\n",
    "\n",
    "- `SET key value NX`"
   ]
  },
  {
   "cell_type": "code",
   "execution_count": null,
   "metadata": {},
   "outputs": [],
   "source": [
    "try:\n",
    "    r = rd.set(name='a', value='ok', nx=True)\n",
    "    print('* when key \"a\" not exist, the result of [set a ok nx] is: {}'.format(r))\n",
    "\n",
    "    r = rd.get(name='a')\n",
    "    print('* the value of key \"a\" is: \"{}\"'.format(r))\n",
    "\n",
    "    r = rd.set(name='a', value='yes', nx=True)\n",
    "    print('* when key \"a\" exist, the result of [set a yes nx] is: {}'.format(r))\n",
    "\n",
    "    r = rd.get(name='a')\n",
    "    print('* the value of key \"a\" is: \"{}\"'.format(r))\n",
    "finally:\n",
    "    rd.delete('a')"
   ]
  },
  {
   "cell_type": "markdown",
   "metadata": {},
   "source": [
    "### 2.3. Key expire"
   ]
  },
  {
   "cell_type": "markdown",
   "metadata": {},
   "source": [
    "#### 2.3.1. Expire by seconds\n",
    "\n",
    "- `SET key value EX seconds`"
   ]
  },
  {
   "cell_type": "code",
   "execution_count": null,
   "metadata": {},
   "outputs": [],
   "source": [
    "import time\n",
    "\n",
    "try:\n",
    "    r = rd.set(name='a', value='ok', ex=2)\n",
    "    print('* the result of [set a ok ex 2] is {}'.format(r))\n",
    "\n",
    "    r = rd.get(name='a')\n",
    "    print('\\n* before key \"a\" is expired, the value of key \"a\" is: {}'.format(r))\n",
    "\n",
    "    r = rd.pttl(name='a')\n",
    "    print('* the PTTL of key \"a\" is: {}'.format(r))\n",
    "\n",
    "    time.sleep(2)\n",
    "\n",
    "    r = rd.get(name='a')\n",
    "    print('\\n* after key \"a\" is expired, the value of key \"a\" is: {}'.format(r))\n",
    "\n",
    "    r = rd.pttl(name='a')\n",
    "    print('* the PTTL of key \"a\" is: {}'.format(r))\n",
    "finally:\n",
    "    rd.delete('a')"
   ]
  },
  {
   "cell_type": "markdown",
   "metadata": {},
   "source": [
    "#### 2.3.1. Expire by milliseconds\n",
    "\n",
    "- `SET key value PX milliseconds`"
   ]
  },
  {
   "cell_type": "code",
   "execution_count": null,
   "metadata": {},
   "outputs": [],
   "source": [
    "import time\n",
    "\n",
    "try:\n",
    "    r = rd.set(name='a', value='ok', px=2000)\n",
    "    print('* the result of [set a ok px 2000] is {}'.format(r))\n",
    "\n",
    "    r = rd.get(name='a')\n",
    "    print('\\n* before key \"a\" is expired, the value of key \"a\" is: {}'.format(r))\n",
    "\n",
    "    r = rd.pttl(name='a')\n",
    "    print('* the PTTL of key \"a\" is: {}'.format(r))\n",
    "\n",
    "    time.sleep(2)\n",
    "\n",
    "    r = rd.get(name='a')\n",
    "    print('\\n* after key \"a\" is expired, the value of key \"a\" is: {}'.format(r))\n",
    "\n",
    "    r = rd.pttl(name='a')\n",
    "    print('* the PTTL of key \"a\" is: {}'.format(r))\n",
    "finally:\n",
    "    rd.delete('a')"
   ]
  },
  {
   "cell_type": "markdown",
   "metadata": {},
   "source": [
    "### 2.4. Get and set value at sametime\n",
    "\n",
    "- `GETSET key newvalue` -> `oldvalue`"
   ]
  },
  {
   "cell_type": "code",
   "execution_count": null,
   "metadata": {},
   "outputs": [],
   "source": [
    "try:\n",
    "    rd.set(name='a', value='ok')\n",
    "    \n",
    "    r = rd.get(name='a')\n",
    "    print('* the value of key \"a\" is: {}'.format(r))\n",
    "\n",
    "    r = rd.getset(name='a', value='yes')\n",
    "    print('* the result of [getset a yes] is: {}'.format(r))\n",
    "\n",
    "    r = rd.get(name='a')\n",
    "    print('* the value of key \"a\" is: \"{}\"'.format(r))\n",
    "finally:\n",
    "    rd.delete('a')"
   ]
  },
  {
   "cell_type": "markdown",
   "metadata": {},
   "source": [
    "### 2.5. Range operator"
   ]
  },
  {
   "cell_type": "markdown",
   "metadata": {},
   "source": [
    "#### 2.5.1. Set value by range\n",
    "\n",
    "- `SETRANGE key offset value` -> `length`"
   ]
  },
  {
   "cell_type": "code",
   "execution_count": null,
   "metadata": {},
   "outputs": [],
   "source": [
    "try:\n",
    "    rd.set(name='a', value='abcdefgh')\n",
    "    \n",
    "    r = rd.get(name='a')\n",
    "    print('* set key \"a\", result is: \"{}\"'.format(r))\n",
    "\n",
    "    r = rd.setrange(name='a', offset=3, value='DEF')\n",
    "    print('* the result of [setrange a 3 DEF] is: {}'.format(r))\n",
    "\n",
    "    r = rd.get(name='a')\n",
    "    print('* the value of key \"a\" is: \"{}\"'.format(r))\n",
    "finally:\n",
    "    rd.delete('a')"
   ]
  },
  {
   "cell_type": "markdown",
   "metadata": {},
   "source": [
    "#### 2.5.2. Get value by range\n",
    "\n",
    "- `GETRANGE key start end` -> `substring`"
   ]
  },
  {
   "cell_type": "code",
   "execution_count": null,
   "metadata": {},
   "outputs": [],
   "source": [
    "try:\n",
    "    rd.set(name='a', value='123456789')\n",
    "    \n",
    "    r = rd.get(name='a')\n",
    "    print('* the value of key \"a\" is: {}'.format(r))\n",
    "\n",
    "    r = rd.getrange(key='a', start=2, end=5)\n",
    "    print('* the result of [getrange a 2 5] is: {}'.format(r))\n",
    "finally:\n",
    "    rd.delete('a')"
   ]
  },
  {
   "cell_type": "markdown",
   "metadata": {},
   "source": [
    "### 2.6. Get length of value\n",
    "\n",
    "- `STRLEN key` -> `length`"
   ]
  },
  {
   "cell_type": "code",
   "execution_count": null,
   "metadata": {},
   "outputs": [],
   "source": [
    "try:\n",
    "    rd.set(name='a', value='123456789')\n",
    "    \n",
    "    r = rd.get(name='a')\n",
    "    print('* the value of key \"a\" is: {}'.format(r))\n",
    "\n",
    "    r = rd.strlen(name='a')\n",
    "    print('* the result of [strlen a] is: {}'.format(r))\n",
    "finally:\n",
    "    rd.delete('a')"
   ]
  },
  {
   "cell_type": "markdown",
   "metadata": {},
   "source": [
    "### 2.7. Append to value\n",
    "\n",
    "- `APPEND key value` -> `length`"
   ]
  },
  {
   "cell_type": "code",
   "execution_count": null,
   "metadata": {},
   "outputs": [],
   "source": [
    "try:\n",
    "    r = rd.append(key='a', value='10')\n",
    "    print('* when key \"a\" not exist, result of [append a 1] is: {}'.format(r))\n",
    "\n",
    "    r = rd.append(key='a', value='20')\n",
    "    print('* when key \"a\" exist, result of [append a 2] is: {}'.format(r))\n",
    "\n",
    "    r = rd.append(key='a', value='30')\n",
    "    print('* when key \"a\" exist, result of [append a 3] is: {}'.format(r))\n",
    "\n",
    "    r = rd.get(name='a')\n",
    "    print('* the value of key \"a\" is: \"{}\"'.format(r))\n",
    "finally:\n",
    "    rd.delete('a')"
   ]
  },
  {
   "cell_type": "markdown",
   "metadata": {},
   "source": [
    "### 2.8. Increase and decrease number value"
   ]
  },
  {
   "cell_type": "markdown",
   "metadata": {},
   "source": [
    "#### 2.8.1. Plus integer value\n",
    "\n",
    "- `INCR key` -> `result`\n",
    "- `INCRBY key value` -> `result`"
   ]
  },
  {
   "cell_type": "code",
   "execution_count": null,
   "metadata": {},
   "outputs": [],
   "source": [
    "try:\n",
    "    rd.set(name='a', value=1)\n",
    "    \n",
    "    r = rd.get(name='a')\n",
    "    print('* the value of key \"a\" is: {}'.format(r))\n",
    "\n",
    "    r = rd.incr(name='a')\n",
    "    print('\\n* the result of [incr a] is: {}'.format(r))\n",
    "\n",
    "    r = rd.get(name='a')\n",
    "    print('  the value of key \"a\" is: {}'.format(r))\n",
    "    \n",
    "    r = rd.incr(name='a', amount=2)\n",
    "    print('\\n* the result of [incr a 2] is: {}'.format(r))\n",
    "    \n",
    "    r = rd.get(name='a')\n",
    "    print('  the value of key \"a\" is: {}'.format(r))\n",
    "    \n",
    "    r = rd.incr(name='a', amount=4)\n",
    "    print('\\n* the result of [incrby a 4] is: {}'.format(r))\n",
    "    \n",
    "    r = rd.get(name='a')\n",
    "    print('  the value of key \"a\" is: {}'.format(r))\n",
    "finally:\n",
    "    rd.delete('a')"
   ]
  },
  {
   "cell_type": "markdown",
   "metadata": {},
   "source": [
    "#### 2.8.2. Plus float value\n",
    "\n",
    "- `INCRBYFLOAT key value` -> `result`"
   ]
  },
  {
   "cell_type": "code",
   "execution_count": null,
   "metadata": {},
   "outputs": [],
   "source": [
    "try:\n",
    "    rd.set(name='a', value=1)\n",
    "    \n",
    "    r = rd.get(name='a')\n",
    "    print('* the value of key \"a\" is: {}'.format(r))\n",
    "\n",
    "    r = rd.incrbyfloat(name='a', amount=0.1)\n",
    "    print('\\n* the result of [incrbyfloat a 0.1] is: {}'.format(r))\n",
    "\n",
    "    r = rd.get(name='a')\n",
    "    print('  the value of key \"a\" is: {}'.format(r))\n",
    "finally:\n",
    "    rd.delete('a')"
   ]
  },
  {
   "cell_type": "markdown",
   "metadata": {},
   "source": [
    "#### 2.8.3. Minus integer value\n",
    "\n",
    "- `DECR key` -> `result`\n",
    "- `DECRBY key value` => `result`"
   ]
  },
  {
   "cell_type": "code",
   "execution_count": null,
   "metadata": {},
   "outputs": [],
   "source": [
    "try:\n",
    "    rd.set(name='a', value=2)\n",
    "\n",
    "    r = rd.get('a')\n",
    "    print('* the value of key \"a\" is: {}'.format(r))\n",
    "\n",
    "    r = rd.decr(name='a')\n",
    "    print('\\n* the result of [decr a] is: {}'.format(r))\n",
    "\n",
    "    r = rd.get(name='a')\n",
    "    print('  the result of key \"a\" is: {}'.format(r))\n",
    "\n",
    "    r = rd.decr(name='a', amount=1)\n",
    "    print('\\n* the result of [decr a 1] is: {}'.format(r))\n",
    "\n",
    "    r = rd.get(name='a')\n",
    "    print('  the result of key \"a\" is: {}'.format(r))\n",
    "\n",
    "    r = rd.decrby(name='a', amount=1)\n",
    "    print('\\n* the result of [decrby a 1] is: {}'.format(r))\n",
    "\n",
    "    r = rd.get(name='a')\n",
    "    print('  the result of key \"a\" is: {}'.format(r))\n",
    "finally:\n",
    "    rd.delete('a')"
   ]
  },
  {
   "cell_type": "markdown",
   "metadata": {},
   "source": [
    "### 2.9. Get and set multi-items\n",
    "\n",
    "- `MSET key1 value1 key2 value2 ...`\n",
    "- `MGET key1 key2 ...` -> `[value1, value2, ...]`"
   ]
  },
  {
   "cell_type": "code",
   "execution_count": null,
   "metadata": {},
   "outputs": [],
   "source": [
    "try:\n",
    "    r = rd.mset(mapping={\n",
    "        'a': 1,\n",
    "        'b': 2,\n",
    "        'c': 3\n",
    "    })\n",
    "    print('* the result of [set a 1 b 2 c 3] is: {}'.format(r))\n",
    "\n",
    "    r = rd.mget('a', 'b', 'c')\n",
    "    print('* the values [mget a b c] are: {}'.format(r))\n",
    "finally:\n",
    "    rd.delete('a')"
   ]
  },
  {
   "cell_type": "markdown",
   "metadata": {},
   "source": [
    "### 2.10. Iterator"
   ]
  },
  {
   "cell_type": "code",
   "execution_count": null,
   "metadata": {},
   "outputs": [],
   "source": [
    "for n in range(1, 1000):\n",
    "    rd.set('k_{}'.format(n), n)"
   ]
  },
  {
   "cell_type": "markdown",
   "metadata": {},
   "source": [
    "#### 2.10.1. Find all keys\n",
    "\n",
    "- `KEYS` -> `[keys ...]`"
   ]
  },
  {
   "cell_type": "code",
   "execution_count": null,
   "metadata": {},
   "outputs": [],
   "source": [
    "r = rd.keys()\n",
    "print('* there are {} keys in db'.format(len(r)))"
   ]
  },
  {
   "cell_type": "markdown",
   "metadata": {},
   "source": [
    "#### 2.10.2. Find all keys by pattern\n",
    "\n",
    "- `KEYS pattern` -> `[keys ...]`"
   ]
  },
  {
   "cell_type": "code",
   "execution_count": null,
   "metadata": {},
   "outputs": [],
   "source": [
    "r = rd.keys(pattern='k_12*')\n",
    "print('* there are {} keys in db by pattern \"k_12*\"'.format(len(r)))\n",
    "\n",
    "print('* keys are: {}'.format(r))"
   ]
  },
  {
   "cell_type": "markdown",
   "metadata": {},
   "source": [
    "#### 2.10.3. Scan keys\n",
    "\n",
    "- `SCAN cursor [COUNT count]` -> `[items ...]`"
   ]
  },
  {
   "cell_type": "code",
   "execution_count": null,
   "metadata": {},
   "outputs": [],
   "source": [
    "cursor = 0\n",
    "\n",
    "result_set = set()\n",
    "\n",
    "print('* iterator of all keys:')\n",
    "\n",
    "while True:\n",
    "    r = rd.scan(cursor=cursor, count=100)\n",
    "    result_set.update(r[1])\n",
    "\n",
    "    print('\\tcursor {} to {}, content is: {}, total is: {}'.format(cursor, r[0], len(r[1]), len(result_set)))\n",
    "\n",
    "    cursor = r[0]\n",
    "    if cursor == 0:\n",
    "        break"
   ]
  },
  {
   "cell_type": "markdown",
   "metadata": {},
   "source": [
    "#### 2.10.4. Scan keys by pattern\n",
    "\n",
    "- `SCAN cursor [MATCH pattern] [COUNT count]` -> `[items ...]`"
   ]
  },
  {
   "cell_type": "code",
   "execution_count": null,
   "metadata": {},
   "outputs": [],
   "source": [
    "cursor = 0\n",
    "\n",
    "result_set = set()\n",
    "\n",
    "print('* iterator of all keys:')\n",
    "\n",
    "while True:\n",
    "    r = rd.scan(cursor=cursor, count=100, match='k_12*')\n",
    "    result_set.update(r[1])\n",
    "\n",
    "    print('\\tcursor {} to {}, content is: {}, total is: {}'.format(cursor, r[0], len(r[1]), len(result_set)))\n",
    "\n",
    "    cursor = r[0]\n",
    "    if cursor == 0:\n",
    "        break\n",
    "        \n",
    "print('* scan result is: {}'.format(result_set))"
   ]
  },
  {
   "cell_type": "markdown",
   "metadata": {},
   "source": [
    "#### 2.10.5. Clear all key"
   ]
  },
  {
   "cell_type": "code",
   "execution_count": null,
   "metadata": {},
   "outputs": [],
   "source": [
    "rd.flushall()"
   ]
  },
  {
   "cell_type": "markdown",
   "metadata": {},
   "source": [
    "## 3. Hash"
   ]
  },
  {
   "cell_type": "markdown",
   "metadata": {},
   "source": [
    "### 3.1. Set and get in hash"
   ]
  },
  {
   "cell_type": "markdown",
   "metadata": {},
   "source": [
    "#### 3.1.1. Set and get hash value with field\n",
    "\n",
    "- `HSET hash field value`\n",
    "- `HGET hash field` -> `value`"
   ]
  },
  {
   "cell_type": "code",
   "execution_count": null,
   "metadata": {},
   "outputs": [],
   "source": [
    "try:\n",
    "    r = rd.hset(name='a', key='k1', value='v1')\n",
    "    print('* the result of [hset a k1 v1] is: {}'.format(r))\n",
    "\n",
    "    r = rd.hget(name='a', key='k1')\n",
    "    print('  the value of [hget a k1] is: {}'.format(r))\n",
    "\n",
    "    rd.delete('a')\n",
    "\n",
    "    r = rd.hset(name='a', mapping={'k1': 'v1', 'k2': 'v2'})\n",
    "    print('\\n* the result of [hset a k1 v1 k2 v2] is: {}'.format(r))\n",
    "\n",
    "    r = rd.hget(name='a', key='k1')\n",
    "    print('  the value of [hget a k1] is: {}'.format(r))\n",
    "\n",
    "    r = rd.hget(name='a', key='k2')\n",
    "    print('  the value of [hget a k2] is: {}'.format(r))\n",
    "finally:\n",
    "    rd.delete('a')"
   ]
  },
  {
   "cell_type": "markdown",
   "metadata": {},
   "source": [
    "#### 3.1.2. Set hash field if it not exist\n",
    "\n",
    "- `HSETNX key field value`\n",
    "- `HDEL key field`"
   ]
  },
  {
   "cell_type": "code",
   "execution_count": null,
   "metadata": {},
   "outputs": [],
   "source": [
    "try:\n",
    "    rd.hset(name='a', key=\"k1\", value='v1')\n",
    "\n",
    "    r = rd.hsetnx(name='a', key='k1', value='v1_1')\n",
    "    print('* when key exist, the result of [setnx a k1 v1] is: {}'.format(r))\n",
    "\n",
    "    r = rd.hget(name='a', key='k1')\n",
    "    print('  the value of [hget a k1] is: {}'.format(r))\n",
    "\n",
    "    r = rd.hdel('a', 'k1')\n",
    "    print('\\n* the result of [hdel a k1] is: {}'.format(r))\n",
    "\n",
    "    r = rd.hsetnx(name='a', key='k1', value='v1_1')\n",
    "    print('\\n* when key not exist, the result of [setnx a k1 v1_1] is: {}'.format(r))\n",
    "\n",
    "    r = rd.hget(name='a', key='k1')\n",
    "    print('  the value of [hget a k1] is: {}'.format(r))\n",
    "    \n",
    "finally:\n",
    "    rd.delete('a')"
   ]
  },
  {
   "cell_type": "markdown",
   "metadata": {},
   "source": [
    "## 4. List"
   ]
  },
  {
   "cell_type": "markdown",
   "metadata": {},
   "source": [
    "### 4.1. Push and pop"
   ]
  },
  {
   "cell_type": "markdown",
   "metadata": {},
   "source": [
    "#### 4.1.1. Push into list\n",
    "\n",
    "- `LPUSH key value [value …]` -> `length`\n",
    "- `RPUSH key value [value …]` -> `length`\n",
    "- `LLEN key` -> `length`\n",
    "- `LINDEX key index` -> `value`"
   ]
  },
  {
   "cell_type": "code",
   "execution_count": null,
   "metadata": {},
   "outputs": [],
   "source": [
    "try:\n",
    "    r = rd.lpush('a', *[(n + 1) * 10 for n in range(0, 10)])\n",
    "        \n",
    "    print('* length of list is: {}'.format(r))\n",
    "    \n",
    "    print('* content of list are: '.format(r))\n",
    "    for i in range(0, rd.llen('a')):\n",
    "        r = rd.lindex(name='a', index=i)\n",
    "        print('\\t({}, {})'.format(i, r))\n",
    "        \n",
    "    rd.delete('a')\n",
    "    \n",
    "    rd.rpush('a', *[(n + 1) * 10 for n in range(0, 10)])\n",
    "\n",
    "    r = rd.llen(name='a')\n",
    "    print('\\n* length of list is: {}'.format(r))\n",
    "    \n",
    "    print('* content of list are: '.format(r))\n",
    "    for i in range(0, rd.llen('a')):\n",
    "        r = rd.lindex(name='a', index=i)\n",
    "        print('\\t({}, {})'.format(i, r))\n",
    "finally:\n",
    "    rd.delete('a')"
   ]
  },
  {
   "cell_type": "markdown",
   "metadata": {},
   "source": [
    "#### 4.1.2. Pop from list\n",
    "\n",
    "- `LPOP key` -> `value`\n",
    "- `RPOP key` -> `value`"
   ]
  },
  {
   "cell_type": "code",
   "execution_count": null,
   "metadata": {},
   "outputs": [],
   "source": [
    "try:\n",
    "    r = rd.lpush('a', *[(n + 1) * 10 for n in range(0, 10)])\n",
    "    \n",
    "    print('* pop item form list one by one are: ')\n",
    "    while rd.llen(name='a') > 0:\n",
    "        r = rd.lpop(name='a')\n",
    "        print('\\tafter pop {}, and list count is {}'.format(r, rd.llen(name='a')))\n",
    "        \n",
    "    rd.lpush('a', *[(n + 1) * 10 for n in range(0, 10)])\n",
    "    \n",
    "    print('\\n* pop item form list one by one are: ')\n",
    "    while rd.llen(name='a') > 0:\n",
    "        r = rd.rpop(name='a')\n",
    "        print('\\tafter pop {}, and list count is {}'.format(r, rd.llen(name='a')))\n",
    "finally:\n",
    "    rd.delete('a')"
   ]
  },
  {
   "cell_type": "markdown",
   "metadata": {},
   "source": [
    "#### 4.1.3. Push if exist\n",
    "\n",
    "- `LPUSHX key value` -> `length`\n",
    "- `RPUSHX key value` -> `length`"
   ]
  },
  {
   "cell_type": "code",
   "execution_count": null,
   "metadata": {},
   "outputs": [],
   "source": [
    "try:\n",
    "    r = rd.lpushx('a', 100)\n",
    "    print('* when key \"a\" not exist, [lpushx] return {}'.format(r))\n",
    "    \n",
    "    rd.lpush('a', 200)\n",
    "    \n",
    "    r = rd.lpushx('a', 100)\n",
    "    print('* when key \"a\" exist, [lpushx] return {}'.format(r))\n",
    "    \n",
    "    r = rd.rpushx('a', 300)\n",
    "    print('* when key \"a\" exist, [rpushx] return {}'.format(r))\n",
    "finally:\n",
    "    rd.delete('a')"
   ]
  },
  {
   "cell_type": "markdown",
   "metadata": {},
   "source": [
    "#### 4.1.4. Push and push between two lists\n",
    "\n",
    "- `RPOPLPUSH source destination`: Pop item from end of list 1 and push it in head of list 2"
   ]
  },
  {
   "cell_type": "code",
   "execution_count": null,
   "metadata": {},
   "outputs": [],
   "source": [
    "try:\n",
    "    len = rd.rpush('a', 1, 2, 3, 4)\n",
    "    \n",
    "    while rd.llen(name='a') > 0:\n",
    "        rd.rpoplpush(src='a', dst='b')\n",
    "        print('* list \"a\" is: {}, and list \"b\" is: {}'.format(rd.lrange('a', 0, len), rd.lrange('b', 0, len)))\n",
    "finally:\n",
    "    rd.delete('a', 'b')"
   ]
  },
  {
   "cell_type": "markdown",
   "metadata": {},
   "source": [
    "### 4.2. Set, get and delete"
   ]
  },
  {
   "cell_type": "markdown",
   "metadata": {},
   "source": [
    "#### 4.2.1. Get by range\n",
    "\n",
    "- `LRANGE key start stop` -> `[item...]`"
   ]
  },
  {
   "cell_type": "code",
   "execution_count": null,
   "metadata": {},
   "outputs": [],
   "source": [
    "try:\n",
    "    r = rd.lpush('a', *[(n + 1) * 10 for n in range(0, 10)])\n",
    "    \n",
    "    r = rd.lrange(name='a', start=0, end=10)\n",
    "    print('* get range({}, {}) of list: {}'.format(0, 10, r))\n",
    "finally:\n",
    "    rd.delete('a')"
   ]
  },
  {
   "cell_type": "markdown",
   "metadata": {},
   "source": [
    "#### 4.2.2. Set item into list\n",
    "\n",
    "- `LSET key index value`"
   ]
  },
  {
   "cell_type": "code",
   "execution_count": null,
   "metadata": {},
   "outputs": [],
   "source": [
    "try:\n",
    "    try:\n",
    "        rd.lset(name='a', index=0, value='new')\n",
    "    except ResponseError as err:\n",
    "        print('* when list \"a\" empty, [lset] raise error: \"{}\"'.format(err))\n",
    "\n",
    "    rd.lpush('a', 'old')\n",
    "    print('* push into list: {}'.format(rd.lrange(name='a', start=0, end=0)))\n",
    "\n",
    "    rd.lset(name='a', index=0, value='new')\n",
    "    print('* when list \"a\" not empty, result of [lset] is: {}'.format(rd.lrange(name='a', start=0, end=0)))\n",
    "finally:\n",
    "    rd.delete('a')"
   ]
  },
  {
   "cell_type": "markdown",
   "metadata": {},
   "source": [
    "#### 4.2.3. Insert item into list\n",
    "\n",
    "- `LINSERT key BEFORE|AFTER pivot value`"
   ]
  },
  {
   "cell_type": "code",
   "execution_count": null,
   "metadata": {},
   "outputs": [],
   "source": [
    "try:\n",
    "    r = rd.linsert(name='a', where='BEFORE', refvalue=10, value=100)\n",
    "    print('* before src value not exist, result of [linsert a BEFORE 10 100] is: {}'.format(r))\n",
    "\n",
    "    r = rd.lpush('a', 10)\n",
    "    print('* push into list: {}'.format(rd.lrange(name='a', start=0, end=r)))\n",
    "\n",
    "    r = rd.linsert(name='a', where='BEFORE', refvalue=10, value=100)\n",
    "    print('* after src value exist, result of [linsert a BEFORE 10 100] is: {}'.format(rd.lrange(name='a', start=0, end=r)))\n",
    "    \n",
    "    r = rd.linsert(name='a', where='AFTER', refvalue=10, value=200)\n",
    "    print('* after src value exist, result of [linsert a AFTER 10 200] is: {}'.format(rd.lrange(name='a', start=0, end=r)))\n",
    "finally:\n",
    "    rd.delete('a')"
   ]
  },
  {
   "cell_type": "markdown",
   "metadata": {},
   "source": [
    "#### 4.2.4. Remove item\n",
    "\n",
    "- `LREM key count value`"
   ]
  },
  {
   "cell_type": "code",
   "execution_count": null,
   "metadata": {},
   "outputs": [],
   "source": [
    "try:\n",
    "    r = rd.rpush('a', *[5 - n if 5 - n > 0 else n - 5 for n in range(0, 11)])\n",
    "    print('* list content is: \\t\\t\\t{}'.format(rd.lrange(name='a', start=0, end=r)))\n",
    "\n",
    "    r = rd.lrem(name='a', count=1, value=4)\n",
    "    print('* remove {} items, then list is: \\t{}'.format(r, rd.lrange(name='a', start=0, end=rd.llen('a'))))\n",
    "    \n",
    "    r = rd.rpush('b', *[5 - n if 5 - n > 0 else n - 5 for n in range(0, 11)])\n",
    "    print('\\n* list content is: \\t\\t\\t{}'.format(rd.lrange(name='b', start=0, end=r)))\n",
    "\n",
    "    r = rd.lrem(name='b', count=2, value=4)\n",
    "    print('* remove {} items, then list is: \\t{}'.format(r, rd.lrange(name='b', start=0, end=rd.llen('b'))))\n",
    "finally:\n",
    "    rd.delete('a', 'b')"
   ]
  },
  {
   "cell_type": "markdown",
   "metadata": {},
   "source": [
    "### 4.3. Blocked queue"
   ]
  },
  {
   "cell_type": "markdown",
   "metadata": {},
   "source": [
    "#### 4.3.1. Blocked pop\n",
    "\n",
    "- `BLPOP key [key …] timeout` -> `item`\n",
    "- `BRPOP key [key …] timeout` -> `item`"
   ]
  },
  {
   "cell_type": "code",
   "execution_count": null,
   "metadata": {},
   "outputs": [],
   "source": [
    "try:\n",
    "    start = clock()\n",
    "    r = rd.blpop('a', timeout=2)\n",
    "    print('* when list is not exist, [blpop] spend time {} sec, and result is: {}'.format(round(clock() - start, 2), r))\n",
    "    \n",
    "    rd.lpush(name='a', 100, 200)\n",
    "    \n",
    "    start = clock()\n",
    "    r = rd.blpop('a', timeout=2)\n",
    "    print('* when list is not empty, [blpop] spend time {} sec, and result is: {}'.format(round(clock() - start, 2), r))\n",
    "    \n",
    "    start = clock()\n",
    "    r = rd.blpop('a', timeout=2)\n",
    "    print('* when list is not empty, [blpop] spend time {} sec, and result is: {}'.format(round(clock() - start, 2), r))\n",
    "    \n",
    "    ####\n",
    "    \n",
    "    start = clock()\n",
    "    r = rd.brpop('a', timeout=2)\n",
    "    print('\\n* when list is empty, [blpop] spend time {} sec, and result is: {}'.format(round(clock() - start, 2), r))\n",
    "    \n",
    "    rd.lpush('a', 100, 200)\n",
    "    \n",
    "    start = clock()\n",
    "    r = rd.brpop('a', timeout=2)\n",
    "    print('* when list is not empty, [blpop] spend time {} sec, and result is: {}'.format(round(clock() - start, 2), r))\n",
    "    \n",
    "    start = clock()\n",
    "    r = rd.brpop('a', timeout=2)\n",
    "    print('* when list is not empty, [blpop] spend time {} sec, and result is: {}'.format(round(clock() - start, 2), r))\n",
    "finally:\n",
    "    rd.delete('a')"
   ]
  },
  {
   "cell_type": "markdown",
   "metadata": {},
   "source": [
    "#### 4.3.2. Blocked pop and push between two lists\n",
    "\n",
    "- `BRPOPLPUSH source destination timeout`"
   ]
  },
  {
   "cell_type": "code",
   "execution_count": null,
   "metadata": {},
   "outputs": [],
   "source": [
    "try:\n",
    "    def append_list(seconds, items):\n",
    "        print('* list appending thread started')\n",
    "        sleep(seconds)\n",
    "        rd.lpush('a', *items)\n",
    "\n",
    "    t = Thread(target=append_list, args=(2, [1, 2, 3, 4]))\n",
    "    t.start()\n",
    "\n",
    "    start = clock()\n",
    "    rd.brpoplpush(src='a', dst='b')\n",
    "    print('* time spend {}, list \"a\" is: {}, and list \"b\" is: {}'.format(\n",
    "        round(clock() - start, 2),\n",
    "        rd.lrange(name='a', start=0, end=4),\n",
    "        rd.lrange(name='b', start=0, end=4)))\n",
    "\n",
    "    start = clock()\n",
    "    rd.brpoplpush(src='a', dst='b')\n",
    "    print('* time spend {}, list \"a\" is: {}, and list \"b\" is: {}'.format(\n",
    "        round(clock() - start, 2),\n",
    "        rd.lrange(name='a', start=0, end=4),\n",
    "        rd.lrange(name='b', start=0, end=4)))\n",
    "\n",
    "    t.join()\n",
    "finally:\n",
    "    rd.delete('a', 'b')"
   ]
  },
  {
   "cell_type": "markdown",
   "metadata": {},
   "source": [
    "## 5. Set"
   ]
  },
  {
   "cell_type": "markdown",
   "metadata": {},
   "source": [
    "### 5.1. Set and get"
   ]
  },
  {
   "cell_type": "markdown",
   "metadata": {},
   "source": [
    "#### 5.1.1. Append and list item\n",
    "\n",
    "- `SADD key member [member ...]` -> `length`\n",
    "- `SMEMBERS key` -> `[member ...]`"
   ]
  },
  {
   "cell_type": "code",
   "execution_count": null,
   "metadata": {},
   "outputs": [],
   "source": [
    "try:\n",
    "    r = rd.sadd('a', 1, 2, 3, 4, 5)\n",
    "    print('* there are {} items append into set \"a\"'.format(r))\n",
    "    \n",
    "    r = rd.sadd('a', *[n for n in range(10, 20)])\n",
    "    print('* there are {} items append into set \"a\"'.format(r))\n",
    "    \n",
    "    r = rd.smembers(name='a')\n",
    "    print('* the items in set \"a\" is: {}'.format(r))\n",
    "finally:\n",
    "    rd.delete('a')"
   ]
  },
  {
   "cell_type": "markdown",
   "metadata": {},
   "source": [
    "#### 5.1.2. Test if containt\n",
    "\n",
    "- `SISMEMBER key member` -> `bool`"
   ]
  },
  {
   "cell_type": "code",
   "execution_count": null,
   "metadata": {},
   "outputs": [],
   "source": [
    "try:\n",
    "    r = rd.sadd('a', *[n for n in range(10, 20)])\n",
    "    print('* there are {} items append into set \"a\"'.format(r))\n",
    "    \n",
    "    r = rd.sismember(name='a', value=12)\n",
    "    print('* the items \"{}\" in set \"a\" is: {}'.format(12, r))\n",
    "    \n",
    "    r = rd.sismember(name='a', value=22)\n",
    "    print('* the items \"{}\" in set \"a\" is: {}'.format(22, r))\n",
    "finally:\n",
    "    rd.delete('a')"
   ]
  },
  {
   "cell_type": "markdown",
   "metadata": {},
   "source": [
    "#### 5.1.3. Get item by random\n",
    "\n",
    "- `SRANDMEMBER key [count]` -> `[items ...]`"
   ]
  },
  {
   "cell_type": "code",
   "execution_count": null,
   "metadata": {},
   "outputs": [],
   "source": [
    "try:\n",
    "    r = rd.sadd('a', *[n for n in range(10, 20)])\n",
    "    print('* there are {} items append into set \"a\"'.format(r))\n",
    "    \n",
    "    r = rd.srandmember(name='a', number=5)\n",
    "    print('* get 5 items by random are: \"{}\"'.format(r))\n",
    "    \n",
    "    r = rd.srandmember(name='a', number=5)\n",
    "    print('* get 5 items by random are: \"{}\"'.format(r))\n",
    "finally:\n",
    "    rd.delete('a')"
   ]
  },
  {
   "cell_type": "markdown",
   "metadata": {},
   "source": [
    "##### 5.1.4. Get count of items\n",
    "\n",
    "- `SCARD key` -> `length`"
   ]
  },
  {
   "cell_type": "code",
   "execution_count": null,
   "metadata": {},
   "outputs": [],
   "source": [
    "try:\n",
    "    r = rd.scard(name='a')\n",
    "    print('* when set \"a\" is empty, count of items is: {}'.format(r))\n",
    "    \n",
    "    r = rd.sadd('a', *[n for n in range(10, 20)])\n",
    "    r = rd.scard(name='a')\n",
    "    print('* after set \"a\" was filled, count of items is: {}'.format(r))\n",
    "finally:\n",
    "    rd.delete('a')"
   ]
  },
  {
   "cell_type": "markdown",
   "metadata": {},
   "source": [
    "### 5.2. Pop, move and delete"
   ]
  },
  {
   "cell_type": "markdown",
   "metadata": {},
   "source": [
    "#### 5.2.1. Pop item by random\n",
    "\n",
    "- `SPOP key` -> `value`"
   ]
  },
  {
   "cell_type": "code",
   "execution_count": null,
   "metadata": {},
   "outputs": [],
   "source": [
    "try:\n",
    "    count = rd.sadd('a', *[n for n in range(10, 20)])\n",
    "\n",
    "    while count > 0:\n",
    "        r = rd.spop(name='a')\n",
    "        count -= 1\n",
    "        \n",
    "        print('* item \"{}\" was poped, and left {} items'.format(r, count))\n",
    "finally:\n",
    "    rd.delete('a')"
   ]
  },
  {
   "cell_type": "markdown",
   "metadata": {},
   "source": [
    "#### 5.2.2. Delete items\n",
    "\n",
    "- `SREM key member [member …]`"
   ]
  },
  {
   "cell_type": "code",
   "execution_count": null,
   "metadata": {},
   "outputs": [],
   "source": [
    "try:\n",
    "    rd.sadd('a', *[n for n in range(10, 20)])\n",
    "\n",
    "    r = rd.srem('a', 1)\n",
    "    print('* remove not exist item, result is: {}, left items are: {}'.format(r, rd.smembers(name='a')))\n",
    "\n",
    "    r = rd.srem('a', 10)\n",
    "    print('* remove not exist item, result is: {}, left items are: {}'.format(r, rd.smembers(name='a')))\n",
    "\n",
    "    r = rd.srem('a', 11, 12, 13, 14)\n",
    "    print('* remove not exist item, result is: {}, left items are: {}'.format(r, rd.smembers(name='a')))\n",
    "finally:\n",
    "    rd.delete('a')"
   ]
  },
  {
   "cell_type": "markdown",
   "metadata": {},
   "source": [
    "#### 5.2.3. Move item between to sets\n",
    "\n",
    "- `SMOVE source destination member`"
   ]
  },
  {
   "cell_type": "code",
   "execution_count": null,
   "metadata": {},
   "outputs": [],
   "source": [
    "try:\n",
    "    rd.sadd('a', *[n for n in range(10, 20)])\n",
    "\n",
    "    r = rd.smove(src='a', dst='b', value=1)\n",
    "    print('* result of move result is: {}, '\n",
    "          'set \"a\" is: {} and set \"b\" is: {}'.format(r, rd.smembers(name='a'), rd.smembers(name='b')))\n",
    "\n",
    "    r = rd.smove(src='a', dst='b', value=10)\n",
    "    print('* result of move result is: {}, '\n",
    "          'set \"a\" is: {} and set \"b\" is: {}'.format(r, rd.smembers(name='a'), rd.smembers(name='b')))\n",
    "\n",
    "    r = rd.smove(src='a', dst='b', value=15)\n",
    "    print('* result of move result is: {}, '\n",
    "          'set \"a\" is: {} and set \"b\" is: {}'.format(r, rd.smembers(name='a'), rd.smembers(name='b')))\n",
    "finally:\n",
    "    rd.delete('a')"
   ]
  },
  {
   "cell_type": "markdown",
   "metadata": {},
   "source": [
    "### 5.3. Iterator\n",
    "\n",
    "- `SSCAN key cursor [MATCH pattern] [COUNT count]` -> `[items ...]`"
   ]
  },
  {
   "cell_type": "markdown",
   "metadata": {},
   "source": [
    "#### 5.3.1. Scan by key"
   ]
  },
  {
   "cell_type": "code",
   "execution_count": null,
   "metadata": {},
   "outputs": [],
   "source": [
    "try:\n",
    "    rd.sadd('a', *[n for n in range(1, 1000)])\n",
    "    \n",
    "    cursor = 0\n",
    "    result_set = set()\n",
    "    \n",
    "    print('* iterator of key \"a\":')\n",
    "    \n",
    "    while True:\n",
    "        r = rd.sscan(name='a', cursor=cursor, count=100)\n",
    "        result_set.update(r[1])\n",
    "        \n",
    "        print('\\tcursor from {} to {}, got {} items, total {}'.format(cursor, r[0], len(r[1]), len(result_set)))\n",
    "        \n",
    "        cursor = r[0]\n",
    "        if cursor == 0:\n",
    "            break\n",
    "finally:\n",
    "    rd.delete('a')"
   ]
  },
  {
   "cell_type": "markdown",
   "metadata": {},
   "source": [
    "#### 5.3.2. Scan by pattern"
   ]
  },
  {
   "cell_type": "code",
   "execution_count": null,
   "metadata": {},
   "outputs": [],
   "source": [
    "try:\n",
    "    rd.sadd('a', *[n for n in range(1, 1000)])\n",
    "    \n",
    "    cursor = 0\n",
    "    result_set = set()\n",
    "    \n",
    "    print('* iterator of key \"a\":')\n",
    "    \n",
    "    while True:\n",
    "        r = rd.sscan(name='a', cursor=cursor, count=100, match='12*')\n",
    "        result_set.update(r[1])\n",
    "        \n",
    "        print('\\tcursor from {} to {}, got {} items, total {}'.format(cursor, r[0], len(r[1]), len(result_set)))\n",
    "        \n",
    "        cursor = r[0]\n",
    "        if cursor == 0:\n",
    "            break\n",
    "            \n",
    "    print('* the result of scan is: {}'.format(result_set))\n",
    "finally:\n",
    "    rd.delete('a')"
   ]
  },
  {
   "cell_type": "code",
   "execution_count": null,
   "metadata": {},
   "outputs": [],
   "source": [
    "rd.connection_pool.disconnect()"
   ]
  }
 ],
 "metadata": {
  "kernelspec": {
   "display_name": "Python 3",
   "language": "python",
   "name": "python3"
  },
  "language_info": {
   "codemirror_mode": {
    "name": "ipython",
    "version": 3
   },
   "file_extension": ".py",
   "mimetype": "text/x-python",
   "name": "python",
   "nbconvert_exporter": "python",
   "pygments_lexer": "ipython3",
   "version": "3.8.2"
  }
 },
 "nbformat": 4,
 "nbformat_minor": 4
}
