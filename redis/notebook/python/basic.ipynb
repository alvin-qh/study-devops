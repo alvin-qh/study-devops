{
 "cells": [
  {
   "cell_type": "markdown",
   "metadata": {},
   "source": [
    "# Redis basic"
   ]
  },
  {
   "cell_type": "code",
   "execution_count": null,
   "metadata": {},
   "outputs": [],
   "source": [
    "import redis"
   ]
  },
  {
   "cell_type": "markdown",
   "metadata": {},
   "source": [
    "## 1. Make connection"
   ]
  },
  {
   "cell_type": "markdown",
   "metadata": {},
   "source": [
    "### 1.1. Connect with default connection pool"
   ]
  },
  {
   "cell_type": "code",
   "execution_count": null,
   "metadata": {},
   "outputs": [],
   "source": [
    "rd = redis.Redis(host='localhost', port=6379, db=0, decode_responses=True)"
   ]
  },
  {
   "cell_type": "markdown",
   "metadata": {},
   "source": [
    "### 1.2. Create connection pool and make connection"
   ]
  },
  {
   "cell_type": "code",
   "execution_count": null,
   "metadata": {},
   "outputs": [],
   "source": [
    "pool = redis.ConnectionPool(host='localhost', port=6379, decode_responses=True)\n",
    "rd = redis.Redis(host='localhost', port=6379, connection_pool=pool, decode_responses=True)  "
   ]
  },
  {
   "cell_type": "markdown",
   "metadata": {},
   "source": [
    "## 2. String key"
   ]
  },
  {
   "cell_type": "markdown",
   "metadata": {},
   "source": [
    "### 2.1. Set, get and delete key\n",
    "\n",
    "- `SET key value`\n",
    "- `GET key` => `value`\n",
    "- `DEL key`"
   ]
  },
  {
   "cell_type": "code",
   "execution_count": null,
   "metadata": {},
   "outputs": [],
   "source": [
    "r = rd.set('a', 'ok')\n",
    "print('* the result of [set key \"a\"] is: {}'.format(r))\n",
    "\n",
    "r = rd.get('a')\n",
    "print('* the value of key \"a\" is: \"{}\"'.format(r))\n",
    "\n",
    "r = rd.delete('a')\n",
    "print('* the result of [delete key \"a\"] is: {}'.format(r))\n",
    "\n",
    "r = rd.get('a')\n",
    "print('* after delete key \"a\", the value of key \"a\" is: {}'.format(r))"
   ]
  },
  {
   "cell_type": "markdown",
   "metadata": {},
   "source": [
    "### 2.2. Set if exist or not exist"
   ]
  },
  {
   "cell_type": "markdown",
   "metadata": {},
   "source": [
    "#### 2.2.1. Set key if exist\n",
    "\n",
    "- `SET key value XX`"
   ]
  },
  {
   "cell_type": "code",
   "execution_count": null,
   "metadata": {},
   "outputs": [],
   "source": [
    "try:\n",
    "    r = rd.set('a', 'ok', xx=True)\n",
    "    print('* when key \"a\" not exist, the result of [set key \"a\" (with xx)] is: {}'.format(r))\n",
    "    \n",
    "    r = rd.set('a', 'yes')\n",
    "    print('* the result of [set key \"a\"] is: {}'.format(r))\n",
    "    \n",
    "    r = rd.set('a', 'ok', xx=True)\n",
    "    print('* when key \"a\" exist, the result of [set key \"a\" (with xx)] is: {}'.format(r))\n",
    "    \n",
    "    r = rd.get('a')\n",
    "    print('* the value of key \"a\" is: \"{}\"'.format(r))\n",
    "finally:\n",
    "    rd.delete('a')"
   ]
  },
  {
   "cell_type": "markdown",
   "metadata": {},
   "source": [
    "#### 2.2.1. Set key if not exist\n",
    "\n",
    "- `SET key value NX`"
   ]
  },
  {
   "cell_type": "code",
   "execution_count": null,
   "metadata": {},
   "outputs": [],
   "source": [
    "try:\n",
    "    r = rd.set('a', 'ok', nx=True)\n",
    "    print('* when key \"a\" not exist, the result of [set key \"a\" (with nx)] is: {}'.format(r))\n",
    "    \n",
    "    r = rd.get('a')\n",
    "    print('* the value of key \"a\" is: \"{}\"'.format(r))\n",
    "    \n",
    "    r = rd.set('a', 'yes', nx=True)\n",
    "    print('* when key \"a\" exist, the result of [set key \"a\" (with nx)] is: {}'.format(r))\n",
    "    \n",
    "    r = rd.get('a')\n",
    "    print('* the value of key \"a\" is: \"{}\"'.format(r))\n",
    "finally:\n",
    "    rd.delete('a')"
   ]
  },
  {
   "cell_type": "markdown",
   "metadata": {},
   "source": [
    "### 2.3. Key expire"
   ]
  },
  {
   "cell_type": "markdown",
   "metadata": {},
   "source": [
    "#### 2.3.1. Expire by seconds\n",
    "\n",
    "- `SET key value EX seconds`"
   ]
  },
  {
   "cell_type": "code",
   "execution_count": null,
   "metadata": {},
   "outputs": [],
   "source": [
    "import time\n",
    "\n",
    "try:\n",
    "    r = rd.set('a', \"ok\", ex=2)\n",
    "    print('* the result of [set key \"a\"(with ex)] is {}'.format(r))\n",
    "\n",
    "    r = rd.get('a')\n",
    "    print('\\n* before key \"a\" is expired, the value of key \"a\" is: {}'.format(r))\n",
    "\n",
    "    r = rd.pttl('a')\n",
    "    print('* the PTTL of key \"a\" is: {}'.format(r))\n",
    "\n",
    "    time.sleep(2)\n",
    "    \n",
    "    r = rd.get('a')\n",
    "    print('\\n* after key \"a\" is expired, the value of key \"a\" is: {}'.format(r))\n",
    "\n",
    "    r = rd.pttl('a')\n",
    "    print('* the PTTL of key \"a\" is: {}'.format(r))\n",
    "finally:\n",
    "    rd.delete('a')"
   ]
  },
  {
   "cell_type": "markdown",
   "metadata": {},
   "source": [
    "#### 2.3.1. Expire by milliseconds\n",
    "\n",
    "- `SET key value PX milliseconds`"
   ]
  },
  {
   "cell_type": "code",
   "execution_count": null,
   "metadata": {},
   "outputs": [],
   "source": [
    "import time\n",
    "\n",
    "try:\n",
    "    r = rd.set('a', \"ok\", px=2000)\n",
    "    print('* the result of [set key \"a\"(with px)] is {}'.format(r))\n",
    "\n",
    "    r = rd.get('a')\n",
    "    print('\\n* before key \"a\" is expired, the value of key \"a\" is: {}'.format(r))\n",
    "\n",
    "    r = rd.pttl('a')\n",
    "    print('* the PTTL of key \"a\" is: {}'.format(r))\n",
    "\n",
    "    time.sleep(2)\n",
    "    \n",
    "    r = rd.get('a')\n",
    "    print('\\n* after key \"a\" is expired, the value of key \"a\" is: {}'.format(r))\n",
    "\n",
    "    r = rd.pttl('a')\n",
    "    print('* the PTTL of key \"a\" is: {}'.format(r))\n",
    "finally:\n",
    "    rd.delete('a')"
   ]
  },
  {
   "cell_type": "markdown",
   "metadata": {},
   "source": [
    "### 2.4. Get and set value at sametime\n",
    "\n",
    "- `GETSET key newvalue` => `oldvalue`"
   ]
  },
  {
   "cell_type": "code",
   "execution_count": null,
   "metadata": {},
   "outputs": [],
   "source": [
    "try:\n",
    "    rd.set('a', 'ok')\n",
    "    r = rd.get('a')\n",
    "    print('* the value of key \"a\" is: {}'.format(r))\n",
    "    \n",
    "    r = rd.getset('a', 'yes')\n",
    "    print('* the result of [getset key \"a\"] is: {}'.format(r))\n",
    "    \n",
    "    r = rd.get('a')\n",
    "    print('* the value of key \"a\" is: \"{}\"'.format(r))\n",
    "finally:\n",
    "    rd.delete('a')"
   ]
  },
  {
   "cell_type": "markdown",
   "metadata": {},
   "source": [
    "### 2.5. Range operator"
   ]
  },
  {
   "cell_type": "markdown",
   "metadata": {},
   "source": [
    "#### 2.5.1. Set range in value\n",
    "\n",
    "- `SETRANGE key offset value` => `length`"
   ]
  },
  {
   "cell_type": "code",
   "execution_count": null,
   "metadata": {},
   "outputs": [],
   "source": [
    "try:\n",
    "    rd.set('a', 'abcdefgh')\n",
    "    r = rd.get('a')\n",
    "    print('* set key \"a\", result is: \"{}\"'.format(r))\n",
    "    \n",
    "    r = rd.setrange('a', 3, 'DEF')\n",
    "    print('* the result of [setrange key \"a\"] is: {}'.format(r))\n",
    "    \n",
    "    r = rd.get('a')\n",
    "    print('* the value of key \"a\" is: \"{}\"'.format(r))\n",
    "finally:\n",
    "    r = rd.delete('a')"
   ]
  },
  {
   "cell_type": "markdown",
   "metadata": {},
   "source": [
    "#### 2.5.2. Get range in value\n",
    "\n",
    "- `GETRANGE key offset value` => `len(value)`"
   ]
  },
  {
   "cell_type": "code",
   "execution_count": null,
   "metadata": {},
   "outputs": [],
   "source": [
    "try:\n",
    "    rd.set('a', '123456789')\n",
    "    r = rd.get('a')\n",
    "    print('* the value of key \"a\" is: {}'.format(r))\n",
    "    \n",
    "    r = rd.getrange('a', start=2, end=5)\n",
    "    print('* the result of [getrange key \"a\"] is: {}'.format(r))\n",
    "finally:\n",
    "    rd.delete('a')"
   ]
  },
  {
   "cell_type": "markdown",
   "metadata": {},
   "source": [
    "### 2.6. Get length of value\n",
    "\n",
    "- `STRLEN key` => `length`"
   ]
  },
  {
   "cell_type": "code",
   "execution_count": null,
   "metadata": {},
   "outputs": [],
   "source": [
    "try:\n",
    "    rd.set('a', '123456789')\n",
    "    r = rd.get('a')\n",
    "    print('* the value of key \"a\" is: {}'.format(r))\n",
    "    \n",
    "    r = rd.strlen('a')\n",
    "    print('* the result of [strlen key \"a\"] is: {}'.format(r))\n",
    "finally:\n",
    "    rd.delete('a')"
   ]
  },
  {
   "cell_type": "markdown",
   "metadata": {},
   "source": [
    "### 2.7. Append content\n",
    "\n",
    "- `APPEND key value` => `len(value)`"
   ]
  },
  {
   "cell_type": "code",
   "execution_count": null,
   "metadata": {},
   "outputs": [],
   "source": [
    "try:\n",
    "    r = rd.append('a', '1')\n",
    "    print('* when key \"a\" not exist, append result is: {}'.format(r))\n",
    "    \n",
    "    r = rd.append('a', '2')\n",
    "    print('* when key \"a\" exist, append result is: {}'.format(r))\n",
    "    \n",
    "    r = rd.append('a', '3')\n",
    "    print('* when key \"a\" exist, append result is: {}'.format(r))\n",
    "    \n",
    "    r = rd.get('a')\n",
    "    print('* the value of key \"a\" is: \"{}\"'.format(r))\n",
    "finally:\n",
    "    r = rd.delete('a')"
   ]
  },
  {
   "cell_type": "markdown",
   "metadata": {},
   "source": [
    "### 2.8. Increase and decrease number value"
   ]
  },
  {
   "cell_type": "markdown",
   "metadata": {},
   "source": [
    "#### 2.8.1. Plus 1\n",
    "\n",
    "- `INCR key` => `increased value`"
   ]
  },
  {
   "cell_type": "code",
   "execution_count": null,
   "metadata": {},
   "outputs": [],
   "source": [
    "try:\n",
    "    rd.set('a', 1)\n",
    "    r = rd.get('a')\n",
    "    print('* the result of key \"a\" is: {}'.format(r))\n",
    "    \n",
    "    r = rd.incr('a')\n",
    "    print('* the result of [incr key \"a\"] is: {}'.format(r))\n",
    "    \n",
    "    r = rd.get('a')\n",
    "    print('* the result of key \"a\" is: {}'.format(r))\n",
    "finally:\n",
    "    r = rd.delete('a')"
   ]
  },
  {
   "cell_type": "markdown",
   "metadata": {},
   "source": [
    "#### 2.8.2. Plus any integer value\n",
    "\n",
    "- `INCRBY key value` => `increased value`"
   ]
  },
  {
   "cell_type": "code",
   "execution_count": null,
   "metadata": {},
   "outputs": [],
   "source": [
    "try:\n",
    "    rd.set('a', 1)\n",
    "    r = rd.get('a')\n",
    "    print('* the result of key \"a\" is: {}'.format(r))\n",
    "    \n",
    "    r = rd.incrby('a', 10)\n",
    "    print('* the result of [incr key \"a\"] is: {}'.format(r))\n",
    "    \n",
    "    r = rd.get('a')\n",
    "    print('* the result of key \"a\" is: {}'.format(r))\n",
    "finally:\n",
    "    r = rd.delete('a')"
   ]
  },
  {
   "cell_type": "markdown",
   "metadata": {},
   "source": [
    "#### 2.8.3. Plus any float value\n",
    "\n",
    "- `INCRBYFLOAT key value` => `increased_value`"
   ]
  },
  {
   "cell_type": "code",
   "execution_count": null,
   "metadata": {},
   "outputs": [],
   "source": [
    "try:\n",
    "    rd.set('a', 1)\n",
    "    r = rd.get('a')\n",
    "    print('* the result of key \"a\" is: {}'.format(r))\n",
    "    \n",
    "    r = rd.incrbyfloat('a', 0.1)\n",
    "    print('* the result of [incr key \"a\"] is: {}'.format(r))\n",
    "    \n",
    "    r = rd.get('a')\n",
    "    print('* the result of key \"a\" is: {}'.format(r))\n",
    "finally:\n",
    "    r = rd.delete('a')"
   ]
  },
  {
   "cell_type": "markdown",
   "metadata": {},
   "source": [
    "#### 2.8.4. Minus 1\n",
    "\n",
    "- `DECR key` => `decreased value`"
   ]
  },
  {
   "cell_type": "code",
   "execution_count": null,
   "metadata": {},
   "outputs": [],
   "source": [
    "try:\n",
    "    rd.set('a', 2)\n",
    "    r = rd.get('a')\n",
    "    print('* the result of key \"a\" is: {}'.format(r))\n",
    "    \n",
    "    r = rd.decr('a')\n",
    "    print('* the result of [incr key \"a\"] is: {}'.format(r))\n",
    "    \n",
    "    r = rd.get('a')\n",
    "    print('* the result of key \"a\" is: {}'.format(r))\n",
    "finally:\n",
    "    r = rd.delete('a')"
   ]
  },
  {
   "cell_type": "markdown",
   "metadata": {},
   "source": [
    "#### 2.8.5. Minus any integer value\n",
    "\n",
    "- `DECRBY key value` => `increased_value`"
   ]
  },
  {
   "cell_type": "code",
   "execution_count": null,
   "metadata": {},
   "outputs": [],
   "source": [
    "try:\n",
    "    rd.set('a', 1)\n",
    "    r = rd.get('a')\n",
    "    print('* the result of key \"a\" is: {}'.format(r))\n",
    "    \n",
    "    r = rd.decrby('a', 2)\n",
    "    print('* the result of [incr key \"a\"] is: {}'.format(r))\n",
    "    \n",
    "    r = rd.get('a')\n",
    "    print('* the result of key \"a\" is: {}'.format(r))\n",
    "finally:\n",
    "    r = rd.delete('a')"
   ]
  },
  {
   "cell_type": "markdown",
   "metadata": {},
   "source": [
    "### 2.9. Get and set multi-items\n",
    "\n",
    "- `MSET key1 value1 key2 value2 ...`\n",
    "- `MGET key1 key2 ...` => `[value1, value2, ...]`"
   ]
  },
  {
   "cell_type": "code",
   "execution_count": null,
   "metadata": {},
   "outputs": [],
   "source": [
    "try:\n",
    "    r = rd.mset({\n",
    "        'a': 1,\n",
    "        'b': 2,\n",
    "        'c': 3\n",
    "    })\n",
    "    print('* the result of [set keys \"a\", \"b\" and \"c\"] is: {}'.format(r))\n",
    "    \n",
    "    r = rd.get('a')\n",
    "    print('* the value of key \"a\" is: {}'.format(r))\n",
    "    \n",
    "    r = rd.get('b')\n",
    "    print('* the value of key \"b\" is: {}'.format(r))\n",
    "    \n",
    "    r = rd.get('c')\n",
    "    print('* the value of key \"c\" is: {}'.format(r))\n",
    "\n",
    "    r = rd.mget('a', 'b', 'c')\n",
    "    print('* the values of keys \"a\", \"b\" and \"c\" are: {}'.format(r))\n",
    "finally:\n",
    "    r = rd.delete('a')"
   ]
  },
  {
   "cell_type": "markdown",
   "metadata": {},
   "source": [
    "## 3. Key with hash value"
   ]
  },
  {
   "cell_type": "markdown",
   "metadata": {},
   "source": [
    "### 3.1. Set and get in hash"
   ]
  },
  {
   "cell_type": "markdown",
   "metadata": {},
   "source": [
    "#### 3.1.1. Set and get hash value with field\n",
    "\n",
    "- `HSET hash field value`\n",
    "- `HGET hash field` => `value`"
   ]
  },
  {
   "cell_type": "code",
   "execution_count": null,
   "metadata": {},
   "outputs": [],
   "source": [
    "try:\n",
    "    r = rd.hset('a', key='k1', value='v1')\n",
    "    print('* the result of [hset \"a/k1\"] is: {}'.format(r))\n",
    "    \n",
    "    r = rd.hget('a', key='k1')\n",
    "    print('* the value of key \"a/k1\" is: {}'.format(r))\n",
    "\n",
    "    r = rd.delete('a')    \n",
    "    \n",
    "    r = rd.hset('a', mapping={'k1': 'v1', 'k2': 'v2'})\n",
    "    print('\\n* the result of [hset] is: {}'.format(r))\n",
    "    \n",
    "    r = rd.hget('a', key='k1')\n",
    "    print('* the value of \"a/k1\" is: {}'.format(r))\n",
    "\n",
    "    r = rd.hget('a', key='k2')\n",
    "    print('* the value of \"a/k2\" is: {}'.format(r))\n",
    "finally:\n",
    "    r = rd.delete('a')"
   ]
  },
  {
   "cell_type": "markdown",
   "metadata": {},
   "source": [
    "#### 3.1.2. Set hash field if it not exist\n",
    "\n",
    "- `HSETNX key field value`\n",
    "- `HDEL key field`"
   ]
  },
  {
   "cell_type": "code",
   "execution_count": null,
   "metadata": {},
   "outputs": [],
   "source": [
    "try:\n",
    "    rd.hset('a', key=\"k1\", value='v1')\n",
    "\n",
    "    r = rd.hsetnx('a', key='k1', value='v1_1')\n",
    "    print('* when \"a/k1\" exist, the result of [setnx \"a/k1\"] is: {}'.format(r))\n",
    "    \n",
    "    r = rd.hget('a', key='k1')\n",
    "    print('* the value of \"a/k1\" is: {}'.format(r))\n",
    "    \n",
    "    r = rd.hdel('a', 'k1')\n",
    "    print('\\n* the result of [hdel \"a/k1\"] is: {}'.format(r))\n",
    "    \n",
    "    r = rd.hsetnx('a', key='k1', value='v1_1')\n",
    "    print('\\n* when \"a/k1\" not exist, the result of [setnx \"a/k1\"] is: {}'.format(r))\n",
    "    \n",
    "    r = rd.hget('a', key='k1')\n",
    "    print('* the value of \"a/k1\" is: {}'.format(r))\n",
    "finally:\n",
    "    r = rd.delete('a')"
   ]
  },
  {
   "cell_type": "code",
   "execution_count": null,
   "metadata": {},
   "outputs": [],
   "source": [
    "rd.connection_pool.disconnect()"
   ]
  }
 ],
 "metadata": {
  "kernelspec": {
   "display_name": "Python 3",
   "language": "python",
   "name": "python3"
  },
  "language_info": {
   "codemirror_mode": {
    "name": "ipython",
    "version": 3
   },
   "file_extension": ".py",
   "mimetype": "text/x-python",
   "name": "python",
   "nbconvert_exporter": "python",
   "pygments_lexer": "ipython3",
   "version": "3.8.2"
  }
 },
 "nbformat": 4,
 "nbformat_minor": 4
}
