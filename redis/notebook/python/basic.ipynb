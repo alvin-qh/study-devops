{
 "cells": [
  {
   "cell_type": "code",
   "execution_count": null,
   "metadata": {},
   "outputs": [],
   "source": [
    "import redis\n",
    "\n",
    "rd = redis.StrictRedis(host='localhost', port=6379, db=0, decode_responses=True)"
   ]
  },
  {
   "cell_type": "code",
   "execution_count": null,
   "metadata": {},
   "outputs": [],
   "source": [
    "pool = redis.ConnectionPool(host='localhost', port=6379, decode_responses=True)\n",
    "rd = redis.Redis(host='localhost', port=6379, connection_pool=pool, decode_responses=True)  "
   ]
  },
  {
   "cell_type": "code",
   "execution_count": null,
   "metadata": {},
   "outputs": [],
   "source": [
    "r = rd.set('name', 123)\n",
    "print(r)\n",
    "\n",
    "r = rd.get('name')\n",
    "print(r)\n",
    "\n",
    "r = rd.delete('name')\n",
    "print(r)\n",
    "\n",
    "r = rd.get('name')\n",
    "print(r)"
   ]
  },
  {
   "cell_type": "code",
   "execution_count": null,
   "metadata": {},
   "outputs": [],
   "source": [
    "r = rd.set('name', 123)\n",
    "print(r)\n",
    "\n",
    "r = rd.set('name', 456, nx=True)\n",
    "print(r)\n",
    "\n",
    "r = rd.get('name')\n",
    "print(r)\n",
    "\n",
    "r = rd.delete('name')\n",
    "print(r)\n",
    "\n",
    "r = rd.set('name', 456, nx=True)\n",
    "print(r)\n",
    "\n",
    "r = rd.get('name')\n",
    "print(r)\n",
    "\n",
    "r = rd.set('name', 123, xx=True)\n",
    "print(r)\n",
    "\n",
    "r = rd.get('name')\n",
    "print(r)"
   ]
  },
  {
   "cell_type": "code",
   "execution_count": null,
   "metadata": {},
   "outputs": [],
   "source": [
    "import time\n",
    "\n",
    "r = rd.set('name', 123, ex=2)\n",
    "print(r)\n",
    "\n",
    "r = rd.get('name')\n",
    "print(r)\n",
    "\n",
    "r = rd.pttl('name')\n",
    "print(r)\n",
    "\n",
    "time.sleep(2)\n",
    "\n",
    "r = rd.pttl('name')\n",
    "print(r)\n",
    "\n",
    "r = rd.get('name')\n",
    "print(r)"
   ]
  },
  {
   "cell_type": "code",
   "execution_count": null,
   "metadata": {},
   "outputs": [],
   "source": [
    "import time\n",
    "\n",
    "r = rd.set('name', 123, xx=)\n",
    "print(r)\n",
    "\n",
    "r = rd.get('name')\n",
    "print(r)\n",
    "\n",
    "r = rd.pttl('name')\n",
    "print(r)\n",
    "\n",
    "time.sleep(2)\n",
    "\n",
    "r = rd.pttl('name')\n",
    "print(r)\n",
    "\n",
    "r = rd.get('name')\n",
    "print(r)"
   ]
  },
  {
   "cell_type": "code",
   "execution_count": null,
   "metadata": {},
   "outputs": [],
   "source": []
  },
  {
   "cell_type": "code",
   "execution_count": null,
   "metadata": {},
   "outputs": [],
   "source": []
  },
  {
   "cell_type": "code",
   "execution_count": null,
   "metadata": {},
   "outputs": [],
   "source": []
  },
  {
   "cell_type": "code",
   "execution_count": null,
   "metadata": {},
   "outputs": [],
   "source": []
  },
  {
   "cell_type": "code",
   "execution_count": null,
   "metadata": {},
   "outputs": [],
   "source": []
  },
  {
   "cell_type": "code",
   "execution_count": null,
   "metadata": {},
   "outputs": [],
   "source": [
    "rd.connection_pool.disconnect()"
   ]
  }
 ],
 "metadata": {
  "kernelspec": {
   "display_name": "Python 3",
   "language": "python",
   "name": "python3"
  },
  "language_info": {
   "codemirror_mode": {
    "name": "ipython",
    "version": 3
   },
   "file_extension": ".py",
   "mimetype": "text/x-python",
   "name": "python",
   "nbconvert_exporter": "python",
   "pygments_lexer": "ipython3",
   "version": "3.8.2"
  }
 },
 "nbformat": 4,
 "nbformat_minor": 4
}
