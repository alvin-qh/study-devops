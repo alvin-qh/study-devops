{
 "cells": [
  {
   "cell_type": "markdown",
   "metadata": {},
   "source": [
    "# Redis basic"
   ]
  },
  {
   "cell_type": "code",
   "execution_count": null,
   "metadata": {},
   "outputs": [],
   "source": [
    "import redis\n",
    "from redis.exceptions import ResponseError"
   ]
  },
  {
   "cell_type": "markdown",
   "metadata": {},
   "source": [
    "## 1. Make connection"
   ]
  },
  {
   "cell_type": "markdown",
   "metadata": {},
   "source": [
    "### 1.1. Connect with default connection pool"
   ]
  },
  {
   "cell_type": "code",
   "execution_count": null,
   "metadata": {},
   "outputs": [],
   "source": [
    "rd = redis.Redis(host='localhost', port=6379, db=0, decode_responses=True)"
   ]
  },
  {
   "cell_type": "markdown",
   "metadata": {},
   "source": [
    "### 1.2. Create connection pool and make connection"
   ]
  },
  {
   "cell_type": "code",
   "execution_count": null,
   "metadata": {},
   "outputs": [],
   "source": [
    "pool = redis.ConnectionPool(host='localhost', port=6379, decode_responses=True)\n",
    "rd = redis.Redis(host='localhost', port=6379, connection_pool=pool, decode_responses=True)"
   ]
  },
  {
   "cell_type": "markdown",
   "metadata": {},
   "source": [
    "## 2. String"
   ]
  },
  {
   "cell_type": "markdown",
   "metadata": {},
   "source": [
    "### 2.1. Set, get and delete key\n",
    "\n",
    "- `SET key value`\n",
    "- `GET key` => `value`\n",
    "- `DEL key`"
   ]
  },
  {
   "cell_type": "code",
   "execution_count": null,
   "metadata": {},
   "outputs": [],
   "source": [
    "r = rd.set(name='a', value='ok')\n",
    "print('* the result of [set key \"a\"] is: {}'.format(r))\n",
    "\n",
    "r = rd.get(name='a')\n",
    "print('* the value of key \"a\" is: \"{}\"'.format(r))\n",
    "\n",
    "r = rd.delete('a')\n",
    "print('* the result of [delete key \"a\"] is: {}'.format(r))\n",
    "\n",
    "r = rd.get(name='a')\n",
    "print('* after delete key \"a\", the value of key \"a\" is: {}'.format(r))"
   ]
  },
  {
   "cell_type": "markdown",
   "metadata": {},
   "source": [
    "### 2.2. Set if exist or not exist"
   ]
  },
  {
   "cell_type": "markdown",
   "metadata": {},
   "source": [
    "#### 2.2.1. Set key if exist\n",
    "\n",
    "- `SET key value XX`"
   ]
  },
  {
   "cell_type": "code",
   "execution_count": null,
   "metadata": {},
   "outputs": [],
   "source": [
    "try:\n",
    "    r = rd.set(name='a', value='ok', xx=True)\n",
    "    print('* when key \"a\" not exist, the result of [set key \"a\" (with xx)] is: {}'.format(r))\n",
    "\n",
    "    r = rd.set(name='a', value='yes')\n",
    "    print('* the result of [set key \"a\"] is: {}'.format(r))\n",
    "\n",
    "    r = rd.set(name='a', value='ok', xx=True)\n",
    "    print('* when key \"a\" exist, the result of [set key \"a\" (with xx)] is: {}'.format(r))\n",
    "\n",
    "    r = rd.get(name='a')\n",
    "    print('* the value of key \"a\" is: \"{}\"'.format(r))\n",
    "finally:\n",
    "    rd.delete('a')"
   ]
  },
  {
   "cell_type": "markdown",
   "metadata": {},
   "source": [
    "#### 2.2.1. Set key if not exist\n",
    "\n",
    "- `SET key value NX`"
   ]
  },
  {
   "cell_type": "code",
   "execution_count": null,
   "metadata": {},
   "outputs": [],
   "source": [
    "try:\n",
    "    r = rd.set(name='a', value='ok', nx=True)\n",
    "    print('* when key \"a\" not exist, the result of [set key \"a\" (with nx)] is: {}'.format(r))\n",
    "\n",
    "    r = rd.get(name='a')\n",
    "    print('* the value of key \"a\" is: \"{}\"'.format(r))\n",
    "\n",
    "    r = rd.set(name='a', value='yes', nx=True)\n",
    "    print('* when key \"a\" exist, the result of [set key \"a\" (with nx)] is: {}'.format(r))\n",
    "\n",
    "    r = rd.get(name='a')\n",
    "    print('* the value of key \"a\" is: \"{}\"'.format(r))\n",
    "finally:\n",
    "    rd.delete('a')"
   ]
  },
  {
   "cell_type": "markdown",
   "metadata": {},
   "source": [
    "### 2.3. Key expire"
   ]
  },
  {
   "cell_type": "markdown",
   "metadata": {},
   "source": [
    "#### 2.3.1. Expire by seconds\n",
    "\n",
    "- `SET key value EX seconds`"
   ]
  },
  {
   "cell_type": "code",
   "execution_count": null,
   "metadata": {},
   "outputs": [],
   "source": [
    "import time\n",
    "\n",
    "try:\n",
    "    r = rd.set(name='a', value='ok', ex=2)\n",
    "    print('* the result of [set key \"a\"(with ex)] is {}'.format(r))\n",
    "\n",
    "    r = rd.get(name='a')\n",
    "    print('\\n* before key \"a\" is expired, the value of key \"a\" is: {}'.format(r))\n",
    "\n",
    "    r = rd.pttl(name='a')\n",
    "    print('* the PTTL of key \"a\" is: {}'.format(r))\n",
    "\n",
    "    time.sleep(2)\n",
    "\n",
    "    r = rd.get(name='a')\n",
    "    print('\\n* after key \"a\" is expired, the value of key \"a\" is: {}'.format(r))\n",
    "\n",
    "    r = rd.pttl(name='a')\n",
    "    print('* the PTTL of key \"a\" is: {}'.format(r))\n",
    "finally:\n",
    "    rd.delete('a')"
   ]
  },
  {
   "cell_type": "markdown",
   "metadata": {},
   "source": [
    "#### 2.3.1. Expire by milliseconds\n",
    "\n",
    "- `SET key value PX milliseconds`"
   ]
  },
  {
   "cell_type": "code",
   "execution_count": null,
   "metadata": {},
   "outputs": [],
   "source": [
    "import time\n",
    "\n",
    "try:\n",
    "    r = rd.set(name='a', value='ok', px=2000)\n",
    "    print('* the result of [set key \"a\"(with px)] is {}'.format(r))\n",
    "\n",
    "    r = rd.get(name='a')\n",
    "    print('\\n* before key \"a\" is expired, the value of key \"a\" is: {}'.format(r))\n",
    "\n",
    "    r = rd.pttl(name='a')\n",
    "    print('* the PTTL of key \"a\" is: {}'.format(r))\n",
    "\n",
    "    time.sleep(2)\n",
    "\n",
    "    r = rd.get(name='a')\n",
    "    print('\\n* after key \"a\" is expired, the value of key \"a\" is: {}'.format(r))\n",
    "\n",
    "    r = rd.pttl(name='a')\n",
    "    print('* the PTTL of key \"a\" is: {}'.format(r))\n",
    "finally:\n",
    "    rd.delete('a')"
   ]
  },
  {
   "cell_type": "markdown",
   "metadata": {},
   "source": [
    "### 2.4. Get and set value at sametime\n",
    "\n",
    "- `GETSET key newvalue` => `oldvalue`"
   ]
  },
  {
   "cell_type": "code",
   "execution_count": null,
   "metadata": {},
   "outputs": [],
   "source": [
    "try:\n",
    "    rd.set(name='a', value='ok')\n",
    "    r = rd.get(name='a')\n",
    "    print('* the value of key \"a\" is: {}'.format(r))\n",
    "\n",
    "    r = rd.getset(name='a', value='yes')\n",
    "    print('* the result of [getset key \"a\"] is: {}'.format(r))\n",
    "\n",
    "    r = rd.get(name='a')\n",
    "    print('* the value of key \"a\" is: \"{}\"'.format(r))\n",
    "finally:\n",
    "    rd.delete('a')"
   ]
  },
  {
   "cell_type": "markdown",
   "metadata": {},
   "source": [
    "### 2.5. Range operator"
   ]
  },
  {
   "cell_type": "markdown",
   "metadata": {},
   "source": [
    "#### 2.5.1. Set range in value\n",
    "\n",
    "- `SETRANGE key offset value` => `length`"
   ]
  },
  {
   "cell_type": "code",
   "execution_count": null,
   "metadata": {},
   "outputs": [],
   "source": [
    "try:\n",
    "    rd.set(name='a', value='abcdefgh')\n",
    "    r = rd.get(name='a')\n",
    "    print('* set key \"a\", result is: \"{}\"'.format(r))\n",
    "\n",
    "    r = rd.setrange(name='a', offset=3, value='DEF')\n",
    "    print('* the result of [setrange key \"a\"] is: {}'.format(r))\n",
    "\n",
    "    r = rd.get(name='a')\n",
    "    print('* the value of key \"a\" is: \"{}\"'.format(r))\n",
    "finally:\n",
    "    rd.delete('a')"
   ]
  },
  {
   "cell_type": "markdown",
   "metadata": {},
   "source": [
    "#### 2.5.2. Get range in value\n",
    "\n",
    "- `GETRANGE key offset value` => `len(value)`"
   ]
  },
  {
   "cell_type": "code",
   "execution_count": null,
   "metadata": {},
   "outputs": [],
   "source": [
    "try:\n",
    "    rd.set(name='a', value='123456789')\n",
    "    r = rd.get(name='a')\n",
    "    print('* the value of key \"a\" is: {}'.format(r))\n",
    "\n",
    "    r = rd.getrange(key='a', start=2, end=5)\n",
    "    print('* the result of [getrange key \"a\"] is: {}'.format(r))\n",
    "finally:\n",
    "    rd.delete('a')"
   ]
  },
  {
   "cell_type": "markdown",
   "metadata": {},
   "source": [
    "### 2.6. Get length of value\n",
    "\n",
    "- `STRLEN key` => `length`"
   ]
  },
  {
   "cell_type": "code",
   "execution_count": null,
   "metadata": {},
   "outputs": [],
   "source": [
    "try:\n",
    "    rd.set(name='a', value='123456789')\n",
    "    r = rd.get(name='a')\n",
    "    print('* the value of key \"a\" is: {}'.format(r))\n",
    "\n",
    "    r = rd.strlen(name='a')\n",
    "    print('* the result of [strlen key \"a\"] is: {}'.format(r))\n",
    "finally:\n",
    "    rd.delete('a')"
   ]
  },
  {
   "cell_type": "markdown",
   "metadata": {},
   "source": [
    "### 2.7. Append content\n",
    "\n",
    "- `APPEND key value` => `len(value)`"
   ]
  },
  {
   "cell_type": "code",
   "execution_count": null,
   "metadata": {},
   "outputs": [],
   "source": [
    "try:\n",
    "    r = rd.append(key='a', value='1')\n",
    "    print('* when key \"a\" not exist, append result is: {}'.format(r))\n",
    "\n",
    "    r = rd.append(key='a', value='2')\n",
    "    print('* when key \"a\" exist, append result is: {}'.format(r))\n",
    "\n",
    "    r = rd.append(key='a', value='3')\n",
    "    print('* when key \"a\" exist, append result is: {}'.format(r))\n",
    "\n",
    "    r = rd.get(name='a')\n",
    "    print('* the value of key \"a\" is: \"{}\"'.format(r))\n",
    "finally:\n",
    "    rd.delete('a')"
   ]
  },
  {
   "cell_type": "markdown",
   "metadata": {},
   "source": [
    "### 2.8. Increase and decrease number value"
   ]
  },
  {
   "cell_type": "markdown",
   "metadata": {},
   "source": [
    "#### 2.8.1. Plus 1\n",
    "\n",
    "- `INCR key` => `increased value`"
   ]
  },
  {
   "cell_type": "code",
   "execution_count": null,
   "metadata": {},
   "outputs": [],
   "source": [
    "try:\n",
    "    rd.set(name='a', value=1)\n",
    "    r = rd.get(name='a')\n",
    "    print('* the result of key \"a\" is: {}'.format(r))\n",
    "\n",
    "    r = rd.incr(name='a')\n",
    "    print('* the result of [incr key \"a\"] is: {}'.format(r))\n",
    "\n",
    "    r = rd.get(name='a')\n",
    "    print('* the result of key \"a\" is: {}'.format(r))\n",
    "finally:\n",
    "    rd.delete('a')"
   ]
  },
  {
   "cell_type": "markdown",
   "metadata": {},
   "source": [
    "#### 2.8.2. Plus any integer value\n",
    "\n",
    "- `INCRBY key value` => `increased value`"
   ]
  },
  {
   "cell_type": "code",
   "execution_count": null,
   "metadata": {},
   "outputs": [],
   "source": [
    "try:\n",
    "    rd.set(name='a', value=1)\n",
    "    r = rd.get('a')\n",
    "    print('* the result of key \"a\" is: {}'.format(r))\n",
    "\n",
    "    r = rd.incrby(name='a', amount=10)\n",
    "    print('* the result of [incr key \"a\"] is: {}'.format(r))\n",
    "\n",
    "    r = rd.get(name='a')\n",
    "    print('* the result of key \"a\" is: {}'.format(r))\n",
    "finally:\n",
    "    rd.delete('a')"
   ]
  },
  {
   "cell_type": "markdown",
   "metadata": {},
   "source": [
    "#### 2.8.3. Plus any float value\n",
    "\n",
    "- `INCRBYFLOAT key value` => `increased_value`"
   ]
  },
  {
   "cell_type": "code",
   "execution_count": null,
   "metadata": {},
   "outputs": [],
   "source": [
    "try:\n",
    "    rd.set(name='a', value=1)\n",
    "    r = rd.get(name='a')\n",
    "    print('* the result of key \"a\" is: {}'.format(r))\n",
    "\n",
    "    r = rd.incrbyfloat(name='a', amount=0.1)\n",
    "    print('* the result of [incr key \"a\"] is: {}'.format(r))\n",
    "\n",
    "    r = rd.get(name='a')\n",
    "    print('* the result of key \"a\" is: {}'.format(r))\n",
    "finally:\n",
    "    rd.delete('a')"
   ]
  },
  {
   "cell_type": "markdown",
   "metadata": {},
   "source": [
    "#### 2.8.4. Minus 1\n",
    "\n",
    "- `DECR key` => `decreased value`"
   ]
  },
  {
   "cell_type": "code",
   "execution_count": null,
   "metadata": {},
   "outputs": [],
   "source": [
    "try:\n",
    "    rd.set(name='a', value=2)\n",
    "    r = rd.get('a')\n",
    "    print('* the result of key \"a\" is: {}'.format(r))\n",
    "\n",
    "    r = rd.decr(name='a', amount=1)\n",
    "    print('* the result of [incr key \"a\"] is: {}'.format(r))\n",
    "\n",
    "    r = rd.get(name='a')\n",
    "    print('* the result of key \"a\" is: {}'.format(r))\n",
    "finally:\n",
    "    rd.delete('a')"
   ]
  },
  {
   "cell_type": "markdown",
   "metadata": {},
   "source": [
    "#### 2.8.5. Minus any integer value\n",
    "\n",
    "- `DECRBY key value` => `increased_value`"
   ]
  },
  {
   "cell_type": "code",
   "execution_count": null,
   "metadata": {},
   "outputs": [],
   "source": [
    "try:\n",
    "    rd.set(name='a', value=1)\n",
    "    r = rd.get('a')\n",
    "    print('* the result of key \"a\" is: {}'.format(r))\n",
    "\n",
    "    r = rd.decrby(name='a', amount=2)\n",
    "    print('* the result of [incr key \"a\"] is: {}'.format(r))\n",
    "\n",
    "    r = rd.get(name='a')\n",
    "    print('* the result of key \"a\" is: {}'.format(r))\n",
    "finally:\n",
    "    rd.delete('a')"
   ]
  },
  {
   "cell_type": "markdown",
   "metadata": {},
   "source": [
    "### 2.9. Get and set multi-items\n",
    "\n",
    "- `MSET key1 value1 key2 value2 ...`\n",
    "- `MGET key1 key2 ...` => `[value1, value2, ...]`"
   ]
  },
  {
   "cell_type": "code",
   "execution_count": null,
   "metadata": {},
   "outputs": [],
   "source": [
    "try:\n",
    "    r = rd.mset(mapping={\n",
    "        'a': 1,\n",
    "        'b': 2,\n",
    "        'c': 3\n",
    "    })\n",
    "    print('* the result of [set keys \"a\", \"b\" and \"c\"] is: {}'.format(r))\n",
    "\n",
    "    r = rd.get(name='a')\n",
    "    print('* the value of key \"a\" is: {}'.format(r))\n",
    "\n",
    "    r = rd.get(name='b')\n",
    "    print('* the value of key \"b\" is: {}'.format(r))\n",
    "\n",
    "    r = rd.get(name='c')\n",
    "    print('* the value of key \"c\" is: {}'.format(r))\n",
    "\n",
    "    r = rd.mget('a', 'b', 'c')\n",
    "    print('* the values of keys \"a\", \"b\" and \"c\" are: {}'.format(r))\n",
    "finally:\n",
    "    rd.delete('a')"
   ]
  },
  {
   "cell_type": "markdown",
   "metadata": {},
   "source": [
    "## 3. Hash"
   ]
  },
  {
   "cell_type": "markdown",
   "metadata": {},
   "source": [
    "### 3.1. Set and get in hash"
   ]
  },
  {
   "cell_type": "markdown",
   "metadata": {},
   "source": [
    "#### 3.1.1. Set and get hash value with field\n",
    "\n",
    "- `HSET hash field value`\n",
    "- `HGET hash field` => `value`"
   ]
  },
  {
   "cell_type": "code",
   "execution_count": null,
   "metadata": {},
   "outputs": [],
   "source": [
    "try:\n",
    "    r = rd.hset(name='a', key='k1', value='v1')\n",
    "    print('* the result of [hset \"a/k1\"] is: {}'.format(r))\n",
    "\n",
    "    r = rd.hget(name='a', key='k1')\n",
    "    print('* the value of key \"a/k1\" is: {}'.format(r))\n",
    "\n",
    "    rd.delete('a')\n",
    "\n",
    "    r = rd.hset(name='a', mapping={'k1': 'v1', 'k2': 'v2'})\n",
    "    print('\\n* the result of [hset] is: {}'.format(r))\n",
    "\n",
    "    r = rd.hget(name='a', key='k1')\n",
    "    print('* the value of \"a/k1\" is: {}'.format(r))\n",
    "\n",
    "    r = rd.hget(name='a', key='k2')\n",
    "    print('* the value of \"a/k2\" is: {}'.format(r))\n",
    "finally:\n",
    "    rd.delete('a')"
   ]
  },
  {
   "cell_type": "markdown",
   "metadata": {},
   "source": [
    "#### 3.1.2. Set hash field if it not exist\n",
    "\n",
    "- `HSETNX key field value`\n",
    "- `HDEL key field`"
   ]
  },
  {
   "cell_type": "code",
   "execution_count": null,
   "metadata": {},
   "outputs": [],
   "source": [
    "try:\n",
    "    rd.hset(name='a', key=\"k1\", value='v1')\n",
    "\n",
    "    r = rd.hsetnx(name='a', key='k1', value='v1_1')\n",
    "    print('* when \"a/k1\" exist, the result of [setnx \"a/k1\"] is: {}'.format(r))\n",
    "\n",
    "    r = rd.hget(name='a', key='k1')\n",
    "    print('* the value of \"a/k1\" is: {}'.format(r))\n",
    "\n",
    "    r = rd.hdel('a', 'k1')\n",
    "    print('\\n* the result of [hdel \"a/k1\"] is: {}'.format(r))\n",
    "\n",
    "    r = rd.hsetnx(name='a', key='k1', value='v1_1')\n",
    "    print('\\n* when \"a/k1\" not exist, the result of [setnx \"a/k1\"] is: {}'.format(r))\n",
    "\n",
    "    r = rd.hget(name='a', key='k1')\n",
    "    print('* the value of \"a/k1\" is: {}'.format(r))\n",
    "    \n",
    "finally:\n",
    "    rd.delete('a')"
   ]
  },
  {
   "cell_type": "markdown",
   "metadata": {},
   "source": [
    "## 4. List"
   ]
  },
  {
   "cell_type": "markdown",
   "metadata": {},
   "source": [
    "### 4.1. Push and pop"
   ]
  },
  {
   "cell_type": "markdown",
   "metadata": {},
   "source": [
    "#### 4.1.1. Push into list\n",
    "\n",
    "- `LPUSH key value [value …]` -> `length`\n",
    "- `RPUSH key value [value …]` -> `length`\n",
    "- `LLEN key` -> `length`\n",
    "- `LINDEX key index` -> `value`"
   ]
  },
  {
   "cell_type": "code",
   "execution_count": null,
   "metadata": {},
   "outputs": [],
   "source": [
    "try:\n",
    "    r = rd.lpush('a', *[(n + 1) * 10 for n in range(0, 10)])\n",
    "        \n",
    "    print('* length of list is: {}'.format(r))\n",
    "    \n",
    "    print('* content of list are: '.format(r))\n",
    "    for i in range(0, rd.llen('a')):\n",
    "        r = rd.lindex(name='a', index=i)\n",
    "        print('\\t({}, {})'.format(i, r))\n",
    "        \n",
    "    rd.delete('a')\n",
    "    \n",
    "    rd.rpush('a', *[(n + 1) * 10 for n in range(0, 10)])\n",
    "\n",
    "    r = rd.llen(name='a')\n",
    "    print('\\n* length of list is: {}'.format(r))\n",
    "    \n",
    "    print('* content of list are: '.format(r))\n",
    "    for i in range(0, rd.llen('a')):\n",
    "        r = rd.lindex(name='a', index=i)\n",
    "        print('\\t({}, {})'.format(i, r))\n",
    "finally:\n",
    "    rd.delete('a')"
   ]
  },
  {
   "cell_type": "markdown",
   "metadata": {},
   "source": [
    "#### 4.1.2. Pop from list\n",
    "\n",
    "- `LPOP key` -> `value`\n",
    "- `RPOP key` -> `value`"
   ]
  },
  {
   "cell_type": "code",
   "execution_count": null,
   "metadata": {},
   "outputs": [],
   "source": [
    "try:\n",
    "    r = rd.lpush('a', *[(n + 1) * 10 for n in range(0, 10)])\n",
    "    \n",
    "    print('* pop item form list one by one are: ')\n",
    "    while rd.llen(name='a') > 0:\n",
    "        r = rd.lpop(name='a')\n",
    "        print('\\tafter pop {}, and list count is {}'.format(r, rd.llen(name='a')))\n",
    "        \n",
    "    rd.lpush('a', *[(n + 1) * 10 for n in range(0, 10)])\n",
    "    \n",
    "    print('\\n* pop item form list one by one are: ')\n",
    "    while rd.llen(name='a') > 0:\n",
    "        r = rd.rpop(name='a')\n",
    "        print('\\tafter pop {}, and list count is {}'.format(r, rd.llen(name='a')))\n",
    "finally:\n",
    "    rd.delete('a')"
   ]
  },
  {
   "cell_type": "markdown",
   "metadata": {},
   "source": [
    "#### 4.1.3. Push if exist\n",
    "\n",
    "- `LPUSHX key value` -> `length`\n",
    "- `RPUSHX key value` -> `length`"
   ]
  },
  {
   "cell_type": "code",
   "execution_count": null,
   "metadata": {},
   "outputs": [],
   "source": [
    "try:\n",
    "    r = rd.lpushx('a', 100)\n",
    "    print('* when key \"a\" not exist, [lpushx] return {}'.format(r))\n",
    "    \n",
    "    rd.lpush('a', 200)\n",
    "    \n",
    "    r = rd.lpushx('a', 100)\n",
    "    print('* when key \"a\" exist, [lpushx] return {}'.format(r))\n",
    "    \n",
    "    r = rd.rpushx('a', 300)\n",
    "    print('* when key \"a\" exist, [rpushx] return {}'.format(r))\n",
    "finally:\n",
    "    rd.delete('a')"
   ]
  },
  {
   "cell_type": "markdown",
   "metadata": {},
   "source": [
    "### 4.2. Set, get and delete"
   ]
  },
  {
   "cell_type": "markdown",
   "metadata": {},
   "source": [
    "#### 4.2.1. Get by range\n",
    "\n",
    "- `LRANGE key start stop`"
   ]
  },
  {
   "cell_type": "code",
   "execution_count": null,
   "metadata": {},
   "outputs": [],
   "source": [
    "try:\n",
    "    r = rd.lpush('a', *[(n + 1) * 10 for n in range(0, 10)])\n",
    "    \n",
    "    r = rd.lrange(name='a', start=0, end=10)\n",
    "    print('* get range({}, {}) of list: {}'.format(0, 10, r))\n",
    "finally:\n",
    "    rd.delete('a')"
   ]
  },
  {
   "cell_type": "markdown",
   "metadata": {},
   "source": [
    "#### 4.2.2. Set item into list\n",
    "\n",
    "- `LSET key index value`"
   ]
  },
  {
   "cell_type": "code",
   "execution_count": null,
   "metadata": {},
   "outputs": [],
   "source": [
    "try:\n",
    "    try:\n",
    "        rd.lset(name='a', index=0, value='new')\n",
    "    except ResponseError as err:\n",
    "        print('* when list \"a\" empty, [lset] raise error: \"{}\"'.format(err))\n",
    "\n",
    "    rd.lpush('a', 'old')\n",
    "    print('* push into list: {}'.format(rd.lrange(name='a', start=0, end=0)))\n",
    "\n",
    "    rd.lset(name='a', index=0, value='new')\n",
    "    print('* when list \"a\" not empty, result of [lset] is: {}'.format(rd.lrange('a', 0, 0)))\n",
    "finally:\n",
    "    rd.delete('a')"
   ]
  },
  {
   "cell_type": "markdown",
   "metadata": {},
   "source": [
    "#### 4.2.3. Insert item into list\n",
    "\n",
    "- `LINSERT key BEFORE|AFTER pivot value`"
   ]
  },
  {
   "cell_type": "code",
   "execution_count": null,
   "metadata": {},
   "outputs": [],
   "source": [
    "try:\n",
    "    r = rd.linsert(name='a', where='BEFORE', refvalue=10, value=100)\n",
    "    print('* before src value not exist, result of [insert before src value] is: {}'.format(r))\n",
    "\n",
    "    rd.lpush('a', 10)\n",
    "    print('* push into list: {}'.format(rd.lrange('a', 0, 0)))\n",
    "\n",
    "    rd.linsert(name='a', where='BEFORE', refvalue=10, value=100)\n",
    "    print('* after src value exist, result of [insert before src value] is: {}'.format(rd.lrange('a', 0, 1)))\n",
    "finally:\n",
    "    rd.delete('a')"
   ]
  },
  {
   "cell_type": "markdown",
   "metadata": {},
   "source": [
    "#### 4.2.4. Remove item\n",
    "\n",
    "- `LREM key count value`"
   ]
  },
  {
   "cell_type": "code",
   "execution_count": 36,
   "metadata": {},
   "outputs": [
    {
     "name": "stdout",
     "output_type": "stream",
     "text": [
      "* list content is: ['5', '4', '3', '2', '1', '0', '1', '2', '3', '4', '5']\n",
      "* after [lrem], result is: ['5', '3', '2', '1', '0', '1', '2', '3', '4', '5']\n"
     ]
    }
   ],
   "source": [
    "try:\n",
    "    rd.rpush('a', *[5 - n if 5 - n > 0 else n - 5 for n in range(0, 11)])\n",
    "    print('* list content is: {}'.format(rd.lrange(name='a', start=0, end=11)))\n",
    "\n",
    "    rd.lrem('a', 1, 4)\n",
    "    print('* after [lrem], result is: {}'.format(rd.lrange('a', 0, 11)))\n",
    "finally:\n",
    "    rd.delete('a')\n",
    "    rd.delete('b')\n",
    "    rd.delete('c')"
   ]
  },
  {
   "cell_type": "code",
   "execution_count": null,
   "metadata": {},
   "outputs": [],
   "source": [
    "rd.connection_pool.disconnect()"
   ]
  }
 ],
 "metadata": {
  "kernelspec": {
   "display_name": "Python 3",
   "language": "python",
   "name": "python3"
  },
  "language_info": {
   "codemirror_mode": {
    "name": "ipython",
    "version": 3
   },
   "file_extension": ".py",
   "mimetype": "text/x-python",
   "name": "python",
   "nbconvert_exporter": "python",
   "pygments_lexer": "ipython3",
   "version": "3.8.2"
  }
 },
 "nbformat": 4,
 "nbformat_minor": 4
}
