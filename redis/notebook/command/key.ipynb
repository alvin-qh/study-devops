{
 "cells": [
  {
   "cell_type": "markdown",
   "metadata": {},
   "source": [
    "# Redis key value command"
   ]
  },
  {
   "cell_type": "markdown",
   "metadata": {},
   "source": [
    "## 2. Key with hash value"
   ]
  },
  {
   "cell_type": "markdown",
   "metadata": {},
   "source": [
    "#### 2.1.2. Set hash field if it not exist\n",
    "\n",
    "- `HSETNX key field value`\n",
    "- `HDEL key field`"
   ]
  },
  {
   "cell_type": "code",
   "execution_count": null,
   "metadata": {},
   "outputs": [],
   "source": [
    "try:\n",
    "    run('HSET a k1 v1')\n",
    "    \n",
    "    r = run('HSETNX a k1 v2')\n",
    "    print('* if \"k1\" field exist in key \"a\", setnx result is: {}'.format(r))\n",
    "    \n",
    "    r = run('HGET a k1')\n",
    "    print('* the value of \"a/k1\" is: {}'.format(r))\n",
    "    \n",
    "    r = run('HDEL a k1')\n",
    "    print('\\n* delete field \"a/k1\", result is: {}'.format(r))\n",
    "    \n",
    "    r = run('HSETNX a k1 v2')\n",
    "    print('* if \"k1\" field not exist in key \"a\", setnx result is: {}'.format(r))\n",
    "    \n",
    "    r = run('HGET a k1')\n",
    "    print('* the value of \"a/k1\" is: {}'.format(r))\n",
    "finally:\n",
    "    r = run('DEL a')"
   ]
  },
  {
   "cell_type": "markdown",
   "metadata": {},
   "source": [
    "### 2.2. Test hash field exist\n",
    "\n",
    "- `HEXISTS hash field` => `0/1`"
   ]
  },
  {
   "cell_type": "code",
   "execution_count": null,
   "metadata": {},
   "outputs": [],
   "source": [
    "try:\n",
    "    r = run('HEXISTS a k1')\n",
    "    print('* when key \"a\" not set, test key \"a/k1\" exist, result is: {}'.format(r))\n",
    "    \n",
    "    run('HSET a k2 v2')\n",
    "    r = run('HEXISTS a k1')\n",
    "    print('* after key \"a/k2\" is set, test key \"a/k1\" exist, result is: {}'.format(r))\n",
    "    \n",
    "    run('HSET a k1 v1')\n",
    "    r = run('HEXISTS a k1')\n",
    "    print('* after key \"a/k1\" is set, test key \"a/k1\" exist, result is: {}'.format(r))\n",
    "finally:\n",
    "    r = run('DEL a')"
   ]
  },
  {
   "cell_type": "markdown",
   "metadata": {},
   "source": [
    "### 2.3. Test hash field exist\n",
    "\n",
    "- `HEXISTS hash field` => `0/1`"
   ]
  },
  {
   "cell_type": "code",
   "execution_count": null,
   "metadata": {},
   "outputs": [],
   "source": [
    "try:\n",
    "    r = run('HEXISTS a k1')\n",
    "    print('* when key \"a\" not set, test key \"a/k1\" exist, result is: {}'.format(r))\n",
    "    \n",
    "    run('HSET a k2 v2')\n",
    "    r = run('HEXISTS a k1')\n",
    "    print('* after key \"a/k2\" is set, test key \"a/k1\" exist, result is: {}'.format(r))\n",
    "    \n",
    "    run('HSET a k1 v1')\n",
    "    r = run('HEXISTS a k1')\n",
    "    print('* after key \"a/k1\" is set, test key \"a/k1\" exist, result is: {}'.format(r))\n",
    "finally:\n",
    "    r = run('DEL a')"
   ]
  },
  {
   "cell_type": "markdown",
   "metadata": {},
   "source": [
    "### 2.4. Delete hash field\n",
    "\n",
    "- `HDEL key field [field …]` => `0/1`"
   ]
  },
  {
   "cell_type": "code",
   "execution_count": null,
   "metadata": {},
   "outputs": [],
   "source": [
    "try:\n",
    "    run('HSET a k1 v1')\n",
    "\n",
    "    r = run('HDEL a k1')\n",
    "    print('* when key \"a/k1\" exist, delete result is: {}'.format(r))\n",
    "\n",
    "    r = run('HDEL a k1')\n",
    "    print('* when key \"a/k1\" not exist, delete result is: {}'.format(r))\n",
    "    \n",
    "    run('HSET a k1 v1')\n",
    "    run('HSET a k2 v2')\n",
    "    r = run('HDEL a k1 k2')\n",
    "    print('\\n* delete multi-field at a time, result is: {}'.format(r))\n",
    "finally:\n",
    "    r = run('DEL a')"
   ]
  },
  {
   "cell_type": "markdown",
   "metadata": {},
   "source": [
    "### 2.5. Get all in hash"
   ]
  },
  {
   "cell_type": "markdown",
   "metadata": {},
   "source": [
    "#### 2.5.1. Get all fields in hash\n",
    "\n",
    "- `HKEYS key` => `[fields, ...]`"
   ]
  },
  {
   "cell_type": "code",
   "execution_count": null,
   "metadata": {},
   "outputs": [],
   "source": [
    "try:\n",
    "    run('HSET a k1 v1')\n",
    "    run('HSET a k2 v2')\n",
    "    r = run('HKEYS a')\n",
    "    print('* all hash keys in hash with key \"a\" are: {}'.format(r))\n",
    "finally:\n",
    "    r = run('DEL a')"
   ]
  },
  {
   "cell_type": "markdown",
   "metadata": {},
   "source": [
    "#### 2.5.2. Get all values in hash\n",
    "\n",
    "- `HVALS key` => `[values, ...]`"
   ]
  },
  {
   "cell_type": "code",
   "execution_count": null,
   "metadata": {},
   "outputs": [],
   "source": [
    "try:\n",
    "    run('HSET a k1 v1')\n",
    "    run('HSET a k2 v2')\n",
    "    r = run('HVALS a')\n",
    "    print('* all values in hash with key \"a\" are: {}'.format(r))\n",
    "finally:\n",
    "    r = run('DEL a')"
   ]
  },
  {
   "cell_type": "markdown",
   "metadata": {},
   "source": [
    "#### 2.5.3. Get all keys and values in hash\n",
    "\n",
    "- `HGETALL key` => `[field, value, ...]`"
   ]
  },
  {
   "cell_type": "code",
   "execution_count": null,
   "metadata": {},
   "outputs": [],
   "source": [
    "try:\n",
    "    run('HSET a k1 v1')\n",
    "    run('HSET a k2 v2')\n",
    "    r = run('HGETALL a')\n",
    "    print('* all items in hash with key \"a\" are: {}'.format(r))\n",
    "finally:\n",
    "    r = run('DEL a')"
   ]
  },
  {
   "cell_type": "markdown",
   "metadata": {},
   "source": [
    "#### 2.5.4. Scan all key and value by iterator\n",
    "\n",
    "- `HSCAN key position [MATCH pattern] [COUNT count]` => `[new position, [key, value, ...]]`"
   ]
  },
  {
   "cell_type": "code",
   "execution_count": null,
   "metadata": {},
   "outputs": [],
   "source": [
    "try:\n",
    "    for x in range(1, 600):\n",
    "        run('HSET a k{0} v{0}'.format(x))\n",
    "        \n",
    "    pos = 0\n",
    "        \n",
    "    r = run('HSCAN a {} MATCH k* COUNT 50'.format(pos))\n",
    "    print('* iterate from position {} with key \"a\" are: {}'.format(pos, r))\n",
    "    \n",
    "    pos = r[0]\n",
    "    \n",
    "    r = run('HSCAN a {} COUNT 50'.format(pos))\n",
    "    print('\\n* iterate from position {} with key \"a\" are: {}'.format(pos, r))\n",
    "    \n",
    "    pos = r[0]\n",
    "    \n",
    "    r = run('HSCAN a {} COUNT 50'.format(pos))\n",
    "    print('\\n* iterate from position {} with key \"a\" are: {}'.format(pos, r))\n",
    "finally:\n",
    "    r = run('DEL a')"
   ]
  },
  {
   "cell_type": "markdown",
   "metadata": {},
   "source": [
    "### 2.6. Get size of hash\n",
    "\n",
    "- `HLEN key` => `size`"
   ]
  },
  {
   "cell_type": "code",
   "execution_count": null,
   "metadata": {},
   "outputs": [],
   "source": [
    "try:\n",
    "    for x in range(1, 600):\n",
    "        run('HSET a k{0} v{0}'.format(x))\n",
    "        \n",
    "    r = run('HLEN a')\n",
    "    print('* get hash size of key \"a\" is: {}'.format(r))\n",
    "finally:\n",
    "    r = run('DEL a')"
   ]
  },
  {
   "cell_type": "markdown",
   "metadata": {},
   "source": [
    "### 2.7. Increase value by hash field"
   ]
  },
  {
   "cell_type": "markdown",
   "metadata": {},
   "source": [
    "#### 2.7.1. Increase integer value\n",
    "\n",
    "- `HINCRBY key field num` => `increased value`"
   ]
  },
  {
   "cell_type": "code",
   "execution_count": null,
   "metadata": {},
   "outputs": [],
   "source": [
    "try:\n",
    "    run('HSET a k1 10')\n",
    "    r = run('HGET a k1')\n",
    "    print('* when value of key \"a/k1\" is: {}'.format(r))\n",
    "        \n",
    "    run('HINCRBY a k1 10')\n",
    "    r = run('HGET a k1')\n",
    "    print('* after increase by 10, value of key \"a/k1\" is: {}'.format(r))\n",
    "finally:\n",
    "    r = run('DEL a')"
   ]
  },
  {
   "cell_type": "markdown",
   "metadata": {},
   "source": [
    "#### 2.7.2. Increase float value\n",
    "\n",
    "- `HINCRBYFLOAT key field num` => `increased value`"
   ]
  },
  {
   "cell_type": "code",
   "execution_count": null,
   "metadata": {},
   "outputs": [],
   "source": [
    "try:\n",
    "    run('HSET a k1 10')\n",
    "    r = run('HGET a k1')\n",
    "    print('* when value of key \"a/k1\" is: {}'.format(r))\n",
    "        \n",
    "    run('HINCRBYFLOAT a k1 10.01')\n",
    "    r = run('HGET a k1')\n",
    "    print('* after increase by 10.01, value of key \"a/k1\" is: {}'.format(r))\n",
    "finally:\n",
    "    r = run('DEL a')"
   ]
  },
  {
   "cell_type": "markdown",
   "metadata": {},
   "source": [
    "### 2.8. Get and set multi-items\n",
    "\n",
    "- `HMSET key field1 value1 field2 value2 ...`\n",
    "- `HMGET key field1 field2 ...` => `[value1, value2, ...]`"
   ]
  },
  {
   "cell_type": "code",
   "execution_count": null,
   "metadata": {},
   "outputs": [],
   "source": [
    "try:\n",
    "    run('HMSET a k1 v1 k2 v2 k3 v3')\n",
    "    r = run('HGETALL a')\n",
    "    print('* set multi-items, results are: {}'.format(r))\n",
    "        \n",
    "    r = run('HMGET a k1 k3')\n",
    "    print('* get multi-values by fields \"k1\" and \"k3\", results are: {}'.format(r))\n",
    "finally:\n",
    "    r = run('DEL a')"
   ]
  },
  {
   "cell_type": "markdown",
   "metadata": {},
   "source": [
    "## 3. Key with list value"
   ]
  },
  {
   "cell_type": "markdown",
   "metadata": {},
   "source": [
    "### 3.1. Push and pop"
   ]
  },
  {
   "cell_type": "markdown",
   "metadata": {},
   "source": [
    "#### 3.1.1. Push value into list"
   ]
  },
  {
   "cell_type": "code",
   "execution_count": null,
   "metadata": {},
   "outputs": [],
   "source": [
    "try:\n",
    "    run('LPUSH a 1 2 3')\n",
    "    r = run('LRANGE a 0 -1')\n",
    "    print('* list of key \"a\" are: {}'.format(r))\n",
    "finally:\n",
    "    r = run('DEL a')"
   ]
  },
  {
   "cell_type": "markdown",
   "metadata": {},
   "source": [
    "#### "
   ]
  },
  {
   "cell_type": "markdown",
   "metadata": {},
   "source": [
    "#### "
   ]
  },
  {
   "cell_type": "markdown",
   "metadata": {},
   "source": [
    "#### "
   ]
  },
  {
   "cell_type": "markdown",
   "metadata": {},
   "source": [
    "#### "
   ]
  },
  {
   "cell_type": "code",
   "execution_count": null,
   "metadata": {},
   "outputs": [],
   "source": []
  },
  {
   "cell_type": "markdown",
   "metadata": {},
   "source": [
    "### "
   ]
  },
  {
   "cell_type": "markdown",
   "metadata": {},
   "source": [
    "### "
   ]
  },
  {
   "cell_type": "markdown",
   "metadata": {},
   "source": [
    "### "
   ]
  },
  {
   "cell_type": "markdown",
   "metadata": {},
   "source": [
    "### "
   ]
  },
  {
   "cell_type": "markdown",
   "metadata": {},
   "source": [
    "### "
   ]
  },
  {
   "cell_type": "markdown",
   "metadata": {},
   "source": [
    "### "
   ]
  },
  {
   "cell_type": "markdown",
   "metadata": {},
   "source": [
    "### "
   ]
  },
  {
   "cell_type": "markdown",
   "metadata": {},
   "source": [
    "### "
   ]
  }
 ],
 "metadata": {
  "kernelspec": {
   "display_name": "Python 3",
   "language": "python",
   "name": "python3"
  },
  "language_info": {
   "codemirror_mode": {
    "name": "ipython",
    "version": 3
   },
   "file_extension": ".py",
   "mimetype": "text/x-python",
   "name": "python",
   "nbconvert_exporter": "python",
   "pygments_lexer": "ipython3",
   "version": "3.8.2"
  }
 },
 "nbformat": 4,
 "nbformat_minor": 4
}
