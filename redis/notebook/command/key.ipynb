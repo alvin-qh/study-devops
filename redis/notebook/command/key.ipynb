{
 "cells": [
  {
   "cell_type": "code",
   "execution_count": null,
   "metadata": {},
   "outputs": [],
   "source": [
    "import redis\n",
    "\n",
    "rd = redis.Redis(host='localhost', port=6379, db=0, decode_responses=True)\n",
    "\n",
    "def send_command(cmd):\n",
    "    conn = rd.connection or rd.connection_pool.get_connection(cmd)\n",
    "    conn.send_command(cmd)\n",
    "    return conn.read_response()\n",
    "\n",
    "def run(cmd):\n",
    "    return send_command(cmd)"
   ]
  },
  {
   "cell_type": "markdown",
   "metadata": {},
   "source": [
    "## 1.1. String key"
   ]
  },
  {
   "cell_type": "markdown",
   "metadata": {},
   "source": [
    "### 1.1. `SET key value`, `GET key` => `value` and `DEL key`"
   ]
  },
  {
   "cell_type": "code",
   "execution_count": null,
   "metadata": {},
   "outputs": [],
   "source": [
    "r = run('SET a hello')\n",
    "print('* set key \"a\", result is: \"{}\"'.format(r))\n",
    "\n",
    "r = run('GET a')\n",
    "print('* after set key, get value of key a is: \"{}\"'.format(r))\n",
    "\n",
    "r = run('DEL a')\n",
    "print('\\n* delete key \"a\", {} key was deleted'.format(r))\n",
    "\n",
    "r = run('GET a')\n",
    "print('* after delete key, get value of key a is: \"{}\"'.format(r))"
   ]
  },
  {
   "cell_type": "markdown",
   "metadata": {},
   "source": [
    "### 1.2. `GETRANGE key start end` => `substring`"
   ]
  },
  {
   "cell_type": "code",
   "execution_count": null,
   "metadata": {},
   "outputs": [],
   "source": [
    "try:\n",
    "    r = run('SET a hello')\n",
    "    print('* set key \"a\", result is: \"{}\"'.format(r))\n",
    "\n",
    "    r = run('GETRANGE a 1 3')\n",
    "    print('* get range [1, 3] by key \"a\", result is: \"{}\"'.format(r))\n",
    "finally:\n",
    "    r = run('DEL a')"
   ]
  },
  {
   "cell_type": "markdown",
   "metadata": {},
   "source": [
    "### 1.3. `GETSET key newvalue` => `oldvalue`"
   ]
  },
  {
   "cell_type": "code",
   "execution_count": null,
   "metadata": {},
   "outputs": [],
   "source": [
    "try:\n",
    "    r = run('SET a hello')\n",
    "    print('* set key \"a\", result is: \"{}\"'.format(r))\n",
    "\n",
    "    r = run('GETSET a world')\n",
    "    print('\\n* get key \"a\" and set new value, result is: {}'.format(r))\n",
    "    \n",
    "    r = run('GET a')\n",
    "    print('* after GETSET key, the value of key a is: \"{}\"'.format(r))\n",
    "finally:\n",
    "    r = run('DEL a')"
   ]
  },
  {
   "cell_type": "markdown",
   "metadata": {},
   "source": [
    "### 1.4. `SETEX key second value`"
   ]
  },
  {
   "cell_type": "code",
   "execution_count": null,
   "metadata": {},
   "outputs": [],
   "source": [
    "import time\n",
    "\n",
    "try:\n",
    "    r = run('SETEX a 2 hello')\n",
    "    print('* set key \"a\", result is: \"{}\"'.format(r))\n",
    "\n",
    "    r = run('GET a')\n",
    "    print('\\n* before timeout, the value of key a is: \"{}\"'.format(r))\n",
    "    \n",
    "    time.sleep(2)\n",
    "    \n",
    "    r = run('GET a')\n",
    "    print('* after timeout, the value of key a is: \"{}\"'.format(r))\n",
    "finally:\n",
    "    r = run('DEL a')"
   ]
  }
 ],
 "metadata": {
  "kernelspec": {
   "display_name": "Python 3",
   "language": "python",
   "name": "python3"
  },
  "language_info": {
   "codemirror_mode": {
    "name": "ipython",
    "version": 3
   },
   "file_extension": ".py",
   "mimetype": "text/x-python",
   "name": "python",
   "nbconvert_exporter": "python",
   "pygments_lexer": "ipython3",
   "version": "3.8.2"
  }
 },
 "nbformat": 4,
 "nbformat_minor": 4
}
