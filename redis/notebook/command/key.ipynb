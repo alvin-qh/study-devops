{
 "cells": [
  {
   "cell_type": "markdown",
   "metadata": {},
   "source": [
    "# Redis key value command"
   ]
  },
  {
   "cell_type": "code",
   "execution_count": null,
   "metadata": {},
   "outputs": [],
   "source": [
    "import redis\n",
    "\n",
    "rd = redis.Redis(host='localhost', port=6379, db=0, decode_responses=True)\n",
    "\n",
    "def send_command(cmd):\n",
    "    conn = rd.connection or rd.connection_pool.get_connection(cmd)\n",
    "    conn.send_command(cmd)\n",
    "    return conn.read_response()\n",
    "\n",
    "def run(cmd):\n",
    "    return send_command(cmd)"
   ]
  },
  {
   "cell_type": "markdown",
   "metadata": {},
   "source": [
    "## 1. Key with simple value"
   ]
  },
  {
   "cell_type": "markdown",
   "metadata": {},
   "source": [
    "### 1.1. Set, Get and Delete key\n",
    "\n",
    "- `SET key value`\n",
    "- `GET key` => `value`\n",
    "- `DEL key`"
   ]
  },
  {
   "cell_type": "code",
   "execution_count": null,
   "metadata": {},
   "outputs": [],
   "source": [
    "r = run('SET a hello')\n",
    "print('* set key \"a\", result is: \"{}\"'.format(r))\n",
    "\n",
    "r = run('GET a')\n",
    "print('* after set key, get value of key \"a\" is: \"{}\"'.format(r))\n",
    "\n",
    "r = run('DEL a')\n",
    "print('\\n* delete key \"a\", {} key was deleted'.format(r))\n",
    "\n",
    "r = run('GET a')\n",
    "print('* after delete key, get value of key \"a\" is: \"{}\"'.format(r))"
   ]
  },
  {
   "cell_type": "markdown",
   "metadata": {},
   "source": [
    "### 1.2. Get range of value by key\n",
    "\n",
    "- `GETRANGE key start end` => `substring`"
   ]
  },
  {
   "cell_type": "code",
   "execution_count": null,
   "metadata": {},
   "outputs": [],
   "source": [
    "try:\n",
    "    r = run('SET a hello')\n",
    "    print('* set key \"a\", result is: \"{}\"'.format(r))\n",
    "\n",
    "    r = run('GETRANGE a 1 3')\n",
    "    print('* get range [1, 3] by key \"a\", result is: \"{}\"'.format(r))\n",
    "finally:\n",
    "    r = run('DEL a')"
   ]
  },
  {
   "cell_type": "markdown",
   "metadata": {},
   "source": [
    "### 1.3. Set new value and get old value\n",
    "\n",
    "- `GETSET key newvalue` => `oldvalue`"
   ]
  },
  {
   "cell_type": "code",
   "execution_count": null,
   "metadata": {},
   "outputs": [],
   "source": [
    "try:\n",
    "    r = run('SET a hello')\n",
    "    print('* set key \"a\", result is: \"{}\"'.format(r))\n",
    "\n",
    "    r = run('GETSET a world')\n",
    "    print('\\n* get key \"a\" and set new value, result is: {}'.format(r))\n",
    "    \n",
    "    r = run('GET a')\n",
    "    print('* after GETSET key, the value of key \"a\" is: \"{}\"'.format(r))\n",
    "finally:\n",
    "    r = run('DEL a')"
   ]
  },
  {
   "cell_type": "markdown",
   "metadata": {},
   "source": [
    "### 1.4. Set value with expired time\n",
    "\n",
    "- `SETEX key seconds value` (Deprecated)"
   ]
  },
  {
   "cell_type": "code",
   "execution_count": null,
   "metadata": {},
   "outputs": [],
   "source": [
    "import time\n",
    "\n",
    "try:\n",
    "    r = run('SETEX a 2 hello')\n",
    "    print('* set key \"a\", result is: \"{}\"'.format(r))\n",
    "\n",
    "    r = run('GET a')\n",
    "    print('\\n* before timeout, the value of key \"a\" is: \"{}\"'.format(r))\n",
    "    \n",
    "    time.sleep(2)\n",
    "    \n",
    "    r = run('GET a')\n",
    "    print('* after timeout, the value of key \"a\" is: \"{}\"'.format(r))\n",
    "finally:\n",
    "    r = run('DEL a')"
   ]
  },
  {
   "cell_type": "markdown",
   "metadata": {},
   "source": [
    "- `SET key value EX seconds`"
   ]
  },
  {
   "cell_type": "code",
   "execution_count": null,
   "metadata": {},
   "outputs": [],
   "source": [
    "import time\n",
    "\n",
    "try:\n",
    "    r = run('SET a hello EX 2')\n",
    "    print('* set key \"a\", result is: \"{}\"'.format(r))\n",
    "\n",
    "    r = run('GET a')\n",
    "    print('\\n* before timeout, the value of key \"a\" is: \"{}\"'.format(r))\n",
    "    \n",
    "    time.sleep(2)\n",
    "    \n",
    "    r = run('GET a')\n",
    "    print('* after timeout, the value of key \"a\" is: \"{}\"'.format(r))\n",
    "finally:\n",
    "    r = run('DEL a')"
   ]
  },
  {
   "cell_type": "markdown",
   "metadata": {},
   "source": [
    "- `PSETEX key milliseconds value` (Deprecated)"
   ]
  },
  {
   "cell_type": "code",
   "execution_count": null,
   "metadata": {},
   "outputs": [],
   "source": [
    "import time\n",
    "\n",
    "try:\n",
    "    r = run('PSETEX a 2000 hello')\n",
    "    print('* set key \"a\", result is: \"{}\"'.format(r))\n",
    "\n",
    "    r = run('GET a')\n",
    "    print('\\n* before timeout, the value of key \"a\" is: \"{}\"'.format(r))\n",
    "    \n",
    "    time.sleep(2)\n",
    "    \n",
    "    r = run('GET a')\n",
    "    print('* after timeout, the value of key \"a\" is: \"{}\"'.format(r))\n",
    "finally:\n",
    "    r = run('DEL a')"
   ]
  },
  {
   "cell_type": "markdown",
   "metadata": {},
   "source": [
    "- `SET key value PX milliseconds`"
   ]
  },
  {
   "cell_type": "code",
   "execution_count": null,
   "metadata": {},
   "outputs": [],
   "source": [
    "import time\n",
    "\n",
    "try:\n",
    "    r = run('SET a hello PX 2000')\n",
    "    print('* set key \"a\", result is: \"{}\"'.format(r))\n",
    "\n",
    "    r = run('GET a')\n",
    "    print('\\n* before timeout, the value of key \"a\" is: \"{}\"'.format(r))\n",
    "    \n",
    "    time.sleep(2)\n",
    "    \n",
    "    r = run('GET a')\n",
    "    print('* after timeout, the value of key \"a\" is: \"{}\"'.format(r))\n",
    "finally:\n",
    "    r = run('DEL a')"
   ]
  },
  {
   "cell_type": "markdown",
   "metadata": {},
   "source": [
    "### 1.5. Set key if it exist or not exist"
   ]
  },
  {
   "cell_type": "markdown",
   "metadata": {},
   "source": [
    "#### 1.5.1. Set key if it not exist\n",
    "\n",
    "- `SETNX key value` (Deprecated)"
   ]
  },
  {
   "cell_type": "code",
   "execution_count": null,
   "metadata": {},
   "outputs": [],
   "source": [
    "try:\n",
    "    r = run('SETNX a hello')\n",
    "    print('* set key \"a\", result is: \"{}\"'.format(r))\n",
    "    \n",
    "    r = run('GET a')\n",
    "    print('* before \"setnx\", the value of key \"a\" is: \"{}\"'.format(r))\n",
    "    \n",
    "    r = run('SETNX a world')\n",
    "    print('\\n* set key \"a\" again, result is: \"{}\"'.format(r))\n",
    "    \n",
    "    r = run('GET a')\n",
    "    print('* after \"setnx\", the value of key \"a\" is: \"{}\"'.format(r))\n",
    "finally:\n",
    "    r = run('DEL a')"
   ]
  },
  {
   "cell_type": "markdown",
   "metadata": {},
   "source": [
    "- `SET key value NX`"
   ]
  },
  {
   "cell_type": "code",
   "execution_count": null,
   "metadata": {},
   "outputs": [],
   "source": [
    "try:\n",
    "    r = run('SET a hello NX')\n",
    "    print('* set key \"a\", result is: \"{}\"'.format(r))\n",
    "    \n",
    "    r = run('GET a')\n",
    "    print('* before \"set ... nx\", the value of key \"a\" is: \"{}\"'.format(r))\n",
    "    \n",
    "    r = run('SET a world NX')\n",
    "    print('\\n* set key \"a\" again, result is: \"{}\"'.format(r))\n",
    "    \n",
    "    r = run('GET a')\n",
    "    print('* after \"set ... nx\", the value of key \"a\" is: \"{}\"'.format(r))\n",
    "finally:\n",
    "    r = run('DEL a')"
   ]
  },
  {
   "cell_type": "markdown",
   "metadata": {},
   "source": [
    "#### 1.5.2. Set key if it exist\n",
    "\n",
    "- `SET key value XX`"
   ]
  },
  {
   "cell_type": "code",
   "execution_count": null,
   "metadata": {},
   "outputs": [],
   "source": [
    "try:\n",
    "    r = run('SET a hello XX')\n",
    "    print('* before key \"a\" exist, \"set ... xx\", result is: \"{}\"'.format(r))\n",
    "    \n",
    "    r = run('GET a')\n",
    "    print('* the value of key \"a\" is: \"{}\"'.format(r))\n",
    "    \n",
    "    r = run('SET a hello')\n",
    "    print('\\n* set key \"a\", result is: \"{}\"'.format(r))\n",
    "    \n",
    "    r = run('GET a')\n",
    "    print('* the value of key \"a\" is: \"{}\"'.format(r))\n",
    "    \n",
    "    r = run('SET a world XX')\n",
    "    print('\\n* after key \"a\" exist, \"set ... xx\", result is: \"{}\"'.format(r))\n",
    "    \n",
    "    r = run('GET a')\n",
    "    print('* after \"set ... xx\", the value of key \"a\" is: \"{}\"'.format(r))\n",
    "finally:\n",
    "    r = run('DEL a')"
   ]
  },
  {
   "cell_type": "markdown",
   "metadata": {},
   "source": [
    "### 1.6. Get length of string value\n",
    "\n",
    "- `STRLEN key` => `len(value)`"
   ]
  },
  {
   "cell_type": "code",
   "execution_count": null,
   "metadata": {},
   "outputs": [],
   "source": [
    "try:\n",
    "    r = run('SET a hello')\n",
    "    print('* set key \"a\", result is: \"{}\"'.format(r))\n",
    "    \n",
    "    r = run('GET a')\n",
    "    print('* the value of key \"a\" is: \"{}\"'.format(r))\n",
    "    \n",
    "    r = run('STRLEN a')\n",
    "    print('* the value length of key \"a\" is: {}'.format(r))\n",
    "finally:\n",
    "    r = run('DEL a')"
   ]
  },
  {
   "cell_type": "markdown",
   "metadata": {},
   "source": [
    "### 1.7. Append content\n",
    "\n",
    "- `APPEND key value` => `len(value)`"
   ]
  },
  {
   "cell_type": "code",
   "execution_count": null,
   "metadata": {},
   "outputs": [],
   "source": [
    "try:\n",
    "    r = run('APPEND a hello')\n",
    "    print('* when key \"a\" not exist, append result is: {}'.format(r))\n",
    "    \n",
    "    r = run('GET a')\n",
    "    print('* the value of key a is: \"{}\"'.format(r))\n",
    "    \n",
    "    r = run('APPEND a world')\n",
    "    print('\\n* when key \"a\" exist, append result is: {}'.format(r))\n",
    "    \n",
    "    r = run('GET a')\n",
    "    print('* the value of key \"a\" is: \"{}\"'.format(r))\n",
    "finally:\n",
    "    r = run('DEL a')"
   ]
  },
  {
   "cell_type": "markdown",
   "metadata": {},
   "source": [
    "### 1.8. Set range in value\n",
    "\n",
    "- `SETRANGE key offset value` => `len(value)`"
   ]
  },
  {
   "cell_type": "code",
   "execution_count": null,
   "metadata": {},
   "outputs": [],
   "source": [
    "try:\n",
    "    r = run('SET a hello-world')\n",
    "    print('* set key \"a\", result is: {}'.format(r))\n",
    "    \n",
    "    r = run('GET a')\n",
    "    print('* the value of key a is: \"{}\"'.format(r))\n",
    "    \n",
    "    r = run('SETRANGE a 6 Redis')\n",
    "    print('\\n* set range of key \"a\", result is: {}'.format(r))\n",
    "    \n",
    "    r = run('GET a')\n",
    "    print('* the value of key \"a\" is: \"{}\"'.format(r))\n",
    "finally:\n",
    "    r = run('DEL a')"
   ]
  }
 ],
 "metadata": {
  "kernelspec": {
   "display_name": "Python 3",
   "language": "python",
   "name": "python3"
  },
  "language_info": {
   "codemirror_mode": {
    "name": "ipython",
    "version": 3
   },
   "file_extension": ".py",
   "mimetype": "text/x-python",
   "name": "python",
   "nbconvert_exporter": "python",
   "pygments_lexer": "ipython3",
   "version": "3.8.2"
  }
 },
 "nbformat": 4,
 "nbformat_minor": 4
}
