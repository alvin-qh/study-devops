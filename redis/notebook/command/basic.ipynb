{
 "cells": [
  {
   "cell_type": "code",
   "execution_count": 3,
   "metadata": {},
   "outputs": [
    {
     "data": {
      "text/html": [
       "PONG"
      ],
      "text/plain": [
       "PONG"
      ]
     },
     "metadata": {},
     "output_type": "display_data",
     "source": "kernel"
    }
   ],
   "source": [
    "ping"
   ]
  },
  {
   "cell_type": "code",
   "execution_count": 2,
   "metadata": {},
   "outputs": [
    {
     "data": {
      "text/html": [
       "loglevel",
       "notice"
      ],
      "text/plain": [
       "loglevel",
       "notice"
      ]
     },
     "metadata": {},
     "output_type": "display_data",
     "source": "kernel"
    }
   ],
   "source": [
    "config get loglevel"
   ]
  },
  {
   "cell_type": "code",
   "execution_count": null,
   "metadata": {},
   "outputs": [],
   "source": [
    "config get *"
   ]
  }
 ],
 "metadata": {
  "kernelspec": {
   "display_name": "Redis",
   "language": "redis",
   "name": "redis"
  },
  "language_info": {
   "file_extension": ".txt",
   "mimetype": "text",
   "name": "redis_kernel",
   "version": "0.5.2"
  }
 },
 "nbformat": 4,
 "nbformat_minor": 4
}
