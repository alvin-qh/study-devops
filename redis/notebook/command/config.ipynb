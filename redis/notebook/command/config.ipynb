{
 "cells": [
  {
   "cell_type": "code",
   "execution_count": null,
   "metadata": {},
   "outputs": [],
   "source": [
    "import redis\n",
    "\n",
    "rd = redis.Redis(host='localhost', port=6379, db=0, decode_responses=True)\n",
    "\n",
    "def send_command(cmd):\n",
    "    conn = rd.connection or rd.connection_pool.get_connection(cmd)\n",
    "    conn.send_command(cmd)\n",
    "    return conn.read_response()\n",
    "\n",
    "def run(cmd):\n",
    "    return send_command(cmd)"
   ]
  },
  {
   "cell_type": "code",
   "execution_count": null,
   "metadata": {},
   "outputs": [],
   "source": [
    "config get *"
   ]
  },
  {
   "cell_type": "code",
   "execution_count": null,
   "metadata": {},
   "outputs": [],
   "source": [
    "config set loglevel \"notice\"\n",
    "config get loglevel"
   ]
  }
 ],
 "metadata": {
  "kernelspec": {
   "display_name": "Redis",
   "language": "redis",
   "name": "redis"
  },
  "language_info": {
   "file_extension": ".txt",
   "mimetype": "text",
   "name": "redis_kernel",
   "version": "0.5.2"
  }
 },
 "nbformat": 4,
 "nbformat_minor": 4
}
