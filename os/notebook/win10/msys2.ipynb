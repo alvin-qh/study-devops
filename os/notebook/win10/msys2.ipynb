{
 "cells": [
  {
   "cell_type": "markdown",
   "metadata": {},
   "source": [
    "# MSYS2"
   ]
  },
  {
   "cell_type": "markdown",
   "metadata": {},
   "source": [
    "## 1. Install"
   ]
  },
  {
   "cell_type": "markdown",
   "metadata": {},
   "source": [
    "### 1.1. Download and install\n",
    "\n",
    "- Download binary package from [Offical](https://www.msys2.org/)\n",
    "- Install"
   ]
  },
  {
   "cell_type": "markdown",
   "metadata": {},
   "source": [
    "### 1.2. Start in CMD prompt"
   ]
  },
  {
   "cell_type": "code",
   "execution_count": null,
   "metadata": {},
   "outputs": [],
   "source": [
    "C:/msys64/msys2_shell.cmd -defterm -no-start -mingw64"
   ]
  },
  {
   "cell_type": "markdown",
   "metadata": {},
   "source": [
    "## 2. Pacman"
   ]
  },
  {
   "cell_type": "markdown",
   "metadata": {},
   "source": [
    "### 2.1. Change source list\n",
    "\n",
    "- Edit `/etc/pacman.d/mirrorlist.mingw32`, add\n",
    "    ```\n",
    "    Server = http://mirrors.ustc.edu.cn/msys2/mingw/i686\n",
    "    ```\n",
    "- Edit `/etc/pacman.d/mirrorlist.mingw64`, add\n",
    "    ```\n",
    "    Server = http://mirrors.ustc.edu.cn/msys2/mingw/x86_64\n",
    "    ```\n",
    "- Edit `/etc/pacman.d/mirrorlist.msys`, add\n",
    "    ```\n",
    "    Server = http://mirrors.ustc.edu.cn/msys2/msys/$arch\n",
    "    ```"
   ]
  },
  {
   "cell_type": "markdown",
   "metadata": {},
   "source": [
    "### 2.2. Update packages"
   ]
  },
  {
   "cell_type": "code",
   "execution_count": null,
   "metadata": {},
   "outputs": [],
   "source": [
    "pacman -Syu"
   ]
  },
  {
   "cell_type": "markdown",
   "metadata": {},
   "source": [
    "### 2.3. Use pacman"
   ]
  },
  {
   "cell_type": "markdown",
   "metadata": {},
   "source": [
    "#### 2.3.1. Install package"
   ]
  },
  {
   "cell_type": "code",
   "execution_count": null,
   "metadata": {},
   "outputs": [],
   "source": [
    "pacman -S <package name>"
   ]
  },
  {
   "cell_type": "markdown",
   "metadata": {},
   "source": [
    "#### 2.3.2. Remove package"
   ]
  },
  {
   "cell_type": "code",
   "execution_count": null,
   "metadata": {},
   "outputs": [],
   "source": [
    "pacman -Rs <package name>"
   ]
  },
  {
   "cell_type": "markdown",
   "metadata": {},
   "source": [
    "#### 2.3.3. 清理软件包"
   ]
  },
  {
   "cell_type": "code",
   "execution_count": null,
   "metadata": {},
   "outputs": [],
   "source": [
    "pacman -Sc"
   ]
  },
  {
   "cell_type": "markdown",
   "metadata": {},
   "source": [
    "#### 2.3.4. Install gcc toolchain"
   ]
  },
  {
   "cell_type": "code",
   "execution_count": null,
   "metadata": {},
   "outputs": [],
   "source": [
    "pacman -S mingw-w64-x86_64-toolchain libraries development compression sys-utils net-utils msys2-devel mingw-w64-x86_64-cmake"
   ]
  },
  {
   "cell_type": "markdown",
   "metadata": {},
   "source": [
    "## 3. GIT"
   ]
  },
  {
   "cell_type": "markdown",
   "metadata": {},
   "source": [
    "### 3.1. Generate ssh key"
   ]
  },
  {
   "cell_type": "code",
   "execution_count": null,
   "metadata": {},
   "outputs": [],
   "source": [
    "ssh-keygen -t rsa -C \"quhao317@163.com“"
   ]
  },
  {
   "cell_type": "markdown",
   "metadata": {},
   "source": [
    "### 3.2. Config git"
   ]
  },
  {
   "cell_type": "markdown",
   "metadata": {},
   "source": [
    "#### 3.2.1. Set user info "
   ]
  },
  {
   "cell_type": "code",
   "execution_count": null,
   "metadata": {},
   "outputs": [],
   "source": [
    "git config --global user.name \"alvin\"\n",
    "git config --global user.email \"quhao317@163.com\""
   ]
  },
  {
   "cell_type": "markdown",
   "metadata": {},
   "source": [
    "## 4. PYTHON "
   ]
  },
  {
   "cell_type": "markdown",
   "metadata": {},
   "source": [
    "### 4.1. Install python for windows\n",
    "\n",
    "1. Download python installer file from [Python Release for Windows](https://www.python.org/downloads/windows/)\n",
    "2. Install without set environment variables\n",
    "\n",
    "For example, two versions of python should be installed:\n",
    "- `python-3.7.6-amd64.exe`: Install at `C:\\Users\\<user name>\\Apps\\Python37`\n",
    "- `python-3.8.1-amd64.exe`: Install at `C:\\Users\\<user name>\\Apps\\Python38`"
   ]
  },
  {
   "cell_type": "markdown",
   "metadata": {},
   "source": [
    "### 4.2. Set python enviro"
   ]
  },
  {
   "cell_type": "markdown",
   "metadata": {},
   "source": [
    "1. Add the following contents in `~/.bashrc`:\n",
    "\n",
    "```bash\n",
    "export PY37_HOME=<python3.7 install path>\n",
    "export PY38_HOME=<python3.8 install path>\n",
    "\n",
    "export PATH=$PY38_HOME:$PY38_HOME/Scripts:$PATH\n",
    "\n",
    "alias py38='echo \"$PY38_HOME/python.exe\"'\n",
    "alias py37='echo \"$PY37_HOME/python.exe\"'\n",
    "```"
   ]
  },
  {
   "cell_type": "markdown",
   "metadata": {},
   "source": [
    "2. Set pip mirror site"
   ]
  },
  {
   "cell_type": "code",
   "execution_count": null,
   "metadata": {},
   "outputs": [],
   "source": [
    "pip config set global.index-url https://pypi.tuna.tsinghua.edu.cn/simple"
   ]
  },
  {
   "cell_type": "markdown",
   "metadata": {},
   "source": [
    "3. Install `virtualenv`"
   ]
  },
  {
   "cell_type": "code",
   "execution_count": null,
   "metadata": {},
   "outputs": [],
   "source": [
    "python -m pip install virtualenv"
   ]
  },
  {
   "cell_type": "markdown",
   "metadata": {},
   "source": [
    "4. Create virtualenv\n",
    "\n",
    "- Create virtualenv with current python"
   ]
  },
  {
   "cell_type": "code",
   "execution_count": null,
   "metadata": {},
   "outputs": [],
   "source": [
    "python -m venv .venv --prompt=<env name>"
   ]
  },
  {
   "cell_type": "markdown",
   "metadata": {},
   "source": [
    "- Create virtualenv with other python"
   ]
  },
  {
   "cell_type": "code",
   "execution_count": null,
   "metadata": {},
   "outputs": [],
   "source": [
    "virtualenv .venv --python=$(py37) --prompt=<env name>"
   ]
  },
  {
   "cell_type": "markdown",
   "metadata": {},
   "source": [
    "## 5. JAVA"
   ]
  },
  {
   "cell_type": "markdown",
   "metadata": {},
   "source": [
    "### 5.1. Install Java for windows\n",
    "\n",
    "1. Download two version of JDKs\n",
    "    - `open-jdk-13` from [here](https://jdk.java.net/13/): Install at `C:\\Users\\<user name>\\Apps\\jdk-13.0.2`\n",
    "    - `oracle-jdk-8` from [here](https://www.oracle.com/technetwork/java/javase/downloads/jdk8-downloads-2133151.html)：  Install at `C:\\Users\\<user name>\\Apps\\jdk1.8.0_241`"
   ]
  },
  {
   "cell_type": "markdown",
   "metadata": {},
   "source": [
    "### 5.2. Set Java environment in MSYS2"
   ]
  },
  {
   "cell_type": "markdown",
   "metadata": {},
   "source": [
    "1. Add the following contents in `~/.bashrc`:\n",
    "\n",
    "```bash\n",
    "export JAVA8_HOME=<jdk8 install path>\n",
    "export JAVA13_HOME=<jdk13 install path>\n",
    "export JAVA_HOME=$JAVA8_HOME\n",
    "\n",
    "export PATH=$PATH:$JAVA_HOME/bin\n",
    "```"
   ]
  },
  {
   "cell_type": "markdown",
   "metadata": {},
   "source": [
    "2. Change current JDK\n",
    "\n",
    "    Edit `~/.bashrc` and change\n",
    "\n",
    "    ```bash\n",
    "    export JAVA_HOME=$JAVA13_HOME\n",
    "    ```"
   ]
  },
  {
   "cell_type": "markdown",
   "metadata": {},
   "source": [
    "## 6. GRADLE"
   ]
  },
  {
   "cell_type": "markdown",
   "metadata": {},
   "source": [
    "### 6.1. Download and install\n",
    "\n",
    "1. Download gradle binary-only from [here](https://gradle.org/releases/)\n",
    "2. Uncompress package into `C:\\Users\\<user name>\\Apps\\gradle-6.1.1`"
   ]
  },
  {
   "cell_type": "markdown",
   "metadata": {},
   "source": [
    "### 6.2. Set Gradle environment in MSYS2\n",
    "\n",
    "Add the following contents in `~/.bashrc`:\n",
    "\n",
    "```bash\n",
    "WIN_HOME=\"/c/Users/<user name>\"\n",
    "\n",
    "export GRADLE_HOME=\"$WIN_HOME/Apps/gradle-6.1.1\"\n",
    "\n",
    "export PATH=$PATH:$GRADLE_HOME/bin\n",
    "```"
   ]
  },
  {
   "cell_type": "markdown",
   "metadata": {},
   "source": [
    "## 7. NVM"
   ]
  },
  {
   "cell_type": "markdown",
   "metadata": {},
   "source": [
    "### 7.1. Download and install\n",
    "\n",
    "- Visit 'NVM-Windows' [download page](https://github.com/coreybutler/nvm-windows/releases)\n",
    "- Download `nvm-setup.zip` file and install it at `C:\\Users\\<user name>\\Apps\\nvm`"
   ]
  },
  {
   "cell_type": "markdown",
   "metadata": {},
   "source": [
    "### 7.2. Set NVM environment in MSYS2\n",
    "\n",
    "Add the following contents in `~/.bashrc`:\n",
    "\n",
    "```bash\n",
    "WIN_PRO=\"/c/Program Files\"\n",
    "\n",
    "export NVM_HOME=<nvm install path>\n",
    "export NODE_HOME=\"$WIN_PRO/nodejs\"\n",
    "\n",
    "export PATH=$PATH:$NVM_HOME:$NODE_HOME\n",
    "```"
   ]
  },
  {
   "cell_type": "markdown",
   "metadata": {},
   "source": [
    "### 7.3. Install and use node.js"
   ]
  },
  {
   "cell_type": "markdown",
   "metadata": {},
   "source": [
    "- Install node.js"
   ]
  },
  {
   "cell_type": "markdown",
   "metadata": {},
   "source": [
    "nvm install 12.14.1"
   ]
  },
  {
   "cell_type": "markdown",
   "metadata": {},
   "source": [
    "- Change node.js version"
   ]
  },
  {
   "cell_type": "markdown",
   "metadata": {},
   "source": [
    "nvm use 12.14.1"
   ]
  },
  {
   "cell_type": "markdown",
   "metadata": {},
   "source": [
    "## 8. MISC "
   ]
  },
  {
   "cell_type": "markdown",
   "metadata": {},
   "source": [
    "### 8.1. Use Sublime Text 3\n",
    "\n",
    "- Download from [here](https://www.sublimetext.com/3) and install it\n",
    "- Edit `~/.bashrc` and add the following contents:\n",
    "\n",
    "    ```bash\n",
    "    alias subl='\"/c/Program Files/Sublime Text 3/subl.exe\"'\n",
    "    ```"
   ]
  },
  {
   "cell_type": "markdown",
   "metadata": {},
   "source": [
    "### 8.2. VSCode\n",
    "\n",
    "- Download [here](https://code.visualstudio.com/download) and install it\n",
    "- Edit `~/.bashrc` and add the following contents:\n",
    "\n",
    "    ```bash\n",
    "    alias code='\"$WIN_HOME/AppData/Local/Programs/Microsoft VS Code/bin/code\"'\n",
    "    ```"
   ]
  },
  {
   "cell_type": "markdown",
   "metadata": {},
   "source": [
    "### 8.3. PhantomJS\n",
    "\n",
    "- Download `.zip` package from [here](https://phantomjs.org/download.html);\n",
    "- Uncomparess the `.zip` file to `C:\\Users\\<user name>\\Apps\\phantomjs-2.1.1`;\n",
    "- Add the `<phantomjs install folder>/bin` into path environment variable"
   ]
  },
  {
   "cell_type": "markdown",
   "metadata": {},
   "source": [
    "## Appendix: The complete `~/.bashrc` may like the following "
   ]
  },
  {
   "cell_type": "markdown",
   "metadata": {},
   "source": [
    "```bash\n",
    "PATH=\"/mingw64/bin\":\"/usr/local/bin\":\"/usr/bin:/bin\":\"/c/Windows/System32\":\"/c/Windows\":\"/c/Windows/System32/Wbem\":\"/c/Windows/System32/WindowsPowerShell/v1.0/\":\"/usr/bin/site_perl\":\"/usr/bin/vendor_perl\":\"/usr/bin/core_perl\"\n",
    "\n",
    "WIN_HOME=\"/c/Users/alvin\"\n",
    "WIN_PRO=\"/c/Program Files\"\n",
    "\n",
    "export JAVA8_HOME=\"$WIN_HOME/Apps/jdk1.8.0_241\"\n",
    "export JAVA13_HOME=\"$WIN_HOME/Apps/jdk-13.0.2\"\n",
    "export JAVA_HOME=$JAVA8_HOME\n",
    "export GRADLE_HOME=\"$WIN_HOME/Apps/gradle-6.1.1\"\n",
    "export CHOCO_HOME=\"/c/ProgramData/chocolatey\"\n",
    "export PY37_HOME=\"$WIN_HOME/Apps/python37\"\n",
    "export PY38_HOME=\"$WIN_HOME/Apps/python38\"\n",
    "export NVM_HOME=\"$WIN_HOME/Apps/nvm\"\n",
    "export NODE_HOME=\"$WIN_PRO/nodejs\"\n",
    "export PHANTOM_JS_HOME=\"$WIN_HOME/Apps/phantomjs-2.1.1\"\n",
    "\n",
    "export PATH=$PY38_HOME:$PY38_HOME/Scripts:$PATH:$JAVA_HOME/bin:$GRADLE_HOME/bin:$CHOCO_HOME/bin:$NVM_HOME:$NODE_HOME:$PHANTOM_JS_HOME/bin\n",
    "\n",
    "\n",
    "alias gradle=gradle.bat\n",
    "alias py38='echo \"$PY38_HOME/python.exe\"'\n",
    "alias py37='echo \"$PY37_HOME/python.exe\"'\n",
    "alias subl='\"/c/Program Files/Sublime Text 3/subl.exe\"'\n",
    "alias code='\"$WIN_HOME/AppData/Local/Programs/Microsoft VS Code/bin/code\"'\n",
    "```"
   ]
  }
 ],
 "metadata": {
  "kernelspec": {
   "display_name": "Bash",
   "language": "bash",
   "name": "bash"
  },
  "language_info": {
   "codemirror_mode": "shell",
   "file_extension": ".sh",
   "mimetype": "text/x-sh",
   "name": "bash"
  }
 },
 "nbformat": 4,
 "nbformat_minor": 4
}
