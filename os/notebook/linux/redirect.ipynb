{
 "cells": [
  {
   "cell_type": "markdown",
   "metadata": {},
   "source": [
    "# IO Redirect"
   ]
  },
  {
   "cell_type": "markdown",
   "metadata": {},
   "source": [
    "## 1. Pipe"
   ]
  },
  {
   "cell_type": "markdown",
   "metadata": {},
   "source": [
    "### 1.1. To file"
   ]
  },
  {
   "cell_type": "markdown",
   "metadata": {},
   "source": [
    "#### 1.1.1 Replace file content"
   ]
  },
  {
   "cell_type": "code",
   "execution_count": null,
   "metadata": {},
   "outputs": [],
   "source": [
    "ls -alh > file.txt\n",
    "\n",
    "echo \"* write file infos into file\"\n",
    "cat file.txt"
   ]
  },
  {
   "cell_type": "code",
   "execution_count": 9,
   "metadata": {},
   "outputs": [
    {
     "name": "stdout",
     "output_type": "stream",
     "text": [
      "total 72K\n",
      "drwxr-xr-x 3 alvin alvin 4.0K Jul 13 23:22 .\n",
      "drwxr-xr-x 5 alvin alvin 4.0K Jun 21 11:55 ..\n",
      "-rw-r--r-- 1 alvin alvin 4.7K Jun 27 23:42 datetime.ipynb\n",
      "-rw-r--r-- 1 alvin alvin    0 Jul 13 23:23 file.txt\n",
      "drwxr-xr-x 2 alvin alvin 4.0K Jul 13 23:20 .ipynb_checkpoints\n",
      "-rw-r--r-- 1 alvin alvin 7.6K Jun 27 23:50 limits.ipynb\n",
      "-rw-r--r-- 1 alvin alvin  20K Jun 27 23:19 logic.ipynb\n",
      "-rw-r--r-- 1 alvin alvin 3.4K Jun 27 23:43 misc.ipynb\n",
      "-rw-r--r-- 1 alvin alvin  410 Jun 21 19:05 network.ipynb\n",
      "-rw-r--r-- 1 alvin alvin 7.3K Jul 11 22:13 process.ipynb\n",
      "-rw-r--r-- 1 alvin alvin  599 Jul 13 23:21 redirect.ipynb\n",
      "-rw-r--r-- 1 alvin alvin 3.1K Jul 13 23:21 text.ipynb\n",
      "new line\n",
      "new line\n",
      "new line\n"
     ]
    }
   ],
   "source": [
    "echo 'new line' >> file.txt\n",
    "cat file.txt"
   ]
  },
  {
   "cell_type": "code",
   "execution_count": 2,
   "metadata": {},
   "outputs": [],
   "source": [
    "cat /dev/null > file.txt\n",
    "cat file.txt"
   ]
  },
  {
   "cell_type": "code",
   "execution_count": 3,
   "metadata": {},
   "outputs": [],
   "source": [
    "rm file.txt"
   ]
  }
 ],
 "metadata": {
  "kernelspec": {
   "display_name": "Bash",
   "language": "bash",
   "name": "bash"
  },
  "language_info": {
   "codemirror_mode": "shell",
   "file_extension": ".sh",
   "mimetype": "text/x-sh",
   "name": "bash"
  }
 },
 "nbformat": 4,
 "nbformat_minor": 4
}
