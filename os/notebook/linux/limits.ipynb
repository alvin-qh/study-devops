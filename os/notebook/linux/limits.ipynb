{
 "cells": [
  {
   "cell_type": "markdown",
   "metadata": {},
   "source": [
    "# Limits"
   ]
  },
  {
   "cell_type": "markdown",
   "metadata": {},
   "source": [
    "## 1. Resources limits"
   ]
  },
  {
   "cell_type": "markdown",
   "metadata": {},
   "source": [
    "### 1.1. User resources limits\n",
    "\n",
    "- The main config file is: `/etc/security/limits.conf`\n",
    "- Also include all `.conf` file in `/etc/security/limits.d/`"
   ]
  },
  {
   "cell_type": "code",
   "execution_count": null,
   "metadata": {},
   "outputs": [],
   "source": [
    "echo \"* limits config are: \"\n",
    "cat /etc/security/limits.conf"
   ]
  },
  {
   "cell_type": "markdown",
   "metadata": {},
   "source": [
    "#### 1.1.1. `ulimit` command"
   ]
  },
  {
   "cell_type": "code",
   "execution_count": null,
   "metadata": {},
   "outputs": [],
   "source": [
    "echo '* current user resources limit is: '\n",
    "ulimit\n",
    "\n",
    "echo -e '\\n* hard resources with open file(-n) and max process(-u) limits are: '\n",
    "ulimit -H -n -u\n",
    "\n",
    "echo -e '\\n* soft resources with open file(-n) and max process(-u) limits are: '\n",
    "ulimit -S -n -u\n",
    "\n",
    "echo -e '\\n* all resources limit is: '\n",
    "ulimit -a"
   ]
  },
  {
   "cell_type": "markdown",
   "metadata": {},
   "source": [
    "### 1.2. Service resources limits\n",
    "\n",
    "- For system services, the config files include `/etc/systemd/system.conf` and all files as `/etc/systemd/system.conf.d/*.conf`\n",
    "- For user services,  the config files include `/etc/systemd/user.conf` and all files as `/etc/systemd/user.conf.d/*.conf`"
   ]
  },
  {
   "cell_type": "code",
   "execution_count": null,
   "metadata": {},
   "outputs": [],
   "source": [
    "echo '* system services resources limit is: '\n",
    "cat /etc/systemd/system.conf\n",
    "\n",
    "echo -e '\\n* user services resources limit is: '\n",
    "cat /etc/systemd/user.conf"
   ]
  },
  {
   "cell_type": "markdown",
   "metadata": {},
   "source": [
    "#### 1.2.1. Get service resources limits"
   ]
  },
  {
   "cell_type": "code",
   "execution_count": null,
   "metadata": {},
   "outputs": [],
   "source": [
    "echo -e '* the resources limits of docker service are: '\n",
    "cat /proc/$(cat /run/docker.pid)/limits"
   ]
  },
  {
   "cell_type": "markdown",
   "metadata": {},
   "source": [
    "- The content format is:\n",
    "    ```\n",
    "    {user}   {soft/hard}   {resource_type}   {limit_value}\n",
    "    ```\n",
    "- 'soft' is warning value, 'hard' is max value"
   ]
  },
  {
   "cell_type": "markdown",
   "metadata": {},
   "source": [
    "### 1.3. Process limits"
   ]
  },
  {
   "cell_type": "markdown",
   "metadata": {},
   "source": [
    "#### 1.3.1. User process limits\n",
    "\n",
    "- Edit `/etc/security/limits.d/20-nproc.conf` file\n",
    "- Set process limit for user\n",
    "\n",
    "```ini\n",
    "# Default limit for number of user's processes to prevent\n",
    "# accidental fork bombs|.\n",
    "# See rhbz #432903 for reasoning.\n",
    "\n",
    "* soft nproc 2048\n",
    "* hard nproc 4096\n",
    "\n",
    "# Set process limits for root user\n",
    "root soft nproc 65535\n",
    "root hard nproc 65535\n",
    "```"
   ]
  },
  {
   "cell_type": "code",
   "execution_count": null,
   "metadata": {},
   "outputs": [],
   "source": [
    "echo '* The user process limits config are: '\n",
    "cat /etc/security/limits.d/20-nproc.conf | grep nproc"
   ]
  },
  {
   "cell_type": "markdown",
   "metadata": {},
   "source": [
    "#### 1.3.2. Service process limits\n",
    "\n",
    "- Edit `/etc/systemd/system.conf` (or `/etc/systemd/user.conf`) file\n",
    "- Set `DefaultLimitNPROC=65535`\n",
    "- Reload systemd\n",
    "- Restart service"
   ]
  },
  {
   "cell_type": "code",
   "execution_count": null,
   "metadata": {},
   "outputs": [],
   "source": [
    "echo '* The system service process limits config is: '\n",
    "cat /etc/systemd/system.conf | grep DefaultLimitNPROC\n",
    "\n",
    "# Set DefaultLimitNPROC=65535\n",
    "\n",
    "echo -e '\\n* reload systemd: '\n",
    "sudo systemctl daemon-reload\n",
    "\n",
    "echo -e '\\n* restart service: '\n",
    "systemctl restart docker.service"
   ]
  },
  {
   "cell_type": "markdown",
   "metadata": {},
   "source": [
    "#### 1.3.3. System process limits"
   ]
  },
  {
   "cell_type": "markdown",
   "metadata": {},
   "source": [
    "##### 1.3.3.1. Show system process limits"
   ]
  },
  {
   "cell_type": "code",
   "execution_count": null,
   "metadata": {},
   "outputs": [],
   "source": [
    "echo '* the system process limits: '\n",
    "cat /proc/sys/kernel/pid_max\n",
    "\n",
    "echo -e '\\n* the system process limits: '\n",
    "sysctl kernel.pid_max"
   ]
  },
  {
   "cell_type": "markdown",
   "metadata": {},
   "source": [
    "##### 1.3.3.2. Modify system process limits\n",
    "\n",
    "- Temporary modifications"
   ]
  },
  {
   "cell_type": "code",
   "execution_count": null,
   "metadata": {},
   "outputs": [],
   "source": [
    "sudo echo 65535 > /proc/sys/kernel/pid_max"
   ]
  },
  {
   "cell_type": "markdown",
   "metadata": {},
   "source": [
    "- Forever modifications"
   ]
  },
  {
   "cell_type": "code",
   "execution_count": null,
   "metadata": {},
   "outputs": [],
   "source": [
    "sudo echo \"kernel.pid_max=65535\" >> /etc/sysctl.conf"
   ]
  },
  {
   "cell_type": "markdown",
   "metadata": {},
   "source": [
    "### 1.4. File handle limits"
   ]
  },
  {
   "cell_type": "markdown",
   "metadata": {},
   "source": [
    "#### 1.4.1. User file handle limits\n",
    "\n",
    "- Edit `/etc/security/limits.conf` file\n",
    "- Set nofile limit for user\n",
    "\n",
    "```ini\n",
    "# Default limit for number of user's processes to prevent\n",
    "# accidental fork bombs.\n",
    "# See rhbz #432903 for reasoning.\n",
    "\n",
    "* soft nofile 65535 \n",
    "* hard nofile 65535\n",
    "```"
   ]
  },
  {
   "cell_type": "code",
   "execution_count": null,
   "metadata": {},
   "outputs": [],
   "source": [
    "echo '* the user open file limits are:'\n",
    "cat /etc/security/limits.conf | grep nofile"
   ]
  },
  {
   "cell_type": "markdown",
   "metadata": {},
   "source": [
    "#### 1.4.2. Service file handle limits\n",
    "\n",
    "- Edit `/etc/systemd/system.conf` (or `/etc/systemd/user.conf`) file\n",
    "- Set `DefaultLimitNOFILE=65535`\n",
    "- Reload systemd\n",
    "- Restart service"
   ]
  },
  {
   "cell_type": "code",
   "execution_count": null,
   "metadata": {},
   "outputs": [],
   "source": [
    "echo '* modify system service open file limits: '\n",
    "sudo sed -i \"s/#DefaultLimitNOFILE=/DefaultLimitNOFILE=655350/g\" /etc/systemd/system.conf\n",
    "\n",
    "echo '* the system service open file limits are: '\n",
    "cat /etc/systemd/system.conf | grep DefaultLimitNOFILE"
   ]
  },
  {
   "cell_type": "markdown",
   "metadata": {},
   "source": [
    "#### 1.4.3. System file handle limits"
   ]
  },
  {
   "cell_type": "code",
   "execution_count": null,
   "metadata": {},
   "outputs": [],
   "source": [
    "echo '* modify system open file limits: '\n",
    "echo 6553560 > /proc/sys/fs/file-max\n",
    "\n",
    "echo -e '\\n* the system open file limits is: '\n",
    "cat /proc/sys/fs/file-nr"
   ]
  }
 ],
 "metadata": {
  "kernelspec": {
   "display_name": "Bash",
   "language": "bash",
   "name": "bash"
  },
  "language_info": {
   "codemirror_mode": "shell",
   "file_extension": ".sh",
   "mimetype": "text/x-sh",
   "name": "bash"
  }
 },
 "nbformat": 4,
 "nbformat_minor": 4
}
