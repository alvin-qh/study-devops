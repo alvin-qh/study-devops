{
 "cells": [
  {
   "cell_type": "markdown",
   "metadata": {},
   "source": [
    "# Network"
   ]
  },
  {
   "cell_type": "markdown",
   "metadata": {},
   "source": [
    "## 1. Hostname"
   ]
  },
  {
   "cell_type": "markdown",
   "metadata": {},
   "source": [
    "### 1.1. Show hostname"
   ]
  },
  {
   "cell_type": "code",
   "execution_count": null,
   "metadata": {},
   "outputs": [],
   "source": [
    "hostname"
   ]
  },
  {
   "cell_type": "markdown",
   "metadata": {},
   "source": [
    "### 1.2. Modify hostname\n",
    "\n",
    "hostname 有三种类型：`static`, `pretty`和`transient`\n",
    "- `static`: 传统主机名。它存储在`/etc/hostname`文件中，并且可以被用户设置\n",
    "- `pretty`: 一个自由形态的 UTF8 主机名，用来代表用户。例如：Linuxize's desktop\n",
    "- `transient`: 由 kernel 维护的动态主机名。在运行过程中，DHCP 或者 mDNS 服务器可以改变 transient 主机名。默认情况下，它和 static 主机名一样\n",
    "\n",
    "强烈推荐使用完整域名(FQDN)来设置 static 和 transient 名称，例如 `host.example.com`"
   ]
  },
  {
   "cell_type": "markdown",
   "metadata": {},
   "source": [
    "#### 1.2.1. Use hostnamectl command\n",
    "\n",
    "- Modify static hostname"
   ]
  },
  {
   "cell_type": "code",
   "execution_count": null,
   "metadata": {},
   "outputs": [],
   "source": [
    "sudo hostnamectl set-hostname host.example.com\n",
    "# Or\n",
    "sudo hostnamectl set-hostname host.example.com --static"
   ]
  },
  {
   "cell_type": "markdown",
   "metadata": {},
   "source": [
    "- Modify pretty hostname"
   ]
  },
  {
   "cell_type": "code",
   "execution_count": null,
   "metadata": {},
   "outputs": [],
   "source": [
    "sudo hostnamectl set-hostname \"pretty hostName\" --pretty"
   ]
  },
  {
   "cell_type": "markdown",
   "metadata": {},
   "source": [
    "- Modify pretty hostname"
   ]
  },
  {
   "cell_type": "code",
   "execution_count": null,
   "metadata": {},
   "outputs": [],
   "source": [
    "sudo hostnamectl set-hostname host.example.com --transient"
   ]
  },
  {
   "cell_type": "markdown",
   "metadata": {},
   "source": [
    "- Check hostname"
   ]
  },
  {
   "cell_type": "code",
   "execution_count": null,
   "metadata": {},
   "outputs": [],
   "source": [
    "sudo hostnamectl"
   ]
  },
  {
   "cell_type": "markdown",
   "metadata": {},
   "source": [
    "#### 1.2.2. Use `nmtui` command (CentOS)\n",
    "\n",
    "- Run command and choose 'Set system hostname' option"
   ]
  },
  {
   "cell_type": "code",
   "execution_count": null,
   "metadata": {},
   "outputs": [],
   "source": [
    "sudo nmtui"
   ]
  },
  {
   "cell_type": "markdown",
   "metadata": {},
   "source": [
    "- Restart systemd-hostnamed service"
   ]
  },
  {
   "cell_type": "code",
   "execution_count": null,
   "metadata": {},
   "outputs": [],
   "source": [
    "sudo systemctl restart systemd-hostnamed"
   ]
  },
  {
   "cell_type": "markdown",
   "metadata": {},
   "source": [
    "#### 1.2.3. Use `nmcli` command (CentOS)\n",
    "\n",
    "- Run command by `g hostname` option"
   ]
  },
  {
   "cell_type": "code",
   "execution_count": null,
   "metadata": {},
   "outputs": [],
   "source": [
    "sudo nmcli g hostname host.example.com"
   ]
  },
  {
   "cell_type": "markdown",
   "metadata": {},
   "source": [
    "- Restart systemd-hostnamed service"
   ]
  },
  {
   "cell_type": "code",
   "execution_count": null,
   "metadata": {},
   "outputs": [],
   "source": [
    "sudo systemctl restart systemd-hostnamed"
   ]
  },
  {
   "cell_type": "markdown",
   "metadata": {},
   "source": [
    "## 2. Set Network (IP, Gateway, DNS)"
   ]
  },
  {
   "cell_type": "markdown",
   "metadata": {},
   "source": [
    "### 2.1. Debain, Ubuntu\n",
    "\n",
    "- Edit `/etc/network/interfaces` file\n",
    "\n",
    "```\n",
    "# This file describes the network interfaces available on your system\n",
    "# and how to activate them. For more information, see interfaces(5).\n",
    "\n",
    "source /etc/network/interfaces.d/*\n",
    "\n",
    "# The loopback network interface\n",
    "auto lo\n",
    "iface lo inet loopback\n",
    "\n",
    "# The primary network interface\n",
    "auto eth0\n",
    "iface eth0 inet dhcp\n",
    "\n",
    "auto eth1\n",
    "iface eth1 inet static\n",
    "address 192.168.100.2\n",
    "netmask 255.255.255.0\n",
    "gateway 192.168.100.1\n",
    "```\n",
    "\n",
    "- Restart network"
   ]
  },
  {
   "cell_type": "code",
   "execution_count": null,
   "metadata": {},
   "outputs": [],
   "source": [
    "sudo systemctl restart networking"
   ]
  },
  {
   "cell_type": "markdown",
   "metadata": {},
   "source": [
    "### 2.2. CentOS, Redhat"
   ]
  },
  {
   "cell_type": "markdown",
   "metadata": {},
   "source": [
    "#### 2.2.1. Edit `network-scripts` file\n",
    "\n",
    "- List all network adapter device\n",
    "    - For exapmle, there are `eth0` and `eth1` devices, so `ip a` shoud return `lo`, `eth0` and `eth1` devices info"
   ]
  },
  {
   "cell_type": "code",
   "execution_count": null,
   "metadata": {},
   "outputs": [],
   "source": [
    "ip a"
   ]
  },
  {
   "cell_type": "markdown",
   "metadata": {},
   "source": [
    "- Make sure adapter device script file exist\n",
    "    - For example, there are two files named `ifcfg-eth0` and `ifcfg-eth1`\n",
    "    - If some file not exist, copy it from other file"
   ]
  },
  {
   "cell_type": "code",
   "execution_count": null,
   "metadata": {
    "scrolled": true
   },
   "outputs": [],
   "source": [
    "cd /etc/sysconfig/network-scripts/\n",
    "ls"
   ]
  },
  {
   "cell_type": "code",
   "execution_count": null,
   "metadata": {},
   "outputs": [],
   "source": [
    "sudo cp ifcfg-eth0 ifcfg-eth1"
   ]
  },
  {
   "cell_type": "markdown",
   "metadata": {},
   "source": [
    "- Edit one of those files, for example `ifcfg-eth1`\n",
    "\n",
    "```\n",
    "TYPE=\"Ethernet\"\n",
    "PROXY_METHOD=\"none\"\n",
    "BROWSER_ONLY=\"no\"\n",
    "BOOTPROTO=\"static\"\n",
    "DEFROUTE=\"yes\"\n",
    "NAME=\"eth1\"\n",
    "UUID=\"bea5d315-b7fa-43d2-908b-a9110ae5590c\"\n",
    "DEVICE=\"eth1\"\n",
    "ONBOOT=\"yes\"\n",
    "IPV4_FAILURE_FATAL=\"no\"\n",
    "IPV6INIT=\"yes\"\n",
    "\n",
    "# IPv6 setup\n",
    "IPV6_AUTOCONF=\"yes\"\n",
    "IPV6_DEFROUTE=\"yes\"\n",
    "IPV6_FAILURE_FATAL=\"no\"\n",
    "IPV6_ADDR_GEN_MODE=\"stable-privacy\"\n",
    "\n",
    "# IPV4 setup\n",
    "IPADDR=\"192.168.100.5\"\n",
    "NETMASK=\"255.255.255.0\"\n",
    "GATEWAY=\"192.168.100.1\"\n",
    "PREFIX=\"24\"\n",
    "DNS1=192.168.100.1\n",
    "```\n",
    "\n",
    "- Restart networking"
   ]
  },
  {
   "cell_type": "code",
   "execution_count": null,
   "metadata": {},
   "outputs": [],
   "source": [
    "sudo nmcli c reload\n",
    "sudo nmcli c up eth1"
   ]
  },
  {
   "cell_type": "markdown",
   "metadata": {},
   "source": [
    "#### 2.2.2. Use `nmcli` command\n",
    "\n",
    "- Show network connection"
   ]
  },
  {
   "cell_type": "code",
   "execution_count": null,
   "metadata": {},
   "outputs": [],
   "source": [
    "nmcli connection\n",
    "nmcli con show"
   ]
  },
  {
   "cell_type": "markdown",
   "metadata": {},
   "source": [
    "- Show devices status"
   ]
  },
  {
   "cell_type": "code",
   "execution_count": null,
   "metadata": {},
   "outputs": [],
   "source": [
    "nmcli device status"
   ]
  },
  {
   "cell_type": "markdown",
   "metadata": {},
   "source": [
    "- Show information of device"
   ]
  },
  {
   "cell_type": "code",
   "execution_count": null,
   "metadata": {},
   "outputs": [],
   "source": [
    "nmcli connection show eth1"
   ]
  },
  {
   "cell_type": "markdown",
   "metadata": {},
   "source": [
    "- Show active connection"
   ]
  },
  {
   "cell_type": "code",
   "execution_count": null,
   "metadata": {},
   "outputs": [],
   "source": [
    "nmcli connection show --active"
   ]
  },
  {
   "cell_type": "markdown",
   "metadata": {},
   "source": [
    "- Delete network device"
   ]
  },
  {
   "cell_type": "code",
   "execution_count": null,
   "metadata": {},
   "outputs": [],
   "source": [
    "nmcli connection delete eth1"
   ]
  },
  {
   "cell_type": "markdown",
   "metadata": {},
   "source": [
    "- Add network device eth1"
   ]
  },
  {
   "cell_type": "code",
   "execution_count": null,
   "metadata": {},
   "outputs": [],
   "source": [
    "nmcli connection add type ethernet con-name eth0 ifname etho"
   ]
  },
  {
   "cell_type": "markdown",
   "metadata": {},
   "source": [
    "- Pause eth1 device"
   ]
  },
  {
   "cell_type": "code",
   "execution_count": null,
   "metadata": {},
   "outputs": [],
   "source": [
    "nmcli connection down eth1"
   ]
  },
  {
   "cell_type": "markdown",
   "metadata": {},
   "source": [
    "- Resume eth1 device"
   ]
  },
  {
   "cell_type": "code",
   "execution_count": null,
   "metadata": {},
   "outputs": [],
   "source": [
    "nmcli connection up eth1"
   ]
  },
  {
   "cell_type": "markdown",
   "metadata": {},
   "source": [
    "- Set ipv4 address to eth1"
   ]
  },
  {
   "cell_type": "code",
   "execution_count": null,
   "metadata": {},
   "outputs": [],
   "source": [
    "nmcli connection modify eth1 ipv4.addresses 192.168.100.5"
   ]
  },
  {
   "cell_type": "markdown",
   "metadata": {},
   "source": [
    "- Set ipv4 netmask to eth1"
   ]
  },
  {
   "cell_type": "code",
   "execution_count": null,
   "metadata": {},
   "outputs": [],
   "source": [
    "nmcli connection modify eth1 ipv4.addresses 192.168.100.5/24"
   ]
  },
  {
   "cell_type": "markdown",
   "metadata": {},
   "source": [
    "- Make ipv4 get ip by manual"
   ]
  },
  {
   "cell_type": "code",
   "execution_count": null,
   "metadata": {},
   "outputs": [],
   "source": [
    "nmcli connection modify eth1 ipv4.method manual"
   ]
  },
  {
   "cell_type": "markdown",
   "metadata": {},
   "source": [
    "- Add ipv4 address to eth1"
   ]
  },
  {
   "cell_type": "code",
   "execution_count": null,
   "metadata": {},
   "outputs": [],
   "source": [
    "nmcli connection modify eth1 +ipv4.addresses 192.168.100.5/24"
   ]
  },
  {
   "cell_type": "markdown",
   "metadata": {},
   "source": [
    "- Remove ipv4 address from eth1"
   ]
  },
  {
   "cell_type": "code",
   "execution_count": null,
   "metadata": {},
   "outputs": [],
   "source": [
    "nmcli connection modify eth1 -ipv4.addresses 192.168.100.5/24"
   ]
  },
  {
   "cell_type": "markdown",
   "metadata": {},
   "source": [
    "- Add DNS to eth1"
   ]
  },
  {
   "cell_type": "code",
   "execution_count": null,
   "metadata": {},
   "outputs": [],
   "source": [
    "nmcli connection modify eth1 ipv4.dns 114.114.114.114"
   ]
  },
  {
   "cell_type": "markdown",
   "metadata": {},
   "source": [
    "- Remove DNS from eth1"
   ]
  },
  {
   "cell_type": "code",
   "execution_count": null,
   "metadata": {},
   "outputs": [],
   "source": [
    "nmcli connection modify eth1 -ipv4.dns 114.114.114.114"
   ]
  },
  {
   "cell_type": "markdown",
   "metadata": {},
   "source": [
    "- Add ipv4 gateway to eth1"
   ]
  },
  {
   "cell_type": "code",
   "execution_count": null,
   "metadata": {},
   "outputs": [],
   "source": [
    "nmcli connection modify eth1 ipv4.gateway 192.168.100.1"
   ]
  },
  {
   "cell_type": "markdown",
   "metadata": {},
   "source": [
    "- Both add ipv4 DNS and gateway"
   ]
  },
  {
   "cell_type": "code",
   "execution_count": null,
   "metadata": {},
   "outputs": [],
   "source": [
    "nmcli connection modify eth1 ipv4.dns 114.114.114.114 ipv4.gateway 192.168.100.1"
   ]
  }
 ],
 "metadata": {
  "kernelspec": {
   "display_name": "Bash",
   "language": "bash",
   "name": "bash"
  },
  "language_info": {
   "codemirror_mode": "shell",
   "file_extension": ".sh",
   "mimetype": "text/x-sh",
   "name": "bash"
  }
 },
 "nbformat": 4,
 "nbformat_minor": 4
}
