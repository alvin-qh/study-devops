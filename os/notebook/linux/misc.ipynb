{
 "cells": [
  {
   "cell_type": "markdown",
   "metadata": {},
   "source": [
    "# Misc"
   ]
  },
  {
   "cell_type": "markdown",
   "metadata": {},
   "source": [
    "## 1. Special value"
   ]
  },
  {
   "cell_type": "markdown",
   "metadata": {},
   "source": [
    "### 1.1. UUID"
   ]
  },
  {
   "cell_type": "code",
   "execution_count": null,
   "metadata": {},
   "outputs": [],
   "source": [
    "UUID=$(cat /proc/sys/kernel/random/uuid)\n",
    "echo \"* uuid is $UUID\""
   ]
  },
  {
   "cell_type": "markdown",
   "metadata": {},
   "source": [
    "## 2. Special operators"
   ]
  },
  {
   "cell_type": "markdown",
   "metadata": {},
   "source": [
    "### 2.1. set"
   ]
  },
  {
   "cell_type": "markdown",
   "metadata": {},
   "source": [
    "- Set some environment attribute\n",
    "\n",
    "|Argument|Explain|\n",
    "|---|---|\n",
    "|`-a`|Mark the variables which was modified|\n",
    "|`-b`|Report execution status immediately if the daemon process is aborted|\n",
    "|`-C`|Do not override an existing file|\n",
    "|`-d`|Do not record the command history|\n",
    "|`-e`|Exit the shell if command return nonzero|\n",
    "|`-f`|Disable wildcards|\n",
    "|`-h`|Record the function location|\n",
    "|`-H`|Run command in shell history: Use `!<command index>` to pick the command in history|\n",
    "|`-k`|Set command argument as shell environment variable|\n",
    "|`-l`|Record variables in \"for\" loop|\n",
    "|`-m`|Use monitor mode|\n",
    "|`-n`|Dry run|\n",
    "|`-p`|Use the priority mode|\n",
    "|`-P`|Use physical files instead of file links|\n",
    "|`-t`|Exit from shell if command is finish|\n",
    "|`-u`|Raise error if use undefined variable|\n",
    "|`-v`|Show all values which is input to shell|\n",
    "|`-x`|Show the command and arguments after execute it|"
   ]
  },
  {
   "cell_type": "markdown",
   "metadata": {},
   "source": [
    "#### 2.1.1. Run batch commands directly\n",
    "\n",
    "- if some command return nonzero (failed), batch command not stop"
   ]
  },
  {
   "cell_type": "code",
   "execution_count": null,
   "metadata": {},
   "outputs": [],
   "source": [
    "echo \"* start work\"\n",
    "rm no-exist-file\n",
    "echo \"* success\""
   ]
  },
  {
   "cell_type": "markdown",
   "metadata": {},
   "source": [
    "#### 2.1.2. Concat batch commands with `&&` operator as one command\n",
    "\n",
    "- if every part is failed, whole command is failed"
   ]
  },
  {
   "cell_type": "code",
   "execution_count": null,
   "metadata": {},
   "outputs": [],
   "source": [
    "echo \"* start work\" && \\\n",
    "rm no-exist-file    && \\\n",
    "echo \"* success\""
   ]
  },
  {
   "cell_type": "markdown",
   "metadata": {},
   "source": [
    "#### 2.1.3. Use `set -e`\n",
    "\n",
    "- set shell attribute, terminate batch commands running if some command is failed"
   ]
  },
  {
   "cell_type": "code",
   "execution_count": null,
   "metadata": {},
   "outputs": [],
   "source": [
    "set -ex\n",
    "\n",
    "echo \"* start work\"\n",
    "rm no-exist-file\n",
    "echo \"* success\""
   ]
  }
 ],
 "metadata": {
  "kernelspec": {
   "display_name": "Bash",
   "language": "bash",
   "name": "bash"
  },
  "language_info": {
   "codemirror_mode": "shell",
   "file_extension": ".sh",
   "mimetype": "text/x-sh",
   "name": "bash"
  }
 },
 "nbformat": 4,
 "nbformat_minor": 4
}
