{
 "cells": [
  {
   "cell_type": "markdown",
   "metadata": {},
   "source": [
    "# Process"
   ]
  },
  {
   "cell_type": "markdown",
   "metadata": {},
   "source": [
    "## 1. Commandline"
   ]
  },
  {
   "cell_type": "markdown",
   "metadata": {},
   "source": [
    "### 1.1. `ps`\n",
    "\n",
    "Show information of processes"
   ]
  },
  {
   "cell_type": "code",
   "execution_count": null,
   "metadata": {},
   "outputs": [],
   "source": [
    "man ps"
   ]
  },
  {
   "cell_type": "markdown",
   "metadata": {},
   "source": [
    "#### 1.1.1. List all process\n",
    "\n",
    "- `aux`: List all processes under terminal, include other user's"
   ]
  },
  {
   "cell_type": "code",
   "execution_count": null,
   "metadata": {},
   "outputs": [],
   "source": [
    "echo '* list all process: '\n",
    "ps aux\n",
    "\n",
    "echo -e '\\n* list process with grep: '\n",
    "ps aux | grep jupyter"
   ]
  },
  {
   "cell_type": "markdown",
   "metadata": {},
   "source": [
    "#### 1.1.2. List process with full commandline\n",
    "\n",
    "- `ww`: add linebreaks which is too long"
   ]
  },
  {
   "cell_type": "code",
   "execution_count": null,
   "metadata": {},
   "outputs": [],
   "source": [
    "echo \"* list all process with commandline: \"\n",
    "ps auxww\n",
    "\n",
    "echo -e \"\\n* list process with grep: \"\n",
    "ps auxww | grep jupyter"
   ]
  },
  {
   "cell_type": "markdown",
   "metadata": {},
   "source": [
    "#### 1.1.3. List process by current user"
   ]
  },
  {
   "cell_type": "code",
   "execution_count": null,
   "metadata": {},
   "outputs": [],
   "source": [
    "echo \"* show processes by user $(id -u): \"\n",
    "ps --user $(id -u) -F"
   ]
  },
  {
   "cell_type": "markdown",
   "metadata": {},
   "source": [
    "#### 1.1.4. Show processes as tree"
   ]
  },
  {
   "cell_type": "code",
   "execution_count": 21,
   "metadata": {},
   "outputs": [
    {
     "name": "stdout",
     "output_type": "stream",
     "text": [
      "* show processes as tree: \n",
      "USER       PID %CPU %MEM    VSZ   RSS TTY      STAT START   TIME COMMAND\n",
      "root         1  0.0  0.0    928   592 ?        Sl   21:08   0:00 /init\n",
      "root         8  0.0  0.0    908    84 ?        Ss   21:08   0:00 /init\n",
      "root         9  0.0  0.0    908    84 ?        S    21:08   0:00  \\_ /init\n",
      "alvin       10  0.0  0.0  16644  8772 pts/0    Ss   21:08   0:01      \\_ -zsh\n",
      "alvin     1294  0.2  0.2 323036 73388 pts/0    Sl+  21:08   0:07          \\_ /ho\n",
      "alvin     1420  0.0  0.1 466708 49804 ?        Ssl  21:09   0:01             /ho\n",
      "alvin     1431  0.0  0.0  11448  8320 pts/1    Ss   21:09   0:00             /us\n",
      "alvin     3746  0.0  0.0   8888  3268 pts/1    R+   22:13   0:00             ps \n",
      "root      2095  0.0  0.0    928   104 ?        Ss   21:20   0:00 /init\n",
      "root      2096  0.0  0.0    928   104 ?        S    21:20   0:00  \\_ /init\n",
      "alvin     2097  0.0  0.0  13752  8396 pts/2    Ss+  21:20   0:02      \\_ -zsh\n"
     ]
    }
   ],
   "source": [
    "echo \"* show processes as tree: \"\n",
    "ps auxf"
   ]
  },
  {
   "cell_type": "markdown",
   "metadata": {},
   "source": [
    "#### 1.1.5. Show parent process by given process id"
   ]
  },
  {
   "cell_type": "code",
   "execution_count": 22,
   "metadata": {},
   "outputs": [
    {
     "name": "stdout",
     "output_type": "stream",
     "text": [
      "* show parent process id of process id=1: \n",
      "    0\n"
     ]
    }
   ],
   "source": [
    "echo \"* show parent process id of process id=1: \"\n",
    "ps -o ppid= -p 1"
   ]
  },
  {
   "cell_type": "markdown",
   "metadata": {},
   "source": [
    "#### 1.1.6. Show all process and full infos"
   ]
  },
  {
   "cell_type": "code",
   "execution_count": null,
   "metadata": {},
   "outputs": [],
   "source": [
    "echo \"* show all processes infos: \"\n",
    "ps -elf"
   ]
  },
  {
   "cell_type": "markdown",
   "metadata": {},
   "source": [
    "#### 1.1.7. Show child processes by parent process id"
   ]
  },
  {
   "cell_type": "code",
   "execution_count": 20,
   "metadata": {},
   "outputs": [
    {
     "name": "stdout",
     "output_type": "stream",
     "text": [
      "* the process id of jupyter-lab is 1294\n",
      "* the child processes created by 1294 are:\n",
      "UID        PID  PPID   LWP  C NLWP STIME TTY      STAT   TIME CMD\n",
      "alvin     1294    10  1294  0    4 21:08 pts/0    Sl+    0:05 /home/alvin/Worksp\n",
      "alvin     1294    10  1389  0    4 21:09 pts/0    Sl+    0:00 /home/alvin/Worksp\n",
      "alvin     1294    10  1421  0    4 21:09 pts/0    Sl+    0:00 /home/alvin/Worksp\n",
      "alvin     1294    10  1422  0    4 21:09 pts/0    Sl+    0:00 /home/alvin/Worksp\n"
     ]
    }
   ],
   "source": [
    "pid=$(ps -ef | grep jupyter-lab | awk '{print $2}' | awk 'NR==1')\n",
    "echo \"* the process id of jupyter-lab is $pid\"\n",
    "\n",
    "echo \"* the child processes created by $pid are:\"\n",
    "ps -Lf $pid"
   ]
  },
  {
   "cell_type": "markdown",
   "metadata": {},
   "source": [
    "### 1.2. `top`\n",
    "\n",
    "Show all processes by GUI"
   ]
  },
  {
   "cell_type": "code",
   "execution_count": null,
   "metadata": {},
   "outputs": [],
   "source": [
    "man top"
   ]
  },
  {
   "cell_type": "markdown",
   "metadata": {},
   "source": [
    "#### 1.2.1. Show process info with GUI"
   ]
  },
  {
   "cell_type": "code",
   "execution_count": null,
   "metadata": {},
   "outputs": [],
   "source": [
    "echo \"* the process info is: \"\n",
    "top"
   ]
  },
  {
   "cell_type": "markdown",
   "metadata": {},
   "source": [
    "### 1.3. `pstree`\n",
    "\n",
    "Show processes list as tree"
   ]
  },
  {
   "cell_type": "code",
   "execution_count": null,
   "metadata": {},
   "outputs": [],
   "source": [
    "man pstree"
   ]
  },
  {
   "cell_type": "markdown",
   "metadata": {},
   "source": [
    "#### 1.3.1. Show process list as tree"
   ]
  },
  {
   "cell_type": "code",
   "execution_count": null,
   "metadata": {},
   "outputs": [],
   "source": [
    "echo \"* the process info as tree: \"\n",
    "pstree -aup"
   ]
  },
  {
   "cell_type": "markdown",
   "metadata": {},
   "source": [
    "#### 1.3.2. Show process tree by user id"
   ]
  },
  {
   "cell_type": "code",
   "execution_count": 9,
   "metadata": {},
   "outputs": [
    {
     "name": "stdout",
     "output_type": "stream",
     "text": [
      "* the process info as tree by user id 'alvin': \n",
      "zsh(10)---\u001b[01;31m\u001b[Kjupyter\u001b[m\u001b[K-lab(1294)-+-python(1420)-+-bash(1431)-+-grep(3220)\n",
      "                            |-{\u001b[01;31m\u001b[Kjupyter\u001b[m\u001b[K-lab}(1389)\n",
      "                            |-{\u001b[01;31m\u001b[Kjupyter\u001b[m\u001b[K-lab}(1421)\n",
      "                            `-{\u001b[01;31m\u001b[Kjupyter\u001b[m\u001b[K-lab}(1422)\n"
     ]
    }
   ],
   "source": [
    "echo \"* the process info as tree by user id 'alvin': \"\n",
    "pstree -p alvin | grep jupyter"
   ]
  }
 ],
 "metadata": {
  "kernelspec": {
   "display_name": "Bash",
   "language": "bash",
   "name": "bash"
  },
  "language_info": {
   "codemirror_mode": "shell",
   "file_extension": ".sh",
   "mimetype": "text/x-sh",
   "name": "bash"
  }
 },
 "nbformat": 4,
 "nbformat_minor": 4
}
