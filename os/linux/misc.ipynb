{
 "cells": [
  {
   "cell_type": "markdown",
   "metadata": {},
   "source": [
    "# Misc and tricks"
   ]
  },
  {
   "cell_type": "markdown",
   "metadata": {},
   "source": [
    "## 1. Special value"
   ]
  },
  {
   "cell_type": "markdown",
   "metadata": {},
   "source": [
    "### 1.1. Get UUID"
   ]
  },
  {
   "cell_type": "code",
   "execution_count": null,
   "metadata": {},
   "outputs": [],
   "source": [
    "UUID=$(cat /proc/sys/kernel/random/uuid)\n",
    "echo \"* uuid is $UUID\""
   ]
  },
  {
   "cell_type": "markdown",
   "metadata": {},
   "source": [
    "### 1.2. Get and format date and time\n",
    "\n",
    "date command: \n",
    "  \n",
    "`date [-u] [-d datestr] [-s datestr] [--utc] [--universal] [--date=datestr] [--set=datestr] [--help] [--version] [+FORMAT] [MMDDhhmm[[CC]YY][.ss]]`\n",
    "\n",
    "+FORMAT arguments:\n",
    "\n",
    "- About time\n",
    "\n",
    "|Argument|Explain|\n",
    "|--|--|\n",
    "|`%`|Print `%` character|\n",
    "|`%n`|Print new line|\n",
    "|`%t`|Print tab character|\n",
    "|`%H`|Print hours (00..23)|\n",
    "|`%I`|Print hours (01..12)|\n",
    "|`%k`|Print hours (0..23)|\n",
    "|`%l`|Print hours (1..12)|\n",
    "|`%M`|Print minutes (00..59)|\n",
    "|`%p`|Print AM or PM|\n",
    "|`%r`|Print time (12-hour system, format is hh:mm:ss [AP]M)|\n",
    "|`%s`|Print second from 1970-01-01T00:00:00Z|\n",
    "|`%S`|Print seconds (00..61)|\n",
    "|`%T`|Print time (24-hour system)|\n",
    "|`%X`|Shortcut of `%H:%M:%S`|\n",
    "|`%Z`|Print timezone|\n",
    "\n",
    "- About date\n",
    "\n",
    "|Argument|Explain|\n",
    "|--|--|\n",
    "|`%b`|Print month (Jan..Dec)|\n",
    "|`%B`|Print month (January..December)|\n",
    "|`%c`|Print date and time|\n",
    "|`%d`|Print month day (01..31)|\n",
    "|`%D`|Print date (mm/dd/yy)|\n",
    "|`%F`|Print date (yyyy-mm-dd)|\n",
    "|`%h`|Same as `%b`|\n",
    "|`%j`|Print day number of year (001..366)|\n",
    "|`%m`|Print month (01..12)|\n",
    "|`%a`|Print weekday (Sun..Sat)|\n",
    "|`%A`|Print weekday (Sunday..Saturday)|\n",
    "|`%w`|Print weekday(0..6)|\n",
    "|`%U`|Print week number of year (00..53, sunday as first day of week)|\n",
    "|`%W`|Print week number of year (00..53, monday as first day of week)|\n",
    "|`%x`|Print date (mm/dd/yy)|\n",
    "|`%y`|Print year (00.99)|\n",
    "|`%Y`|Print full year (0000..9999)|"
   ]
  },
  {
   "cell_type": "code",
   "execution_count": null,
   "metadata": {},
   "outputs": [],
   "source": [
    "# make id by current date and time\n",
    "id=$(date +%Y_%m_%d__%H_%M_%S.%N)\n",
    "echo \"* id by datetime is $id\"\n",
    "\n",
    "# make id by date and time after 2 days\n",
    "id=$(date -d+2day +%Y_%m_%d__%H_%M_%S.%N)\n",
    "echo \"* id by datetime is $id\"\n",
    "\n",
    "# make id by date and time before 10 minutes\n",
    "id=$(date -d-10min +%Y_%m_%d__%H_%M_%S.%N)\n",
    "echo \"* id by datetime is $id\"\n",
    "\n",
    "id=$(date +%F'T'%T)\n",
    "echo \"* id by datetime is $id\""
   ]
  },
  {
   "cell_type": "markdown",
   "metadata": {},
   "source": [
    "## 2. Special operators"
   ]
  },
  {
   "cell_type": "markdown",
   "metadata": {},
   "source": [
    "### 2.1.1. set"
   ]
  },
  {
   "cell_type": "markdown",
   "metadata": {},
   "source": [
    "Set some environment attribute\n",
    "\n",
    "|Argument|Explain|\n",
    "|---|---|\n",
    "|`-a`|Mark the variables which was modified|\n",
    "|`-b`|Report execution status immediately if the daemon process is aborted|\n",
    "|`-C`|Do not override an existing file|\n",
    "|`-d`|Do not record the command history|\n",
    "|`-e`|Exit the shell if command return nonzero|\n",
    "|`-f`|Disable wildcards|\n",
    "|`-h`|Record the function location|\n",
    "|`-H`|Shell：可利用\"!\"加<指令编号>的方式来执行history中记录的指令。 |\n",
    "|`-k`|指令所给的参数都会被视为此指令的环境变量。 |\n",
    "|`-l`|Record variables in \"for\" loop|\n",
    "|`-m`|Use monitor mode|\n",
    "|`-n`|Try run|\n",
    "|`-p`|Use the priority mode|\n",
    "|`-P`|Use physical files instead of file links|\n",
    "|`-t`|执行完随后的指令，即退出shell。 |\n",
    "|`-u`|当执行时使用到未定义过的变量，则显示错误信息。 |\n",
    "|`-v`|显示shell所读取的输入值。 |\n",
    "|`-x`|执行指令后，会先显示该指令及所下的参数。|"
   ]
  },
  {
   "cell_type": "code",
   "execution_count": 11,
   "metadata": {},
   "outputs": [
    {
     "name": "stdout",
     "output_type": "stream",
     "text": [
      "* start work\n",
      "rm: no-exist-file: No such file or directory\n",
      "* success\n"
     ]
    }
   ],
   "source": [
    "echo \"* start work\"\n",
    "rm no-exist-file\n",
    "echo \"* success\""
   ]
  },
  {
   "cell_type": "code",
   "execution_count": 8,
   "metadata": {},
   "outputs": [
    {
     "name": "stdout",
     "output_type": "stream",
     "text": [
      "* start work\n",
      "rm: no-exist-file: No such file or directory\n"
     ]
    },
    {
     "ename": "",
     "evalue": "1",
     "output_type": "error",
     "traceback": []
    }
   ],
   "source": [
    "echo \"* start work\" && \\\n",
    "rm no-exist-file    && \\\n",
    "echo \"* success\""
   ]
  },
  {
   "cell_type": "code",
   "execution_count": 13,
   "metadata": {},
   "outputs": [
    {
     "name": "stdout",
     "output_type": "stream",
     "text": [
      "+ echo '* start work'\n",
      "* start work\n",
      "+ rm no-exist-file\n",
      "rm: no-exist-file: No such file or directory\n",
      "Restarting Bash"
     ]
    }
   ],
   "source": [
    "set -ex\n",
    "\n",
    "echo \"* start work\"\n",
    "rm no-exist-file\n",
    "echo \"* success\""
   ]
  },
  {
   "cell_type": "code",
   "execution_count": null,
   "metadata": {},
   "outputs": [],
   "source": []
  },
  {
   "cell_type": "code",
   "execution_count": null,
   "metadata": {},
   "outputs": [],
   "source": []
  },
  {
   "cell_type": "code",
   "execution_count": null,
   "metadata": {},
   "outputs": [],
   "source": []
  }
 ],
 "metadata": {
  "kernelspec": {
   "display_name": "Bash",
   "language": "bash",
   "name": "bash"
  },
  "language_info": {
   "codemirror_mode": "shell",
   "file_extension": ".sh",
   "mimetype": "text/x-sh",
   "name": "bash"
  }
 },
 "nbformat": 4,
 "nbformat_minor": 4
}
