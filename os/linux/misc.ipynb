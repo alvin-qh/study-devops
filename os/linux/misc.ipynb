{
 "cells": [
  {
   "cell_type": "markdown",
   "metadata": {},
   "source": [
    "# Misc and tricks"
   ]
  },
  {
   "cell_type": "markdown",
   "metadata": {},
   "source": [
    "## 1. Get special value"
   ]
  },
  {
   "cell_type": "markdown",
   "metadata": {},
   "source": [
    "### 1.1. Get UUID"
   ]
  },
  {
   "cell_type": "code",
   "execution_count": null,
   "metadata": {},
   "outputs": [],
   "source": [
    "UUID=$(cat /proc/sys/kernel/random/uuid)\n",
    "echo \"* uuid is $UUID\""
   ]
  },
  {
   "cell_type": "markdown",
   "metadata": {},
   "source": [
    "### 1.2. Get and format date and time\n",
    "\n",
    "date command: \n",
    "  \n",
    "`date [-u] [-d datestr] [-s datestr] [--utc] [--universal] [--date=datestr] [--set=datestr] [--help] [--version] [+FORMAT] [MMDDhhmm[[CC]YY][.ss]]`\n",
    "\n",
    "+FORMAT arguments:\n",
    "\n",
    "- About time\n",
    "\n",
    "|Argument|Explain|\n",
    "|--|--|\n",
    "|`%`|Print `%` character|\n",
    "|`%n`|Print new line|\n",
    "|`%t`|Print tab character|\n",
    "|`%H`|Print hours (00..23)|\n",
    "|`%I`|Print hours (01..12)|\n",
    "|`%k`|Print hours (0..23)|\n",
    "|`%l`|Print hours (1..12)|\n",
    "|`%M`|Print minutes (00..59)|\n",
    "|`%p`|Print AM or PM|\n",
    "|`%r`|Print time (12-hour system, format is hh:mm:ss [AP]M)|\n",
    "|`%s`|Print second from 1970-01-01T00:00:00Z|\n",
    "|`%S`|Print seconds (00..61)|\n",
    "|`%T`|Print time (24-hour system)|\n",
    "|`%X`|Shortcut of `%H:%M:%S`|\n",
    "|`%Z`|Print timezone|\n",
    "\n",
    "- About date\n",
    "\n",
    "|Argument|Explain|\n",
    "|--|--|\n",
    "|`%b`|Print month (Jan..Dec)|\n",
    "|`%B`|Print month (January..December)|\n",
    "|`%c`|Print date and time|\n",
    "|`%d`|Print month day (01..31)|\n",
    "|`%D`|Print date (mm/dd/yy)|\n",
    "|`%F`|Print date (yyyy-mm-dd)|\n",
    "|`%h`|Same as `%b`|\n",
    "|`%j`|Print day number of year (001..366)|\n",
    "|`%m`|Print month (01..12)|\n",
    "|`%a`|Print weekday (Sun..Sat)|\n",
    "|`%A`|Print weekday (Sunday..Saturday)|\n",
    "|`%w`|Print weekday(0..6)|\n",
    "|`%U`|Print week number of year (00..53, sunday as first day of week)|\n",
    "|`%W`|Print week number of year (00..53, monday as first day of week)|\n",
    "|`%x`|Print date (mm/dd/yy)|\n",
    "|`%y`|Print year (00.99)|\n",
    "|`%Y`|Print full year (0000..9999)|"
   ]
  },
  {
   "cell_type": "code",
   "execution_count": null,
   "metadata": {},
   "outputs": [],
   "source": [
    "# make id by current date and time\n",
    "id=$(date +%Y_%m_%d__%H_%M_%S.%N)\n",
    "echo \"* id by datetime is $id\"\n",
    "\n",
    "# make id by date and time after 2 days\n",
    "id=$(date -d+2day +%Y_%m_%d__%H_%M_%S.%N)\n",
    "echo \"* id by datetime is $id\"\n",
    "\n",
    "# make id by date and time before 10 minutes\n",
    "id=$(date -d-10min +%Y_%m_%d__%H_%M_%S.%N)\n",
    "echo \"* id by datetime is $id\"\n",
    "\n",
    "id=$(date +%F'T'%T)\n",
    "echo \"* id by datetime is $id\""
   ]
  }
 ],
 "metadata": {
  "kernelspec": {
   "display_name": "Bash",
   "language": "bash",
   "name": "bash"
  },
  "language_info": {
   "codemirror_mode": "shell",
   "file_extension": ".sh",
   "mimetype": "text/x-sh",
   "name": "bash"
  }
 },
 "nbformat": 4,
 "nbformat_minor": 4
}
