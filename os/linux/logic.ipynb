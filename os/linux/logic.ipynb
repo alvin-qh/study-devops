{
 "cells": [
  {
   "cell_type": "markdown",
   "metadata": {},
   "source": [
    "# Logic operator"
   ]
  },
  {
   "cell_type": "markdown",
   "metadata": {},
   "source": [
    "## 1. Logic express"
   ]
  },
  {
   "cell_type": "markdown",
   "metadata": {},
   "source": [
    "### 1.1. Numerical compare express"
   ]
  },
  {
   "cell_type": "markdown",
   "metadata": {},
   "source": [
    "#### 1.1.1. Standard POSIX format\n",
    "\n",
    "- use `[ express ];`\n",
    "- use `test express;`"
   ]
  },
  {
   "cell_type": "code",
   "execution_count": null,
   "metadata": {},
   "outputs": [],
   "source": [
    "num1=10;\n",
    "num2=20;\n",
    "\n",
    "if [ $num1 -eq $num2 ]; then\n",
    "    echo \"* the express \\\"$num1 == $num2\\\" is established\";\n",
    "elif test $num1 -ne $num2; then\n",
    "    echo \"* the express \\\"$num1 < $num2\\\" is established\";\n",
    "fi"
   ]
  },
  {
   "cell_type": "markdown",
   "metadata": {},
   "source": [
    "#### 1.1.2. Bash extends\n",
    "\n",
    "- use `((advanced compare express));`"
   ]
  },
  {
   "cell_type": "code",
   "execution_count": null,
   "metadata": {},
   "outputs": [],
   "source": [
    "num1=10;\n",
    "num2=20;\n",
    "\n",
    "if ((num1 == num2)); then\n",
    "    echo \"* the express \\\"$num1 == $num2\\\" is established\";\n",
    "elif ((num1 < num2)); then\n",
    "    echo \"* the express \\\"$num1 < $num2\\\" is established\";\n",
    "fi"
   ]
  },
  {
   "cell_type": "markdown",
   "metadata": {},
   "source": [
    "### 1.2. String compare express"
   ]
  },
  {
   "cell_type": "markdown",
   "metadata": {},
   "source": [
    "#### 1.2.1. Standard POSIX format\n",
    "\n",
    "- Use `[ express ];`\n",
    "- Use `test express;`"
   ]
  },
  {
   "cell_type": "code",
   "execution_count": null,
   "metadata": {},
   "outputs": [],
   "source": [
    "s1='Alvin'\n",
    "s2='Emma'\n",
    "\n",
    "if [ $s1 == $s2 ]; then\n",
    "    echo \"* the express \\\"$s1 == $s2\\\" is established\";\n",
    "elif [ $s1 \\> $s2 ]; then\n",
    "    echo \"* the express \\\"$s1 > $s2\\\" is established\";\n",
    "elif test $s1 \\< $s2; then\n",
    "    echo \"* the express \\\"$s1 < $s2\\\" is established\";\n",
    "fi"
   ]
  },
  {
   "cell_type": "markdown",
   "metadata": {},
   "source": [
    "#### 1.2.2. Bash extends\n",
    "\n",
    "- Use `[[ express ]]`"
   ]
  },
  {
   "cell_type": "code",
   "execution_count": null,
   "metadata": {},
   "outputs": [],
   "source": [
    "s1='Alvin'\n",
    "s2='Emma'\n",
    "\n",
    "if [[ $s1 == $s2 ]]; then\n",
    "    echo \"* the express \\\"$s1 == $s2\\\" is established\";\n",
    "elif [[ $s1 > $s2 ]]; then\n",
    "    echo \"* the express \\\"$s1 > $s2\\\" is established\";\n",
    "elif [[ $s1 < $s2 ]]; then\n",
    "    echo \"* the express \\\"$s1 < $s2\\\" is established\";\n",
    "fi"
   ]
  },
  {
   "cell_type": "markdown",
   "metadata": {},
   "source": [
    "- Fuzzy match"
   ]
  },
  {
   "cell_type": "code",
   "execution_count": null,
   "metadata": {},
   "outputs": [],
   "source": [
    "s1='Alvin'\n",
    "\n",
    "if [[ $s1 == A* ]]; then\n",
    "    echo \"* string \\\"$s1\\\" is starts with \\\"A\\\"\";\n",
    "fi"
   ]
  },
  {
   "cell_type": "markdown",
   "metadata": {},
   "source": [
    "### 1.3. Save express boolean result to variable"
   ]
  },
  {
   "cell_type": "code",
   "execution_count": null,
   "metadata": {},
   "outputs": [],
   "source": [
    "res=$([ 4 -eq 5 ]; echo $?)\n",
    "echo \"* result of [ 4 -eq 5 ]; is $res\""
   ]
  }
 ],
 "metadata": {
  "kernelspec": {
   "display_name": "Bash",
   "language": "bash",
   "name": "bash"
  },
  "language_info": {
   "codemirror_mode": "shell",
   "file_extension": ".sh",
   "mimetype": "text/x-sh",
   "name": "bash"
  }
 },
 "nbformat": 4,
 "nbformat_minor": 4
}
