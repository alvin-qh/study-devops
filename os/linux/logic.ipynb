{
 "cells": [
  {
   "cell_type": "markdown",
   "metadata": {},
   "source": [
    "# Logic operator"
   ]
  },
  {
   "cell_type": "markdown",
   "metadata": {},
   "source": [
    "## 1. Logic express"
   ]
  },
  {
   "cell_type": "markdown",
   "metadata": {},
   "source": [
    "### 1.1. Numerical compare express"
   ]
  },
  {
   "cell_type": "markdown",
   "metadata": {},
   "source": [
    "#### 1.1.1. Standard POSIX format\n",
    "\n",
    "- use `[ express ];`\n",
    "- use `test express;`"
   ]
  },
  {
   "cell_type": "code",
   "execution_count": null,
   "metadata": {},
   "outputs": [],
   "source": [
    "num1=10;\n",
    "num2=20;\n",
    "\n",
    "if [ $num1 -eq $num2 ]; then\n",
    "    echo \"* the express \\\"$num1 == $num2\\\" is established\";\n",
    "elif test $num1 -ne $num2; then\n",
    "    echo \"* the express \\\"$num1 < $num2\\\" is established\";\n",
    "fi"
   ]
  },
  {
   "cell_type": "markdown",
   "metadata": {},
   "source": [
    "#### 1.1.2. Bash extends\n",
    "\n",
    "- use `((advanced compare express));`"
   ]
  },
  {
   "cell_type": "code",
   "execution_count": null,
   "metadata": {},
   "outputs": [],
   "source": [
    "num1=10;\n",
    "num2=20;\n",
    "\n",
    "if ((num1 == num2)); then\n",
    "    echo \"* the express \\\"$num1 == $num2\\\" is established\";\n",
    "elif ((num1 < num2)); then\n",
    "    echo \"* the express \\\"$num1 < $num2\\\" is established\";\n",
    "fi"
   ]
  },
  {
   "cell_type": "markdown",
   "metadata": {},
   "source": [
    "### 1.2. String compare express"
   ]
  },
  {
   "cell_type": "markdown",
   "metadata": {},
   "source": [
    "#### 1.2.1. Standard POSIX format\n",
    "\n",
    "- Use `[ express ];`\n",
    "- Use `test express;`"
   ]
  },
  {
   "cell_type": "code",
   "execution_count": null,
   "metadata": {},
   "outputs": [],
   "source": [
    "s1='Alvin';\n",
    "s2='Emma';\n",
    "\n",
    "if [ \"$s1\" == \"$s2\" ]; then\n",
    "    echo \"* the express \\\"$s1 == $s2\\\" is established\";\n",
    "elif [ \"$s1\" \\> \"$s2\" ]; then\n",
    "    echo \"* the express \\\"$s1 > $s2\\\" is established\";\n",
    "elif test \"$s1\" \\< \"$s2\"; then\n",
    "    echo \"* the express \\\"$s1 < $s2\\\" is established\";\n",
    "fi"
   ]
  },
  {
   "cell_type": "markdown",
   "metadata": {},
   "source": [
    "#### 1.2.2. Bash extends\n",
    "\n",
    "- Use `[[ express ]]`"
   ]
  },
  {
   "cell_type": "code",
   "execution_count": null,
   "metadata": {},
   "outputs": [],
   "source": [
    "s1='Alvin';\n",
    "s2='Emma';\n",
    "\n",
    "if [[ \"$s1\" == \"$s2\" ]]; then\n",
    "    echo \"* the express \\\"$s1 == $s2\\\" is established\";\n",
    "elif [[ \"$s1\" > \"$s2\" ]]; then\n",
    "    echo \"* the express \\\"$s1 > $s2\\\" is established\";\n",
    "elif [[ \"$s1\" < \"$s2\" ]]; then\n",
    "    echo \"* the express \\\"$s1 < $s2\\\" is established\";\n",
    "fi"
   ]
  },
  {
   "cell_type": "markdown",
   "metadata": {},
   "source": [
    "- Fuzzy match"
   ]
  },
  {
   "cell_type": "code",
   "execution_count": null,
   "metadata": {},
   "outputs": [],
   "source": [
    "s1='Alvin';\n",
    "\n",
    "if [[ \"$s1\" == A* ]]; then\n",
    "    echo \"* string \\\"$s1\\\" is starts with \\\"A\\\"\";\n",
    "fi"
   ]
  },
  {
   "cell_type": "markdown",
   "metadata": {},
   "source": [
    "### 1.3. Save express boolean result to variable"
   ]
  },
  {
   "cell_type": "code",
   "execution_count": null,
   "metadata": {},
   "outputs": [],
   "source": [
    "res=$([ 4 -eq 5 ]; echo $?);\n",
    "echo \"* result of [ 4 -eq 5 ]; is $res\";"
   ]
  },
  {
   "cell_type": "markdown",
   "metadata": {},
   "source": [
    "## 2. Compare operators"
   ]
  },
  {
   "cell_type": "markdown",
   "metadata": {},
   "source": [
    "### 2.1. Number compare operators"
   ]
  },
  {
   "cell_type": "markdown",
   "metadata": {},
   "source": [
    "#### 2.1.1. POSIX standard\n",
    "\n",
    "|Operator|Explain|\n",
    "|---|---|\n",
    "|`-eq` (==)|Test express1 is equals to express2|\n",
    "|`-ne` (!=)|Test express1 is not equals to express2|\n",
    "|`-lt` (<)|Test express1 is less than express2|\n",
    "|`-le` (<=)|Test express1 is less or equals than express2|\n",
    "|`-gt` (>)|Test express1 is great than express2|\n",
    "|`-ge` (>=)|Test express1 is great or equals express2|"
   ]
  },
  {
   "cell_type": "code",
   "execution_count": null,
   "metadata": {},
   "outputs": [],
   "source": [
    "# test if a == 100\n",
    "a=100;\n",
    "if [ $a -eq 100 ]; then\n",
    "    echo \"* var a=$a is equals to 100\";\n",
    "fi\n",
    "\n",
    "# test if a != 100\n",
    "a=10;\n",
    "if [ $a -ne 100 ]; then\n",
    "    echo \"* var a=$a is not equals to 100\";\n",
    "fi\n",
    "\n",
    "# test if a < 100\n",
    "a=10;\n",
    "if [ $a -lt 100 ]; then\n",
    "    echo \"* var a=$a is less than 100\";\n",
    "fi\n",
    "\n",
    "# test if a <= 100\n",
    "a=100;\n",
    "if [ $a -le 100 ]; then\n",
    "    echo \"* var a=$a is less or equals than 100\";\n",
    "fi\n",
    "\n",
    "# test if a > 100\n",
    "a=110;\n",
    "if [ $a -gt 100 ]; then\n",
    "    echo \"* var a=$a is great than 100\";\n",
    "fi\n",
    "\n",
    "# test if a >= 100\n",
    "a=100;\n",
    "if [ $a -ge 100 ]; then\n",
    "    echo \"* var a=$a is great or equals than 100\";\n",
    "fi"
   ]
  },
  {
   "cell_type": "markdown",
   "metadata": {},
   "source": [
    "#### 2.1.2. Bash extend"
   ]
  },
  {
   "cell_type": "code",
   "execution_count": null,
   "metadata": {},
   "outputs": [],
   "source": [
    "# test if a == 100\n",
    "a=100;\n",
    "if (( a == 100 )); then\n",
    "    echo \"* var a=$a is equals to 100\";\n",
    "fi\n",
    "\n",
    "# test if a != 100\n",
    "a=10;\n",
    "if (( a != 100 )); then\n",
    "    echo \"* var a=$a is not equals to 100\";\n",
    "fi\n",
    "\n",
    "# test if a < 100\n",
    "a=10;\n",
    "if (( a < 100 )); then\n",
    "    echo \"* var a=$a is less than 100\";\n",
    "fi\n",
    "\n",
    "# test if a <= 100\n",
    "a=100;\n",
    "if (( a <= 100 )); then\n",
    "    echo \"* var a=$a is less or equals than 100\";\n",
    "fi\n",
    "\n",
    "# test if a > 100\n",
    "a=110;\n",
    "if (( a > 100 )); then\n",
    "    echo \"* var a=$a is great than 100\";\n",
    "fi\n",
    "\n",
    "# test if a >= 100\n",
    "a=100;\n",
    "if (( a >= 100 )); then\n",
    "    echo \"* var a=$a is great or equals than 100\";\n",
    "fi"
   ]
  },
  {
   "cell_type": "markdown",
   "metadata": {},
   "source": [
    "### 2.2. String compare operators"
   ]
  },
  {
   "cell_type": "markdown",
   "metadata": {},
   "source": [
    "#### 2.2.1. POSIX standard\n",
    "\n",
    "|Operator|Explain|\n",
    "|---|---|\n",
    "|`==`|Test express1 is equals to express2|\n",
    "|`\\>` (>)|Test express1 is not equals to express2|\n",
    "|`\\<` (<)|Test express1 is less than express2|\n",
    "|`-z` (is empty)|Test express is an empty string|\n",
    "|`-n` (is not empty)|Test express is not an empty string|"
   ]
  },
  {
   "cell_type": "code",
   "execution_count": null,
   "metadata": {},
   "outputs": [],
   "source": [
    "# test if s == 'abc'\n",
    "s=\"abc\";\n",
    "if [ \"$s\" == 'abc' ]; then\n",
    "    echo \"* s=$s is equals to 'abc'\";\n",
    "fi\n",
    "\n",
    "# test if s > 'abc'\n",
    "s=\"bbc\";\n",
    "if [ \"$s\" \\> 'abc' ]; then\n",
    "    echo \"* s=$s is great than 'abc'\";\n",
    "fi\n",
    "\n",
    "# test if s < 'abc'\n",
    "s=\"0bc\";\n",
    "if [ \"$s\" \\< 'abc' ]; then\n",
    "    echo \"* s=$s is less than 'abc'\";\n",
    "fi\n",
    "\n",
    "# test if s is empty\n",
    "unset s;\n",
    "if [ -z \"$s\" ]; then\n",
    "    echo \"* s=$s    is empty\";\n",
    "fi\n",
    "\n",
    "s=\"abc\";\n",
    "if [ -n \"$s\" ]; then\n",
    "    echo \"* s=$s is not empty\";\n",
    "fi"
   ]
  },
  {
   "cell_type": "markdown",
   "metadata": {},
   "source": [
    "#### 2.2.2. Bash extend"
   ]
  },
  {
   "cell_type": "code",
   "execution_count": null,
   "metadata": {},
   "outputs": [],
   "source": [
    "# test if s == 'abc'\n",
    "s=\"abc\";\n",
    "if [[ \"$s\" == 'abc' ]]; then\n",
    "    echo \"* s=$s is equals to 'abc'\";\n",
    "fi\n",
    "\n",
    "# test if s > 'abc'\n",
    "s=\"bbc\";\n",
    "if [[ $s > 'abc' ]]; then\n",
    "    echo \"* s=$s is great than 'abc'\";\n",
    "fi\n",
    "\n",
    "# test if s < 'abc'\n",
    "s=\"0bc\";\n",
    "if [[ $s < 'abc' ]]; then\n",
    "    echo \"* s=$s is less than 'abc'\";\n",
    "fi\n",
    "\n",
    "# test if s is empty\n",
    "unset s;\n",
    "if [[ -z $s ]]; then\n",
    "    echo \"* s=$s    is empty\";\n",
    "fi\n",
    "\n",
    "s=\"abc\";\n",
    "if [[ -n $s ]]; then\n",
    "    echo \"* s=$s is not empty\";\n",
    "fi"
   ]
  },
  {
   "cell_type": "markdown",
   "metadata": {},
   "source": [
    "## 3. Logic operators"
   ]
  },
  {
   "cell_type": "markdown",
   "metadata": {},
   "source": [
    "### 3.1. And, Or, Not operator"
   ]
  },
  {
   "cell_type": "markdown",
   "metadata": {},
   "source": [
    "#### 3.1.1. POSIX standard\n",
    "\n",
    "|Operator|Explain|\n",
    "|---|---|\n",
    "|`-a` (and)|Test express1 and express2 both are true|\n",
    "|`-o` (or)|Test express1 is ture or express2 is ture|\n",
    "|`!` (not)|Test express1 is less than express2|"
   ]
  },
  {
   "cell_type": "code",
   "execution_count": null,
   "metadata": {},
   "outputs": [],
   "source": [
    "s1=\"ABC\";\n",
    "s2=\"abc\";\n",
    "\n",
    "# test if (s1 is not empty) and (s2 == 'abc')\n",
    "if [ -n \"$s1\" -a \"$s2\" == 'abc' ]; then\n",
    "    echo \"* test if s1=$s1 is not empty and s2=$s2 is equals to 'abc'\";\n",
    "fi\n",
    "\n",
    "# test if (s1 is empty) or (s2 == 'abc')\n",
    "if [ -z \"$s1\" -o \"$s2\" == 'abc' ]; then\n",
    "    echo \"* test if s1=$s1 is empty or s2=$s2 is equals to 'abc'\";\n",
    "fi\n",
    "\n",
    "# test if not (s1 is not empty)\n",
    "unset s1;\n",
    "if [ ! -n \"$s1\" ]; then\n",
    "    echo \"* test if s1=$s1    is empty and s2=$s2 is equals to 'abc'\";\n",
    "fi"
   ]
  },
  {
   "cell_type": "markdown",
   "metadata": {},
   "source": [
    "#### 3.1.2. Bash extend\n",
    "\n",
    "- `&&`: and, `[ ... ] && [ ... ]`\n",
    "- `||`: or, `[ ... ] || [ ... ]`"
   ]
  },
  {
   "cell_type": "code",
   "execution_count": null,
   "metadata": {},
   "outputs": [],
   "source": [
    "s1=\"ABC\";\n",
    "s2=\"abc\";\n",
    "\n",
    "# test if (s1 is not empty) and (s2 == 'abc')\n",
    "if [ -n \"$s1\" ] && [ \"$s2\" == 'abc' ]; then\n",
    "    echo \"* test if s1=$s1 is not empty and s2=$s2 is equals to 'abc'\";\n",
    "fi\n",
    "\n",
    "# test if (s1 is empty) or (s2 == 'abc')\n",
    "if [ -z \"$s1\" ] || [ \"$s2\" == 'abc' ]; then\n",
    "    echo \"* test if s1=$s1 is empty or s2=$s2 is equals to 'abc'\";\n",
    "fi"
   ]
  }
 ],
 "metadata": {
  "kernelspec": {
   "display_name": "Bash",
   "language": "bash",
   "name": "bash"
  },
  "language_info": {
   "codemirror_mode": "shell",
   "file_extension": ".sh",
   "mimetype": "text/x-sh",
   "name": "bash"
  }
 },
 "nbformat": 4,
 "nbformat_minor": 4
}
