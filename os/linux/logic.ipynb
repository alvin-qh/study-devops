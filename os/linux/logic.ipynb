{
 "cells": [
  {
   "cell_type": "markdown",
   "metadata": {},
   "source": [
    "# Logic operator"
   ]
  },
  {
   "cell_type": "markdown",
   "metadata": {},
   "source": [
    "## 1. Logic express"
   ]
  },
  {
   "cell_type": "markdown",
   "metadata": {},
   "source": [
    "### 1.1. Numerical compare express"
   ]
  },
  {
   "cell_type": "markdown",
   "metadata": {},
   "source": [
    "#### 1.1.1. Standard POSIX format\n",
    "\n",
    "- use `[ express ];`\n",
    "- use `test express;`"
   ]
  },
  {
   "cell_type": "code",
   "execution_count": null,
   "metadata": {},
   "outputs": [],
   "source": [
    "num1=10;\n",
    "num2=20;\n",
    "\n",
    "if [ $num1 -eq $num2 ]; then\n",
    "    echo \"* the express \\\"$num1 == $num2\\\" is established\";\n",
    "elif test $num1 -ne $num2; then\n",
    "    echo \"* the express \\\"$num1 < $num2\\\" is established\";\n",
    "fi"
   ]
  },
  {
   "cell_type": "markdown",
   "metadata": {},
   "source": [
    "#### 1.1.2. Bash extends\n",
    "\n",
    "- use `((advanced compare express));`"
   ]
  },
  {
   "cell_type": "code",
   "execution_count": null,
   "metadata": {},
   "outputs": [],
   "source": [
    "num1=10;\n",
    "num2=20;\n",
    "\n",
    "if ((num1 == num2)); then\n",
    "    echo \"* the express \\\"$num1 == $num2\\\" is established\";\n",
    "elif ((num1 < num2)); then\n",
    "    echo \"* the express \\\"$num1 < $num2\\\" is established\";\n",
    "fi"
   ]
  },
  {
   "cell_type": "markdown",
   "metadata": {},
   "source": [
    "### 1.2. String compare express"
   ]
  },
  {
   "cell_type": "markdown",
   "metadata": {},
   "source": [
    "#### 1.2.1. Standard POSIX format\n",
    "\n",
    "- Use `[ express ];`\n",
    "- Use `test express;`"
   ]
  },
  {
   "cell_type": "code",
   "execution_count": null,
   "metadata": {},
   "outputs": [],
   "source": [
    "s1='Alvin';\n",
    "s2='Emma';\n",
    "\n",
    "if [ \"$s1\" == \"$s2\" ]; then\n",
    "    echo \"* the express \\\"$s1 == $s2\\\" is established\";\n",
    "elif [ \"$s1\" \\> \"$s2\" ]; then\n",
    "    echo \"* the express \\\"$s1 > $s2\\\" is established\";\n",
    "elif test \"$s1\" \\< \"$s2\"; then\n",
    "    echo \"* the express \\\"$s1 < $s2\\\" is established\";\n",
    "fi"
   ]
  },
  {
   "cell_type": "markdown",
   "metadata": {},
   "source": [
    "#### 1.2.2. Bash extends\n",
    "\n",
    "- Use `[[ express ]]`"
   ]
  },
  {
   "cell_type": "code",
   "execution_count": null,
   "metadata": {},
   "outputs": [],
   "source": [
    "s1='Alvin';\n",
    "s2='Emma';\n",
    "\n",
    "if [[ \"$s1\" == \"$s2\" ]]; then\n",
    "    echo \"* the express \\\"$s1 == $s2\\\" is established\";\n",
    "elif [[ \"$s1\" > \"$s2\" ]]; then\n",
    "    echo \"* the express \\\"$s1 > $s2\\\" is established\";\n",
    "elif [[ \"$s1\" < \"$s2\" ]]; then\n",
    "    echo \"* the express \\\"$s1 < $s2\\\" is established\";\n",
    "fi"
   ]
  },
  {
   "cell_type": "markdown",
   "metadata": {},
   "source": [
    "- Fuzzy match"
   ]
  },
  {
   "cell_type": "code",
   "execution_count": null,
   "metadata": {},
   "outputs": [],
   "source": [
    "s1='Alvin';\n",
    "\n",
    "if [[ \"$s1\" == A* ]]; then\n",
    "    echo \"* string \\\"$s1\\\" is starts with \\\"A\\\"\";\n",
    "fi"
   ]
  },
  {
   "cell_type": "markdown",
   "metadata": {},
   "source": [
    "### 1.3. Save express boolean result to variable"
   ]
  },
  {
   "cell_type": "code",
   "execution_count": null,
   "metadata": {},
   "outputs": [],
   "source": [
    "res=$([ 4 -eq 5 ]; echo $?);\n",
    "echo \"* result of [ 4 -eq 5 ]; is $res\";"
   ]
  },
  {
   "cell_type": "markdown",
   "metadata": {},
   "source": [
    "## 2. Compare operators"
   ]
  },
  {
   "cell_type": "markdown",
   "metadata": {},
   "source": [
    "### 2.1. Number compare operators"
   ]
  },
  {
   "cell_type": "markdown",
   "metadata": {},
   "source": [
    "#### 2.1.1. POSIX standard\n",
    "\n",
    "|Operator|Explain|\n",
    "|---|---|\n",
    "|`-eq` (==)|Test express1 is equals to express2|\n",
    "|`-ne` (!=)|Test express1 is not equals to express2|\n",
    "|`-lt` (<)|Test express1 is less than express2|\n",
    "|`-le` (<=)|Test express1 is less or equals than express2|\n",
    "|`-gt` (>)|Test express1 is great than express2|\n",
    "|`-ge` (>=)|Test express1 is great or equals express2|"
   ]
  },
  {
   "cell_type": "code",
   "execution_count": null,
   "metadata": {},
   "outputs": [],
   "source": [
    "# test if a == 100\n",
    "a=100;\n",
    "if [ $a -eq 100 ]; then\n",
    "    echo \"* var a=$a is equals to 100\";\n",
    "fi\n",
    "\n",
    "# test if a != 100\n",
    "a=10;\n",
    "if [ $a -ne 100 ]; then\n",
    "    echo \"* var a=$a is not equals to 100\";\n",
    "fi\n",
    "\n",
    "# test if a < 100\n",
    "a=10;\n",
    "if [ $a -lt 100 ]; then\n",
    "    echo \"* var a=$a is less than 100\";\n",
    "fi\n",
    "\n",
    "# test if a <= 100\n",
    "a=100;\n",
    "if [ $a -le 100 ]; then\n",
    "    echo \"* var a=$a is less or equals than 100\";\n",
    "fi\n",
    "\n",
    "# test if a > 100\n",
    "a=110;\n",
    "if [ $a -gt 100 ]; then\n",
    "    echo \"* var a=$a is great than 100\";\n",
    "fi\n",
    "\n",
    "# test if a >= 100\n",
    "a=100;\n",
    "if [ $a -ge 100 ]; then\n",
    "    echo \"* var a=$a is great or equals than 100\";\n",
    "fi"
   ]
  },
  {
   "cell_type": "markdown",
   "metadata": {},
   "source": [
    "#### 2.1.2. Bash extend"
   ]
  },
  {
   "cell_type": "code",
   "execution_count": null,
   "metadata": {},
   "outputs": [],
   "source": [
    "# test if a == 100\n",
    "a=100;\n",
    "if (( a == 100 )); then\n",
    "    echo \"* var a=$a is equals to 100\";\n",
    "fi\n",
    "\n",
    "# test if a != 100\n",
    "a=10;\n",
    "if (( a != 100 )); then\n",
    "    echo \"* var a=$a is not equals to 100\";\n",
    "fi\n",
    "\n",
    "# test if a < 100\n",
    "a=10;\n",
    "if (( a < 100 )); then\n",
    "    echo \"* var a=$a is less than 100\";\n",
    "fi\n",
    "\n",
    "# test if a <= 100\n",
    "a=100;\n",
    "if (( a <= 100 )); then\n",
    "    echo \"* var a=$a is less or equals than 100\";\n",
    "fi\n",
    "\n",
    "# test if a > 100\n",
    "a=110;\n",
    "if (( a > 100 )); then\n",
    "    echo \"* var a=$a is great than 100\";\n",
    "fi\n",
    "\n",
    "# test if a >= 100\n",
    "a=100;\n",
    "if (( a >= 100 )); then\n",
    "    echo \"* var a=$a is great or equals than 100\";\n",
    "fi"
   ]
  },
  {
   "cell_type": "markdown",
   "metadata": {},
   "source": [
    "### 2.2. String compare operators"
   ]
  },
  {
   "cell_type": "markdown",
   "metadata": {},
   "source": [
    "#### 2.2.1. POSIX standard\n",
    "\n",
    "|Operator|Explain|\n",
    "|---|---|\n",
    "|`==`|Test express1 is equals to express2|\n",
    "|`\\>` (>)|Test express1 is not equals to express2|\n",
    "|`\\<` (<)|Test express1 is less than express2|\n",
    "|`-z` (is empty)|Test express is an empty string|\n",
    "|`-n` (is not empty)|Test express is not an empty string|"
   ]
  },
  {
   "cell_type": "code",
   "execution_count": null,
   "metadata": {},
   "outputs": [],
   "source": [
    "# test if s == 'abc'\n",
    "s=\"abc\";\n",
    "if [ \"$s\" == 'abc' ]; then\n",
    "    echo \"* s=$s is equals to 'abc'\";\n",
    "fi\n",
    "\n",
    "# test if s > 'abc'\n",
    "s=\"bbc\";\n",
    "if [ \"$s\" \\> 'abc' ]; then\n",
    "    echo \"* s=$s is great than 'abc'\";\n",
    "fi\n",
    "\n",
    "# test if s < 'abc'\n",
    "s=\"0bc\";\n",
    "if [ \"$s\" \\< 'abc' ]; then\n",
    "    echo \"* s=$s is less than 'abc'\";\n",
    "fi\n",
    "\n",
    "# test if s is empty\n",
    "unset s;\n",
    "if [ -z \"$s\" ]; then\n",
    "    echo \"* s=$s    is empty\";\n",
    "fi\n",
    "\n",
    "s=\"abc\";\n",
    "if [ -n \"$s\" ]; then\n",
    "    echo \"* s=$s is not empty\";\n",
    "fi"
   ]
  },
  {
   "cell_type": "markdown",
   "metadata": {},
   "source": [
    "#### 2.2.2. Bash extend"
   ]
  },
  {
   "cell_type": "code",
   "execution_count": null,
   "metadata": {},
   "outputs": [],
   "source": [
    "# test if s == 'abc'\n",
    "s=\"abc\";\n",
    "if [[ \"$s\" == 'abc' ]]; then\n",
    "    echo \"* s=$s is equals to 'abc'\";\n",
    "fi\n",
    "\n",
    "# test if s > 'abc'\n",
    "s=\"bbc\";\n",
    "if [[ $s > 'abc' ]]; then\n",
    "    echo \"* s=$s is great than 'abc'\";\n",
    "fi\n",
    "\n",
    "# test if s < 'abc'\n",
    "s=\"0bc\";\n",
    "if [[ $s < 'abc' ]]; then\n",
    "    echo \"* s=$s is less than 'abc'\";\n",
    "fi\n",
    "\n",
    "# test if s is empty\n",
    "unset s;\n",
    "if [[ -z $s ]]; then\n",
    "    echo \"* s=$s    is empty\";\n",
    "fi\n",
    "\n",
    "s=\"abc\";\n",
    "if [[ -n $s ]]; then\n",
    "    echo \"* s=$s is not empty\";\n",
    "fi"
   ]
  },
  {
   "cell_type": "markdown",
   "metadata": {},
   "source": [
    "### 2.3. File test operators"
   ]
  },
  {
   "cell_type": "markdown",
   "metadata": {},
   "source": [
    "#### 2.3.1. File operators\n",
    "\n",
    "|Operator|Explain|\n",
    "|---|---|\n",
    "|`-e` (exsit)|Test if file exist|\n",
    "|`-f` (file)|Test if is a file (not a directory)|\n",
    "|`-s` (not empty)|Test if file length great than 0|\n",
    "|`-r`, `-w`, `-x` (read, write, exectue)|Test file attribute is read, write or exectute|\n",
    "|`-N` (new content)|Test if file was changed after last time read|\n",
    "|`-O` (owner)|Test if file's owner is current user|\n",
    "|`-L` (link)|Test if file is a link|\n",
    "|`-h` (link)|Test if file is a hard link|"
   ]
  },
  {
   "cell_type": "code",
   "execution_count": null,
   "metadata": {},
   "outputs": [],
   "source": [
    "file=\"$(pwd)/test.txt\";\n",
    "\n",
    "# test if file exist\n",
    "if [ -e $file ]; then\n",
    "    echo \"* file \\\"$file\\\" is exist\";\n",
    "else\n",
    "    echo \"* file \\\"$file\\\" is not exist\";\n",
    "fi\n",
    "\n",
    "touch $file\n",
    "\n",
    "if [ -e $file ]; then\n",
    "    echo \"* after touch, file \\\"$file\\\" is exist\";\n",
    "else\n",
    "    echo \"* after touch, file \\\"$file\\\" is not exist\";\n",
    "fi\n",
    "\n",
    "# test if file is standard file\n",
    "if [ -f $file ]; then\n",
    "    echo \"* file \\\"$file\\\" is a file\";\n",
    "fi\n",
    "\n",
    "# test if file is not empty\n",
    "if [ -s $file ]; then\n",
    "    echo \"* file \\\"$file\\\" is not empty file\";\n",
    "else\n",
    "    echo \"* file \\\"$file\\\" is empty file\";\n",
    "fi\n",
    "\n",
    "# test if file have new content\n",
    "if [ -N $file ]; then\n",
    "    echo \"* file \\\"$file\\\" has new content to read\";\n",
    "else\n",
    "    echo \"* file \\\"$file\\\" has not new content to read\";\n",
    "fi\n",
    "\n",
    "# test file attribute (can read, can write, can execute)\n",
    "attrib=(\"-\" \"-\" \"-\");\n",
    "\n",
    "chmod -x $file;\n",
    "\n",
    "if [ -r $file ]; then\n",
    "    attrib[0]='r';\n",
    "fi\n",
    "\n",
    "if [ -w $file ]; then\n",
    "    attrib[1]='w';\n",
    "fi\n",
    "\n",
    "if [ -x $file ]; then\n",
    "    attrib[2]='x';\n",
    "fi\n",
    "\n",
    "echo \"* file \\\"$file\\\" attributes are ${attrib[0]}${attrib[1]}${attrib[2]}\";\n",
    "\n",
    "# test if file belong to me\n",
    "if [ -O $file ]; then\n",
    "    echo \"* file \\\"$file\\\" was created by me\";\n",
    "else\n",
    "    echo \"* file \\\"$file\\\" was created by others\";\n",
    "fi\n",
    "\n",
    "# test if file is a link\n",
    "s_link=\"$(pwd)/test-s-link.txt\";\n",
    "ln -sb $file $s_link\n",
    "\n",
    "if [ -L $s_link ]; then\n",
    "    echo \"* file \\\"$s_link\\\" is a file link\";\n",
    "else\n",
    "    echo \"* file \\\"$s_link\\\" is not a file link\";\n",
    "fi\n",
    "\n",
    "# test if file is hard link\n",
    "h_link=\"$(pwd)/test-h-link.txt\";\n",
    "ln -b $file $h_link\n",
    "\n",
    "if [ -h $h_link ]; then\n",
    "    echo \"* file \\\"$h_link\\\" is a hard file link\";\n",
    "else\n",
    "    echo \"* file \\\"$h_link\\\" is not a hard file link\";\n",
    "fi\n",
    "\n",
    "\n",
    "rm $s_link\n",
    "rm $h_link\n",
    "rm $file"
   ]
  },
  {
   "cell_type": "markdown",
   "metadata": {},
   "source": [
    "#### 2.3.2. Directory operators\n",
    "\n",
    "|Operator|Explain|\n",
    "|---|---|\n",
    "|`-d` (directory)|Test if a directory|"
   ]
  },
  {
   "cell_type": "code",
   "execution_count": null,
   "metadata": {},
   "outputs": [],
   "source": [
    "dir=\"$(pwd)/test\";\n",
    "\n",
    "# test if file exist\n",
    "if [ -d $dir ]; then\n",
    "    echo \"* directory \\\"$dir\\\" is exist\";\n",
    "else\n",
    "    echo \"* directory \\\"$dir\\\" is not exist\";\n",
    "fi\n",
    "\n",
    "mkdir $dir\n",
    "\n",
    "if [ -d $dir ]; then\n",
    "    echo \"* directory \\\"$dir\\\" is exist\";\n",
    "else\n",
    "    echo \"* directory \\\"$dir\\\" is not exist\";\n",
    "fi\n",
    "\n",
    "\n",
    "rm -r $dir"
   ]
  },
  {
   "cell_type": "markdown",
   "metadata": {},
   "source": [
    "## 3. Logic operators"
   ]
  },
  {
   "cell_type": "markdown",
   "metadata": {},
   "source": [
    "### 3.1. And, Or, Not operator"
   ]
  },
  {
   "cell_type": "markdown",
   "metadata": {},
   "source": [
    "#### 3.1.1. POSIX standard\n",
    "\n",
    "|Operator|Explain|\n",
    "|---|---|\n",
    "|`-a` (and)|Test express1 and express2 both are true|\n",
    "|`-o` (or)|Test express1 is ture or express2 is ture|\n",
    "|`!` (not)|Test express1 is less than express2|"
   ]
  },
  {
   "cell_type": "code",
   "execution_count": null,
   "metadata": {},
   "outputs": [],
   "source": [
    "s1=\"ABC\";\n",
    "s2=\"abc\";\n",
    "\n",
    "# test if (s1 is not empty) and (s2 == 'abc')\n",
    "if [ -n \"$s1\" -a \"$s2\" == 'abc' ]; then\n",
    "    echo \"* test if s1=$s1 is not empty and s2=$s2 is equals to 'abc'\";\n",
    "fi\n",
    "\n",
    "# test if (s1 is empty) or (s2 == 'abc')\n",
    "if [ -z \"$s1\" -o \"$s2\" == 'abc' ]; then\n",
    "    echo \"* test if s1=$s1 is empty or s2=$s2 is equals to 'abc'\";\n",
    "fi\n",
    "\n",
    "# test if not (s1 is not empty)\n",
    "unset s1;\n",
    "if [ ! -n \"$s1\" ]; then\n",
    "    echo \"* test if s1=$s1    is empty and s2=$s2 is equals to 'abc'\";\n",
    "fi"
   ]
  },
  {
   "cell_type": "markdown",
   "metadata": {},
   "source": [
    "#### 3.1.2. Bash extend\n",
    "\n",
    "- `&&`: and, `[ ... ] && [ ... ]`\n",
    "- `||`: or, `[ ... ] || [ ... ]`"
   ]
  },
  {
   "cell_type": "code",
   "execution_count": null,
   "metadata": {},
   "outputs": [],
   "source": [
    "s1=\"ABC\";\n",
    "s2=\"abc\";\n",
    "\n",
    "# test if (s1 is not empty) and (s2 == 'abc')\n",
    "if [ -n \"$s1\" ] && [ \"$s2\" == 'abc' ]; then\n",
    "    echo \"* test if s1=$s1 is not empty and s2=$s2 is equals to 'abc'\";\n",
    "fi\n",
    "\n",
    "# test if (s1 is empty) or (s2 == 'abc')\n",
    "if [ -z \"$s1\" ] || [ \"$s2\" == 'abc' ]; then\n",
    "    echo \"* test if s1=$s1 is empty or s2=$s2 is equals to 'abc'\";\n",
    "fi\n",
    "\n",
    "# test if not (s1 is not empty)\n",
    "unset s1;\n",
    "if [ ! -n \"$s1\" ]; then\n",
    "    echo \"* test if s1=$s1    is empty and s2=$s2 is equals to 'abc'\";\n",
    "fi"
   ]
  }
 ],
 "metadata": {
  "kernelspec": {
   "display_name": "Bash",
   "language": "bash",
   "name": "bash"
  },
  "language_info": {
   "codemirror_mode": "shell",
   "file_extension": ".sh",
   "mimetype": "text/x-sh",
   "name": "bash"
  }
 },
 "nbformat": 4,
 "nbformat_minor": 4
}
