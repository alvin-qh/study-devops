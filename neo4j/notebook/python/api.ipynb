{
 "cells": [
  {
   "cell_type": "markdown",
   "metadata": {},
   "source": [
    "# NEO4j Python API"
   ]
  },
  {
   "cell_type": "markdown",
   "metadata": {},
   "source": [
    "## 1. Setup"
   ]
  },
  {
   "cell_type": "markdown",
   "metadata": {},
   "source": [
    "### 1.1. Import packages"
   ]
  },
  {
   "cell_type": "code",
   "execution_count": null,
   "metadata": {},
   "outputs": [],
   "source": [
    "import neo4j as neo\n",
    "import json"
   ]
  },
  {
   "cell_type": "markdown",
   "metadata": {},
   "source": [
    "### 1.2. Define connection variables"
   ]
  },
  {
   "cell_type": "code",
   "execution_count": null,
   "metadata": {},
   "outputs": [],
   "source": [
    "URL = 'bolt://localhost:7687'\n",
    "AUTH = ('neo4j', 'neo4j_')\n",
    "\n",
    "INDENT = ' ' * 2"
   ]
  },
  {
   "cell_type": "markdown",
   "metadata": {},
   "source": [
    "### 1.3. Test connection"
   ]
  },
  {
   "cell_type": "code",
   "execution_count": null,
   "metadata": {},
   "outputs": [],
   "source": [
    "try:\n",
    "    driver = neo.GraphDatabase.driver(URL, auth=AUTH, encrypted=False)\n",
    "    print('* Connect successful.')\n",
    "except:\n",
    "    print('* Connect failed.')\n",
    "finally:\n",
    "    driver.close()"
   ]
  },
  {
   "cell_type": "markdown",
   "metadata": {},
   "source": [
    "### 1.4. Support methods"
   ]
  },
  {
   "cell_type": "markdown",
   "metadata": {},
   "source": [
    "#### 1.4.1. Query methods"
   ]
  },
  {
   "cell_type": "code",
   "execution_count": null,
   "metadata": {},
   "outputs": [],
   "source": [
    "def do_query(tx, query, **args):\n",
    "    result = tx.run(query, **args)\n",
    "    return result.single()\n",
    "\n",
    "def run_transaction(statement_list):\n",
    "    driver = neo.GraphDatabase.driver(URL, auth=AUTH, encrypted=False)\n",
    "    try:\n",
    "        with driver.session() as session:\n",
    "            results = []\n",
    "            for statement in statement_list:\n",
    "                query = statement['statement']\n",
    "                args = statement.get('args', {})\n",
    "                method = statement.get('method', 'READ')\n",
    "\n",
    "                if method == 'WRITE':\n",
    "                    result = session.write_transaction(do_query, query, **args)\n",
    "                else:\n",
    "                    result = session.read_transaction(do_query, query, **args)\n",
    "                \n",
    "                results.append(result)\n",
    "            return results\n",
    "    finally:\n",
    "        driver.close()"
   ]
  },
  {
   "cell_type": "markdown",
   "metadata": {},
   "source": [
    "#### 1.4.2. Show results"
   ]
  },
  {
   "cell_type": "code",
   "execution_count": null,
   "metadata": {},
   "outputs": [],
   "source": [
    "def show_record(record): \n",
    "    print('* record: <{}, count={}>'.format(list(record.keys()), len(record)))\n",
    "    \n",
    "def show_node(node, key, prefix=''):\n",
    "    print('{}- node: <{}, count={}>'.format(prefix, key, len(node)))\n",
    "    print('{}{}labels: {}'.format(prefix, INDENT, list(node.labels)))\n",
    "    print('{}{}physical id: {}'.format(prefix, INDENT, node.id))\n",
    "    print('{}{}properties: '.format(prefix, INDENT))\n",
    "    print('{}{}keys: {}'.format(prefix, INDENT * 2, list(node.keys())))\n",
    "    print('{}{}values: {}'.format(prefix, INDENT * 2, list(node.values())))\n",
    "    print('{}{}each propertiy: '.format(prefix, INDENT))\n",
    "    for key in node.keys():\n",
    "        print('{}{}{}: {}'.format(prefix, INDENT * 2, key, node[key]))\n",
    "        \n",
    "def show_relationships(prefix, relationships):\n",
    "    print('{}- relationships: <count={}>'.format(prefix, len(relationships)))\n",
    "    for r in relationships:\n",
    "        print('{}{}relationship: <id={}, type={}>'.format(prefix, INDENT, r.id, r.type))\n",
    "        \n",
    "def show_path(path, key, prefix=''):\n",
    "    print('{}- path: <{}, count={}>'.format(prefix, key, len(path)))\n",
    "    print('{}{}start node: <id={}, label={}>'.format(prefix, INDENT, path.start_node.id, list(path.start_node.labels)))\n",
    "    print('{}{}end node: <id={}, label={}>'.format(prefix, INDENT, path.end_node.id, list(path.end_node.labels)))\n",
    "    show_relationships('{}{}'.format(prefix, INDENT), path.relationships)\n",
    "\n",
    "def show_value(value, key, prefix=''):\n",
    "    print('{}- value: <{}>'.format(prefix, key))\n",
    "    print('{}{}value: {}'.format(prefix, INDENT, value))\n",
    "\n",
    "def pretty_output(records):\n",
    "    for record in records:\n",
    "        if not record:\n",
    "            continue\n",
    "        show_record(record)\n",
    "        \n",
    "        for r, key in zip(record, record.keys()):\n",
    "            if isinstance(r, neo.graph.Node):\n",
    "                show_node(r, key, prefix=INDENT)\n",
    "            elif isinstance(r, neo.graph.Path):\n",
    "                show_path(r, key, prefix=INDENT)\n",
    "            elif isinstance(r, list) and isinstance(r[0], neo.graph.Relationship):\n",
    "                show_relationships(INDENT, r)\n",
    "            elif isinstance(r, neo.graph.Relationship):\n",
    "                show_relationships(INDENT, [r])\n",
    "            else:\n",
    "                show_value(r, key, prefix=INDENT)"
   ]
  },
  {
   "cell_type": "markdown",
   "metadata": {},
   "source": [
    "## 2. Neo4j Statements"
   ]
  },
  {
   "cell_type": "markdown",
   "metadata": {},
   "source": [
    "### 2.1. Object create and update"
   ]
  },
  {
   "cell_type": "markdown",
   "metadata": {},
   "source": [
    "#### 2.1.1. Create or merge two persons named 'Alvin' and 'Emma'"
   ]
  },
  {
   "cell_type": "code",
   "execution_count": null,
   "metadata": {},
   "outputs": [],
   "source": [
    "statements = [\n",
    "    {\n",
    "        'statement': 'MERGE (person:Person {id: $id, name: $name, gender: $gender}) '\n",
    "                     'RETURN person',\n",
    "        'args': {\n",
    "            'id': 1,\n",
    "            'name': 'Alvin',\n",
    "            'gender': 'M'\n",
    "        },\n",
    "        'method': 'WRITE'\n",
    "    },\n",
    "    {\n",
    "        'statement': 'MERGE (person:Person {id: $id, name: $name, gender: $gender}) '\n",
    "                     'RETURN person',\n",
    "        'args': {\n",
    "            'id': 2,\n",
    "            'name': 'Emma',\n",
    "            'gender': 'F'\n",
    "        },\n",
    "        'method': 'WRITE'\n",
    "    }\n",
    "]\n",
    "\n",
    "pretty_output(run_transaction(statements))"
   ]
  },
  {
   "cell_type": "markdown",
   "metadata": {},
   "source": [
    "#### 2.1.2. Update person's birthdays"
   ]
  },
  {
   "cell_type": "code",
   "execution_count": null,
   "metadata": {},
   "outputs": [],
   "source": [
    "statements = [\n",
    "    {\n",
    "        'statement': 'MATCH (person:Person)'\n",
    "                     'WHERE person.id = $id '\n",
    "                     'SET person.birthday = $birthday '\n",
    "                     'RETURN person',\n",
    "        'args': {\n",
    "            'id': 1,\n",
    "            'birthday': '1981-03-17'\n",
    "        },\n",
    "        'method': 'WRITE'\n",
    "    },\n",
    "    {\n",
    "        'statement': 'MATCH (person:Person)'\n",
    "                     'WHERE person.id = $id '\n",
    "                     'SET person.birthday = $birthday '\n",
    "                     'RETURN person',\n",
    "        'args': {\n",
    "            'id': 2,\n",
    "            'birthday': '1985-03-29'\n",
    "        },\n",
    "        'method': 'WRITE'\n",
    "    }\n",
    "]\n",
    "\n",
    "pretty_output(run_transaction(statements))"
   ]
  },
  {
   "cell_type": "markdown",
   "metadata": {},
   "source": [
    "#### 2.1.3. Make relationship 'Married' between 'Alvin' and 'Emma'"
   ]
  },
  {
   "cell_type": "code",
   "execution_count": null,
   "metadata": {},
   "outputs": [],
   "source": [
    "statements = [\n",
    "    {\n",
    "        'statement': 'MATCH (p1:Person), (p2:Person)'\n",
    "                     'WHERE p1.id = $id1 AND p2.id = $id2 '\n",
    "                     'MERGE (p1)-[r:Married]->(p2) '\n",
    "                     'RETURN p1, p2, type(r)',\n",
    "        'args': {\n",
    "            'id1': 1,\n",
    "            'id2': 2\n",
    "        },\n",
    "        'method': 'WRITE'\n",
    "    }\n",
    "]\n",
    "\n",
    "pretty_output(run_transaction(statements))"
   ]
  },
  {
   "cell_type": "markdown",
   "metadata": {},
   "source": [
    "#### 2.1.4. Create cat 'Lily' and make 'Feed' relationship to 'Alvin'"
   ]
  },
  {
   "cell_type": "code",
   "execution_count": null,
   "metadata": {},
   "outputs": [],
   "source": [
    "statements = [\n",
    "    {\n",
    "        'statement': 'MATCH (person:Person) '\n",
    "                     'WHERE person.id = $person_id '\n",
    "                     'MERGE (cat:Cat { id: $cat_id, name: $cat_name }) '\n",
    "                     'MERGE (person)-[r:Feed]->(cat) '\n",
    "                     'RETURN person, cat, type(r)',\n",
    "        'args': {\n",
    "            'person_id': 1,\n",
    "            'cat_id': 3,\n",
    "            'cat_name': \"Lily\"\n",
    "        },\n",
    "        'method': 'WRITE'\n",
    "    }\n",
    "]\n",
    "\n",
    "pretty_output(run_transaction(statements))"
   ]
  },
  {
   "cell_type": "markdown",
   "metadata": {},
   "source": [
    "### 2.2. Query"
   ]
  },
  {
   "cell_type": "markdown",
   "metadata": {},
   "source": [
    "#### 2.2.1. Find person who feed cat Lily "
   ]
  },
  {
   "cell_type": "code",
   "execution_count": null,
   "metadata": {},
   "outputs": [],
   "source": [
    "statements = [\n",
    "    {\n",
    "        'statement': 'MATCH (person:Person)-[r:Feed]->(cat:Cat) '\n",
    "                     'WHERE cat.name = $cat_name '\n",
    "                     'RETURN person, cat, type(r)',\n",
    "        'args': {\n",
    "            'cat_name': \"Lily\"\n",
    "        }\n",
    "    }\n",
    "]\n",
    "\n",
    "pretty_output(run_transaction(statements))"
   ]
  },
  {
   "cell_type": "markdown",
   "metadata": {},
   "source": [
    "#### 2.2.2. Find persons who has relationship with cat 'Lily'"
   ]
  },
  {
   "cell_type": "code",
   "execution_count": null,
   "metadata": {},
   "outputs": [],
   "source": [
    "statements = [\n",
    "    {\n",
    "        'statement': 'MATCH (person:Person)-[r*]->(cat:Cat) '\n",
    "                     'WHERE cat.name = $cat_name '\n",
    "                     'RETURN DISTINCT person.name',\n",
    "        'args': {\n",
    "            'cat_name': 'Lily'\n",
    "        }\n",
    "    }\n",
    "]\n",
    "\n",
    "pretty_output(run_transaction(statements))"
   ]
  },
  {
   "cell_type": "markdown",
   "metadata": {},
   "source": [
    "#### 2.2.3. Find who has relationship with cat Lily"
   ]
  },
  {
   "cell_type": "code",
   "execution_count": null,
   "metadata": {},
   "outputs": [],
   "source": [
    "statements = [\n",
    "    {\n",
    "        'statement': 'MATCH (p1:Person)-[:Married]-(p2:Person)-[r:Feed*]->(c:Cat) '\n",
    "                     'WHERE c.name=$cat_name '\n",
    "                     'RETURN DISTINCT p1.name',\n",
    "        'args': {\n",
    "            'cat_name': 'Lily'\n",
    "        }\n",
    "    }\n",
    "]\n",
    "\n",
    "pretty_output(run_transaction(statements))"
   ]
  },
  {
   "cell_type": "markdown",
   "metadata": {},
   "source": [
    "#### 2.2.4. Find graph to cat Lily"
   ]
  },
  {
   "cell_type": "code",
   "execution_count": null,
   "metadata": {},
   "outputs": [],
   "source": [
    "statements = [\n",
    "    {\n",
    "        'statement': 'MATCH g = (person:Person)-[r*]->(cat:Cat) '\n",
    "                     'WHERE cat.name = $cat_name '\n",
    "                     'RETURN g, length(g)',\n",
    "        'args': {\n",
    "            'cat_name': 'Lily'\n",
    "        }\n",
    "    }\n",
    "]\n",
    "\n",
    "pretty_output(run_transaction(statements))"
   ]
  },
  {
   "cell_type": "markdown",
   "metadata": {},
   "source": [
    "#### 2.2.5. Find last children node in relationship chain"
   ]
  },
  {
   "cell_type": "code",
   "execution_count": null,
   "metadata": {},
   "outputs": [],
   "source": [
    "statements = [\n",
    "    {\n",
    "        'statement': 'MATCH ()-[*]->(n:Cat) '\n",
    "                     'WHERE NOT (n)-[]->() '\n",
    "                     'RETURN DISTINCT n'\n",
    "    }\n",
    "]\n",
    "\n",
    "pretty_output(run_transaction(statements))"
   ]
  },
  {
   "cell_type": "markdown",
   "metadata": {},
   "source": [
    "#### 2.2.6. Match results"
   ]
  },
  {
   "cell_type": "code",
   "execution_count": null,
   "metadata": {},
   "outputs": [],
   "source": [
    "statements = [\n",
    "    {\n",
    "        'statement': 'MATCH ()-[r*]->(n:Cat) '\n",
    "                     'WHERE NOT (n)-[]->() '\n",
    "                     'RETURN DISTINCT n'\n",
    "    }\n",
    "]\n",
    "\n",
    "pretty_output(run_transaction(statements))\n",
    "\n",
    "statements = [\n",
    "    {\n",
    "        'statement': 'MATCH (m)-[r*]->(n:Cat) '\n",
    "                     'WHERE NOT (n)-[]->() '\n",
    "                     'RETURN DISTINCT r, m, n'\n",
    "    }\n",
    "]\n",
    "\n",
    "pretty_output(run_transaction(statements))"
   ]
  },
  {
   "cell_type": "markdown",
   "metadata": {},
   "source": [
    "## 2.3. Delete nodes"
   ]
  },
  {
   "cell_type": "markdown",
   "metadata": {},
   "source": [
    "### 2.3.1. Delete all relationships"
   ]
  },
  {
   "cell_type": "code",
   "execution_count": null,
   "metadata": {},
   "outputs": [],
   "source": [
    "statements = [\n",
    "    {\n",
    "        'statement': 'MATCH ()-[r]->() '\n",
    "                     'DELETE r '\n",
    "                     'RETURN r',\n",
    "        'method': 'WRITE'\n",
    "    }\n",
    "]\n",
    "\n",
    "pretty_output(run_transaction(statements))"
   ]
  },
  {
   "cell_type": "markdown",
   "metadata": {},
   "source": [
    "### 2.3.2. Delete all nodes"
   ]
  },
  {
   "cell_type": "code",
   "execution_count": null,
   "metadata": {},
   "outputs": [],
   "source": [
    "statements = [\n",
    "    {\n",
    "        'statement': 'MATCH (n) '\n",
    "                     'DELETE n '\n",
    "                     'RETURN n',\n",
    "        'method': 'WRITE'\n",
    "    }\n",
    "]\n",
    "\n",
    "pretty_output(run_transaction(statements))"
   ]
  },
  {
   "cell_type": "markdown",
   "metadata": {},
   "source": [
    "### 2.3.1. Delete by relationships"
   ]
  },
  {
   "cell_type": "code",
   "execution_count": null,
   "metadata": {},
   "outputs": [],
   "source": [
    "statements = [\n",
    "    {\n",
    "        'statement': 'MATCH ()-[mr:Married]->() '\n",
    "                     'MATCH ()-[fr:Feed]->() '\n",
    "                     'OPTIONAL MATCH (ps:Person) '\n",
    "                     'OPTIONAL MATCH(cs:Cat) '\n",
    "                     'DELETE mr, fr, ps, cs '\n",
    "                     'RETURN mr, fr, ps, cs',\n",
    "        'method': 'WRITE'\n",
    "    }\n",
    "]\n",
    "\n",
    "pretty_output(run_transaction(statements))"
   ]
  },
  {
   "cell_type": "markdown",
   "metadata": {},
   "source": [
    "### 2.3.4. Query all nodes"
   ]
  },
  {
   "cell_type": "code",
   "execution_count": null,
   "metadata": {},
   "outputs": [],
   "source": [
    "statements = [\n",
    "    {\n",
    "        'statement': 'MATCH (n)'\n",
    "                     'RETURN n'\n",
    "    }\n",
    "]\n",
    "\n",
    "pretty_output(run_transaction(statements))"
   ]
  },
  {
   "cell_type": "markdown",
   "metadata": {},
   "source": [
    "## 2.4. Misc"
   ]
  },
  {
   "cell_type": "markdown",
   "metadata": {},
   "source": [
    "### 2.4.1. Import"
   ]
  },
  {
   "cell_type": "markdown",
   "metadata": {},
   "source": [
    "#### 2.4.1.1. Imprt from csv"
   ]
  },
  {
   "cell_type": "code",
   "execution_count": null,
   "metadata": {},
   "outputs": [],
   "source": [
    "statements = [\n",
    "    {\n",
    "        'statement': 'LOAD CSV WITH HEADERS FROM \"file:///data.csv\" AS line '\n",
    "                     'MERGE (p1:Person {id: line[\"id\"], name: line[\"name\"]}) '\n",
    "                     'MERGE (p2:Person {id: line[\"married\"]}) '\n",
    "                     'MERGE (p1)-[:Married]->(p2) '\n",
    "                     'RETURN p1, p2',\n",
    "        'method': 'WRITE'\n",
    "    }\n",
    "]\n",
    "\n",
    "pretty_output(run_transaction(statements))"
   ]
  },
  {
   "cell_type": "markdown",
   "metadata": {},
   "source": [
    "#### 2.4.1.2. Query import result"
   ]
  },
  {
   "cell_type": "code",
   "execution_count": null,
   "metadata": {},
   "outputs": [],
   "source": [
    "statements = [\n",
    "    {\n",
    "        'statement': 'MATCH (n)-[r]->(m)'\n",
    "                     'RETURN n, r, m'\n",
    "    }\n",
    "]\n",
    "\n",
    "pretty_output(run_transaction(statements))"
   ]
  },
  {
   "cell_type": "markdown",
   "metadata": {},
   "source": [
    "### 2.4.2. Fulltext index"
   ]
  },
  {
   "cell_type": "markdown",
   "metadata": {},
   "source": [
    "#### 2.4.2.1. List all fulltext analyzers"
   ]
  },
  {
   "cell_type": "code",
   "execution_count": null,
   "metadata": {},
   "outputs": [],
   "source": [
    "statements = [\n",
    "    {\n",
    "        'statement': 'CALL db.index.fulltext.listAvailableAnalyzers()'\n",
    "    }\n",
    "]\n",
    "\n",
    "pretty_output(run_transaction(statements))"
   ]
  },
  {
   "cell_type": "markdown",
   "metadata": {},
   "source": [
    "#### 2.4.2.2. Create fulltext index"
   ]
  },
  {
   "cell_type": "code",
   "execution_count": null,
   "metadata": {},
   "outputs": [],
   "source": [
    "statements = [\n",
    "    {\n",
    "        'statement': 'CALL db.index.fulltext.createNodeIndex(\"ix_name\", [\"Person\", \"Cat\"], [\"name\"], {analyzer: \"cjk\"})',\n",
    "        'method': 'WRITE'\n",
    "    }\n",
    "]\n",
    "\n",
    "pretty_output(run_transaction(statements))\n",
    "print('* index created')"
   ]
  },
  {
   "cell_type": "markdown",
   "metadata": {},
   "source": [
    "#### 2.4.2.3. Query by fulltext index"
   ]
  },
  {
   "cell_type": "code",
   "execution_count": null,
   "metadata": {},
   "outputs": [],
   "source": [
    "statements = [\n",
    "    {\n",
    "        'statement': 'CALL db.index.fulltext.queryNodes(\"ix_name\", \"Alvin\") YIELD node, score '\n",
    "                     'RETURN node, score'\n",
    "    }\n",
    "]\n",
    "\n",
    "pretty_output(run_transaction(statements))"
   ]
  },
  {
   "cell_type": "markdown",
   "metadata": {},
   "source": [
    "#### 2.4.2.4. Drop fulltext index"
   ]
  },
  {
   "cell_type": "code",
   "execution_count": null,
   "metadata": {},
   "outputs": [],
   "source": [
    "statements = [\n",
    "    {\n",
    "        'statement': 'CALL db.index.fulltext.drop(\"ix_name\") ',\n",
    "        'method': 'WRITE'\n",
    "    }\n",
    "]\n",
    "\n",
    "pretty_output(run_transaction(statements))"
   ]
  }
 ],
 "metadata": {
  "kernelspec": {
   "display_name": "Python 3",
   "language": "python",
   "name": "python3"
  },
  "language_info": {
   "codemirror_mode": {
    "name": "ipython",
    "version": 3
   },
   "file_extension": ".py",
   "mimetype": "text/x-python",
   "name": "python",
   "nbconvert_exporter": "python",
   "pygments_lexer": "ipython3",
   "version": "3.8.5"
  }
 },
 "nbformat": 4,
 "nbformat_minor": 4
}
