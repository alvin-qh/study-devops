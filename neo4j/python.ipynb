{
 "cells": [
  {
   "cell_type": "markdown",
   "metadata": {},
   "source": [
    "# NEO4j Python API"
   ]
  },
  {
   "cell_type": "markdown",
   "metadata": {},
   "source": [
    "## 1. Setup"
   ]
  },
  {
   "cell_type": "markdown",
   "metadata": {},
   "source": [
    "### 1.1. Import packages"
   ]
  },
  {
   "cell_type": "code",
   "execution_count": null,
   "metadata": {},
   "outputs": [],
   "source": [
    "import neo4j as neo\n",
    "import json"
   ]
  },
  {
   "cell_type": "markdown",
   "metadata": {},
   "source": [
    "### 1.2. Define connection variables"
   ]
  },
  {
   "cell_type": "code",
   "execution_count": null,
   "metadata": {},
   "outputs": [],
   "source": [
    "URL = 'bolt://localhost:7687'\n",
    "AUTH = ('neo4j', 'neo4j_')"
   ]
  },
  {
   "cell_type": "markdown",
   "metadata": {},
   "source": [
    "### 1.3. Test connection"
   ]
  },
  {
   "cell_type": "code",
   "execution_count": null,
   "metadata": {},
   "outputs": [],
   "source": [
    "try:\n",
    "    driver = neo.GraphDatabase.driver(URL, auth=AUTH, encrypted=False)\n",
    "    print('* Connect successful.')\n",
    "except:\n",
    "    print('* Connect failed.')\n",
    "finally:\n",
    "    driver.close()"
   ]
  },
  {
   "cell_type": "markdown",
   "metadata": {},
   "source": [
    "### 1.4. Support methods"
   ]
  },
  {
   "cell_type": "markdown",
   "metadata": {},
   "source": [
    "#### 1.4.1. Query methods"
   ]
  },
  {
   "cell_type": "code",
   "execution_count": null,
   "metadata": {},
   "outputs": [],
   "source": [
    "def do_query(tx, query, **args):\n",
    "    result = tx.run(query, **args)\n",
    "    return result\n",
    "\n",
    "def run_transaction(statement_list):\n",
    "    driver = neo.GraphDatabase.driver(URL, auth=AUTH, encrypted=False)\n",
    "    try:\n",
    "        with driver.session() as session:\n",
    "            results = []\n",
    "            for statement in statement_list:\n",
    "                query = statement['statement']\n",
    "                args = statement.get('args', {})\n",
    "                method = statement.get('method', 'READ')\n",
    "\n",
    "                if method == 'WRITE':\n",
    "                    result = session.write_transaction(do_query, query, **args)\n",
    "                else:\n",
    "                    result = session.read_transaction(do_query, query, **args)\n",
    "                \n",
    "                results.append(result)\n",
    "                \n",
    "            return results\n",
    "    finally:\n",
    "        driver.close()"
   ]
  },
  {
   "cell_type": "markdown",
   "metadata": {},
   "source": [
    "#### 1.4.2. Show results"
   ]
  },
  {
   "cell_type": "code",
   "execution_count": null,
   "metadata": {},
   "outputs": [],
   "source": [
    "def pretty_output(results_lists):\n",
    "    for n, results in enumerate(results_lists):\n",
    "        results = results.values()\n",
    "        for m, result in enumerate(results):\n",
    "            for i, r in enumerate(result):\n",
    "                print('* {}.{}.{}: {}'.format(n, m, i, r))"
   ]
  },
  {
   "cell_type": "markdown",
   "metadata": {},
   "source": [
    "#### 1.4.3. Show neo4j node"
   ]
  },
  {
   "cell_type": "code",
   "execution_count": null,
   "metadata": {},
   "outputs": [],
   "source": [
    "def show_node(node):\n",
    "    print('* node information are: ')\n",
    "    print('\\tphysical id is: {}'.format(node.id))\n",
    "    print('\\tlabel is: {}'.format(next(iter(node.labels))))\n",
    "    print('\\tproperties are: ')\n",
    "    print('\\t\\tkeys: {}'.format(list(node.keys())))\n",
    "    print('\\t\\tvalues: {}'.format(list(node.values())))\n",
    "    print('\\t\\tid: {}'.format(node['id']))\n",
    "    print('\\t\\tname: {}'.format(node.get('name')))"
   ]
  },
  {
   "cell_type": "markdown",
   "metadata": {},
   "source": [
    "#### 1.4.4. Show relationship"
   ]
  },
  {
   "cell_type": "code",
   "execution_count": null,
   "metadata": {},
   "outputs": [],
   "source": [
    "def show_relationship(relationships):\n",
    "    for r in relationships:\n",
    "        r = r[0][0]\n",
    "        print('-> relationship informations are:')\n",
    "        print('\\tid: {}'.format(r.id))\n",
    "        print('\\tlabel: {}'.format(r.type))\n",
    "        print('\\tstart node[id={}, name={}]'.format(r.start_node['id'], r.start_node['name']))\n",
    "        print('\\tend node[id={}, name={}]'.format(r.end_node['id'], r.end_node['name']))"
   ]
  },
  {
   "cell_type": "markdown",
   "metadata": {},
   "source": [
    "## 2. Neo4j Statements"
   ]
  },
  {
   "cell_type": "markdown",
   "metadata": {},
   "source": [
    "### 2.1. Object create and update"
   ]
  },
  {
   "cell_type": "markdown",
   "metadata": {},
   "source": [
    "#### 2.1.1. Create or merge two persons named 'Alvin' and 'Emma'"
   ]
  },
  {
   "cell_type": "code",
   "execution_count": null,
   "metadata": {},
   "outputs": [],
   "source": [
    "statements = [\n",
    "    {\n",
    "        'statement': 'MERGE (person:Person {id: $id, name: $name, gender: $gender}) '\n",
    "                     'RETURN person',\n",
    "        'args': {\n",
    "            'id': 1,\n",
    "            'name': 'Alvin',\n",
    "            'gender': 'M'\n",
    "        },\n",
    "        'method': 'WRITE'\n",
    "    },\n",
    "    {\n",
    "        'statement': 'MERGE (person:Person {id: $id, name: $name, gender: $gender}) '\n",
    "                     'RETURN person',\n",
    "        'args': {\n",
    "            'id': 2,\n",
    "            'name': 'Emma',\n",
    "            'gender': 'F'\n",
    "        },\n",
    "        'method': 'WRITE'\n",
    "    }\n",
    "]\n",
    "\n",
    "pretty_output(run_transaction(statements))"
   ]
  },
  {
   "cell_type": "markdown",
   "metadata": {},
   "source": [
    "#### 2.1.2. Update person's birthdays"
   ]
  },
  {
   "cell_type": "code",
   "execution_count": null,
   "metadata": {},
   "outputs": [],
   "source": [
    "statements = [\n",
    "    {\n",
    "        'statement': 'MATCH (person:Person)'\n",
    "                     'WHERE person.id = $id '\n",
    "                     'SET person.birthday = $birthday '\n",
    "                     'RETURN person',\n",
    "        'args': {\n",
    "            'id': 1,\n",
    "            'birthday': '1981-03-17'\n",
    "        },\n",
    "        'method': 'WRITE'\n",
    "    },\n",
    "    {\n",
    "        'statement': 'MATCH (person:Person)'\n",
    "                     'WHERE person.id = $id '\n",
    "                     'SET person.birthday = $birthday '\n",
    "                     'RETURN person',\n",
    "        'args': {\n",
    "            'id': 2,\n",
    "            'birthday': '1985-03-29'\n",
    "        },\n",
    "        'method': 'WRITE'\n",
    "    }\n",
    "]\n",
    "\n",
    "pretty_output(run_transaction(statements))"
   ]
  },
  {
   "cell_type": "markdown",
   "metadata": {},
   "source": [
    "#### 2.1.3. Make relationship 'Married' between 'Alvin' and 'Emma'"
   ]
  },
  {
   "cell_type": "code",
   "execution_count": null,
   "metadata": {},
   "outputs": [],
   "source": [
    "statements = [\n",
    "    {\n",
    "        'statement': 'MATCH (p1:Person), (p2:Person)'\n",
    "                     'WHERE p1.id = $id1 AND p2.id = $id2 '\n",
    "                     'MERGE (p1)-[r:Married]->(p2) '\n",
    "                     'RETURN p1, p2, type(r)',\n",
    "        'args': {\n",
    "            'id1': 1,\n",
    "            'id2': 2\n",
    "        },\n",
    "        'method': 'WRITE'\n",
    "    }\n",
    "]\n",
    "\n",
    "pretty_output(run_transaction(statements))"
   ]
  },
  {
   "cell_type": "markdown",
   "metadata": {},
   "source": [
    "#### 2.1.4. Create cat 'Lily' and make 'Feed' relationship to 'Alvin'"
   ]
  },
  {
   "cell_type": "code",
   "execution_count": null,
   "metadata": {},
   "outputs": [],
   "source": [
    "statements = [\n",
    "    {\n",
    "        'statement': 'MATCH (person:Person) '\n",
    "                     'WHERE person.id = $person_id '\n",
    "                     'MERGE (cat:Cat { id: $cat_id, name: $cat_name }) '\n",
    "                     'MERGE (person)-[r:Feed]->(cat) '\n",
    "                     'RETURN person, cat, type(r)',\n",
    "        'args': {\n",
    "            'person_id': 1,\n",
    "            'cat_id': 3,\n",
    "            'cat_name': \"Lily\"\n",
    "        },\n",
    "        'method': 'WRITE'\n",
    "    }\n",
    "]\n",
    "\n",
    "pretty_output(run_transaction(statements))"
   ]
  },
  {
   "cell_type": "markdown",
   "metadata": {},
   "source": [
    "### 2.2. Query"
   ]
  },
  {
   "cell_type": "markdown",
   "metadata": {},
   "source": [
    "#### 2.2.1. Find person who feed cat Lily "
   ]
  },
  {
   "cell_type": "code",
   "execution_count": null,
   "metadata": {},
   "outputs": [],
   "source": [
    "statements = [\n",
    "    {\n",
    "        'statement': 'MATCH (person:Person)-[r:Feed]->(cat:Cat) '\n",
    "                     'WHERE cat.name = $cat_name '\n",
    "                     'RETURN person, cat, type(r)',\n",
    "        'args': {\n",
    "            'cat_name': \"Lily\"\n",
    "        }\n",
    "    }\n",
    "]\n",
    "\n",
    "pretty_output(run_transaction(statements))"
   ]
  },
  {
   "cell_type": "markdown",
   "metadata": {},
   "source": [
    "#### 2.2.2. Find persons who has relationship with cat 'Lily'"
   ]
  },
  {
   "cell_type": "code",
   "execution_count": null,
   "metadata": {},
   "outputs": [],
   "source": [
    "statements = [\n",
    "    {\n",
    "        'statement': 'MATCH (person:Person)-[r*]->(cat:Cat) '\n",
    "                     'WHERE cat.name = $cat_name '\n",
    "                     'RETURN DISTINCT person.name',\n",
    "        'args': {\n",
    "            'cat_name': 'Lily'\n",
    "        }\n",
    "    }\n",
    "]\n",
    "\n",
    "pretty_output(run_transaction(statements))"
   ]
  },
  {
   "cell_type": "markdown",
   "metadata": {},
   "source": [
    "#### 2.2.3. Find who has relationship with cat Lily"
   ]
  },
  {
   "cell_type": "code",
   "execution_count": null,
   "metadata": {},
   "outputs": [],
   "source": [
    "statements = [\n",
    "    {\n",
    "        'statement': 'MATCH (p1:Person)-[:Married]-(p2:Person)-[r:Feed*]->(c:Cat) '\n",
    "                     'WHERE c.name=$cat_name '\n",
    "                     'RETURN DISTINCT p1.name',\n",
    "        'args': {\n",
    "            'cat_name': 'Lily'\n",
    "        }\n",
    "    }\n",
    "]\n",
    "\n",
    "pretty_output(run_transaction(statements))"
   ]
  },
  {
   "cell_type": "markdown",
   "metadata": {},
   "source": [
    "#### 2.2.4. Find graph to cat Lily"
   ]
  },
  {
   "cell_type": "code",
   "execution_count": null,
   "metadata": {},
   "outputs": [],
   "source": [
    "statements = [\n",
    "    {\n",
    "        'statement': 'MATCH g = (person:Person)-[r*]->(cat:Cat) '\n",
    "                     'WHERE cat.name = $cat_name '\n",
    "                     'RETURN g, length(g)',\n",
    "        'args': {\n",
    "            'cat_name': 'Lily'\n",
    "        }\n",
    "    }\n",
    "]\n",
    "\n",
    "pretty_output(run_transaction(statements))"
   ]
  },
  {
   "cell_type": "markdown",
   "metadata": {},
   "source": [
    "#### 2.2.5. Find last children node in relationship chain"
   ]
  },
  {
   "cell_type": "code",
   "execution_count": null,
   "metadata": {},
   "outputs": [],
   "source": [
    "statements = [\n",
    "    {\n",
    "        'statement': 'MATCH ()-[*]->(n:Cat) '\n",
    "                     'WHERE NOT (n)-[]->() '\n",
    "                     'RETURN DISTINCT n'\n",
    "    }\n",
    "]\n",
    "\n",
    "pretty_output(run_transaction(statements))"
   ]
  },
  {
   "cell_type": "markdown",
   "metadata": {},
   "source": [
    "#### 2.2.6. Match results"
   ]
  },
  {
   "cell_type": "code",
   "execution_count": null,
   "metadata": {},
   "outputs": [],
   "source": [
    "statements = [\n",
    "    {\n",
    "        'statement': 'MATCH ()-[r*]->(n:Cat) '\n",
    "                     'WHERE NOT (n)-[]->() '\n",
    "                     'RETURN DISTINCT n'\n",
    "    }\n",
    "]\n",
    "\n",
    "show_node(run_transaction(statements)[0].values()[0][0])\n",
    "\n",
    "statements = [\n",
    "    {\n",
    "        'statement': 'MATCH (m)-[r*]->(n:Cat) '\n",
    "                     'WHERE NOT (n)-[]->() '\n",
    "                     'RETURN DISTINCT r, m, n'\n",
    "    }\n",
    "]\n",
    "\n",
    "print()\n",
    "show_relationship(run_transaction(statements)[0].values())"
   ]
  },
  {
   "cell_type": "markdown",
   "metadata": {},
   "source": [
    "## 2.3. Delete nodes"
   ]
  },
  {
   "cell_type": "markdown",
   "metadata": {},
   "source": [
    "### 2.3.1. Delete all relationships"
   ]
  },
  {
   "cell_type": "code",
   "execution_count": null,
   "metadata": {},
   "outputs": [],
   "source": [
    "statements = [\n",
    "    {\n",
    "        'statement': 'MATCH ()-[r]->() '\n",
    "                     'DELETE r '\n",
    "                     'RETURN r'\n",
    "    }\n",
    "]\n",
    "\n",
    "pretty_output(run_transaction(statements))"
   ]
  },
  {
   "cell_type": "markdown",
   "metadata": {},
   "source": [
    "### 2.3.2. Delete all nodes"
   ]
  },
  {
   "cell_type": "code",
   "execution_count": null,
   "metadata": {},
   "outputs": [],
   "source": [
    "statements = [\n",
    "    {\n",
    "        'statement': 'MATCH (n) '\n",
    "                     'DELETE n '\n",
    "                     'RETURN n'\n",
    "    }\n",
    "]\n",
    "\n",
    "pretty_output(run_transaction(statements))"
   ]
  },
  {
   "cell_type": "markdown",
   "metadata": {},
   "source": [
    "### 2.3.1. Delete by relationships"
   ]
  },
  {
   "cell_type": "code",
   "execution_count": null,
   "metadata": {},
   "outputs": [],
   "source": [
    "statements = [\n",
    "    {\n",
    "        'statement': 'MATCH ()-[mr:Married]->() '\n",
    "                     'MATCH ()-[fr:Feed]->() '\n",
    "                     'OPTIONAL MATCH (ps:Person) '\n",
    "                     'OPTIONAL MATCH(cs:Cat) '\n",
    "                     'DELETE mr, fr, ps, cs '\n",
    "                     'RETURN mr, fr, ps, cs'\n",
    "    }\n",
    "]\n",
    "\n",
    "pretty_output(run_transaction(statements))"
   ]
  },
  {
   "cell_type": "markdown",
   "metadata": {},
   "source": [
    "### 2.3.4. Query all nodes"
   ]
  },
  {
   "cell_type": "code",
   "execution_count": null,
   "metadata": {},
   "outputs": [],
   "source": [
    "statements = [\n",
    "    {\n",
    "        'statement': 'MATCH (n)'\n",
    "                     'RETURN n'\n",
    "    }\n",
    "]\n",
    "\n",
    "pretty_output(run_transaction(statements))"
   ]
  },
  {
   "cell_type": "markdown",
   "metadata": {},
   "source": [
    "## 2.4. Misc"
   ]
  },
  {
   "cell_type": "markdown",
   "metadata": {},
   "source": [
    "### 2.4.1. Import"
   ]
  },
  {
   "cell_type": "markdown",
   "metadata": {},
   "source": [
    "#### 2.4.1.1. Imprt from csv"
   ]
  },
  {
   "cell_type": "code",
   "execution_count": null,
   "metadata": {},
   "outputs": [],
   "source": [
    "statements = [\n",
    "    {\n",
    "        'statement': 'LOAD CSV WITH HEADERS FROM \"file:///data.csv\" AS line '\n",
    "                     'MERGE (p1:Person {id: line[\"id\"], name: line[\"name\"]}) '\n",
    "                     'MERGE (p2:Person {id: line[\"married\"]}) '\n",
    "                     'MERGE (p1)-[:Married]->(p2) '\n",
    "                     'RETURN p1, p2'\n",
    "    }\n",
    "]\n",
    "\n",
    "pretty_output(run_transaction(statements))"
   ]
  },
  {
   "cell_type": "markdown",
   "metadata": {},
   "source": [
    "#### 2.4.1.2. Query import result"
   ]
  },
  {
   "cell_type": "code",
   "execution_count": null,
   "metadata": {},
   "outputs": [],
   "source": [
    "statements = [\n",
    "    {\n",
    "        'statement': 'MATCH (n)-[r]->(m)'\n",
    "                     'RETURN n, r, m'\n",
    "    }\n",
    "]\n",
    "\n",
    "pretty_output(run_transaction(statements))"
   ]
  },
  {
   "cell_type": "markdown",
   "metadata": {},
   "source": [
    "### 2.4.2. Fulltext index"
   ]
  },
  {
   "cell_type": "markdown",
   "metadata": {},
   "source": [
    "#### 2.4.2.1. List all fulltext analyzers"
   ]
  },
  {
   "cell_type": "code",
   "execution_count": null,
   "metadata": {},
   "outputs": [],
   "source": [
    "statements = [\n",
    "    {\n",
    "        'statement': 'CALL db.index.fulltext.listAvailableAnalyzers()'\n",
    "    }\n",
    "]\n",
    "\n",
    "pretty_output(run_transaction(statements))"
   ]
  },
  {
   "cell_type": "markdown",
   "metadata": {},
   "source": [
    "#### 2.4.2.2. Create fulltext index"
   ]
  },
  {
   "cell_type": "code",
   "execution_count": null,
   "metadata": {},
   "outputs": [],
   "source": [
    "statements = [\n",
    "    {\n",
    "        'statement': 'CALL db.index.fulltext.createNodeIndex(\"ix_name\", [\"Person\", \"Cat\"], [\"name\"], {analyzer: \"cjk\"})'\n",
    "    }\n",
    "]\n",
    "\n",
    "pretty_output(run_transaction(statements))\n",
    "print('* index created')"
   ]
  },
  {
   "cell_type": "markdown",
   "metadata": {},
   "source": [
    "#### 2.4.2.3. Query by fulltext index"
   ]
  },
  {
   "cell_type": "code",
   "execution_count": null,
   "metadata": {},
   "outputs": [],
   "source": [
    "statements = [\n",
    "    {\n",
    "        'statement': 'CALL db.index.fulltext.queryNodes(\"ix_name\", \"Alvin\") YIELD node, score '\n",
    "                     'RETURN node, score'\n",
    "    }\n",
    "]\n",
    "\n",
    "pretty_output(run_transaction(statements))"
   ]
  },
  {
   "cell_type": "markdown",
   "metadata": {},
   "source": [
    "#### 2.4.2.4. Query by fulltext index"
   ]
  },
  {
   "cell_type": "code",
   "execution_count": null,
   "metadata": {},
   "outputs": [],
   "source": [
    "statements = [\n",
    "    {\n",
    "        'statement': 'CALL db.index.fulltext.drop(\"ix_name\") '\n",
    "    }\n",
    "]\n",
    "\n",
    "pretty_output(run_transaction(statements))"
   ]
  }
 ],
 "metadata": {
  "kernelspec": {
   "display_name": "Python 3",
   "language": "python",
   "name": "python3"
  },
  "language_info": {
   "codemirror_mode": {
    "name": "ipython",
    "version": 3
   },
   "file_extension": ".py",
   "mimetype": "text/x-python",
   "name": "python",
   "nbconvert_exporter": "python",
   "pygments_lexer": "ipython3",
   "version": "3.7.5"
  }
 },
 "nbformat": 4,
 "nbformat_minor": 4
}
