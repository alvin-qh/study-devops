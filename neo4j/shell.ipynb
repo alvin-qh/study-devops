{
 "cells": [
  {
   "cell_type": "markdown",
   "metadata": {},
   "source": [
    "# Run neo4j by http request"
   ]
  },
  {
   "cell_type": "markdown",
   "metadata": {},
   "source": [
    "## 1. Run statement by 'curl' with json string"
   ]
  },
  {
   "cell_type": "code",
   "execution_count": null,
   "metadata": {},
   "outputs": [],
   "source": [
    "curl -H 'Cache-Control: no-cache' -H 'Content-Type: application/json' \\\n",
    "     -u 'neo4j:neo4j_'  \\\n",
    "     -X POST 'http://localhost:7474/db/data/transaction/commit' -d '{\n",
    "        \"statements\": [\n",
    "            {\n",
    "                \"statement\": \"MERGE (person:Person { id: $id, name: $name, gender: $gender }) RETURN person\",\n",
    "                \"parameters\": {\n",
    "                    \"id\": 1,\n",
    "                    \"name\": \"Alvin\",\n",
    "                    \"gender\": \"M\"\n",
    "                }\n",
    "            },\n",
    "            {\n",
    "                \"statement\": \"MERGE (person:Person { id: $id, name: $name, gender: $gender }) RETURN person\",\n",
    "                \"parameters\": {\n",
    "                    \"id\": 2,\n",
    "                    \"name\": \"Emma\",\n",
    "                    \"gender\": \"F\"\n",
    "                }\n",
    "            },\n",
    "            {\n",
    "                \"statement\": \"MATCH (p1:Person) WHERE p1.id = 1 MATCH (p2:Person) WHERE p2.id = 2 MERGE (p1)-[r:Married]->(p2) RETURN p1, p2, type(r)\"\n",
    "            }\n",
    "        ]\n",
    "     }';"
   ]
  },
  {
   "cell_type": "markdown",
   "metadata": {},
   "source": [
    "## 2. Run statement by 'curl' with json file"
   ]
  },
  {
   "cell_type": "code",
   "execution_count": null,
   "metadata": {},
   "outputs": [],
   "source": [
    "curl -H 'Cache-Control: no-cache' -H 'Content-Type: application/json' \\\n",
    "     -u 'neo4j:neo4j_'  \\\n",
    "     -X POST 'http://localhost:7474/db/data/transaction/commit' -d '@statements.json';"
   ]
  }
 ],
 "metadata": {
  "kernelspec": {
   "display_name": "Bash",
   "language": "bash",
   "name": "bash"
  },
  "language_info": {
   "codemirror_mode": "shell",
   "file_extension": ".sh",
   "mimetype": "text/x-sh",
   "name": "bash"
  }
 },
 "nbformat": 4,
 "nbformat_minor": 4
}
