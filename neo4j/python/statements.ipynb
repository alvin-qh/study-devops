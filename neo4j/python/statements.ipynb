{
 "cells": [
  {
   "cell_type": "code",
   "execution_count": 37,
   "metadata": {},
   "outputs": [],
   "source": [
    "import neo4j as neo"
   ]
  },
  {
   "cell_type": "code",
   "execution_count": 38,
   "metadata": {},
   "outputs": [],
   "source": [
    "url = 'bolt://localhost:7687'\n",
    "auth = ('neo4j', 'neo4j_')"
   ]
  },
  {
   "cell_type": "code",
   "execution_count": 55,
   "metadata": {},
   "outputs": [],
   "source": [
    "def _run_query(tx, query, **args):\n",
    "    \"\"\"\n",
    "    Run one query statement in transaction, and return result\n",
    "    \"\"\"\n",
    "    result = tx.run(query, **args)\n",
    "    return result.single()\n",
    "    \n",
    "def _run_transaction(statement_list):\n",
    "    # Make neo4j driver object\n",
    "    driver = neo.GraphDatabase.driver(url, auth=auth)\n",
    "    try:\n",
    "        # Start neo4j session\n",
    "        with driver.session() as session:\n",
    "            for statement in statement_list:\n",
    "                query = statement['query']\n",
    "                args = statement.get('args', {})\n",
    "                # Put each statement into transaction\n",
    "                result = session.write_transaction(_run_query, query, **args)\n",
    "                print(result)\n",
    "    finally:\n",
    "        driver.close()"
   ]
  },
  {
   "cell_type": "code",
   "execution_count": 64,
   "metadata": {},
   "outputs": [
    {
     "name": "stdout",
     "output_type": "stream",
     "text": [
      "<Record person=<Node id=69984 labels={'Person'} properties={'birthday': '1981-03-17', 'name': 'Alvin', 'id': 1, 'gender': 'M'}>>\n",
      "<Record person=<Node id=69985 labels={'Person'} properties={'gender': 'F', 'name': 'Emma', 'id': 2}>>\n"
     ]
    }
   ],
   "source": [
    "\"\"\"\n",
    "Create or merge object in neo4j\n",
    "\"\"\"\n",
    "\n",
    "statements = [\n",
    "    {\n",
    "        'query': 'MERGE (person:Person {id: {id}, name: {name}, gender: {gender}}) '\n",
    "                 'RETURN person',\n",
    "        'args': {\n",
    "            'id': 1,\n",
    "            'name': 'Alvin',\n",
    "            'gender': 'M' \n",
    "        }\n",
    "    },\n",
    "    {\n",
    "        'query': 'MERGE (person:Person {id: {id}, name: {name}, gender: {gender}}) '\n",
    "                 'RETURN person',\n",
    "        'args': {\n",
    "            'id': 2,\n",
    "            'name': 'Emma',\n",
    "            'gender': 'F' \n",
    "        }\n",
    "    }\n",
    "]\n",
    "\n",
    "_run_transaction(statements)"
   ]
  },
  {
   "cell_type": "code",
   "execution_count": 70,
   "metadata": {},
   "outputs": [
    {
     "name": "stdout",
     "output_type": "stream",
     "text": [
      "<Record person=<Node id=69984 labels={'Person'} properties={'birthday': '1981-03-17', 'name': 'Alvin', 'id': 1, 'gender': 'M'}>>\n",
      "<Record person=<Node id=69985 labels={'Person'} properties={'birthday': '1985-03-29', 'name': 'Emma', 'id': 2, 'gender': 'F'}>>\n"
     ]
    }
   ],
   "source": [
    "\"\"\"\n",
    "Update exist object\n",
    "\"\"\"\n",
    "\n",
    "statements = [\n",
    "    {\n",
    "        'query': 'MATCH (person:Person)'\n",
    "                 'WHERE person.id = {id} '\n",
    "                 'SET person.birthday = {birthday} '\n",
    "                 'RETURN person',\n",
    "        'args': {\n",
    "            'id': 1,\n",
    "            'birthday': '1981-03-17'\n",
    "        }\n",
    "    },\n",
    "    {\n",
    "        'query': 'MATCH (person:Person)'\n",
    "                 'WHERE person.id = {id} '\n",
    "                 'SET person.birthday = {birthday} '\n",
    "                 'RETURN person',\n",
    "        'args': {\n",
    "            'id': 2,\n",
    "            'birthday': '1985-03-29'\n",
    "        }\n",
    "    }\n",
    "]\n",
    "\n",
    "_run_transaction(statements)"
   ]
  },
  {
   "cell_type": "code",
   "execution_count": 77,
   "metadata": {},
   "outputs": [
    {
     "name": "stdout",
     "output_type": "stream",
     "text": [
      "<Record p1=<Node id=69984 labels={'Person'} properties={'birthday': '1981-03-17', 'name': 'Alvin', 'id': 1, 'gender': 'M'}> p2=<Node id=69985 labels={'Person'} properties={'birthday': '1985-03-29', 'name': 'Emma', 'id': 2, 'gender': 'F'}> type(r)='Married'>\n",
      "<Record p1=<Node id=69984 labels={'Person'} properties={'birthday': '1981-03-17', 'name': 'Alvin', 'id': 1, 'gender': 'M'}> p2=<Node id=69985 labels={'Person'} properties={'birthday': '1985-03-29', 'name': 'Emma', 'id': 2, 'gender': 'F'}> type(r)='Married'>\n"
     ]
    }
   ],
   "source": [
    "\"\"\"\n",
    "Build relationship\n",
    "\"\"\"\n",
    "\n",
    "statements = [\n",
    "    {\n",
    "        'query': 'MATCH (p1:Person), (p2:Person)'\n",
    "                 'WHERE p1.id = {id1} AND p2.id = {id2} '\n",
    "                 'MERGE (p1)-[r:Married]->(p2) '\n",
    "                 'RETURN p1, p2, type(r)',\n",
    "        'args': {\n",
    "            'id1': 1,\n",
    "            'id2': 2\n",
    "        }\n",
    "    },\n",
    "    {\n",
    "        'query': 'MATCH (p1:Person), (p2:Person) '\n",
    "                 'WHERE p1.id = {id1} AND p2.id = {id2} '\n",
    "                 'MERGE (p2)-[r:Married]->(p1) '\n",
    "                 'RETURN p1, p2, type(r)',\n",
    "        'args': {\n",
    "            'id1': 1,\n",
    "            'id2': 2\n",
    "        }\n",
    "    }\n",
    "]\n",
    "\n",
    "_run_transaction(statements)"
   ]
  },
  {
   "cell_type": "code",
   "execution_count": 79,
   "metadata": {},
   "outputs": [
    {
     "name": "stdout",
     "output_type": "stream",
     "text": [
      "<Record person=<Node id=69984 labels={'Person'} properties={'birthday': '1981-03-17', 'name': 'Alvin', 'id': 1, 'gender': 'M'}> cat=<Node id=87082 labels={'Cat'} properties={'name': 'Lily'}> type(r)='Feed'>\n"
     ]
    }
   ],
   "source": [
    "\"\"\"\n",
    "Create object and build relationship\n",
    "\"\"\"\n",
    "\n",
    "statements = [\n",
    "    {\n",
    "        'query': 'MATCH (person:Person) '\n",
    "                 'WHERE person.id = {person_id} '\n",
    "                 'MERGE (cat:Cat {name: {cat_name}}) '\n",
    "                 'MERGE (person)-[r:Feed]->(cat) '\n",
    "                 'RETURN person, cat, type(r)',\n",
    "        'args': {\n",
    "            'person_id': 1,\n",
    "            'cat_name': \"Lily\"\n",
    "        }\n",
    "    }\n",
    "]\n",
    "\n",
    "_run_transaction(statements)"
   ]
  },
  {
   "cell_type": "code",
   "execution_count": null,
   "metadata": {},
   "outputs": [],
   "source": [
    "\"\"\"\n",
    "Return \n",
    "\"\"\"\n",
    "\n",
    "statements = [\n",
    "    {\n",
    "        'query': 'MATCH (person:Person) '\n",
    "                 'WHERE person.id = {person_id} '\n",
    "                 'MERGE (cat:Cat {name: {cat_name}}) '\n",
    "                 'MERGE (person)-[r:Feed]->(cat) '\n",
    "                 'RETURN person, cat, type(r)',\n",
    "        'args': {\n",
    "            'person_id': 1,\n",
    "            'cat_name': \"Lily\"\n",
    "        }\n",
    "    }\n",
    "]\n",
    "\n",
    "_run_transaction(statements)"
   ]
  }
 ],
 "metadata": {
  "kernelspec": {
   "display_name": "Python 3",
   "language": "python",
   "name": "python3"
  },
  "language_info": {
   "codemirror_mode": {
    "name": "ipython",
    "version": 3
   },
   "file_extension": ".py",
   "mimetype": "text/x-python",
   "name": "python",
   "nbconvert_exporter": "python",
   "pygments_lexer": "ipython3",
   "version": "3.7.2"
  }
 },
 "nbformat": 4,
 "nbformat_minor": 2
}
