{
 "cells": [
  {
   "cell_type": "code",
   "execution_count": 1,
   "metadata": {},
   "outputs": [],
   "source": [
    "import neo4j as neo"
   ]
  },
  {
   "cell_type": "code",
   "execution_count": 2,
   "metadata": {},
   "outputs": [],
   "source": [
    "url = 'bolt://localhost:7687'\n",
    "auth = ('neo4j', 'neo4j_')"
   ]
  },
  {
   "cell_type": "code",
   "execution_count": 3,
   "metadata": {},
   "outputs": [],
   "source": [
    "def _run_query(tx, query, **args):\n",
    "    \"\"\"\n",
    "    Run one query statement in transaction, and return result\n",
    "    \"\"\"\n",
    "    result = tx.run(query, **args)\n",
    "    return result\n",
    "    \n",
    "def _run_transaction(statement_list):\n",
    "    # Make neo4j driver object\n",
    "    driver = neo.GraphDatabase.driver(url, auth=auth)\n",
    "    try:\n",
    "        # Start neo4j session\n",
    "        with driver.session() as session:\n",
    "            for statement in statement_list:\n",
    "                query = statement['query']\n",
    "                args = statement.get('args', {})\n",
    "                method = statement.get('method', 'READ')\n",
    "                # Put each statement into transaction\n",
    "                if methodod == 'WRITE':\n",
    "                    result = session.write_transaction(_run_query, query, **args)\n",
    "                else\n",
    "                    result = session.read_transaction(_run_query, query, **args)\n",
    "                    \n",
    "                print(result.values())\n",
    "                print([node for node in result.graph().nodes])\n",
    "                print([r for r in result.graph().relationships])\n",
    "    finally:\n",
    "        driver.close()"
   ]
  },
  {
   "cell_type": "code",
   "execution_count": 23,
   "metadata": {},
   "outputs": [
    {
     "name": "stdout",
     "output_type": "stream",
     "text": [
      "[[<Node id=0 labels={'Person'} properties={'birthday': '1981-03-17', 'name': 'Alvin', 'id': 1, 'gender': 'M'}>]]\n",
      "[<Node id=0 labels={'Person'} properties={'birthday': '1981-03-17', 'name': 'Alvin', 'id': 1, 'gender': 'M'}>]\n",
      "[]\n",
      "[[<Node id=1 labels={'Person'} properties={'birthday': '1985-03-29', 'name': 'Emma', 'id': 2, 'gender': 'F'}>]]\n",
      "[<Node id=1 labels={'Person'} properties={'birthday': '1985-03-29', 'name': 'Emma', 'id': 2, 'gender': 'F'}>]\n",
      "[]\n"
     ]
    }
   ],
   "source": [
    "\"\"\"\n",
    "Create or merge object in neo4j\n",
    "\"\"\"\n",
    "\n",
    "statements = [\n",
    "    {\n",
    "        'query': 'MERGE (person:Person {id: {id}, name: {name}, gender: {gender}}) '\n",
    "                 'RETURN person',\n",
    "        'args': {\n",
    "            'id': 1,\n",
    "            'name': 'Alvin',\n",
    "            'gender': 'M' \n",
    "        },\n",
    "        'method': 'WRITE'\n",
    "    },\n",
    "    {\n",
    "        'query': 'MERGE (person:Person {id: {id}, name: {name}, gender: {gender}}) '\n",
    "                 'RETURN person',\n",
    "        'args': {\n",
    "            'id': 2,\n",
    "            'name': 'Emma',\n",
    "            'gender': 'F' \n",
    "        },\n",
    "        'method': 'WRITE'\n",
    "    }\n",
    "]\n",
    "\n",
    "_run_transaction(statements)"
   ]
  },
  {
   "cell_type": "code",
   "execution_count": 24,
   "metadata": {},
   "outputs": [
    {
     "name": "stdout",
     "output_type": "stream",
     "text": [
      "[[<Node id=0 labels={'Person'} properties={'birthday': '1981-03-17', 'name': 'Alvin', 'id': 1, 'gender': 'M'}>]]\n",
      "[<Node id=0 labels={'Person'} properties={'birthday': '1981-03-17', 'name': 'Alvin', 'id': 1, 'gender': 'M'}>]\n",
      "[]\n",
      "[[<Node id=1 labels={'Person'} properties={'birthday': '1985-03-29', 'name': 'Emma', 'id': 2, 'gender': 'F'}>]]\n",
      "[<Node id=1 labels={'Person'} properties={'birthday': '1985-03-29', 'name': 'Emma', 'id': 2, 'gender': 'F'}>]\n",
      "[]\n"
     ]
    }
   ],
   "source": [
    "\"\"\"\n",
    "Update exist object\n",
    "\"\"\"\n",
    "\n",
    "statements = [\n",
    "    {\n",
    "        'query': 'MATCH (person:Person)'\n",
    "                 'WHERE person.id = {id} '\n",
    "                 'SET person.birthday = {birthday} '\n",
    "                 'RETURN person',\n",
    "        'args': {\n",
    "            'id': 1,\n",
    "            'birthday': '1981-03-17'\n",
    "        },\n",
    "        'method': 'WRITE'\n",
    "    },\n",
    "    {\n",
    "        'query': 'MATCH (person:Person)'\n",
    "                 'WHERE person.id = {id} '\n",
    "                 'SET person.birthday = {birthday} '\n",
    "                 'RETURN person',\n",
    "        'args': {\n",
    "            'id': 2,\n",
    "            'birthday': '1985-03-29'\n",
    "        },\n",
    "        'method': 'WRITE'\n",
    "    }\n",
    "]\n",
    "\n",
    "_run_transaction(statements)"
   ]
  },
  {
   "cell_type": "code",
   "execution_count": 25,
   "metadata": {},
   "outputs": [
    {
     "name": "stdout",
     "output_type": "stream",
     "text": [
      "[[<Node id=0 labels={'Person'} properties={'birthday': '1981-03-17', 'name': 'Alvin', 'id': 1, 'gender': 'M'}>, <Node id=1 labels={'Person'} properties={'birthday': '1985-03-29', 'name': 'Emma', 'id': 2, 'gender': 'F'}>, 'Married']]\n",
      "[<Node id=0 labels={'Person'} properties={'birthday': '1981-03-17', 'name': 'Alvin', 'id': 1, 'gender': 'M'}>, <Node id=1 labels={'Person'} properties={'birthday': '1985-03-29', 'name': 'Emma', 'id': 2, 'gender': 'F'}>]\n",
      "[]\n",
      "[[<Node id=0 labels={'Person'} properties={'birthday': '1981-03-17', 'name': 'Alvin', 'id': 1, 'gender': 'M'}>, <Node id=1 labels={'Person'} properties={'birthday': '1985-03-29', 'name': 'Emma', 'id': 2, 'gender': 'F'}>, 'Married']]\n",
      "[<Node id=0 labels={'Person'} properties={'birthday': '1981-03-17', 'name': 'Alvin', 'id': 1, 'gender': 'M'}>, <Node id=1 labels={'Person'} properties={'birthday': '1985-03-29', 'name': 'Emma', 'id': 2, 'gender': 'F'}>]\n",
      "[]\n"
     ]
    }
   ],
   "source": [
    "\"\"\"\n",
    "Build relationship\n",
    "\"\"\"\n",
    "\n",
    "statements = [\n",
    "    {\n",
    "        'query': 'MATCH (p1:Person), (p2:Person)'\n",
    "                 'WHERE p1.id = {id1} AND p2.id = {id2} '\n",
    "                 'MERGE (p1)-[r:Married]->(p2) '\n",
    "                 'RETURN p1, p2, type(r)',\n",
    "        'args': {\n",
    "            'id1': 1,\n",
    "            'id2': 2\n",
    "        },\n",
    "        'method': 'WRITE'\n",
    "    },\n",
    "    {\n",
    "        'query': 'MATCH (p1:Person), (p2:Person) '\n",
    "                 'WHERE p1.id = {id1} AND p2.id = {id2} '\n",
    "                 'MERGE (p2)-[r:Married]->(p1) '\n",
    "                 'RETURN p1, p2, type(r)',\n",
    "        'args': {\n",
    "            'id1': 1,\n",
    "            'id2': 2\n",
    "        },\n",
    "        'method': 'WRITE'\n",
    "    }\n",
    "]\n",
    "\n",
    "_run_transaction(statements)"
   ]
  },
  {
   "cell_type": "code",
   "execution_count": 26,
   "metadata": {},
   "outputs": [
    {
     "name": "stdout",
     "output_type": "stream",
     "text": [
      "[[<Node id=0 labels={'Person'} properties={'birthday': '1981-03-17', 'name': 'Alvin', 'id': 1, 'gender': 'M'}>, <Node id=20 labels={'Cat'} properties={'name': 'Lily', 'id': 3}>, 'Feed']]\n",
      "[<Node id=0 labels={'Person'} properties={'birthday': '1981-03-17', 'name': 'Alvin', 'id': 1, 'gender': 'M'}>, <Node id=20 labels={'Cat'} properties={'name': 'Lily', 'id': 3}>]\n",
      "[]\n"
     ]
    }
   ],
   "source": [
    "\"\"\"\n",
    "Create object and build relationship\n",
    "\"\"\"\n",
    "\n",
    "statements = [\n",
    "    {\n",
    "        'query': 'MATCH (person:Person) '\n",
    "                 'WHERE person.id = {person_id} '\n",
    "                 'MERGE (cat:Cat { id: {cat_id}, name: {cat_name} }) '\n",
    "                 'MERGE (person)-[r:Feed]->(cat) '\n",
    "                 'RETURN person, cat, type(r)',\n",
    "        'args': {\n",
    "            'person_id': 1,\n",
    "            'cat_id': 3,\n",
    "            'cat_name': \"Lily\"\n",
    "        },\n",
    "        'method': 'WRITE'\n",
    "    }\n",
    "]\n",
    "\n",
    "_run_transaction(statements)"
   ]
  },
  {
   "cell_type": "code",
   "execution_count": 28,
   "metadata": {},
   "outputs": [
    {
     "name": "stdout",
     "output_type": "stream",
     "text": [
      "[[<Node id=0 labels={'Person'} properties={'birthday': '1981-03-17', 'name': 'Alvin', 'id': 1, 'gender': 'M'}>, <Node id=20 labels={'Cat'} properties={'name': 'Lily', 'id': 3}>, 'Feed']]\n",
      "[<Node id=0 labels={'Person'} properties={'birthday': '1981-03-17', 'name': 'Alvin', 'id': 1, 'gender': 'M'}>, <Node id=20 labels={'Cat'} properties={'name': 'Lily', 'id': 3}>]\n",
      "[]\n"
     ]
    }
   ],
   "source": [
    "\"\"\"\n",
    "Find person who feed cat Lily\n",
    "\"\"\"\n",
    "\n",
    "statements = [\n",
    "    {\n",
    "        'query': 'MATCH (person:Person)-[r:Feed]->(cat:Cat) '\n",
    "                 'WHERE cat.name = {cat_name} '\n",
    "                 'RETURN person, cat, type(r)',\n",
    "        'args': {\n",
    "            'cat_name': \"Lily\"\n",
    "        }\n",
    "    }\n",
    "]\n",
    "\n",
    "_run_transaction(statements)"
   ]
  },
  {
   "cell_type": "code",
   "execution_count": 9,
   "metadata": {},
   "outputs": [
    {
     "name": "stdout",
     "output_type": "stream",
     "text": [
      "[['Alvin'], ['Emma']]\n",
      "[]\n",
      "[]\n"
     ]
    }
   ],
   "source": [
    "\"\"\"\n",
    "Find persons who has relationship with cat Lily\n",
    "\"\"\"\n",
    "\n",
    "statements = [\n",
    "    {\n",
    "        'query': 'MATCH (person:Person)-[r*]->(cat:Cat) '\n",
    "                 'WHERE cat.name = {cat_name} '\n",
    "                 'RETURN DISTINCT person.name',\n",
    "        'args': {\n",
    "            'cat_name': 'Lily'\n",
    "        }\n",
    "    }\n",
    "]\n",
    "\n",
    "_run_transaction(statements)"
   ]
  },
  {
   "cell_type": "code",
   "execution_count": 31,
   "metadata": {},
   "outputs": [
    {
     "name": "stdout",
     "output_type": "stream",
     "text": [
      "[['Emma']]\n",
      "[]\n",
      "[]\n"
     ]
    }
   ],
   "source": [
    "\"\"\"\n",
    "Find who has relationship with cat Lily\n",
    "\"\"\"\n",
    "\n",
    "statements = [\n",
    "    {\n",
    "        'query': 'MATCH (p1:Person)-[:Married]-(p2:Person)-[r:Feed*]->(c:Cat) '\n",
    "                 'WHERE c.name={cat_name} '\n",
    "                 'RETURN DISTINCT p1.name',\n",
    "        'args': {\n",
    "            'cat_name': 'Lily'\n",
    "        }\n",
    "    }\n",
    "]\n",
    "\n",
    "_run_transaction(statements)"
   ]
  },
  {
   "cell_type": "code",
   "execution_count": 30,
   "metadata": {},
   "outputs": [
    {
     "name": "stdout",
     "output_type": "stream",
     "text": [
      "[[<Path start=<Node id=0 labels={'Person'} properties={'birthday': '1981-03-17', 'name': 'Alvin', 'id': 1, 'gender': 'M'}> end=<Node id=20 labels={'Cat'} properties={'name': 'Lily', 'id': 3}> size=1>, 1], [<Path start=<Node id=1 labels={'Person'} properties={'birthday': '1985-03-29', 'name': 'Emma', 'id': 2, 'gender': 'F'}> end=<Node id=20 labels={'Cat'} properties={'name': 'Lily', 'id': 3}> size=2>, 2], [<Path start=<Node id=0 labels={'Person'} properties={'birthday': '1981-03-17', 'name': 'Alvin', 'id': 1, 'gender': 'M'}> end=<Node id=20 labels={'Cat'} properties={'name': 'Lily', 'id': 3}> size=3>, 3]]\n",
      "[<Node id=0 labels={'Person'} properties={'birthday': '1981-03-17', 'name': 'Alvin', 'id': 1, 'gender': 'M'}>, <Node id=20 labels={'Cat'} properties={'name': 'Lily', 'id': 3}>, <Node id=1 labels={'Person'} properties={'birthday': '1985-03-29', 'name': 'Emma', 'id': 2, 'gender': 'F'}>]\n",
      "[<Relationship id=22 nodes=(<Node id=0 labels={'Person'} properties={'birthday': '1981-03-17', 'name': 'Alvin', 'id': 1, 'gender': 'M'}>, <Node id=20 labels={'Cat'} properties={'name': 'Lily', 'id': 3}>) type='Feed' properties={}>, <Relationship id=20 nodes=(<Node id=1 labels={'Person'} properties={'birthday': '1985-03-29', 'name': 'Emma', 'id': 2, 'gender': 'F'}>, <Node id=0 labels={'Person'} properties={'birthday': '1981-03-17', 'name': 'Alvin', 'id': 1, 'gender': 'M'}>) type='Married' properties={}>, <Relationship id=0 nodes=(<Node id=0 labels={'Person'} properties={'birthday': '1981-03-17', 'name': 'Alvin', 'id': 1, 'gender': 'M'}>, <Node id=1 labels={'Person'} properties={'birthday': '1985-03-29', 'name': 'Emma', 'id': 2, 'gender': 'F'}>) type='Married' properties={}>]\n"
     ]
    }
   ],
   "source": [
    "\"\"\"\n",
    "Find graph to cat Lily\n",
    "\"\"\"\n",
    "\n",
    "statements = [\n",
    "    {\n",
    "        'query': 'MATCH g = (person:Person)-[r*]->(cat:Cat) '\n",
    "                 'WHERE cat.name = {cat_name} '\n",
    "                 'RETURN g, length(g)',\n",
    "        'args': {\n",
    "            'cat_name': 'Lily'\n",
    "        }\n",
    "    }\n",
    "]\n",
    "\n",
    "_run_transaction(statements)"
   ]
  },
  {
   "cell_type": "code",
   "execution_count": 29,
   "metadata": {},
   "outputs": [
    {
     "name": "stdout",
     "output_type": "stream",
     "text": [
      "[[<Node id=20 labels={'Cat'} properties={'name': 'Lily', 'id': 3}>]]\n",
      "[<Node id=20 labels={'Cat'} properties={'name': 'Lily', 'id': 3}>]\n",
      "[]\n"
     ]
    }
   ],
   "source": [
    "\"\"\"\n",
    "Find last children node in all relationship\n",
    "\"\"\"\n",
    "\n",
    "statements = [\n",
    "    {\n",
    "        'query': 'MATCH ()-[*]->(n) '\n",
    "                 'WHERE NOT (n)-[]->() '\n",
    "                 'RETURN DISTINCT n'\n",
    "    }\n",
    "]\n",
    "\n",
    "_run_transaction(statements)"
   ]
  },
  {
   "cell_type": "code",
   "execution_count": 163,
   "metadata": {},
   "outputs": [
    {
     "name": "stdout",
     "output_type": "stream",
     "text": [
      "Node physical id is: 20\n",
      "Node label is: Cat\n",
      "Node property keys are: ['name', 'id']\n",
      "Node property values are: ['Lily', 3]\n",
      "Node property id is: 3\n",
      "Node property name is: Lily\n",
      "--->\n",
      "\tRelationship physical id is: 22\n",
      "\tRelationship label is: Feed\n",
      "\tRelationship start node id is [id=None, name=None]\n",
      "\tRelationship start node id is [id=3, name=Lily]\n",
      "--->\n",
      "\tRelationship physical id is: 20\n",
      "\tRelationship label is: Married\n",
      "\tRelationship start node id is [id=None, name=None]\n",
      "\tRelationship start node id is [id=None, name=None]\n",
      "--->\n",
      "\tRelationship physical id is: 0\n",
      "\tRelationship label is: Married\n",
      "\tRelationship start node id is [id=None, name=None]\n",
      "\tRelationship start node id is [id=None, name=None]\n"
     ]
    }
   ],
   "source": [
    "\"\"\"\n",
    "Match results\n",
    "\"\"\"\n",
    "\n",
    "driver = neo.GraphDatabase.driver(url, auth=auth)\n",
    "\n",
    "try:\n",
    "    \n",
    "    def _query_last_node(tx):\n",
    "        return tx.run('MATCH ()-[r*]->(n) '\n",
    "                      'WHERE NOT (n)-[]->() '\n",
    "                      'RETURN DISTINCT n')\n",
    "\n",
    "    def _print_node(node):\n",
    "        print('Node physical id is: {}'.format(node.id))\n",
    "        print('Node label is: {}'.format(next(iter(node.labels))))\n",
    "        print('Node property keys are: {}'.format(list(node.keys())))\n",
    "        print('Node property values are: {}'.format(list(node.values())))\n",
    "        print('Node property id is: {}'.format(node['id']))\n",
    "        print('Node property name is: {}'.format(node.get('name')))\n",
    "\n",
    "    with driver.session() as session:\n",
    "        result = session.read_transaction(_query_last_node).values() # Get result values\n",
    "        node = result[0][0]\n",
    "        _print_node(node)\n",
    "\n",
    "        \n",
    "    def _print_relationship(relationships):\n",
    "        for r in relationships:\n",
    "            r = r[0][0]\n",
    "            print('--->')\n",
    "            print('\\tRelationship physical id is: {}'.format(r.id))\n",
    "            print('\\tRelationship label is: {}'.format(r.type))\n",
    "            print('\\tRelationship start node id is [id={}, name={}]'.format(\n",
    "                r.start_node['id'], r.start_node['name']))\n",
    "            print('\\tRelationship start node id is [id={}, name={}]'.format(\n",
    "                r.end_node['id'], r.end_node['name']))\n",
    "\n",
    "    def _query_relationship(tx):\n",
    "        return tx.run('MATCH ()-[r*]->(n) '\n",
    "                      'WHERE NOT (n)-[]->() '\n",
    "                      'RETURN DISTINCT r, n')\n",
    "\n",
    "    with driver.session() as session:\n",
    "        result = session.read_transaction(_query_relationship).values() # Get result values\n",
    "        _print_relationship(result)\n",
    "        \n",
    "finally:\n",
    "    driver.close()"
   ]
  },
  {
   "cell_type": "code",
   "execution_count": 14,
   "metadata": {},
   "outputs": [
    {
     "name": "stdout",
     "output_type": "stream",
     "text": [
      "[[<Relationship id=22 nodes=(<Node id=0 labels=set() properties={}>, <Node id=20 labels=set() properties={}>) type='Married' properties={}>, <Relationship id=24 nodes=(<Node id=0 labels=set() properties={}>, <Node id=22 labels=set() properties={}>) type='Feed' properties={}>, <Node id=0 labels=set() properties={}>, <Node id=22 labels=set() properties={}>], [<Relationship id=22 nodes=(<Node id=0 labels=set() properties={}>, <Node id=20 labels=set() properties={}>) type='Married' properties={}>, <Relationship id=24 nodes=(<Node id=0 labels=set() properties={}>, <Node id=22 labels=set() properties={}>) type='Feed' properties={}>, <Node id=1 labels=set() properties={}>, <Node id=22 labels=set() properties={}>], [<Relationship id=22 nodes=(<Node id=0 labels=set() properties={}>, <Node id=20 labels=set() properties={}>) type='Married' properties={}>, <Relationship id=24 nodes=(<Node id=0 labels=set() properties={}>, <Node id=22 labels=set() properties={}>) type='Feed' properties={}>, <Node id=20 labels=set() properties={}>, <Node id=22 labels=set() properties={}>], [<Relationship id=22 nodes=(<Node id=0 labels=set() properties={}>, <Node id=20 labels=set() properties={}>) type='Married' properties={}>, <Relationship id=24 nodes=(<Node id=0 labels=set() properties={}>, <Node id=22 labels=set() properties={}>) type='Feed' properties={}>, <Node id=21 labels=set() properties={}>, <Node id=22 labels=set() properties={}>], [<Relationship id=20 nodes=(<Node id=1 labels=set() properties={}>, <Node id=21 labels=set() properties={}>) type='Married' properties={}>, <Relationship id=24 nodes=(<Node id=0 labels=set() properties={}>, <Node id=22 labels=set() properties={}>) type='Feed' properties={}>, <Node id=0 labels=set() properties={}>, <Node id=22 labels=set() properties={}>], [<Relationship id=20 nodes=(<Node id=1 labels=set() properties={}>, <Node id=21 labels=set() properties={}>) type='Married' properties={}>, <Relationship id=24 nodes=(<Node id=0 labels=set() properties={}>, <Node id=22 labels=set() properties={}>) type='Feed' properties={}>, <Node id=1 labels=set() properties={}>, <Node id=22 labels=set() properties={}>], [<Relationship id=20 nodes=(<Node id=1 labels=set() properties={}>, <Node id=21 labels=set() properties={}>) type='Married' properties={}>, <Relationship id=24 nodes=(<Node id=0 labels=set() properties={}>, <Node id=22 labels=set() properties={}>) type='Feed' properties={}>, <Node id=20 labels=set() properties={}>, <Node id=22 labels=set() properties={}>], [<Relationship id=20 nodes=(<Node id=1 labels=set() properties={}>, <Node id=21 labels=set() properties={}>) type='Married' properties={}>, <Relationship id=24 nodes=(<Node id=0 labels=set() properties={}>, <Node id=22 labels=set() properties={}>) type='Feed' properties={}>, <Node id=21 labels=set() properties={}>, <Node id=22 labels=set() properties={}>], [<Relationship id=23 nodes=(<Node id=20 labels=set() properties={}>, <Node id=0 labels=set() properties={}>) type='Married' properties={}>, <Relationship id=24 nodes=(<Node id=0 labels=set() properties={}>, <Node id=22 labels=set() properties={}>) type='Feed' properties={}>, <Node id=0 labels=set() properties={}>, <Node id=22 labels=set() properties={}>], [<Relationship id=23 nodes=(<Node id=20 labels=set() properties={}>, <Node id=0 labels=set() properties={}>) type='Married' properties={}>, <Relationship id=24 nodes=(<Node id=0 labels=set() properties={}>, <Node id=22 labels=set() properties={}>) type='Feed' properties={}>, <Node id=1 labels=set() properties={}>, <Node id=22 labels=set() properties={}>], [<Relationship id=23 nodes=(<Node id=20 labels=set() properties={}>, <Node id=0 labels=set() properties={}>) type='Married' properties={}>, <Relationship id=24 nodes=(<Node id=0 labels=set() properties={}>, <Node id=22 labels=set() properties={}>) type='Feed' properties={}>, <Node id=20 labels=set() properties={}>, <Node id=22 labels=set() properties={}>], [<Relationship id=23 nodes=(<Node id=20 labels=set() properties={}>, <Node id=0 labels=set() properties={}>) type='Married' properties={}>, <Relationship id=24 nodes=(<Node id=0 labels=set() properties={}>, <Node id=22 labels=set() properties={}>) type='Feed' properties={}>, <Node id=21 labels=set() properties={}>, <Node id=22 labels=set() properties={}>], [<Relationship id=0 nodes=(<Node id=21 labels=set() properties={}>, <Node id=1 labels=set() properties={}>) type='Married' properties={}>, <Relationship id=24 nodes=(<Node id=0 labels=set() properties={}>, <Node id=22 labels=set() properties={}>) type='Feed' properties={}>, <Node id=0 labels=set() properties={}>, <Node id=22 labels=set() properties={}>], [<Relationship id=0 nodes=(<Node id=21 labels=set() properties={}>, <Node id=1 labels=set() properties={}>) type='Married' properties={}>, <Relationship id=24 nodes=(<Node id=0 labels=set() properties={}>, <Node id=22 labels=set() properties={}>) type='Feed' properties={}>, <Node id=1 labels=set() properties={}>, <Node id=22 labels=set() properties={}>], [<Relationship id=0 nodes=(<Node id=21 labels=set() properties={}>, <Node id=1 labels=set() properties={}>) type='Married' properties={}>, <Relationship id=24 nodes=(<Node id=0 labels=set() properties={}>, <Node id=22 labels=set() properties={}>) type='Feed' properties={}>, <Node id=20 labels=set() properties={}>, <Node id=22 labels=set() properties={}>], [<Relationship id=0 nodes=(<Node id=21 labels=set() properties={}>, <Node id=1 labels=set() properties={}>) type='Married' properties={}>, <Relationship id=24 nodes=(<Node id=0 labels=set() properties={}>, <Node id=22 labels=set() properties={}>) type='Feed' properties={}>, <Node id=21 labels=set() properties={}>, <Node id=22 labels=set() properties={}>]]\n",
      "[<Node id=0 labels=set() properties={}>, <Node id=20 labels=set() properties={}>, <Node id=22 labels=set() properties={}>, <Node id=1 labels=set() properties={}>, <Node id=21 labels=set() properties={}>]\n",
      "[<Relationship id=22 nodes=(<Node id=0 labels=set() properties={}>, <Node id=20 labels=set() properties={}>) type='Married' properties={}>, <Relationship id=24 nodes=(<Node id=0 labels=set() properties={}>, <Node id=22 labels=set() properties={}>) type='Feed' properties={}>, <Relationship id=20 nodes=(<Node id=1 labels=set() properties={}>, <Node id=21 labels=set() properties={}>) type='Married' properties={}>, <Relationship id=23 nodes=(<Node id=20 labels=set() properties={}>, <Node id=0 labels=set() properties={}>) type='Married' properties={}>, <Relationship id=0 nodes=(<Node id=21 labels=set() properties={}>, <Node id=1 labels=set() properties={}>) type='Married' properties={}>]\n"
     ]
    }
   ],
   "source": [
    "\"\"\"\n",
    "Delete nodes with relationships\n",
    "\"\"\"\n",
    "\n",
    "statements = [\n",
    "    {\n",
    "        'query': 'MATCH ()-[mr:Married]->() '\n",
    "                 'MATCH ()-[fr:Feed]->() '\n",
    "                 'OPTIONAL MATCH (ps:Person) '\n",
    "                 'OPTIONAL MATCH(cs:Cat) '\n",
    "                 'DELETE mr, fr, ps, cs '\n",
    "                 'RETURN mr, fr, ps, cs'\n",
    "    }\n",
    "]\n",
    "\n",
    "_run_transaction(statements)"
   ]
  },
  {
   "cell_type": "code",
   "execution_count": 33,
   "metadata": {},
   "outputs": [
    {
     "name": "stdout",
     "output_type": "stream",
     "text": [
      "[[<Node id=23 labels={'Person'} properties={'name': 'Alvin', 'id': '1'}>, <Node id=24 labels={'Person'} properties={'name': 'Emma', 'id': '2'}>], [<Node id=24 labels={'Person'} properties={'name': 'Emma', 'id': '2'}>, <Node id=23 labels={'Person'} properties={'name': 'Alvin', 'id': '1'}>]]\n",
      "[<Node id=23 labels={'Person'} properties={'name': 'Alvin', 'id': '1'}>, <Node id=24 labels={'Person'} properties={'name': 'Emma', 'id': '2'}>]\n",
      "[]\n"
     ]
    }
   ],
   "source": [
    "\"\"\"\n",
    "Import from csv\n",
    "\"\"\"\n",
    "\n",
    "statements = [\n",
    "    {\n",
    "        'query': 'LOAD CSV WITH HEADERS FROM \"file:///data.csv\" AS line '\n",
    "                 'MERGE (p1:Person {id: line[\"id\"], name: line[\"name\"]}) '\n",
    "                 'MERGE (p2:Person {id: line[\"married\"]}) '\n",
    "                 'MERGE (p1)-[:Married]->(p2) '\n",
    "                 'RETURN p1, p2'\n",
    "    }\n",
    "]\n",
    "\n",
    "_run_transaction(statements)"
   ]
  }
 ],
 "metadata": {
  "kernelspec": {
   "display_name": "Python 3",
   "language": "python",
   "name": "python3"
  },
  "language_info": {
   "codemirror_mode": {
    "name": "ipython",
    "version": 3
   },
   "file_extension": ".py",
   "mimetype": "text/x-python",
   "name": "python",
   "nbconvert_exporter": "python",
   "pygments_lexer": "ipython3",
   "version": "3.7.2"
  }
 },
 "nbformat": 4,
 "nbformat_minor": 2
}
