{
 "cells": [
  {
   "cell_type": "markdown",
   "metadata": {},
   "source": [
    "# Mongo cli"
   ]
  },
  {
   "cell_type": "markdown",
   "metadata": {},
   "source": [
    "## 1. Basic commands"
   ]
  },
  {
   "cell_type": "code",
   "execution_count": null,
   "metadata": {},
   "outputs": [],
   "source": [
    "mongo mongodb://localhost:27017/test_db --quiet --eval 'db' # show database"
   ]
  },
  {
   "cell_type": "code",
   "execution_count": null,
   "metadata": {},
   "outputs": [],
   "source": [
    "mongo mongodb://localhost:27017/test_db --quiet --eval 'db.createCollection(\"user\")' # create collection\n",
    "mongo mongodb://localhost:27017/test_db --quiet --eval 'db.user' # show user collection info"
   ]
  },
  {
   "cell_type": "markdown",
   "metadata": {},
   "source": [
    "## 2. Collection commands"
   ]
  },
  {
   "cell_type": "code",
   "execution_count": null,
   "metadata": {},
   "outputs": [],
   "source": [
    "mongo mongodb://localhost:27017/test_db --quiet --eval 'db.user.insertOne({\n",
    "    name: \"Alvin\",\n",
    "    gender: \"M\"\n",
    "})'\n",
    "\n",
    "mongo mongodb://localhost:27017/test_db --quiet --eval 'db.user.find({name: \"Alvin\"})'"
   ]
  },
  {
   "cell_type": "code",
   "execution_count": null,
   "metadata": {},
   "outputs": [],
   "source": [
    "mongo mongodb://localhost:27017/test_db --quiet --eval 'db.user.insertMany([\n",
    "    {\n",
    "        name: \"Alvin\",\n",
    "        gender: \"M\"\n",
    "    },\n",
    "    {\n",
    "        name: \"Emma\",\n",
    "        gender: \"F\"\n",
    "    },\n",
    "    {\n",
    "        name: \"Andy\",\n",
    "        gender: \"F\"\n",
    "    }\n",
    "])'\n",
    "\n",
    "mongo mongodb://localhost:27017/test_db --quiet --eval 'db.user.find({ $or: [{name: \"Alvin\"}, {gender: \"F\"}] })'"
   ]
  },
  {
   "cell_type": "code",
   "execution_count": null,
   "metadata": {},
   "outputs": [],
   "source": [
    "mongo mongodb://localhost:27017/test_db --quiet --eval 'db.user.update(\n",
    "    {name: \"Alvin\"}, \n",
    "    {\n",
    "        id: 1,\n",
    "        name: \"Alvin.Q\",\n",
    "        gender: \"M\",\n",
    "        birthday: \"1981-03-17\"\n",
    "    },\n",
    "    {\n",
    "        upsert: false\n",
    "    }\n",
    ")'\n",
    "\n",
    "mongo mongodb://localhost:27017/test_db --quiet --eval 'db.user.find({id: 1})'"
   ]
  },
  {
   "cell_type": "code",
   "execution_count": null,
   "metadata": {},
   "outputs": [],
   "source": [
    "mongo mongodb://localhost:27017/test_db --quiet --eval 'db.user.updateMany(\n",
    "    {id: 1}, \n",
    "    {\n",
    "        $set: {\n",
    "            id: 2,\n",
    "            name: \"Alvin\",\n",
    "        }\n",
    "    },\n",
    "    {\n",
    "        upsert: false\n",
    "    }\n",
    ")'\n",
    "\n",
    "mongo mongodb://localhost:27017/test_db --quiet --eval 'db.user.find({id: 2})'"
   ]
  },
  {
   "cell_type": "code",
   "execution_count": null,
   "metadata": {},
   "outputs": [],
   "source": [
    "id_=$(mongo mongodb://localhost:27017/test_db --quiet --eval 'db.user.findOne({id: 2}, {_id: 1})' | sed 's/.*ObjectId(\"\\(.*\\)\").*/\\1/g')\n",
    "echo \"id is: $id_\"\n",
    "\n",
    "json_=\"{_id: ObjectId(\\\"$id_\\\"), id: 3, name: \\\"Panda\\\", gender: \\\"M\\\"}\"\n",
    "echo \"$json_\"\n",
    "\n",
    "mongo mongodb://localhost:27017/test_db --quiet --eval \"db.user.save($json_)\"\n",
    "mongo mongodb://localhost:27017/test_db --quiet --eval \"db.user.find({id: 3})\""
   ]
  },
  {
   "cell_type": "code",
   "execution_count": 101,
   "metadata": {},
   "outputs": [
    {
     "name": "stdout",
     "output_type": "stream",
     "text": [
      "2020-02-22T16:59:36.839+0800 E QUERY    [thread1] SyntaxError: missing } after property list @(shell eval):1:28\n",
      "WriteResult({ \"nRemoved\" : 5 })\n"
     ]
    }
   ],
   "source": [
    "mongo mongodb://localhost:27017/test_db --quiet --eval 'db.user.remove({id: {$ne: 1})' # remove all items in user collection\n",
    "mongo mongodb://localhost:27017/test_db --quiet --eval 'db.user.remove({})' # remove all items in user collection"
   ]
  }
 ],
 "metadata": {
  "kernelspec": {
   "display_name": "Bash",
   "language": "bash",
   "name": "bash"
  },
  "language_info": {
   "codemirror_mode": "shell",
   "file_extension": ".sh",
   "mimetype": "text/x-sh",
   "name": "bash"
  }
 },
 "nbformat": 4,
 "nbformat_minor": 4
}
