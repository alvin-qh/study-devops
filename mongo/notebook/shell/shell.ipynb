{
 "cells": [
  {
   "cell_type": "markdown",
   "metadata": {},
   "source": [
    "# Mongo cli"
   ]
  },
  {
   "cell_type": "markdown",
   "metadata": {},
   "source": [
    "## 1. Basic commands"
   ]
  },
  {
   "cell_type": "markdown",
   "metadata": {},
   "source": [
    "### 1.1. Show a certain database"
   ]
  },
  {
   "cell_type": "code",
   "execution_count": null,
   "metadata": {},
   "outputs": [],
   "source": [
    "mongo mongodb://localhost:27017/test_db --quiet --eval 'db' # show database"
   ]
  },
  {
   "cell_type": "markdown",
   "metadata": {},
   "source": [
    "### 1.2. Create collection and show collection"
   ]
  },
  {
   "cell_type": "code",
   "execution_count": null,
   "metadata": {},
   "outputs": [],
   "source": [
    "mongo mongodb://localhost:27017/test_db --quiet --eval 'db.createCollection(\"user\")' # create collection\n",
    "mongo mongodb://localhost:27017/test_db --quiet --eval 'db.user' # show user collection info"
   ]
  },
  {
   "cell_type": "markdown",
   "metadata": {},
   "source": [
    "## 2. Collection commands"
   ]
  },
  {
   "cell_type": "markdown",
   "metadata": {},
   "source": [
    "### 2.1. Insert a item to collection and find it after then"
   ]
  },
  {
   "cell_type": "code",
   "execution_count": null,
   "metadata": {},
   "outputs": [],
   "source": [
    "mongo mongodb://localhost:27017/test_db --quiet --eval 'db.user.insertOne({\n",
    "    name: \"Alvin\",\n",
    "    gender: \"M\"\n",
    "})'\n",
    "\n",
    "mongo mongodb://localhost:27017/test_db --quiet --eval 'db.user.find({name: \"Alvin\"})'"
   ]
  },
  {
   "cell_type": "markdown",
   "metadata": {},
   "source": [
    "### 2.2. Insert a batch of items to collection and find them after then"
   ]
  },
  {
   "cell_type": "code",
   "execution_count": null,
   "metadata": {},
   "outputs": [],
   "source": [
    "mongo mongodb://localhost:27017/test_db --quiet --eval 'db.user.insertMany([\n",
    "    {\n",
    "        name: \"Alvin\",\n",
    "        gender: \"M\"\n",
    "    },\n",
    "    {\n",
    "        name: \"Emma\",\n",
    "        gender: \"F\"\n",
    "    },\n",
    "    {\n",
    "        name: \"Andy\",\n",
    "        gender: \"F\"\n",
    "    }\n",
    "])'\n",
    "\n",
    "mongo mongodb://localhost:27017/test_db --quiet --eval 'db.user.find({ $or: [{name: \"Alvin\"}, {gender: \"F\"}] })'"
   ]
  },
  {
   "cell_type": "markdown",
   "metadata": {},
   "source": [
    "### 2.3. Update an exist item as a whole\n",
    "\n",
    "> if `upsert` is true, the new item will be inserted if it not exist yet"
   ]
  },
  {
   "cell_type": "code",
   "execution_count": null,
   "metadata": {},
   "outputs": [],
   "source": [
    "mongo mongodb://localhost:27017/test_db --quiet --eval 'db.user.update(\n",
    "    {name: \"Alvin\"}, \n",
    "    {\n",
    "        id: 1,\n",
    "        name: \"Alvin.Q\",\n",
    "        gender: \"M\",\n",
    "        birthday: \"1981-03-17\"\n",
    "    },\n",
    "    {\n",
    "        upsert: false\n",
    "    }\n",
    ")'\n",
    "\n",
    "mongo mongodb://localhost:27017/test_db --quiet --eval 'db.user.find({id: 1})'"
   ]
  },
  {
   "cell_type": "markdown",
   "metadata": {},
   "source": [
    "### 2.4. Update a portion of exist item\n",
    "\n",
    "> if `upsert` is true, the new item will be inserted if it not exist yet"
   ]
  },
  {
   "cell_type": "code",
   "execution_count": null,
   "metadata": {},
   "outputs": [],
   "source": [
    "mongo mongodb://localhost:27017/test_db --quiet --eval 'db.user.updateMany(\n",
    "    {id: 1}, \n",
    "    {\n",
    "        $set: {\n",
    "            id: 2,\n",
    "            name: \"Alvin\",\n",
    "        }\n",
    "    },\n",
    "    {\n",
    "        upsert: false\n",
    "    }\n",
    ")'\n",
    "\n",
    "mongo mongodb://localhost:27017/test_db --quiet --eval 'db.user.find({id: 2})'"
   ]
  },
  {
   "cell_type": "markdown",
   "metadata": {},
   "source": [
    "### 2.5. Save a item"
   ]
  },
  {
   "cell_type": "markdown",
   "metadata": {},
   "source": [
    "#### 2.5.1. Save item with exist object id"
   ]
  },
  {
   "cell_type": "code",
   "execution_count": null,
   "metadata": {},
   "outputs": [],
   "source": [
    "id_=$(mongo mongodb://localhost:27017/test_db --quiet --eval 'db.user.findOne({id: 2}, {_id: 1})' | sed 's/.*ObjectId(\"\\(.*\\)\").*/\\1/g')\n",
    "echo \"id is: $id_\"\n",
    "\n",
    "json_=\"{_id: ObjectId(\\\"$id_\\\"), id: 3, name: \\\"Panda\\\", gender: \\\"M\\\"}\"\n",
    "echo \"$json_\"\n",
    "\n",
    "mongo mongodb://localhost:27017/test_db --quiet --eval \"db.user.save($json_)\"\n",
    "mongo mongodb://localhost:27017/test_db --quiet --eval \"db.user.find({id: 3})\""
   ]
  },
  {
   "cell_type": "markdown",
   "metadata": {},
   "source": [
    "#### 2.5.2. Save item with new object id"
   ]
  },
  {
   "cell_type": "code",
   "execution_count": null,
   "metadata": {},
   "outputs": [],
   "source": [
    "json_=\"{_id: ObjectId(), id: 4, name: \\\"Author\\\", gender: \\\"M\\\"}\"\n",
    "echo \"$json_\"\n",
    "\n",
    "mongo mongodb://localhost:27017/test_db --quiet --eval \"db.user.save($json_)\"\n",
    "mongo mongodb://localhost:27017/test_db --quiet --eval \"db.user.find({id: 4})\""
   ]
  },
  {
   "cell_type": "markdown",
   "metadata": {},
   "source": [
    "### 2.6. Remove item"
   ]
  },
  {
   "cell_type": "code",
   "execution_count": null,
   "metadata": {},
   "outputs": [],
   "source": [
    "mongo mongodb://localhost:27017/test_db --quiet --eval 'db.user.remove({id: {$ne: 1})' # remove all items in user collection\n",
    "mongo mongodb://localhost:27017/test_db --quiet --eval 'db.user.remove({})' # remove all items in user collection"
   ]
  }
 ],
 "metadata": {
  "kernelspec": {
   "display_name": "Bash",
   "language": "bash",
   "name": "bash"
  },
  "language_info": {
   "codemirror_mode": "shell",
   "file_extension": ".sh",
   "mimetype": "text/x-sh",
   "name": "bash"
  }
 },
 "nbformat": 4,
 "nbformat_minor": 4
}
