{
 "cells": [
  {
   "cell_type": "markdown",
   "metadata": {},
   "source": [
    "# Mongo advance"
   ]
  },
  {
   "cell_type": "markdown",
   "metadata": {},
   "source": [
    "## 1. Setup"
   ]
  },
  {
   "cell_type": "markdown",
   "metadata": {},
   "source": [
    "### 1.1. Utils"
   ]
  },
  {
   "cell_type": "code",
   "execution_count": null,
   "metadata": {},
   "outputs": [],
   "source": [
    "from bson import json_util as json\n",
    "from pymongo.cursor import Cursor\n",
    "from bson import datetime\n",
    "import pytz\n",
    "\n",
    "def format_result(rs):\n",
    "    return '\\t{}'.format(json.dumps(rs, indent=2).replace('\\n', '\\n\\t'))\n",
    "\n",
    "def date_to_datetime(date):\n",
    "    return datetime.datetime.combine(date, datetime.datetime.min.time()).replace(tzinfo=pytz.utc)"
   ]
  },
  {
   "cell_type": "markdown",
   "metadata": {},
   "source": [
    "### 1.2. Make connection"
   ]
  },
  {
   "cell_type": "code",
   "execution_count": null,
   "metadata": {},
   "outputs": [],
   "source": [
    "from pymongo import MongoClient, ASCENDING, DESCENDING, IndexModel\n",
    "\n",
    "mongo = MongoClient(host='localhost', port=27017, maxPoolSize=5)\n",
    "print('* mongodb connect success: {}'.format(mongo))"
   ]
  },
  {
   "cell_type": "markdown",
   "metadata": {},
   "source": [
    "### 1.3. Get or create db and collection"
   ]
  },
  {
   "cell_type": "code",
   "execution_count": null,
   "metadata": {},
   "outputs": [],
   "source": [
    "user_collection = user_collection = mongo['test_db']['user']\n",
    "print('* user collection is: {}'.format(user_collection))"
   ]
  },
  {
   "cell_type": "markdown",
   "metadata": {},
   "source": [
    "## 2. Pagination"
   ]
  },
  {
   "cell_type": "markdown",
   "metadata": {},
   "source": [
    "### 2.1. Limit and skip"
   ]
  },
  {
   "cell_type": "markdown",
   "metadata": {},
   "source": [
    "#### 2.1.1. Function 1"
   ]
  },
  {
   "cell_type": "code",
   "execution_count": null,
   "metadata": {},
   "outputs": [],
   "source": [
    "r = user_collection.insert_many([\n",
    "    {'id': 1, 'name': 'Alvin', 'gender': 'M'},\n",
    "    {'id': 2, 'name': 'Emma', 'gender': 'F'},\n",
    "    {'id': 3, 'name': 'Lucy', 'gender': 'F'},\n",
    "    {'id': 4, 'name': 'Lily', 'gender': 'F'},\n",
    "    {'id': 5, 'name': 'AUthur', 'gender': 'M'}\n",
    "])\n",
    "\n",
    "with user_collection.find({}, limit=1, skip=2) as rs:\n",
    "    print('* find result with limit=1, skip=2:\\n{}'.format(format_result(rs)))\n",
    "\n",
    "with user_collection.find({}, limit=3, skip=3) as rs:\n",
    "    print('\\n* find result with limit=3, skip=3:\\n{}'.format(format_result(rs)))\n",
    "\n",
    "with user_collection.find({}, limit=3, skip=10) as rs:\n",
    "    print('\\n* find result with limit=3, skip=10:\\n{}'.format(format_result(rs)))\n",
    "\n",
    "\n",
    "user_collection.delete_many({})"
   ]
  },
  {
   "cell_type": "markdown",
   "metadata": {},
   "source": [
    "#### 2.1.2. Function 2 "
   ]
  },
  {
   "cell_type": "code",
   "execution_count": null,
   "metadata": {},
   "outputs": [],
   "source": [
    "r = user_collection.insert_many([\n",
    "    {'id': 1, 'name': 'Alvin', 'gender': 'M'},\n",
    "    {'id': 2, 'name': 'Emma', 'gender': 'F'},\n",
    "    {'id': 3, 'name': 'Lucy', 'gender': 'F'},\n",
    "    {'id': 4, 'name': 'Lily', 'gender': 'F'},\n",
    "    {'id': 5, 'name': 'AUthur', 'gender': 'M'}\n",
    "])\n",
    "\n",
    "with user_collection.find({}).limit(1).skip(3) as rs:\n",
    "    print('* find result with limit=1, skip=2:\\n{}'.format(format_result(rs)))\n",
    "\n",
    "with user_collection.find({}).limit(3).skip(3) as rs:\n",
    "    print('\\n* find result with limit=3, skip=3:\\n{}'.format(format_result(rs)))\n",
    "\n",
    "with user_collection.find({}).limit(3).skip(10) as rs:\n",
    "    print('\\n* find result with limit=3, skip=10:\\n{}'.format(format_result(rs)))\n",
    "\n",
    "\n",
    "user_collection.delete_many({})"
   ]
  },
  {
   "cell_type": "markdown",
   "metadata": {},
   "source": [
    "### 2.2. Sort"
   ]
  },
  {
   "cell_type": "code",
   "execution_count": null,
   "metadata": {},
   "outputs": [],
   "source": [
    "r = user_collection.insert_many([\n",
    "    {'id': 1, 'name': 'Alvin', 'gender': 'M'},\n",
    "    {'id': 2, 'name': 'Emma', 'gender': 'F'},\n",
    "    {'id': 3, 'name': 'Lucy', 'gender': 'F'}\n",
    "])\n",
    "\n",
    "with user_collection.find({}).sort([('id', ASCENDING)]) as rs:\n",
    "    print('* find result sort by id asc:\\n{}'.format(format_result(rs)))\n",
    "\n",
    "with user_collection.find({}, sort=[('id', DESCENDING)]) as rs:\n",
    "    print('\\n* find result sort by id desc:\\n{}'.format(format_result(rs)))\n",
    "\n",
    "rs = user_collection.find_one({}, sort=[('id', DESCENDING)])\n",
    "print('\\n* find result sort by id desc:\\n{}'.format(format_result(rs)))\n",
    "\n",
    "\n",
    "user_collection.delete_many({})"
   ]
  },
  {
   "cell_type": "markdown",
   "metadata": {},
   "source": [
    "## 3. Index"
   ]
  },
  {
   "cell_type": "markdown",
   "metadata": {},
   "source": [
    "- Show which index used by query"
   ]
  },
  {
   "cell_type": "code",
   "execution_count": null,
   "metadata": {},
   "outputs": [],
   "source": [
    "def check_query_with_index(rs):\n",
    "    explain = rs.explain()\n",
    "    json_path = ['queryPlanner', 'winningPlan', 'inputStage', 'indexBounds']\n",
    "    for key in json_path:\n",
    "        explain = explain.get(key)\n",
    "        if not explain:\n",
    "            break\n",
    "\n",
    "    if not explain:\n",
    "        return 'None'\n",
    "    return json.dumps(explain)"
   ]
  },
  {
   "cell_type": "markdown",
   "metadata": {},
   "source": [
    "### 3.1. Create index"
   ]
  },
  {
   "cell_type": "code",
   "execution_count": null,
   "metadata": {},
   "outputs": [],
   "source": [
    "user_collection.drop_indexes()\n",
    "\n",
    "r = user_collection.insert_many([\n",
    "    {'id': 1, 'name': 'Alvin', 'gender': 'M'},\n",
    "    {'id': 2, 'name': 'Emma', 'gender': 'F'},\n",
    "    {'id': 3, 'name': 'Lucy', 'gender': 'F'}\n",
    "])\n",
    "\n",
    "\n",
    "with user_collection.find({'id': {'$gt': 1}}) as rs:\n",
    "    print('* query by id with index {}'.format(check_query_with_index(rs)))\n",
    "\n",
    "\n",
    "index_name = user_collection.create_index([('id', ASCENDING), ('name', DESCENDING)])\n",
    "print('* index {} was created'.format(index_name))\n",
    "\n",
    "\n",
    "with user_collection.find({'id': {'$gt': 1}}) as rs:\n",
    "    print('* query by id with index {}'.format(check_query_with_index(rs)))\n",
    "\n",
    "with user_collection.find({'id': {'$gt': 1}, 'name': {'$regex': r'[L]\\w+'}}) as rs:\n",
    "    print('* query by id with index {}'.format(check_query_with_index(rs)))\n",
    "\n",
    "with user_collection.find({'id': {'$gt': 1}, 'name': {'$regex': r'[L]\\w+'}, 'gender': 'M'}) as rs:\n",
    "    print('* query by id with index {}'.format(check_query_with_index(rs)))\n",
    "\n",
    "with user_collection.find({'name': {'$regex': r'[L]\\w+'}, 'gender': 'M'}) as rs:\n",
    "    print('* query by id with index {}'.format(check_query_with_index(rs)))\n",
    "\n",
    "\n",
    "user_collection.delete_many({})"
   ]
  },
  {
   "cell_type": "markdown",
   "metadata": {},
   "source": [
    "### 3.2. Create indexes"
   ]
  },
  {
   "cell_type": "code",
   "execution_count": null,
   "metadata": {},
   "outputs": [],
   "source": [
    "user_collection.drop_indexes()\n",
    "\n",
    "r = user_collection.insert_many([\n",
    "    {'id': 1, 'name': 'Alvin', 'gender': 'M'},\n",
    "    {'id': 2, 'name': 'Emma', 'gender': 'F'},\n",
    "    {'id': 3, 'name': 'Lucy', 'gender': 'F'}\n",
    "])\n",
    "\n",
    "\n",
    "with user_collection.find({'id': {'$gt': 2}}) as rs:\n",
    "    print('* query by id with index {}'.format(check_query_with_index(rs)))\n",
    "\n",
    "\n",
    "index_1 = IndexModel([('id', ASCENDING)])\n",
    "index_2 = IndexModel([('name', DESCENDING), ('gender', ASCENDING)])\n",
    "\n",
    "index_name = user_collection.create_indexes([index_1, index_2])\n",
    "print('* index {} was created'.format(index_name))\n",
    "\n",
    "\n",
    "with user_collection.find({'id': {'$gt': 1}}) as rs:\n",
    "    print('* query by id with index {}'.format(check_query_with_index(rs)))\n",
    "\n",
    "with user_collection.find({'id': {'$gt': 1}, 'name': {'$regex': r'L\\w*'}}) as rs:\n",
    "    print('* query by id with index {}'.format(check_query_with_index(rs)))\n",
    "\n",
    "with user_collection.find({'name': {'$regex': r'L\\w*'}, 'gender': {'$in': ['M', 'F']}}) as rs:\n",
    "    print('* query by id with index {}'.format(check_query_with_index(rs)))\n",
    "\n",
    "with user_collection.find({'$or': [{'id': {'$gt': 1}}, {'name': {'$regex': r'L\\w*'}}]}) as rs:\n",
    "    print('* query by id with index {}'.format(check_query_with_index(rs)))\n",
    "\n",
    "\n",
    "user_collection.delete_many({})"
   ]
  },
  {
   "cell_type": "markdown",
   "metadata": {},
   "source": [
    "### 3.3. Drop index"
   ]
  },
  {
   "cell_type": "code",
   "execution_count": null,
   "metadata": {},
   "outputs": [],
   "source": [
    "user_collection.drop_indexes()\n",
    "\n",
    "r = user_collection.insert_many([\n",
    "    {'id': 1, 'name': 'Alvin', 'gender': 'M'},\n",
    "    {'id': 2, 'name': 'Emma', 'gender': 'F'},\n",
    "    {'id': 3, 'name': 'Lucy', 'gender': 'F'}\n",
    "])\n",
    "\n",
    "index = [('id', ASCENDING), ('name', DESCENDING)]\n",
    "\n",
    "index_name = user_collection.create_index(index)\n",
    "print('* index \"{}\" was created'.format(index_name))\n",
    "\n",
    "with user_collection.find({'id': {'$gt': 1}}) as rs:\n",
    "    print('* query by id with index {}'.format(check_query_with_index(rs)))\n",
    "\n",
    "user_collection.drop_index(index)\n",
    "\n",
    "with user_collection.find({'id': {'$gt': 1}}) as rs:\n",
    "    print('* query by id with index {}'.format(check_query_with_index(rs)))\n",
    "    \n",
    "    \n",
    "index_name = user_collection.create_index(index)\n",
    "print('\\n* index \"{}\" was created'.format(index_name))\n",
    "\n",
    "with user_collection.find({'id': {'$gt': 1}}) as rs:\n",
    "    print('* query by id with index {}'.format(check_query_with_index(rs)))\n",
    "    \n",
    "user_collection.drop_index(index_name)\n",
    "\n",
    "with user_collection.find({'id': {'$gt': 1}}) as rs:\n",
    "    print('* query by id with index {}'.format(check_query_with_index(rs)))\n",
    "    \n",
    "    \n",
    "user_collection.delete_many({})"
   ]
  },
  {
   "cell_type": "markdown",
   "metadata": {},
   "source": [
    "### 3.4. Index arguments"
   ]
  },
  {
   "cell_type": "markdown",
   "metadata": {},
   "source": [
    "#### 3.4.1. Unique index"
   ]
  },
  {
   "cell_type": "code",
   "execution_count": null,
   "metadata": {},
   "outputs": [],
   "source": [
    "user_collection.drop_indexes()\n",
    "\n",
    "r = user_collection.insert_many([\n",
    "    {'id': 1, 'name': 'Alvin', 'gender': 'M'},\n",
    "    {'id': 2, 'name': 'Emma', 'gender': 'F'},\n",
    "    {'id': 3, 'name': 'Lucy', 'gender': 'F'}\n",
    "])\n",
    "\n",
    "index_name = user_collection.create_index([('id', ASCENDING)], unique=True)\n",
    "print('* unique index \"{}\" was created'.format(index_name))\n",
    "\n",
    "try:\n",
    "    user_collection.insert_one({'id': 3, 'name': 'Authur', 'gender': 'M'})\n",
    "except Exception as err:\n",
    "    print('* cannot insert, reason: \"{}\"'.format(err))\n",
    "\n",
    "user_collection.delete_many({})"
   ]
  },
  {
   "cell_type": "markdown",
   "metadata": {},
   "source": [
    "#### 3.4.2. Index name"
   ]
  },
  {
   "cell_type": "code",
   "execution_count": null,
   "metadata": {},
   "outputs": [],
   "source": [
    "user_collection.drop_indexes()\n",
    "\n",
    "r = user_collection.insert_many([\n",
    "    {'id': 1, 'name': 'Alvin', 'gender': 'M'},\n",
    "    {'id': 2, 'name': 'Emma', 'gender': 'F'},\n",
    "    {'id': 3, 'name': 'Lucy', 'gender': 'F'}\n",
    "])\n",
    "\n",
    "index_name = user_collection.create_index([('id', ASCENDING)], name='ix_id_asc')\n",
    "print('* unique index \"{}\" was created'.format(index_name))\n",
    "\n",
    "with user_collection.find({'id': {'$gt': 1}}) as rs:\n",
    "    print('* query by id with index {}'.format(check_query_with_index(rs)))\n",
    "\n",
    "\n",
    "user_collection.drop_index('ix_id_asc')\n",
    "\n",
    "\n",
    "with user_collection.find({'id': {'$gt': 1}}) as rs:\n",
    "    print('* query by id with index {}'.format(check_query_with_index(rs)))\n",
    "\n",
    "\n",
    "user_collection.delete_many({})"
   ]
  },
  {
   "cell_type": "markdown",
   "metadata": {},
   "source": [
    "#### 3.4.3. Index weights"
   ]
  },
  {
   "cell_type": "code",
   "execution_count": null,
   "metadata": {},
   "outputs": [],
   "source": [
    "user_collection.drop_indexes()\n",
    "\n",
    "user_collection.insert_many([\n",
    "    {'id': 1, 'name': 'Alvin', 'gender': 'M'},\n",
    "    {'id': 2, 'name': 'Emma', 'gender': 'F'},\n",
    "    {'id': 3, 'name': 'Lucy', 'gender': 'F'}\n",
    "])\n",
    "\n",
    "index_name = user_collection.create_index([('id', ASCENDING)], name='ix_id_asc', weights=1)\n",
    "print('* unique index \"{}\" was created'.format(index_name))\n",
    "\n",
    "index_name = user_collection.create_index([('name', DESCENDING)], name='ix_name_desc', weights=100)\n",
    "print('* unique index \"{}\" was created'.format(index_name))\n",
    "\n",
    "with user_collection.find({'id': {'$gt': 1}}) as rs:\n",
    "    print('* query by id with index {}'.format(check_query_with_index(rs)))\n",
    "\n",
    "with user_collection.find({'id': {'$gt': 1}, 'name': 'Lucy'}) as rs:\n",
    "    print('* query by id with index {}'.format(check_query_with_index(rs)))\n",
    "\n",
    "\n",
    "user_collection.delete_many({})"
   ]
  },
  {
   "cell_type": "markdown",
   "metadata": {},
   "source": [
    "## 4. Where operator"
   ]
  },
  {
   "cell_type": "markdown",
   "metadata": {},
   "source": [
    "### 4.1. Use simple javascript expressions as where condition"
   ]
  },
  {
   "cell_type": "code",
   "execution_count": null,
   "metadata": {},
   "outputs": [],
   "source": [
    "user_collection.insert_many([\n",
    "    {'id': 1, 'name': 'Alvin', 'gender': 'M'},\n",
    "    {'id': 2, 'name': 'Emma', 'gender': 'F'},\n",
    "    {'id': 3, 'name': 'Lucy', 'gender': 'F'}\n",
    "])\n",
    "\n",
    "condition = '''this.id > {} && this.gender == \"{}\"'''.format(1, 'F')\n",
    "\n",
    "with user_collection.find({'$where': condition}) as rs:\n",
    "    print('* query with condition \"{}\" is:\\n {}'.format(condition, format_result(rs)))\n",
    "\n",
    "\n",
    "user_collection.delete_many({})"
   ]
  },
  {
   "cell_type": "markdown",
   "metadata": {},
   "source": [
    "### 4.2. Use complex javascript code as where condition"
   ]
  },
  {
   "cell_type": "code",
   "execution_count": null,
   "metadata": {},
   "outputs": [],
   "source": [
    "user_collection.insert_many([\n",
    "    {'id': 1, 'name': 'Alvin', 'gender': 'M'},\n",
    "    {'id': 2, 'name': 'Emma', 'gender': 'F'},\n",
    "    {'id': 3, 'name': 'Lucy', 'gender': 'F'}\n",
    "])\n",
    "\n",
    "condition = '''\n",
    "function filter(obj, nameLength, gender) {\n",
    "    if (obj.name.length !== nameLength) {\n",
    "        return false;\n",
    "    }\n",
    "    return obj.gender === gender;\n",
    "}\n",
    "return filter(this, 4, 'F')'''\n",
    "\n",
    "with user_collection.find({'$where': condition}) as rs:\n",
    "    print('* query with condition \"{}\\n\" is:\\n {}'.format(condition.replace('\\n', '\\n\\t'), format_result(rs)))\n",
    "\n",
    "\n",
    "user_collection.delete_many({})"
   ]
  }
 ],
 "metadata": {
  "kernelspec": {
   "display_name": "Python 3",
   "language": "python",
   "name": "python3"
  },
  "language_info": {
   "codemirror_mode": {
    "name": "ipython",
    "version": 3
   },
   "file_extension": ".py",
   "mimetype": "text/x-python",
   "name": "python",
   "nbconvert_exporter": "python",
   "pygments_lexer": "ipython3",
   "version": "3.8.5"
  }
 },
 "nbformat": 4,
 "nbformat_minor": 4
}
