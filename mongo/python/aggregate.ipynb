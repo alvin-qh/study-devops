{
 "cells": [
  {
   "cell_type": "markdown",
   "metadata": {},
   "source": [
    "# Mongo aggregate"
   ]
  },
  {
   "cell_type": "markdown",
   "metadata": {},
   "source": [
    "## 1. Setup"
   ]
  },
  {
   "cell_type": "markdown",
   "metadata": {},
   "source": [
    "### 1.1. Utils"
   ]
  },
  {
   "cell_type": "code",
   "execution_count": null,
   "metadata": {},
   "outputs": [],
   "source": [
    "from bson import json_util as json\n",
    "from pymongo.cursor import Cursor\n",
    "from bson import datetime\n",
    "import pytz\n",
    "\n",
    "def format_result(rs):\n",
    "    return '\\t{}'.format(json.dumps(rs, indent=2).replace('\\n', '\\n\\t'))\n",
    "\n",
    "def date_to_datetime(date):\n",
    "    return datetime.datetime.combine(date, datetime.datetime.min.time()).replace(tzinfo=pytz.utc)"
   ]
  },
  {
   "cell_type": "markdown",
   "metadata": {},
   "source": [
    "### 1.2. Make connection"
   ]
  },
  {
   "cell_type": "code",
   "execution_count": null,
   "metadata": {},
   "outputs": [],
   "source": [
    "from pymongo import MongoClient, ASCENDING, DESCENDING, IndexModel\n",
    "\n",
    "mongo = MongoClient(host='localhost', port=27017, maxPoolSize=5)\n",
    "print('* mongodb connect success: {}'.format(mongo))"
   ]
  },
  {
   "cell_type": "markdown",
   "metadata": {},
   "source": [
    "### 1.3. Get or create db and collection"
   ]
  },
  {
   "cell_type": "code",
   "execution_count": null,
   "metadata": {},
   "outputs": [],
   "source": [
    "user_collection = user_collection = mongo['test_db']['user']\n",
    "print('* user collection is: {}'.format(user_collection))"
   ]
  },
  {
   "cell_type": "markdown",
   "metadata": {},
   "source": [
    "## 2. Pipeline stage"
   ]
  },
  {
   "cell_type": "markdown",
   "metadata": {},
   "source": [
    "### 2.1. `$project` stage\n",
    "\n",
    "- Define which attributes should include in result"
   ]
  },
  {
   "cell_type": "code",
   "execution_count": null,
   "metadata": {},
   "outputs": [],
   "source": [
    "user_collection.insert_many([\n",
    "    {'id': 1, 'name': 'Alvin', 'homework': [10, 5, 10], 'quiz': [10, 8], 'extraCredit': 0},\n",
    "    {'id': 2, 'name': 'Emma', 'homework': [5, 5, 7], 'quiz': [6, 7], 'extraCredit': 3},\n",
    "    {'id': 3, 'name': 'Lucy', 'homework': [6, 7, 5], 'quiz': [9, 8], 'extraCredit': 4}\n",
    "])\n",
    "\n",
    "\n",
    "stage = {\n",
    "    '$project': {\n",
    "        'id': 1,\n",
    "        'name': 1,\n",
    "        'extraCredit': 1\n",
    "    }\n",
    "}\n",
    "with user_collection.aggregate([stage]) as rs:\n",
    "    print('* project include \"id\", \"name\" and \"extraCredit\":\\n{}'.format(format_result(rs)))\n",
    "\n",
    "\n",
    "user_collection.delete_many({})"
   ]
  },
  {
   "cell_type": "markdown",
   "metadata": {},
   "source": [
    "### 2.2. `$addFields` stage\n",
    "\n",
    "- add some fileds in result"
   ]
  },
  {
   "cell_type": "code",
   "execution_count": null,
   "metadata": {},
   "outputs": [],
   "source": [
    "user_collection.insert_many([\n",
    "    {'id': 1, 'name': 'Alvin', 'homework': [10, 5, 10], 'quiz': [10, 8], 'extraCredit': 0},\n",
    "    {'id': 2, 'name': 'Emma', 'homework': [5, 5, 7], 'quiz': [6, 7], 'extraCredit': 3},\n",
    "    {'id': 3, 'name': 'Lucy', 'homework': [6, 7, 5], 'quiz': [9, 8], 'extraCredit': 4}\n",
    "])\n",
    "\n",
    "stage_1 = {\n",
    "    '$addFields': {\n",
    "        'totalHomework': {'$sum': \"$homework\"},\n",
    "        'totalQuiz': {'$sum': \"$quiz\"}\n",
    "    }\n",
    "}\n",
    "\n",
    "stage_2 = {\n",
    "    '$addFields': {\n",
    "        'totalScore': {\n",
    "            '$add': ['$totalHomework', '$totalQuiz', '$extraCredit']\n",
    "        }\n",
    "    }\n",
    "}\n",
    "\n",
    "stage_3 = {\n",
    "    '$project': {\n",
    "        'id': 1,\n",
    "        'name': 1,\n",
    "        'totalScore': 1\n",
    "    }\n",
    "}\n",
    "\n",
    "with user_collection.aggregate([stage_1, stage_2, stage_3]) as rs:\n",
    "    print('* show result after add files:\\n{}'.format(format_result(rs)))\n",
    "\n",
    "\n",
    "user_collection.delete_many({})"
   ]
  },
  {
   "cell_type": "markdown",
   "metadata": {},
   "source": [
    "### 2.3. `$match` stage"
   ]
  },
  {
   "cell_type": "code",
   "execution_count": null,
   "metadata": {},
   "outputs": [],
   "source": [
    "user_collection.insert_many([\n",
    "    {'id': 1, 'name': 'Alvin', 'gender': 'M', 'age': 38},\n",
    "    {'id': 2, 'name': 'Emma', 'gender': 'F', 'age': 35},\n",
    "    {'id': 3, 'name': 'Lucy', 'gender': 'F', 'age': 26}\n",
    "])\n",
    "\n",
    "stage_1 = {\n",
    "    '$group': {\n",
    "        '_id': '$gender',\n",
    "        'names': {'$addToSet': '$name'},\n",
    "        'totalAge': {'$sum': \"$age\"}\n",
    "    }\n",
    "}\n",
    "\n",
    "stage_2 = {\n",
    "    '$match': {\n",
    "        'totalAge': {\n",
    "            '$gt': 50\n",
    "        }\n",
    "    }\n",
    "}\n",
    "\n",
    "with user_collection.aggregate([stage_1, stage_2]) as rs:\n",
    "    print('* show result after add to set:\\n{}'.format(format_result(rs)))\n",
    "\n",
    "\n",
    "user_collection.delete_many({})"
   ]
  },
  {
   "cell_type": "markdown",
   "metadata": {},
   "source": [
    "### 2.4. `$bucket` and `$bucketAuto` stage"
   ]
  },
  {
   "cell_type": "code",
   "execution_count": null,
   "metadata": {},
   "outputs": [],
   "source": [
    "user_collection.insert_many([\n",
    "    {'id': 1, 'name': 'Alvin', 'gender': 'M', 'age': 38},\n",
    "    {'id': 2, 'name': 'Emma', 'gender': 'F', 'age': 35},\n",
    "    {'id': 3, 'name': 'Lucy', 'gender': 'F', 'age': 26}\n",
    "])\n",
    "\n",
    "stage = {\n",
    "    '$bucket': {\n",
    "        'groupBy': '$gender',\n",
    "        'boundaries': ['F', 'M', 'U'],\n",
    "        'default': 'U',\n",
    "        'output': {\n",
    "            \"count\": {'$sum': 1},\n",
    "            \"users\": {\n",
    "                '$push': {\n",
    "                    'name': '$name',\n",
    "                    'gender': '$gender',\n",
    "                    'age': '$age'\n",
    "                }\n",
    "            }\n",
    "        }\n",
    "    }\n",
    "}\n",
    "\n",
    "with user_collection.aggregate([stage]) as rs:\n",
    "    print('* show result after bucket:\\n{}'.format(format_result(rs)))\n",
    "\n",
    "\n",
    "stage = {\n",
    "    '$bucketAuto': {\n",
    "        'groupBy': '$gender',\n",
    "        'buckets': 2,\n",
    "        'output': {\n",
    "            \"count\": {'$sum': 1},\n",
    "            \"users\": {\n",
    "                '$push': {\n",
    "                    'name': '$name',\n",
    "                    'gender': '$gender',\n",
    "                    'age': '$age'\n",
    "                }\n",
    "            }\n",
    "        }\n",
    "    }\n",
    "}\n",
    "\n",
    "with user_collection.aggregate([stage]) as rs:\n",
    "    print('\\n* show result after auto bucket:\\n{}'.format(format_result(rs)))\n",
    "\n",
    "\n",
    "user_collection.delete_many({})"
   ]
  },
  {
   "cell_type": "markdown",
   "metadata": {},
   "source": [
    "### 2.5. `$collStats` stage"
   ]
  },
  {
   "cell_type": "code",
   "execution_count": null,
   "metadata": {},
   "outputs": [],
   "source": [
    "user_collection.insert_many([\n",
    "    {'id': 1, 'name': 'Alvin', 'gender': 'M', 'age': 38},\n",
    "    {'id': 2, 'name': 'Emma', 'gender': 'F', 'age': 35},\n",
    "    {'id': 3, 'name': 'Lucy', 'gender': 'F', 'age': 26}\n",
    "])\n",
    "\n",
    "stage = {\n",
    "    'latencyStats': {'histograms': True},\n",
    "    'storageStats': {'scale': 11}\n",
    "}\n",
    "\n",
    "with user_collection.aggregate([stage]) as rs:\n",
    "    print('* show result after bucket:\\n{}'.format(format_result(rs)))"
   ]
  },
  {
   "cell_type": "code",
   "execution_count": null,
   "metadata": {},
   "outputs": [],
   "source": []
  },
  {
   "cell_type": "code",
   "execution_count": null,
   "metadata": {},
   "outputs": [],
   "source": []
  },
  {
   "cell_type": "code",
   "execution_count": null,
   "metadata": {},
   "outputs": [],
   "source": []
  },
  {
   "cell_type": "markdown",
   "metadata": {},
   "source": [
    "## 3. Pipline operators"
   ]
  },
  {
   "cell_type": "markdown",
   "metadata": {},
   "source": [
    "### 3.1. `$add` and `$sum` operator\n",
    "\n",
    "- Add certain fields"
   ]
  },
  {
   "cell_type": "code",
   "execution_count": null,
   "metadata": {},
   "outputs": [],
   "source": [
    "user_collection.insert_many([\n",
    "    {'id': 1, 'name': 'Alvin', 'scores': [10, 5, 10], 'quiz': [10, 8], 'extraCredit': 0},\n",
    "    {'id': 2, 'name': 'Emma', 'scores': [5, 5, 7], 'quiz': [6, 7], 'extraCredit': 3},\n",
    "    {'id': 3, 'name': 'Lucy', 'scores': [6, 7, 5], 'quiz': [9, 8], 'extraCredit': 4}\n",
    "])\n",
    "\n",
    "\n",
    "pipline_1 = {\n",
    "    '$project': {\n",
    "        'id': 1,\n",
    "        'name': 1,\n",
    "        'totalScore': {'$sum': ['$scores']},\n",
    "        'totalQuiz': {'$sum': ['$quiz']},\n",
    "        'extraCredit': 1\n",
    "    }\n",
    "}\n",
    "\n",
    "pipline_2 = {\n",
    "    '$project': {\n",
    "        'id': 1,\n",
    "        'name': 1,\n",
    "        'finalScore': {'$add': ['$totalScore', '$totalQuiz', '$extraCredit']}\n",
    "    }\n",
    "}\n",
    "with user_collection.aggregate([pipline_1, pipline_2]) as rs:\n",
    "    print('* project include \"id\", \"name\" and \"extraCredit\":\\n{}'.format(format_result(rs)))\n",
    "\n",
    "\n",
    "user_collection.delete_many({})"
   ]
  },
  {
   "cell_type": "markdown",
   "metadata": {},
   "source": [
    "### 3.2. `$addToSet` operator\n",
    "\n",
    "- add more items into a field as set"
   ]
  },
  {
   "cell_type": "code",
   "execution_count": null,
   "metadata": {},
   "outputs": [],
   "source": [
    "user_collection.insert_many([\n",
    "    {'id': 1, 'name': 'Alvin', 'gender': 'M', 'age': 38},\n",
    "    {'id': 2, 'name': 'Emma', 'gender': 'F', 'age': 35},\n",
    "    {'id': 3, 'name': 'Lucy', 'gender': 'F', 'age': 26}\n",
    "])\n",
    "\n",
    "pipline = {\n",
    "    '$group': {\n",
    "        '_id': '$gender',\n",
    "        'ages': {'$addToSet': \"$age\"}\n",
    "    }\n",
    "}\n",
    "with user_collection.aggregate([pipline]) as rs:\n",
    "    print('* show result after add to set:\\n{}'.format(format_result(rs)))\n",
    "\n",
    "\n",
    "user_collection.delete_many({})"
   ]
  },
  {
   "cell_type": "markdown",
   "metadata": {},
   "source": [
    "### 3.3. `$and`, `$eq`, `$gt`, `$lt`, `$gte` and `$lte` Operator"
   ]
  },
  {
   "cell_type": "code",
   "execution_count": null,
   "metadata": {},
   "outputs": [],
   "source": [
    "user_collection.insert_many([\n",
    "    {'id': 1, 'name': 'Alvin', 'gender': 'M', 'age': 38},\n",
    "    {'id': 2, 'name': 'Emma', 'gender': 'F', 'age': 35},\n",
    "    {'id': 3, 'name': 'Lucy', 'gender': 'F', 'age': 26}\n",
    "])\n",
    "\n",
    "pipline = {\n",
    "    '$project': {\n",
    "        'id': 1,\n",
    "        'name': 1,\n",
    "        'gender': 1,\n",
    "        'age': 1,\n",
    "        'qualified': {'$and': [{'$eq': ['$gender', 'F']}, {'$gt': ['$age', 30]}]}\n",
    "    }\n",
    "}\n",
    "with user_collection.aggregate([pipline]) as rs:\n",
    "    print('* show result after add to set:\\n{}'.format(format_result(rs)))\n",
    "\n",
    "\n",
    "user_collection.delete_many({})"
   ]
  },
  {
   "cell_type": "code",
   "execution_count": null,
   "metadata": {},
   "outputs": [],
   "source": []
  },
  {
   "cell_type": "code",
   "execution_count": null,
   "metadata": {},
   "outputs": [],
   "source": []
  },
  {
   "cell_type": "code",
   "execution_count": null,
   "metadata": {},
   "outputs": [],
   "source": []
  },
  {
   "cell_type": "code",
   "execution_count": null,
   "metadata": {},
   "outputs": [],
   "source": []
  },
  {
   "cell_type": "code",
   "execution_count": null,
   "metadata": {},
   "outputs": [],
   "source": []
  },
  {
   "cell_type": "code",
   "execution_count": null,
   "metadata": {},
   "outputs": [],
   "source": []
  },
  {
   "cell_type": "markdown",
   "metadata": {},
   "source": [
    "### 2.1. Count by condition"
   ]
  },
  {
   "cell_type": "code",
   "execution_count": null,
   "metadata": {},
   "outputs": [],
   "source": [
    "user_collection.insert_many([\n",
    "    {'id': 1, 'name': 'Alvin', 'gender': 'M'},\n",
    "    {'id': 2, 'name': 'Emma', 'gender': 'F'},\n",
    "    {'id': 3, 'name': 'Lucy', 'gender': 'F'}\n",
    "])\n",
    "\n",
    "\n",
    "condition = {'id': {'$gt': 1}}\n",
    "count = user_collection.count_documents(condition)\n",
    "print('* count by condition \"{}\" is: {}'.format(json.dumps(condition), count))\n",
    "\n",
    "\n",
    "user_collection.delete_many({})"
   ]
  },
  {
   "cell_type": "markdown",
   "metadata": {},
   "source": [
    "### 2.2. Count by group"
   ]
  },
  {
   "cell_type": "code",
   "execution_count": null,
   "metadata": {},
   "outputs": [],
   "source": [
    "user_collection.insert_many([\n",
    "    {'id': 1, 'name': 'Alvin', 'gender': 'M'},\n",
    "    {'id': 2, 'name': 'Emma', 'gender': 'F'},\n",
    "    {'id': 3, 'name': 'Lucy', 'gender': 'F'}\n",
    "])\n",
    "\n",
    "\n",
    "condition = {\n",
    "    '$group': {\n",
    "        '_id': '$gender', \n",
    "        'count': {'$sum': 1}\n",
    "    }\n",
    "}\n",
    "with user_collection.aggregate([condition]) as rs:\n",
    "    print('* each count of group by gender is:\\n{}'.format(format_result(rs)))\n",
    "\n",
    "\n",
    "user_collection.delete_many({})"
   ]
  },
  {
   "cell_type": "markdown",
   "metadata": {},
   "source": [
    "## 3. Sum"
   ]
  },
  {
   "cell_type": "code",
   "execution_count": null,
   "metadata": {},
   "outputs": [],
   "source": [
    "user_collection.insert_many([\n",
    "    {'id': 1, 'name': 'Alvin', 'gender': 'M', 'age': 38},\n",
    "    {'id': 2, 'name': 'Emma', 'gender': 'F', 'age': 35},\n",
    "    {'id': 3, 'name': 'Lucy', 'gender': 'F', 'age': 21}\n",
    "])\n",
    "\n",
    "\n",
    "condition = {\n",
    "    '$group': {\n",
    "        '_id': '$gender',\n",
    "        'count': {'$sum': 1},\n",
    "        'total_age': {'$sum': '$age'}\n",
    "    }\n",
    "}\n",
    "\n",
    "with user_collection.aggregate([condition]) as rs:\n",
    "    print('* aggregate result is: {}'.format(format_result(rs)))\n",
    "\n",
    "\n",
    "user_collection.delete_many({})"
   ]
  },
  {
   "cell_type": "markdown",
   "metadata": {},
   "source": [
    "## 4. Max and min"
   ]
  },
  {
   "cell_type": "code",
   "execution_count": null,
   "metadata": {},
   "outputs": [],
   "source": [
    "user_collection.insert_many([\n",
    "    {'id': 1, 'name': 'Alvin', 'gender': 'M', 'age': 38},\n",
    "    {'id': 2, 'name': 'Emma', 'gender': 'F', 'age': 35},\n",
    "    {'id': 3, 'name': 'Lucy', 'gender': 'F', 'age': 21}\n",
    "])\n",
    "\n",
    "condition = {\n",
    "    '$group': {\n",
    "        '_id': '$gender',\n",
    "        'max_age': {'$max': '$age'},\n",
    "        'min_age': {'$min': '$age'}\n",
    "    }\n",
    "}\n",
    "\n",
    "with user_collection.aggregate([condition]) as rs:\n",
    "    print('* aggregate result is: {}'.format(format_result(rs)))\n",
    "\n",
    "\n",
    "user_collection.delete_many({})"
   ]
  }
 ],
 "metadata": {
  "kernelspec": {
   "display_name": "Python 3",
   "language": "python",
   "name": "python3"
  },
  "language_info": {
   "codemirror_mode": {
    "name": "ipython",
    "version": 3
   },
   "file_extension": ".py",
   "mimetype": "text/x-python",
   "name": "python",
   "nbconvert_exporter": "python",
   "pygments_lexer": "ipython3",
   "version": "3.7.5"
  }
 },
 "nbformat": 4,
 "nbformat_minor": 4
}
