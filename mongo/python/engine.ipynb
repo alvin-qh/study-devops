{
 "cells": [
  {
   "cell_type": "markdown",
   "metadata": {},
   "source": [
    "# MongoEngine"
   ]
  },
  {
   "cell_type": "markdown",
   "metadata": {},
   "source": [
    "## 1. Setup"
   ]
  },
  {
   "cell_type": "markdown",
   "metadata": {},
   "source": [
    "### 1.1. Imports"
   ]
  },
  {
   "cell_type": "code",
   "execution_count": null,
   "metadata": {},
   "outputs": [],
   "source": [
    "import mongoengine as engine\n",
    "\n",
    "from mongoengine import (Document, EmbeddedDocument, IntField, LongField, StringField, ObjectIdField,\n",
    "                         DateField, DateTimeField, ListField, ReferenceField, EmbeddedDocumentField)\n",
    "from mongoengine.queryset.visitor import Q\n",
    "\n",
    "from bson.objectid import ObjectId\n",
    "from datetime import date, datetime as dt\n",
    "\n",
    "import re"
   ]
  },
  {
   "cell_type": "markdown",
   "metadata": {},
   "source": [
    "### 1.2. Utils"
   ]
  },
  {
   "cell_type": "code",
   "execution_count": null,
   "metadata": {},
   "outputs": [],
   "source": [
    "def format_array(elements):\n",
    "    if not elements:\n",
    "        return '[]'\n",
    "    \n",
    "    if len(elements) < 2:\n",
    "        return '[{}]'.format(elements[0])\n",
    "    \n",
    "    output = ['[\\n']\n",
    "    for e in elements:\n",
    "        output.append('{}{}\\n'.format(' ' * 4, e))\n",
    "    output.append(']')\n",
    "    return ''.join(output)"
   ]
  },
  {
   "cell_type": "markdown",
   "metadata": {},
   "source": [
    "## 2. Connect to MongoDB"
   ]
  },
  {
   "cell_type": "markdown",
   "metadata": {},
   "source": [
    "### 2.1. MongoEngine connection\n",
    "\n",
    "Arguments:\n",
    "- `db`: which database will be connected\n",
    "- `host`: mongo host name or ip address\n",
    "- `username`: username for connected database\n",
    "- `password`: password for connected username\n",
    "- `alias`: name of this connection, for connection more difference hosts"
   ]
  },
  {
   "cell_type": "code",
   "execution_count": null,
   "metadata": {},
   "outputs": [],
   "source": [
    "conn = engine.connect(db='test_db', host='localhost:27017', alias='test_db')\n",
    "print('* db connectioned, connection is: {}'.format(conn))"
   ]
  },
  {
   "cell_type": "markdown",
   "metadata": {},
   "source": [
    "### 2.2. Get PyMongo instance"
   ]
  },
  {
   "cell_type": "code",
   "execution_count": null,
   "metadata": {},
   "outputs": [],
   "source": [
    "db = engine.get_db(alias='test_db')\n",
    "print('* used db is: {}'.format(db))"
   ]
  },
  {
   "cell_type": "markdown",
   "metadata": {},
   "source": [
    "## 3. Use MongoEngine"
   ]
  },
  {
   "cell_type": "markdown",
   "metadata": {},
   "source": [
    "### 3.1. Document"
   ]
  },
  {
   "cell_type": "markdown",
   "metadata": {},
   "source": [
    "#### 3.1.1. Define Document class\n",
    "\n",
    "`Document` class define a collection, `meta` means metadata of collection\n",
    "- `db_alias`: which connection should be used\n",
    "- `collection`: name of collection which should be mapping to"
   ]
  },
  {
   "cell_type": "code",
   "execution_count": null,
   "metadata": {},
   "outputs": [],
   "source": [
    "class User(Document):\n",
    "    meta = {\n",
    "        'db_alias': 'test_db',\n",
    "        'collection': 'user'\n",
    "    }\n",
    "\n",
    "    id_ = LongField(min_value=0, required=True, db_field='id', unique=True)\n",
    "    name = StringField(max_length=100, required=True)\n",
    "    gender = StringField(regex=r'[M|F]', max_length=1, required=True, default='M')\n",
    "\n",
    "    def __str__(self):\n",
    "        return 'User(id={}, id_={}, name=\"{}\", gender=\"{}\")'.format(self.id, self.id_, self.name, self.gender)\n",
    "\n",
    "\n",
    "try:\n",
    "    # try to save normal Document object\n",
    "    user = User(id_=1, name='Alvin', gender='M')\n",
    "    user.save()\n",
    "    print('* user {} was created'.format(user))\n",
    "\n",
    "    # save Document with default field gender\n",
    "    user = User(id_=2, name='Authur')\n",
    "    user.save()\n",
    "    print('\\n* user {} was created'.format(user))\n",
    "\n",
    "    # list all saved objects\n",
    "    users = User.objects.all()\n",
    "    print('\\n* there are {} objects created, and they are: {}'.format(len(users), format_array(users)))\n",
    "\n",
    "    # try to trigger key duplicate error (by id_ field duplicated)\n",
    "    try:\n",
    "        user = User(id_=2, name='Authur')\n",
    "        user.save()\n",
    "    except Exception as err:\n",
    "        print('\\n* error caused: {}'.format(err))\n",
    "\n",
    "    # try to trigger validation error (by gender not match regex rule)\n",
    "    try:\n",
    "        user = User(id_=3, name='Emma', gender='X')\n",
    "        user.save()\n",
    "    except Exception as err:\n",
    "        print('\\n* error caused: {}'.format(err))\n",
    "finally:\n",
    "    db.drop_collection('user')"
   ]
  },
  {
   "cell_type": "markdown",
   "metadata": {},
   "source": [
    "#### 3.1.2. Id of Document\n",
    "\n",
    "- `primary_key`: physics id of collection (_id property of collection)\n",
    "- `id`: readonly value mappting to primary key (cannot define `id` property for Document explicit)\n",
    "- `ObjectIdField`: object id type, required and primary key by default"
   ]
  },
  {
   "cell_type": "markdown",
   "metadata": {},
   "source": [
    "##### 3.1.2.1. `ObjectIdField`"
   ]
  },
  {
   "cell_type": "code",
   "execution_count": null,
   "metadata": {},
   "outputs": [],
   "source": [
    "class User(Document):\n",
    "    meta = {\n",
    "        'db_alias': 'test_db',\n",
    "        'collection': 'user'\n",
    "    }\n",
    "\n",
    "    key = ObjectIdField()  # key field, required and primary key by default\n",
    "    name = StringField(max_length=100, required=True)\n",
    "    gender = StringField(regex=r'[M|F]', max_length=1, required=True)\n",
    "\n",
    "    def __str__(self):\n",
    "        # self.id mappting to primary key (key field)\n",
    "        return 'User(id={}, name=\"{}\", gender=\"{}\")'.format(self.id, self.name, self.gender)\n",
    "\n",
    "\n",
    "try:\n",
    "    # ignore key property, use default ObjectId value\n",
    "\n",
    "    for n in range(1, 4):\n",
    "        user = User(name='Alvin{}'.format(n), gender='M' if n % 2 == 0 else 'F')\n",
    "        user.save()\n",
    "\n",
    "    users = User.objects.all()\n",
    "    print('* there are {} objects created, and they are: {}'.format(len(users), format_array(users)))\n",
    "\n",
    "    # use ObjectId object as value of key\n",
    "\n",
    "    for n in range(1, 4):\n",
    "        user = User(key=ObjectId(), name='Alvin{}'.format(n), gender='M' if n % 2 == 0 else 'F')\n",
    "        user.save()\n",
    "\n",
    "    users = User.objects.all()\n",
    "    print('\\n* there are {} objects created, and they are: {}'.format(len(users), format_array(users)))\n",
    "\n",
    "    # use user define ObjectId as value of key\n",
    "\n",
    "    for n in range(1, 4):\n",
    "        user = User(key=ObjectId('{}'.format(n) * 24), name='Alvin{}'.format(n), gender='M' if n % 2 == 0 else 'F')\n",
    "        user.save()\n",
    "\n",
    "    users = User.objects.all()\n",
    "    print('\\n* there are {} objects created, and they are: {}'.format(len(users), format_array(users)))\n",
    "finally:\n",
    "    db.drop_collection('user')"
   ]
  },
  {
   "cell_type": "markdown",
   "metadata": {},
   "source": [
    "##### 3.1.2.2. `primary_key`"
   ]
  },
  {
   "cell_type": "code",
   "execution_count": null,
   "metadata": {},
   "outputs": [],
   "source": [
    "class User(Document):\n",
    "    meta = {\n",
    "        'db_alias': 'test_db',\n",
    "        'collection': 'user'\n",
    "    }\n",
    "\n",
    "    key = StringField(max_length=10, min_length=2, required=True, primary_key=True)  # primary key\n",
    "    name = StringField(max_length=100, required=True)\n",
    "    gender = StringField(regex=r'[M|F]', max_length=1, required=True)\n",
    "\n",
    "    def __str__(self):\n",
    "        # self.id mappting to primary key (key field)\n",
    "        return 'User(id={}, name=\"{}\", gender=\"{}\")'.format(self.id, self.name, self.gender)\n",
    "\n",
    "\n",
    "try:\n",
    "    for n in range(1, 4):\n",
    "        user = User(key='a' * (n + 2), name='Alvin{}'.format(n), gender='M' if n % 2 == 0 else 'F')\n",
    "        user.save()\n",
    "\n",
    "    users = User.objects.all()\n",
    "    print('* there are {} objects created, and they are: {}'.format(len(users), format_array(users)))\n",
    "finally:\n",
    "    db.drop_collection('user')"
   ]
  },
  {
   "cell_type": "markdown",
   "metadata": {},
   "source": [
    "##### 3.1.2.3. `_id` field and primary key\n",
    "\n",
    "- Demo 1"
   ]
  },
  {
   "cell_type": "code",
   "execution_count": null,
   "metadata": {},
   "outputs": [],
   "source": [
    "class User(Document):\n",
    "    meta = {\n",
    "        'db_alias': 'test_db',\n",
    "        'collection': 'user'\n",
    "    }\n",
    "\n",
    "    # _id field means _id property of collection\n",
    "    # if without 'primary_key', '_id' field cannot mapping to 'id' field\n",
    "    _id = StringField(required=True)\n",
    "    name = StringField(max_length=100, required=True)\n",
    "    gender = StringField(regex=r'[M|F]', max_length=1, required=True)\n",
    "\n",
    "    def __str__(self):\n",
    "        return 'User(id={}, name=\"{}\", gender=\"{}\")'.format(self._id, self.name, self.gender)\n",
    "\n",
    "\n",
    "try:\n",
    "    user = User(_id='user_1', name='Alvin1', gender='M' if n % 2 == 0 else 'F')\n",
    "    user.save()\n",
    "\n",
    "    user = User(_id='user_1', name='Alvin2', gender='M' if n % 2 == 0 else 'F')\n",
    "    user.save()  # save document with same _id, means update collection by same _id\n",
    "\n",
    "    users = User.objects.all()\n",
    "    print('* there are {} objects created, and they are: {}'.format(len(users), format_array(users)))\n",
    "finally:\n",
    "    db.drop_collection('user')"
   ]
  },
  {
   "cell_type": "markdown",
   "metadata": {},
   "source": [
    "- Demo 2"
   ]
  },
  {
   "cell_type": "code",
   "execution_count": null,
   "metadata": {},
   "outputs": [],
   "source": [
    "class User(Document):\n",
    "    meta = {\n",
    "        'db_alias': 'test_db',\n",
    "        'collection': 'user'\n",
    "    }\n",
    "\n",
    "    # if with 'primary_key', '_id' field can mapping to 'id' field\n",
    "    _id = StringField(required=True, primary_key=True)\n",
    "    name = StringField(max_length=100, required=True)\n",
    "    gender = StringField(regex=r'[M|F]', max_length=1, required=True)\n",
    "\n",
    "    def __str__(self):\n",
    "        return 'User(id={}, name=\"{}\", gender=\"{}\")'.format(self.id, self.name, self.gender)\n",
    "\n",
    "\n",
    "try:\n",
    "    user = User(_id='user_1', name='Alvin1', gender='M' if n % 2 == 0 else 'F')\n",
    "    user.save()\n",
    "\n",
    "    user = User(_id='user_1', name='Alvin2', gender='M' if n % 2 == 0 else 'F')\n",
    "    user.save()  # save document with same primary key, means update collection by same primary key\n",
    "\n",
    "    users = User.objects.all()\n",
    "    print('* there are {} objects created, and they are: {}'.format(len(users), format_array(users)))\n",
    "finally:\n",
    "    db.drop_collection('user')"
   ]
  },
  {
   "cell_type": "markdown",
   "metadata": {},
   "source": [
    "#### 3.1.3. Date & Datetime field"
   ]
  },
  {
   "cell_type": "code",
   "execution_count": null,
   "metadata": {},
   "outputs": [],
   "source": [
    "class User(Document):\n",
    "    meta = {\n",
    "        'db_alias': 'test_db',\n",
    "        'collection': 'user'\n",
    "    }\n",
    "\n",
    "    name = StringField(max_length=100, required=True)\n",
    "    gender = StringField(regex=r'[M|F]', max_length=1, required=True)\n",
    "    birthday = DateField(required=True)\n",
    "    created_at = DateTimeField(required=True, default=dt.utcnow())\n",
    "\n",
    "    def __str__(self):\n",
    "        return 'User(id={}, name=\"{}\", gender=\"{}\", birthday={}, created_at={})'.format(\n",
    "            self.id, self.name, self.gender, self.birthday, self.created_at)\n",
    "\n",
    "\n",
    "try:\n",
    "    user = User(name='Alvin', gender='M', birthday=date(1981, 3, 17))\n",
    "    user.save()\n",
    "\n",
    "    users = User.objects.all()\n",
    "    print('* there are {} objects created, and they are: {}'.format(len(users), format_array(users)))\n",
    "finally:\n",
    "    db.drop_collection('user')"
   ]
  },
  {
   "cell_type": "markdown",
   "metadata": {},
   "source": [
    "#### 3.1.4. ListField field"
   ]
  },
  {
   "cell_type": "code",
   "execution_count": null,
   "metadata": {},
   "outputs": [],
   "source": [
    "class User(Document):\n",
    "    meta = {\n",
    "        'db_alias': 'test_db',\n",
    "        'collection': 'user'\n",
    "    }\n",
    "\n",
    "    name = StringField(max_length=100, required=True)\n",
    "    gender = StringField(regex=r'[M|F]', max_length=1, required=True)\n",
    "    hobbies = ListField(StringField(required=True), required=True)\n",
    "\n",
    "    def __str__(self):\n",
    "        return 'User(id={}, name=\"{}\", gender=\"{}\", hobbies={})'.format(self.id, self.name, self.gender, self.hobbies)\n",
    "\n",
    "\n",
    "try:\n",
    "    user = User(name='Alvin', gender='M', hobbies=['Football', 'Gaming'])\n",
    "    user.save()\n",
    "\n",
    "    users = User.objects.all()\n",
    "    print('* there are {} objects created, and they are: {}'.format(len(users), format_array(users)))\n",
    "\n",
    "    # try to trigger validation error (list field include empty element)\n",
    "    try:\n",
    "        user = User(name='Alvin', gender='M', hobbies=[])\n",
    "        user.save()\n",
    "    except Exception as err:\n",
    "        print('* error caused: {}'.format(err))\n",
    "finally:\n",
    "    db.drop_collection('user')"
   ]
  },
  {
   "cell_type": "markdown",
   "metadata": {},
   "source": [
    "#### 3.1.5. Reference field"
   ]
  },
  {
   "cell_type": "code",
   "execution_count": null,
   "metadata": {},
   "outputs": [],
   "source": [
    "# Category document\n",
    "class Category(Document):\n",
    "    meta = {\n",
    "        'db_alias': 'test_db',\n",
    "        'collection': 'category'\n",
    "    }\n",
    "\n",
    "    name = StringField(max_length=30, required=True)\n",
    "    artnum = IntField(default=0, required=True)\n",
    "    date = DateTimeField(required=True, default=dt.utcnow())\n",
    "\n",
    "    def __str__(self):\n",
    "        return 'Category(id={}, name=\"{}\", artnum={}, date={})'.format(self.id, self.name, self.artnum, self.date)\n",
    "\n",
    "# Post document\n",
    "class Post(Document):\n",
    "    meta = {\n",
    "        'db_alias': 'test_db',\n",
    "        'collection': 'post'\n",
    "    }\n",
    "\n",
    "    title = StringField(max_length=100, required=True)\n",
    "    content = StringField(required=True)\n",
    "    tags = ListField(StringField(max_length=20, required=True), required=True)\n",
    "    category = ReferenceField(Category)\n",
    "\n",
    "    def __str__(self):\n",
    "        return 'Post(id={}, title=\"{}\", content={}, tags={}, \\n\\t category={})'.format(self.id, self.title, self.content,\n",
    "                                                                                       self.tags, self.category)\n",
    "\n",
    "\n",
    "try:\n",
    "    # create some categories\n",
    "    category1 = Category(name='C1', artnum=1)\n",
    "    category1.save()\n",
    "\n",
    "    category2 = Category(name='C2', artnum=2)\n",
    "    category2.save()\n",
    "\n",
    "    categories = Category.objects.all()\n",
    "    print('* there are {} objects created, and they are: {}'.format(len(categories), format_array(categories)))\n",
    "\n",
    "    # create some posts, and each post reference category\n",
    "    post = Post(title='POST 1', content='This is a first post', tags=['t1', 't2'], category=category1)\n",
    "    post.save()\n",
    "\n",
    "    post = Post(title='POST 2', content='This is a second post', tags=['t2', 't3'], category=category2)\n",
    "    post.save()\n",
    "\n",
    "    posts = Post.objects.all()\n",
    "    print('\\n* there are {} objects created, and they are: {}'.format(len(posts), format_array(posts)))\n",
    "finally:\n",
    "    db.drop_collection('category')\n",
    "    db.drop_collection('post')"
   ]
  },
  {
   "cell_type": "markdown",
   "metadata": {},
   "source": [
    "### 3.2. EmbeddedDocument"
   ]
  },
  {
   "cell_type": "code",
   "execution_count": null,
   "metadata": {},
   "outputs": [],
   "source": [
    "# Category document\n",
    "class Category(Document):\n",
    "    meta = {\n",
    "        'db_alias': 'test_db',\n",
    "        'collection': 'category'\n",
    "    }\n",
    "\n",
    "    name = StringField(max_length=30, required=True)\n",
    "    artnum = IntField(default=0, required=True)\n",
    "    date = DateTimeField(required=True, default=dt.utcnow())\n",
    "\n",
    "    def __str__(self):\n",
    "        return 'Category(id={}, name=\"{}\", artnum={}, date={})'.format(self.id, self.name, self.artnum, self.date)\n",
    "\n",
    "# Tag document\n",
    "class Tag(EmbeddedDocument):\n",
    "    name = StringField(max_length=100, required=True)\n",
    "    created_at = DateTimeField(default=dt.utcnow())\n",
    "\n",
    "    def __str__(self):\n",
    "        return 'Tag(name=\"{}\", created_at={})'.format(self.name, self.created_at)\n",
    "\n",
    "# Post document\n",
    "class Post(Document):\n",
    "    meta = {\n",
    "        'db_alias': 'test_db',\n",
    "        'collection': 'post'\n",
    "    }\n",
    "\n",
    "    title = StringField(max_length=100, required=True)\n",
    "    content = StringField(required=True)\n",
    "    category = ReferenceField(Category, required=True)\n",
    "    tags = ListField(EmbeddedDocumentField(Tag))\n",
    "\n",
    "    def __str__(self):\n",
    "        return 'Post(id={}, title=\"{}\", content={}, tags={}, \\n\\t category={})'.format(self.id, self.title, self.content,\n",
    "                                                                                       self.tags, self.category)\n",
    "\n",
    "\n",
    "try:\n",
    "    # create some categories\n",
    "    category1 = Category(name='C1', artnum=1)\n",
    "    category1.save()\n",
    "\n",
    "    category2 = Category(name='C2', artnum=2)\n",
    "    category2.save()\n",
    "\n",
    "    categories = Category.objects.all()\n",
    "    print('* there are {} objects created, and they are: {}'.format(len(categories), format_array(categories)))\n",
    "\n",
    "    # create some posts, and each post reference category\n",
    "    post = Post(title='POST 1', content='This is a first post', category=category1)\n",
    "    post.tags.append(Tag(name='t1'))\n",
    "    post.save()\n",
    "\n",
    "    # create tags\n",
    "    post.tags.append(Tag(name='t2'))\n",
    "    post.save()\n",
    "\n",
    "    posts = Post.objects.all()\n",
    "    print('\\n* there are {} objects created, and they are: {}'.format(len(posts), format_array(posts)))\n",
    "finally:\n",
    "    db.drop_collection('category')\n",
    "    db.drop_collection('post')"
   ]
  },
  {
   "cell_type": "markdown",
   "metadata": {},
   "source": [
    "### 3.3. Query"
   ]
  },
  {
   "cell_type": "markdown",
   "metadata": {},
   "source": [
    "#### 3.3.1. Simple query\n",
    "\n",
    "compare filter operators:\n",
    "- `ne`: not equal to\n",
    "- `lt`: less than\n",
    "- `lte`: less than or equal to\n",
    "- `gt`: greater than\n",
    "- `gte`: greater than or equal to\n",
    "- `not`: negate a standard check, may be used before other operators (e.g. Q(age__not__mod=(5, 0)))\n",
    "- `in`: value is in list (a list of values should be provided)\n",
    "- `nin`: value is not in list (a list of values should be provided)\n",
    "- `mod`: value % x == y, where x and y are two provided values\n",
    "- `all`: every item in list of values provided is in array\n",
    "- `size`: the size of the array is\n",
    "- `exists`: value for field exists"
   ]
  },
  {
   "cell_type": "code",
   "execution_count": null,
   "metadata": {},
   "outputs": [],
   "source": [
    "class User(Document):\n",
    "    meta = {\n",
    "        'db_alias': 'test_db',\n",
    "        'collection': 'user'\n",
    "    }\n",
    "\n",
    "    no = IntField(min=1, required=True)\n",
    "    name = StringField(max_length=100, required=True)\n",
    "    gender = StringField(regex=r'[M|F]', max_length=1, required=True)\n",
    "    birthday = DateField(required=True)\n",
    "    created_at = DateTimeField(required=True, default=dt.utcnow())\n",
    "\n",
    "    def __str__(self):\n",
    "        return 'User(no={}, name=\"{}\", gender=\"{}\", birthday={}, created_at={})'.format(\n",
    "            self.no, self.name, self.gender, self.birthday, self.created_at)\n",
    "\n",
    "\n",
    "try:\n",
    "    User(no=1, name='Alvin', gender='M', birthday=date(1981, 3, 17)).save()\n",
    "    User(no=2, name='Emma', gender='F', birthday=date(1985, 3, 29)).save()\n",
    "    User(no=3, name='Lucy', gender='F', birthday=date(1988, 2, 9)).save()\n",
    "\n",
    "    users = User.objects\n",
    "    print('* all objects in db are: {}'.format(format_array(users)))\n",
    "\n",
    "    users = User.objects.all()\n",
    "    print('\\n* all objects in db are: {}'.format(format_array(users)))\n",
    "\n",
    "    users = User.objects(name='Alvin')\n",
    "    print('\\n* found objects in db are: {}'.format(format_array(users)))\n",
    "    \n",
    "    users = User.objects(name__ne='Alvin')\n",
    "    print('\\n* found objects in db are: {}'.format(format_array(users)))\n",
    "    \n",
    "    users = User.objects(no__gt=1)\n",
    "    print('\\n* found objects in db are: {}'.format(format_array(users)))\n",
    "    \n",
    "    users = User.objects(birthday__gt=date(1981, 3, 1), birthday__lt=date(1985, 3, 31))\n",
    "    print('\\n* found objects in db are: {}'.format(format_array(users)))\n",
    "finally:\n",
    "    db.drop_collection('user')"
   ]
  },
  {
   "cell_type": "markdown",
   "metadata": {},
   "source": [
    "#### 3.3.2. String query\n",
    "\n",
    "string field filter operators:\n",
    "- `exact`: string field exactly matches value\n",
    "- `iexact`: string field exactly matches value (case insensitive)\n",
    "- `contains`: string field contains value\n",
    "- `icontains`: string field contains value (case insensitive)\n",
    "- `startswith`: string field starts with value\n",
    "- `istartswith`: string field starts with value (case insensitive)\n",
    "- `endswith`: string field ends with value\n",
    "- `iendswith`: string field ends with value (case insensitive)\n",
    "\n",
    "match string field by regex:\n",
    "\n",
    "```python\n",
    "import re\n",
    "\n",
    "cond = re.compile(r'<regex express>')\n",
    "results = Collections.objects(<field>__regex=cond)\n",
    "```"
   ]
  },
  {
   "cell_type": "code",
   "execution_count": null,
   "metadata": {},
   "outputs": [],
   "source": [
    "class User(Document):\n",
    "    meta = {\n",
    "        'db_alias': 'test_db',\n",
    "        'collection': 'user'\n",
    "    }\n",
    "\n",
    "    no = IntField(min=1, required=True)\n",
    "    name = StringField(max_length=100, required=True)\n",
    "    gender = StringField(regex=r'[M|F]', max_length=1, required=True)\n",
    "    birthday = DateField(required=True)\n",
    "    created_at = DateTimeField(required=True, default=dt.utcnow())\n",
    "\n",
    "    def __str__(self):\n",
    "        return 'User(no={}, name=\"{}\", gender=\"{}\", birthday={}, created_at={})'.format(\n",
    "            self.no, self.name, self.gender, self.birthday, self.created_at)\n",
    "\n",
    "\n",
    "try:\n",
    "    User(no=1, name='Alvin', gender='M', birthday=date(1981, 3, 17)).save()\n",
    "    User(no=2, name='Emma', gender='F', birthday=date(1985, 3, 29)).save()\n",
    "    User(no=3, name='Lucy', gender='F', birthday=date(1988, 2, 9)).save()\n",
    "\n",
    "    users = User.objects(name__istartswith='A')\n",
    "    print('* found objects in db are: {}'.format(format_array(users)))\n",
    "    \n",
    "    users = User.objects(name__contains='ma')\n",
    "    print('\\n* found objects in db are: {}'.format(format_array(users)))\n",
    "    \n",
    "    # search by regex\n",
    "    name_regex = re.compile(r'^[A|L]\\w+')\n",
    "    users = User.objects(name=name_regex)\n",
    "    print('\\n* found objects in db are: {}'.format(format_array(users)))\n",
    "finally:\n",
    "    db.drop_collection('user')"
   ]
  },
  {
   "cell_type": "markdown",
   "metadata": {},
   "source": [
    "#### 3.3.3. Combine conditions with 'and', 'or'"
   ]
  },
  {
   "cell_type": "code",
   "execution_count": null,
   "metadata": {},
   "outputs": [],
   "source": [
    "class User(Document):\n",
    "    meta = {\n",
    "        'db_alias': 'test_db',\n",
    "        'collection': 'user'\n",
    "    }\n",
    "\n",
    "    no = IntField(min=1, required=True)\n",
    "    name = StringField(max_length=100, required=True)\n",
    "    gender = StringField(regex=r'[M|F]', max_length=1, required=True)\n",
    "    birthday = DateField(required=True)\n",
    "    created_at = DateTimeField(required=True, default=dt.utcnow())\n",
    "\n",
    "    def __str__(self):\n",
    "        return 'User(no={}, name=\"{}\", gender=\"{}\", birthday={}, created_at={})'.format(\n",
    "            self.no, self.name, self.gender, self.birthday, self.created_at)\n",
    "\n",
    "\n",
    "try:\n",
    "    User(no=1, name='Alvin', gender='M', birthday=date(1981, 3, 17)).save()\n",
    "    User(no=2, name='Emma', gender='F', birthday=date(1985, 3, 29)).save()\n",
    "    User(no=3, name='Lucy', gender='F', birthday=date(1988, 2, 9)).save()\n",
    "\n",
    "    users = User.objects(Q(name__istartswith='A'))\n",
    "    print('* found objects in db are: {}'.format(format_array(users)))\n",
    "    \n",
    "    name_regex = re.compile(r'^[A|L]\\w+')\n",
    "    users = User.objects(Q(name=name_regex) & Q(gender='F'))\n",
    "    print('\\n* found objects in db are: {}'.format(format_array(users)))\n",
    "    \n",
    "    users = User.objects(Q(name='Lucy') | Q(gender='M'))\n",
    "    print('\\n* found objects in db are: {}'.format(format_array(users)))\n",
    "finally:\n",
    "    db.drop_collection('user')"
   ]
  },
  {
   "cell_type": "markdown",
   "metadata": {},
   "source": [
    "#### 3.3.4. Query in embedded document"
   ]
  },
  {
   "cell_type": "code",
   "execution_count": null,
   "metadata": {},
   "outputs": [],
   "source": [
    "class Tag(EmbeddedDocument):\n",
    "    no = IntField(min_value=0, required=True)\n",
    "    name = StringField(max_length=100, required=True)\n",
    "\n",
    "    def __str__(self):\n",
    "        return 'Tag(no={}, name=\"{}\")'.format(self.no, self.name)\n",
    "\n",
    "class Post(Document):\n",
    "    meta = {\n",
    "        'db_alias': 'test_db',\n",
    "        'collection': 'post'\n",
    "    }\n",
    "\n",
    "    title = StringField(max_length=100, required=True)\n",
    "    content = StringField(required=True)\n",
    "    tags = ListField(EmbeddedDocumentField(Tag), required=True)\n",
    "\n",
    "    def __str__(self):\n",
    "        return 'Post(title=\"{}\", content={}, tags={})'.format(self.title, self.content, self.tags)\n",
    "\n",
    "\n",
    "try:\n",
    "    Post(title='Post 1', content='This is post 1', tags=[Tag(no=1, name='t1'), Tag(no=2, name='t2')]).save()\n",
    "    Post(title='Post 2', content='This is post 2', tags=[Tag(no=2, name='t2'), Tag(no=3, name='t3')]).save()\n",
    "    Post(title='Post 3', content='This is post 3', tags=[Tag(no=3, name='t3'), Tag(no=4, name='t4')]).save()\n",
    "    \n",
    "    # query by embedded document field\n",
    "    # the raw query statement: db.post.find({'tags.name': 't1', 'tags.no': 2})\n",
    "    # results contains both match condition that 'tags.name=t1' or 'tags.no=2', two results could be found\n",
    "    posts = Post.objects(tags__name='t1', tags__no=2)\n",
    "    print('* found objects in db are: {}'.format(format_array(posts)))\n",
    "\n",
    "    # query by embedded document field\n",
    "    # the raw query statement: db.post.find({'tags': {'$elemMatch': {'name': 't1', 'no': 2}}})\n",
    "    # nothing should be found\n",
    "    posts = Post.objects(tags__match={'name': 't1', 'no': 2})\n",
    "    print('\\n* found objects in db are: {}'.format(format_array(posts)))\n",
    "    \n",
    "    # in query\n",
    "    posts = Post.objects(tags__name__in=['t1', 't4'])\n",
    "    print('\\n* found objects in db are: {}'.format(format_array(posts)))\n",
    "finally:\n",
    "    db.drop_collection('post')"
   ]
  },
  {
   "cell_type": "code",
   "execution_count": null,
   "metadata": {},
   "outputs": [],
   "source": [
    "engine.disconnect(alias='test_db')"
   ]
  }
 ],
 "metadata": {
  "kernelspec": {
   "display_name": "Python 3",
   "language": "python",
   "name": "python3"
  },
  "language_info": {
   "codemirror_mode": {
    "name": "ipython",
    "version": 3
   },
   "file_extension": ".py",
   "mimetype": "text/x-python",
   "name": "python",
   "nbconvert_exporter": "python",
   "pygments_lexer": "ipython3",
   "version": "3.7.5"
  }
 },
 "nbformat": 4,
 "nbformat_minor": 4
}
