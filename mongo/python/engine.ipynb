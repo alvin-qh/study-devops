{
 "cells": [
  {
   "cell_type": "markdown",
   "metadata": {},
   "source": [
    "# MongoEngine"
   ]
  },
  {
   "cell_type": "markdown",
   "metadata": {},
   "source": [
    "## 1. Setup"
   ]
  },
  {
   "cell_type": "markdown",
   "metadata": {},
   "source": [
    "### 1.1. Imports"
   ]
  },
  {
   "cell_type": "code",
   "execution_count": null,
   "metadata": {},
   "outputs": [],
   "source": [
    "import mongoengine as engine\n",
    "\n",
    "from mongoengine import (Document, LongField, StringField, ObjectIdField)\n",
    "from bson.objectid import ObjectId"
   ]
  },
  {
   "cell_type": "markdown",
   "metadata": {},
   "source": [
    "### 1.2. Utils"
   ]
  },
  {
   "cell_type": "code",
   "execution_count": null,
   "metadata": {},
   "outputs": [],
   "source": [
    "def format_array(elements):\n",
    "    if not elements:\n",
    "        return '[]'\n",
    "    \n",
    "    if len(elements) < 2:\n",
    "        return '[{}]'.format(elements[0])\n",
    "    \n",
    "    output = ['[\\n']\n",
    "    for e in elements:\n",
    "        output.append('{}{}\\n'.format(' ' * 4, e))\n",
    "    output.append(']')\n",
    "    return ''.join(output)"
   ]
  },
  {
   "cell_type": "markdown",
   "metadata": {},
   "source": [
    "## 2. Connect to MongoDB"
   ]
  },
  {
   "cell_type": "markdown",
   "metadata": {},
   "source": [
    "### 2.1. MongoEngine connection\n",
    "\n",
    "Arguments:\n",
    "- `db`: which database will be connected\n",
    "- `host`: mongo host name or ip address\n",
    "- `username`: username for connected database\n",
    "- `password`: password for connected username\n",
    "- `alias`: name of this connection, for connection more difference hosts"
   ]
  },
  {
   "cell_type": "code",
   "execution_count": null,
   "metadata": {},
   "outputs": [],
   "source": [
    "engine.connect(db='test_db', host='localhost:27017', alias='test_db')\n",
    "print('* db connectioned, connection is: {}'.format(db))"
   ]
  },
  {
   "cell_type": "markdown",
   "metadata": {},
   "source": [
    "### 2.2. Get PyMongo instance"
   ]
  },
  {
   "cell_type": "code",
   "execution_count": null,
   "metadata": {},
   "outputs": [],
   "source": [
    "db = engine.get_db(alias='test_db')\n",
    "print('* used db is: {}'.format(db))"
   ]
  },
  {
   "cell_type": "markdown",
   "metadata": {},
   "source": [
    "## 3. Use MongoEngine"
   ]
  },
  {
   "cell_type": "markdown",
   "metadata": {},
   "source": [
    "### 3.1. Document"
   ]
  },
  {
   "cell_type": "markdown",
   "metadata": {},
   "source": [
    "#### 3.1.1. Define Document class\n",
    "\n",
    "`Document` class define a collection, `meta` means metadata of collection\n",
    "- `db_alias`: which connection should be used\n",
    "- `collection`: name of collection which should be mapping to"
   ]
  },
  {
   "cell_type": "markdown",
   "metadata": {},
   "source": [
    "- Define"
   ]
  },
  {
   "cell_type": "code",
   "execution_count": null,
   "metadata": {},
   "outputs": [],
   "source": [
    "class User1(Document):\n",
    "    meta = {\n",
    "        'db_alias': 'test_db',\n",
    "        'collection': 'user'\n",
    "    }\n",
    "\n",
    "    id_ = LongField(min_value=0, required=True, db_field='id', unique=True)\n",
    "    name = StringField(max_length=100, required=True)\n",
    "    gender = StringField(regex=r'[M|F]', max_length=1, required=True)\n",
    "    \n",
    "    def __str__(self):\n",
    "        return 'User(id={}, name=\"{}\", gender=\"{}\")'.format(self.id_, self.name, self.gender)"
   ]
  },
  {
   "cell_type": "markdown",
   "metadata": {},
   "source": [
    "- Test"
   ]
  },
  {
   "cell_type": "code",
   "execution_count": null,
   "metadata": {},
   "outputs": [],
   "source": [
    "try:\n",
    "    user = User1(id_=1, name='Alvin', gender='M')\n",
    "    user.save()\n",
    "    print('* user {} was created'.format(user))\n",
    "\n",
    "    users = User1.objects.all()\n",
    "    print('* there are {} objects created, and they are: {}'.format(len(users), format_array(users)))\n",
    "finally:\n",
    "    db.drop_collection('user')"
   ]
  },
  {
   "cell_type": "markdown",
   "metadata": {},
   "source": [
    "#### 3.1.2. Id of Document\n",
    "\n",
    "- `primary_key`: physics id of collection (_id property of collection)\n",
    "- `id`: readonly value mappting to primary key (cannot define `id` property for Document explicit)\n",
    "- `ObjectIdField`: object id type, required and primary key by default"
   ]
  },
  {
   "cell_type": "markdown",
   "metadata": {},
   "source": [
    "##### 3.1.2.1. `ObjectIdField`\n",
    "\n",
    "- Document define"
   ]
  },
  {
   "cell_type": "code",
   "execution_count": null,
   "metadata": {},
   "outputs": [],
   "source": [
    "class User2(Document):\n",
    "    meta = {\n",
    "        'db_alias': 'test_db',\n",
    "        'collection': 'user'\n",
    "    }\n",
    "\n",
    "    key = ObjectIdField() # key field, required and primary key by default\n",
    "    name = StringField(max_length=100, required=True)\n",
    "    gender = StringField(regex=r'[M|F]', max_length=1, required=True)\n",
    "\n",
    "    def __str__(self):\n",
    "        # self.id mappting to primary key (key field)\n",
    "        return 'User(id={}, name=\"{}\", gender=\"{}\")'.format(self.id, self.name, self.gender)"
   ]
  },
  {
   "cell_type": "markdown",
   "metadata": {},
   "source": [
    "- Test"
   ]
  },
  {
   "cell_type": "code",
   "execution_count": null,
   "metadata": {},
   "outputs": [],
   "source": [
    "try:\n",
    "    # ignore key property, use default ObjectId value\n",
    "\n",
    "    for n in range(1, 4):\n",
    "        user = User2(name='Alvin{}'.format(n), gender='M' if n % 2 == 0 else 'F')\n",
    "        user.save()\n",
    "\n",
    "    users = User2.objects.all()\n",
    "    print('* there are {} objects created, and they are: {}'.format(len(users), format_array(users)))\n",
    "\n",
    "    # use ObjectId object as value of key\n",
    "\n",
    "    for n in range(1, 4):\n",
    "        user = User2(key=ObjectId(), name='Alvin{}'.format(n), gender='M' if n % 2 == 0 else 'F')\n",
    "        user.save()\n",
    "\n",
    "    users = User2.objects.all()\n",
    "    print('\\n* there are {} objects created, and they are: {}'.format(len(users), format_array(users)))\n",
    "\n",
    "    # use user define ObjectId as value of key\n",
    "\n",
    "    for n in range(1, 4):\n",
    "        user = User2(key=ObjectId('{}'.format(n) * 24), name='Alvin{}'.format(n), gender='M' if n % 2 == 0 else 'F')\n",
    "        user.save()\n",
    "\n",
    "    users = User2.objects.all()\n",
    "    print('\\n* there are {} objects created, and they are: {}'.format(len(users), format_array(users)))\n",
    "finally:\n",
    "    db.drop_collection('user')"
   ]
  },
  {
   "cell_type": "markdown",
   "metadata": {},
   "source": [
    "##### 3.1.2.2. `primary_key`\n",
    "\n",
    "- Document define"
   ]
  },
  {
   "cell_type": "code",
   "execution_count": null,
   "metadata": {},
   "outputs": [],
   "source": [
    "class User3(Document):\n",
    "    meta = {\n",
    "        'db_alias': 'test_db',\n",
    "        'collection': 'user'\n",
    "    }\n",
    "\n",
    "    key = StringField(max_length=10, min_length=2, required=True, primary_key=True) # primary key\n",
    "    name = StringField(max_length=100, required=True)\n",
    "    gender = StringField(regex=r'[M|F]', max_length=1, required=True)\n",
    "\n",
    "    def __str__(self):\n",
    "        # self.id mappting to primary key (key field)\n",
    "        return 'User(id={}, name=\"{}\", gender=\"{}\")'.format(self.id, self.name, self.gender)"
   ]
  },
  {
   "cell_type": "markdown",
   "metadata": {},
   "source": [
    "- Test"
   ]
  },
  {
   "cell_type": "code",
   "execution_count": null,
   "metadata": {},
   "outputs": [],
   "source": [
    "try:\n",
    "    for n in range(1, 4):\n",
    "        user = User3(key='a' * (n + 2), name='Alvin{}'.format(n), gender='M' if n % 2 == 0 else 'F')\n",
    "        user.save()\n",
    "\n",
    "    users = User3.objects.all()\n",
    "    print('* there are {} objects created, and they are: {}'.format(len(users), format_array(users)))\n",
    "finally:\n",
    "    db.drop_collection('user')"
   ]
  },
  {
   "cell_type": "markdown",
   "metadata": {},
   "source": [
    "##### 3.1.2.3. `_id` field and primary key\n",
    "\n",
    "- Document define 1"
   ]
  },
  {
   "cell_type": "code",
   "execution_count": null,
   "metadata": {},
   "outputs": [],
   "source": [
    "class User4(Document):\n",
    "    meta = {\n",
    "        'db_alias': 'test_db',\n",
    "        'collection': 'user'\n",
    "    }\n",
    "\n",
    "    # _id field means _id property of collection\n",
    "    # if without 'primary_key', '_id' field cannot mapping to 'id' field\n",
    "    _id = StringField(required=True)\n",
    "    name = StringField(max_length=100, required=True)\n",
    "    gender = StringField(regex=r'[M|F]', max_length=1, required=True)\n",
    "\n",
    "    def __str__(self):\n",
    "        return 'User(id={}, name=\"{}\", gender=\"{}\")'.format(self._id, self.name, self.gender)"
   ]
  },
  {
   "cell_type": "markdown",
   "metadata": {},
   "source": [
    "- Test 1"
   ]
  },
  {
   "cell_type": "code",
   "execution_count": null,
   "metadata": {},
   "outputs": [],
   "source": [
    "try:\n",
    "    user = User4(_id='user_1', name='Alvin1', gender='M' if n % 2 == 0 else 'F')\n",
    "    user.save()\n",
    "\n",
    "    user = User4(_id='user_1', name='Alvin2', gender='M' if n % 2 == 0 else 'F')\n",
    "    user.save()  # save document with same _id, means update collection by same _id\n",
    "\n",
    "    users = User4.objects.all()\n",
    "    print('* there are {} objects created, and they are: {}'.format(len(users), format_array(users)))\n",
    "finally:\n",
    "    db.drop_collection('user')"
   ]
  },
  {
   "cell_type": "markdown",
   "metadata": {},
   "source": [
    "- Document define 2"
   ]
  },
  {
   "cell_type": "code",
   "execution_count": null,
   "metadata": {},
   "outputs": [],
   "source": [
    "class User5(Document):\n",
    "    meta = {\n",
    "        'db_alias': 'test_db',\n",
    "        'collection': 'user'\n",
    "    }\n",
    "\n",
    "    # if with 'primary_key', '_id' field can mapping to 'id' field\n",
    "    _id = StringField(required=True, primary_key=True)\n",
    "    name = StringField(max_length=100, required=True)\n",
    "    gender = StringField(regex=r'[M|F]', max_length=1, required=True)\n",
    "\n",
    "    def __str__(self):\n",
    "        return 'User(id={}, name=\"{}\", gender=\"{}\")'.format(self.id, self.name, self.gender)"
   ]
  },
  {
   "cell_type": "markdown",
   "metadata": {},
   "source": [
    "- Test 2"
   ]
  },
  {
   "cell_type": "code",
   "execution_count": null,
   "metadata": {},
   "outputs": [],
   "source": [
    "try:\n",
    "    user = User5(_id='user_1', name='Alvin1', gender='M' if n % 2 == 0 else 'F')\n",
    "    user.save()\n",
    "\n",
    "    user = User5(_id='user_1', name='Alvin2', gender='M' if n % 2 == 0 else 'F')\n",
    "    user.save() # save document with same primary key, means update collection by same primary key\n",
    "\n",
    "    users = User5.objects.all()\n",
    "    print('* there are {} objects created, and they are: {}'.format(len(users), format_array(users)))\n",
    "finally:\n",
    "    db.drop_collection('user')"
   ]
  },
  {
   "cell_type": "code",
   "execution_count": null,
   "metadata": {},
   "outputs": [],
   "source": [
    "engine.disconnect(alias='test_db')"
   ]
  }
 ],
 "metadata": {
  "kernelspec": {
   "display_name": "Python 3",
   "language": "python",
   "name": "python3"
  },
  "language_info": {
   "codemirror_mode": {
    "name": "ipython",
    "version": 3
   },
   "file_extension": ".py",
   "mimetype": "text/x-python",
   "name": "python",
   "nbconvert_exporter": "python",
   "pygments_lexer": "ipython3",
   "version": "3.7.5"
  }
 },
 "nbformat": 4,
 "nbformat_minor": 4
}
