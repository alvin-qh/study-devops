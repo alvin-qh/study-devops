{
 "cells": [
  {
   "cell_type": "markdown",
   "metadata": {},
   "source": [
    "# MongoDB"
   ]
  },
  {
   "cell_type": "markdown",
   "metadata": {},
   "source": [
    "## 1. Mongo setup"
   ]
  },
  {
   "cell_type": "markdown",
   "metadata": {},
   "source": [
    "### 1.1. Utils"
   ]
  },
  {
   "cell_type": "code",
   "execution_count": null,
   "metadata": {},
   "outputs": [],
   "source": [
    "from bson import json_util as json \n",
    "from pymongo.cursor import Cursor\n",
    "from bson import datetime\n",
    "import pytz\n",
    "\n",
    "def format_result(rs):\n",
    "    return '\\t{}'.format(json.dumps(rs, indent=2).replace('\\n', '\\n\\t'))\n",
    "\n",
    "def date_to_datetime(date):\n",
    "    return datetime.datetime.combine(date, datetime.datetime.min.time()).replace(tzinfo=pytz.utc)"
   ]
  },
  {
   "cell_type": "markdown",
   "metadata": {},
   "source": [
    "### 1.2. Make connection"
   ]
  },
  {
   "cell_type": "code",
   "execution_count": null,
   "metadata": {},
   "outputs": [],
   "source": [
    "from pymongo import MongoClient\n",
    "\n",
    "mongo = MongoClient(host='localhost', port=27017, maxPoolSize=5)\n",
    "print('* mongodb connect success: {}'.format(mongo))"
   ]
  },
  {
   "cell_type": "markdown",
   "metadata": {},
   "source": [
    "### 1.3. Get server status"
   ]
  },
  {
   "cell_type": "code",
   "execution_count": null,
   "metadata": {},
   "outputs": [],
   "source": [
    "connection_addr = mongo.address\n",
    "print('* connection address is: \"{}:{}\"'.format(*connection_addr))\n",
    "\n",
    "info = mongo.admin.command('serverStatus')\n",
    "print('* connections: current: {current}, available: {available}, total: {totalCreated}, activie: {active}'.format(**info['connections']))"
   ]
  },
  {
   "cell_type": "markdown",
   "metadata": {},
   "source": [
    "## 2. Database"
   ]
  },
  {
   "cell_type": "markdown",
   "metadata": {},
   "source": [
    "### 2.1. Create database"
   ]
  },
  {
   "cell_type": "code",
   "execution_count": null,
   "metadata": {},
   "outputs": [],
   "source": [
    "db = mongo['test_db']"
   ]
  },
  {
   "cell_type": "markdown",
   "metadata": {},
   "source": [
    "### 2.2. Delete database"
   ]
  },
  {
   "cell_type": "code",
   "execution_count": null,
   "metadata": {},
   "outputs": [],
   "source": [
    "db.command('dropDatabase')"
   ]
  },
  {
   "cell_type": "markdown",
   "metadata": {},
   "source": [
    "### 2.3. List database"
   ]
  },
  {
   "cell_type": "code",
   "execution_count": null,
   "metadata": {},
   "outputs": [],
   "source": [
    "db_names = mongo.list_database_names()\n",
    "print('* contain databases are: {}'.format(db_names));"
   ]
  },
  {
   "cell_type": "markdown",
   "metadata": {},
   "source": [
    "## 3. Collections"
   ]
  },
  {
   "cell_type": "markdown",
   "metadata": {},
   "source": [
    "### 3.1. Show all collections"
   ]
  },
  {
   "cell_type": "code",
   "execution_count": null,
   "metadata": {},
   "outputs": [],
   "source": [
    "collection_names = db.list_collection_names()\n",
    "print('* contain collections are: {}'.format(collection_names));"
   ]
  },
  {
   "cell_type": "markdown",
   "metadata": {},
   "source": [
    "### 3.2. Create collection"
   ]
  },
  {
   "cell_type": "code",
   "execution_count": null,
   "metadata": {},
   "outputs": [],
   "source": [
    "user_collection = db['user'];\n",
    "print('* collection of \"user\" is: {}'.format(user_collection));"
   ]
  },
  {
   "cell_type": "markdown",
   "metadata": {},
   "source": [
    "### 3.4. Insert data to collection"
   ]
  },
  {
   "cell_type": "markdown",
   "metadata": {},
   "source": [
    "#### 3.4.1. Insert one data"
   ]
  },
  {
   "cell_type": "code",
   "execution_count": null,
   "metadata": {},
   "outputs": [],
   "source": [
    "user = {'id': 1, 'name': 'Alvin', 'gender': 'M'}\n",
    "r = user_collection.insert_one(user)\n",
    "print('* insert user success, inserted id is: {}'.format(r.inserted_id))"
   ]
  },
  {
   "cell_type": "markdown",
   "metadata": {},
   "source": [
    "#### 3.4.2. Insert many data"
   ]
  },
  {
   "cell_type": "code",
   "execution_count": null,
   "metadata": {},
   "outputs": [],
   "source": [
    "users = [\n",
    "    {'id': 2, 'name': 'Emma', 'gender': 'F'},\n",
    "    {'id': 3, 'name': 'Lucy', 'gender': 'F'}\n",
    "]\n",
    "r = user_collection.insert_many(users)\n",
    "print('* insert user group success, inserted ids are: {}'.format(r.inserted_ids))"
   ]
  },
  {
   "cell_type": "markdown",
   "metadata": {},
   "source": [
    "#### 3.4.3. Insert data with id"
   ]
  },
  {
   "cell_type": "code",
   "execution_count": null,
   "metadata": {},
   "outputs": [],
   "source": [
    "user = {'_id': 'a', 'id': 4, 'name': 'Tom', 'gender': 'M'}\n",
    "r = user_collection.insert_one(user)\n",
    "print('* insert user success, inserted id is: {}'.format(r.inserted_id))\n",
    "\n",
    "users = [\n",
    "    {'_id': 'b', 'id': 5, 'name': 'Authur', 'gender': 'M'},\n",
    "    {'_id': 'c', 'id': 6, 'name': 'Kate', 'gender': 'F'},\n",
    "]\n",
    "r = user_collection.insert_many(users)\n",
    "print('* insert user group success, inserted ids are: {}'.format(r.inserted_ids))"
   ]
  },
  {
   "cell_type": "markdown",
   "metadata": {},
   "source": [
    "### 3.5. Query collection"
   ]
  },
  {
   "cell_type": "markdown",
   "metadata": {},
   "source": [
    "#### 3.5.1. Find all"
   ]
  },
  {
   "cell_type": "code",
   "execution_count": null,
   "metadata": {},
   "outputs": [],
   "source": [
    "with user_collection.find() as rs:\n",
    "    print('* find results are: \\n{}'.format(format_result(rs)))"
   ]
  },
  {
   "cell_type": "markdown",
   "metadata": {},
   "source": [
    "#### 3.5.2. find one"
   ]
  },
  {
   "cell_type": "code",
   "execution_count": null,
   "metadata": {},
   "outputs": [],
   "source": [
    "rs = user_collection.find_one()\n",
    "print('* find result is: \\n{}'.format(format_result(rs)))"
   ]
  },
  {
   "cell_type": "markdown",
   "metadata": {},
   "source": [
    "#### 3.5.3. find by properties"
   ]
  },
  {
   "cell_type": "code",
   "execution_count": null,
   "metadata": {},
   "outputs": [],
   "source": [
    "with user_collection.find({}) as rs:\n",
    "    print('* find result is: \\n{}'.format(format_result(rs)))\n",
    "\n",
    "with user_collection.find({'id': 1}) as rs:\n",
    "    print('\\n* find result is: \\n{}'.format(format_result(rs)))\n",
    "\n",
    "with user_collection.find({'id': 1, 'name': 'Alvin'}) as rs:\n",
    "    print('\\n* find result is: \\n{}'.format(format_result(rs)))"
   ]
  },
  {
   "cell_type": "markdown",
   "metadata": {},
   "source": [
    "#### 3.5.4. choose properties in result "
   ]
  },
  {
   "cell_type": "code",
   "execution_count": null,
   "metadata": {},
   "outputs": [],
   "source": [
    "with user_collection.find({'id': 1}, {'id': 1, 'name': 1}) as rs:\n",
    "    print('\\n* find result is: \\n{}'.format(format_result(rs)))"
   ]
  },
  {
   "cell_type": "markdown",
   "metadata": {},
   "source": [
    "#### 3.5.5. Condition operators"
   ]
  },
  {
   "cell_type": "code",
   "execution_count": null,
   "metadata": {},
   "outputs": [],
   "source": [
    "with user_collection.find(\n",
    "    {\n",
    "        'id': {\n",
    "            '$gt': 1,\n",
    "            '$lte': 3\n",
    "        }\n",
    "    }\n",
    ") as rs:\n",
    "    print('* find result is: \\n{}'.format(format_result(rs)))\n",
    "\n",
    "with user_collection.find(\n",
    "    {\n",
    "        '$or': [\n",
    "            {\n",
    "                'id': {\n",
    "                    '$gt': 1\n",
    "                }\n",
    "            },\n",
    "            {\n",
    "                'name': 'Alvin'\n",
    "            }\n",
    "        ]\n",
    "    }\n",
    ") as rs:\n",
    "    print('\\n* find result is: \\n{}'.format(format_result(rs)))\n",
    "\n",
    "with user_collection.find(\n",
    "    {\n",
    "        'id': {\n",
    "            '$in': [2, 3]\n",
    "        }\n",
    "    }\n",
    ") as rs:\n",
    "    print('\\n* find result is: \\n{}'.format(format_result(rs)))\n",
    "\n",
    "with user_collection.find(\n",
    "    {\n",
    "        'name': {\n",
    "            '$regex': r'[A|E]\\w+'\n",
    "        }\n",
    "    }\n",
    ") as rs:\n",
    "    print('\\n* find result is: \\n{}'.format(format_result(rs)))"
   ]
  },
  {
   "cell_type": "markdown",
   "metadata": {},
   "source": [
    "### 3.6. Update collection"
   ]
  },
  {
   "cell_type": "markdown",
   "metadata": {},
   "source": [
    "#### 3.6.1. Update whole collection"
   ]
  },
  {
   "cell_type": "code",
   "execution_count": null,
   "metadata": {},
   "outputs": [],
   "source": [
    "with user_collection.find({'id': 1}) as rs:\n",
    "    user = rs[0]\n",
    "print('* find user is:\\n{}'.format(format_result(user)))\n",
    "\n",
    "user['name'] = 'Alvin'\n",
    "user['address'] = 'Xi\\'an'\n",
    "\n",
    "user_collection.replace_one({'_id': user['_id']}, user)\n",
    "\n",
    "with user_collection.find({'id': 1}) as rs:\n",
    "    user = rs[0]\n",
    "print('\\n* find user is:\\n{}'.format(format_result(user)))"
   ]
  },
  {
   "cell_type": "markdown",
   "metadata": {},
   "source": [
    "#### 3.6.2. Update some property"
   ]
  },
  {
   "cell_type": "code",
   "execution_count": null,
   "metadata": {},
   "outputs": [],
   "source": [
    "r = user_collection.update_one(\n",
    "    {\n",
    "        'id': 1\n",
    "    },\n",
    "    {\n",
    "        '$set': {\n",
    "            'name': 'Alvin.Q',\n",
    "            'birthday': date_to_datetime(datetime.date(1981, 3, 17))\n",
    "        },\n",
    "        '$currentDate': {\n",
    "            'lastModified': True\n",
    "        }\n",
    "    }\n",
    ")\n",
    "print('* {} data updaated'.format(r.modified_count))\n",
    "\n",
    "rs = user_collection.find({'id': 1})\n",
    "print('* after updated, data is:\\n {}'.format(format_result(rs)))"
   ]
  },
  {
   "cell_type": "markdown",
   "metadata": {},
   "source": [
    "#### 3.6.2. Update many collection"
   ]
  },
  {
   "cell_type": "code",
   "execution_count": null,
   "metadata": {},
   "outputs": [],
   "source": [
    "r = user_collection.update_many(\n",
    "    {\n",
    "        'id': {\n",
    "            '$gt': 1\n",
    "        }\n",
    "    },\n",
    "    {\n",
    "        '$set': {\n",
    "            'type': 'STUDENT'\n",
    "        },\n",
    "        '$currentDate': {\n",
    "            'lastModified': True\n",
    "        }\n",
    "    }\n",
    ")\n",
    "print('* {} data updaated'.format(r.modified_count))\n",
    "\n",
    "rs = user_collection.find({'id': {'$gt': 1}})\n",
    "print('* after updated, data is:\\n {}'.format(format_result(rs)))"
   ]
  },
  {
   "cell_type": "markdown",
   "metadata": {},
   "source": [
    "#### 3.6.3 Update with upsert "
   ]
  },
  {
   "cell_type": "code",
   "execution_count": null,
   "metadata": {},
   "outputs": [],
   "source": [
    "r = user_collection.update_one(\n",
    "    {\n",
    "        'id': 100\n",
    "    },\n",
    "    {\n",
    "        '$set': {\n",
    "            'name': 'Michael',\n",
    "            'gender': 'M',\n",
    "            'birthday': date_to_datetime(datetime.date(1981, 3, 17)),\n",
    "            'type': 'STUDENT'\n",
    "        },\n",
    "        '$currentDate': {\n",
    "            'lastModified': True\n",
    "        }\n",
    "    }, \n",
    "    upsert=True\n",
    ")\n",
    "if r.upserted_id:\n",
    "    print('* update (with upsert) success, upserted id is: {}'.format(r.upserted_id))\n",
    "else:\n",
    "    print('* update (without upsert) success, modify count is: {}'.format(r.modified_count))\n",
    "    \n",
    "with user_collection.find({'id': 100}) as rs:\n",
    "    print('* after update, find result is:\\n{}'.format(format_result(rs)))"
   ]
  },
  {
   "cell_type": "markdown",
   "metadata": {},
   "source": [
    "### 3.7. Delete"
   ]
  },
  {
   "cell_type": "markdown",
   "metadata": {},
   "source": [
    "#### 3.7.1. Delete one"
   ]
  },
  {
   "cell_type": "code",
   "execution_count": null,
   "metadata": {},
   "outputs": [],
   "source": [
    "r = user_collection.delete_one({'id': 100})\n",
    "print('* delete count is: {}'.format(r.deleted_count))"
   ]
  },
  {
   "cell_type": "code",
   "execution_count": null,
   "metadata": {},
   "outputs": [],
   "source": []
  },
  {
   "cell_type": "code",
   "execution_count": null,
   "metadata": {},
   "outputs": [],
   "source": []
  },
  {
   "cell_type": "code",
   "execution_count": null,
   "metadata": {},
   "outputs": [],
   "source": []
  },
  {
   "cell_type": "code",
   "execution_count": null,
   "metadata": {},
   "outputs": [],
   "source": []
  },
  {
   "cell_type": "markdown",
   "metadata": {},
   "source": [
    "## N. Close connection"
   ]
  },
  {
   "cell_type": "code",
   "execution_count": null,
   "metadata": {},
   "outputs": [],
   "source": [
    "mongo.close()"
   ]
  }
 ],
 "metadata": {
  "kernelspec": {
   "display_name": "Python 3",
   "language": "python",
   "name": "python3"
  },
  "language_info": {
   "codemirror_mode": {
    "name": "ipython",
    "version": 3
   },
   "file_extension": ".py",
   "mimetype": "text/x-python",
   "name": "python",
   "nbconvert_exporter": "python",
   "pygments_lexer": "ipython3",
   "version": "3.7.5"
  }
 },
 "nbformat": 4,
 "nbformat_minor": 4
}
