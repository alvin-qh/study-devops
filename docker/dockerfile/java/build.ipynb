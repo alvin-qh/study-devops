{
 "cells": [
  {
   "cell_type": "code",
   "execution_count": null,
   "metadata": {},
   "outputs": [
    {
     "name": "stdout",
     "output_type": "stream",
     "text": [
      "Sending build context to Docker daemon  15.48MB\n",
      "Step 1/17 : FROM node:latest AS js-build\n",
      " ---> 2a0d8959c8e1\n",
      "Step 2/17 : WORKDIR /build/src\n",
      " ---> Using cache\n",
      " ---> 451a750d6a4d\n",
      "Step 3/17 : COPY project/web/src/front .\n",
      " ---> Using cache\n",
      " ---> b0783ba36b0a\n",
      "Step 4/17 : WORKDIR /build/src\n",
      " ---> Using cache\n",
      " ---> 17cdc5672a8b\n",
      "Step 5/17 : RUN set -ex;        npm config set registry https://registry.npm.taobao.org;        npm run setup;        npm run package\n",
      " ---> Using cache\n",
      " ---> 9035ec9184b3\n",
      "Step 6/17 : FROM study/gradlew:6.1.1 AS java-build\n",
      " ---> e3a93344437b\n",
      "Step 7/17 : WORKDIR /build\n",
      " ---> Using cache\n",
      " ---> 0c136e79f07d\n",
      "Step 8/17 : COPY project .\n",
      " ---> ff24e134803f\n",
      "Step 9/17 : COPY --from=js-build /build/main /build/web/src/main\n",
      " ---> 32d51e95d25c\n",
      "Step 10/17 : RUN set -ex;        ./gradlew bootjar\n",
      " ---> Running in 03769d55b315\n",
      "\u001b[91m+ ./gradlew bootjar\n",
      "\u001b[0mStarting a Gradle Daemon, 1 stopped Daemon could not be reused, use --status for details\n"
     ]
    }
   ],
   "source": [
    "docker build -t study/java:1.0 ."
   ]
  },
  {
   "cell_type": "code",
   "execution_count": null,
   "metadata": {},
   "outputs": [],
   "source": [
    "docker image prune -f"
   ]
  }
 ],
 "metadata": {
  "kernelspec": {
   "display_name": "Bash",
   "language": "bash",
   "name": "bash"
  },
  "language_info": {
   "codemirror_mode": "shell",
   "file_extension": ".sh",
   "mimetype": "text/x-sh",
   "name": "bash"
  }
 },
 "nbformat": 4,
 "nbformat_minor": 4
}
