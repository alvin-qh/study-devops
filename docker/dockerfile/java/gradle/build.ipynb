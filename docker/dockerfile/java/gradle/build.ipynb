{
 "cells": [
  {
   "cell_type": "markdown",
   "metadata": {},
   "source": [
    "# Build a gradle image"
   ]
  },
  {
   "cell_type": "markdown",
   "metadata": {},
   "source": [
    "## 1. Build image"
   ]
  },
  {
   "cell_type": "code",
   "execution_count": 2,
   "metadata": {},
   "outputs": [
    {
     "name": "stdout",
     "output_type": "stream",
     "text": [
      "Sending build context to Docker daemon  161.3kB\n",
      "Step 1/6 : FROM openjdk:8\n",
      " ---> 8c6851b1fc09\n",
      "Step 2/6 : WORKDIR /build\n",
      " ---> Using cache\n",
      " ---> 79f479a69919\n",
      "Step 3/6 : COPY files .\n",
      " ---> Using cache\n",
      " ---> 9ad89089e3c7\n",
      "Step 4/6 : RUN set -ex;        ./gradlew build;      ./gradlew --stop\n",
      " ---> Running in 7125e717fd56\n",
      "\u001b[91m+ ./gradlew build\n",
      "\u001b[0mDownloading https://services.gradle.org/distributions/gradle-6.1.1-bin.zip\n",
      ".........10%.........20%.........30%..........40%.........50%.........60%..........70%.........80%.........90%.........100%\n",
      "\n",
      "Welcome to Gradle 6.1.1!\n",
      "\n",
      "Here are the highlights of this release:\n",
      " - Reusable dependency cache\n",
      " - Configurable compilation order between Groovy/Kotlin/Java/Scala\n",
      " - New sample projects in Gradle's documentation\n",
      "\n",
      "For more details see https://docs.gradle.org/6.1.1/release-notes.html\n",
      "\n",
      "Starting a Gradle Daemon (subsequent builds will be faster)\n",
      "\n",
      "> Task :buildEnvironment\n",
      "\n",
      "------------------------------------------------------------\n",
      "Root project\n",
      "------------------------------------------------------------\n",
      "\n",
      "classpath\n",
      "No dependencies\n",
      "\n",
      "A web-based, searchable dependency report is available by adding the --scan option.\n",
      "\n",
      "BUILD SUCCESSFUL in 24s\n",
      "1 actionable task: 1 executed\n",
      "\u001b[91m+ ./gradlew --stop\n",
      "\u001b[0mStopping Daemon(s)\n",
      "1 Daemon stopped\n",
      "Removing intermediate container 7125e717fd56\n",
      " ---> 67cc385d1c30\n",
      "Step 5/6 : WORKDIR /\n",
      " ---> Running in a86670f47f20\n",
      "Removing intermediate container a86670f47f20\n",
      " ---> d1c7d57043f5\n",
      "Step 6/6 : RUN set -ex;        rm -rf /build\n",
      " ---> Running in d48cad3f76d3\n",
      "\u001b[91m+ rm -rf /build\n",
      "\u001b[0mRemoving intermediate container d48cad3f76d3\n",
      " ---> e3a93344437b\n",
      "Successfully built e3a93344437b\n",
      "Successfully tagged study/gradlew:6.1.1\n"
     ]
    }
   ],
   "source": [
    "docker build -t study/gradlew:6.1.1 ."
   ]
  },
  {
   "cell_type": "markdown",
   "metadata": {},
   "source": [
    "## 2. Remove unused images"
   ]
  },
  {
   "cell_type": "code",
   "execution_count": 3,
   "metadata": {},
   "outputs": [
    {
     "name": "stdout",
     "output_type": "stream",
     "text": [
      "Deleted Images:\n",
      "deleted: sha256:5a8b2b3aa0fb347dbad3c42a5e5548eeaff8395787d5b5685bd101ca41ad4689\n",
      "deleted: sha256:1a9435383d1300f5b47059601a1afe6c525fdd7b274afb1c958bc1fe2ed145c6\n",
      "deleted: sha256:74a180b86b681185690443929b5beaab0b03a519a7442a5970856d0213aff17f\n",
      "deleted: sha256:425695a0faf7c60d5c84b1cae562d61e76e8ae7e87c8bc075111c9c40d4215e0\n",
      "deleted: sha256:f17707ce18322dc74fe362ccc0a955e4b8d6eb0cfb6ea32b333797083f565284\n",
      "deleted: sha256:8fe022b7d7188e28f322a257dae2204f512f267a30b0c14de7ac1d16e281f8ee\n",
      "deleted: sha256:d26df0c3a48b190ebe65bcebb23756569c6a6f7d95da6fcaf06112a65bc63423\n",
      "deleted: sha256:6b9aecbf54b58a44d4d2fab7349f202396f5603d639242566384000f1121891e\n",
      "deleted: sha256:22e5e98c90f69015b43114ddcfecb7f3edace36e15999e36498ba319d2c256fb\n",
      "deleted: sha256:5fe5049d08113f4f7c4a79b8b2c2305c6dd015f4cc6c6b80c497ee8b8c8844d2\n",
      "deleted: sha256:e364f68826c58ea8b8f8700cf03a751d47c23874ebb87a5c2aa0bd372c6f495a\n",
      "deleted: sha256:6d3a1df4cbd2009da0cdeddfb250b869e43ffeae7a4840433b2d275af53388f0\n",
      "deleted: sha256:e00aa0123bc8f57450f77f5f032de49fc3704b4637c06b33d67750591568e618\n",
      "deleted: sha256:a13fe9726c52703d4b6e60162c5edd2fe1d85f0fe37eb416fd1b4376b8199e07\n",
      "deleted: sha256:ae928ad7309ed08d3a77f69bafe766699231b7a28416d33c1f25e2427de4b7fb\n",
      "deleted: sha256:45b864f7b8b0a6893566dccde417f814519672d1e1372e13f55e0a63ef36a639\n",
      "deleted: sha256:d9ede78e260b68264da45e996c5d62adc381e07de401db123570041665fc29db\n",
      "deleted: sha256:6448df7ebfbe42cc83c3c2c632513983195b199aaf3db1e1138ed38a4a5e6542\n",
      "deleted: sha256:7e5e4c7b096633bf0e10e0b739410df18cd8ebcfc149f9cf32c2971269962254\n",
      "deleted: sha256:89a59cd6ca9a2fdf769a15c0ab0ad0e8ca97eb9017959b0254c1377e20c2d737\n",
      "\n",
      "Total reclaimed space: 439.7MB\n"
     ]
    }
   ],
   "source": [
    "docker image prune -f"
   ]
  },
  {
   "cell_type": "markdown",
   "metadata": {},
   "source": [
    "## 3. Show gradle files in image"
   ]
  },
  {
   "cell_type": "code",
   "execution_count": 4,
   "metadata": {},
   "outputs": [
    {
     "name": "stdout",
     "output_type": "stream",
     "text": [
      "6.1.1  jars-3  journal-1  modules-2  transforms-2\n"
     ]
    }
   ],
   "source": [
    "docker run --name 'gradle' -it --rm study/gradlew:6.1.1 ls /root/.gradle/caches"
   ]
  }
 ],
 "metadata": {
  "kernelspec": {
   "display_name": "Bash",
   "language": "bash",
   "name": "bash"
  },
  "language_info": {
   "codemirror_mode": "shell",
   "file_extension": ".sh",
   "mimetype": "text/x-sh",
   "name": "bash"
  }
 },
 "nbformat": 4,
 "nbformat_minor": 4
}
