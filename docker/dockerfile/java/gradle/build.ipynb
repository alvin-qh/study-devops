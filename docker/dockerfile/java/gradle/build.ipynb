{
 "cells": [
  {
   "cell_type": "markdown",
   "metadata": {},
   "source": [
    "# Build a gradle image"
   ]
  },
  {
   "cell_type": "markdown",
   "metadata": {},
   "source": [
    "## 1. Build image"
   ]
  },
  {
   "cell_type": "code",
   "execution_count": 26,
   "metadata": {},
   "outputs": [
    {
     "name": "stdout",
     "output_type": "stream",
     "text": [
      "Sending build context to Docker daemon  162.8kB\n",
      "Step 1/6 : FROM openjdk:8\n",
      " ---> 8c6851b1fc09\n",
      "Step 2/6 : WORKDIR /build\n",
      " ---> Using cache\n",
      " ---> 79f479a69919\n",
      "Step 3/6 : COPY files .\n",
      " ---> Using cache\n",
      " ---> 9ad89089e3c7\n",
      "Step 4/6 : RUN set -ex;        ./gradlew build\n",
      " ---> Using cache\n",
      " ---> 5d07c220962f\n",
      "Step 5/6 : WORKDIR /\n",
      " ---> Using cache\n",
      " ---> f9fe8a4a8fdd\n",
      "Step 6/6 : RUN set -ex;        rm -rf /build\n",
      " ---> Using cache\n",
      " ---> f06ce135b987\n",
      "Successfully built f06ce135b987\n",
      "Successfully tagged study/gradlew:6.1.1\n"
     ]
    }
   ],
   "source": [
    "docker build -t study/gradlew:6.1.1 ."
   ]
  },
  {
   "cell_type": "markdown",
   "metadata": {},
   "source": [
    "## 2. Remove unused images"
   ]
  },
  {
   "cell_type": "code",
   "execution_count": 24,
   "metadata": {},
   "outputs": [
    {
     "name": "stdout",
     "output_type": "stream",
     "text": [
      "Total reclaimed space: 0B\n"
     ]
    }
   ],
   "source": [
    "docker image prune -f"
   ]
  },
  {
   "cell_type": "markdown",
   "metadata": {},
   "source": [
    "## 3. Show gradle files in image"
   ]
  },
  {
   "cell_type": "code",
   "execution_count": 27,
   "metadata": {},
   "outputs": [
    {
     "name": "stdout",
     "output_type": "stream",
     "text": [
      "6.1.1  jars-3  journal-1  modules-2  transforms-2\n"
     ]
    }
   ],
   "source": [
    "docker run --name 'gradle' -it --rm study/gradlew:6.1.1 ls /root/.gradle/caches"
   ]
  }
 ],
 "metadata": {
  "kernelspec": {
   "display_name": "Bash",
   "language": "bash",
   "name": "bash"
  },
  "language_info": {
   "codemirror_mode": "shell",
   "file_extension": ".sh",
   "mimetype": "text/x-sh",
   "name": "bash"
  }
 },
 "nbformat": 4,
 "nbformat_minor": 4
}
