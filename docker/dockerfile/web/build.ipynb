{
 "cells": [
  {
   "cell_type": "markdown",
   "metadata": {},
   "source": [
    "# Build and package web image"
   ]
  },
  {
   "cell_type": "markdown",
   "metadata": {},
   "source": [
    "## 1. Build dockerfile"
   ]
  },
  {
   "cell_type": "code",
   "execution_count": 7,
   "metadata": {},
   "outputs": [
    {
     "name": "stdout",
     "output_type": "stream",
     "text": [
      "Sending build context to Docker daemon  164.4MB\n",
      "Step 1/11 : FROM node:latest AS build\n",
      " ---> 2a0d8959c8e1\n",
      "Step 2/11 : WORKDIR /build\n",
      " ---> Running in 8b263eadbd3c\n",
      "Removing intermediate container 8b263eadbd3c\n",
      " ---> 5d5ee1180160\n",
      "Step 3/11 : COPY project .\n",
      " ---> ad484b9a6316\n",
      "Step 4/11 : RUN set -ex;                npm config set registry https://registry.npm.taobao.org;      npm run setup;          npm run package\n",
      " ---> Running in 4f16c2767375\n",
      "\u001b[91m+ npm config set registry https://registry.npm.taobao.org\n",
      "\u001b[0m\u001b[91m+ npm run setup\n",
      "\u001b[0m\n",
      "> web-docker@1.0.0 setup /build\n",
      "> npm install --update-binary\n",
      "\n",
      "\u001b[91mnpm\u001b[0m\u001b[91m \u001b[0m\u001b[91mWARN\u001b[0m\u001b[91m bootstrap@4.4.1 requires a peer of jquery@1.9.1 - 3 but none is installed. You must install peer dependencies yourself.\n",
      "\u001b[0m\u001b[91mnpm\u001b[0m\u001b[91m \u001b[0m\u001b[91mWARN\u001b[0m\u001b[91m bootstrap@4.4.1 requires a peer of popper.js@^1.16.0 but none is installed. You must install peer dependencies yourself.\n",
      "\u001b[0m\u001b[91mnpm WARN\u001b[0m\u001b[91m web-docker@1.0.0 No repository field.\n",
      "\u001b[0m\u001b[91m\n",
      "\u001b[0mup to date in 7.797s\n",
      "\n",
      "33 packages are looking for funding\n",
      "  run `npm fund` for details\n",
      "\n",
      "\u001b[91m+ npm run package\n",
      "\u001b[0m\n",
      "> web-docker@1.0.0 package /build\n",
      "> webpack --config webpack.config.babel.js\n",
      "\n",
      "\u001b[91m(node:52) DeprecationWarning: Tapable.plugin is deprecated. Use new API on `.hooks` instead\n",
      "\u001b[0m\n",
      "WebpackCleanupPlugin: 0 file(s) deleted.\n",
      "Hash: f85c7a7e5b6df1dc112d\n",
      "Version: webpack 4.41.5\n",
      "Time: 4048ms\n",
      "Built at: 01/25/2020 3:20:37 PM\n",
      "                        Asset       Size    Chunks                   Chunk Names\n",
      "                   index.html  505 bytes            [emitted]        \n",
      "         static/css/index.css  206 bytes     index  [emitted]        index\n",
      "     static/css/index.css.map   95 bytes     index  [emitted] [dev]  index\n",
      "        static/css/vendor.css    193 KiB    vendor  [emitted]        vendor\n",
      "    static/css/vendor.css.map   10.1 KiB    vendor  [emitted] [dev]  vendor\n",
      "static/images/docker-logo.png   2.45 KiB            [emitted]        \n",
      "     static/images/docker.png   25.4 KiB            [emitted]        \n",
      "       static/script/index.js   17.7 KiB     index  [emitted]        index\n",
      "   static/script/index.js.map    5.5 KiB     index  [emitted] [dev]  index\n",
      "    static/script/manifest.js   31.2 KiB  manifest  [emitted]        manifest\n",
      "static/script/manifest.js.map   32.3 KiB  manifest  [emitted] [dev]  manifest\n",
      "      static/script/vendor.js    362 KiB    vendor  [emitted]        vendor\n",
      "  static/script/vendor.js.map    436 KiB    vendor  [emitted] [dev]  vendor\n",
      "Entrypoint index = static/script/manifest.js static/script/manifest.js.map static/script/vendor.js static/css/vendor.css static/script/vendor.js.map static/css/vendor.css.map static/script/index.js static/css/index.css static/script/index.js.map static/css/index.css.map\n",
      "[0] multi vue common 40 bytes {vendor} [built]\n",
      "[1] multi ./src/script/index.ts 28 bytes {index} [built]\n",
      "[./node_modules/extract-text-webpack-plugin/dist/loader.js?!./node_modules/style-loader/dist/cjs.js!./node_modules/css-loader/dist/cjs.js!./node_modules/vue-loader/lib/loaders/stylePostLoader.js!./node_modules/less-loader/dist/cjs.js?!./node_modules/vue-loader/lib/index.js?!./src/script/widget/index.vue?vue&type=style&index=0&id=23cc977c&lang=less&scoped=true&] ./node_modules/extract-text-webpack-plugin/dist/loader.js??ref--3-0!./node_modules/style-loader/dist/cjs.js!./node_modules/css-loader/dist/cjs.js!./node_modules/vue-loader/lib/loaders/stylePostLoader.js!./node_modules/less-loader/dist/cjs.js??ref--3-3!./node_modules/vue-loader/lib??vue-loader-options!./src/script/widget/index.vue?vue&type=style&index=0&id=23cc977c&lang=less&scoped=true& 41 bytes {index} [built]\n",
      "[./node_modules/ts-loader/index.js?!./node_modules/vue-loader/lib/index.js?!./src/script/widget/index.vue?vue&type=script&lang=ts&] ./node_modules/ts-loader??ref--1-0!./node_modules/vue-loader/lib??vue-loader-options!./src/script/widget/index.vue?vue&type=script&lang=ts& 223 bytes {index} [built]\n",
      "[./node_modules/vue-loader/lib/loaders/templateLoader.js?!./node_modules/vue-loader/lib/index.js?!./src/script/widget/index.vue?vue&type=template&id=23cc977c&scoped=true&] ./node_modules/vue-loader/lib/loaders/templateLoader.js??vue-loader-options!./node_modules/vue-loader/lib??vue-loader-options!./src/script/widget/index.vue?vue&type=template&id=23cc977c&scoped=true& 918 bytes {index} [built]\n",
      "[./node_modules/webpack/buildin/global.js] (webpack)/buildin/global.js 472 bytes {vendor} [built]\n",
      "[./src/css/common.less] 41 bytes {vendor} [built]\n",
      "[./src/script/common.ts] 29 bytes {vendor} [built]\n",
      "[./src/script/index.ts] 151 bytes {index} [built]\n",
      "[./src/script/widget/image/docker-logo.png] 48 bytes {index} [built]\n",
      "[./src/script/widget/image/docker.png] 43 bytes {index} [built]\n",
      "[./src/script/widget/index.vue] 1.16 KiB {index} [built]\n",
      "[./src/script/widget/index.vue?vue&type=script&lang=ts&] 366 bytes {index} [built]\n",
      "[./src/script/widget/index.vue?vue&type=style&index=0&id=23cc977c&lang=less&scoped=true&] 904 bytes {index} [built]\n",
      "[./src/script/widget/index.vue?vue&type=template&id=23cc977c&scoped=true&] 221 bytes {index} [built]\n",
      "    + 6 hidden modules\n",
      "Child HtmlWebpackCompiler:\n",
      "     1 asset\n",
      "    Entrypoint HtmlWebpackPlugin_0 = __child-HtmlWebpackPlugin_0\n",
      "    [./node_modules/html-webpack-plugin/lib/loader.js!./src/template/template.html] 477 bytes {HtmlWebpackPlugin_0} [built]\n",
      "Child extract-text-webpack-plugin node_modules/extract-text-webpack-plugin/dist node_modules/css-loader/dist/cjs.js!node_modules/less-loader/dist/cjs.js??ref--3-3!src/css/common.less:\n",
      "    Entrypoint undefined = extract-text-webpack-plugin-output-filename\n",
      "    [./node_modules/css-loader/dist/cjs.js!./node_modules/less-loader/dist/cjs.js?!./src/css/common.less] ./node_modules/css-loader/dist/cjs.js!./node_modules/less-loader/dist/cjs.js??ref--3-3!./src/css/common.less 431 bytes {0} [built]\n",
      "        + 2 hidden modules\n",
      "Child extract-text-webpack-plugin node_modules/extract-text-webpack-plugin/dist node_modules/css-loader/dist/cjs.js!node_modules/vue-loader/lib/loaders/stylePostLoader.js!node_modules/less-loader/dist/cjs.js??ref--3-3!node_modules/vue-loader/lib/index.js??vue-loader-options!src/script/widget/index.vue?vue&type=style&index=0&id=23cc977c&lang=less&scoped=true&:\n",
      "    Entrypoint undefined = extract-text-webpack-plugin-output-filename\n",
      "    [./node_modules/css-loader/dist/cjs.js!./node_modules/vue-loader/lib/loaders/stylePostLoader.js!./node_modules/less-loader/dist/cjs.js?!./node_modules/vue-loader/lib/index.js?!./src/script/widget/index.vue?vue&type=style&index=0&id=23cc977c&lang=less&scoped=true&] ./node_modules/css-loader/dist/cjs.js!./node_modules/vue-loader/lib/loaders/stylePostLoader.js!./node_modules/less-loader/dist/cjs.js??ref--3-3!./node_modules/vue-loader/lib??vue-loader-options!./src/script/widget/index.vue?vue&type=style&index=0&id=23cc977c&lang=less&scoped=true& 416 bytes {0} [built]\n",
      "        + 1 hidden module\n",
      "Removing intermediate container 4f16c2767375\n",
      " ---> fee75dde0c07\n",
      "Step 5/11 : FROM nginx:latest as prod\n",
      " ---> 5ad3bd0e67a9\n",
      "Step 6/11 : COPY project/nginx.conf /etc/nginx/nginx.conf\n",
      " ---> Using cache\n",
      " ---> c631070b50a3\n",
      "Step 7/11 : COPY project/web.conf /etc/nginx/conf.d/default.conf\n",
      " ---> 6e45cba8c174\n",
      "Step 8/11 : RUN set -ex;            mkdir /logs;        chmod 777 /logs\n",
      " ---> Running in 4b251a449d54\n",
      "\u001b[91m+ mkdir /logs\n",
      "\u001b[0m\u001b[91m+ chmod 777 /logs\n",
      "\u001b[0mRemoving intermediate container 4b251a449d54\n",
      " ---> 24357833ec73\n",
      "Step 9/11 : WORKDIR /web\n",
      " ---> Running in 791fb6deda86\n",
      "Removing intermediate container 791fb6deda86\n",
      " ---> 7c3fdf37a321\n",
      "Step 10/11 : COPY --from=build /build/dist .\n",
      " ---> 7344a253ecdd\n",
      "Step 11/11 : EXPOSE 80\n",
      " ---> Running in 207d25e661a4\n",
      "Removing intermediate container 207d25e661a4\n",
      " ---> 055a06c33dbd\n",
      "Successfully built 055a06c33dbd\n",
      "Successfully tagged study/web:1.0\n"
     ]
    }
   ],
   "source": [
    "docker build -t study/web:1.0 ."
   ]
  },
  {
   "cell_type": "markdown",
   "metadata": {},
   "source": [
    "## 2. Remove unused images"
   ]
  },
  {
   "cell_type": "code",
   "execution_count": 3,
   "metadata": {},
   "outputs": [
    {
     "name": "stdout",
     "output_type": "stream",
     "text": [
      "Deleted Images:\n",
      "deleted: sha256:2cb242819c5f39800c59d89212cad49c1a72306936e5a67b0faafb007c4f5644\n",
      "deleted: sha256:b4c772cb4bc2ba0bcab3b6d7088da4f9b8a9d915eb5c7f56b600320e9bbb1a62\n",
      "deleted: sha256:831ab1e6aa231d7075af9f7f8552f40bcee77f55b43babcedbb382288c5339f1\n",
      "deleted: sha256:772a113afa56be1bae091a6774a8f5f49fa9997194acf74b97dfbd9292443eec\n",
      "deleted: sha256:42259a5160b6d3936b17d72e56b2ed2a2b1290095ec85e5e7c70d0547efe8da5\n",
      "deleted: sha256:494ac74fe7fe0cf62bf6e24314904069473be3dd8b6b103e522db819b7249f2d\n",
      "deleted: sha256:8b78e931f6a23ab37c264e2230f20034b76e52d644408f4288afe9a98abbd7bd\n",
      "deleted: sha256:dab3c859cfe717393283afd3667d38ecf9f0ca7c47a18960092085f8a79332a7\n",
      "deleted: sha256:b710fad44d2a38dfbb595e9d4208de256f21259c5c43c82f6bccc1486ae999ec\n",
      "deleted: sha256:4271b8ab3869ac9f7b92026c8470a9bbaeb80665efba5f75a9ba4b6ab6d3077e\n",
      "deleted: sha256:fc50af507a2be0d7c4f792963369afa88fc9fe62441ebbc1597cb100b980898f\n",
      "deleted: sha256:5ebb006c797dc9741dc49792730cdc83138c296d21a6b60c4514a824d7ec2494\n",
      "deleted: sha256:40f5c20985504b146e8a04610fe4c6f26954ebb037553c2d82d3fe33bc221f7f\n",
      "deleted: sha256:ff04a6e9c5288664f1c811467a8079295e2d91b1f81b29420fd546798747ec7b\n",
      "deleted: sha256:022e8534404cc3d2a34911e1528e2a6f4fbb8fb95b6f0bbdf43d48f12e7d3621\n",
      "\n",
      "Total reclaimed space: 174.1MB\n"
     ]
    }
   ],
   "source": [
    "docker image prune -f"
   ]
  },
  {
   "cell_type": "markdown",
   "metadata": {},
   "source": [
    "## 3. Show built image"
   ]
  },
  {
   "cell_type": "code",
   "execution_count": 8,
   "metadata": {},
   "outputs": [
    {
     "name": "stdout",
     "output_type": "stream",
     "text": [
      "REPOSITORY          TAG                 IMAGE ID            CREATED             SIZE\n",
      "study/web           1.0                 055a06c33dbd        7 seconds ago       128MB\n"
     ]
    }
   ],
   "source": [
    "docker image ls -f \"reference=study/web:*\""
   ]
  },
  {
   "cell_type": "markdown",
   "metadata": {},
   "source": [
    "## 4. Start \"study/web\" image"
   ]
  },
  {
   "cell_type": "code",
   "execution_count": 9,
   "metadata": {},
   "outputs": [
    {
     "name": "stdout",
     "output_type": "stream",
     "text": [
      "18680b35410f83ff0d5b44e6e128981d7da59e81b29f7ebe83928e6dcd6a09e8\n"
     ]
    }
   ],
   "source": [
    "mkdir -p logs\n",
    "docker run -itd --name 'nginx' --rm -p80:80 -v logs:/logs study/web:1.0"
   ]
  },
  {
   "cell_type": "markdown",
   "metadata": {},
   "source": [
    "## 5. Show container logs"
   ]
  },
  {
   "cell_type": "code",
   "execution_count": null,
   "metadata": {},
   "outputs": [],
   "source": [
    "docker logs 'nginx'"
   ]
  },
  {
   "cell_type": "markdown",
   "metadata": {},
   "source": [
    "## 6. Stop running container"
   ]
  },
  {
   "cell_type": "code",
   "execution_count": 6,
   "metadata": {},
   "outputs": [
    {
     "name": "stdout",
     "output_type": "stream",
     "text": [
      "nginx\n"
     ]
    }
   ],
   "source": [
    "docker stop 'nginx'"
   ]
  },
  {
   "cell_type": "markdown",
   "metadata": {},
   "source": [
    "## 7. Start image with docker-compose"
   ]
  },
  {
   "cell_type": "code",
   "execution_count": null,
   "metadata": {},
   "outputs": [],
   "source": [
    "docker-compose up -d"
   ]
  },
  {
   "cell_type": "markdown",
   "metadata": {},
   "source": [
    "## 8. Stop image with docker-compose"
   ]
  },
  {
   "cell_type": "code",
   "execution_count": null,
   "metadata": {},
   "outputs": [],
   "source": [
    "docker-compose down"
   ]
  },
  {
   "cell_type": "markdown",
   "metadata": {},
   "source": [
    "## Remove images"
   ]
  },
  {
   "cell_type": "code",
   "execution_count": null,
   "metadata": {},
   "outputs": [],
   "source": [
    "docker rmi -f nginx:latest\n",
    "docker rmi -f node:latest\n",
    "docker rmi -f study/web:1.0"
   ]
  }
 ],
 "metadata": {
  "kernelspec": {
   "display_name": "Bash",
   "language": "bash",
   "name": "bash"
  },
  "language_info": {
   "codemirror_mode": "shell",
   "file_extension": ".sh",
   "mimetype": "text/x-sh",
   "name": "bash"
  }
 },
 "nbformat": 4,
 "nbformat_minor": 4
}
